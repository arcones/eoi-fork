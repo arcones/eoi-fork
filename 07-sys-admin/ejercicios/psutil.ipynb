{
 "cells": [
  {
   "cell_type": "markdown",
   "id": "cbfbe3fd",
   "metadata": {
    "slideshow": {
     "slide_type": "slide"
    }
   },
   "source": [
    "# psutil — Process and system utilities"
   ]
  },
  {
   "cell_type": "markdown",
   "id": "ed1dc2cf",
   "metadata": {
    "slideshow": {
     "slide_type": "subslide"
    }
   },
   "source": [
    "- Biblioteca multiplataforma para recuperar información sobre procesos en ejecución y utilización del sistema (CPU, memoria, discos, red, sensores) en Python\n",
    "- Implementa muchas funcionalidades que ofrecen las herramientas clásicas de línea de comandos de UNIX como `ps`, `top`, `iotop`, `lsof`, `netstat`, `ifconfig`, `free` y otras\n",
    "\n",
    "<small><a href=\"https://psutil.readthedocs.io/en/latest/\">Documentación oficial</a></small>"
   ]
  },
  {
   "cell_type": "markdown",
   "id": "5c9e4466",
   "metadata": {
    "slideshow": {
     "slide_type": "subslide"
    }
   },
   "source": [
    "#### Instalación"
   ]
  },
  {
   "cell_type": "code",
   "execution_count": 4,
   "id": "96550adf",
   "metadata": {
    "slideshow": {
     "slide_type": "-"
    }
   },
   "outputs": [
    {
     "name": "stdout",
     "output_type": "stream",
     "text": [
      "Requirement already satisfied: psutil in /mnt/c/Users/alicia/workspace/eoi/eoi-administracion-sistemas/.venv/lib/python3.8/site-packages (5.8.0)\n",
      "\u001b[33mWARNING: You are using pip version 21.1.1; however, version 21.1.2 is available.\n",
      "You should consider upgrading via the '/mnt/c/Users/alicia/workspace/eoi/eoi-administracion-sistemas/.venv/bin/python3 -m pip install --upgrade pip' command.\u001b[0m\n"
     ]
    }
   ],
   "source": [
    "! pip install psutil"
   ]
  },
  {
   "cell_type": "markdown",
   "id": "1ea5c1f1",
   "metadata": {
    "slideshow": {
     "slide_type": "slide"
    }
   },
   "source": [
    "## CPU"
   ]
  },
  {
   "cell_type": "code",
   "execution_count": 11,
   "id": "e69f66d4",
   "metadata": {
    "slideshow": {
     "slide_type": "subslide"
    }
   },
   "outputs": [
    {
     "data": {
      "text/plain": [
       "12"
      ]
     },
     "execution_count": 11,
     "metadata": {},
     "output_type": "execute_result"
    }
   ],
   "source": [
    "import psutil\n",
    "\n",
    "# https://psutil.readthedocs.io/en/latest/index.html?highlight=cpu_times#psutil.cpu_count\n",
    "psutil.cpu_count()"
   ]
  },
  {
   "cell_type": "code",
   "execution_count": 10,
   "id": "8e5351da",
   "metadata": {},
   "outputs": [
    {
     "data": {
      "text/plain": [
       "scputimes(user=16.38, nice=0.0, system=49.05, idle=69481.99, iowait=1.93, irq=0.0, softirq=1.67, steal=0.0, guest=0.0, guest_nice=0.0)"
      ]
     },
     "execution_count": 10,
     "metadata": {},
     "output_type": "execute_result"
    }
   ],
   "source": [
    "# https://psutil.readthedocs.io/en/latest/index.html?highlight=cpu_times#psutil.cpu_times\n",
    "psutil.cpu_times()"
   ]
  },
  {
   "cell_type": "code",
   "execution_count": 6,
   "id": "c699de5e",
   "metadata": {},
   "outputs": [
    {
     "data": {
      "text/plain": [
       "scpustats(ctx_switches=4746097, interrupts=955112, soft_interrupts=1239296, syscalls=0)"
      ]
     },
     "execution_count": 6,
     "metadata": {},
     "output_type": "execute_result"
    }
   ],
   "source": [
    "psutil.cpu_stats()"
   ]
  },
  {
   "cell_type": "code",
   "execution_count": 7,
   "id": "c557e5b0",
   "metadata": {},
   "outputs": [
    {
     "name": "stdout",
     "output_type": "stream",
     "text": [
      "0.1\n",
      "0.0\n",
      "0.0\n"
     ]
    }
   ],
   "source": [
    "for x in range(3):\n",
    "    print(psutil.cpu_percent(interval=1))"
   ]
  },
  {
   "cell_type": "code",
   "execution_count": 8,
   "id": "c0aeea38",
   "metadata": {},
   "outputs": [
    {
     "name": "stdout",
     "output_type": "stream",
     "text": [
      "[0.0, 0.0, 0.0, 0.0, 1.0, 0.0, 0.0, 0.0, 0.0, 0.0, 0.0, 0.0]\n",
      "[0.0, 0.0, 0.0, 0.0, 0.0, 0.0, 0.0, 0.0, 0.0, 0.0, 0.0, 0.0]\n",
      "[0.0, 0.0, 0.0, 0.0, 0.0, 0.0, 0.0, 0.0, 0.0, 0.0, 0.0, 0.0]\n"
     ]
    }
   ],
   "source": [
    "for x in range(3):\n",
    "    print(psutil.cpu_percent(interval=1, percpu=True))"
   ]
  },
  {
   "cell_type": "code",
   "execution_count": 9,
   "id": "193955b0",
   "metadata": {},
   "outputs": [
    {
     "name": "stdout",
     "output_type": "stream",
     "text": [
      "scputimes(user=0.0, nice=0.0, system=0.1, idle=99.8, iowait=0.1, irq=0.0, softirq=0.0, steal=0.0, guest=0.0, guest_nice=0.0)\n",
      "scputimes(user=0.1, nice=0.0, system=0.1, idle=99.8, iowait=0.0, irq=0.0, softirq=0.0, steal=0.0, guest=0.0, guest_nice=0.0)\n",
      "scputimes(user=0.0, nice=0.0, system=0.0, idle=100.0, iowait=0.0, irq=0.0, softirq=0.0, steal=0.0, guest=0.0, guest_nice=0.0)\n"
     ]
    }
   ],
   "source": [
    "for x in range(3):\n",
    "    print(psutil.cpu_times_percent(interval=1, percpu=False))"
   ]
  },
  {
   "cell_type": "markdown",
   "id": "1f19be2a",
   "metadata": {},
   "source": [
    "## Memoria RAM"
   ]
  },
  {
   "cell_type": "code",
   "execution_count": 12,
   "id": "d8e60212",
   "metadata": {},
   "outputs": [
    {
     "data": {
      "text/plain": [
       "svmem(total=13184966656, available=12711305216, percent=3.6, used=276357120, free=12823138304, active=215101440, inactive=25030656, buffers=10919936, cached=74551296, shared=69632, slab=47034368)"
      ]
     },
     "execution_count": 12,
     "metadata": {},
     "output_type": "execute_result"
    }
   ],
   "source": [
    "psutil.virtual_memory()"
   ]
  },
  {
   "cell_type": "code",
   "execution_count": 13,
   "id": "c3fb7975",
   "metadata": {},
   "outputs": [
    {
     "data": {
      "text/plain": [
       "sswap(total=4294967296, used=0, free=4294967296, percent=0.0, sin=0, sout=0)"
      ]
     },
     "execution_count": 13,
     "metadata": {},
     "output_type": "execute_result"
    }
   ],
   "source": [
    "psutil.swap_memory()"
   ]
  },
  {
   "cell_type": "markdown",
   "id": "8a649039",
   "metadata": {},
   "source": [
    "## Discos"
   ]
  },
  {
   "cell_type": "code",
   "execution_count": 15,
   "id": "f1269667",
   "metadata": {},
   "outputs": [
    {
     "data": {
      "text/plain": [
       "[sdiskpart(device='/dev/sdb', mountpoint='/', fstype='ext4', opts='rw,relatime,discard,errors=remount-ro,data=ordered', maxfile=255, maxpath=4096)]"
      ]
     },
     "execution_count": 15,
     "metadata": {},
     "output_type": "execute_result"
    }
   ],
   "source": [
    "psutil.disk_partitions()"
   ]
  },
  {
   "cell_type": "code",
   "execution_count": 16,
   "id": "7ba1fb3c",
   "metadata": {},
   "outputs": [
    {
     "data": {
      "text/plain": [
       "sdiskusage(total=269490393088, used=2709807104, free=253019914240, percent=1.1)"
      ]
     },
     "execution_count": 16,
     "metadata": {},
     "output_type": "execute_result"
    }
   ],
   "source": [
    "psutil.disk_usage('/')"
   ]
  },
  {
   "cell_type": "code",
   "execution_count": 17,
   "id": "5a0899ac",
   "metadata": {},
   "outputs": [
    {
     "data": {
      "text/plain": [
       "sdiskio(read_count=1637, write_count=10221, read_bytes=55085056, write_bytes=4321062912, read_time=879, write_time=22573, read_merged_count=1591, write_merged_count=2276, busy_time=32750)"
      ]
     },
     "execution_count": 17,
     "metadata": {},
     "output_type": "execute_result"
    }
   ],
   "source": [
    "psutil.disk_io_counters(perdisk=False)"
   ]
  },
  {
   "cell_type": "markdown",
   "id": "ebe50ed6",
   "metadata": {},
   "source": [
    "## Network"
   ]
  },
  {
   "cell_type": "code",
   "execution_count": 18,
   "id": "7d3969b4",
   "metadata": {},
   "outputs": [
    {
     "data": {
      "text/plain": [
       "{'sit0': snetio(bytes_sent=0, bytes_recv=0, packets_sent=0, packets_recv=0, errin=0, errout=0, dropin=0, dropout=0),\n",
       " 'bond0': snetio(bytes_sent=0, bytes_recv=0, packets_sent=0, packets_recv=0, errin=0, errout=0, dropin=0, dropout=0),\n",
       " 'lo': snetio(bytes_sent=7093806, bytes_recv=7093806, packets_sent=6039, packets_recv=6039, errin=0, errout=0, dropin=0, dropout=0),\n",
       " 'eth0': snetio(bytes_sent=61250, bytes_recv=6461268, packets_sent=761, packets_recv=1339, errin=0, errout=0, dropin=0, dropout=0),\n",
       " 'dummy0': snetio(bytes_sent=0, bytes_recv=0, packets_sent=0, packets_recv=0, errin=0, errout=0, dropin=0, dropout=0)}"
      ]
     },
     "execution_count": 18,
     "metadata": {},
     "output_type": "execute_result"
    }
   ],
   "source": [
    "psutil.net_io_counters(pernic=True)"
   ]
  },
  {
   "cell_type": "code",
   "execution_count": 19,
   "id": "135af5a4",
   "metadata": {},
   "outputs": [
    {
     "data": {
      "text/plain": [
       "[sconn(fd=60, family=<AddressFamily.AF_INET: 2>, type=<SocketKind.SOCK_STREAM: 1>, laddr=addr(ip='127.0.0.1', port=8888), raddr=addr(ip='127.0.0.1', port=32882), status='ESTABLISHED', pid=240),\n",
       " sconn(fd=-1, family=<AddressFamily.AF_INET: 2>, type=<SocketKind.SOCK_STREAM: 1>, laddr=addr(ip='127.0.0.1', port=32882), raddr=addr(ip='127.0.0.1', port=8888), status='ESTABLISHED', pid=None),\n",
       " sconn(fd=4, family=<AddressFamily.AF_INET: 2>, type=<SocketKind.SOCK_STREAM: 1>, laddr=addr(ip='127.0.0.1', port=8888), raddr=(), status='LISTEN', pid=240),\n",
       " sconn(fd=32, family=<AddressFamily.AF_INET: 2>, type=<SocketKind.SOCK_STREAM: 1>, laddr=addr(ip='127.0.0.1', port=49972), raddr=addr(ip='127.0.0.1', port=33537), status='ESTABLISHED', pid=240),\n",
       " sconn(fd=64, family=<AddressFamily.AF_INET: 2>, type=<SocketKind.SOCK_STREAM: 1>, laddr=addr(ip='127.0.0.1', port=44762), raddr=addr(ip='127.0.0.1', port=51727), status='ESTABLISHED', pid=240),\n",
       " sconn(fd=39, family=<AddressFamily.AF_INET: 2>, type=<SocketKind.SOCK_STREAM: 1>, laddr=addr(ip='127.0.0.1', port=44779), raddr=addr(ip='127.0.0.1', port=33700), status='ESTABLISHED', pid=340),\n",
       " sconn(fd=42, family=<AddressFamily.AF_INET: 2>, type=<SocketKind.SOCK_STREAM: 1>, laddr=addr(ip='127.0.0.1', port=35719), raddr=addr(ip='127.0.0.1', port=48520), status='ESTABLISHED', pid=361),\n",
       " sconn(fd=42, family=<AddressFamily.AF_INET: 2>, type=<SocketKind.SOCK_STREAM: 1>, laddr=addr(ip='127.0.0.1', port=33700), raddr=addr(ip='127.0.0.1', port=44779), status='ESTABLISHED', pid=240),\n",
       " sconn(fd=11, family=<AddressFamily.AF_INET: 2>, type=<SocketKind.SOCK_STREAM: 1>, laddr=addr(ip='127.0.0.1', port=57827), raddr=(), status='LISTEN', pid=340),\n",
       " sconn(fd=15, family=<AddressFamily.AF_INET: 2>, type=<SocketKind.SOCK_STREAM: 1>, laddr=addr(ip='127.0.0.1', port=53721), raddr=(), status='LISTEN', pid=361),\n",
       " sconn(fd=43, family=<AddressFamily.AF_INET: 2>, type=<SocketKind.SOCK_STREAM: 1>, laddr=addr(ip='127.0.0.1', port=48211), raddr=addr(ip='127.0.0.1', port=58196), status='ESTABLISHED', pid=316),\n",
       " sconn(fd=39, family=<AddressFamily.AF_INET: 2>, type=<SocketKind.SOCK_STREAM: 1>, laddr=addr(ip='127.0.0.1', port=43958), raddr=addr(ip='127.0.0.1', port=54739), status='ESTABLISHED', pid=240),\n",
       " sconn(fd=11, family=<AddressFamily.AF_INET: 2>, type=<SocketKind.SOCK_STREAM: 1>, laddr=addr(ip='127.0.0.1', port=37585), raddr=(), status='LISTEN', pid=316),\n",
       " sconn(fd=39, family=<AddressFamily.AF_INET: 2>, type=<SocketKind.SOCK_STREAM: 1>, laddr=addr(ip='127.0.0.1', port=37585), raddr=addr(ip='127.0.0.1', port=39366), status='ESTABLISHED', pid=316),\n",
       " sconn(fd=44, family=<AddressFamily.AF_INET: 2>, type=<SocketKind.SOCK_STREAM: 1>, laddr=addr(ip='127.0.0.1', port=47570), raddr=addr(ip='127.0.0.1', port=43989), status='ESTABLISHED', pid=240),\n",
       " sconn(fd=70, family=<AddressFamily.AF_INET: 2>, type=<SocketKind.SOCK_STREAM: 1>, laddr=addr(ip='127.0.0.1', port=48520), raddr=addr(ip='127.0.0.1', port=35719), status='ESTABLISHED', pid=240),\n",
       " sconn(fd=58, family=<AddressFamily.AF_INET: 2>, type=<SocketKind.SOCK_STREAM: 1>, laddr=addr(ip='127.0.0.1', port=33514), raddr=addr(ip='127.0.0.1', port=44779), status='ESTABLISHED', pid=240),\n",
       " sconn(fd=63, family=<AddressFamily.AF_INET: 2>, type=<SocketKind.SOCK_STREAM: 1>, laddr=addr(ip='127.0.0.1', port=44758), raddr=addr(ip='127.0.0.1', port=51727), status='ESTABLISHED', pid=240),\n",
       " sconn(fd=22, family=<AddressFamily.AF_INET: 2>, type=<SocketKind.SOCK_STREAM: 1>, laddr=addr(ip='127.0.0.1', port=38401), raddr=(), status='LISTEN', pid=316),\n",
       " sconn(fd=15, family=<AddressFamily.AF_INET: 2>, type=<SocketKind.SOCK_STREAM: 1>, laddr=addr(ip='127.0.0.1', port=48211), raddr=(), status='LISTEN', pid=316),\n",
       " sconn(fd=13, family=<AddressFamily.AF_INET: 2>, type=<SocketKind.SOCK_STREAM: 1>, laddr=addr(ip='127.0.0.1', port=35719), raddr=(), status='LISTEN', pid=361),\n",
       " sconn(fd=68, family=<AddressFamily.AF_INET: 2>, type=<SocketKind.SOCK_STREAM: 1>, laddr=addr(ip='127.0.0.1', port=52554), raddr=addr(ip='127.0.0.1', port=53721), status='ESTABLISHED', pid=240),\n",
       " sconn(fd=41, family=<AddressFamily.AF_INET: 2>, type=<SocketKind.SOCK_STREAM: 1>, laddr=addr(ip='127.0.0.1', port=44779), raddr=addr(ip='127.0.0.1', port=33514), status='ESTABLISHED', pid=340),\n",
       " sconn(fd=30, family=<AddressFamily.AF_INET: 2>, type=<SocketKind.SOCK_STREAM: 1>, laddr=addr(ip='127.0.0.1', port=58190), raddr=addr(ip='127.0.0.1', port=48211), status='ESTABLISHED', pid=240),\n",
       " sconn(fd=-1, family=<AddressFamily.AF_INET: 2>, type=<SocketKind.SOCK_STREAM: 1>, laddr=addr(ip='127.0.0.1', port=33042), raddr=addr(ip='127.0.0.1', port=8888), status='TIME_WAIT', pid=None),\n",
       " sconn(fd=36, family=<AddressFamily.AF_INET: 2>, type=<SocketKind.SOCK_STREAM: 1>, laddr=addr(ip='127.0.0.1', port=53721), raddr=addr(ip='127.0.0.1', port=52544), status='ESTABLISHED', pid=361),\n",
       " sconn(fd=40, family=<AddressFamily.AF_INET: 2>, type=<SocketKind.SOCK_STREAM: 1>, laddr=addr(ip='127.0.0.1', port=50977), raddr=addr(ip='127.0.0.1', port=57612), status='ESTABLISHED', pid=361),\n",
       " sconn(fd=22, family=<AddressFamily.AF_INET: 2>, type=<SocketKind.SOCK_STREAM: 1>, laddr=addr(ip='127.0.0.1', port=41961), raddr=(), status='LISTEN', pid=340),\n",
       " sconn(fd=42, family=<AddressFamily.AF_INET: 2>, type=<SocketKind.SOCK_STREAM: 1>, laddr=addr(ip='127.0.0.1', port=54739), raddr=addr(ip='127.0.0.1', port=43778), status='ESTABLISHED', pid=340),\n",
       " sconn(fd=17, family=<AddressFamily.AF_INET: 2>, type=<SocketKind.SOCK_STREAM: 1>, laddr=addr(ip='127.0.0.1', port=54739), raddr=(), status='LISTEN', pid=340),\n",
       " sconn(fd=22, family=<AddressFamily.AF_INET: 2>, type=<SocketKind.SOCK_STREAM: 1>, laddr=addr(ip='127.0.0.1', port=33959), raddr=(), status='LISTEN', pid=361),\n",
       " sconn(fd=62, family=<AddressFamily.AF_INET: 2>, type=<SocketKind.SOCK_STREAM: 1>, laddr=addr(ip='127.0.0.1', port=52544), raddr=addr(ip='127.0.0.1', port=53721), status='ESTABLISHED', pid=240),\n",
       " sconn(fd=-1, family=<AddressFamily.AF_INET: 2>, type=<SocketKind.SOCK_STREAM: 1>, laddr=addr(ip='127.0.0.1', port=60606), raddr=addr(ip='127.0.0.1', port=8888), status='ESTABLISHED', pid=None),\n",
       " sconn(fd=38, family=<AddressFamily.AF_INET: 2>, type=<SocketKind.SOCK_STREAM: 1>, laddr=addr(ip='127.0.0.1', port=53595), raddr=addr(ip='127.0.0.1', port=44646), status='ESTABLISHED', pid=316),\n",
       " sconn(fd=35, family=<AddressFamily.AF_INET: 2>, type=<SocketKind.SOCK_STREAM: 1>, laddr=addr(ip='127.0.0.1', port=58196), raddr=addr(ip='127.0.0.1', port=48211), status='ESTABLISHED', pid=240),\n",
       " sconn(fd=40, family=<AddressFamily.AF_INET: 2>, type=<SocketKind.SOCK_STREAM: 1>, laddr=addr(ip='127.0.0.1', port=48211), raddr=addr(ip='127.0.0.1', port=58190), status='ESTABLISHED', pid=316),\n",
       " sconn(fd=17, family=<AddressFamily.AF_INET: 2>, type=<SocketKind.SOCK_STREAM: 1>, laddr=addr(ip='127.0.0.1', port=53595), raddr=(), status='LISTEN', pid=316),\n",
       " sconn(fd=26, family=<AddressFamily.AF_INET: 2>, type=<SocketKind.SOCK_STREAM: 1>, laddr=addr(ip='127.0.0.1', port=44646), raddr=addr(ip='127.0.0.1', port=53595), status='ESTABLISHED', pid=240),\n",
       " sconn(fd=30, family=<AddressFamily.AF_INET: 2>, type=<SocketKind.SOCK_STREAM: 1>, laddr=addr(ip='127.0.0.1', port=60465), raddr=(), status='LISTEN', pid=316),\n",
       " sconn(fd=37, family=<AddressFamily.AF_INET: 2>, type=<SocketKind.SOCK_STREAM: 1>, laddr=addr(ip='127.0.0.1', port=51727), raddr=addr(ip='127.0.0.1', port=44758), status='ESTABLISHED', pid=361),\n",
       " sconn(fd=30, family=<AddressFamily.AF_INET: 2>, type=<SocketKind.SOCK_STREAM: 1>, laddr=addr(ip='127.0.0.1', port=43913), raddr=(), status='LISTEN', pid=340),\n",
       " sconn(fd=-1, family=<AddressFamily.AF_INET: 2>, type=<SocketKind.SOCK_STREAM: 1>, laddr=addr(ip='127.0.0.1', port=33044), raddr=addr(ip='127.0.0.1', port=8888), status='TIME_WAIT', pid=None),\n",
       " sconn(fd=13, family=<AddressFamily.AF_INET: 2>, type=<SocketKind.SOCK_STREAM: 1>, laddr=addr(ip='127.0.0.1', port=33537), raddr=(), status='LISTEN', pid=316),\n",
       " sconn(fd=25, family=<AddressFamily.AF_INET: 2>, type=<SocketKind.SOCK_STREAM: 1>, laddr=addr(ip='127.0.0.1', port=44642), raddr=addr(ip='127.0.0.1', port=53595), status='ESTABLISHED', pid=240),\n",
       " sconn(fd=38, family=<AddressFamily.AF_INET: 2>, type=<SocketKind.SOCK_STREAM: 1>, laddr=addr(ip='127.0.0.1', port=51727), raddr=addr(ip='127.0.0.1', port=44762), status='ESTABLISHED', pid=361),\n",
       " sconn(fd=40, family=<AddressFamily.AF_INET: 2>, type=<SocketKind.SOCK_STREAM: 1>, laddr=addr(ip='127.0.0.1', port=43989), raddr=addr(ip='127.0.0.1', port=47570), status='ESTABLISHED', pid=340),\n",
       " sconn(fd=17, family=<AddressFamily.AF_INET: 2>, type=<SocketKind.SOCK_STREAM: 1>, laddr=addr(ip='127.0.0.1', port=51727), raddr=(), status='LISTEN', pid=361),\n",
       " sconn(fd=66, family=<AddressFamily.AF_INET: 2>, type=<SocketKind.SOCK_STREAM: 1>, laddr=addr(ip='127.0.0.1', port=57612), raddr=addr(ip='127.0.0.1', port=50977), status='ESTABLISHED', pid=240),\n",
       " sconn(fd=59, family=<AddressFamily.AF_INET: 2>, type=<SocketKind.SOCK_STREAM: 1>, laddr=addr(ip='127.0.0.1', port=43778), raddr=addr(ip='127.0.0.1', port=54739), status='ESTABLISHED', pid=240),\n",
       " sconn(fd=28, family=<AddressFamily.AF_INET: 2>, type=<SocketKind.SOCK_STREAM: 1>, laddr=addr(ip='127.0.0.1', port=39366), raddr=addr(ip='127.0.0.1', port=37585), status='ESTABLISHED', pid=240),\n",
       " sconn(fd=11, family=<AddressFamily.AF_INET: 2>, type=<SocketKind.SOCK_STREAM: 1>, laddr=addr(ip='127.0.0.1', port=50977), raddr=(), status='LISTEN', pid=361),\n",
       " sconn(fd=40, family=<AddressFamily.AF_INET: 2>, type=<SocketKind.SOCK_STREAM: 1>, laddr=addr(ip='127.0.0.1', port=35066), raddr=addr(ip='127.0.0.1', port=57827), status='ESTABLISHED', pid=240),\n",
       " sconn(fd=36, family=<AddressFamily.AF_INET: 2>, type=<SocketKind.SOCK_STREAM: 1>, laddr=addr(ip='127.0.0.1', port=54739), raddr=addr(ip='127.0.0.1', port=43958), status='ESTABLISHED', pid=340),\n",
       " sconn(fd=38, family=<AddressFamily.AF_INET: 2>, type=<SocketKind.SOCK_STREAM: 1>, laddr=addr(ip='127.0.0.1', port=57827), raddr=addr(ip='127.0.0.1', port=35066), status='ESTABLISHED', pid=340),\n",
       " sconn(fd=36, family=<AddressFamily.AF_INET: 2>, type=<SocketKind.SOCK_STREAM: 1>, laddr=addr(ip='127.0.0.1', port=53595), raddr=addr(ip='127.0.0.1', port=44642), status='ESTABLISHED', pid=316),\n",
       " sconn(fd=30, family=<AddressFamily.AF_INET: 2>, type=<SocketKind.SOCK_STREAM: 1>, laddr=addr(ip='127.0.0.1', port=59365), raddr=(), status='LISTEN', pid=361),\n",
       " sconn(fd=41, family=<AddressFamily.AF_INET: 2>, type=<SocketKind.SOCK_STREAM: 1>, laddr=addr(ip='127.0.0.1', port=33537), raddr=addr(ip='127.0.0.1', port=49972), status='ESTABLISHED', pid=316),\n",
       " sconn(fd=13, family=<AddressFamily.AF_INET: 2>, type=<SocketKind.SOCK_STREAM: 1>, laddr=addr(ip='127.0.0.1', port=43989), raddr=(), status='LISTEN', pid=340),\n",
       " sconn(fd=15, family=<AddressFamily.AF_INET: 2>, type=<SocketKind.SOCK_STREAM: 1>, laddr=addr(ip='127.0.0.1', port=44779), raddr=(), status='LISTEN', pid=340),\n",
       " sconn(fd=23, family=<AddressFamily.AF_INET: 2>, type=<SocketKind.SOCK_STREAM: 1>, laddr=addr(ip='127.0.0.1', port=8888), raddr=addr(ip='127.0.0.1', port=60606), status='ESTABLISHED', pid=240),\n",
       " sconn(fd=41, family=<AddressFamily.AF_INET: 2>, type=<SocketKind.SOCK_STREAM: 1>, laddr=addr(ip='127.0.0.1', port=53721), raddr=addr(ip='127.0.0.1', port=52554), status='ESTABLISHED', pid=361)]"
      ]
     },
     "execution_count": 19,
     "metadata": {},
     "output_type": "execute_result"
    }
   ],
   "source": [
    "psutil.net_connections(kind='tcp')"
   ]
  },
  {
   "cell_type": "code",
   "execution_count": 20,
   "id": "9d33f6b6",
   "metadata": {},
   "outputs": [
    {
     "data": {
      "text/plain": [
       "{'lo': [snicaddr(family=<AddressFamily.AF_INET: 2>, address='127.0.0.1', netmask='255.0.0.0', broadcast=None, ptp=None),\n",
       "  snicaddr(family=<AddressFamily.AF_INET6: 10>, address='::1', netmask='ffff:ffff:ffff:ffff:ffff:ffff:ffff:ffff', broadcast=None, ptp=None),\n",
       "  snicaddr(family=<AddressFamily.AF_PACKET: 17>, address='00:00:00:00:00:00', netmask=None, broadcast=None, ptp=None)],\n",
       " 'eth0': [snicaddr(family=<AddressFamily.AF_INET: 2>, address='172.17.46.150', netmask='255.255.255.240', broadcast='172.17.46.159', ptp=None),\n",
       "  snicaddr(family=<AddressFamily.AF_INET6: 10>, address='fe80::215:5dff:fec3:43f6%eth0', netmask='ffff:ffff:ffff:ffff::', broadcast=None, ptp=None),\n",
       "  snicaddr(family=<AddressFamily.AF_PACKET: 17>, address='00:15:5d:c3:43:f6', netmask=None, broadcast='ff:ff:ff:ff:ff:ff', ptp=None)],\n",
       " 'bond0': [snicaddr(family=<AddressFamily.AF_PACKET: 17>, address='c2:3e:6b:32:c9:eb', netmask=None, broadcast='ff:ff:ff:ff:ff:ff', ptp=None)],\n",
       " 'dummy0': [snicaddr(family=<AddressFamily.AF_PACKET: 17>, address='7a:a8:dc:45:68:bc', netmask=None, broadcast='ff:ff:ff:ff:ff:ff', ptp=None)],\n",
       " 'sit0': [snicaddr(family=<AddressFamily.AF_PACKET: 17>, address='00:00:00:00:00:00', netmask=None, broadcast=None, ptp=None)]}"
      ]
     },
     "execution_count": 20,
     "metadata": {},
     "output_type": "execute_result"
    }
   ],
   "source": [
    "psutil.net_if_addrs()"
   ]
  },
  {
   "cell_type": "code",
   "execution_count": 21,
   "id": "111f1adf",
   "metadata": {},
   "outputs": [
    {
     "data": {
      "text/plain": [
       "{'sit0': snicstats(isup=False, duplex=<NicDuplex.NIC_DUPLEX_UNKNOWN: 0>, speed=0, mtu=1480),\n",
       " 'bond0': snicstats(isup=False, duplex=<NicDuplex.NIC_DUPLEX_UNKNOWN: 0>, speed=65535, mtu=1500),\n",
       " 'lo': snicstats(isup=True, duplex=<NicDuplex.NIC_DUPLEX_UNKNOWN: 0>, speed=0, mtu=65536),\n",
       " 'eth0': snicstats(isup=True, duplex=<NicDuplex.NIC_DUPLEX_FULL: 2>, speed=10000, mtu=1500),\n",
       " 'dummy0': snicstats(isup=False, duplex=<NicDuplex.NIC_DUPLEX_UNKNOWN: 0>, speed=0, mtu=1500)}"
      ]
     },
     "execution_count": 21,
     "metadata": {},
     "output_type": "execute_result"
    }
   ],
   "source": [
    "psutil.net_if_stats()"
   ]
  }
 ],
 "metadata": {
  "celltoolbar": "Slideshow",
  "kernelspec": {
   "display_name": "Python 3 (ipykernel)",
   "language": "python",
   "name": "python3"
  },
  "language_info": {
   "codemirror_mode": {
    "name": "ipython",
    "version": 3
   },
   "file_extension": ".py",
   "mimetype": "text/x-python",
   "name": "python",
   "nbconvert_exporter": "python",
   "pygments_lexer": "ipython3",
   "version": "3.8.10"
  }
 },
 "nbformat": 4,
 "nbformat_minor": 5
}
