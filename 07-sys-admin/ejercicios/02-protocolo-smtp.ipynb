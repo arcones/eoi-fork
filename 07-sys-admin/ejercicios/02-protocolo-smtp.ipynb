{
 "cells": [
  {
   "cell_type": "markdown",
   "id": "8a193e5a",
   "metadata": {},
   "source": [
    "# Ejercicio protocolo smtp con smtplib"
   ]
  },
  {
   "cell_type": "markdown",
   "id": "4a73a430",
   "metadata": {},
   "source": [
    "Puedes encontrar toda la documentación de la librería `smtplib` en la web oficial de Python:\n",
    "[https://docs.python.org/3/library/smtplib.html](https://docs.python.org/3/library/smtplib.html)"
   ]
  },
  {
   "cell_type": "markdown",
   "id": "2ce39ebc",
   "metadata": {},
   "source": [
    "## Mi primer email con smtplib"
   ]
  },
  {
   "cell_type": "markdown",
   "id": "adb527a3",
   "metadata": {},
   "source": [
    "1. Arranca un servidor smtp en local con el siguiente comando:\n",
    "```\n",
    "python -m smtpd -c DebuggingServer -n localhost:1025\n",
    "```"
   ]
  },
  {
   "cell_type": "markdown",
   "id": "b092dbaa",
   "metadata": {},
   "source": [
    "2. Importa la librería smptlib "
   ]
  },
  {
   "cell_type": "code",
   "execution_count": 1,
   "id": "40fd87f7",
   "metadata": {},
   "outputs": [],
   "source": [
    "import smtplib"
   ]
  },
  {
   "cell_type": "markdown",
   "id": "76673b43",
   "metadata": {},
   "source": [
    "3. Define las variables `smtp_server` y `port`.  \n",
    "  - `smtp_server` debe contener un string con el nombre del servidor (mira el comando con el que has arrancado el servidor en el paso 1)\n",
    "  - `port` debe contener un número entero con el puerto donde se ha arrancado el servidor (paso 1 también)"
   ]
  },
  {
   "cell_type": "code",
   "execution_count": 2,
   "id": "c3c0e527",
   "metadata": {},
   "outputs": [],
   "source": [
    "smtp_server  = 'localhost'\n",
    "port = 1025"
   ]
  },
  {
   "cell_type": "markdown",
   "id": "e8dfb66f",
   "metadata": {},
   "source": [
    "4. Define las siguientes variables:\n",
    "  - `sender_email`: dirección del remitente (puedes inventartela) - tipo string\n",
    "  - `receiver_email`: direccion del destinatario (puedes inventartela también) - tipo string\n",
    "  - `message`: contenido del mensaje - \n",
    "    - puedes incluir el Subject en el cuerpo del mensaje\n",
    "    - si quieres enviar un mensaje de varias líneas, prueba a definir el mensaje entre tres comillas consecutivas\n",
    "    - por ejemplo:  \n",
    "      ```\n",
    "      message = \"\"\"\n",
    "          Subject: Hi there\n",
    "          This message is sent from Python.\"\"\"\n",
    "      ```"
   ]
  },
  {
   "cell_type": "code",
   "execution_count": 3,
   "id": "d2c536de",
   "metadata": {},
   "outputs": [],
   "source": [
    "sender_email = \"my@gmail.com\"\n",
    "receiver_email = \"your@gmail.com\"\n",
    "message = \"\"\"\n",
    "Subject: Hi there\n",
    "This message is sent from Python.\"\"\""
   ]
  },
  {
   "cell_type": "markdown",
   "id": "90573adf",
   "metadata": {},
   "source": [
    "5. Envía el mensaje al servidor utilizando el siguiente código:"
   ]
  },
  {
   "cell_type": "code",
   "execution_count": 4,
   "id": "400b932a",
   "metadata": {},
   "outputs": [],
   "source": [
    "with smtplib.SMTP(smtp_server, port) as server:\n",
    "    server.sendmail(sender_email, receiver_email, message)"
   ]
  },
  {
   "cell_type": "markdown",
   "id": "275dd9ab",
   "metadata": {},
   "source": [
    "En la consola donde habías arrancado el servidor, deberías ver algo como esto:\n",
    "```\n",
    "---------- MESSAGE FOLLOWS ----------                                                                                b'X-Peer: 127.0.0.1'                                                                                                 b''                                                                                                                  b'Subject: Hi there'                                                                                                 b'This message is sent from Python.'                                                                                 ------------ END MESSAGE ------------  \n",
    "```"
   ]
  },
  {
   "cell_type": "markdown",
   "id": "3f185fd7",
   "metadata": {},
   "source": [
    "6. Para entender bien qué pasos ha seguido el protocolo \"por dentro\", añade la siguiente línea al código justo antes de mandar el mensaje:\n",
    "```\n",
    "server.set_debuglevel(True)\n",
    "```"
   ]
  },
  {
   "cell_type": "code",
   "execution_count": 5,
   "id": "3291ea17",
   "metadata": {},
   "outputs": [
    {
     "name": "stderr",
     "output_type": "stream",
     "text": [
      "send: 'ehlo DESKTOP-89DFD33.localdomain\\r\\n'\n",
      "reply: b'250-DESKTOP-89DFD33.localdomain\\r\\n'\n",
      "reply: b'250-8BITMIME\\r\\n'\n",
      "reply: b'250 HELP\\r\\n'\n",
      "reply: retcode (250); Msg: b'DESKTOP-89DFD33.localdomain\\n8BITMIME\\nHELP'\n",
      "send: 'mail FROM:<my@gmail.com>\\r\\n'\n",
      "reply: b'250 OK\\r\\n'\n",
      "reply: retcode (250); Msg: b'OK'\n",
      "send: 'rcpt TO:<your@gmail.com>\\r\\n'\n",
      "reply: b'250 OK\\r\\n'\n",
      "reply: retcode (250); Msg: b'OK'\n",
      "send: 'data\\r\\n'\n",
      "reply: b'354 End data with <CR><LF>.<CR><LF>\\r\\n'\n",
      "reply: retcode (354); Msg: b'End data with <CR><LF>.<CR><LF>'\n",
      "data: (354, b'End data with <CR><LF>.<CR><LF>')\n",
      "send: b'\\r\\nSubject: Hi there\\r\\nThis message is sent from Python.\\r\\n.\\r\\n'\n",
      "reply: b'250 OK\\r\\n'\n",
      "reply: retcode (250); Msg: b'OK'\n",
      "data: (250, b'OK')\n",
      "send: 'QUIT\\r\\n'\n",
      "reply: b'221 Bye\\r\\n'\n",
      "reply: retcode (221); Msg: b'Bye'\n"
     ]
    }
   ],
   "source": [
    "with smtplib.SMTP(smtp_server, port) as server:\n",
    "    server.set_debuglevel(True)\n",
    "    server.sendmail(sender_email, receiver_email, message)"
   ]
  },
  {
   "cell_type": "markdown",
   "id": "4581191e",
   "metadata": {},
   "source": [
    "Compara la salida de la consola con el ejemplo de una comunicación SMTP [según la wikipedia](https://es.wikipedia.org/wiki/Protocolo_para_transferencia_simple_de_correo): (seguro que el tuyo tiene algún `retcode` de más, pero deberías encontrar bastantes similitudes)\n",
    "\n",
    "```\n",
    "S: 220 Servidor SMTP\n",
    "C: HELO miequipo.midominio.com\n",
    "S: 250 Hello, please to meet you\n",
    "C: MAIL FROM: <yo@midominio.com>\n",
    "S: 250 Ok\n",
    "C: RCPT TO: <destinatario@sudominio.com>\n",
    "S: 250 Ok\n",
    "C: DATA\n",
    "S: 354 End data with <CR><LF>.<CR><LF>\n",
    "C: Subject: Campo de asunto\n",
    "C: From: yo@midominio.com\n",
    "C: To: destinatario@sudominio.com\n",
    "C:\n",
    "C: Hola,\n",
    "C: Esto es una prueba.\n",
    "C: Hasta luego.\n",
    "C:\n",
    "C: .\n",
    "C: <CR><LF>.<CR><LF>\n",
    "S: 250 Ok: queued as 12345\n",
    "C: quit\n",
    "S: 221 Bye\n",
    "```"
   ]
  },
  {
   "cell_type": "markdown",
   "id": "fdc8667b",
   "metadata": {},
   "source": [
    "## Extendiendo el servidor smtp"
   ]
  },
  {
   "cell_type": "markdown",
   "id": "17e4326d",
   "metadata": {},
   "source": [
    "Como el servidor smtp por defecto no nos ofrece mucha información por defecto de la información que recibe, vamos a extender la funcionalidad de este servidor para que muestre por consola más datos.\n",
    "\n",
    "Usaremos la herencia para crearnos una clase que herede del módulo `smtpd.SMTPServer` y reescribiremos su método `process_message` para imprimir toda la información que le llega (tienes toda la info sobre ese módulo y esa función [aquí](https://docs.python.org/3/library/smtpd.html?highlight=smtpd#smtpd.SMTPServer.process_message))\n",
    "\n",
    "1. Para ello, crea un fichero llamado `email-server.py` e incluye el siguiente código en él:\n",
    "\n",
    "```python\n",
    "import smtpd\n",
    "import asyncore\n",
    "\n",
    "class CustomSMTPServer(smtpd.SMTPServer):\n",
    "\n",
    "    def process_message(self, peer, mailfrom, rcpttos, \\\n",
    "                        data, mail_options=None, rcpt_options=None):\n",
    "        print('Receiving message from:', peer)\n",
    "        print('Message addressed from:', mailfrom)\n",
    "        print('Message addressed to  :', rcpttos)\n",
    "        print('Message length        :', len(data))\n",
    "\n",
    "\n",
    "# Arranca el servidor en un proceso asíncrono\n",
    "server = CustomSMTPServer(('127.0.0.1', 1025), None)\n",
    "asyncore.loop()\n",
    "```"
   ]
  },
  {
   "cell_type": "markdown",
   "id": "711fbbc4",
   "metadata": {},
   "source": [
    "2. Arranca el servidor usando este fichero con el siguiente comando:\n",
    "```\n",
    "python ejercicios/email-server.py\n",
    "```"
   ]
  },
  {
   "cell_type": "markdown",
   "id": "57c78ca3",
   "metadata": {},
   "source": [
    "3. Reenvía el mensaje anterior al servidor:"
   ]
  },
  {
   "cell_type": "code",
   "execution_count": 6,
   "id": "9aedec73",
   "metadata": {},
   "outputs": [],
   "source": [
    "with smtplib.SMTP(smtp_server, port) as server:\n",
    "    server.sendmail(sender_email, receiver_email, message)"
   ]
  },
  {
   "cell_type": "markdown",
   "id": "19e4ae9d",
   "metadata": {},
   "source": [
    "Ahora verás más información en la consola, algo como esto:\n",
    "    \n",
    "```\n",
    "Receiving message from: ('127.0.0.1', 50488)                                                                         Message addressed from: my@gmail.com                                                                                 Message addressed to  : ['your@gmail.com']                                                                           Message length        : 52 \n",
    "```"
   ]
  }
 ],
 "metadata": {
  "kernelspec": {
   "display_name": "Python 3 (ipykernel)",
   "language": "python",
   "name": "python3"
  },
  "language_info": {
   "codemirror_mode": {
    "name": "ipython",
    "version": 3
   },
   "file_extension": ".py",
   "mimetype": "text/x-python",
   "name": "python",
   "nbconvert_exporter": "python",
   "pygments_lexer": "ipython3",
   "version": "3.8.10"
  }
 },
 "nbformat": 4,
 "nbformat_minor": 5
}
