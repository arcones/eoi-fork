{
 "cells": [
  {
   "cell_type": "markdown",
   "id": "cbfbe3fd",
   "metadata": {
    "slideshow": {
     "slide_type": "slide"
    }
   },
   "source": [
    "# psutil — Process and system utilities"
   ]
  },
  {
   "cell_type": "markdown",
   "id": "ed1dc2cf",
   "metadata": {
    "slideshow": {
     "slide_type": "subslide"
    }
   },
   "source": [
    "- Biblioteca multiplataforma para recuperar información sobre procesos en ejecución y utilización del sistema (CPU, memoria, discos, red, sensores) en Python\n",
    "- Implementa muchas funcionalidades que ofrecen las herramientas clásicas de línea de comandos de UNIX como `ps`, `top`, `iotop`, `lsof`, `netstat`, `ifconfig`, `free` y otras\n",
    "\n",
    "<small><a href=\"https://psutil.readthedocs.io/en/latest/\">Documentación oficial</a></small>"
   ]
  },
  {
   "cell_type": "markdown",
   "id": "5c9e4466",
   "metadata": {
    "slideshow": {
     "slide_type": "subslide"
    }
   },
   "source": [
    "#### Instalación"
   ]
  },
  {
   "cell_type": "code",
   "execution_count": 4,
   "id": "96550adf",
   "metadata": {
    "slideshow": {
     "slide_type": "-"
    }
   },
   "outputs": [
    {
     "name": "stdout",
     "output_type": "stream",
     "text": [
      "Requirement already satisfied: psutil in /mnt/c/Users/alicia/workspace/eoi/eoi-administracion-sistemas/.venv/lib/python3.8/site-packages (5.8.0)\n",
      "\u001b[33mWARNING: You are using pip version 21.1.1; however, version 21.1.2 is available.\n",
      "You should consider upgrading via the '/mnt/c/Users/alicia/workspace/eoi/eoi-administracion-sistemas/.venv/bin/python3 -m pip install --upgrade pip' command.\u001b[0m\n"
     ]
    }
   ],
   "source": [
    "! pip install psutil"
   ]
  },
  {
   "cell_type": "markdown",
   "id": "1f19be2a",
   "metadata": {
    "slideshow": {
     "slide_type": "slide"
    }
   },
   "source": [
    "## Memoria RAM\n",
    "Crea un script que muestre el estado de la memoria RAM, tanto en la memoria como en el swap, en el mismo formato que el comando `free` de ubuntu:\n",
    "```\n",
    "              total        used        free      shared  buff/cache   available\n",
    "Mem:       26047344     2024548    21625084        1532     2397712    23632008\n",
    "Swap:       7340032           0     7340032\n",
    "```"
   ]
  },
  {
   "cell_type": "markdown",
   "id": "475b4d67",
   "metadata": {
    "slideshow": {
     "slide_type": "subslide"
    }
   },
   "source": [
    "Consejos:\n",
    "- En la librería de psutils consulta las funciones de memoria [virtual_memory](https://psutil.readthedocs.io/en/latest/#psutil.virtual_memory) y [swap_memory](https://psutil.readthedocs.io/en/latest/#psutil.swap_memory)\n",
    "- Para imprimir los números alineados a la derecha o añadiendo espacios antes o después, busca 'string padding' en Python \n",
    "- (Para puntos extra) Para convertir bytes a \"formato humano\" (con la cifra en KB, MB o GB según corresponda) podéis implementar vuestra propia función... o podéis usar la librería [humanize](https://python-humanize.readthedocs.io/en/latest/filesize/)\n"
   ]
  },
  {
   "cell_type": "markdown",
   "id": "8a649039",
   "metadata": {
    "slideshow": {
     "slide_type": "slide"
    }
   },
   "source": [
    "## Discos\n",
    "Crea un script que muestre todas las *particiones* montadas en tu sistema con el mismo formato que el comando `df -h` de ubuntu:\n",
    "```\n",
    "Device                 Total       Used       Free  Use %       Type Mount\n",
    "/dev/sdb            269.5 GB     5.7 GB   250.0 GB     2%       ext4 /\n",
    "/dev/sdd            269.5 GB     3.9 GB   251.8 GB     1%       ext4 /mnt/wsl/docker-desktop-data/isocache\n",
    "/dev/sdc            269.5 GB   126.7 MB   255.6 GB     0%       ext4 /mnt/wsl/docker-desktop/docker-desktop-user-distro\n",
    "/dev/loop0          374.9 MB   374.9 MB    0 Bytes   100%    iso9660 /mnt/wsl/docker-desktop/cli-tools\n",
    "/dev/sdb            269.5 GB     5.7 GB   250.0 GB     2%       ext4 /mnt/wsl/docker-desktop-bind-mounts/Ubuntu/9d29\n",
    "```"
   ]
  },
  {
   "cell_type": "markdown",
   "id": "06fdfaa3",
   "metadata": {
    "slideshow": {
     "slide_type": "subslide"
    }
   },
   "source": [
    "Consejos:\n",
    "- En la librería de psutils consulta las funciones de memoria [disk_partitions](https://psutil.readthedocs.io/en/latest/#psutil.disk_partitions) y [disk_usage](https://psutil.readthedocs.io/en/latest/#psutil.disk_usage)\n",
    "- Para convertir bytes a \"formato humano\" (con la cifra en KB, MB o GB según corresponda) podéis implementar vuestra propia función... o podéis usar la librería [humanize](https://python-humanize.readthedocs.io/en/latest/filesize/)\n",
    "- Para imprimir los números alineados a la derecha o añadiendo espacios antes o después, busca 'string padding' en Python "
   ]
  },
  {
   "cell_type": "markdown",
   "id": "ebe50ed6",
   "metadata": {},
   "source": [
    "## Procesos\n",
    "Crea un script que muestre la información del proceso llamado 'python' en tu sistema con el siguiente formato:\n",
    "```\n",
    "Proceso: python\n",
    "ID: 7713\n",
    "Proceso padre: 604 - bash\n",
    "Ruta del proceso: /usr/bin/python3.8\n",
    "Llamado como: ['python', '07-sys-admin/ejercicios/psutils/process_detail.py']\n",
    "Llamado por el usuario: alicia\n",
    "Estado: running\n",
    "Creado el 2022-11-01 a las 14:23:37\n",
    "```"
   ]
  },
  {
   "cell_type": "markdown",
   "id": "df5ec7ed",
   "metadata": {},
   "source": [
    "Consejos:\n",
    "- Para encontrar el proceso `'python'` entre la lista de procesos, puedes iterar con [process_iter](https://psutil.readthedocs.io/en/latest/#psutil.process_iter) y comprobar cuál de ellos se llama `'python'`. Puedes hacer una función que dado el nombre del proceso te devuelva el objeto proceso\n",
    "- Las propiedades del objeto proceso las tienes en la [documentación](https://psutil.readthedocs.io/en/latest/#psutil.process_iter)"
   ]
  }
 ],
 "metadata": {
  "celltoolbar": "Slideshow",
  "kernelspec": {
   "display_name": "Python 3 (ipykernel)",
   "language": "python",
   "name": "python3"
  },
  "language_info": {
   "codemirror_mode": {
    "name": "ipython",
    "version": 3
   },
   "file_extension": ".py",
   "mimetype": "text/x-python",
   "name": "python",
   "nbconvert_exporter": "python",
   "pygments_lexer": "ipython3",
   "version": "3.8.10"
  }
 },
 "nbformat": 4,
 "nbformat_minor": 5
}
