{
 "cells": [
  {
   "cell_type": "markdown",
   "id": "informational-great",
   "metadata": {},
   "source": [
    "# 1 - Ansible: Primeros pasos"
   ]
  },
  {
   "cell_type": "markdown",
   "id": "latter-visit",
   "metadata": {},
   "source": [
    "En este ejercicio ......."
   ]
  },
  {
   "cell_type": "markdown",
   "id": "affected-austria",
   "metadata": {},
   "source": [
    "1. Mostrar el inventario actual (estará vacío)  \n",
    "```\n",
    "$ ansible --list-hosts all\n",
    "```\n",
    "   Salida:\n",
    "```\n",
    "[WARNING]: provided hosts list is empty, only localhost is available. Note that the implicit localhost does not match 'all'\n",
    "  hosts (0):\n",
    "```"
   ]
  },
  {
   "cell_type": "markdown",
   "id": "declared-petite",
   "metadata": {},
   "source": [
    "2. Crear un fichero que se llame `inventario.txt` con el siguiente contenido:  \n",
    "```\n",
    "myserver ansible_user=192.168.33.10 ansible_connection=local\n",
    "```"
   ]
  },
  {
   "cell_type": "markdown",
   "id": "parliamentary-maria",
   "metadata": {},
   "source": [
    "3. Mostrar el inventario según el fichero que acabamos de crear:\n",
    "```bash\n",
    "$ ansible -i inventario.txt --list-hosts all\n",
    "```\n",
    "   Salida:\n",
    "```\n",
    "  hosts (1):\n",
    "    myserver\n",
    "```"
   ]
  },
  {
   "cell_type": "markdown",
   "id": "distinguished-charger",
   "metadata": {},
   "source": [
    "4. Como no queremos tener que especificar el fichero de inventario cada vez que queramos operar con Ansible, crea un fichero en el mismo directorio que se llame `ansible.cfg` con el siguiente contenido:\n",
    "```bash\n",
    "[defaults]\n",
    "inventory = ./inventario.txt\n",
    "```"
   ]
  },
  {
   "cell_type": "markdown",
   "id": "gentle-draft",
   "metadata": {},
   "source": [
    "5. Mostrar el inventario sin especificar ningún fichero:  \n",
    "```\n",
    "$ ansible --list-hosts all\n",
    "```\n",
    "   Salida:\n",
    "```\n",
    "  hosts (1):\n",
    "    myserver\n",
    "```  "
   ]
  },
  {
   "cell_type": "markdown",
   "id": "cleared-hungarian",
   "metadata": {},
   "source": [
    "6. Lanzar una tarea a todos los servidores del inventario:\n",
    "```\n",
    "$ ansible -m ping all\n",
    "```\n",
    "   Salida:\n",
    "```\n",
    "vhost-default | UNREACHABLE! => {\n",
    "    \"changed\": false,\n",
    "    \"msg\": \"Failed to connect to the host via ssh: vagrant@192.168.33.10: Permission denied (publickey,password).\",\n",
    "    \"unreachable\": true\n",
    "}\n",
    "```"
   ]
  },
  {
   "cell_type": "markdown",
   "id": "monetary-passenger",
   "metadata": {},
   "source": [
    "7. Lanzar una tarea a todos los servidores del inventario pasando por parámetro que nos pida la contraseña ssh:\n",
    "```bash\n",
    "$ ansible -m ping all --ask-pass\n",
    "```\n",
    "   Salida:\n",
    "```\n",
    "SSH password: \n",
    "[DEPRECATION WARNING]: Distribution Ubuntu 18.04 on host vhost-default should use /usr/bin/python3, but is using /usr/bin/python for backward compatibility with prior Ansible releases. A future Ansible release \n",
    "will default to using the discovered platform python for this host. See https://docs.ansible.com/ansible/2.9/reference_appendices/interpreter_discovery.html for more information. This feature will be removed in\n",
    " version 2.12. Deprecation warnings can be disabled by setting deprecation_warnings=False in ansible.cfg.\n",
    "vhost-default | SUCCESS => {\n",
    "    \"ansible_facts\": {\n",
    "        \"discovered_interpreter_python\": \"/usr/bin/python\"\n",
    "    },\n",
    "    \"changed\": false,\n",
    "    \"ping\": \"pong\"\n",
    "}\n",
    "```"
   ]
  },
  {
   "cell_type": "markdown",
   "id": "99844a9c",
   "metadata": {},
   "source": [
    "# 2 - Ansible: Playbooks"
   ]
  },
  {
   "cell_type": "markdown",
   "id": "c075f50b",
   "metadata": {},
   "source": [
    "1. Crea una carpeta que se llama `playbooks`\n",
    "```\n",
    "$ mkdir playbooks\n",
    "$ cd playbooks\n",
    "```"
   ]
  },
  {
   "cell_type": "markdown",
   "id": "a248c604",
   "metadata": {},
   "source": [
    "2. Crear un fichero que se llame `basics.yml` con el siguiente contenido:\n",
    "\n",
    "```yaml\n",
    "---\n",
    "- hosts: all\n",
    "  tasks:\n",
    "    - name: hacer un ping\n",
    "      ping:\n",
    "        \n",
    "    - name: mostrar el nombre de la máquina\n",
    "      debug:\n",
    "        msg: \"Nombre de la máquina {{ ansible_hostname }}\"\n",
    "```"
   ]
  },
  {
   "cell_type": "markdown",
   "id": "caa642ec",
   "metadata": {},
   "source": [
    "3. Ejecutar el playbook con el siguiente comando:\n",
    "```\n",
    "$ ansible-playbook playbooks/basics.yml --ask-pass\n",
    "```\n",
    "   Salida:\n",
    "   \n",
    "```\n",
    "SSH password: \n",
    "```\n",
    "```\n",
    "PLAY [all] ******************************************************************************************************************************************************************************************\n",
    "```\n",
    "```\n",
    "TASK [Gathering Facts] ******************************************************************************************************************************************************************************\n",
    "[DEPRECATION WARNING]: Distribution Ubuntu 18.04 on host 192.168.33.10 should use /usr/bin/python3, but is using /usr/bin/python for backward compatibility with prior Ansible releases. A future \n",
    "Ansible release will default to using the discovered platform python for this host. See https://docs.ansible.com/ansible/2.9/reference_appendices/interpreter_discovery.html for more information. \n",
    "This feature will be removed in version 2.12. Deprecation warnings can be disabled by setting deprecation_warnings=False in ansible.cfg.\n",
    "ok: [192.168.33.10]\n",
    "```\n",
    "```\n",
    "TASK [hacer un ping] ********************************************************************************************************************************************************************************\n",
    "ok: [192.168.33.10]\n",
    "```\n",
    "```\n",
    "TASK [mostrar el nombre de la máquina] **************************************************************************************************************************************************************\n",
    "ok: [192.168.33.10] => {\n",
    "    \"msg\": \"Nombre de la máquina vagrant\"\n",
    "}\n",
    "PLAY RECAP ******************************************************************************************************************************************************************************************\n",
    "192.168.33.10              : ok=3    changed=0    unreachable=0    failed=0    skipped=0    rescued=0    ignored=0 \n",
    "```"
   ]
  }
 ],
 "metadata": {
  "kernelspec": {
   "display_name": "Python 3 (ipykernel)",
   "language": "python",
   "name": "python3"
  },
  "language_info": {
   "codemirror_mode": {
    "name": "ipython",
    "version": 3
   },
   "file_extension": ".py",
   "mimetype": "text/x-python",
   "name": "python",
   "nbconvert_exporter": "python",
   "pygments_lexer": "ipython3",
   "version": "3.8.10"
  },
  "vscode": {
   "interpreter": {
    "hash": "af5606afee4f1e62b711f39189189ff9ec69c4f667b755455a342c0e247ae634"
   }
  }
 },
 "nbformat": 4,
 "nbformat_minor": 5
}
