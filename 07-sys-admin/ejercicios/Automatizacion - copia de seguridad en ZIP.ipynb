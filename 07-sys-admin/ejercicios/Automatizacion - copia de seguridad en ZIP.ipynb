{
 "cells": [
  {
   "cell_type": "markdown",
   "id": "176901cf",
   "metadata": {},
   "source": [
    "### Copia de seguridad de una carpeta en un archivo ZIP\n",
    "\n",
    "Digamos que está trabajando en un proyecto cuyos archivos guarda en una carpeta llamada `/tmp/python-files/`. \n",
    "\n",
    "Le preocupa perder su trabajo, por lo que le gustaría crear \"instantáneas\" de archivos ZIP de toda la carpeta. \n",
    "\n",
    "Además te gustaría mantener diferentes versiones, por lo que desea que el nombre de archivo del archivo ZIP aumente cada vez que se crea; por ejemplo, python-files_1.zip, python-files_2.zip, python-files_3.zip, etc. \n",
    "\n",
    "Puede hacer esto a mano, pero es bastante molesto y podría equivocarse en la numeración accidental de los nombres de los archivos ZIP. Sería mucho más sencillo ejecutar un programa que haga esta aburrida tarea por ti.\n"
   ]
  },
  {
   "cell_type": "code",
   "execution_count": 6,
   "id": "71c07f01",
   "metadata": {},
   "outputs": [],
   "source": [
    "import zipfile, os\n",
    "\n",
    "working_folder = '/tmp/python-files/'\n",
    "zip_filename_template = 'python-files_'\n",
    "\n",
    "if not os.path.exists(working_folder):\n",
    "   os.makedirs(working_folder)\n",
    "\n",
    "# create some random stuff\n",
    "for i in range(5):\n",
    "    os.makedirs(os.path.join(working_folder, f'dir_{i}'))\n",
    "    \n",
    "for i in range(5):\n",
    "    with open(os.path.join(working_folder, f'dir_{i}', f'file_sample{i}.txt'), 'w') as file1:\n",
    "        file1.write('This is a file sample')"
   ]
  },
  {
   "cell_type": "code",
   "execution_count": 8,
   "id": "7d05b37d",
   "metadata": {},
   "outputs": [
    {
     "name": "stdout",
     "output_type": "stream",
     "text": [
      "Adding files in /tmp/python-files/...\n",
      "Adding files in /tmp/python-files/dir_2...\n",
      "Adding files in /tmp/python-files/dir_1...\n",
      "Adding files in /tmp/python-files/dir_4...\n",
      "Adding files in /tmp/python-files/dir_3...\n",
      "Adding files in /tmp/python-files/dir_0...\n",
      "Done. Created python-files_2.zip\n"
     ]
    }
   ],
   "source": [
    "backup_indexes = []\n",
    "for file in os.listdir(working_folder):\n",
    "    if file.startswith(zip_filename_template) and file.endswith('.zip'):\n",
    "        backup_indexes.append(int(file.replace(zip_filename_template, '').replace('.zip', '')))\n",
    "        \n",
    "last_backup_index = max(backup_indexes) if backup_indexes else 0\n",
    "next_backup_index = last_backup_index + 1\n",
    "\n",
    "# Create the zip file.\n",
    "zip_filename_index = f'{zip_filename_template}{next_backup_index}.zip'\n",
    "\n",
    "with zipfile.ZipFile(os.path.join(working_folder, zip_filename_index), 'w') as zip_file:\n",
    "\n",
    "    # Walk the entire folder tree and compress the files in each folder.\n",
    "    for foldername, subfolders, filenames in os.walk(working_folder):\n",
    "        print(f'Adding files in {foldername}...')\n",
    "        # Add the current folder to the ZIP file.\n",
    "        zip_file.write(foldername)\n",
    "\n",
    "        # Add all the files in this folder to the ZIP file.\n",
    "        for filename in filenames:\n",
    "            if filename.startswith(zip_filename_template) and filename.endswith('.zip'):\n",
    "                continue # don't backup the backup ZIP files\n",
    "            zip_file.write(os.path.join(foldername, filename))\n",
    "print(f'Done. Created {zip_filename_index}')"
   ]
  }
 ],
 "metadata": {
  "kernelspec": {
   "display_name": "Python 3 (ipykernel)",
   "language": "python",
   "name": "python3"
  },
  "language_info": {
   "codemirror_mode": {
    "name": "ipython",
    "version": 3
   },
   "file_extension": ".py",
   "mimetype": "text/x-python",
   "name": "python",
   "nbconvert_exporter": "python",
   "pygments_lexer": "ipython3",
   "version": "3.8.10"
  }
 },
 "nbformat": 4,
 "nbformat_minor": 5
}
