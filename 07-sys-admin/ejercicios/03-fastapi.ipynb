{
 "cells": [
  {
   "cell_type": "markdown",
   "id": "368080d5",
   "metadata": {},
   "source": [
    "# Tutorial FastAPI"
   ]
  },
  {
   "cell_type": "markdown",
   "id": "a3792cb3",
   "metadata": {},
   "source": [
    "## 1. Instala fastapi"
   ]
  },
  {
   "cell_type": "code",
   "execution_count": 1,
   "id": "91752908",
   "metadata": {},
   "outputs": [
    {
     "name": "stdout",
     "output_type": "stream",
     "text": [
      "Requirement already satisfied: fastapi in /home/alicia/workspace/eoi/.venv/lib/python3.8/site-packages (0.85.2)\n",
      "Requirement already satisfied: pydantic!=1.7,!=1.7.1,!=1.7.2,!=1.7.3,!=1.8,!=1.8.1,<2.0.0,>=1.6.2 in /home/alicia/workspace/eoi/.venv/lib/python3.8/site-packages (from fastapi) (1.10.2)\n",
      "Requirement already satisfied: starlette==0.20.4 in /home/alicia/workspace/eoi/.venv/lib/python3.8/site-packages (from fastapi) (0.20.4)\n",
      "Requirement already satisfied: typing-extensions>=4.1.0 in /home/alicia/workspace/eoi/.venv/lib/python3.8/site-packages (from pydantic!=1.7,!=1.7.1,!=1.7.2,!=1.7.3,!=1.8,!=1.8.1,<2.0.0,>=1.6.2->fastapi) (4.4.0)\n",
      "Requirement already satisfied: anyio<5,>=3.4.0 in /home/alicia/workspace/eoi/.venv/lib/python3.8/site-packages (from starlette==0.20.4->fastapi) (3.6.1)\n",
      "Requirement already satisfied: idna>=2.8 in /home/alicia/workspace/eoi/.venv/lib/python3.8/site-packages (from anyio<5,>=3.4.0->starlette==0.20.4->fastapi) (3.4)\n",
      "Requirement already satisfied: sniffio>=1.1 in /home/alicia/workspace/eoi/.venv/lib/python3.8/site-packages (from anyio<5,>=3.4.0->starlette==0.20.4->fastapi) (1.3.0)\n"
     ]
    }
   ],
   "source": [
    "!pip install fastapi"
   ]
  },
  {
   "cell_type": "markdown",
   "id": "c77c6bd7",
   "metadata": {},
   "source": [
    "## 2. Crea el fichero de código\n",
    "\n",
    "Crea un fichero llamado `main.py` con el siguiente código\n",
    "\n",
    "```python\n",
    "from fastapi import FastAPI\n",
    "\n",
    "app = FastAPI()\n",
    "\n",
    "\n",
    "@app.get(\"/\")\n",
    "async def root():\n",
    "    return {\"message\": \"Hello World\"}\n",
    "```\n",
    "\n",
    "Con este código estamos implementando la función GET del protocolo HTTP\n",
    "\n",
    "Recuerda que cuando construyes APIs, normalmente usas:\n",
    "\n",
    "- POST: para crear datos.\n",
    "- GET: para leer datos.\n",
    "- PUT: para actualizar datos.\n",
    "- DELETE: para borrar datos.\n",
    "\n",
    "Así que en OpenAPI, cada uno de estos métodos de HTTP es referido como una \"operación\".\n",
    "\n",
    "El @app.get(\"/\") le dice a FastAPI que la función que tiene justo debajo está a cargo de manejar los requests que van a:\n",
    "\n",
    "- el path /\n",
    "- usando una operación get\n",
    "\n",
    "\n",
    "Acerca del `async def`, tienes más información en la [documentación oficial](https://fastapi.tiangolo.com/es/async/#in-a-hurry)"
   ]
  },
  {
   "cell_type": "markdown",
   "id": "ba7920dd",
   "metadata": {},
   "source": [
    "## 3. Arranca el servidor web\n",
    "\n",
    "En la consola, ejecuta el siguiente comando para arrancar el servidor web uvicorn\n",
    "```\n",
    "$ uvicorn main:app --reload\n",
    "```\n",
    "\n",
    "> Si te aparece un error diciendo que `'uvicorn' not found, instálalo con `pip install uvicorn`"
   ]
  },
  {
   "cell_type": "markdown",
   "id": "eb3b5d0e",
   "metadata": {},
   "source": [
    "En el output, hay una línea que dice más o menos:\n",
    "```\n",
    "INFO:     Uvicorn running on http://127.0.0.1:8000 (Press CTRL+C to quit)\n",
    "```\n",
    "Esa línea muestra la URL dónde se está sirviendo tu app en tu maquina local."
   ]
  },
  {
   "cell_type": "markdown",
   "id": "01805680",
   "metadata": {},
   "source": [
    "## 4. Prueba la API con el navegador\n",
    "\n",
    "Abre tu navegador en http://127.0.0.1:8000 y verás la respuesta en JSON:\n",
    "``` \n",
    "{\"message\": \"Hello World\"}\n",
    "```"
   ]
  },
  {
   "cell_type": "markdown",
   "id": "6d045c3f",
   "metadata": {},
   "source": [
    "## 5. Documentación interactiva de la API\n",
    "FastAPI automáticamente ha generado 2 páginas con la documentación del método GET que acabamos crear:\n",
    "- http://127.0.0.1:8000/docs : Ahí verás la documentación automática e interactiva de la API generada por Swagger UI\n",
    "- http://127.0.0.1:8000/redoc : También puedes ver una documentación generada por ReDoc"
   ]
  },
  {
   "cell_type": "markdown",
   "id": "65914a3d",
   "metadata": {},
   "source": [
    "----"
   ]
  },
  {
   "cell_type": "markdown",
   "id": "280632f4",
   "metadata": {},
   "source": [
    "### Parámetros de path\n",
    "\n",
    "Puedes declarar los \"parámetros\" o \"variables\" con la misma sintaxis que usan los format strings de Python:\n",
    "```python\n",
    "from fastapi import FastAPI\n",
    "\n",
    "app = FastAPI()\n",
    "\n",
    "\n",
    "@app.get(\"/items/{item_id}\")\n",
    "async def read_item(item_id):\n",
    "    return {\"item_id\": item_id}\n",
    "```\n",
    "\n",
    "El valor del parámetro de path item_id será pasado a tu función como el argumento item_id.\n",
    "\n",
    "Entonces, si corres este ejemplo y vas a http://127.0.0.1:8000/items/foo, verás una respuesta de:\n",
    "```\n",
    "{\"item_id\":\"foo\"}\n",
    "```"
   ]
  },
  {
   "cell_type": "markdown",
   "id": "6151ee02",
   "metadata": {},
   "source": [
    "### Parámetros de path con tipos\n",
    "\n",
    "Puedes declarar el tipo de un parámetro de path en la función usando las anotaciones de tipos estándar de Python:\n",
    "\n",
    "```python\n",
    "from fastapi import FastAPI\n",
    "\n",
    "app = FastAPI()\n",
    "\n",
    "\n",
    "@app.get(\"/items/{item_id}\")\n",
    "async def read_item(item_id: int):\n",
    "    return {\"item_id\": item_id}\n",
    "```\n",
    "\n",
    "En este caso, item_id es declarado como un int.\n",
    "\n",
    "Si corres este ejemplo y abres tu navegador en http://127.0.0.1:8000/items/3 verás una respuesta de:\n",
    "```\n",
    "{\"item_id\":3}\n",
    "```\n",
    "\n",
    "Pero si abres tu navegador en http://127.0.0.1:8000/items/foo verás este error de HTTP:\n",
    "```json\n",
    "{\n",
    "    \"detail\": [\n",
    "        {\n",
    "            \"loc\": [\n",
    "                \"path\",\n",
    "                \"item_id\"\n",
    "            ],\n",
    "            \"msg\": \"value is not a valid integer\",\n",
    "            \"type\": \"type_error.integer\"\n",
    "        }\n",
    "    ]\n",
    "}\n",
    "```\n",
    "\n",
    "debido a que el parámetro de path item_id tenía el valor \"foo\", que no es un int."
   ]
  },
  {
   "cell_type": "markdown",
   "id": "6f544384",
   "metadata": {},
   "source": [
    "### Parámetros de query\n",
    "\n",
    "Cuando declaras otros parámetros de la función que no hacen parte de los parámetros de path estos se interpretan automáticamente como parámetros de \"query\".\n",
    "\n",
    "```python\n",
    "from fastapi import FastAPI\n",
    "\n",
    "app = FastAPI()\n",
    "\n",
    "fake_items_db = [{\"item_name\": \"Foo\"}, {\"item_name\": \"Bar\"}, {\"item_name\": \"Baz\"}]\n",
    "\n",
    "\n",
    "@app.get(\"/items/\")\n",
    "async def read_item(skip: int = 0, limit: int = 10):\n",
    "    return fake_items_db[skip : skip + limit]\n",
    "```\n",
    "\n",
    "El query es el conjunto de pares de key-value que van después del ? en la URL, separados por caracteres &.\n",
    "\n",
    "Por ejemplo, en la URL:\n",
    "\n",
    "http://127.0.0.1:8000/items/?skip=0&limit=10\n",
    "\n",
    "...los parámetros de query son:\n",
    "\n",
    "- skip: con un valor de 0\n",
    "- limit: con un valor de 10\n",
    "\n",
    "Dado que son parte de la URL son strings \"naturalmente\".\n",
    "\n",
    "Pero cuando los declaras con tipos de Python (en el ejemplo arriba, como int) son convertidos a ese tipo y son validados con él."
   ]
  },
  {
   "cell_type": "markdown",
   "id": "0db27fff",
   "metadata": {},
   "source": [
    "### Múltiples parámetros de path y query\n",
    "\n",
    "Puedes declarar múltiples parámetros de path y parámetros de query al mismo tiempo. FastAPI sabe cuál es cuál.\n",
    "\n",
    "No los tienes que declarar en un orden específico.\n",
    "\n",
    "Serán detectados por nombre:\n",
    "```python\n",
    "from typing import Union\n",
    "\n",
    "from fastapi import FastAPI\n",
    "\n",
    "app = FastAPI()\n",
    "\n",
    "\n",
    "@app.get(\"/users/{user_id}/items/{item_id}\")\n",
    "async def read_user_item(\n",
    "    user_id: int, item_id: str, q: Union[str, None] = None, short: bool = False\n",
    "):\n",
    "    item = {\"item_id\": item_id, \"owner_id\": user_id}\n",
    "    if q:\n",
    "        item.update({\"q\": q})\n",
    "    if not short:\n",
    "        item.update(\n",
    "            {\"description\": \"This is an amazing item that has a long description\"}\n",
    "        )\n",
    "    return item\n",
    "```"
   ]
  },
  {
   "cell_type": "markdown",
   "id": "df4c99a3",
   "metadata": {},
   "source": [
    "-----------"
   ]
  },
  {
   "cell_type": "markdown",
   "id": "276835ce",
   "metadata": {},
   "source": [
    "# Ejercicio\n",
    "\n",
    "1. Crea una api que devuelva los principales parámetros del hardware de la máquina utilizando la librería `psutil` y distintos paths para los distintos dispositivos hardware (cpu, memoria, disco, etc)\n",
    "\n",
    "    Por ejemplo:\n",
    "    \n",
    "    ```\n",
    "    $ curl http://127.0.0.1:8000/memory\n",
    "    \n",
    "    {\"memory\":{\"total\":\"26.7 GB\",\"used\":\"1.8 GB\",\"free\":\"23.2 GB\",\"shared\":\"1.6 MB\",\"buffers\":\"79.8 MB\",\"cache\":\"1.6 GB\"},\"swap\":{\"total\":\"7.5 GB\",\"used\":\"0 Bytes\",\"free\":\"7.5 GB\"}}\n",
    "    ```\n",
    "    \n",
    "    ```\n",
    "    $ curl http://127.0.0.1:8000/disk\n",
    "    \n",
    "    {\"/dev/sdb\":{\"Device\":\"/dev/sdb\",\"Total\":\"269.5 GB\",\"Used\":\"6.2 GB\",\"Free\":\"249.5 GB\",\"Use\":\"2.4%\",\"Type\":\"ext4\",\"Mount\":\"/mnt/wsl/docker-desktop-bind-mounts/Ubuntu/9d2933eb39e6e50baaf84a3687f05400f91fc47fa0b7c3963930f1e6d896ca9f\"},\"/dev/sdd\":{\"Device\":\"/dev/sdd\",\"Total\":\"269.5 GB\",\"Used\":\"3.9 GB\",\"Free\":\"251.8 GB\",\"Use\":\"1.5%\",\"Type\":\"ext4\",\"Mount\":\"/mnt/wsl/docker-desktop-data/isocache\"},\"/dev/sdc\":{\"Device\":\"/dev/sdc\",\"Total\":\"269.5 GB\",\"Used\":\"126.7 MB\",\"Free\":\"255.6 GB\",\"Use\":\"0.0%\",\"Type\":\"ext4\",\"Mount\":\"/mnt/wsl/docker-desktop/docker-desktop-user-distro\"},\"/dev/loop0\":{\"Device\":\"/dev/loop0\",\"Total\":\"374.9 MB\",\"Used\":\"374.9 MB\",\"Free\":\"0 Bytes\",\"Use\":\"100.0%\",\"Type\":\"iso9660\",\"Mount\":\"/mnt/wsl/docker-desktop/cli-tools\"}}\n",
    "    ```\n",
    "    \n",
    "2. Crea un endpoint al cual le pases un nombre de proceso y te devuelva toda la información relativa a ese proceso utilizando la librería `psutil`\n",
    "\n",
    "    Por ejemplo:\n",
    "    \n",
    "    ```\n",
    "    $ curl http://127.0.0.1:8000/process/uvicorn\n",
    "    {\"uvicorn\":{\"Proceso\":\"uvicorn\",\"ID\":1950,\"Proceso padre\":\"889 - bash\",\"Ruta del proceso\":\"/usr/bin/python3.8\",\"Llamado como\":[\"/home/alicia/workspace/eoi/.venv/bin/python3\",\"/home/alicia/workspace/eoi/.venv/bin/uvicorn\",\"main:app\",\"--reload\"],\"Llamado por el usuario\":\"alicia\",\"Estado\":\"sleeping\",\"Creado\":\"Creado el 2022-11-02 a las 20:06:59\"}}\n",
    "    ```"
   ]
  }
 ],
 "metadata": {
  "kernelspec": {
   "display_name": "Python 3 (ipykernel)",
   "language": "python",
   "name": "python3"
  },
  "language_info": {
   "codemirror_mode": {
    "name": "ipython",
    "version": 3
   },
   "file_extension": ".py",
   "mimetype": "text/x-python",
   "name": "python",
   "nbconvert_exporter": "python",
   "pygments_lexer": "ipython3",
   "version": "3.8.10"
  }
 },
 "nbformat": 4,
 "nbformat_minor": 5
}
