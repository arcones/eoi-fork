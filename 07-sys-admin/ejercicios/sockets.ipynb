{
 "cells": [
  {
   "cell_type": "markdown",
   "id": "10145d25",
   "metadata": {},
   "source": [
    "# Ejercicio 1. Conversacion unidireccional con sockets"
   ]
  },
  {
   "cell_type": "markdown",
   "id": "5e57ab19",
   "metadata": {},
   "source": [
    "## Parte del servidor"
   ]
  },
  {
   "cell_type": "markdown",
   "id": "9e67e499",
   "metadata": {},
   "source": [
    "Crea un fichero `echo-server.py` con el siguiente código:\n",
    "\n",
    "```python\n",
    "\n",
    "import socket\n",
    "\n",
    "HOST = '127.0.0.1'  # Dirección del host (localhost)\n",
    "PORT = 65432        # Puerto donde escuchará (los puertos no reservados son > 1023)\n",
    "\n",
    "with socket.socket(socket.AF_INET, socket.SOCK_STREAM) as s:\n",
    "    s.bind((HOST, PORT))      # asocia el socket con el host y el puerto\n",
    "    s.listen()                # establece el socket en model servidor\n",
    "    conn, addr = s.accept()   # devuelve una conexión abierta entre el servidor y el cliente, y la dirección del cliente\n",
    "    with conn:\n",
    "        print('Connected by', addr)\n",
    "        while True:\n",
    "            data = conn.recv(1024)  # recibe datos con una longitud máxima de 1024 bytes\n",
    "            if not data:\n",
    "                break\n",
    "            print('Received from client: ', repr(data))\n",
    "            conn.sendall(data)  # envía los datos al cliente\n",
    "```"
   ]
  },
  {
   "cell_type": "markdown",
   "id": "8d92e223",
   "metadata": {},
   "source": [
    "## Parte del cliente"
   ]
  },
  {
   "cell_type": "markdown",
   "id": "ce86ff3d",
   "metadata": {},
   "source": [
    "Crea un fichero `echo-client.py` con el siguiente código:\n",
    "\n",
    "```python\n",
    "#!/usr/bin/env python3\n",
    "import socket\n",
    "\n",
    "HOST = '127.0.0.1'  # Dirección del host (localhost)\n",
    "PORT = 65432        # Puerto donde transmitirá (el del server)\n",
    "\n",
    "\n",
    "with socket.socket(socket.AF_INET, socket.SOCK_STREAM) as s:\n",
    "    s.connect((HOST, PORT))  # conecta el socket a la dirección remota.\n",
    "    while True:\n",
    "        string = input('> ')  # solicita al usuario datos por consola\n",
    "        s.sendall(string.encode('utf-8'))   # envía los datos al cliente\n",
    "        data = s.recv(1024)  # recibe datos con una longitud máxima de 1024 bytes\n",
    "        \n",
    "        if data == b'exit':\n",
    "            break\n",
    "        print('Received', repr(data))    \n",
    "        \n",
    "```"
   ]
  },
  {
   "cell_type": "markdown",
   "id": "9da16aa7",
   "metadata": {},
   "source": [
    "## Ejecuta los scripts de cliente y servidor"
   ]
  },
  {
   "cell_type": "markdown",
   "id": "147f0785",
   "metadata": {},
   "source": [
    "Abre una terminal y lanza el script del servidor:\n",
    "```\n",
    "python echo-server.py\n",
    "````"
   ]
  },
  {
   "cell_type": "markdown",
   "id": "a64094c4",
   "metadata": {},
   "source": [
    "A continuación abre otra terminal y lanza el script del cliente:\n",
    "```\n",
    "python echo-client.py\n",
    "```"
   ]
  },
  {
   "cell_type": "markdown",
   "id": "5d0cf33e",
   "metadata": {},
   "source": [
    "Verás que el texto que introduzcas en la consola del cliente, la recive el servidor por las trazas de la consola"
   ]
  },
  {
   "cell_type": "markdown",
   "id": "2c8c71b1",
   "metadata": {},
   "source": [
    "# Ejercicio 2: Conversacion unidireccional con sockets (chat)"
   ]
  },
  {
   "cell_type": "markdown",
   "id": "0c9c750e",
   "metadata": {},
   "source": [
    "En este ejercicio vamos a crear un chat donde cliente y servidor se puedan comunicar entre ellos por mensajes introducidos por el usuario de manera direccional (vamos, un chat de toda la vida)\n",
    "\n",
    "Para ello:\n",
    "1. Copia los ficheros `echo-server.py` -> `chat-server.py` y `echo-client.py` -> `chat-client.py`\n",
    "2. Modifica lo necesario en cada fichero para que en cada una de las consolas, y por turnos, se muestre el mensaje que haya recibido del cliente o del servidor y a continuación se pida al usuario que introduzca un mensaje en la consola para enviarlo "
   ]
  }
 ],
 "metadata": {
  "kernelspec": {
   "display_name": "Python 3 (ipykernel)",
   "language": "python",
   "name": "python3"
  },
  "language_info": {
   "codemirror_mode": {
    "name": "ipython",
    "version": 3
   },
   "file_extension": ".py",
   "mimetype": "text/x-python",
   "name": "python",
   "nbconvert_exporter": "python",
   "pygments_lexer": "ipython3",
   "version": "3.8.10"
  }
 },
 "nbformat": 4,
 "nbformat_minor": 5
}
