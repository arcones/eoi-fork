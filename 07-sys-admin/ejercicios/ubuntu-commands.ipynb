{
 "cells": [
  {
   "cell_type": "markdown",
   "id": "96ea5ae3",
   "metadata": {
    "slideshow": {
     "slide_type": "slide"
    }
   },
   "source": [
    "# Introducción a Linux - Ubuntu"
   ]
  },
  {
   "cell_type": "markdown",
   "id": "49406c8d",
   "metadata": {
    "slideshow": {
     "slide_type": "subslide"
    }
   },
   "source": [
    "### La terminal\n",
    "\n",
    "Al abrir la terminal o símbolo del sistema, por defecto veremos algo como esto:\n",
    "```\n",
    "sammy@webapp:~$\n",
    "```"
   ]
  },
  {
   "cell_type": "markdown",
   "id": "933670e3",
   "metadata": {
    "slideshow": {
     "slide_type": "fragment"
    }
   },
   "source": [
    "- `sammy`: El nombre de usuario del usuario actual\n",
    "- `webapp`: El hostname del sistema\n",
    "- `~`: El directorio actual. En bash, la terminal por defecto de Ubuntu, el símbolo ~ representa a la carpeta home del usuario actual, en este caso /home/sammy\n",
    "- `$`: El simbolo de solicitud. Después de este símbolo, el usuario puede introducir los comandos"
   ]
  },
  {
   "cell_type": "markdown",
   "id": "e2615e2f",
   "metadata": {
    "slideshow": {
     "slide_type": "subslide"
    }
   },
   "source": [
    "### Ejecucion de comandos\n",
    "\n",
    "```\n",
    "ls -la /home\n",
    "```"
   ]
  },
  {
   "cell_type": "markdown",
   "id": "51eb8efd",
   "metadata": {
    "slideshow": {
     "slide_type": "fragment"
    }
   },
   "source": [
    "- `ls` muestra el contenido de un directorio\n",
    "- `-la` son 2 argumentos opcionales\n",
    "    * `-a` muestra todos los ficheros del path espeficicado, incluso los ficheros ocultos (los que empiezan por `.`) \n",
    "    * `-l` usa el formato de \"lista larga\" para mostrar el resultado\n",
    "- `\\home` indica el directorio del que se mostrará el contenido \n",
    "\n",
    "Para ver las instrucciones y parámetros de un comando, usar `man` y a continuación el nombre del comando "
   ]
  },
  {
   "cell_type": "markdown",
   "id": "4ba86f19",
   "metadata": {
    "slideshow": {
     "slide_type": "subslide"
    }
   },
   "source": [
    "### Variables de entorno\n",
    "\n",
    "Una variable de entorno es una variable dinámica que puede afectar al comportamiento de los procesos en ejecución en un ordenador. Son parte del entorno en el que se ejecuta un proceso.\n",
    "\n",
    "Para visualizar las variables de entorno de una sesión de terminal:\n",
    "```\n",
    "env\n",
    "```"
   ]
  },
  {
   "cell_type": "markdown",
   "id": "7fea0fe4",
   "metadata": {},
   "source": [
    "Para visualizar una variable en concreta o utilizarla en un comando\n",
    "```\n",
    "echo $PATH\n",
    "cd $HOME\n",
    "```"
   ]
  },
  {
   "cell_type": "markdown",
   "id": "5074e4eb",
   "metadata": {},
   "source": [
    "Para crear una nueva variable de entorno o cambiar el valor de una de ellas:\n",
    "```\n",
    "VAR=value\n",
    "export PATH=$PATH:/opt/app/bin\n",
    "```"
   ]
  },
  {
   "cell_type": "markdown",
   "id": "84bac2e4",
   "metadata": {},
   "source": [
    "### Navegar por los ficheros del sistema\n",
    "Para visualizar el path actual\n",
    "```\n",
    "pwd\n",
    "```"
   ]
  },
  {
   "cell_type": "markdown",
   "id": "1a155c16",
   "metadata": {},
   "source": [
    "Para explorar el contenido de un directorio (si no le pasamos la ruta a explorar, ejecutará el comando sobre el path actual\n",
    "```\n",
    "ls\n",
    "ls -l\n",
    "ls -a\n",
    "```"
   ]
  },
  {
   "cell_type": "markdown",
   "id": "d6f46d19",
   "metadata": {},
   "source": [
    "### Navegar por los ficheros del sistema\n",
    "Para cambiar el directorio activo\n",
    "```\n",
    "cd /usr/share\n",
    "cd en/LC_MESSAGES\n",
    "cd ..\n",
    "cd\n",
    "```"
   ]
  },
  {
   "cell_type": "markdown",
   "id": "d3f620cc",
   "metadata": {},
   "source": [
    "### Ver el contenido de un fichero\n",
    "```\n",
    "less /etc/services\n",
    "cat /etc/services\n",
    "tail -f /etc/services\n",
    "```"
   ]
  },
  {
   "cell_type": "markdown",
   "id": "00c81ba0",
   "metadata": {},
   "source": [
    "### Crear un fichero\n",
    "\n",
    "`touch` crea un fichero vacío\n",
    "```\n",
    "touch file1\n",
    "```\n",
    "\n",
    "\n",
    "```\n",
    "touch /home/demo/file2 /home/demo/file3\n",
    "ls\n",
    "```\n"
   ]
  },
  {
   "cell_type": "markdown",
   "id": "7f348c0f",
   "metadata": {},
   "source": [
    "### Crear un directorio\n",
    "```\n",
    "cd\n",
    "mkdir test\n",
    "mkdir test/example\n",
    "mkdir -p some/other/directories\n",
    "```"
   ]
  },
  {
   "cell_type": "markdown",
   "id": "e76a2402",
   "metadata": {},
   "source": [
    "### Mover o renombrar ficheros o directorios\n",
    "```\n",
    "mv file1 test\n",
    "cd\n",
    "mv test/file1 .\n",
    "mv test testing\n",
    "```"
   ]
  },
  {
   "cell_type": "markdown",
   "id": "004e318e",
   "metadata": {},
   "source": [
    "### Copiar ficheros o directorios\n",
    "```\n",
    "cp file3 file4\n",
    "cp -r some again\n",
    "cp file1 again\n",
    "```"
   ]
  },
  {
   "cell_type": "markdown",
   "id": "fbadc997",
   "metadata": {},
   "source": [
    "### Eliminar ficheros o directorios\n",
    "```\n",
    "rm file4\n",
    "rmdir testing/example\n",
    "rm -r again\n",
    "```"
   ]
  },
  {
   "cell_type": "markdown",
   "id": "de4a8bb9",
   "metadata": {},
   "source": [
    "### Editar ficheros\n",
    "```\n",
    "nano file1\n",
    "```\n",
    "\n",
    "```\n",
    "vi file1\n",
    "```"
   ]
  }
 ],
 "metadata": {
  "celltoolbar": "Slideshow",
  "kernelspec": {
   "display_name": "Python 3 (ipykernel)",
   "language": "python",
   "name": "python3"
  },
  "language_info": {
   "codemirror_mode": {
    "name": "ipython",
    "version": 3
   },
   "file_extension": ".py",
   "mimetype": "text/x-python",
   "name": "python",
   "nbconvert_exporter": "python",
   "pygments_lexer": "ipython3",
   "version": "3.8.10"
  }
 },
 "nbformat": 4,
 "nbformat_minor": 5
}
