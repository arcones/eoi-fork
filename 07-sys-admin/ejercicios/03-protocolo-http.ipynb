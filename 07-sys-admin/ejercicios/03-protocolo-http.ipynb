{
 "cells": [
  {
   "cell_type": "markdown",
   "id": "9b6a6096",
   "metadata": {},
   "source": [
    "# Ejercicio 1: Peticiones HTTP usando Sockets"
   ]
  },
  {
   "cell_type": "markdown",
   "id": "d51012cd",
   "metadata": {},
   "source": [
    "Aquí un ejemplo de petición via sockets"
   ]
  },
  {
   "cell_type": "code",
   "execution_count": 1,
   "id": "7c19e8d1",
   "metadata": {
    "scrolled": true
   },
   "outputs": [
    {
     "name": "stdout",
     "output_type": "stream",
     "text": [
      "b'HTTP/1.1 200 OK\\r\\nDate: Tue, 22 Nov 2022 15:23:09 GMT\\r\\nExpires: -1\\r\\nCache-Control: private, max-age=0\\r\\nContent-Type: text/html; charset=ISO-8859-1\\r\\nP3P: CP=\"This is not a P3P policy! See g.co/p3phelp for more info.\"\\r\\nServer: gws\\r\\nX-XSS-Protection: 0\\r\\nX-Frame-Options: SAMEORIGIN\\r\\nSet-Cookie: SOCS=CAAaBgiAovCbBg; expires=Fri, 22-Dec-2023 15:23:09 GMT; path=/; domain=.google.com; Secure; SameSite=lax\\r\\nSet-Cookie: AEC=AakniGMm9llsMqyaCZgkIwUKyYw5jjH4oPrZ6AMNEWFYNtc34HMTzcyweQ; expires=Sun, 21-May-2023 15:23:09 GMT; path=/; domain=.google.com; Secure; HttpOnly; SameSite=lax\\r\\nSet-Cookie: __Secure-ENID=8.SE=LiIGFHqQ2f2yRM58CSjO0o1SVTWQW7xHqLFmJAl5N7I52e0YHpIdqneIsVGEau3mUeaIHCI8esVMFDSecuRtUHU-oSiIBN3JbqYoG-b7nkslh1fWFTUFoU6M6-FczDN6syHVyxp1q16sS_MTZtCByD7_b3q34Ye4J4p0Ew_czjU; expires=Sat, 23-Dec-2023 07:41:27 GMT; path=/; domain=.google.com; Secure; HttpOnly; SameSite=lax\\r\\nSet-Cookie: CONSENT=PENDING+338; expires=Thu, 21-Nov-2024 15:23:08 GMT; path=/; domain=.google.com; Secure\\r\\nAlt-Svc: h3=\":443\"; ma=2592000,h3-29='\n"
     ]
    }
   ],
   "source": [
    "import ssl\n",
    "import socket\n",
    "\n",
    "s = socket.socket(socket.AF_INET, socket.SOCK_STREAM)\n",
    "s.connect(('google.com', 443))\n",
    "s = ssl.wrap_socket(s, ssl_version=ssl.PROTOCOL_SSLv23)\n",
    "s.sendall(b\"GET / HTTP/1.1\\r\\nHost:www.google.com\\r\\n\\r\\n\")\n",
    "data = s.recv(1024)\n",
    "print(data)"
   ]
  },
  {
   "cell_type": "markdown",
   "id": "cae22075",
   "metadata": {},
   "source": [
    "Crear un socket que haga una petición a la web [ifconfig.io](http://ifconfig.io) para obtener nuestra IP pública\n",
    "> Punto extra! formatea la salida para mostrar SOLO LA IP, sin el resto del texto"
   ]
  },
  {
   "cell_type": "code",
   "execution_count": 2,
   "id": "a331158d",
   "metadata": {},
   "outputs": [
    {
     "name": "stdout",
     "output_type": "stream",
     "text": [
      "83.39.148.39\n"
     ]
    }
   ],
   "source": [
    "import socket\n",
    "\n",
    "with socket.socket() as s:\n",
    "    s.connect(('ifconfig.io', 80))\n",
    "    s.sendall(b'GET / HTTP/1.1\\r\\nHost: ifconfig.io\\r\\nUser-Agent: curl\\r\\n\\r\\n')\n",
    "    data = s.recv(1024)\n",
    "    data_str = data.decode('ascii')\n",
    "    ip = data_str.split('\\r\\n\\r\\n')[1].rstrip()\n",
    "    print(ip)"
   ]
  },
  {
   "cell_type": "markdown",
   "id": "956bf729",
   "metadata": {},
   "source": [
    "# Ejercicio 2: HTTP protocol client con Python"
   ]
  },
  {
   "cell_type": "markdown",
   "id": "b4ad7846",
   "metadata": {},
   "source": [
    "Establecemos una conexión con la web `www.python.org`"
   ]
  },
  {
   "cell_type": "code",
   "execution_count": 3,
   "id": "9994ac81",
   "metadata": {},
   "outputs": [
    {
     "name": "stdout",
     "output_type": "stream",
     "text": [
      "<http.client.HTTPSConnection object at 0x7f205f9f9400>\n"
     ]
    }
   ],
   "source": [
    "import http.client\n",
    "\n",
    "conn = http.client.HTTPSConnection(\"www.python.org\")\n",
    "print(conn)"
   ]
  },
  {
   "cell_type": "markdown",
   "id": "be32af78",
   "metadata": {},
   "source": [
    "## Peticiones GET"
   ]
  },
  {
   "cell_type": "markdown",
   "id": "ec9aaabb",
   "metadata": {},
   "source": [
    "Lanzamos una petición GET para obtener la información de esa página"
   ]
  },
  {
   "cell_type": "code",
   "execution_count": 4,
   "id": "b7111ff0",
   "metadata": {},
   "outputs": [],
   "source": [
    "conn.request(\"GET\", \"/\")"
   ]
  },
  {
   "cell_type": "markdown",
   "id": "c2de026f",
   "metadata": {},
   "source": [
    "A continuación vamos a guardar la respuesta en un objeto e inspeccionar el resultado"
   ]
  },
  {
   "cell_type": "code",
   "execution_count": 6,
   "id": "491917d6",
   "metadata": {},
   "outputs": [
    {
     "name": "stdout",
     "output_type": "stream",
     "text": [
      "<http.client.HTTPResponse object at 0x7f2045fbd040>\n"
     ]
    }
   ],
   "source": [
    "r1 = conn.getresponse()\n",
    "print(r1)"
   ]
  },
  {
   "cell_type": "markdown",
   "id": "44946a73",
   "metadata": {},
   "source": [
    "Los campos disponibles en el objeto `HTTPResponse` puedes encontrarlos en la [documentación oficial de Python](https://docs.python.org/3/library/http.client.html#httpresponse-objects).\n",
    "\n",
    "Vamos a inspeccionar los principales:"
   ]
  },
  {
   "cell_type": "code",
   "execution_count": 7,
   "id": "600b54bb",
   "metadata": {},
   "outputs": [
    {
     "name": "stdout",
     "output_type": "stream",
     "text": [
      "200 OK\n"
     ]
    }
   ],
   "source": [
    "print(r1.status, r1.reason)"
   ]
  },
  {
   "cell_type": "code",
   "execution_count": 8,
   "id": "52b3bd84",
   "metadata": {},
   "outputs": [
    {
     "name": "stdout",
     "output_type": "stream",
     "text": [
      "b'<!doctype html>\\n<!--[if lt IE 7]>   <html class=\"no-js ie6 lt-ie7 lt-ie8 lt-ie9\">   <![endif]-->\\n<!--[if IE 7]>      <html class=\"no-js ie7 lt-ie8 lt-ie9\">          <![endif]-->\\n<!--[if IE 8]>      <html class=\"no-js ie8 lt-ie9\">                 <![endif]-->\\n<!--[if gt IE 8]><!--><html class=\"no-js\" lang=\"en\" dir=\"ltr\">  <!--<![endif]-->\\n\\n<head>\\n    <meta charset=\"utf-8\">\\n    <meta http-equiv=\"X-UA-Compatible\" content=\"IE=edge\">\\n\\n    <link rel=\"prefetch\" href=\"//ajax.googleapis.com/ajax/libs/jquery/1.8.2/jquery.min.js\">\\n    <link rel=\"prefetch\" href=\"//ajax.googleapis.com/ajax/libs/jqueryui/1.12.1/jquery-ui.min.js\">\\n\\n    <meta name=\"application-name\" content=\"Python.org\">\\n    <meta name=\"msapplication-tooltip\" content=\"The official home of the Python Programming Language\">\\n    <meta name=\"apple-mobile-web-app-title\" content=\"Python.org\">\\n    <meta name=\"apple-mobile-web-app-capable\" content=\"yes\">\\n    <meta name=\"apple-mobile-web-app-status-bar-style\" content=\"black\">\\n\\n    <meta name=\"viewport\" content=\"width=device-width, initial-scale=1.0\">\\n    <meta name=\"HandheldFriendly\" content=\"True\">\\n    <meta name=\"format-detection\" content=\"telephone=no\">\\n    <meta http-equiv=\"cleartype\" content=\"on\">\\n    <meta http-equiv=\"imagetoolbar\" content=\"false\">\\n\\n    <script async\\n            src=\"https://media.ethicalads.io/media/client/v1.4.0/ethicalads.min.js\"\\n            integrity=\"sha256-U3hKDidudIaxBDEzwGJApJgPEf2mWk6cfMWghrAa6i0= sha384-UcmsCqcNRSLW/dV3Lo1oCi2/VaurXbib6p4HyUEOeIa/4OpsrnucrugAefzVZJfI sha512-q4t1L4xEjGV2R4hzqCa41P8jrgFUS8xTb8rdNv4FGvw7FpydVj/kkxBJHOiaoxHa8olCcx1Slk9K+3sNbsM4ug==\"\\n            crossorigin=\"anonymous\"\\n    ></script>\\n    <script src=\"/static/js/libs/modernizr.js\"></script>\\n\\n    <link href=\"/static/stylesheets/style.2135bffe4dde.css\" rel=\"stylesheet\" type=\"text/css\" media=\"all\" title=\"default\" />\\n    <link href=\"/static/stylesheets/mq.f9187444a4a1.css\" rel=\"stylesheet\" type=\"text/css\" media=\"not print, braille, embossed, speech, tty\" />\\n    \\n\\n    <!--[if (lte IE 8)&(!IEMobile)]>\\n    <link href=\"/static/stylesheets/no-mq.bf0c425cdb73.css\" rel=\"stylesheet\" type=\"text/css\" media=\"screen\" />\\n    \\n    \\n    <![endif]-->\\n    <link rel=\"stylesheet\" href=\"//ajax.googleapis.com/ajax/libs/jqueryui/1.12.1/themes/smoothness/jquery-ui.css\">\\n\\n    \\n    <link rel=\"icon\" type=\"image/x-icon\" href=\"/static/favicon.ico\">\\n    <link rel=\"apple-touch-icon-precomposed\" sizes=\"144x144\" href=\"/static/apple-touch-icon-144x144-precomposed.png\">\\n    <link rel=\"apple-touch-icon-precomposed\" sizes=\"114x114\" href=\"/static/apple-touch-icon-114x114-precomposed.png\">\\n    <link rel=\"apple-touch-icon-precomposed\" sizes=\"72x72\" href=\"/static/apple-touch-icon-72x72-precomposed.png\">\\n    <link rel=\"apple-touch-icon-precomposed\" href=\"/static/apple-touch-icon-precomposed.png\">\\n    <link rel=\"apple-touch-icon\" href=\"/static/apple-touch-icon-precomposed.png\">\\n\\n    \\n    <meta name=\"msapplication-TileImage\" content=\"/static/metro-icon-144x144-precomposed.png\"><!-- white shape -->\\n    <meta name=\"msapplication-TileColor\" content=\"#3673a5\"><!-- python blue -->\\n    <meta name=\"msapplication-navbutton-color\" content=\"#3673a5\">\\n\\n    <title>Welcome to Python.org</title>\\n\\n    <meta name=\"description\" content=\"The official home of the Python Programming Language\">\\n    <meta name=\"keywords\" content=\"Python programming language object oriented web free open source software license documentation download community\">\\n\\n    \\n    <meta property=\"og:type\" content=\"website\">\\n    <meta property=\"og:site_name\" content=\"Python.org\">\\n    <meta property=\"og:title\" content=\"Welcome to Python.org\">\\n    <meta property=\"og:description\" content=\"The official home of the Python Programming Language\">\\n    \\n    <meta property=\"og:image\" content=\"https://www.python.org/static/opengraph-icon-200x200.png\">\\n    <meta property=\"og:image:secure_url\" content=\"https://www.python.org/static/opengraph-icon-200x200.png\">\\n    \\n    <meta property=\"og:url\" content=\"https://www.python.org/\">\\n\\n    <link rel=\"author\" href=\"/humans.txt\">\\n\\n    <link rel=\"alternate\" type=\"application/rss+xml\" title=\"Python Enhancement Proposals\"\\n          href=\"https://www.python.org/dev/peps/peps.rss/\">\\n    <link rel=\"alternate\" type=\"application/rss+xml\" title=\"Python Job Opportunities\"\\n          href=\"https://www.python.org/jobs/feed/rss/\">\\n    <link rel=\"alternate\" type=\"application/rss+xml\" title=\"Python Software Foundation News\"\\n          href=\"https://feeds.feedburner.com/PythonSoftwareFoundationNews\">\\n    <link rel=\"alternate\" type=\"application/rss+xml\" title=\"Python Insider\"\\n          href=\"https://feeds.feedburner.com/PythonInsider\">\\n\\n    \\n\\n    \\n    <script type=\"application/ld+json\">\\n     {\\n       \"@context\": \"https://schema.org\",\\n       \"@type\": \"WebSite\",\\n       \"url\": \"https://www.python.org/\",\\n       \"potentialAction\": {\\n         \"@type\": \"SearchAction\",\\n         \"target\": \"https://www.python.org/search/?q={search_term_string}\",\\n         \"query-input\": \"required name=search_term_string\"\\n       }\\n     }\\n    </script>\\n\\n    \\n    <script type=\"text/javascript\">\\n    var _gaq = _gaq || [];\\n    _gaq.push([\\'_setAccount\\', \\'UA-39055973-1\\']);\\n    _gaq.push([\\'_trackPageview\\']);\\n\\n    (function() {\\n        var ga = document.createElement(\\'script\\'); ga.type = \\'text/javascript\\'; ga.async = true;\\n        ga.src = (\\'https:\\' == document.location.protocol ? \\'https://ssl\\' : \\'http://www\\') + \\'.google-analytics.com/ga.js\\';\\n        var s = document.getElementsByTagName(\\'script\\')[0]; s.parentNode.insertBefore(ga, s);\\n    })();\\n    </script>\\n    \\n</head>\\n\\n<body class=\"python home\" id=\"homepage\">\\n\\n    <div id=\"touchnav-wrapper\">\\n\\n        <div id=\"nojs\" class=\"do-not-print\">\\n            <p><strong>Notice:</strong> While JavaScript is not essential for this website, your interaction with the content will be limited. Please turn JavaScript on for the full experience. </p>\\n        </div>\\n\\n        <!--[if lte IE 8]>\\n        <div id=\"oldie-warning\" class=\"do-not-print\">\\n            <p>\\n                <strong>Notice:</strong> Your browser is <em>ancient</em>. Please\\n                <a href=\"http://browsehappy.com/\">upgrade to a different browser</a> to experience a better web.\\n            </p>\\n        </div>\\n        <![endif]-->\\n\\n        <!-- Sister Site Links -->\\n        <div id=\"top\" class=\"top-bar do-not-print\">\\n\\n            <nav class=\"meta-navigation container\" role=\"navigation\">\\n\\n                \\n                <div class=\"skip-link screen-reader-text\">\\n                    <a href=\"#content\" title=\"Skip to content\">Skip to content</a>\\n                </div>\\n\\n                \\n                <a id=\"close-python-network\" class=\"jump-link\" href=\"#python-network\" aria-hidden=\"true\">\\n                    <span aria-hidden=\"true\" class=\"icon-arrow-down\"><span>&#9660;</span></span> Close\\n                </a>\\n\\n                \\n\\n<ul class=\"menu\" role=\"tree\">\\n    \\n    <li class=\"python-meta current_item selectedcurrent_branch selected\">\\n        <a href=\"/\" title=\"The Python Programming Language\" class=\"current_item selectedcurrent_branch selected\">Python</a>\\n    </li>\\n    \\n    <li class=\"psf-meta \">\\n        <a href=\"/psf-landing/\" title=\"The Python Software Foundation\" >PSF</a>\\n    </li>\\n    \\n    <li class=\"docs-meta \">\\n        <a href=\"https://docs.python.org\" title=\"Python Documentation\" >Docs</a>\\n    </li>\\n    \\n    <li class=\"pypi-meta \">\\n        <a href=\"https://pypi.org/\" title=\"Python Package Index\" >PyPI</a>\\n    </li>\\n    \\n    <li class=\"jobs-meta \">\\n        <a href=\"/jobs/\" title=\"Python Job Board\" >Jobs</a>\\n    </li>\\n    \\n    <li class=\"shop-meta \">\\n        <a href=\"/community-landing/\"  >Community</a>\\n    </li>\\n    \\n</ul>\\n\\n\\n                <a id=\"python-network\" class=\"jump-link\" href=\"#top\" aria-hidden=\"true\">\\n                    <span aria-hidden=\"true\" class=\"icon-arrow-up\"><span>&#9650;</span></span> The Python Network\\n                </a>\\n\\n            </nav>\\n\\n        </div>\\n\\n        <!-- Header elements -->\\n        <header class=\"main-header\" role=\"banner\">\\n            <div class=\"container\">\\n\\n                <h1 class=\"site-headline\">\\n                    <a href=\"/\"><img class=\"python-logo\" src=\"/static/img/python-logo.png\" alt=\"python&trade;\"></a>\\n                </h1>\\n\\n                <div class=\"options-bar-container do-not-print\">\\n                    <a href=\"https://psfmember.org/civicrm/contribute/transact?reset=1&id=2\" class=\"donate-button\">Donate</a>\\n                    <div class=\"options-bar\">\\n                        \\n                        <a id=\"site-map-link\" class=\"jump-to-menu\" href=\"#site-map\"><span class=\"menu-icon\">&equiv;</span> Menu</a><form class=\"search-the-site\" action=\"/search/\" method=\"get\">\\n                            <fieldset title=\"Search Python.org\">\\n\\n                                <span aria-hidden=\"true\" class=\"icon-search\"></span>\\n\\n                                <label class=\"screen-reader-text\" for=\"id-search-field\">Search This Site</label>\\n                                <input id=\"id-search-field\" name=\"q\" type=\"search\" role=\"textbox\" class=\"search-field\" placeholder=\"Search\" value=\"\" tabindex=\"1\">\\n\\n                                <button type=\"submit\" name=\"submit\" id=\"submit\" class=\"search-button\" title=\"Submit this Search\" tabindex=\"3\">\\n                                    GO\\n                                </button>\\n\\n                                \\n                                <!--[if IE]><input type=\"text\" style=\"display: none;\" disabled=\"disabled\" size=\"1\" tabindex=\"4\"><![endif]-->\\n\\n                            </fieldset>\\n                        </form><span class=\"breaker\"></span><div class=\"adjust-font-size\" aria-hidden=\"true\">\\n                            <ul class=\"navigation menu\" aria-label=\"Adjust Text Size on Page\">\\n                                <li class=\"tier-1 last\" aria-haspopup=\"true\">\\n                                    <a href=\"#\" class=\"action-trigger\"><strong><small>A</small> A</strong></a>\\n                                    <ul class=\"subnav menu\">\\n                                        <li class=\"tier-2 element-1\" role=\"treeitem\"><a class=\"text-shrink\" title=\"Make Text Smaller\" href=\"javascript:;\">Smaller</a></li>\\n                                        <li class=\"tier-2 element-2\" role=\"treeitem\"><a class=\"text-grow\" title=\"Make Text Larger\" href=\"javascript:;\">Larger</a></li>\\n                                        <li class=\"tier-2 element-3\" role=\"treeitem\"><a class=\"text-reset\" title=\"Reset any font size changes I have made\" href=\"javascript:;\">Reset</a></li>\\n                                    </ul>\\n                                </li>\\n                            </ul>\\n                        </div><div class=\"winkwink-nudgenudge\">\\n                            <ul class=\"navigation menu\" aria-label=\"Social Media Navigation\">\\n                                <li class=\"tier-1 last\" aria-haspopup=\"true\">\\n                                    <a href=\"#\" class=\"action-trigger\">Socialize</a>\\n                                    <ul class=\"subnav menu\">\\n                                        <li class=\"tier-2 element-1\" role=\"treeitem\"><a href=\"https://www.facebook.com/pythonlang?fref=ts\"><span aria-hidden=\"true\" class=\"icon-facebook\"></span>Facebook</a></li>\\n                                        <li class=\"tier-2 element-2\" role=\"treeitem\"><a href=\"https://twitter.com/ThePSF\"><span aria-hidden=\"true\" class=\"icon-twitter\"></span>Twitter</a></li>\\n                                        <li class=\"tier-2 element-3\" role=\"treeitem\"><a href=\"/community/irc/\"><span aria-hidden=\"true\" class=\"icon-freenode\"></span>Chat on IRC</a></li>\\n                                    </ul>\\n                                </li>\\n                            </ul>\\n                        </div>\\n                        <span data-html-include=\"/authenticated\"></span>\\n                    </div><!-- end options-bar -->\\n                </div>\\n\\n                <nav id=\"mainnav\" class=\"python-navigation main-navigation do-not-print\" role=\"navigation\">\\n                    \\n                        \\n<ul class=\"navigation menu\" role=\"menubar\" aria-label=\"Main Navigation\">\\n  \\n    \\n    \\n    <li id=\"about\" class=\"tier-1 element-1  \" aria-haspopup=\"true\">\\n        <a href=\"/about/\" title=\"\" class=\"\">About</a>\\n        \\n            \\n\\n<ul class=\"subnav menu\" role=\"menu\" aria-hidden=\"true\">\\n    \\n        <li class=\"tier-2 element-1\" role=\"treeitem\"><a href=\"/about/apps/\" title=\"\">Applications</a></li>\\n    \\n        <li class=\"tier-2 element-2\" role=\"treeitem\"><a href=\"/about/quotes/\" title=\"\">Quotes</a></li>\\n    \\n        <li class=\"tier-2 element-3\" role=\"treeitem\"><a href=\"/about/gettingstarted/\" title=\"\">Getting Started</a></li>\\n    \\n        <li class=\"tier-2 element-4\" role=\"treeitem\"><a href=\"/about/help/\" title=\"\">Help</a></li>\\n    \\n        <li class=\"tier-2 element-5\" role=\"treeitem\"><a href=\"http://brochure.getpython.info/\" title=\"\">Python Brochure</a></li>\\n    \\n</ul>\\n\\n        \\n    </li>\\n    \\n    \\n    \\n    <li id=\"downloads\" class=\"tier-1 element-2  \" aria-haspopup=\"true\">\\n        <a href=\"/downloads/\" title=\"\" class=\"\">Downloads</a>\\n        \\n            \\n\\n<ul class=\"subnav menu\" role=\"menu\" aria-hidden=\"true\">\\n    \\n        <li class=\"tier-2 element-1\" role=\"treeitem\"><a href=\"/downloads/\" title=\"\">All releases</a></li>\\n    \\n        <li class=\"tier-2 element-2\" role=\"treeitem\"><a href=\"/downloads/source/\" title=\"\">Source code</a></li>\\n    \\n        <li class=\"tier-2 element-3\" role=\"treeitem\"><a href=\"/downloads/windows/\" title=\"\">Windows</a></li>\\n    \\n        <li class=\"tier-2 element-4\" role=\"treeitem\"><a href=\"/downloads/macos/\" title=\"\">macOS</a></li>\\n    \\n        <li class=\"tier-2 element-5\" role=\"treeitem\"><a href=\"/download/other/\" title=\"\">Other Platforms</a></li>\\n    \\n        <li class=\"tier-2 element-6\" role=\"treeitem\"><a href=\"https://docs.python.org/3/license.html\" title=\"\">License</a></li>\\n    \\n        <li class=\"tier-2 element-7\" role=\"treeitem\"><a href=\"/download/alternatives\" title=\"\">Alternative Implementations</a></li>\\n    \\n</ul>\\n\\n        \\n    </li>\\n    \\n    \\n    \\n    <li id=\"documentation\" class=\"tier-1 element-3  \" aria-haspopup=\"true\">\\n        <a href=\"/doc/\" title=\"\" class=\"\">Documentation</a>\\n        \\n            \\n\\n<ul class=\"subnav menu\" role=\"menu\" aria-hidden=\"true\">\\n    \\n        <li class=\"tier-2 element-1\" role=\"treeitem\"><a href=\"/doc/\" title=\"\">Docs</a></li>\\n    \\n        <li class=\"tier-2 element-2\" role=\"treeitem\"><a href=\"/doc/av\" title=\"\">Audio/Visual Talks</a></li>\\n    \\n        <li class=\"tier-2 element-3\" role=\"treeitem\"><a href=\"https://wiki.python.org/moin/BeginnersGuide\" title=\"\">Beginner&#39;s Guide</a></li>\\n    \\n        <li class=\"tier-2 element-4\" role=\"treeitem\"><a href=\"https://devguide.python.org/\" title=\"\">Developer&#39;s Guide</a></li>\\n    \\n        <li class=\"tier-2 element-5\" role=\"treeitem\"><a href=\"https://docs.python.org/faq/\" title=\"\">FAQ</a></li>\\n    \\n        <li class=\"tier-2 element-6\" role=\"treeitem\"><a href=\"http://wiki.python.org/moin/Languages\" title=\"\">Non-English Docs</a></li>\\n    \\n        <li class=\"tier-2 element-7\" role=\"treeitem\"><a href=\"http://python.org/dev/peps/\" title=\"\">PEP Index</a></li>\\n    \\n        <li class=\"tier-2 element-8\" role=\"treeitem\"><a href=\"https://wiki.python.org/moin/PythonBooks\" title=\"\">Python Books</a></li>\\n    \\n        <li class=\"tier-2 element-9\" role=\"treeitem\"><a href=\"/doc/essays/\" title=\"\">Python Essays</a></li>\\n    \\n</ul>\\n\\n        \\n    </li>\\n    \\n    \\n    \\n    <li id=\"community\" class=\"tier-1 element-4  \" aria-haspopup=\"true\">\\n        <a href=\"/community/\" title=\"\" class=\"\">Community</a>\\n        \\n            \\n\\n<ul class=\"subnav menu\" role=\"menu\" aria-hidden=\"true\">\\n    \\n        <li class=\"tier-2 element-1\" role=\"treeitem\"><a href=\"/community/diversity/\" title=\"\">Diversity</a></li>\\n    \\n        <li class=\"tier-2 element-2\" role=\"treeitem\"><a href=\"/community/lists/\" title=\"\">Mailing Lists</a></li>\\n    \\n        <li class=\"tier-2 element-3\" role=\"treeitem\"><a href=\"/community/irc/\" title=\"\">IRC</a></li>\\n    \\n        <li class=\"tier-2 element-4\" role=\"treeitem\"><a href=\"/community/forums/\" title=\"\">Forums</a></li>\\n    \\n        <li class=\"tier-2 element-5\" role=\"treeitem\"><a href=\"/psf/annual-report/2021/\" title=\"\">PSF Annual Impact Report</a></li>\\n    \\n        <li class=\"tier-2 element-6\" role=\"treeitem\"><a href=\"/community/workshops/\" title=\"\">Python Conferences</a></li>\\n    \\n        <li class=\"tier-2 element-7\" role=\"treeitem\"><a href=\"/community/sigs/\" title=\"\">Special Interest Groups</a></li>\\n    \\n        <li class=\"tier-2 element-8\" role=\"treeitem\"><a href=\"/community/logos/\" title=\"\">Python Logo</a></li>\\n    \\n        <li class=\"tier-2 element-9\" role=\"treeitem\"><a href=\"https://wiki.python.org/moin/\" title=\"\">Python Wiki</a></li>\\n    \\n        <li class=\"tier-2 element-10\" role=\"treeitem\"><a href=\"/community/merchandise/\" title=\"\">Merchandise</a></li>\\n    \\n        <li class=\"tier-2 element-11\" role=\"treeitem\"><a href=\"/community/awards\" title=\"\">Community Awards</a></li>\\n    \\n        <li class=\"tier-2 element-12\" role=\"treeitem\"><a href=\"/psf/conduct/\" title=\"\">Code of Conduct</a></li>\\n    \\n        <li class=\"tier-2 element-13\" role=\"treeitem\"><a href=\"/psf/get-involved/\" title=\"\">Get Involved</a></li>\\n    \\n        <li class=\"tier-2 element-14\" role=\"treeitem\"><a href=\"/psf/community-stories/\" title=\"\">Shared Stories</a></li>\\n    \\n</ul>\\n\\n        \\n    </li>\\n    \\n    \\n    \\n    <li id=\"success-stories\" class=\"tier-1 element-5  \" aria-haspopup=\"true\">\\n        <a href=\"/success-stories/\" title=\"success-stories\" class=\"\">Success Stories</a>\\n        \\n            \\n\\n<ul class=\"subnav menu\" role=\"menu\" aria-hidden=\"true\">\\n    \\n        <li class=\"tier-2 element-1\" role=\"treeitem\"><a href=\"/success-stories/category/arts/\" title=\"\">Arts</a></li>\\n    \\n        <li class=\"tier-2 element-2\" role=\"treeitem\"><a href=\"/success-stories/category/business/\" title=\"\">Business</a></li>\\n    \\n        <li class=\"tier-2 element-3\" role=\"treeitem\"><a href=\"/success-stories/category/education/\" title=\"\">Education</a></li>\\n    \\n        <li class=\"tier-2 element-4\" role=\"treeitem\"><a href=\"/success-stories/category/engineering/\" title=\"\">Engineering</a></li>\\n    \\n        <li class=\"tier-2 element-5\" role=\"treeitem\"><a href=\"/success-stories/category/government/\" title=\"\">Government</a></li>\\n    \\n        <li class=\"tier-2 element-6\" role=\"treeitem\"><a href=\"/success-stories/category/scientific/\" title=\"\">Scientific</a></li>\\n    \\n        <li class=\"tier-2 element-7\" role=\"treeitem\"><a href=\"/success-stories/category/software-development/\" title=\"\">Software Development</a></li>\\n    \\n</ul>\\n\\n        \\n    </li>\\n    \\n    \\n    \\n    <li id=\"news\" class=\"tier-1 element-6  \" aria-haspopup=\"true\">\\n        <a href=\"/blogs/\" title=\"News from around the Python world\" class=\"\">News</a>\\n        \\n            \\n\\n<ul class=\"subnav menu\" role=\"menu\" aria-hidden=\"true\">\\n    \\n        <li class=\"tier-2 element-1\" role=\"treeitem\"><a href=\"/blogs/\" title=\"Python Insider Blog Posts\">Python News</a></li>\\n    \\n        <li class=\"tier-2 element-2\" role=\"treeitem\"><a href=\"/psf/newsletter/\" title=\"Python Software Foundation Newsletter\">PSF Newsletter</a></li>\\n    \\n        <li class=\"tier-2 element-3\" role=\"treeitem\"><a href=\"http://planetpython.org/\" title=\"Planet Python\">Community News</a></li>\\n    \\n        <li class=\"tier-2 element-4\" role=\"treeitem\"><a href=\"http://pyfound.blogspot.com/\" title=\"PSF Blog\">PSF News</a></li>\\n    \\n        <li class=\"tier-2 element-5\" role=\"treeitem\"><a href=\"http://pycon.blogspot.com/\" title=\"PyCon Blog\">PyCon News</a></li>\\n    \\n</ul>\\n\\n        \\n    </li>\\n    \\n    \\n    \\n    <li id=\"events\" class=\"tier-1 element-7  \" aria-haspopup=\"true\">\\n        <a href=\"/events/\" title=\"\" class=\"\">Events</a>\\n        \\n            \\n\\n<ul class=\"subnav menu\" role=\"menu\" aria-hidden=\"true\">\\n    \\n        <li class=\"tier-2 element-1\" role=\"treeitem\"><a href=\"/events/python-events/\" title=\"\">Python Events</a></li>\\n    \\n        <li class=\"tier-2 element-2\" role=\"treeitem\"><a href=\"/events/python-user-group/\" title=\"\">User Group Events</a></li>\\n    \\n        <li class=\"tier-2 element-3\" role=\"treeitem\"><a href=\"/events/python-events/past/\" title=\"\">Python Events Archive</a></li>\\n    \\n        <li class=\"tier-2 element-4\" role=\"treeitem\"><a href=\"/events/python-user-group/past/\" title=\"\">User Group Events Archive</a></li>\\n    \\n        <li class=\"tier-2 element-5\" role=\"treeitem\"><a href=\"https://wiki.python.org/moin/PythonEventsCalendar#Submitting_an_Event\" title=\"\">Submit an Event</a></li>\\n    \\n</ul>\\n\\n        \\n    </li>\\n    \\n    \\n    \\n    \\n  \\n</ul>\\n\\n                    \\n                </nav>\\n\\n                <div class=\"header-banner \"> <!-- for optional \"do-not-print\" class -->\\n                    \\n        <div id=\"dive-into-python\" class=\"flex-slideshow slideshow\">\\n\\n            <ul class=\"launch-shell menu\" id=\"launch-shell\">\\n                <li>\\n                    <a class=\"button prompt\" id=\"start-shell\" data-shell-container=\"#dive-into-python\" href=\"/shell/\">&gt;_\\n                        <span class=\"message\">Launch Interactive Shell</span>\\n                    </a>\\n                </li>\\n            </ul>\\n\\n            <ul class=\"slides menu\">\\n                \\n                <li>\\n                    <div class=\"slide-code\"><pre><code><span class=\"comment\"># Python 3: Fibonacci series up to n</span>\\r\\n>>> def fib(n):\\r\\n>>>     a, b = 0, 1\\r\\n>>>     while a &lt; n:\\r\\n>>>         print(a, end=\\' \\')\\r\\n>>>         a, b = b, a+b\\r\\n>>>     print()\\r\\n>>> fib(1000)\\r\\n<span class=\"output\">0 1 1 2 3 5 8 13 21 34 55 89 144 233 377 610 987</span></code></pre></div>\\n                    <div class=\"slide-copy\"><h1>Functions Defined</h1>\\r\\n<p>The core of extensible programming is defining functions. Python allows mandatory and optional arguments, keyword arguments, and even arbitrary argument lists. <a href=\"//docs.python.org/3/tutorial/controlflow.html#defining-functions\">More about defining functions in Python&nbsp;3</a></p></div>\\n                </li>\\n                \\n                <li>\\n                    <div class=\"slide-code\"><pre><code><span class=\"comment\"># Python 3: List comprehensions</span>\\r\\n>>> fruits = [\\'Banana\\', \\'Apple\\', \\'Lime\\']\\r\\n>>> loud_fruits = [fruit.upper() for fruit in fruits]\\r\\n>>> print(loud_fruits)\\r\\n<span class=\"output\">[\\'BANANA\\', \\'APPLE\\', \\'LIME\\']</span>\\r\\n\\r\\n<span class=\"comment\"># List and the enumerate function</span>\\r\\n>>> list(enumerate(fruits))\\r\\n<span class=\"output\">[(0, \\'Banana\\'), (1, \\'Apple\\'), (2, \\'Lime\\')]</span></code></pre></div>\\n                    <div class=\"slide-copy\"><h1>Compound Data Types</h1>\\r\\n<p>Lists (known as arrays in other languages) are one of the compound data types that Python understands. Lists can be indexed, sliced and manipulated with other built-in functions. <a href=\"//docs.python.org/3/tutorial/introduction.html#lists\">More about lists in Python&nbsp;3</a></p></div>\\n                </li>\\n                \\n                <li>\\n                    <div class=\"slide-code\"><pre><code><span class=\"comment\"># Python 3: Simple arithmetic</span>\\r\\n>>> 1 / 2\\r\\n<span class=\"output\">0.5</span>\\r\\n>>> 2 ** 3\\r\\n<span class=\"output\">8</span>\\r\\n>>> 17 / 3  <span class=\"comment\"># classic division returns a float</span>\\r\\n<span class=\"output\">5.666666666666667</span>\\r\\n>>> 17 // 3  <span class=\"comment\"># floor division</span>\\r\\n<span class=\"output\">5</span></code></pre></div>\\n                    <div class=\"slide-copy\"><h1>Intuitive Interpretation</h1>\\r\\n<p>Calculations are simple with Python, and expression syntax is straightforward: the operators <code>+</code>, <code>-</code>, <code>*</code> and <code>/</code> work as expected; parentheses <code>()</code> can be used for grouping. <a href=\"http://docs.python.org/3/tutorial/introduction.html#using-python-as-a-calculator\">More about simple math functions in Python&nbsp;3</a>.</p></div>\\n                </li>\\n                \\n                <li>\\n                    <div class=\"slide-code\"><pre><code><span class=\"comment\"># For loop on a list</span>\\r\\n>>> numbers = [2, 4, 6, 8]\\r\\n>>> product = 1\\r\\n>>> for number in numbers:\\r\\n...    product = product * number\\r\\n... \\r\\n>>> print(\\'The product is:\\', product)\\r\\n<span class=\"output\">The product is: 384</span></code></pre></div>\\n                    <div class=\"slide-copy\"><h1>All the Flow You&rsquo;d Expect</h1>\\r\\n<p>Python knows the usual control flow statements that other languages speak &mdash; <code>if</code>, <code>for</code>, <code>while</code> and <code>range</code> &mdash; with some of its own twists, of course. <a href=\"//docs.python.org/3/tutorial/controlflow.html\">More control flow tools in Python&nbsp;3</a></p></div>\\n                </li>\\n                \\n                <li>\\n                    <div class=\"slide-code\"><pre><code><span class=\\\\\"comment\\\\\"># Simple output (with Unicode)</span>\\r\\n>>> print(\\\\\"Hello, I\\'m Python!\\\\\")\\r\\n<span class=\\\\\"output\\\\\">Hello, I\\'m Python!</span>\\r\\n<span class=\\\\\"comment\\\\\"># Input, assignment</span>\\r\\n>>> name = input(\\'What is your name?\\\\\\\\n\\')\\r\\n<span class=\\\\\"output\\\\\">What is your name?\\r\\nPython</span>\\r\\n>>> print(f\\'Hi, {name}.\\')\\r\\n<span class=\\\\\"output\\\\\">Hi, Python.</span></code>\\r\\n</pre></div>\\n                    <div class=\"slide-copy\"><h1>Quick &amp; Easy to Learn</h1>\\r\\n<p>Experienced programmers in any other language can pick up Python very quickly, and beginners find the clean syntax and indentation structure easy to learn. <a href=\"//docs.python.org/3/tutorial/\">Whet your appetite</a> with our Python&nbsp;3 overview.</p></div>\\n                </li>\\n                \\n            </ul>\\n        </div>\\n\\n\\n                </div>\\n\\n                \\n        <div class=\"introduction\">\\n            <p>Python is a programming language that lets you work quickly <span class=\"breaker\"></span>and integrate systems more effectively. <a class=\"readmore\" href=\"/doc/\">Learn More</a></p>\\n        </div>\\n\\n\\n             </div><!-- end .container -->\\n        </header>\\n\\n        <div id=\"content\" class=\"content-wrapper\">\\n            <!-- Main Content Column -->\\n            <div class=\"container\">\\n\\n                <section class=\"main-content \" role=\"main\">\\n\\n                    \\n                    \\n\\n                    \\n\\n                    \\n\\n                <div class=\"notification-bar notification-bar--survey\" style=\"background-color: #ffdf76; color: #664e04; border-color: #004d7a; text-align: center; background-color: #004d7a; color: #fff; padding: 10px; margin: .5em; position: relative; width: 95%; background-color: #ffdf76; color: #664e04; border-color: #004d7a; border-radius: 1em;\">\\n  <span class=\"notification-bar__icon\">\\n    <i class=\"fa fa-chart-line\" aria-hidden=\"true\"></i>\\n  </span>\\n  <span class=\"notification-bar__message\">Support Python in 2022! Check out the special deal open only till November 22nd. &nbsp;&nbsp;<a class=\"button button--dark button--small button--primary\" style=\"color: #606060; border-color: #006dad; background-color: #006dad;\" href=\"https://www.python.org/psf/donations/2022-q4-drive/\"  target=\"_blank\" rel=\"noopener\">Join in today!</a>\\n   </span>\\n</div>\\n\\n\\n                <div class=\"row\">\\n\\n                    <div class=\"small-widget get-started-widget\">\\n                        <h2 class=\"widget-title\"><span aria-hidden=\"true\" class=\"icon-get-started\"></span>Get Started</h2>\\r\\n<p>Whether you\\'re new to programming or an experienced developer, it\\'s easy to learn and use Python.</p>\\r\\n<p><a href=\"/about/gettingstarted/\">Start with our Beginner&rsquo;s Guide</a></p>\\n                    </div>\\n\\n                    <div class=\"small-widget download-widget\">\\n                        <h2 class=\"widget-title\"><span aria-hidden=\"true\" class=\"icon-download\"></span>Download</h2>\\n<p>Python source code and installers are available for download for all versions!</p>\\n<p>Latest: <a href=\"/downloads/release/python-3110/\">Python 3.11.0</a></p>\\n                    </div>\\n\\n                    <div class=\"small-widget documentation-widget\">\\n                        <h2 class=\"widget-title\"><span aria-hidden=\"true\" class=\"icon-documentation\"></span>Docs</h2>\\r\\n<p>Documentation for Python\\'s standard library, along with tutorials and guides, are available online.</p>\\r\\n<p><a href=\"https://docs.python.org\">docs.python.org</a></p>\\n                    </div>\\n\\n                    <div class=\"small-widget jobs-widget last\">\\n                        <h2 class=\"widget-title\"><span aria-hidden=\"true\" class=\"icon-jobs\"></span>Jobs</h2>\\r\\n<p>Looking for work or have a Python related position that you\\'re trying to hire for? Our <strong>relaunched community-run job board</strong> is the place to go.</p>\\r\\n<p><a href=\"//jobs.python.org\">jobs.python.org</a></p>\\n                    </div>\\n\\n                </div>\\n\\n                <div class=\"list-widgets row\">\\n\\n                    <div class=\"medium-widget blog-widget\">\\n                        \\n                        <div class=\"shrubbery\">\\n                        \\n                            <h2 class=\"widget-title\"><span aria-hidden=\"true\" class=\"icon-news\"></span>Latest News</h2>\\n                            <p class=\"give-me-more\"><a href=\"https://blog.python.org\" title=\"More News\">More</a></p>\\n                            \\n                            <ul class=\"menu\">\\n                                \\n                                \\n                                <li>\\n<time datetime=\"2022-11-15T13:06:00.000001+00:00\"><span class=\"say-no-more\">2022-</span>11-15</time>\\n <a href=\"https://pythoninsider.blogspot.com/2022/11/python-3120-alpha-2-released.html\">Python 3.12.0 alpha 2 released</a></li>\\n                                \\n                                <li>\\n<time datetime=\"2022-11-07T17:30:00+00:00\"><span class=\"say-no-more\">2022-</span>11-07</time>\\n <a href=\"https://pyfound.blogspot.com/2022/11/its-time-for-our-annual-year-end-psf.html\">It&#39;s time for our annual year-end PSF fundraiser and membership drive \\xf0\\x9f\\x8e\\x89</a></li>\\n                                \\n                                <li>\\n<time datetime=\"2022-11-01T19:25:00.000001+00:00\"><span class=\"say-no-more\">2022-</span>11-01</time>\\n <a href=\"https://pyfound.blogspot.com/2022/11/thank-you-for-making-pycon-us-amazing.html\">Thank You for Making PyCon US amazing, Jackie!</a></li>\\n                                \\n                                <li>\\n<time datetime=\"2022-10-26T16:09:00.000002+00:00\"><span class=\"say-no-more\">2022-</span>10-26</time>\\n <a href=\"https://pyfound.blogspot.com/2022/10/announcing-python-software-foundation.html\">Announcing Python Software Foundation Fellow Members for Q3 2022! \\xf0\\x9f\\x8e\\x89</a></li>\\n                                \\n                                <li>\\n<time datetime=\"2022-10-25T18:34:53.000001+00:00\"><span class=\"say-no-more\">2022-</span>10-25</time>\\n <a href=\"https://mailchi.mp/python/psf-nov-15542325\">Python Software Foundation - October 2022 Newsletter</a></li>\\n                                \\n                            </ul>\\n                        </div><!-- end .shrubbery -->\\n\\n                    </div>\\n\\n                    <div class=\"medium-widget event-widget last\">\\n                        \\n                        <div class=\"shrubbery\">\\n                        \\n                            <h2 class=\"widget-title\"><span aria-hidden=\"true\" class=\"icon-calendar\"></span>Upcoming Events</h2>\\n                            <p class=\"give-me-more\"><a href=\"/events/calendars/\" title=\"More Events\">More</a></p>\\n                            \\n                            <ul class=\"menu\">\\n                                \\n                                \\n                                \\n                                <li>\\n<time datetime=\"2022-11-23T05:30:00+00:00\"><span class=\"say-no-more\">2022-</span>11-23</time>\\n <a href=\"/events/python-user-group/1388/\">NZPUG-Auckland Coding Challenge &quot;Office Hours&quot; </a></li>\\n                                \\n                                \\n                                \\n                                <li>\\n<time datetime=\"2022-11-26T00:00:00+00:00\"><span class=\"say-no-more\">2022-</span>11-26</time>\\n <a href=\"/events/python-events/1331/\">Pyjamas Conf 2022</a></li>\\n                                \\n                                \\n                                \\n                                <li>\\n<time datetime=\"2022-11-26T08:00:00+00:00\"><span class=\"say-no-more\">2022-</span>11-26</time>\\n <a href=\"/events/python-user-group/1335/\">Django Girls Groningen</a></li>\\n                                \\n                                \\n                                \\n                                <li>\\n<time datetime=\"2022-11-29T16:30:00+00:00\"><span class=\"say-no-more\">2022-</span>11-29</time>\\n <a href=\"/events/python-user-group/1390/\">Getting back to Python land - Stockholm Python User Group</a></li>\\n                                \\n                                \\n                                \\n                                <li>\\n<time datetime=\"2022-11-30T05:30:00+00:00\"><span class=\"say-no-more\">2022-</span>11-30</time>\\n <a href=\"/events/python-user-group/1387/\">NZPUG-Auckland Coding Challenge &quot;Office Hours&quot; </a></li>\\n                                \\n                                \\n                            </ul>\\n                        </div>\\n\\n                    </div>\\n\\n                </div>\\n\\n                <div class=\"row\">\\n\\n                    <div class=\"medium-widget success-stories-widget\">\\n                        \\n\\n\\n\\n                        <div class=\"shrubbery\">\\n                            \\n\\n                            <h2 class=\"widget-title\"><span aria-hidden=\"true\" class=\"icon-success-stories\"></span>Success Stories</h2>\\n                            <p class=\"give-me-more\"><a href=\"/success-stories/\" title=\"More Success Stories\">More</a></p>\\n\\n                            \\n                            <div class=\"success-story-item\" id=\"success-story-1101\">\\n\\n                            <blockquote>\\n                                <a href=\"/success-stories/a-startup-healthcare-tech-firm-is-now-poised-for-the-future/\">\\xe2\\x80\\x9cWe feel much better equipped now to handle the challenges. And if we run into an issue, we\\xe2\\x80\\x99ll come to Caktus to hammer it out,&quot; said Stephen Johnston, VP of Engineering, at Force Therapeutics.</a>\\n                            </blockquote>\\n\\n                            <table cellpadding=\"0\" cellspacing=\"0\" border=\"0\" width=\"100%\" class=\"quote-from\">\\n                                <tbody>\\n                                    <tr>\\n                                        \\n                                        <td><p><a href=\"/success-stories/a-startup-healthcare-tech-firm-is-now-poised-for-the-future/\">A Startup Healthcare Tech Firm Is Now Poised for the Future</a> <em>by Caktus Group</em></p></td>\\n                                    </tr>\\n                                </tbody>\\n                            </table>\\n                            </div>\\n                            \\n\\n                        </div><!-- end .shrubbery -->\\n\\n                    </div>\\n\\n                    <div class=\"medium-widget applications-widget last\">\\n                        <div class=\"shrubbery\">\\n                            <h2 class=\"widget-title\"><span aria-hidden=\"true\" class=\"icon-python\"></span>Use Python for&hellip;</h2>\\r\\n<p class=\"give-me-more\"><a href=\"/about/apps\" title=\"More Applications\">More</a></p>\\r\\n\\r\\n<ul class=\"menu\">\\r\\n    <li><b>Web Development</b>:\\r\\n        <span class=\"tag-wrapper\"><a class=\"tag\" href=\"http://www.djangoproject.com/\">Django</a>, <a class=\"tag\" href=\"http://www.pylonsproject.org/\">Pyramid</a>, <a class=\"tag\" href=\"http://bottlepy.org\">Bottle</a>, <a class=\"tag\" href=\"http://tornadoweb.org\">Tornado</a>, <a href=\"http://flask.pocoo.org/\" class=\"tag\">Flask</a>, <a class=\"tag\" href=\"http://www.web2py.com/\">web2py</a></span></li>\\r\\n    <li><b>GUI Development</b>:\\r\\n        <span class=\"tag-wrapper\"><a class=\"tag\" href=\"http://wiki.python.org/moin/TkInter\">tkInter</a>, <a class=\"tag\" href=\"https://wiki.gnome.org/Projects/PyGObject\">PyGObject</a>, <a class=\"tag\" href=\"http://www.riverbankcomputing.co.uk/software/pyqt/intro\">PyQt</a>, <a class=\"tag\" href=\"https://wiki.qt.io/PySide\">PySide</a>, <a class=\"tag\" href=\"https://kivy.org/\">Kivy</a>, <a class=\"tag\" href=\"http://www.wxpython.org/\">wxPython</a></span></li>\\r\\n    <li><b>Scientific and Numeric</b>:\\r\\n        <span class=\"tag-wrapper\">\\r\\n<a class=\"tag\" href=\"http://www.scipy.org\">SciPy</a>, <a class=\"tag\" href=\"http://pandas.pydata.org/\">Pandas</a>, <a href=\"http://ipython.org\" class=\"tag\">IPython</a></span></li>\\r\\n    <li><b>Software Development</b>:\\r\\n        <span class=\"tag-wrapper\"><a class=\"tag\" href=\"http://buildbot.net/\">Buildbot</a>, <a class=\"tag\" href=\"http://trac.edgewall.org/\">Trac</a>, <a class=\"tag\" href=\"http://roundup.sourceforge.net/\">Roundup</a></span></li>\\r\\n    <li><b>System Administration</b>:\\r\\n        <span class=\"tag-wrapper\"><a class=\"tag\" href=\"http://www.ansible.com\">Ansible</a>, <a class=\"tag\" href=\"https://saltproject.io\">Salt</a>, <a class=\"tag\" href=\"https://www.openstack.org\">OpenStack</a>, <a class=\"tag\" href=\"https://xon.sh\">xonsh</a></span></li>\\r\\n</ul>\\n                        </div><!-- end .shrubbery -->\\n                    </div>\\n\\n                </div>\\n\\n                \\n                <div class=\"pep-widget\">\\n\\n                    <h2 class=\"widget-title\">\\n                        <span class=\"prompt\">&gt;&gt;&gt;</span> <a href=\"/dev/peps/\">Python Enhancement Proposals<span class=\"say-no-more\"> (PEPs)</span></a>: The future of Python<span class=\"say-no-more\"> is discussed here.</span>\\n                        <a aria-hidden=\"true\" class=\"rss-link\" href=\"/dev/peps/peps.rss\"><span class=\"icon-feed\"></span> RSS</a>\\n                    </h2>\\n\\n\\n                    \\n                    \\n                </div>\\n\\n                                <div class=\"psf-widget\">\\n\\n                    <div class=\"python-logo\"></div>\\n                    \\n                    <h2 class=\"widget-title\">\\r\\n    <span class=\"prompt\">&gt;&gt;&gt;</span> <a href=\"/psf/\">Python Software Foundation</a>\\r\\n</h2>\\r\\n<p>The mission of the Python Software Foundation is to promote, protect, and advance the Python programming language, and to support and facilitate the growth of a diverse and international community of Python programmers. <a class=\"readmore\" href=\"/psf/\">Learn more</a> </p>\\r\\n<p class=\"click-these\">\\r\\n    <a class=\"button\" href=\"/users/membership/\">Become a Member</a>\\r\\n    <a class=\"button\" href=\"/psf/donations/\">Donate to the PSF</a>\\r\\n</p>\\n                </div>\\n\\n\\n\\n\\n                </section>\\n\\n                \\n                \\n\\n                \\n                \\n\\n\\n            </div><!-- end .container -->\\n        </div><!-- end #content .content-wrapper -->\\n\\n        <!-- Footer and social media list -->\\n        \\n        <footer id=\"site-map\" class=\"main-footer\" role=\"contentinfo\">\\n            <div class=\"main-footer-links\">\\n                <div class=\"container\">\\n\\n                    \\n                    <a id=\"back-to-top-1\" class=\"jump-link\" href=\"#python-network\"><span aria-hidden=\"true\" class=\"icon-arrow-up\"><span>&#9650;</span></span> Back to Top</a>\\n\\n                    \\n\\n<ul class=\"sitemap navigation menu do-not-print\" role=\"tree\" id=\"container\">\\n    \\n    <li class=\"tier-1 element-1\">\\n        <a href=\"/about/\" >About</a>\\n        \\n            \\n\\n<ul class=\"subnav menu\">\\n    \\n        <li class=\"tier-2 element-1\" role=\"treeitem\"><a href=\"/about/apps/\" title=\"\">Applications</a></li>\\n    \\n        <li class=\"tier-2 element-2\" role=\"treeitem\"><a href=\"/about/quotes/\" title=\"\">Quotes</a></li>\\n    \\n        <li class=\"tier-2 element-3\" role=\"treeitem\"><a href=\"/about/gettingstarted/\" title=\"\">Getting Started</a></li>\\n    \\n        <li class=\"tier-2 element-4\" role=\"treeitem\"><a href=\"/about/help/\" title=\"\">Help</a></li>\\n    \\n        <li class=\"tier-2 element-5\" role=\"treeitem\"><a href=\"http://brochure.getpython.info/\" title=\"\">Python Brochure</a></li>\\n    \\n</ul>\\n\\n        \\n    </li>\\n    \\n    <li class=\"tier-1 element-2\">\\n        <a href=\"/downloads/\" >Downloads</a>\\n        \\n            \\n\\n<ul class=\"subnav menu\">\\n    \\n        <li class=\"tier-2 element-1\" role=\"treeitem\"><a href=\"/downloads/\" title=\"\">All releases</a></li>\\n    \\n        <li class=\"tier-2 element-2\" role=\"treeitem\"><a href=\"/downloads/source/\" title=\"\">Source code</a></li>\\n    \\n        <li class=\"tier-2 element-3\" role=\"treeitem\"><a href=\"/downloads/windows/\" title=\"\">Windows</a></li>\\n    \\n        <li class=\"tier-2 element-4\" role=\"treeitem\"><a href=\"/downloads/macos/\" title=\"\">macOS</a></li>\\n    \\n        <li class=\"tier-2 element-5\" role=\"treeitem\"><a href=\"/download/other/\" title=\"\">Other Platforms</a></li>\\n    \\n        <li class=\"tier-2 element-6\" role=\"treeitem\"><a href=\"https://docs.python.org/3/license.html\" title=\"\">License</a></li>\\n    \\n        <li class=\"tier-2 element-7\" role=\"treeitem\"><a href=\"/download/alternatives\" title=\"\">Alternative Implementations</a></li>\\n    \\n</ul>\\n\\n        \\n    </li>\\n    \\n    <li class=\"tier-1 element-3\">\\n        <a href=\"/doc/\" >Documentation</a>\\n        \\n            \\n\\n<ul class=\"subnav menu\">\\n    \\n        <li class=\"tier-2 element-1\" role=\"treeitem\"><a href=\"/doc/\" title=\"\">Docs</a></li>\\n    \\n        <li class=\"tier-2 element-2\" role=\"treeitem\"><a href=\"/doc/av\" title=\"\">Audio/Visual Talks</a></li>\\n    \\n        <li class=\"tier-2 element-3\" role=\"treeitem\"><a href=\"https://wiki.python.org/moin/BeginnersGuide\" title=\"\">Beginner&#39;s Guide</a></li>\\n    \\n        <li class=\"tier-2 element-4\" role=\"treeitem\"><a href=\"https://devguide.python.org/\" title=\"\">Developer&#39;s Guide</a></li>\\n    \\n        <li class=\"tier-2 element-5\" role=\"treeitem\"><a href=\"https://docs.python.org/faq/\" title=\"\">FAQ</a></li>\\n    \\n        <li class=\"tier-2 element-6\" role=\"treeitem\"><a href=\"http://wiki.python.org/moin/Languages\" title=\"\">Non-English Docs</a></li>\\n    \\n        <li class=\"tier-2 element-7\" role=\"treeitem\"><a href=\"http://python.org/dev/peps/\" title=\"\">PEP Index</a></li>\\n    \\n        <li class=\"tier-2 element-8\" role=\"treeitem\"><a href=\"https://wiki.python.org/moin/PythonBooks\" title=\"\">Python Books</a></li>\\n    \\n        <li class=\"tier-2 element-9\" role=\"treeitem\"><a href=\"/doc/essays/\" title=\"\">Python Essays</a></li>\\n    \\n</ul>\\n\\n        \\n    </li>\\n    \\n    <li class=\"tier-1 element-4\">\\n        <a href=\"/community/\" >Community</a>\\n        \\n            \\n\\n<ul class=\"subnav menu\">\\n    \\n        <li class=\"tier-2 element-1\" role=\"treeitem\"><a href=\"/community/diversity/\" title=\"\">Diversity</a></li>\\n    \\n        <li class=\"tier-2 element-2\" role=\"treeitem\"><a href=\"/community/lists/\" title=\"\">Mailing Lists</a></li>\\n    \\n        <li class=\"tier-2 element-3\" role=\"treeitem\"><a href=\"/community/irc/\" title=\"\">IRC</a></li>\\n    \\n        <li class=\"tier-2 element-4\" role=\"treeitem\"><a href=\"/community/forums/\" title=\"\">Forums</a></li>\\n    \\n        <li class=\"tier-2 element-5\" role=\"treeitem\"><a href=\"/psf/annual-report/2021/\" title=\"\">PSF Annual Impact Report</a></li>\\n    \\n        <li class=\"tier-2 element-6\" role=\"treeitem\"><a href=\"/community/workshops/\" title=\"\">Python Conferences</a></li>\\n    \\n        <li class=\"tier-2 element-7\" role=\"treeitem\"><a href=\"/community/sigs/\" title=\"\">Special Interest Groups</a></li>\\n    \\n        <li class=\"tier-2 element-8\" role=\"treeitem\"><a href=\"/community/logos/\" title=\"\">Python Logo</a></li>\\n    \\n        <li class=\"tier-2 element-9\" role=\"treeitem\"><a href=\"https://wiki.python.org/moin/\" title=\"\">Python Wiki</a></li>\\n    \\n        <li class=\"tier-2 element-10\" role=\"treeitem\"><a href=\"/community/merchandise/\" title=\"\">Merchandise</a></li>\\n    \\n        <li class=\"tier-2 element-11\" role=\"treeitem\"><a href=\"/community/awards\" title=\"\">Community Awards</a></li>\\n    \\n        <li class=\"tier-2 element-12\" role=\"treeitem\"><a href=\"/psf/conduct/\" title=\"\">Code of Conduct</a></li>\\n    \\n        <li class=\"tier-2 element-13\" role=\"treeitem\"><a href=\"/psf/get-involved/\" title=\"\">Get Involved</a></li>\\n    \\n        <li class=\"tier-2 element-14\" role=\"treeitem\"><a href=\"/psf/community-stories/\" title=\"\">Shared Stories</a></li>\\n    \\n</ul>\\n\\n        \\n    </li>\\n    \\n    <li class=\"tier-1 element-5\">\\n        <a href=\"/success-stories/\" title=\"success-stories\">Success Stories</a>\\n        \\n            \\n\\n<ul class=\"subnav menu\">\\n    \\n        <li class=\"tier-2 element-1\" role=\"treeitem\"><a href=\"/success-stories/category/arts/\" title=\"\">Arts</a></li>\\n    \\n        <li class=\"tier-2 element-2\" role=\"treeitem\"><a href=\"/success-stories/category/business/\" title=\"\">Business</a></li>\\n    \\n        <li class=\"tier-2 element-3\" role=\"treeitem\"><a href=\"/success-stories/category/education/\" title=\"\">Education</a></li>\\n    \\n        <li class=\"tier-2 element-4\" role=\"treeitem\"><a href=\"/success-stories/category/engineering/\" title=\"\">Engineering</a></li>\\n    \\n        <li class=\"tier-2 element-5\" role=\"treeitem\"><a href=\"/success-stories/category/government/\" title=\"\">Government</a></li>\\n    \\n        <li class=\"tier-2 element-6\" role=\"treeitem\"><a href=\"/success-stories/category/scientific/\" title=\"\">Scientific</a></li>\\n    \\n        <li class=\"tier-2 element-7\" role=\"treeitem\"><a href=\"/success-stories/category/software-development/\" title=\"\">Software Development</a></li>\\n    \\n</ul>\\n\\n        \\n    </li>\\n    \\n    <li class=\"tier-1 element-6\">\\n        <a href=\"/blogs/\" title=\"News from around the Python world\">News</a>\\n        \\n            \\n\\n<ul class=\"subnav menu\">\\n    \\n        <li class=\"tier-2 element-1\" role=\"treeitem\"><a href=\"/blogs/\" title=\"Python Insider Blog Posts\">Python News</a></li>\\n    \\n        <li class=\"tier-2 element-2\" role=\"treeitem\"><a href=\"/psf/newsletter/\" title=\"Python Software Foundation Newsletter\">PSF Newsletter</a></li>\\n    \\n        <li class=\"tier-2 element-3\" role=\"treeitem\"><a href=\"http://planetpython.org/\" title=\"Planet Python\">Community News</a></li>\\n    \\n        <li class=\"tier-2 element-4\" role=\"treeitem\"><a href=\"http://pyfound.blogspot.com/\" title=\"PSF Blog\">PSF News</a></li>\\n    \\n        <li class=\"tier-2 element-5\" role=\"treeitem\"><a href=\"http://pycon.blogspot.com/\" title=\"PyCon Blog\">PyCon News</a></li>\\n    \\n</ul>\\n\\n        \\n    </li>\\n    \\n    <li class=\"tier-1 element-7\">\\n        <a href=\"/events/\" >Events</a>\\n        \\n            \\n\\n<ul class=\"subnav menu\">\\n    \\n        <li class=\"tier-2 element-1\" role=\"treeitem\"><a href=\"/events/python-events/\" title=\"\">Python Events</a></li>\\n    \\n        <li class=\"tier-2 element-2\" role=\"treeitem\"><a href=\"/events/python-user-group/\" title=\"\">User Group Events</a></li>\\n    \\n        <li class=\"tier-2 element-3\" role=\"treeitem\"><a href=\"/events/python-events/past/\" title=\"\">Python Events Archive</a></li>\\n    \\n        <li class=\"tier-2 element-4\" role=\"treeitem\"><a href=\"/events/python-user-group/past/\" title=\"\">User Group Events Archive</a></li>\\n    \\n        <li class=\"tier-2 element-5\" role=\"treeitem\"><a href=\"https://wiki.python.org/moin/PythonEventsCalendar#Submitting_an_Event\" title=\"\">Submit an Event</a></li>\\n    \\n</ul>\\n\\n        \\n    </li>\\n    \\n    <li class=\"tier-1 element-8\">\\n        <a href=\"/dev/\" >Contributing</a>\\n        \\n            \\n\\n<ul class=\"subnav menu\">\\n    \\n        <li class=\"tier-2 element-1\" role=\"treeitem\"><a href=\"https://devguide.python.org/\" title=\"\">Developer&#39;s Guide</a></li>\\n    \\n        <li class=\"tier-2 element-2\" role=\"treeitem\"><a href=\"https://bugs.python.org/\" title=\"\">Issue Tracker</a></li>\\n    \\n        <li class=\"tier-2 element-3\" role=\"treeitem\"><a href=\"https://mail.python.org/mailman/listinfo/python-dev\" title=\"\">python-dev list</a></li>\\n    \\n        <li class=\"tier-2 element-4\" role=\"treeitem\"><a href=\"/dev/core-mentorship/\" title=\"\">Core Mentorship</a></li>\\n    \\n        <li class=\"tier-2 element-5\" role=\"treeitem\"><a href=\"/dev/security/\" title=\"\">Report a Security Issue</a></li>\\n    \\n</ul>\\n\\n        \\n    </li>\\n    \\n</ul>\\n\\n\\n                    <a id=\"back-to-top-2\" class=\"jump-link\" href=\"#python-network\"><span aria-hidden=\"true\" class=\"icon-arrow-up\"><span>&#9650;</span></span> Back to Top</a>\\n                    \\n\\n                </div><!-- end .container -->\\n            </div> <!-- end .main-footer-links -->\\n\\n            <div class=\"site-base\">\\n                <div class=\"container\">\\n                    \\n                    <ul class=\"footer-links navigation menu do-not-print\" role=\"tree\">\\n                        <li class=\"tier-1 element-1\"><a href=\"/about/help/\">Help &amp; <span class=\"say-no-more\">General</span> Contact</a></li>\\n                        <li class=\"tier-1 element-2\"><a href=\"/community/diversity/\">Diversity <span class=\"say-no-more\">Initiatives</span></a></li>\\n                        <li class=\"tier-1 element-3\"><a href=\"https://github.com/python/pythondotorg/issues\">Submit Website Bug</a></li>\\n                        <li class=\"tier-1 element-4\">\\n                            <a href=\"https://status.python.org/\">Status <span class=\"python-status-indicator-default\" id=\"python-status-indicator\"></span></a>\\n                        </li>\\n                    </ul>\\n\\n                    <div class=\"copyright\">\\n                        <p><small>\\n                            <span class=\"pre\">Copyright &copy;2001-2022.</span>\\n                            &nbsp;<span class=\"pre\"><a href=\"/psf-landing/\">Python Software Foundation</a></span>\\n                            &nbsp;<span class=\"pre\"><a href=\"/about/legal/\">Legal Statements</a></span>\\n                            &nbsp;<span class=\"pre\"><a href=\"/privacy/\">Privacy Policy</a></span>\\n                            &nbsp;<span class=\"pre\"><a href=\"/psf/sponsorship/sponsors/#heroku\">Powered by Heroku</a></span>\\n                        </small></p>\\n                    </div>\\n\\n                </div><!-- end .container -->\\n            </div><!-- end .site-base -->\\n\\n        </footer>\\n        \\n\\n    </div><!-- end #touchnav-wrapper -->\\n\\n    \\n    <script src=\"//ajax.googleapis.com/ajax/libs/jquery/1.8.2/jquery.min.js\"></script>\\n    <script>window.jQuery || document.write(\\'<script src=\"/static/js/libs/jquery-1.8.2.min.js\"><\\\\/script>\\')</script>\\n    <script src=\"//ajax.googleapis.com/ajax/libs/jqueryui/1.12.1/jquery-ui.min.js\"></script>\\n    <script>window.jQuery || document.write(\\'<script src=\"/static/js/libs/jquery-ui-1.12.1.min.js\"><\\\\/script>\\')</script>\\n\\n    <script src=\"/static/js/libs/masonry.pkgd.min.js\"></script>\\n    <script src=\"/static/js/libs/html-includes.js\"></script>\\n\\n    <script type=\"text/javascript\" src=\"/static/js/main-min.f5487accf7ed.js\" charset=\"utf-8\"></script>\\n    \\n\\n    <!--[if lte IE 7]>\\n    <script type=\"text/javascript\" src=\"/static/js/plugins/IE8-min.8af6e26c7a3b.js\" charset=\"utf-8\"></script>\\n    \\n    \\n    <![endif]-->\\n\\n    <!--[if lte IE 8]>\\n    <script type=\"text/javascript\" src=\"/static/js/plugins/getComputedStyle-min.d41d8cd98f00.js\" charset=\"utf-8\"></script>\\n    \\n    \\n    <![endif]-->\\n\\n    \\n\\n    \\n    \\n\\n</body>\\n</html>\\n'\n"
     ]
    }
   ],
   "source": [
    "data1 = r1.read()  # This will return entire content.\n",
    "print(data1)"
   ]
  },
  {
   "cell_type": "markdown",
   "id": "e2eeb982",
   "metadata": {},
   "source": [
    "Ahora vamos a hacer lo mismo con una respuesta inválida, por ejemplo, `docs.python.org/parrot.spam`"
   ]
  },
  {
   "cell_type": "code",
   "execution_count": 9,
   "id": "e0868900",
   "metadata": {},
   "outputs": [
    {
     "name": "stdout",
     "output_type": "stream",
     "text": [
      "404 Not Found\n"
     ]
    }
   ],
   "source": [
    "conn = http.client.HTTPSConnection(\"docs.python.org\")\n",
    "conn.request(\"GET\", \"/parrot.spam\")\n",
    "r2 = conn.getresponse()\n",
    "print(r2.status, r2.reason)"
   ]
  },
  {
   "cell_type": "code",
   "execution_count": 10,
   "id": "eb0d2747",
   "metadata": {},
   "outputs": [
    {
     "name": "stdout",
     "output_type": "stream",
     "text": [
      "b'<html>\\r\\n<head><title>404 Not Found</title></head>\\r\\n<body>\\r\\n<center><h1>404 Not Found</h1></center>\\r\\n<hr><center>nginx</center>\\r\\n</body>\\r\\n</html>\\r\\n'\n"
     ]
    }
   ],
   "source": [
    "data2 = r2.read()\n",
    "print(data2)\n",
    "conn.close()"
   ]
  },
  {
   "cell_type": "markdown",
   "id": "7b6d5e4a",
   "metadata": {},
   "source": [
    "# Ejercicio 3: Librería `requests`"
   ]
  },
  {
   "cell_type": "markdown",
   "id": "8eb446f5",
   "metadata": {},
   "source": [
    "La librería más usada por los desarrolladores Python para hacer requests a una API es **[requests: http para humanos](https://docs.python-requests.org/es/latest/)**\n",
    "    "
   ]
  },
  {
   "cell_type": "code",
   "execution_count": 16,
   "id": "4d23da36",
   "metadata": {},
   "outputs": [
    {
     "name": "stdout",
     "output_type": "stream",
     "text": [
      "Collecting requests\n",
      "  Downloading requests-2.28.1-py3-none-any.whl (62 kB)\n",
      "\u001b[K     |████████████████████████████████| 62 kB 1.9 MB/s eta 0:00:01\n",
      "\u001b[?25hCollecting charset-normalizer<3,>=2\n",
      "  Downloading charset_normalizer-2.1.1-py3-none-any.whl (39 kB)\n",
      "Collecting certifi>=2017.4.17\n",
      "  Using cached certifi-2022.9.24-py3-none-any.whl (161 kB)\n",
      "Requirement already satisfied: idna<4,>=2.5 in /home/alicia/workspace/eoi/.venv/lib/python3.8/site-packages (from requests) (3.4)\n",
      "Collecting urllib3<1.27,>=1.21.1\n",
      "  Downloading urllib3-1.26.12-py2.py3-none-any.whl (140 kB)\n",
      "\u001b[K     |████████████████████████████████| 140 kB 17.6 MB/s eta 0:00:01\n",
      "\u001b[?25hInstalling collected packages: charset-normalizer, certifi, urllib3, requests\n",
      "Successfully installed certifi-2022.9.24 charset-normalizer-2.1.1 requests-2.28.1 urllib3-1.26.12\n"
     ]
    }
   ],
   "source": [
    "! pip install requests"
   ]
  },
  {
   "cell_type": "code",
   "execution_count": 17,
   "id": "6fd8316b",
   "metadata": {},
   "outputs": [],
   "source": [
    "import requests"
   ]
  },
  {
   "cell_type": "markdown",
   "id": "78ee8a69",
   "metadata": {},
   "source": [
    "Uno de los métodos HTTP más comunes es GET. El método GET indica que está intentando obtener o recuperar datos de un recurso específico."
   ]
  },
  {
   "cell_type": "code",
   "execution_count": 18,
   "id": "4b9a21a5",
   "metadata": {},
   "outputs": [
    {
     "data": {
      "text/plain": [
       "<Response [200]>"
      ]
     },
     "execution_count": 18,
     "metadata": {},
     "output_type": "execute_result"
    }
   ],
   "source": [
    "requests.get('https://api.github.com')"
   ]
  },
  {
   "cell_type": "markdown",
   "id": "8cb3cea5",
   "metadata": {},
   "source": [
    "Una respuesta (response) es un objeto poderoso para inspeccionar los resultados de la petición. Haz la misma petición nuevamente, pero esta vez almacena el valor de retorno en una variable para que puedas ver más de cerca sus atributos y comportamientos:"
   ]
  },
  {
   "cell_type": "code",
   "execution_count": 19,
   "id": "60951ad5",
   "metadata": {},
   "outputs": [],
   "source": [
    "response = requests.get('https://api.github.com')"
   ]
  },
  {
   "cell_type": "code",
   "execution_count": 20,
   "id": "de4ecab6",
   "metadata": {},
   "outputs": [
    {
     "data": {
      "text/plain": [
       "200"
      ]
     },
     "execution_count": 20,
     "metadata": {},
     "output_type": "execute_result"
    }
   ],
   "source": [
    "response.status_code"
   ]
  },
  {
   "cell_type": "markdown",
   "id": "a48469a2",
   "metadata": {},
   "source": [
    "A veces, puedes usar el campo `status_code` para tomar decisiones en el código"
   ]
  },
  {
   "cell_type": "code",
   "execution_count": 21,
   "id": "c5379c34",
   "metadata": {},
   "outputs": [
    {
     "name": "stdout",
     "output_type": "stream",
     "text": [
      "Success!\n"
     ]
    }
   ],
   "source": [
    "if response.status_code == 200:\n",
    "    print('Success!')\n",
    "elif response.status_code == 404:\n",
    "    print('Not Found.')"
   ]
  },
  {
   "cell_type": "markdown",
   "id": "b2c7feb0",
   "metadata": {},
   "source": [
    "Prueba ahora con una URL inválida"
   ]
  },
  {
   "cell_type": "code",
   "execution_count": 22,
   "id": "d0fe350d",
   "metadata": {},
   "outputs": [],
   "source": [
    "response = requests.get('https://api.github.com/invalid')"
   ]
  },
  {
   "cell_type": "code",
   "execution_count": 23,
   "id": "9feb719d",
   "metadata": {},
   "outputs": [
    {
     "data": {
      "text/plain": [
       "404"
      ]
     },
     "execution_count": 23,
     "metadata": {},
     "output_type": "execute_result"
    }
   ],
   "source": [
    "response.status_code"
   ]
  },
  {
   "cell_type": "markdown",
   "id": "fb29eb4e",
   "metadata": {},
   "source": [
    "La respuesta de un GET a menudo tiene información valiosa, conocida como carga útil, en el cuerpo del mensaje. Usando los atributos y métodos de `response`, puede ver la carga útil en una variedad de formatos diferentes."
   ]
  },
  {
   "cell_type": "code",
   "execution_count": 24,
   "id": "cf107c25",
   "metadata": {},
   "outputs": [
    {
     "data": {
      "text/plain": [
       "b'{\"current_user_url\":\"https://api.github.com/user\",\"current_user_authorizations_html_url\":\"https://github.com/settings/connections/applications{/client_id}\",\"authorizations_url\":\"https://api.github.com/authorizations\",\"code_search_url\":\"https://api.github.com/search/code?q={query}{&page,per_page,sort,order}\",\"commit_search_url\":\"https://api.github.com/search/commits?q={query}{&page,per_page,sort,order}\",\"emails_url\":\"https://api.github.com/user/emails\",\"emojis_url\":\"https://api.github.com/emojis\",\"events_url\":\"https://api.github.com/events\",\"feeds_url\":\"https://api.github.com/feeds\",\"followers_url\":\"https://api.github.com/user/followers\",\"following_url\":\"https://api.github.com/user/following{/target}\",\"gists_url\":\"https://api.github.com/gists{/gist_id}\",\"hub_url\":\"https://api.github.com/hub\",\"issue_search_url\":\"https://api.github.com/search/issues?q={query}{&page,per_page,sort,order}\",\"issues_url\":\"https://api.github.com/issues\",\"keys_url\":\"https://api.github.com/user/keys\",\"label_search_url\":\"https://api.github.com/search/labels?q={query}&repository_id={repository_id}{&page,per_page}\",\"notifications_url\":\"https://api.github.com/notifications\",\"organization_url\":\"https://api.github.com/orgs/{org}\",\"organization_repositories_url\":\"https://api.github.com/orgs/{org}/repos{?type,page,per_page,sort}\",\"organization_teams_url\":\"https://api.github.com/orgs/{org}/teams\",\"public_gists_url\":\"https://api.github.com/gists/public\",\"rate_limit_url\":\"https://api.github.com/rate_limit\",\"repository_url\":\"https://api.github.com/repos/{owner}/{repo}\",\"repository_search_url\":\"https://api.github.com/search/repositories?q={query}{&page,per_page,sort,order}\",\"current_user_repositories_url\":\"https://api.github.com/user/repos{?type,page,per_page,sort}\",\"starred_url\":\"https://api.github.com/user/starred{/owner}{/repo}\",\"starred_gists_url\":\"https://api.github.com/gists/starred\",\"topic_search_url\":\"https://api.github.com/search/topics?q={query}{&page,per_page}\",\"user_url\":\"https://api.github.com/users/{user}\",\"user_organizations_url\":\"https://api.github.com/user/orgs\",\"user_repositories_url\":\"https://api.github.com/users/{user}/repos{?type,page,per_page,sort}\",\"user_search_url\":\"https://api.github.com/search/users?q={query}{&page,per_page,sort,order}\"}'"
      ]
     },
     "execution_count": 24,
     "metadata": {},
     "output_type": "execute_result"
    }
   ],
   "source": [
    "response = requests.get('https://api.github.com')\n",
    "response.content"
   ]
  },
  {
   "cell_type": "code",
   "execution_count": 8,
   "id": "3ca2f960",
   "metadata": {},
   "outputs": [
    {
     "data": {
      "text/plain": [
       "'{\"current_user_url\":\"https://api.github.com/user\",\"current_user_authorizations_html_url\":\"https://github.com/settings/connections/applications{/client_id}\",\"authorizations_url\":\"https://api.github.com/authorizations\",\"code_search_url\":\"https://api.github.com/search/code?q={query}{&page,per_page,sort,order}\",\"commit_search_url\":\"https://api.github.com/search/commits?q={query}{&page,per_page,sort,order}\",\"emails_url\":\"https://api.github.com/user/emails\",\"emojis_url\":\"https://api.github.com/emojis\",\"events_url\":\"https://api.github.com/events\",\"feeds_url\":\"https://api.github.com/feeds\",\"followers_url\":\"https://api.github.com/user/followers\",\"following_url\":\"https://api.github.com/user/following{/target}\",\"gists_url\":\"https://api.github.com/gists{/gist_id}\",\"hub_url\":\"https://api.github.com/hub\",\"issue_search_url\":\"https://api.github.com/search/issues?q={query}{&page,per_page,sort,order}\",\"issues_url\":\"https://api.github.com/issues\",\"keys_url\":\"https://api.github.com/user/keys\",\"label_search_url\":\"https://api.github.com/search/labels?q={query}&repository_id={repository_id}{&page,per_page}\",\"notifications_url\":\"https://api.github.com/notifications\",\"organization_url\":\"https://api.github.com/orgs/{org}\",\"organization_repositories_url\":\"https://api.github.com/orgs/{org}/repos{?type,page,per_page,sort}\",\"organization_teams_url\":\"https://api.github.com/orgs/{org}/teams\",\"public_gists_url\":\"https://api.github.com/gists/public\",\"rate_limit_url\":\"https://api.github.com/rate_limit\",\"repository_url\":\"https://api.github.com/repos/{owner}/{repo}\",\"repository_search_url\":\"https://api.github.com/search/repositories?q={query}{&page,per_page,sort,order}\",\"current_user_repositories_url\":\"https://api.github.com/user/repos{?type,page,per_page,sort}\",\"starred_url\":\"https://api.github.com/user/starred{/owner}{/repo}\",\"starred_gists_url\":\"https://api.github.com/gists/starred\",\"user_url\":\"https://api.github.com/users/{user}\",\"user_organizations_url\":\"https://api.github.com/user/orgs\",\"user_repositories_url\":\"https://api.github.com/users/{user}/repos{?type,page,per_page,sort}\",\"user_search_url\":\"https://api.github.com/search/users?q={query}{&page,per_page,sort,order}\"}'"
      ]
     },
     "execution_count": 8,
     "metadata": {},
     "output_type": "execute_result"
    }
   ],
   "source": [
    "response.text"
   ]
  },
  {
   "cell_type": "code",
   "execution_count": 25,
   "id": "fa8f7a6f",
   "metadata": {},
   "outputs": [
    {
     "data": {
      "text/plain": [
       "{'current_user_url': 'https://api.github.com/user',\n",
       " 'current_user_authorizations_html_url': 'https://github.com/settings/connections/applications{/client_id}',\n",
       " 'authorizations_url': 'https://api.github.com/authorizations',\n",
       " 'code_search_url': 'https://api.github.com/search/code?q={query}{&page,per_page,sort,order}',\n",
       " 'commit_search_url': 'https://api.github.com/search/commits?q={query}{&page,per_page,sort,order}',\n",
       " 'emails_url': 'https://api.github.com/user/emails',\n",
       " 'emojis_url': 'https://api.github.com/emojis',\n",
       " 'events_url': 'https://api.github.com/events',\n",
       " 'feeds_url': 'https://api.github.com/feeds',\n",
       " 'followers_url': 'https://api.github.com/user/followers',\n",
       " 'following_url': 'https://api.github.com/user/following{/target}',\n",
       " 'gists_url': 'https://api.github.com/gists{/gist_id}',\n",
       " 'hub_url': 'https://api.github.com/hub',\n",
       " 'issue_search_url': 'https://api.github.com/search/issues?q={query}{&page,per_page,sort,order}',\n",
       " 'issues_url': 'https://api.github.com/issues',\n",
       " 'keys_url': 'https://api.github.com/user/keys',\n",
       " 'label_search_url': 'https://api.github.com/search/labels?q={query}&repository_id={repository_id}{&page,per_page}',\n",
       " 'notifications_url': 'https://api.github.com/notifications',\n",
       " 'organization_url': 'https://api.github.com/orgs/{org}',\n",
       " 'organization_repositories_url': 'https://api.github.com/orgs/{org}/repos{?type,page,per_page,sort}',\n",
       " 'organization_teams_url': 'https://api.github.com/orgs/{org}/teams',\n",
       " 'public_gists_url': 'https://api.github.com/gists/public',\n",
       " 'rate_limit_url': 'https://api.github.com/rate_limit',\n",
       " 'repository_url': 'https://api.github.com/repos/{owner}/{repo}',\n",
       " 'repository_search_url': 'https://api.github.com/search/repositories?q={query}{&page,per_page,sort,order}',\n",
       " 'current_user_repositories_url': 'https://api.github.com/user/repos{?type,page,per_page,sort}',\n",
       " 'starred_url': 'https://api.github.com/user/starred{/owner}{/repo}',\n",
       " 'starred_gists_url': 'https://api.github.com/gists/starred',\n",
       " 'topic_search_url': 'https://api.github.com/search/topics?q={query}{&page,per_page}',\n",
       " 'user_url': 'https://api.github.com/users/{user}',\n",
       " 'user_organizations_url': 'https://api.github.com/user/orgs',\n",
       " 'user_repositories_url': 'https://api.github.com/users/{user}/repos{?type,page,per_page,sort}',\n",
       " 'user_search_url': 'https://api.github.com/search/users?q={query}{&page,per_page,sort,order}'}"
      ]
     },
     "execution_count": 25,
     "metadata": {},
     "output_type": "execute_result"
    }
   ],
   "source": [
    "response.json()"
   ]
  },
  {
   "cell_type": "markdown",
   "id": "70699b34",
   "metadata": {},
   "source": [
    "## Headers"
   ]
  },
  {
   "cell_type": "markdown",
   "id": "51d1d96d",
   "metadata": {},
   "source": [
    "Los encabezados de respuesta pueden darte información útil, como el tipo de contenido de la carga útil de respuesta y un límite de tiempo sobre cuánto tiempo almacenar en caché la respuesta. Para ver estos encabezados, accede al campo `headers`:"
   ]
  },
  {
   "cell_type": "code",
   "execution_count": 26,
   "id": "b8f4928b",
   "metadata": {},
   "outputs": [
    {
     "data": {
      "text/plain": [
       "{'Server': 'GitHub.com', 'Date': 'Tue, 22 Nov 2022 15:28:33 GMT', 'Content-Type': 'application/json; charset=utf-8', 'Cache-Control': 'public, max-age=60, s-maxage=60', 'Vary': 'Accept, Accept-Encoding, Accept, X-Requested-With', 'ETag': 'W/\"4f825cc84e1c733059d46e76e6df9db557ae5254f9625dfe8e1b09499c449438\"', 'X-GitHub-Media-Type': 'github.v3; format=json', 'Access-Control-Expose-Headers': 'ETag, Link, Location, Retry-After, X-GitHub-OTP, X-RateLimit-Limit, X-RateLimit-Remaining, X-RateLimit-Used, X-RateLimit-Resource, X-RateLimit-Reset, X-OAuth-Scopes, X-Accepted-OAuth-Scopes, X-Poll-Interval, X-GitHub-Media-Type, X-GitHub-SSO, X-GitHub-Request-Id, Deprecation, Sunset', 'Access-Control-Allow-Origin': '*', 'Strict-Transport-Security': 'max-age=31536000; includeSubdomains; preload', 'X-Frame-Options': 'deny', 'X-Content-Type-Options': 'nosniff', 'X-XSS-Protection': '0', 'Referrer-Policy': 'origin-when-cross-origin, strict-origin-when-cross-origin', 'Content-Security-Policy': \"default-src 'none'\", 'Content-Encoding': 'gzip', 'X-RateLimit-Limit': '60', 'X-RateLimit-Remaining': '56', 'X-RateLimit-Reset': '1669134511', 'X-RateLimit-Resource': 'core', 'X-RateLimit-Used': '4', 'Accept-Ranges': 'bytes', 'Content-Length': '510', 'X-GitHub-Request-Id': 'E54A:B44F:60689D6:61A697F:637CEAAF'}"
      ]
     },
     "execution_count": 26,
     "metadata": {},
     "output_type": "execute_result"
    }
   ],
   "source": [
    "response.headers"
   ]
  },
  {
   "cell_type": "markdown",
   "id": "c9ebc61c",
   "metadata": {},
   "source": [
    "Una forma común de personalizar una solicitud GET es pasar valores a través de parámetros de cadena de consulta en la URL. Para hacer usa la función get utilizando el parámetro `params`. \n",
    "\n",
    "Por ejemplo, puede usar la API de búsqueda de GitHub para buscar la biblioteca de solicitudes:"
   ]
  },
  {
   "cell_type": "code",
   "execution_count": 27,
   "id": "1d9067ab",
   "metadata": {},
   "outputs": [
    {
     "name": "stdout",
     "output_type": "stream",
     "text": [
      "Repository name: grequests\n",
      "Repository description: Requests + Gevent = <3\n"
     ]
    }
   ],
   "source": [
    "import requests\n",
    "\n",
    "# Search GitHub's repositories for requests\n",
    "response = requests.get(\n",
    "    'https://api.github.com/search/repositories',\n",
    "    params={'q': 'requests+language:python'},\n",
    ")\n",
    "\n",
    "# Inspect some attributes of the `requests` repository\n",
    "json_response = response.json()\n",
    "repository = json_response['items'][0]\n",
    "print(f'Repository name: {repository[\"name\"]}')  # Python 3.6+\n",
    "print(f'Repository description: {repository[\"description\"]}')  # Python 3.6+"
   ]
  },
  {
   "cell_type": "markdown",
   "id": "7194e6ed",
   "metadata": {},
   "source": [
    "## Otros métodos HTTP"
   ]
  },
  {
   "cell_type": "code",
   "execution_count": 28,
   "id": "df24843b",
   "metadata": {},
   "outputs": [
    {
     "data": {
      "text/plain": [
       "{'args': {},\n",
       " 'data': '',\n",
       " 'files': {},\n",
       " 'form': {'key': 'value'},\n",
       " 'headers': {'Accept': '*/*',\n",
       "  'Accept-Encoding': 'gzip, deflate',\n",
       "  'Content-Length': '9',\n",
       "  'Content-Type': 'application/x-www-form-urlencoded',\n",
       "  'Host': 'httpbin.org',\n",
       "  'User-Agent': 'python-requests/2.28.1',\n",
       "  'X-Amzn-Trace-Id': 'Root=1-637ceacf-31ea85647afd76653d284ac9'},\n",
       " 'json': None,\n",
       " 'origin': '83.39.148.39',\n",
       " 'url': 'https://httpbin.org/post'}"
      ]
     },
     "execution_count": 28,
     "metadata": {},
     "output_type": "execute_result"
    }
   ],
   "source": [
    "response = requests.post('https://httpbin.org/post', data={'key':'value'})\n",
    "response.json()"
   ]
  },
  {
   "cell_type": "code",
   "execution_count": 29,
   "id": "d0a81207",
   "metadata": {},
   "outputs": [
    {
     "data": {
      "text/plain": [
       "<Response [200]>"
      ]
     },
     "execution_count": 29,
     "metadata": {},
     "output_type": "execute_result"
    }
   ],
   "source": [
    "requests.post('https://httpbin.org/post', data={'key':'value'})\n",
    "requests.put('https://httpbin.org/put', data={'key':'value'})\n",
    "requests.delete('https://httpbin.org/delete')\n",
    "requests.head('https://httpbin.org/get')\n",
    "requests.patch('https://httpbin.org/patch', data={'key':'value'})\n",
    "requests.options('https://httpbin.org/get')"
   ]
  },
  {
   "cell_type": "markdown",
   "id": "057621f9",
   "metadata": {},
   "source": [
    "## Ejercicio 4: Explora otras librerías"
   ]
  },
  {
   "cell_type": "code",
   "execution_count": 31,
   "id": "0fe81c03",
   "metadata": {},
   "outputs": [
    {
     "name": "stdout",
     "output_type": "stream",
     "text": [
      "952\n",
      "[{'files': [{'url': 'https://www.fbi.gov/wanted/murders/evelin-martinez/download.pdf', 'name': 'English'}, {'url': 'https://www.fbi.gov/wanted/murders/evelin-martinez/martinezespanish2.pdf/@@download/file/MartinezESpanish2.pdf', 'name': 'EN ESPAÑOL'}], 'age_range': None, 'uid': '2af770ac3ceb4e3493ed5ac186bae197', 'weight': '115 pounds', 'occupations': None, 'field_offices': ['losangeles'], 'locations': None, 'reward_text': 'The FBI is offering a reward of up to $5,000 for information leading to the arrest of Evelin Martinez.', 'hair': 'black', 'ncic': 'W133303485', 'dates_of_birth_used': ['December 30, 1991'], 'caution': '<p>Evelin Martinez, a known gang member, is wanted for her alleged involvement in a murder and attempted murder in 2009.</p>\\r\\n<p>\\xa0</p>\\r\\n<p>On December 28, 2009, Martinez allegedly drove her boyfriend to a rival gang area in Los Angeles, California. Martinez then allegedly stopped her van, and her boyfriend allegedly exited the vehicle and approached two individuals standing outside a home. He allegedly then shouted a gang term, then allegedly fired multiple shots at the two individuals, killing one. He has since been arrested.</p>\\r\\n<p>\\xa0</p>\\r\\n<p>Martinez was charged with murder and attempted murder by the Superior Court of California, County of Los Angeles, and a state warrant was issued for her arrest on January 8, 2010. A federal arrest warrant was issued by the United States District Court, Central District of California, Los Angeles, California, on March 3, 2010, after Martinez was charged federally with unlawful flight to avoid prosecution.</p>', 'nationality': 'American', 'age_min': None, 'age_max': None, 'scars_and_marks': 'Martinez has the word \"socorro\" tattooed on her stomach, the words \"south los\" tattooed in an unknown location, the letters \"LA\" tattooed on her left arm, and three dots tattooed on her lip. She has a pierced tongue, lip, and nose.', 'subjects': ['Violent Crime - Murders'], 'aliases': ['Eyelin Martinez', 'Evelin Martinez-Perez', 'Evelyn Martinez', 'Mileny Gonzalez'], 'race_raw': 'White (Hispanic)', 'suspects': None, 'publication': '2019-02-13T07:45:00', 'title': 'EVELIN MARTINEZ', 'coordinates': [], 'hair_raw': 'Black', 'languages': None, 'complexion': None, 'build': None, 'details': None, 'status': 'na', 'legat_names': None, 'eyes': 'brown', 'person_classification': 'Main', 'description': 'Unlawful Flight to Avoid Prosecution - Murder, Attempted Murder', 'images': [{'large': 'https://www.fbi.gov/wanted/murders/evelin-martinez/@@images/image/large', 'caption': 'Photograph taken in 2008', 'thumb': 'https://www.fbi.gov/wanted/murders/evelin-martinez/@@images/image/thumb', 'original': 'https://www.fbi.gov/wanted/murders/evelin-martinez/@@images/image'}], 'possible_countries': None, 'weight_min': 115, 'additional_information': None, 'remarks': '<p>Martinez may be residing in, and has ties to, Mexico.</p>', 'path': '/wanted/murders/evelin-martinez', 'sex': 'Female', 'eyes_raw': 'Brown', 'weight_max': 115, 'reward_min': 0, 'url': 'https://www.fbi.gov/wanted/murders/evelin-martinez', 'possible_states': None, 'modified': '2022-11-10T15:17:35+00:00', 'reward_max': 0, 'race': 'hispanic', 'height_max': 62, 'place_of_birth': 'Torrance, California', 'height_min': 62, 'warning_message': 'SHOULD BE CONSIDERED ARMED AND DANGEROUS', '@id': 'https://api.fbi.gov/@wanted-person/2af770ac3ceb4e3493ed5ac186bae197'}, {'files': [{'url': 'https://www.fbi.gov/wanted/parental-kidnappings/gilbert-arredondo-hernandez/austin-cole-hernandez/download.pdf', 'name': 'English'}], 'age_range': None, 'uid': '1d1dbf1f-1eab-4224-87a1-2786498f195c', 'weight': '18 pounds (at time of disappearance)', 'occupations': None, 'field_offices': ['sacramento'], 'locations': None, 'reward_text': None, 'hair': 'brown', 'ncic': None, 'dates_of_birth_used': ['June 10, 1996'], 'caution': None, 'nationality': None, 'age_min': None, 'age_max': None, 'scars_and_marks': None, 'subjects': ['Parental Kidnapping Victim', 'Austin Hernandez', 'Hernandez', 'Austin Cole Hernandez'], 'aliases': None, 'race_raw': 'White (Hispanic)', 'suspects': None, 'publication': '2014-02-11T07:00:00', 'title': 'AUSTIN COLE HERNANDEZ', 'coordinates': [{'lat': 35.1321877, 'lng': -118.4489739, 'formatted': 'Tehachapi, CA 93561, USA'}], 'hair_raw': 'Brown', 'languages': None, 'complexion': None, 'build': None, 'details': None, 'status': 'na', 'legat_names': None, 'eyes': 'brown', 'person_classification': 'Victim', 'description': '', 'images': [{'large': 'https://www.fbi.gov/wanted/parental-kidnappings/gilbert-arredondo-hernandez/austin-cole-hernandez/@@images/image/large', 'caption': None, 'thumb': 'https://www.fbi.gov/wanted/parental-kidnappings/gilbert-arredondo-hernandez/austin-cole-hernandez/@@images/image/thumb', 'original': 'https://www.fbi.gov/wanted/parental-kidnappings/gilbert-arredondo-hernandez/austin-cole-hernandez/@@images/image'}, {'large': 'https://www.fbi.gov/wanted/parental-kidnappings/gilbert-arredondo-hernandez/austin-cole-hernandez/pkahernandezage.jpg/@@images/image/large', 'caption': 'Photograph age progressed to 16 years of age', 'thumb': 'https://www.fbi.gov/wanted/parental-kidnappings/gilbert-arredondo-hernandez/austin-cole-hernandez/pkahernandezage.jpg/@@images/image/thumb', 'original': 'https://www.fbi.gov/wanted/parental-kidnappings/gilbert-arredondo-hernandez/austin-cole-hernandez/pkahernandezage.jpg'}], 'possible_countries': ['MEX', 'USA'], 'weight_min': 18, 'additional_information': None, 'remarks': None, 'path': '/wanted/parental-kidnappings/gilbert-arredondo-hernandez/austin-cole-hernandez', 'sex': 'Male', 'eyes_raw': 'Brown', 'weight_max': 18, 'reward_min': 0, 'url': 'https://www.fbi.gov/wanted/parental-kidnappings/gilbert-arredondo-hernandez/austin-cole-hernandez', 'possible_states': ['US-CA', 'US-NV'], 'modified': '2022-11-10T14:24:00+00:00', 'reward_max': 0, 'race': 'hispanic', 'height_max': 26, 'place_of_birth': None, 'height_min': 26, 'warning_message': None, '@id': 'https://api.fbi.gov/@wanted-person/1d1dbf1f-1eab-4224-87a1-2786498f195c'}, {'files': [{'url': 'https://www.fbi.gov/wanted/parental-kidnappings/leslie-delbecq/gabrielle-dahm/download.pdf', 'name': 'English'}], 'age_range': None, 'uid': '9d500eb637c97e2e41a606433180bdd4', 'weight': '22 pounds (at the time of her disappearance)', 'occupations': None, 'field_offices': ['miami'], 'locations': None, 'reward_text': None, 'hair': 'brown', 'ncic': None, 'dates_of_birth_used': ['December 26, 2008'], 'caution': None, 'nationality': 'American', 'age_min': None, 'age_max': None, 'scars_and_marks': None, 'subjects': ['Parental Kidnapping Victim', 'Gabrielle Dahm', 'Dahm'], 'aliases': ['\"Gabby\"', 'Gabriella Nicole Dahm', 'Gabrielle Delbecq'], 'race_raw': 'White', 'suspects': None, 'publication': '2012-02-12T07:00:00', 'title': 'GABRIELLE DAHM', 'coordinates': [{'lat': 27.6648274, 'lng': -81.51575350000002, 'formatted': 'Florida, USA'}], 'hair_raw': 'Brown', 'languages': None, 'complexion': None, 'build': None, 'details': None, 'status': 'na', 'legat_names': None, 'eyes': 'blue', 'person_classification': 'Victim', 'description': 'International Parental Kidnapping', 'images': [{'large': 'https://www.fbi.gov/wanted/parental-kidnappings/leslie-delbecq/gabrielle-dahm/@@images/image/large', 'caption': None, 'thumb': 'https://www.fbi.gov/wanted/parental-kidnappings/leslie-delbecq/gabrielle-dahm/@@images/image/thumb', 'original': 'https://www.fbi.gov/wanted/parental-kidnappings/leslie-delbecq/gabrielle-dahm/@@images/image'}, {'large': 'https://www.fbi.gov/wanted/parental-kidnappings/leslie-delbecq/gabrielle-dahm/dahm_g2.jpg/@@images/image/large', 'caption': '', 'thumb': 'https://www.fbi.gov/wanted/parental-kidnappings/leslie-delbecq/gabrielle-dahm/dahm_g2.jpg/@@images/image/thumb', 'original': 'https://www.fbi.gov/wanted/parental-kidnappings/leslie-delbecq/gabrielle-dahm/dahm_g2.jpg'}], 'possible_countries': ['BEL', 'ARE', 'USA'], 'weight_min': 22, 'additional_information': None, 'remarks': None, 'path': '/wanted/parental-kidnappings/leslie-delbecq/gabrielle-dahm', 'sex': 'Female', 'eyes_raw': 'Blue', 'weight_max': 22, 'reward_min': 0, 'url': 'https://www.fbi.gov/wanted/parental-kidnappings/leslie-delbecq/gabrielle-dahm', 'possible_states': ['US-FL'], 'modified': '2022-11-10T14:23:59+00:00', 'reward_max': 0, 'race': 'white', 'height_max': 27, 'place_of_birth': 'Florida', 'height_min': 27, 'warning_message': None, '@id': 'https://api.fbi.gov/@wanted-person/9d500eb637c97e2e41a606433180bdd4'}, {'files': [{'url': 'https://www.fbi.gov/wanted/parental-kidnappings/gilbert-arredondo-hernandez/download.pdf', 'name': 'English'}, {'url': 'https://www.fbi.gov/wanted/parental-kidnappings/gilbert-arredondo-hernandez/gilbert-arredondo-hernandez-en-espanol.pdf/@@download/file/Gilbert Arredondo Hernández EN ESPAÑOL.pdf', 'name': 'EN ESPAÑOL'}], 'age_range': None, 'uid': '7c0e9ca4-104d-420d-8e84-faba744b270c', 'weight': '150 pounds', 'occupations': None, 'field_offices': ['sacramento'], 'locations': None, 'reward_text': None, 'hair': 'black', 'ncic': 'W036768144', 'dates_of_birth_used': ['March 15, 1965'], 'caution': '<p>Gilbert Arredondo Hernandez is wanted for allegedly kidnapping his son, <a data-linktype=\"external\" data-val=\"https://www.fbi.gov/wanted/parental-kidnappings/gilbert-arredondo-hernandez/austin-cole-hernandez\" href=\"https://www.fbi.gov/wanted/parental-kidnappings/gilbert-arredondo-hernandez/austin-cole-hernandez\" data-urltype=\"/view\">Austin Cole Hernandez</a>, from Tehachapi, California, on April 28, 1997. A local arrest warrant was issued for Hernandez on May 28, 1997, by the Kern County Sheriff\\'s Office after he was charged with parental abduction. A federal arrest warrant was issued for Hernandez on November 4, 1997, in the United States District Court, Eastern District of California, Bakersfield, California, after he was charged with unlawful flight to avoid prosecution.</p>', 'nationality': None, 'age_min': None, 'age_max': None, 'scars_and_marks': 'Hernandez has a scar on the back of his head.', 'subjects': ['Parental Kidnapping'], 'aliases': ['Gilbert Arrendondo Hernandez', 'Gilbert Arredondo Hernandez, Jr.', '\"Gil\"', '\"Junior\"'], 'race_raw': 'White (Hispanic)', 'suspects': None, 'publication': '2014-02-11T07:00:00', 'title': 'GILBERT ARREDONDO HERNANDEZ', 'coordinates': [], 'hair_raw': 'Black', 'languages': None, 'complexion': None, 'build': None, 'details': None, 'status': 'na', 'legat_names': None, 'eyes': 'brown', 'person_classification': 'Main', 'description': 'Unlawful Flight to Avoid Prosecution - Parental Abduction', 'images': [{'large': 'https://www.fbi.gov/wanted/parental-kidnappings/gilbert-arredondo-hernandez/@@images/image/large', 'caption': None, 'thumb': 'https://www.fbi.gov/wanted/parental-kidnappings/gilbert-arredondo-hernandez/@@images/image/thumb', 'original': 'https://www.fbi.gov/wanted/parental-kidnappings/gilbert-arredondo-hernandez/@@images/image'}, {'large': 'https://www.fbi.gov/wanted/parental-kidnappings/gilbert-arredondo-hernandez/pkghernandezglass.jpg/@@images/image/large', 'caption': 'Retouched photograph', 'thumb': 'https://www.fbi.gov/wanted/parental-kidnappings/gilbert-arredondo-hernandez/pkghernandezglass.jpg/@@images/image/thumb', 'original': 'https://www.fbi.gov/wanted/parental-kidnappings/gilbert-arredondo-hernandez/pkghernandezglass.jpg'}, {'large': 'https://www.fbi.gov/wanted/parental-kidnappings/gilbert-arredondo-hernandez/pkghernandezage.jpg/@@images/image/large', 'caption': 'Photograph age progressed to 46 years of age', 'thumb': 'https://www.fbi.gov/wanted/parental-kidnappings/gilbert-arredondo-hernandez/pkghernandezage.jpg/@@images/image/thumb', 'original': 'https://www.fbi.gov/wanted/parental-kidnappings/gilbert-arredondo-hernandez/pkghernandezage.jpg'}], 'possible_countries': ['MEX', 'USA'], 'weight_min': 150, 'additional_information': None, 'remarks': '<p>Hernandez may be in the area of Las Vegas, Nevada; Los Angeles or San Bernadino counties of California, or Mexico.</p>', 'path': '/wanted/parental-kidnappings/gilbert-arredondo-hernandez', 'sex': 'Male', 'eyes_raw': 'Brown', 'weight_max': 150, 'reward_min': 0, 'url': 'https://www.fbi.gov/wanted/parental-kidnappings/gilbert-arredondo-hernandez', 'possible_states': ['US-CA', 'US-NV'], 'modified': '2022-11-10T14:23:59+00:00', 'reward_max': 0, 'race': 'hispanic', 'height_max': 65, 'place_of_birth': None, 'height_min': 65, 'warning_message': None, '@id': 'https://api.fbi.gov/@wanted-person/7c0e9ca4-104d-420d-8e84-faba744b270c'}, {'files': [{'url': 'https://www.fbi.gov/wanted/parental-kidnappings/leslie-delbecq/download.pdf', 'name': 'English'}], 'age_range': None, 'uid': '3cadb89e53b8326f959875a82485e9b8', 'weight': '130 to 140 pounds (approximately 59 kg)', 'occupations': None, 'field_offices': ['miami'], 'locations': None, 'reward_text': None, 'hair': 'blond', 'ncic': 'W762967719', 'dates_of_birth_used': ['May 12, 1981'], 'caution': '<p>Leslie Delbecq and her mother, <a data-linktype=\"external\" data-val=\"https://www.fbi.gov/wanted/parental-kidnappings/jeanine-deriddere\" href=\"https://www.fbi.gov/wanted/parental-kidnappings/jeanine-deriddere\" data-urltype=\"/view\">Jeanine De Riddere</a>, are wanted for their alleged involvement in the kidnapping of Leslie Delbecq\\'s daughter, <a data-linktype=\"external\" data-val=\"https://www.fbi.gov/wanted/parental-kidnappings/leslie-delbecq/gabrielle-dahm\" href=\"https://www.fbi.gov/wanted/parental-kidnappings/leslie-delbecq/gabrielle-dahm\" data-urltype=\"/view\">Gabrielle Dahm</a>, from Broward County, Florida, in 2010. Leslie Delbecq is the ex-wife of Christopher Dahm, Gabrielle\\'s biological father. In January 2010, during a court hearing in Florida, Delbecq and Dahm were awarded joint custody of Gabrielle.</p>\\r\\n<p>\\xa0</p>\\r\\n<p>However, it is alleged that Leslie Delbecq and Jeanine De Riddere arranged for Gabrielle to be taken from Florida on August 2, 2010, and arrive in Abu Dhabi, United Arab Emirates, on August 4, 2010. All of their tickets to Abu Dhabi allegedly were purchased through an airline employee. On August 4, 2010, Leslie Delbecq failed to return Gabrielle to her father, Christopher Dahm, as stated in the Broward County Court order. Gabrielle is believed to have been moved to Abu Dhabi in violation of the court order that denied Leslie Delbecq\\'s request to relocate to Abu Dhabi with Gabrielle, and stated that Gabrielle is to remain in the United States.</p>\\r\\n<p>\\xa0</p>\\r\\n<p>On June 21, 2011, Leslie Delbecq and Jeanine De Riddere were indicted for international parental kidnapping by a Federal Grand Jury for the United States District Court, Southern District of Florida. Federal warrants were issued for their arrests.</p>', 'nationality': 'American', 'age_min': None, 'age_max': None, 'scars_and_marks': None, 'subjects': ['Parental Kidnapping'], 'aliases': ['Leslie Dahm', 'Leslie Sheila Dahm', 'Leslie Sheila Delbecq', 'Leslie Delbecq-Dahm'], 'race_raw': 'White', 'suspects': None, 'publication': '2012-02-07T12:00:00', 'title': 'LESLIE DELBECQ', 'coordinates': [], 'hair_raw': 'Sandy blonde (may be dyed or highlighted)', 'languages': None, 'complexion': None, 'build': None, 'details': None, 'status': 'na', 'legat_names': None, 'eyes': 'blue', 'person_classification': 'Main', 'description': 'International Parental Kidnapping', 'images': [{'large': 'https://www.fbi.gov/wanted/parental-kidnappings/leslie-delbecq/@@images/image/large', 'caption': None, 'thumb': 'https://www.fbi.gov/wanted/parental-kidnappings/leslie-delbecq/@@images/image/thumb', 'original': 'https://www.fbi.gov/wanted/parental-kidnappings/leslie-delbecq/@@images/image'}], 'possible_countries': ['BEL', 'ARE', 'USA'], 'weight_min': None, 'additional_information': None, 'remarks': '<p>Leslie Delbecq has citizenship in the United States and Belgium. She may travel to Belgium and Dubai, United Arab Emirates.</p>', 'path': '/wanted/parental-kidnappings/leslie-delbecq', 'sex': 'Female', 'eyes_raw': 'Hazel or Blue', 'weight_max': None, 'reward_min': 0, 'url': 'https://www.fbi.gov/wanted/parental-kidnappings/leslie-delbecq', 'possible_states': ['US-FL'], 'modified': '2022-11-10T14:23:59+00:00', 'reward_max': 0, 'race': 'white', 'height_max': None, 'place_of_birth': 'Michigan', 'height_min': None, 'warning_message': None, '@id': 'https://api.fbi.gov/@wanted-person/3cadb89e53b8326f959875a82485e9b8'}, {'files': [{'url': 'https://www.fbi.gov/wanted/parental-kidnappings/jeanine-deriddere/download.pdf', 'name': 'English'}], 'age_range': None, 'uid': '33202d83a9877c6ae8953b018de15057', 'weight': '130 to 135 pounds (approximately 59 kg)', 'occupations': None, 'field_offices': ['miami'], 'locations': None, 'reward_text': None, 'hair': 'brown', 'ncic': 'W762967209', 'dates_of_birth_used': ['April 24, 1955'], 'caution': '<p><a data-linktype=\"external\" data-val=\"https://www.fbi.gov/wanted/parental-kidnappings/leslie-delbecq\" href=\"https://www.fbi.gov/wanted/parental-kidnappings/leslie-delbecq\" data-urltype=\"/view\">Leslie Delbecq</a> and her mother, Jeanine De Riddere, are wanted for their alleged involvement in the kidnapping of Leslie Delbecq\\'s daughter, <a data-linktype=\"external\" data-val=\"https://www.fbi.gov/wanted/parental-kidnappings/leslie-delbecq/gabrielle-dahm\" href=\"https://www.fbi.gov/wanted/parental-kidnappings/leslie-delbecq/gabrielle-dahm\" data-urltype=\"/view\">Gabrielle Dahm</a>, from Broward County, Florida, in 2010. Leslie Delbecq is the ex-wife of Christopher Dahm, Gabrielle\\'s biological father. In January 2010, during a court hearing in Florida, Delbecq and Dahm were awarded joint custody of Gabrielle.</p>\\r\\n<p>\\xa0</p>\\r\\n<p>However, it is alleged that Leslie Delbecq and Jeanine De Riddere arranged for Gabrielle to be taken from Florida on August 2, 2010, and arrive in Abu Dhabi, United Arab Emirates, on August 4, 2010. All of their tickets to Abu Dhabi allegedly were purchased through an airline employee. On August 4, 2010, Leslie Delbecq failed to return Gabrielle to her father, Christopher Dahm, as stated in the Broward County Court order. Gabrielle is believed to have been moved to Abu Dhabi in violation of the court order that denied Leslie Delbecq\\'s request to relocate to Abu Dhabi with Gabrielle, and stated that Gabrielle is to remain in the United States.</p>\\r\\n<p>\\xa0</p>\\r\\n<p>On June 21, 2011, Leslie Delbecq and Jeanine De Riddere were indicted for international parental kidnapping by a Federal Grand Jury for the United States District Court, Southern District of Florida. Federal warrants were issued for their arrests.</p>', 'nationality': 'Congolese', 'age_min': None, 'age_max': None, 'scars_and_marks': None, 'subjects': ['Parental Kidnapping'], 'aliases': ['Jeanine Delbecq', 'Jeanine C. De Riddere', 'Jeanine C. Delbecq'], 'race_raw': 'White', 'suspects': None, 'publication': '2012-02-07T07:00:00', 'title': 'JEANINE DE RIDDERE', 'coordinates': [], 'hair_raw': 'Brown', 'languages': None, 'complexion': None, 'build': None, 'details': None, 'status': 'na', 'legat_names': None, 'eyes': 'brown', 'person_classification': 'Accomplice', 'description': 'International Parental Kidnapping', 'images': [{'large': 'https://www.fbi.gov/wanted/parental-kidnappings/jeanine-deriddere/@@images/image/large', 'caption': None, 'thumb': 'https://www.fbi.gov/wanted/parental-kidnappings/jeanine-deriddere/@@images/image/thumb', 'original': 'https://www.fbi.gov/wanted/parental-kidnappings/jeanine-deriddere/@@images/image'}], 'possible_countries': None, 'weight_min': None, 'additional_information': None, 'remarks': '<p>Jeanine De Riddere speaks English and may speak other languages. She has dual citizenship in Belgium and the Democratic Republic of Congo. She may travel to Dubai, United Arab Emirates and Belgium.</p>', 'path': '/wanted/parental-kidnappings/jeanine-deriddere', 'sex': 'Female', 'eyes_raw': 'Brown', 'weight_max': None, 'reward_min': 0, 'url': 'https://www.fbi.gov/wanted/parental-kidnappings/jeanine-deriddere', 'possible_states': None, 'modified': '2022-11-10T14:23:58+00:00', 'reward_max': 0, 'race': 'white', 'height_max': None, 'place_of_birth': 'Democratic Republic of Congo', 'height_min': None, 'warning_message': None, '@id': 'https://api.fbi.gov/@wanted-person/33202d83a9877c6ae8953b018de15057'}, {'files': [{'url': 'https://www.fbi.gov/wanted/parental-kidnappings/francina-dacanay-fernandez/download.pdf', 'name': 'English'}, {'url': 'https://www.fbi.gov/wanted/parental-kidnappings/francina-dacanay-fernandez/fernandezftagalog.pdf/@@download/file/FernandezfTagalog.pdf', 'name': 'Sa tagalog'}], 'age_range': None, 'uid': '9bcf6e6250d11973078abf2417cca400', 'weight': '100 pounds', 'occupations': ['Paralegal'], 'field_offices': ['sandiego'], 'locations': None, 'reward_text': None, 'hair': 'black', 'ncic': None, 'dates_of_birth_used': ['April 29, 1970'], 'caution': None, 'nationality': None, 'age_min': None, 'age_max': None, 'scars_and_marks': None, 'subjects': ['Parental Kidnapping'], 'aliases': ['Francina D. Fernandez', 'Francina Dacanay'], 'race_raw': 'Asian', 'suspects': None, 'publication': '2010-09-28T13:15:00', 'title': 'FRANCINA DACANAY FERNANDEZ', 'coordinates': [], 'hair_raw': 'Black', 'languages': None, 'complexion': None, 'build': None, 'details': \"<p>During the course of their relationship, Francina Fernandez and her boyfriend had three boys, who are now adults. The couple never married and in June of 2001 the relationship ended. The two became embroiled in a very lengthy and aggressive custody-visitation dispute in the San Diego Family Court. In early November of 2004, the mother reportedly mentioned to the father that she and the children were planning a 2-week vacation in New Zealand. He told her that the trip would violate the court orders, and Fernandez's attorney was served with a notice of an ex-parte hearing scheduled for November 8, 2004.\\xa0 At the hearing, a judge ordered that neither parent could take the children out of the jurisdiction of the court and that the children's passports were to be relinquished. The passports were never returned. Also, in November it was reported that Fernandez abruptly left her job and a relative filed a missing person's report for her. Fernandez may have fled with her children to the Philippines.<br /><br />On December 9, 2004, a state warrant was issued in the state of California, San Diego County, charging Francina Dacanay Fernandez with three counts of child abduction. A federal arrest warrant was subsequently issued on February 4, 2005, in the United States District Court, Southern District of California, charging Fernandez with international parental kidnapping.</p>\\r\\n<p>\\xa0</p>\", 'status': 'na', 'legat_names': None, 'eyes': 'brown', 'person_classification': 'Main', 'description': 'International Parental Kidnapping - Detainment or Consealment of a Child From Legal Custodian', 'images': [{'large': 'https://www.fbi.gov/wanted/parental-kidnappings/francina-dacanay-fernandez/@@images/image/large', 'caption': None, 'thumb': 'https://www.fbi.gov/wanted/parental-kidnappings/francina-dacanay-fernandez/@@images/image/thumb', 'original': 'https://www.fbi.gov/wanted/parental-kidnappings/francina-dacanay-fernandez/@@images/image'}, {'large': 'https://www.fbi.gov/wanted/parental-kidnappings/francina-dacanay-fernandez/fernandezfrancina2.jpg/@@images/image/large', 'caption': 'Photograph taken in 2003', 'thumb': 'https://www.fbi.gov/wanted/parental-kidnappings/francina-dacanay-fernandez/fernandezfrancina2.jpg/@@images/image/thumb', 'original': 'https://www.fbi.gov/wanted/parental-kidnappings/francina-dacanay-fernandez/fernandezfrancina2.jpg'}], 'possible_countries': None, 'weight_min': 100, 'additional_information': None, 'remarks': '<p>Francina Fernandez has ties to California and the Philippines.</p>', 'path': '/wanted/parental-kidnappings/francina-dacanay-fernandez', 'sex': 'Female', 'eyes_raw': 'Brown', 'weight_max': 100, 'reward_min': 0, 'url': 'https://www.fbi.gov/wanted/parental-kidnappings/francina-dacanay-fernandez', 'possible_states': None, 'modified': '2022-11-10T14:23:57+00:00', 'reward_max': 0, 'race': 'asian', 'height_max': 63, 'place_of_birth': 'Philippines', 'height_min': 63, 'warning_message': None, '@id': 'https://api.fbi.gov/@wanted-person/9bcf6e6250d11973078abf2417cca400'}, {'files': [{'url': 'https://www.fbi.gov/wanted/parental-kidnappings/maria-belen-francesconi/michael-alexander-reyes/download.pdf', 'name': 'English'}], 'age_range': None, 'uid': 'ed92b954-e7a2-4206-930f-c7d3ccc52e16', 'weight': None, 'occupations': None, 'field_offices': ['miami'], 'locations': None, 'reward_text': None, 'hair': None, 'ncic': None, 'dates_of_birth_used': ['April 2, 2008'], 'caution': None, 'nationality': None, 'age_min': None, 'age_max': None, 'scars_and_marks': 'Michael has brown eyes and red hair.  He has a birthmark on his lower left arm.', 'subjects': ['Michael Reyes', 'Parental Kidnapping Victim', 'Reyes', 'Michael Alexander Reyes'], 'aliases': None, 'race_raw': 'White (Hispanic)', 'suspects': None, 'publication': '2014-03-08T07:00:00', 'title': 'MICHAEL ALEXANDER REYES', 'coordinates': [{'lat': 25.7616798, 'lng': -80.19179020000001, 'formatted': 'Miami, FL, USA'}], 'hair_raw': None, 'languages': None, 'complexion': None, 'build': None, 'details': None, 'status': 'na', 'legat_names': None, 'eyes': None, 'person_classification': 'Victim', 'description': '', 'images': [{'large': 'https://www.fbi.gov/wanted/parental-kidnappings/maria-belen-francesconi/michael-alexander-reyes/@@images/image/large', 'caption': 'Photograph taken in 2015', 'thumb': 'https://www.fbi.gov/wanted/parental-kidnappings/maria-belen-francesconi/michael-alexander-reyes/@@images/image/thumb', 'original': 'https://www.fbi.gov/wanted/parental-kidnappings/maria-belen-francesconi/michael-alexander-reyes/@@images/image'}, {'large': 'https://www.fbi.gov/wanted/parental-kidnappings/maria-belen-francesconi/michael-alexander-reyes/reyes_ma2.jpg/@@images/image/large', 'caption': 'Photograph taken in 2013', 'thumb': 'https://www.fbi.gov/wanted/parental-kidnappings/maria-belen-francesconi/michael-alexander-reyes/reyes_ma2.jpg/@@images/image/thumb', 'original': 'https://www.fbi.gov/wanted/parental-kidnappings/maria-belen-francesconi/michael-alexander-reyes/reyes_ma2.jpg'}, {'large': 'https://www.fbi.gov/wanted/parental-kidnappings/maria-belen-francesconi/michael-alexander-reyes/reyes_ma_2012.jpg/@@images/image/large', 'caption': 'Photograph taken in 2012', 'thumb': 'https://www.fbi.gov/wanted/parental-kidnappings/maria-belen-francesconi/michael-alexander-reyes/reyes_ma_2012.jpg/@@images/image/thumb', 'original': 'https://www.fbi.gov/wanted/parental-kidnappings/maria-belen-francesconi/michael-alexander-reyes/reyes_ma_2012.jpg'}], 'possible_countries': ['ARG', 'ECU', 'ITA', 'USA'], 'weight_min': None, 'additional_information': None, 'remarks': None, 'path': '/wanted/parental-kidnappings/maria-belen-francesconi/michael-alexander-reyes', 'sex': 'Male', 'eyes_raw': None, 'weight_max': None, 'reward_min': 0, 'url': 'https://www.fbi.gov/wanted/parental-kidnappings/maria-belen-francesconi/michael-alexander-reyes', 'possible_states': ['US-FL'], 'modified': '2022-11-10T14:23:54+00:00', 'reward_max': 0, 'race': 'hispanic', 'height_max': None, 'place_of_birth': 'Miami, Florida', 'height_min': None, 'warning_message': None, '@id': 'https://api.fbi.gov/@wanted-person/ed92b954-e7a2-4206-930f-c7d3ccc52e16'}, {'files': [{'url': 'https://www.fbi.gov/wanted/parental-kidnappings/flora-mahmood/mohammad-hussain-metla-jr/download.pdf', 'name': 'English'}], 'age_range': None, 'uid': 'a1b2f35673ede93551e4cffa368a9f87', 'weight': '26 pounds (at time of his disappearance)', 'occupations': None, 'field_offices': ['newyork'], 'locations': None, 'reward_text': None, 'hair': 'black', 'ncic': None, 'dates_of_birth_used': ['November 26, 2003'], 'caution': None, 'nationality': None, 'age_min': None, 'age_max': None, 'scars_and_marks': None, 'subjects': ['Parental Kidnapping Victim', 'Mohammad Hussain Metla', 'Metla', 'Mohammad Hussain Metla, Jr.', 'Mohammad Hussain Metla Jr.'], 'aliases': None, 'race_raw': 'White (Central Asian)', 'suspects': None, 'publication': '2010-09-27T11:00:00', 'title': 'MOHAMMAD HUSSAIN METLA, JR.', 'coordinates': [{'lat': 40.0583238, 'lng': -74.4056612, 'formatted': 'New Jersey, USA'}], 'hair_raw': 'Black', 'languages': None, 'complexion': None, 'build': None, 'details': None, 'status': 'na', 'legat_names': None, 'eyes': 'brown', 'person_classification': 'Victim', 'description': '', 'images': [{'large': 'https://www.fbi.gov/wanted/parental-kidnappings/flora-mahmood/mohammad-hussain-metla-jr/@@images/image/large', 'caption': None, 'thumb': 'https://www.fbi.gov/wanted/parental-kidnappings/flora-mahmood/mohammad-hussain-metla-jr/@@images/image/thumb', 'original': 'https://www.fbi.gov/wanted/parental-kidnappings/flora-mahmood/mohammad-hussain-metla-jr/@@images/image'}, {'large': 'https://www.fbi.gov/wanted/parental-kidnappings/flora-mahmood/mohammad-hussain-metla-jr/mahmood_f3.jpg/@@images/image/large', 'caption': '', 'thumb': 'https://www.fbi.gov/wanted/parental-kidnappings/flora-mahmood/mohammad-hussain-metla-jr/mahmood_f3.jpg/@@images/image/thumb', 'original': 'https://www.fbi.gov/wanted/parental-kidnappings/flora-mahmood/mohammad-hussain-metla-jr/mahmood_f3.jpg'}], 'possible_countries': ['PAK', 'USA'], 'weight_min': 26, 'additional_information': None, 'remarks': None, 'path': '/wanted/parental-kidnappings/flora-mahmood/mohammad-hussain-metla-jr', 'sex': 'Male', 'eyes_raw': 'Brown', 'weight_max': 26, 'reward_min': 0, 'url': 'https://www.fbi.gov/wanted/parental-kidnappings/flora-mahmood/mohammad-hussain-metla-jr', 'possible_states': ['US-NJ'], 'modified': '2022-11-10T14:23:54+00:00', 'reward_max': 0, 'race': 'asian', 'height_max': 30, 'place_of_birth': 'New Jersey', 'height_min': 30, 'warning_message': None, '@id': 'https://api.fbi.gov/@wanted-person/a1b2f35673ede93551e4cffa368a9f87'}, {'files': [{'url': 'https://www.fbi.gov/wanted/parental-kidnappings/maria-belen-francesconi/download.pdf', 'name': 'English'}], 'age_range': None, 'uid': '074ce53c-b6e1-4e43-a261-f678a0a715bc', 'weight': '110 pounds', 'occupations': ['Chef'], 'field_offices': ['miami'], 'locations': None, 'reward_text': None, 'hair': 'brown', 'ncic': 'W547700968', 'dates_of_birth_used': ['July 9, 1984'], 'caution': None, 'nationality': 'Argentinian', 'age_min': None, 'age_max': None, 'scars_and_marks': 'Francesconi has tattoos on her back, lower abdomen, and right ankle.', 'subjects': ['Parental Kidnapping'], 'aliases': ['Mary Bethlehem'], 'race_raw': 'White (Hispanic)', 'suspects': None, 'publication': '2014-03-08T07:00:00', 'title': 'MARIA BELEN FRANCESCONI', 'coordinates': [], 'hair_raw': 'Brown', 'languages': None, 'complexion': None, 'build': None, 'details': '<p>Maria Belen Francesconi is wanted for her alleged involvement in the kidnapping of her son, <a data-linktype=\"external\" data-val=\"https://www.fbi.gov/wanted/parental-kidnappings/maria-belen-francesconi/michael-alexander-reyes\" href=\"https://www.fbi.gov/wanted/parental-kidnappings/maria-belen-francesconi/michael-alexander-reyes\" data-urltype=\"/view\">Michael Alexander Reyes</a>, from Miami, Florida. Francesconi no longer has legal custody of Michael.</p>\\r\\n<p>\\xa0</p>\\r\\n<p>On August 31, 2008, shortly after the birth of her son, Michael, Francesconi travelled to Argentina to visit family with Michael. Michael\\'s father, Miguel Reyes, authorized the foreign travel with the agreement that Francesconi would return to the United States with their son. However, Francesconi never returned to the United States and ceased all contact with Reyes. Michael was located by Interpol in Argentina.</p>\\r\\n<p>\\xa0</p>\\r\\n<p>On November 27, 2009, the Civil Court, pursuant to the Hague Convention, ordered the return of Michael to the United States. On December 21, 2010, the Supreme Court of Argentina upheld the decision of the Civil Court and ordered the return of Michael to the United States. That order has yet to be executed, and the child remains in Argentina.</p>\\r\\n<p>\\xa0</p>\\r\\n<p>On March 26, 2012, the Florida Miami-Dade Family Court issued a final judgment, finding Reyes to be Michael\\'s natural and biological father, and ordered physical and legal custody of Michael to Reyes. On June 25, 2013, Francesconi was indicted for international parental kidnapping by a Federal Grand Jury for the United States District Court, Southern District of Florida. That same day, a federal warrant was issued for Francesconi\\'s arrest.</p>', 'status': 'na', 'legat_names': None, 'eyes': 'blue', 'person_classification': 'Main', 'description': 'International Parental Kidnapping', 'images': [{'large': 'https://www.fbi.gov/wanted/parental-kidnappings/maria-belen-francesconi/@@images/image/large', 'caption': 'Photograph taken in 2007', 'thumb': 'https://www.fbi.gov/wanted/parental-kidnappings/maria-belen-francesconi/@@images/image/thumb', 'original': 'https://www.fbi.gov/wanted/parental-kidnappings/maria-belen-francesconi/@@images/image'}, {'large': 'https://www.fbi.gov/wanted/parental-kidnappings/maria-belen-francesconi/francesconi_mb2.jpg/@@images/image/large', 'caption': 'Photograph taken circa 2013', 'thumb': 'https://www.fbi.gov/wanted/parental-kidnappings/maria-belen-francesconi/francesconi_mb2.jpg/@@images/image/thumb', 'original': 'https://www.fbi.gov/wanted/parental-kidnappings/maria-belen-francesconi/francesconi_mb2.jpg'}], 'possible_countries': ['ARG'], 'weight_min': 110, 'additional_information': None, 'remarks': '<p>Francesconi enjoys fine cuisine. She may display erratic behavior. Francesconi speaks English, Spanish and Italian fluently. Francesconi has dual citizenship in Argentina and Italy. She has ties to Italy, Argentina, possibly Ecuador, and countries surrounding Argentina. She is believed to be in Argentina.</p>', 'path': '/wanted/parental-kidnappings/maria-belen-francesconi', 'sex': 'Female', 'eyes_raw': 'Blue', 'weight_max': 110, 'reward_min': 0, 'url': 'https://www.fbi.gov/wanted/parental-kidnappings/maria-belen-francesconi', 'possible_states': ['US-FL'], 'modified': '2022-11-10T14:23:54+00:00', 'reward_max': 0, 'race': 'hispanic', 'height_max': 65, 'place_of_birth': 'Argentina', 'height_min': 65, 'warning_message': None, '@id': 'https://api.fbi.gov/@wanted-person/074ce53c-b6e1-4e43-a261-f678a0a715bc'}]\n"
     ]
    }
   ],
   "source": [
    "response = requests.get('https://api.fbi.gov/wanted/v1/list')\n",
    "data = response.json()\n",
    "print(data['total'])\n",
    "print(data['items'][:10])"
   ]
  },
  {
   "cell_type": "code",
   "execution_count": 32,
   "id": "b93a9da4",
   "metadata": {},
   "outputs": [
    {
     "data": {
      "text/plain": [
       "[{'genus': 'Diospyros',\n",
       "  'name': 'Persimmon',\n",
       "  'id': 52,\n",
       "  'family': 'Ebenaceae',\n",
       "  'order': 'Rosales',\n",
       "  'nutritions': {'carbohydrates': 18,\n",
       "   'protein': 0,\n",
       "   'fat': 0,\n",
       "   'calories': 81,\n",
       "   'sugar': 18}},\n",
       " {'genus': 'Fragaria',\n",
       "  'name': 'Strawberry',\n",
       "  'id': 3,\n",
       "  'family': 'Rosaceae',\n",
       "  'order': 'Rosales',\n",
       "  'nutritions': {'carbohydrates': 5.5,\n",
       "   'protein': 0.8,\n",
       "   'fat': 0.4,\n",
       "   'calories': 29,\n",
       "   'sugar': 5.4}},\n",
       " {'genus': 'Musa',\n",
       "  'name': 'Banana',\n",
       "  'id': 1,\n",
       "  'family': 'Musaceae',\n",
       "  'order': 'Zingiberales',\n",
       "  'nutritions': {'carbohydrates': 22,\n",
       "   'protein': 1,\n",
       "   'fat': 0.2,\n",
       "   'calories': 96,\n",
       "   'sugar': 17.2}},\n",
       " {'genus': 'Solanum',\n",
       "  'name': 'Tomato',\n",
       "  'id': 5,\n",
       "  'family': 'Solanaceae',\n",
       "  'order': 'Solanales',\n",
       "  'nutritions': {'carbohydrates': 3.9,\n",
       "   'protein': 0.9,\n",
       "   'fat': 0.2,\n",
       "   'calories': 74,\n",
       "   'sugar': 2.6}},\n",
       " {'genus': 'Vitis',\n",
       "  'name': 'Grapes',\n",
       "  'id': 47,\n",
       "  'family': 'Vitaceae',\n",
       "  'order': 'Vitales',\n",
       "  'nutritions': {'carbohydrates': 18.1,\n",
       "   'protein': 0.72,\n",
       "   'fat': 0.16,\n",
       "   'calories': 69,\n",
       "   'sugar': 15.48}},\n",
       " {'genus': 'Pyrus',\n",
       "  'name': 'Pear',\n",
       "  'id': 4,\n",
       "  'family': 'Rosaceae',\n",
       "  'order': 'Rosales',\n",
       "  'nutritions': {'carbohydrates': 15,\n",
       "   'protein': 0.4,\n",
       "   'fat': 0.1,\n",
       "   'calories': 57,\n",
       "   'sugar': 10}},\n",
       " {'genus': 'Prunus',\n",
       "  'name': 'Cherry',\n",
       "  'id': 9,\n",
       "  'family': 'Rosaceae',\n",
       "  'order': 'None',\n",
       "  'nutritions': {'carbohydrates': 12,\n",
       "   'protein': 1,\n",
       "   'fat': 0.3,\n",
       "   'calories': 50,\n",
       "   'sugar': 8}},\n",
       " {'genus': 'Durio',\n",
       "  'name': 'Durian',\n",
       "  'id': 60,\n",
       "  'family': 'Malvaceae',\n",
       "  'order': 'Malvales',\n",
       "  'nutritions': {'carbohydrates': 27.1,\n",
       "   'protein': 1.5,\n",
       "   'fat': 5.3,\n",
       "   'calories': 147,\n",
       "   'sugar': 6.75}},\n",
       " {'genus': 'Rubus',\n",
       "  'name': 'Blackberry',\n",
       "  'id': 64,\n",
       "  'family': 'Rosaceae',\n",
       "  'order': 'Rosales',\n",
       "  'nutritions': {'carbohydrates': 9,\n",
       "   'protein': 1.3,\n",
       "   'fat': 0.4,\n",
       "   'calories': 40,\n",
       "   'sugar': 4.5}},\n",
       " {'genus': 'Vaccinium',\n",
       "  'name': 'Lingonberry',\n",
       "  'id': 65,\n",
       "  'family': 'Ericaceae',\n",
       "  'order': 'Ericales',\n",
       "  'nutritions': {'carbohydrates': 11.3,\n",
       "   'protein': 0.75,\n",
       "   'fat': 0.34,\n",
       "   'calories': 50,\n",
       "   'sugar': 5.74}},\n",
       " {'genus': 'Apteryx',\n",
       "  'name': 'Kiwi',\n",
       "  'id': 66,\n",
       "  'family': 'Actinidiaceae',\n",
       "  'order': 'Struthioniformes',\n",
       "  'nutritions': {'carbohydrates': 15,\n",
       "   'protein': 1.1,\n",
       "   'fat': 0.5,\n",
       "   'calories': 61,\n",
       "   'sugar': 9}},\n",
       " {'genus': 'Litchi',\n",
       "  'name': 'Lychee',\n",
       "  'id': 67,\n",
       "  'family': 'Sapindaceae',\n",
       "  'order': 'Sapindales',\n",
       "  'nutritions': {'carbohydrates': 17,\n",
       "   'protein': 0.8,\n",
       "   'fat': 0.44,\n",
       "   'calories': 66,\n",
       "   'sugar': 15}},\n",
       " {'genus': 'Ananas',\n",
       "  'name': 'Pineapple',\n",
       "  'id': 10,\n",
       "  'family': 'Bromeliaceae',\n",
       "  'order': 'Poales',\n",
       "  'nutritions': {'carbohydrates': 13.12,\n",
       "   'protein': 0.54,\n",
       "   'fat': 0.12,\n",
       "   'calories': 50,\n",
       "   'sugar': 9.85}},\n",
       " {'genus': 'Ficus',\n",
       "  'name': 'Fig',\n",
       "  'id': 68,\n",
       "  'family': 'Moraceae',\n",
       "  'order': 'Rosales',\n",
       "  'nutritions': {'carbohydrates': 19,\n",
       "   'protein': 0.8,\n",
       "   'fat': 0.3,\n",
       "   'calories': 74,\n",
       "   'sugar': 16}},\n",
       " {'genus': 'Ribes',\n",
       "  'name': 'Gooseberry',\n",
       "  'id': 69,\n",
       "  'family': 'Grossulariaceae',\n",
       "  'order': 'Saxifragales',\n",
       "  'nutritions': {'carbohydrates': 10,\n",
       "   'protein': 0.9,\n",
       "   'fat': 0.6,\n",
       "   'calories': 44,\n",
       "   'sugar': 0}},\n",
       " {'genus': 'Passiflora',\n",
       "  'name': 'Passionfruit',\n",
       "  'id': 70,\n",
       "  'family': 'Passifloraceae',\n",
       "  'order': 'Malpighiales',\n",
       "  'nutritions': {'carbohydrates': 22.4,\n",
       "   'protein': 2.2,\n",
       "   'fat': 0.7,\n",
       "   'calories': 97,\n",
       "   'sugar': 11.2}},\n",
       " {'genus': 'Prunus',\n",
       "  'name': 'Plum',\n",
       "  'id': 71,\n",
       "  'family': 'Rosaceae',\n",
       "  'order': 'Rosales',\n",
       "  'nutritions': {'carbohydrates': 11.4,\n",
       "   'protein': 0.7,\n",
       "   'fat': 0.28,\n",
       "   'calories': 46,\n",
       "   'sugar': 9.92}},\n",
       " {'genus': 'Citrus',\n",
       "  'name': 'Orange',\n",
       "  'id': 2,\n",
       "  'family': 'Rutaceae',\n",
       "  'order': 'Sapindales',\n",
       "  'nutritions': {'carbohydrates': 8.3,\n",
       "   'protein': 1,\n",
       "   'fat': 0.2,\n",
       "   'calories': 43,\n",
       "   'sugar': 8.2}},\n",
       " {'genus': 'Malus',\n",
       "  'name': 'GreenApple',\n",
       "  'id': 72,\n",
       "  'family': 'Rosaceae',\n",
       "  'order': 'Rosales',\n",
       "  'nutritions': {'carbohydrates': 3.1,\n",
       "   'protein': 0.4,\n",
       "   'fat': 0.1,\n",
       "   'calories': 21,\n",
       "   'sugar': 6.4}},\n",
       " {'genus': 'Rubus',\n",
       "  'name': 'Raspberry',\n",
       "  'id': 23,\n",
       "  'family': 'Rosaceae',\n",
       "  'order': 'Rosales',\n",
       "  'nutritions': {'carbohydrates': 12,\n",
       "   'protein': 1.2,\n",
       "   'fat': 0.7,\n",
       "   'calories': 53,\n",
       "   'sugar': 4.4}},\n",
       " {'genus': 'Citrullus',\n",
       "  'name': 'Watermelon',\n",
       "  'id': 25,\n",
       "  'family': 'Cucurbitaceae',\n",
       "  'order': 'Cucurbitales',\n",
       "  'nutritions': {'carbohydrates': 8,\n",
       "   'protein': 0.6,\n",
       "   'fat': 0.2,\n",
       "   'calories': 30,\n",
       "   'sugar': 6}},\n",
       " {'genus': 'Citrus',\n",
       "  'name': 'Lemon',\n",
       "  'id': 26,\n",
       "  'family': 'Rutaceae',\n",
       "  'order': 'Sapindales',\n",
       "  'nutritions': {'carbohydrates': 9,\n",
       "   'protein': 1.1,\n",
       "   'fat': 0.3,\n",
       "   'calories': 29,\n",
       "   'sugar': 2.5}},\n",
       " {'genus': 'Mangifera',\n",
       "  'name': 'Mango',\n",
       "  'id': 27,\n",
       "  'family': 'Anacardiaceae',\n",
       "  'order': 'Sapindales',\n",
       "  'nutritions': {'carbohydrates': 15,\n",
       "   'protein': 0.82,\n",
       "   'fat': 0.38,\n",
       "   'calories': 60,\n",
       "   'sugar': 13.7}},\n",
       " {'genus': 'Fragaria',\n",
       "  'name': 'Blueberry',\n",
       "  'id': 33,\n",
       "  'family': 'Rosaceae',\n",
       "  'order': 'Rosales',\n",
       "  'nutritions': {'carbohydrates': 5.5,\n",
       "   'protein': 0,\n",
       "   'fat': 0.4,\n",
       "   'calories': 29,\n",
       "   'sugar': 5.4}},\n",
       " {'genus': 'Malus',\n",
       "  'name': 'Apple',\n",
       "  'id': 6,\n",
       "  'family': 'Rosaceae',\n",
       "  'order': 'Rosales',\n",
       "  'nutritions': {'carbohydrates': 11.4,\n",
       "   'protein': 0.3,\n",
       "   'fat': 0.4,\n",
       "   'calories': 52,\n",
       "   'sugar': 10.3}},\n",
       " {'genus': 'Psidium',\n",
       "  'name': 'Guava',\n",
       "  'id': 37,\n",
       "  'family': 'Myrtaceae',\n",
       "  'order': 'Myrtales',\n",
       "  'nutritions': {'carbohydrates': 14,\n",
       "   'protein': 2.6,\n",
       "   'fat': 1,\n",
       "   'calories': 68,\n",
       "   'sugar': 9}},\n",
       " {'genus': 'Prunus',\n",
       "  'name': 'Apricot',\n",
       "  'id': 35,\n",
       "  'family': 'Rosaceae',\n",
       "  'order': 'Rosales',\n",
       "  'nutritions': {'carbohydrates': 3.9,\n",
       "   'protein': 0.5,\n",
       "   'fat': 0.1,\n",
       "   'calories': 15,\n",
       "   'sugar': 3.2}},\n",
       " {'genus': 'Carica',\n",
       "  'name': 'Papaya',\n",
       "  'id': 42,\n",
       "  'family': 'Caricaceae',\n",
       "  'order': 'Caricacea',\n",
       "  'nutritions': {'carbohydrates': 11,\n",
       "   'protein': 0,\n",
       "   'fat': 0.4,\n",
       "   'calories': 43,\n",
       "   'sugar': 1}},\n",
       " {'genus': 'Cucumis',\n",
       "  'name': 'Melon',\n",
       "  'id': 41,\n",
       "  'family': 'Cucurbitaceae',\n",
       "  'order': 'Cucurbitaceae',\n",
       "  'nutritions': {'carbohydrates': 8,\n",
       "   'protein': 0,\n",
       "   'fat': 0,\n",
       "   'calories': 34,\n",
       "   'sugar': 8}},\n",
       " {'genus': 'Citrus',\n",
       "  'name': 'Tangerine',\n",
       "  'id': 77,\n",
       "  'family': 'Rutaceae',\n",
       "  'order': 'Sapindales',\n",
       "  'nutritions': {'carbohydrates': 8.3,\n",
       "   'protein': 0,\n",
       "   'fat': 0.4,\n",
       "   'calories': 45,\n",
       "   'sugar': 9.1}},\n",
       " {'genus': 'Cactaceae',\n",
       "  'name': 'Pitahaya',\n",
       "  'id': 78,\n",
       "  'family': 'Cactaceae',\n",
       "  'order': 'Caryophyllales',\n",
       "  'nutritions': {'carbohydrates': 7,\n",
       "   'protein': 1,\n",
       "   'fat': 0.4,\n",
       "   'calories': 36,\n",
       "   'sugar': 3}},\n",
       " {'genus': 'Citrus',\n",
       "  'name': 'Lime',\n",
       "  'id': 44,\n",
       "  'family': 'Rutaceae',\n",
       "  'order': 'Sapindales',\n",
       "  'nutritions': {'carbohydrates': 8.4,\n",
       "   'protein': 0.3,\n",
       "   'fat': 0.1,\n",
       "   'calories': 25,\n",
       "   'sugar': 1.7}},\n",
       " {'genus': 'Punica',\n",
       "  'name': 'Pomegranate',\n",
       "  'id': 79,\n",
       "  'family': 'Lythraceae',\n",
       "  'order': 'Myrtales',\n",
       "  'nutritions': {'carbohydrates': 18.7,\n",
       "   'protein': 1.7,\n",
       "   'fat': 1.2,\n",
       "   'calories': 83,\n",
       "   'sugar': 13.7}},\n",
       " {'genus': 'Selenicereus',\n",
       "  'name': 'Dragonfruit',\n",
       "  'id': 80,\n",
       "  'family': 'Cactaceae',\n",
       "  'order': 'Caryophyllales',\n",
       "  'nutritions': {'carbohydrates': 9,\n",
       "   'protein': 9,\n",
       "   'fat': 1.5,\n",
       "   'calories': 60,\n",
       "   'sugar': 8}},\n",
       " {'genus': 'Vitis',\n",
       "  'name': 'Grape',\n",
       "  'id': 81,\n",
       "  'family': 'Vitaceae',\n",
       "  'order': 'Vitales',\n",
       "  'nutritions': {'carbohydrates': 18.1,\n",
       "   'protein': 0.72,\n",
       "   'fat': 0.16,\n",
       "   'calories': 69,\n",
       "   'sugar': 16}},\n",
       " {'genus': 'Morus',\n",
       "  'name': 'Morus',\n",
       "  'id': 82,\n",
       "  'family': 'Moraceae',\n",
       "  'order': 'Rosales',\n",
       "  'nutritions': {'carbohydrates': 9.8,\n",
       "   'protein': 1.44,\n",
       "   'fat': 0.39,\n",
       "   'calories': 43,\n",
       "   'sugar': 8.1}},\n",
       " {'genus': 'Sellowiana',\n",
       "  'name': 'Feijoa',\n",
       "  'id': 76,\n",
       "  'family': 'Myrtaceae',\n",
       "  'order': 'Myrtoideae',\n",
       "  'nutritions': {'carbohydrates': 8,\n",
       "   'protein': 0.6,\n",
       "   'fat': 0.4,\n",
       "   'calories': 44,\n",
       "   'sugar': 3}},\n",
       " {'genus': 'Persea',\n",
       "  'name': 'Avocado',\n",
       "  'id': 84,\n",
       "  'family': 'Lauraceae',\n",
       "  'order': 'Laurales',\n",
       "  'nutritions': {'carbohydrates': 8.53,\n",
       "   'protein': 2,\n",
       "   'fat': 14.66,\n",
       "   'calories': 160,\n",
       "   'sugar': 0.66}},\n",
       " {'genus': 'Actinidia',\n",
       "  'name': 'Kiwifruit',\n",
       "  'id': 85,\n",
       "  'family': 'Actinidiaceae',\n",
       "  'order': 'Ericales',\n",
       "  'nutritions': {'carbohydrates': 14.6,\n",
       "   'protein': 1.14,\n",
       "   'fat': 0.5,\n",
       "   'calories': 61,\n",
       "   'sugar': 8.9}}]"
      ]
     },
     "execution_count": 32,
     "metadata": {},
     "output_type": "execute_result"
    }
   ],
   "source": [
    "response = requests.get('https://www.fruityvice.com/api/fruit/carbohydrates/', params={\"min\": \"0\"})\n",
    "response.json()"
   ]
  },
  {
   "cell_type": "code",
   "execution_count": 33,
   "id": "bce0ed99",
   "metadata": {},
   "outputs": [
    {
     "data": {
      "text/plain": [
       "{'success': True,\n",
       " 'data': {'memes': [{'id': '181913649',\n",
       "    'name': 'Drake Hotline Bling',\n",
       "    'url': 'https://i.imgflip.com/30b1gx.jpg',\n",
       "    'width': 1200,\n",
       "    'height': 1200,\n",
       "    'box_count': 2},\n",
       "   {'id': '87743020',\n",
       "    'name': 'Two Buttons',\n",
       "    'url': 'https://i.imgflip.com/1g8my4.jpg',\n",
       "    'width': 600,\n",
       "    'height': 908,\n",
       "    'box_count': 3},\n",
       "   {'id': '112126428',\n",
       "    'name': 'Distracted Boyfriend',\n",
       "    'url': 'https://i.imgflip.com/1ur9b0.jpg',\n",
       "    'width': 1200,\n",
       "    'height': 800,\n",
       "    'box_count': 3},\n",
       "   {'id': '131087935',\n",
       "    'name': 'Running Away Balloon',\n",
       "    'url': 'https://i.imgflip.com/261o3j.jpg',\n",
       "    'width': 761,\n",
       "    'height': 1024,\n",
       "    'box_count': 5},\n",
       "   {'id': '217743513',\n",
       "    'name': 'UNO Draw 25 Cards',\n",
       "    'url': 'https://i.imgflip.com/3lmzyx.jpg',\n",
       "    'width': 500,\n",
       "    'height': 494,\n",
       "    'box_count': 2},\n",
       "   {'id': '124822590',\n",
       "    'name': 'Left Exit 12 Off Ramp',\n",
       "    'url': 'https://i.imgflip.com/22bdq6.jpg',\n",
       "    'width': 804,\n",
       "    'height': 767,\n",
       "    'box_count': 3},\n",
       "   {'id': '247375501',\n",
       "    'name': 'Buff Doge vs. Cheems',\n",
       "    'url': 'https://i.imgflip.com/43a45p.png',\n",
       "    'width': 937,\n",
       "    'height': 720,\n",
       "    'box_count': 4},\n",
       "   {'id': '222403160',\n",
       "    'name': 'Bernie I Am Once Again Asking For Your Support',\n",
       "    'url': 'https://i.imgflip.com/3oevdk.jpg',\n",
       "    'width': 750,\n",
       "    'height': 750,\n",
       "    'box_count': 2},\n",
       "   {'id': '129242436',\n",
       "    'name': 'Change My Mind',\n",
       "    'url': 'https://i.imgflip.com/24y43o.jpg',\n",
       "    'width': 482,\n",
       "    'height': 361,\n",
       "    'box_count': 2},\n",
       "   {'id': '131940431',\n",
       "    'name': \"Gru's Plan\",\n",
       "    'url': 'https://i.imgflip.com/26jxvz.jpg',\n",
       "    'width': 700,\n",
       "    'height': 449,\n",
       "    'box_count': 4},\n",
       "   {'id': '4087833',\n",
       "    'name': 'Waiting Skeleton',\n",
       "    'url': 'https://i.imgflip.com/2fm6x.jpg',\n",
       "    'width': 298,\n",
       "    'height': 403,\n",
       "    'box_count': 2},\n",
       "   {'id': '438680',\n",
       "    'name': 'Batman Slapping Robin',\n",
       "    'url': 'https://i.imgflip.com/9ehk.jpg',\n",
       "    'width': 400,\n",
       "    'height': 387,\n",
       "    'box_count': 2},\n",
       "   {'id': '97984',\n",
       "    'name': 'Disaster Girl',\n",
       "    'url': 'https://i.imgflip.com/23ls.jpg',\n",
       "    'width': 500,\n",
       "    'height': 375,\n",
       "    'box_count': 2},\n",
       "   {'id': '135256802',\n",
       "    'name': 'Epic Handshake',\n",
       "    'url': 'https://i.imgflip.com/28j0te.jpg',\n",
       "    'width': 900,\n",
       "    'height': 645,\n",
       "    'box_count': 3},\n",
       "   {'id': '188390779',\n",
       "    'name': 'Woman Yelling At Cat',\n",
       "    'url': 'https://i.imgflip.com/345v97.jpg',\n",
       "    'width': 680,\n",
       "    'height': 438,\n",
       "    'box_count': 2},\n",
       "   {'id': '93895088',\n",
       "    'name': 'Expanding Brain',\n",
       "    'url': 'https://i.imgflip.com/1jwhww.jpg',\n",
       "    'width': 857,\n",
       "    'height': 1202,\n",
       "    'box_count': 4},\n",
       "   {'id': '252600902',\n",
       "    'name': 'Always Has Been',\n",
       "    'url': 'https://i.imgflip.com/46e43q.png',\n",
       "    'width': 960,\n",
       "    'height': 540,\n",
       "    'box_count': 2},\n",
       "   {'id': '80707627',\n",
       "    'name': 'Sad Pablo Escobar',\n",
       "    'url': 'https://i.imgflip.com/1c1uej.jpg',\n",
       "    'width': 720,\n",
       "    'height': 709,\n",
       "    'box_count': 3},\n",
       "   {'id': '1035805',\n",
       "    'name': 'Boardroom Meeting Suggestion',\n",
       "    'url': 'https://i.imgflip.com/m78d.jpg',\n",
       "    'width': 500,\n",
       "    'height': 649,\n",
       "    'box_count': 4},\n",
       "   {'id': '161865971',\n",
       "    'name': 'Marked Safe From',\n",
       "    'url': 'https://i.imgflip.com/2odckz.jpg',\n",
       "    'width': 618,\n",
       "    'height': 499,\n",
       "    'box_count': 2},\n",
       "   {'id': '178591752',\n",
       "    'name': 'Tuxedo Winnie The Pooh',\n",
       "    'url': 'https://i.imgflip.com/2ybua0.png',\n",
       "    'width': 800,\n",
       "    'height': 582,\n",
       "    'box_count': 2},\n",
       "   {'id': '91538330',\n",
       "    'name': 'X, X Everywhere',\n",
       "    'url': 'https://i.imgflip.com/1ihzfe.jpg',\n",
       "    'width': 2118,\n",
       "    'height': 1440,\n",
       "    'box_count': 2},\n",
       "   {'id': '119139145',\n",
       "    'name': 'Blank Nut Button',\n",
       "    'url': 'https://i.imgflip.com/1yxkcp.jpg',\n",
       "    'width': 600,\n",
       "    'height': 446,\n",
       "    'box_count': 2},\n",
       "   {'id': '110163934',\n",
       "    'name': \"I Bet He's Thinking About Other Women\",\n",
       "    'url': 'https://i.imgflip.com/1tl71a.jpg',\n",
       "    'width': 1654,\n",
       "    'height': 930,\n",
       "    'box_count': 2},\n",
       "   {'id': '61579',\n",
       "    'name': 'One Does Not Simply',\n",
       "    'url': 'https://i.imgflip.com/1bij.jpg',\n",
       "    'width': 568,\n",
       "    'height': 335,\n",
       "    'box_count': 2},\n",
       "   {'id': '148909805',\n",
       "    'name': 'Monkey Puppet',\n",
       "    'url': 'https://i.imgflip.com/2gnnjh.jpg',\n",
       "    'width': 923,\n",
       "    'height': 768,\n",
       "    'box_count': 2},\n",
       "   {'id': '102156234',\n",
       "    'name': 'Mocking Spongebob',\n",
       "    'url': 'https://i.imgflip.com/1otk96.jpg',\n",
       "    'width': 502,\n",
       "    'height': 353,\n",
       "    'box_count': 2},\n",
       "   {'id': '180190441',\n",
       "    'name': \"They're The Same Picture\",\n",
       "    'url': 'https://i.imgflip.com/2za3u1.jpg',\n",
       "    'width': 1363,\n",
       "    'height': 1524,\n",
       "    'box_count': 3},\n",
       "   {'id': '27813981',\n",
       "    'name': 'Hide the Pain Harold',\n",
       "    'url': 'https://i.imgflip.com/gk5el.jpg',\n",
       "    'width': 480,\n",
       "    'height': 601,\n",
       "    'box_count': 2},\n",
       "   {'id': '195515965',\n",
       "    'name': 'Clown Applying Makeup',\n",
       "    'url': 'https://i.imgflip.com/38el31.jpg',\n",
       "    'width': 750,\n",
       "    'height': 798,\n",
       "    'box_count': 4},\n",
       "   {'id': '226297822',\n",
       "    'name': 'Panik Kalm Panik',\n",
       "    'url': 'https://i.imgflip.com/3qqcim.png',\n",
       "    'width': 640,\n",
       "    'height': 881,\n",
       "    'box_count': 3},\n",
       "   {'id': '216951317',\n",
       "    'name': 'Guy Holding Cardboard Sign',\n",
       "    'url': 'https://i.imgflip.com/3l60ph.jpg',\n",
       "    'width': 700,\n",
       "    'height': 702,\n",
       "    'box_count': 2},\n",
       "   {'id': '79132341',\n",
       "    'name': 'Bike Fall',\n",
       "    'url': 'https://i.imgflip.com/1b42wl.jpg',\n",
       "    'width': 500,\n",
       "    'height': 680,\n",
       "    'box_count': 3},\n",
       "   {'id': '55311130',\n",
       "    'name': 'This Is Fine',\n",
       "    'url': 'https://i.imgflip.com/wxica.jpg',\n",
       "    'width': 580,\n",
       "    'height': 282,\n",
       "    'box_count': 2},\n",
       "   {'id': '101470',\n",
       "    'name': 'Ancient Aliens',\n",
       "    'url': 'https://i.imgflip.com/26am.jpg',\n",
       "    'width': 500,\n",
       "    'height': 437,\n",
       "    'box_count': 2},\n",
       "   {'id': '114585149',\n",
       "    'name': 'Inhaling Seagull',\n",
       "    'url': 'https://i.imgflip.com/1w7ygt.jpg',\n",
       "    'width': 1269,\n",
       "    'height': 2825,\n",
       "    'box_count': 4},\n",
       "   {'id': '100777631',\n",
       "    'name': 'Is This A Pigeon',\n",
       "    'url': 'https://i.imgflip.com/1o00in.jpg',\n",
       "    'width': 1587,\n",
       "    'height': 1425,\n",
       "    'box_count': 3},\n",
       "   {'id': '155067746',\n",
       "    'name': 'Surprised Pikachu',\n",
       "    'url': 'https://i.imgflip.com/2kbn1e.jpg',\n",
       "    'width': 1893,\n",
       "    'height': 1893,\n",
       "    'box_count': 3},\n",
       "   {'id': '89370399',\n",
       "    'name': 'Roll Safe Think About It',\n",
       "    'url': 'https://i.imgflip.com/1h7in3.jpg',\n",
       "    'width': 702,\n",
       "    'height': 395,\n",
       "    'box_count': 2},\n",
       "   {'id': '3218037',\n",
       "    'name': \"This Is Where I'd Put My Trophy If I Had One\",\n",
       "    'url': 'https://i.imgflip.com/1wz1x.jpg',\n",
       "    'width': 300,\n",
       "    'height': 418,\n",
       "    'box_count': 2},\n",
       "   {'id': '135678846',\n",
       "    'name': 'Who Killed Hannibal',\n",
       "    'url': 'https://i.imgflip.com/28s2gu.jpg',\n",
       "    'width': 1280,\n",
       "    'height': 1440,\n",
       "    'box_count': 3},\n",
       "   {'id': '99683372',\n",
       "    'name': 'Sleeping Shaq',\n",
       "    'url': 'https://i.imgflip.com/1nck6k.jpg',\n",
       "    'width': 640,\n",
       "    'height': 631,\n",
       "    'box_count': 2},\n",
       "   {'id': '123999232',\n",
       "    'name': 'The Scroll Of Truth',\n",
       "    'url': 'https://i.imgflip.com/21tqf4.jpg',\n",
       "    'width': 1280,\n",
       "    'height': 1236,\n",
       "    'box_count': 2},\n",
       "   {'id': '28251713',\n",
       "    'name': 'Oprah You Get A',\n",
       "    'url': 'https://i.imgflip.com/gtj5t.jpg',\n",
       "    'width': 620,\n",
       "    'height': 465,\n",
       "    'box_count': 2},\n",
       "   {'id': '124055727',\n",
       "    'name': \"Y'all Got Any More Of That\",\n",
       "    'url': 'https://i.imgflip.com/21uy0f.jpg',\n",
       "    'width': 600,\n",
       "    'height': 471,\n",
       "    'box_count': 2},\n",
       "   {'id': '134797956',\n",
       "    'name': 'American Chopper Argument',\n",
       "    'url': 'https://i.imgflip.com/2896ro.jpg',\n",
       "    'width': 640,\n",
       "    'height': 1800,\n",
       "    'box_count': 5},\n",
       "   {'id': '21735',\n",
       "    'name': 'The Rock Driving',\n",
       "    'url': 'https://i.imgflip.com/grr.jpg',\n",
       "    'width': 568,\n",
       "    'height': 700,\n",
       "    'box_count': 2},\n",
       "   {'id': '84341851',\n",
       "    'name': 'Evil Kermit',\n",
       "    'url': 'https://i.imgflip.com/1e7ql7.jpg',\n",
       "    'width': 700,\n",
       "    'height': 325,\n",
       "    'box_count': 2},\n",
       "   {'id': '61556',\n",
       "    'name': 'Grandma Finds The Internet',\n",
       "    'url': 'https://i.imgflip.com/1bhw.jpg',\n",
       "    'width': 640,\n",
       "    'height': 480,\n",
       "    'box_count': 2},\n",
       "   {'id': '5496396',\n",
       "    'name': 'Leonardo Dicaprio Cheers',\n",
       "    'url': 'https://i.imgflip.com/39t1o.jpg',\n",
       "    'width': 600,\n",
       "    'height': 400,\n",
       "    'box_count': 2},\n",
       "   {'id': '61520',\n",
       "    'name': 'Futurama Fry',\n",
       "    'url': 'https://i.imgflip.com/1bgw.jpg',\n",
       "    'width': 552,\n",
       "    'height': 414,\n",
       "    'box_count': 2},\n",
       "   {'id': '101288',\n",
       "    'name': 'Third World Skeptical Kid',\n",
       "    'url': 'https://i.imgflip.com/265k.jpg',\n",
       "    'width': 426,\n",
       "    'height': 426,\n",
       "    'box_count': 2},\n",
       "   {'id': '175540452',\n",
       "    'name': 'Unsettled Tom',\n",
       "    'url': 'https://i.imgflip.com/2wifvo.jpg',\n",
       "    'width': 680,\n",
       "    'height': 550,\n",
       "    'box_count': 2},\n",
       "   {'id': '259237855',\n",
       "    'name': 'Laughing Leo',\n",
       "    'url': 'https://i.imgflip.com/4acd7j.png',\n",
       "    'width': 470,\n",
       "    'height': 470,\n",
       "    'box_count': 2},\n",
       "   {'id': '196652226',\n",
       "    'name': 'Spongebob Ight Imma Head Out',\n",
       "    'url': 'https://i.imgflip.com/392xtu.jpg',\n",
       "    'width': 822,\n",
       "    'height': 960,\n",
       "    'box_count': 2},\n",
       "   {'id': '132769734',\n",
       "    'name': 'Hard To Swallow Pills',\n",
       "    'url': 'https://i.imgflip.com/271ps6.jpg',\n",
       "    'width': 680,\n",
       "    'height': 979,\n",
       "    'box_count': 2},\n",
       "   {'id': '6235864',\n",
       "    'name': 'Finding Neverland',\n",
       "    'url': 'https://i.imgflip.com/3pnmg.jpg',\n",
       "    'width': 423,\n",
       "    'height': 600,\n",
       "    'box_count': 3},\n",
       "   {'id': '91545132',\n",
       "    'name': 'Trump Bill Signing',\n",
       "    'url': 'https://i.imgflip.com/1ii4oc.jpg',\n",
       "    'width': 1866,\n",
       "    'height': 1529,\n",
       "    'box_count': 2},\n",
       "   {'id': '8072285',\n",
       "    'name': 'Doge',\n",
       "    'url': 'https://i.imgflip.com/4t0m5.jpg',\n",
       "    'width': 620,\n",
       "    'height': 620,\n",
       "    'box_count': 5},\n",
       "   {'id': '17496002',\n",
       "    'name': 'Leonardo Dicaprio Wolf Of Wall Street',\n",
       "    'url': 'https://i.imgflip.com/af002.jpg',\n",
       "    'width': 500,\n",
       "    'height': 589,\n",
       "    'box_count': 2},\n",
       "   {'id': '61544',\n",
       "    'name': 'Success Kid',\n",
       "    'url': 'https://i.imgflip.com/1bhk.jpg',\n",
       "    'width': 500,\n",
       "    'height': 500,\n",
       "    'box_count': 2},\n",
       "   {'id': '29617627',\n",
       "    'name': 'Look At Me',\n",
       "    'url': 'https://i.imgflip.com/hmt3v.jpg',\n",
       "    'width': 300,\n",
       "    'height': 300,\n",
       "    'box_count': 2},\n",
       "   {'id': '61546',\n",
       "    'name': 'Brace Yourselves X is Coming',\n",
       "    'url': 'https://i.imgflip.com/1bhm.jpg',\n",
       "    'width': 622,\n",
       "    'height': 477,\n",
       "    'box_count': 2},\n",
       "   {'id': '61532',\n",
       "    'name': 'The Most Interesting Man In The World',\n",
       "    'url': 'https://i.imgflip.com/1bh8.jpg',\n",
       "    'width': 550,\n",
       "    'height': 690,\n",
       "    'box_count': 2},\n",
       "   {'id': '14371066',\n",
       "    'name': 'Star Wars Yoda',\n",
       "    'url': 'https://i.imgflip.com/8k0sa.jpg',\n",
       "    'width': 620,\n",
       "    'height': 714,\n",
       "    'box_count': 2},\n",
       "   {'id': '563423',\n",
       "    'name': 'That Would Be Great',\n",
       "    'url': 'https://i.imgflip.com/c2qn.jpg',\n",
       "    'width': 526,\n",
       "    'height': 440,\n",
       "    'box_count': 2},\n",
       "   {'id': '163573',\n",
       "    'name': 'Imagination Spongebob',\n",
       "    'url': 'https://i.imgflip.com/3i7p.jpg',\n",
       "    'width': 500,\n",
       "    'height': 366,\n",
       "    'box_count': 2},\n",
       "   {'id': '29562797',\n",
       "    'name': \"I'm The Captain Now\",\n",
       "    'url': 'https://i.imgflip.com/hlmst.jpg',\n",
       "    'width': 478,\n",
       "    'height': 350,\n",
       "    'box_count': 2},\n",
       "   {'id': '24557067',\n",
       "    'name': 'Afraid To Ask Andy',\n",
       "    'url': 'https://i.imgflip.com/emccr.jpg',\n",
       "    'width': 620,\n",
       "    'height': 608,\n",
       "    'box_count': 2},\n",
       "   {'id': '89655',\n",
       "    'name': 'Uncle Sam',\n",
       "    'url': 'https://i.imgflip.com/1x6f.jpg',\n",
       "    'width': 620,\n",
       "    'height': 833,\n",
       "    'box_count': 2},\n",
       "   {'id': '101716',\n",
       "    'name': 'Yo Dawg Heard You',\n",
       "    'url': 'https://i.imgflip.com/26hg.jpg',\n",
       "    'width': 500,\n",
       "    'height': 323,\n",
       "    'box_count': 2},\n",
       "   {'id': '1367068',\n",
       "    'name': 'I Should Buy A Boat Cat',\n",
       "    'url': 'https://i.imgflip.com/tau4.jpg',\n",
       "    'width': 500,\n",
       "    'height': 368,\n",
       "    'box_count': 2},\n",
       "   {'id': '460541',\n",
       "    'name': 'Jack Sparrow Being Chased',\n",
       "    'url': 'https://i.imgflip.com/9vct.jpg',\n",
       "    'width': 500,\n",
       "    'height': 375,\n",
       "    'box_count': 2},\n",
       "   {'id': '61539',\n",
       "    'name': 'First World Problems',\n",
       "    'url': 'https://i.imgflip.com/1bhf.jpg',\n",
       "    'width': 552,\n",
       "    'height': 367,\n",
       "    'box_count': 2},\n",
       "   {'id': '7183956',\n",
       "    'name': 'Oprah You Get A Car Everybody Gets A Car',\n",
       "    'url': 'https://i.imgflip.com/49z6c.jpg',\n",
       "    'width': 620,\n",
       "    'height': 1004,\n",
       "    'box_count': 4},\n",
       "   {'id': '6531067',\n",
       "    'name': 'See Nobody Cares',\n",
       "    'url': 'https://i.imgflip.com/3vzej.jpg',\n",
       "    'width': 620,\n",
       "    'height': 676,\n",
       "    'box_count': 2},\n",
       "   {'id': '61585',\n",
       "    'name': 'Bad Luck Brian',\n",
       "    'url': 'https://i.imgflip.com/1bip.jpg',\n",
       "    'width': 475,\n",
       "    'height': 562,\n",
       "    'box_count': 2},\n",
       "   {'id': '16464531',\n",
       "    'name': \"But That's None Of My Business\",\n",
       "    'url': 'https://i.imgflip.com/9sw43.jpg',\n",
       "    'width': 600,\n",
       "    'height': 600,\n",
       "    'box_count': 2},\n",
       "   {'id': '4173692',\n",
       "    'name': 'Scared Cat',\n",
       "    'url': 'https://i.imgflip.com/2hgfw.jpg',\n",
       "    'width': 620,\n",
       "    'height': 464,\n",
       "    'box_count': 2},\n",
       "   {'id': '101910402',\n",
       "    'name': 'Who Would Win?',\n",
       "    'url': 'https://i.imgflip.com/1ooaki.jpg',\n",
       "    'width': 802,\n",
       "    'height': 500,\n",
       "    'box_count': 2},\n",
       "   {'id': '8279814',\n",
       "    'name': 'Cute Cat',\n",
       "    'url': 'https://i.imgflip.com/4xgqu.jpg',\n",
       "    'width': 480,\n",
       "    'height': 532,\n",
       "    'box_count': 2},\n",
       "   {'id': '21604248',\n",
       "    'name': 'Mugatu So Hot Right Now',\n",
       "    'url': 'https://i.imgflip.com/cv1y0.jpg',\n",
       "    'width': 620,\n",
       "    'height': 497,\n",
       "    'box_count': 2},\n",
       "   {'id': '61533',\n",
       "    'name': 'X All The Y',\n",
       "    'url': 'https://i.imgflip.com/1bh9.jpg',\n",
       "    'width': 500,\n",
       "    'height': 355,\n",
       "    'box_count': 2},\n",
       "   {'id': '101511',\n",
       "    'name': \"Don't You Squidward\",\n",
       "    'url': 'https://i.imgflip.com/26br.jpg',\n",
       "    'width': 500,\n",
       "    'height': 333,\n",
       "    'box_count': 2},\n",
       "   {'id': '142921050',\n",
       "    'name': 'Car Salesman Slaps Roof Of Car',\n",
       "    'url': 'https://i.imgflip.com/2d3al6.jpg',\n",
       "    'width': 800,\n",
       "    'height': 450,\n",
       "    'box_count': 2},\n",
       "   {'id': '61527',\n",
       "    'name': 'Y U No',\n",
       "    'url': 'https://i.imgflip.com/1bh3.jpg',\n",
       "    'width': 500,\n",
       "    'height': 500,\n",
       "    'box_count': 2},\n",
       "   {'id': '176908',\n",
       "    'name': 'Shut Up And Take My Money Fry',\n",
       "    'url': 'https://i.imgflip.com/3si4.jpg',\n",
       "    'width': 500,\n",
       "    'height': 281,\n",
       "    'box_count': 2},\n",
       "   {'id': '405658',\n",
       "    'name': 'Grumpy Cat',\n",
       "    'url': 'https://i.imgflip.com/8p0a.jpg',\n",
       "    'width': 500,\n",
       "    'height': 617,\n",
       "    'box_count': 2},\n",
       "   {'id': '922147',\n",
       "    'name': 'Laughing Men In Suits',\n",
       "    'url': 'https://i.imgflip.com/jrj7.jpg',\n",
       "    'width': 500,\n",
       "    'height': 333,\n",
       "    'box_count': 2},\n",
       "   {'id': '61580',\n",
       "    'name': 'Too Damn High',\n",
       "    'url': 'https://i.imgflip.com/1bik.jpg',\n",
       "    'width': 420,\n",
       "    'height': 316,\n",
       "    'box_count': 2},\n",
       "   {'id': '56225174',\n",
       "    'name': 'Be Like Bill',\n",
       "    'url': 'https://i.imgflip.com/xh3me.jpg',\n",
       "    'width': 913,\n",
       "    'height': 907,\n",
       "    'box_count': 4},\n",
       "   {'id': '444501',\n",
       "    'name': 'Maury Lie Detector',\n",
       "    'url': 'https://i.imgflip.com/9iz9.jpg',\n",
       "    'width': 381,\n",
       "    'height': 378,\n",
       "    'box_count': 2},\n",
       "   {'id': '1464444',\n",
       "    'name': 'Happy Star Congratulations',\n",
       "    'url': 'https://i.imgflip.com/vdz0.jpg',\n",
       "    'width': 450,\n",
       "    'height': 292,\n",
       "    'box_count': 4},\n",
       "   {'id': '1202623',\n",
       "    'name': 'Keep Calm And Carry On Red',\n",
       "    'url': 'https://i.imgflip.com/pry7.jpg',\n",
       "    'width': 500,\n",
       "    'height': 704,\n",
       "    'box_count': 2},\n",
       "   {'id': '61582',\n",
       "    'name': 'Creepy Condescending Wonka',\n",
       "    'url': 'https://i.imgflip.com/1bim.jpg',\n",
       "    'width': 550,\n",
       "    'height': 545,\n",
       "    'box_count': 2},\n",
       "   {'id': '1232104',\n",
       "    'name': 'Pepperidge Farm Remembers',\n",
       "    'url': 'https://i.imgflip.com/qep4.jpg',\n",
       "    'width': 500,\n",
       "    'height': 500,\n",
       "    'box_count': 2},\n",
       "   {'id': '61516',\n",
       "    'name': 'Philosoraptor',\n",
       "    'url': 'https://i.imgflip.com/1bgs.jpg',\n",
       "    'width': 500,\n",
       "    'height': 500,\n",
       "    'box_count': 2},\n",
       "   {'id': '13036679',\n",
       "    'name': 'Heavy Breathing Cat',\n",
       "    'url': 'https://i.imgflip.com/7rf5z.jpg',\n",
       "    'width': 373,\n",
       "    'height': 344,\n",
       "    'box_count': 2},\n",
       "   {'id': '371382',\n",
       "    'name': 'Simba Shadowy Place',\n",
       "    'url': 'https://i.imgflip.com/7yk6.jpg',\n",
       "    'width': 363,\n",
       "    'height': 720,\n",
       "    'box_count': 2},\n",
       "   {'id': '28034788',\n",
       "    'name': 'Marvel Civil War 1',\n",
       "    'url': 'https://i.imgflip.com/govs4.jpg',\n",
       "    'width': 423,\n",
       "    'height': 734,\n",
       "    'box_count': 2}]}}"
      ]
     },
     "execution_count": 33,
     "metadata": {},
     "output_type": "execute_result"
    }
   ],
   "source": [
    "response = requests.get('https://api.imgflip.com/get_memes')\n",
    "response.json()"
   ]
  },
  {
   "cell_type": "markdown",
   "id": "6c156b70",
   "metadata": {},
   "source": [
    "Elige una api pública (a poder ser sin token de autorización) y explora sus endpoints con alguna librería de protocolo http\n",
    "\n",
    "https://github.com/public-apis/public-apis"
   ]
  }
 ],
 "metadata": {
  "kernelspec": {
   "display_name": "Python 3 (ipykernel)",
   "language": "python",
   "name": "python3"
  },
  "language_info": {
   "codemirror_mode": {
    "name": "ipython",
    "version": 3
   },
   "file_extension": ".py",
   "mimetype": "text/x-python",
   "name": "python",
   "nbconvert_exporter": "python",
   "pygments_lexer": "ipython3",
   "version": "3.8.10"
  }
 },
 "nbformat": 4,
 "nbformat_minor": 5
}
