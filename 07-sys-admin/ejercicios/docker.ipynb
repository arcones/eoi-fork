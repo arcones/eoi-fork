{
 "cells": [
  {
   "cell_type": "markdown",
   "id": "353c2696",
   "metadata": {},
   "source": [
    "# Docker"
   ]
  },
  {
   "cell_type": "markdown",
   "id": "e2035e82",
   "metadata": {},
   "source": [
    "1. Descarga el código de la aplicación django-polls en tu workspace si no la tienes\n",
    "\n",
    "```bash\n",
    "git clone git@github.com:aliciapj/django_polls.git\n",
    "```"
   ]
  },
  {
   "cell_type": "markdown",
   "id": "072ead04",
   "metadata": {},
   "source": [
    "2. Crea un entorno virtual e instala las librerías del proyecto\n",
    "\n",
    "```bash\n",
    "python -m venv .venv\n",
    "source .venv/bin/activate\n",
    "pip install -r requirements.txt\n",
    "```"
   ]
  },
  {
   "cell_type": "markdown",
   "id": "298e1e04",
   "metadata": {},
   "source": [
    "3. Ejecuta las migraciones y carga los datos del fixture inicial\n",
    "```bash\n",
    "python manage.py migrate\n",
    "python manage.py loaddata fixtures/polls_data.json\n",
    "```"
   ]
  },
  {
   "cell_type": "markdown",
   "id": "b4b1d636",
   "metadata": {},
   "source": [
    "4. Comprueba que la aplicación funciona\n",
    "```bash\n",
    "python manage.py runserver 0.0.0.0:8000\n",
    "curl http://localhost:8000/\n",
    "```"
   ]
  },
  {
   "cell_type": "markdown",
   "id": "411abcd0",
   "metadata": {},
   "source": [
    "## Dockerización por copia del proyecto"
   ]
  },
  {
   "cell_type": "markdown",
   "id": "6ee91797",
   "metadata": {},
   "source": [
    "Crea un fichero llamado `Dockerfile` en la raíz del proyecto"
   ]
  },
  {
   "cell_type": "markdown",
   "id": "b9ec8b93",
   "metadata": {},
   "source": [
    "En el fichero ve añadiendo el siguiente contenido:\n",
    "\n",
    "- La primera línea será la directiva de sintaxis. Aunque es opcional, esta línea le indica a Docker qué sintaxis debe usar para leer el fichero Dockerfile, y permite a las versiones más antiguas que sigan funcionando. En nuestro caso pondremos la versión 1\n",
    "\n",
    "```yaml\n",
    "# syntax=docker/dockerfile:1\n",
    "```"
   ]
  },
  {
   "cell_type": "markdown",
   "id": "c6728e68",
   "metadata": {},
   "source": [
    "- Las imágenes de docker pueden heredar el comportamiento base de otras imágenes. Esto es útil porque así nos podemos ahorrar las tareas más básicas de montar el entorno, como por ejemplo, instalar Python. En nuestro caso, utilizaremos la imagen `python:3.9-slim-buster` (puedes ver todas las imágenes de python disponibles [aquí](https://hub.docker.com/_/python) y en concreto qué esta haciendo la `python:3.9-slim-buster` [aquí](https://github.com/docker-library/python/blob/d9ab222fcd828888b102e3581c03931eac344097/3.9/buster/slim/Dockerfile)\n",
    "\n",
    "```yaml\n",
    "FROM python:3.9-slim-buster\n",
    "```"
   ]
  },
  {
   "cell_type": "markdown",
   "id": "b27fd101",
   "metadata": {},
   "source": [
    "- A continuación le diremos a Docker cuál es el directorio de trabajo, en nuestro caso `/app`\n",
    "\n",
    "```\n",
    "WORKDIR /app\n",
    "```"
   ]
  },
  {
   "cell_type": "markdown",
   "id": "c2c6dedb",
   "metadata": {},
   "source": [
    "- Ahora tenemos que preparar el entorno de ejecución. Para ello, vamos a copiar el fichero `requirements.txt` a la imagen para posteriormente instalar todas las dependencias necesarias\n",
    "\n",
    "```\n",
    "COPY requirements.txt requirements.txt\n",
    "RUN pip3 install -r requirements.txt\n",
    "```"
   ]
  },
  {
   "cell_type": "markdown",
   "id": "a64f9980",
   "metadata": {},
   "source": [
    "- Ahora copiaremos los ficheros de código a la imágen. Si el código estuviera subido a un repo, podríamos descargarlo directamente de Github. Por ahora, copiaremos todo el contenido del directorio a la imagen de Docker con el siguiente comando:\n",
    "\n",
    "```\n",
    "COPY . .\n",
    "```"
   ]
  },
  {
   "cell_type": "markdown",
   "id": "d61b3ad2",
   "metadata": {},
   "source": [
    "- Y por último, arranca la aplicación django:\n",
    "\n",
    "```\n",
    "CMD [ \"python3\", \"manage.py\" , \"runserver\" , \"0.0.0.0:8000\"]\n",
    "```"
   ]
  },
  {
   "cell_type": "markdown",
   "id": "2d75ae82",
   "metadata": {},
   "source": [
    "El fichero `Dockerfile` debería haber quedado así\n",
    "\n",
    "```yaml\n",
    "# syntax=docker/dockerfile:1\n",
    "\n",
    "FROM python:3.9-slim-buster\n",
    "\n",
    "WORKDIR /app\n",
    "\n",
    "COPY requirements.txt requirements.txt\n",
    "RUN pip3 install -r requirements.txt\n",
    "\n",
    "COPY . .\n",
    "\n",
    "CMD [ \"python3\", \"manage.py\" , \"runserver\" , \"0.0.0.0:8000\"]\n",
    "```"
   ]
  },
  {
   "cell_type": "markdown",
   "id": "2b9547f9",
   "metadata": {},
   "source": [
    "Para construir la imagen a partir del fichero que acabas de crear, ejecuta el siguiente comando en la consola:\n",
    "\n",
    "```bash\n",
    "Sending build context to Docker daemon  424.5MB\n",
    "Step 1/6 : FROM python:3.9-slim-buster\n",
    "3.9-slim-buster: Pulling from library/python\n",
    "69692152171a: Already exists \n",
    "59773387c0e7: Pull complete \n",
    "3fc84e535e87: Pull complete \n",
    "68ebeebdab6f: Pull complete \n",
    "3d3af2ef8baa: Pull complete \n",
    "Digest: sha256:80b238ba357d98813bcc425f505dfa238f49cf5f895492fc2667af118dccaa44\n",
    "Status: Downloaded newer image for python:3.9-slim-buster\n",
    " ---> 609da079b03a\n",
    "Step 2/6 : WORKDIR /app\n",
    " ---> Running in f09477c7fe05\n",
    "Removing intermediate container f09477c7fe05\n",
    " ---> 9be45d367f92\n",
    "Step 3/6 : COPY requirements.txt requirements.txt\n",
    " ---> fc6a0f1d7d5f\n",
    "Step 4/6 : RUN pip3 install -r requirements.txt\n",
    " ---> Running in f553cc9ef108\n",
    "Collecting asgiref==3.3.4\n",
    "  Downloading asgiref-3.3.4-py3-none-any.whl (22 kB)\n",
    "Collecting Django==3.2.3\n",
    "  Downloading Django-3.2.3-py3-none-any.whl (7.9 MB)\n",
    "Collecting pytz==2021.1\n",
    "  Downloading pytz-2021.1-py2.py3-none-any.whl (510 kB)\n",
    "Collecting sqlparse==0.4.1\n",
    "  Downloading sqlparse-0.4.1-py3-none-any.whl (42 kB)\n",
    "Installing collected packages: sqlparse, pytz, asgiref, Django\n",
    "WARNING: Running pip as root will break packages and permissions. You should install packages reliably by using venv: https://pip.pypa.io/warnings/venv\n",
    "Successfully installed Django-3.2.3 asgiref-3.3.4 pytz-2021.1 sqlparse-0.4.1\n",
    "Removing intermediate container f553cc9ef108\n",
    " ---> ef1ba4a17e64\n",
    "Step 5/6 : COPY . .\n",
    " ---> 19663b4b8c53\n",
    "Step 6/6 : CMD [ \"python3\", \"manage.py\" , \"runserver\" , \"0.0.0.0:8000\"]\n",
    " ---> Running in 082c3ff5e23e\n",
    "Removing intermediate container 082c3ff5e23e\n",
    " ---> 30630b8dcb67\n",
    "Successfully built 30630b8dcb67\n",
    "Successfully tagged python-docker:latest\n",
    " ```"
   ]
  },
  {
   "cell_type": "markdown",
   "id": "74ea086f",
   "metadata": {},
   "source": [
    "Para ver las imágenes que están generadas en tu máquina, puedes ejecutar el siguiente comando:\n",
    "\n",
    "```bash\n",
    "docker images\n",
    "```\n",
    "salida:\n",
    "```\n",
    "REPOSITORY      TAG               IMAGE ID       CREATED         SIZE\n",
    "python-docker   latest            30630b8dcb67   4 minutes ago   536MB\n",
    "python          3.9-slim-buster   609da079b03a   7 days ago      115MB\n",
    "hello-world     latest            d1165f221234   2 months ago    13.3kB\n",
    "```"
   ]
  },
  {
   "cell_type": "markdown",
   "id": "3a1d2698",
   "metadata": {},
   "source": [
    "**Correr la imagen en un contenedor**\n",
    "\n",
    "Para lanzar el contenedor a partir de la imagen que acabamos de crear, ejecuta el siguiente comando en la consola:\n",
    "\n",
    "```bash\n",
    "docker run python-docker\n",
    "```"
   ]
  },
  {
   "cell_type": "markdown",
   "id": "d1e39e54",
   "metadata": {},
   "source": [
    "Si accedes a la url de la aplicación flask en el navegador, comprobarás que no puedes acceder a ella. También puedes comprobarlo con el siguiente comando de `curl`:\n",
    "\n",
    "```bash\n",
    "curl localhost:8000\n",
    "```\n",
    "salida:\n",
    "```\n",
    "curl: (7) Failed to connect to localhost port 8000: Connection refused\n",
    "```"
   ]
  },
  {
   "cell_type": "markdown",
   "id": "3a52b9fc",
   "metadata": {},
   "source": [
    "Esto es porque la aplicación ha sido arrancada en un entorno aislado, fuera de la red local. Para que sea visible en nuestra red local, tenemos que parar el contenedor y lanzalo con el parámetro `--publish`\n",
    "\n",
    "```bash\n",
    "docker run --publish 8000:8000 python-docker\n",
    "```\n",
    "\n",
    "Ahora debería funcionar:\n",
    "```bash\n",
    "curl localhost:8000\n",
    "```"
   ]
  },
  {
   "cell_type": "markdown",
   "id": "0abc1899",
   "metadata": {},
   "source": [
    "Pero como puedes ver en la consola, el proceso se queda abierto. Lo ideal sería que se quedase corriendo en segundo plano y pudieramos gestionarlo de forma asíncrona.\n",
    "\n",
    "Para ello, para el worker y arráncalo en segundo plano con el siguiente comando:\n",
    "\n",
    "```bash\n",
    "docker run -d -p 8000:8000 python-docker\n",
    "```\n",
    "salida:\n",
    "```\n",
    "648c686c1e8e8e9cab76f748675630f11bc61c07d7da9219c3527a8676a84976 \n",
    "```\n",
    "\n",
    "> Comprueba que la aplicación sigue funcionando en tu navegador o usando `curl`"
   ]
  },
  {
   "cell_type": "markdown",
   "id": "079d4a0e",
   "metadata": {},
   "source": [
    "- Para comprobar los contenedores que están ejecutándose en la máquina:\n",
    "    \n",
    "```bash\n",
    "docker ps\n",
    "```\n",
    "salida:\n",
    "```\n",
    "CONTAINER ID   IMAGE           COMMAND                  CREATED         STATUS         PORTS                                       NAMES\n",
    "c419f354cbc5   python-docker   \"python3 manage.py r…\"   5 seconds ago   Up 4 seconds   0.0.0.0:8000->8000/tcp, :::8000->8000/tcp   sharp_mendeleev\n",
    "```"
   ]
  },
  {
   "cell_type": "markdown",
   "id": "f2bb25a5",
   "metadata": {},
   "source": [
    "- Para parar un contenedor activo (utiliza el campo `NAMES` del `docker ps`:\n",
    "\n",
    "```bash\n",
    "docker stop sharp_mendeleev\n",
    "```"
   ]
  },
  {
   "cell_type": "markdown",
   "id": "bfc2eb0e",
   "metadata": {},
   "source": [
    "- Para reiniciarlo:\n",
    "\n",
    "```\n",
    "docker restart sharp_mendeleev\n",
    "```"
   ]
  },
  {
   "cell_type": "markdown",
   "id": "9ef56f0e",
   "metadata": {},
   "source": [
    "- Para eliminar un contenedor:\n",
    "```\n",
    "docker rm sharp_mendeleev\n",
    "```"
   ]
  }
 ],
 "metadata": {
  "kernelspec": {
   "display_name": "Python 3 (ipykernel)",
   "language": "python",
   "name": "python3"
  },
  "language_info": {
   "codemirror_mode": {
    "name": "ipython",
    "version": 3
   },
   "file_extension": ".py",
   "mimetype": "text/x-python",
   "name": "python",
   "nbconvert_exporter": "python",
   "pygments_lexer": "ipython3",
   "version": "3.8.10"
  }
 },
 "nbformat": 4,
 "nbformat_minor": 5
}
