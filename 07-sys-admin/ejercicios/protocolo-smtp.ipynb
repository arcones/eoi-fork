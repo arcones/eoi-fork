{
 "cells": [
  {
   "cell_type": "markdown",
   "id": "8a193e5a",
   "metadata": {},
   "source": [
    "# Ejercicio protocolo smtp con smtplib"
   ]
  },
  {
   "cell_type": "markdown",
   "id": "4a73a430",
   "metadata": {},
   "source": [
    "Puedes encontrar toda la documentación de la librería `smtplib` en la web oficial de Python:\n",
    "[https://docs.python.org/3/library/smtplib.html](https://docs.python.org/3/library/smtplib.html)"
   ]
  },
  {
   "cell_type": "markdown",
   "id": "2ce39ebc",
   "metadata": {},
   "source": [
    "## Mi primer email con smtplib"
   ]
  },
  {
   "cell_type": "markdown",
   "id": "adb527a3",
   "metadata": {},
   "source": [
    "1. Arranca un servidor smtp en local con el siguiente comando:\n",
    "```\n",
    "python -m smtpd -c DebuggingServer -n localhost:1025\n",
    "```"
   ]
  },
  {
   "cell_type": "markdown",
   "id": "b092dbaa",
   "metadata": {},
   "source": [
    "2. Importa la librería smptlib "
   ]
  },
  {
   "cell_type": "code",
   "execution_count": 1,
   "id": "40fd87f7",
   "metadata": {},
   "outputs": [],
   "source": [
    "import smtplib"
   ]
  },
  {
   "cell_type": "markdown",
   "id": "76673b43",
   "metadata": {},
   "source": [
    "3. Define las variables `smtp_server` y `port`.  \n",
    "  - `smtp_server` debe contener un string con el nombre del servidor (mira el comando con el que has arrancado el servidor en el paso 1)\n",
    "  - `port` debe contener un número entero con el puerto donde se ha arrancado el servidor (paso 1 también)"
   ]
  },
  {
   "cell_type": "code",
   "execution_count": 2,
   "id": "c3c0e527",
   "metadata": {},
   "outputs": [],
   "source": [
    "smtp_server  = 'localhost'\n",
    "port = 1025"
   ]
  },
  {
   "cell_type": "markdown",
   "id": "e8dfb66f",
   "metadata": {},
   "source": [
    "4. Define las siguientes variables:\n",
    "  - `sender_email`: dirección del remitente (puedes inventartela) - tipo string\n",
    "  - `receiver_email`: direccion del destinatario (puedes inventartela también) - tipo string\n",
    "  - `message`: contenido del mensaje - \n",
    "    - puedes incluir el Subject en el cuerpo del mensaje\n",
    "    - si quieres enviar un mensaje de varias líneas, prueba a definir el mensaje entre tres comillas consecutivas\n",
    "    - por ejemplo:  \n",
    "      ```\n",
    "      message = \"\"\"\n",
    "          Subject: Hi there\n",
    "          This message is sent from Python.\"\"\"\n",
    "      ```"
   ]
  },
  {
   "cell_type": "code",
   "execution_count": 3,
   "id": "d2c536de",
   "metadata": {},
   "outputs": [],
   "source": [
    "sender_email = \"my@gmail.com\"\n",
    "receiver_email = \"your@gmail.com\"\n",
    "message = \"\"\"\n",
    "Subject: Hi there\n",
    "This message is sent from Python.\"\"\""
   ]
  },
  {
   "cell_type": "markdown",
   "id": "90573adf",
   "metadata": {},
   "source": [
    "5. Envía el mensaje al servidor utilizando el siguiente código:"
   ]
  },
  {
   "cell_type": "code",
   "execution_count": 4,
   "id": "400b932a",
   "metadata": {},
   "outputs": [],
   "source": [
    "with smtplib.SMTP(smtp_server, port) as server:\n",
    "    server.sendmail(sender_email, receiver_email, message)"
   ]
  },
  {
   "cell_type": "markdown",
   "id": "275dd9ab",
   "metadata": {},
   "source": [
    "En la consola donde habías arrancado el servidor, deberías ver algo como esto:\n",
    "```\n",
    "---------- MESSAGE FOLLOWS ----------                                                                                b'X-Peer: 127.0.0.1'                                                                                                 b''                                                                                                                  b'Subject: Hi there'                                                                                                 b'This message is sent from Python.'                                                                                 ------------ END MESSAGE ------------  \n",
    "```"
   ]
  },
  {
   "cell_type": "markdown",
   "id": "3f185fd7",
   "metadata": {},
   "source": [
    "6. Para entender bien qué pasos ha seguido el protocolo \"por dentro\", añade la siguiente línea al código justo antes de mandar el mensaje:\n",
    "```\n",
    "server.set_debuglevel(True)\n",
    "```"
   ]
  },
  {
   "cell_type": "code",
   "execution_count": 5,
   "id": "3291ea17",
   "metadata": {},
   "outputs": [
    {
     "name": "stderr",
     "output_type": "stream",
     "text": [
      "send: 'ehlo DESKTOP-89DFD33.localdomain\\r\\n'\n",
      "reply: b'250-DESKTOP-89DFD33.localdomain\\r\\n'\n",
      "reply: b'250-8BITMIME\\r\\n'\n",
      "reply: b'250 HELP\\r\\n'\n",
      "reply: retcode (250); Msg: b'DESKTOP-89DFD33.localdomain\\n8BITMIME\\nHELP'\n",
      "send: 'mail FROM:<my@gmail.com>\\r\\n'\n",
      "reply: b'250 OK\\r\\n'\n",
      "reply: retcode (250); Msg: b'OK'\n",
      "send: 'rcpt TO:<your@gmail.com>\\r\\n'\n",
      "reply: b'250 OK\\r\\n'\n",
      "reply: retcode (250); Msg: b'OK'\n",
      "send: 'data\\r\\n'\n",
      "reply: b'354 End data with <CR><LF>.<CR><LF>\\r\\n'\n",
      "reply: retcode (354); Msg: b'End data with <CR><LF>.<CR><LF>'\n",
      "data: (354, b'End data with <CR><LF>.<CR><LF>')\n",
      "send: b'\\r\\nSubject: Hi there\\r\\nThis message is sent from Python.\\r\\n.\\r\\n'\n",
      "reply: b'250 OK\\r\\n'\n",
      "reply: retcode (250); Msg: b'OK'\n",
      "data: (250, b'OK')\n",
      "send: 'QUIT\\r\\n'\n",
      "reply: b'221 Bye\\r\\n'\n",
      "reply: retcode (221); Msg: b'Bye'\n"
     ]
    }
   ],
   "source": [
    "with smtplib.SMTP(smtp_server, port) as server:\n",
    "    server.set_debuglevel(True)\n",
    "    server.sendmail(sender_email, receiver_email, message)"
   ]
  },
  {
   "cell_type": "markdown",
   "id": "4581191e",
   "metadata": {},
   "source": [
    "Compara la salida de la consola con el ejemplo de una comunicación SMTP [según la wikipedia](https://es.wikipedia.org/wiki/Protocolo_para_transferencia_simple_de_correo): (seguro que el tuyo tiene algún `retcode` de más, pero deberías encontrar bastantes similitudes)\n",
    "\n",
    "```\n",
    "S: 220 Servidor SMTP\n",
    "C: HELO miequipo.midominio.com\n",
    "S: 250 Hello, please to meet you\n",
    "C: MAIL FROM: <yo@midominio.com>\n",
    "S: 250 Ok\n",
    "C: RCPT TO: <destinatario@sudominio.com>\n",
    "S: 250 Ok\n",
    "C: DATA\n",
    "S: 354 End data with <CR><LF>.<CR><LF>\n",
    "C: Subject: Campo de asunto\n",
    "C: From: yo@midominio.com\n",
    "C: To: destinatario@sudominio.com\n",
    "C:\n",
    "C: Hola,\n",
    "C: Esto es una prueba.\n",
    "C: Hasta luego.\n",
    "C:\n",
    "C: .\n",
    "C: <CR><LF>.<CR><LF>\n",
    "S: 250 Ok: queued as 12345\n",
    "C: quit\n",
    "S: 221 Bye\n",
    "```"
   ]
  },
  {
   "cell_type": "markdown",
   "id": "fdc8667b",
   "metadata": {},
   "source": [
    "## Extendiendo el servidor smtp"
   ]
  },
  {
   "cell_type": "markdown",
   "id": "17e4326d",
   "metadata": {},
   "source": [
    "Como el servidor smtp por defecto no nos ofrece mucha información por defecto de la información que recibe, vamos a extender la funcionalidad de este servidor para que muestre por consola más datos.\n",
    "\n",
    "Usaremos la herencia para crearnos una clase que herede del módulo `smtpd.SMTPServer` y reescribiremos su método `process_message` para imprimir toda la información que le llega (tienes toda la info sobre ese módulo y esa función [aquí](https://docs.python.org/3/library/smtpd.html?highlight=smtpd#smtpd.SMTPServer.process_message))\n",
    "\n",
    "1. Para ello, crea un fichero llamado `email-server.py` e incluye el siguiente código en él:\n",
    "\n",
    "```python\n",
    "import smtpd\n",
    "import asyncore\n",
    "\n",
    "class CustomSMTPServer(smtpd.SMTPServer):\n",
    "\n",
    "    def process_message(self, peer, mailfrom, rcpttos, \\\n",
    "                        data, mail_options=None, rcpt_options=None):\n",
    "        print('Receiving message from:', peer)\n",
    "        print('Message addressed from:', mailfrom)\n",
    "        print('Message addressed to  :', rcpttos)\n",
    "        print('Message length        :', len(data))\n",
    "\n",
    "\n",
    "# Arranca el servidor en un proceso asíncrono\n",
    "server = CustomSMTPServer(('127.0.0.1', 1025), None)\n",
    "asyncore.loop()\n",
    "```"
   ]
  },
  {
   "cell_type": "markdown",
   "id": "711fbbc4",
   "metadata": {},
   "source": [
    "2. Arranca el servidor usando este fichero con el siguiente comando:\n",
    "```\n",
    "python ejercicios/email-server.py\n",
    "```"
   ]
  },
  {
   "cell_type": "markdown",
   "id": "57c78ca3",
   "metadata": {},
   "source": [
    "3. Reenvía el mensaje anterior al servidor:"
   ]
  },
  {
   "cell_type": "code",
   "execution_count": 6,
   "id": "9aedec73",
   "metadata": {},
   "outputs": [],
   "source": [
    "with smtplib.SMTP(smtp_server, port) as server:\n",
    "    server.sendmail(sender_email, receiver_email, message)"
   ]
  },
  {
   "cell_type": "markdown",
   "id": "19e4ae9d",
   "metadata": {},
   "source": [
    "Ahora verás más información en la consola, algo como esto:\n",
    "    \n",
    "```\n",
    "Receiving message from: ('127.0.0.1', 50488)                                                                         Message addressed from: my@gmail.com                                                                                 Message addressed to  : ['your@gmail.com']                                                                           Message length        : 52 \n",
    "```"
   ]
  },
  {
   "cell_type": "markdown",
   "id": "c48fc0f3",
   "metadata": {},
   "source": [
    "## Usando la api de GMail"
   ]
  },
  {
   "cell_type": "markdown",
   "id": "05d19a53",
   "metadata": {},
   "source": [
    "https://developers.google.com/gmail/api/quickstart/python/"
   ]
  },
  {
   "cell_type": "markdown",
   "id": "9fa8a2df",
   "metadata": {},
   "source": [
    "1. Crear un fichero de credenciales siguiendo estas instrucciones: https://developers.google.com/workspace/guides/create-credentials"
   ]
  },
  {
   "cell_type": "markdown",
   "id": "1182d5dc",
   "metadata": {},
   "source": [
    "2. Instala las librerías de GMail"
   ]
  },
  {
   "cell_type": "code",
   "execution_count": 1,
   "id": "afc0eb9c",
   "metadata": {
    "scrolled": true
   },
   "outputs": [
    {
     "name": "stdout",
     "output_type": "stream",
     "text": [
      "Collecting google-api-python-client\n",
      "  Downloading google_api_python_client-2.3.0-py2.py3-none-any.whl (7.1 MB)\n",
      "\u001b[K     |████████████████████████████████| 7.1 MB 6.9 MB/s eta 0:00:01\n",
      "\u001b[?25hCollecting google-auth-httplib2\n",
      "  Downloading google_auth_httplib2-0.1.0-py2.py3-none-any.whl (9.3 kB)\n",
      "Collecting google-auth-oauthlib\n",
      "  Downloading google_auth_oauthlib-0.4.4-py2.py3-none-any.whl (18 kB)\n",
      "Collecting google-auth<2dev,>=1.16.0\n",
      "  Downloading google_auth-1.30.0-py2.py3-none-any.whl (146 kB)\n",
      "\u001b[K     |████████████████████████████████| 146 kB 87.1 MB/s eta 0:00:01\n",
      "\u001b[?25hRequirement already satisfied: six<2dev,>=1.13.0 in /mnt/c/Users/alicia/workspace/eoi/eoi-administracion-sistemas/.venv/lib/python3.8/site-packages (from google-api-python-client) (1.15.0)\n",
      "Collecting uritemplate<4dev,>=3.0.0\n",
      "  Downloading uritemplate-3.0.1-py2.py3-none-any.whl (15 kB)\n",
      "Collecting google-api-core<2dev,>=1.21.0\n",
      "  Downloading google_api_core-1.26.3-py2.py3-none-any.whl (93 kB)\n",
      "\u001b[K     |████████████████████████████████| 93 kB 1.3 MB/s  eta 0:00:01\n",
      "\u001b[?25hCollecting httplib2<1dev,>=0.15.0\n",
      "  Downloading httplib2-0.19.1-py3-none-any.whl (95 kB)\n",
      "\u001b[K     |████████████████████████████████| 95 kB 2.4 MB/s  eta 0:00:01\n",
      "\u001b[?25hCollecting googleapis-common-protos<2.0dev,>=1.6.0\n",
      "  Downloading googleapis_common_protos-1.53.0-py2.py3-none-any.whl (198 kB)\n",
      "\u001b[K     |████████████████████████████████| 198 kB 91.1 MB/s eta 0:00:01\n",
      "\u001b[?25hCollecting protobuf>=3.12.0\n",
      "  Downloading protobuf-3.16.0-cp38-cp38-manylinux_2_5_x86_64.manylinux1_x86_64.whl (1.0 MB)\n",
      "\u001b[K     |████████████████████████████████| 1.0 MB 84.7 MB/s eta 0:00:01\n",
      "\u001b[?25hRequirement already satisfied: packaging>=14.3 in /mnt/c/Users/alicia/workspace/eoi/eoi-administracion-sistemas/.venv/lib/python3.8/site-packages (from google-api-core<2dev,>=1.21.0->google-api-python-client) (20.9)\n",
      "Collecting requests<3.0.0dev,>=2.18.0\n",
      "  Using cached requests-2.25.1-py2.py3-none-any.whl (61 kB)\n",
      "Requirement already satisfied: setuptools>=40.3.0 in /mnt/c/Users/alicia/workspace/eoi/eoi-administracion-sistemas/.venv/lib/python3.8/site-packages (from google-api-core<2dev,>=1.21.0->google-api-python-client) (44.0.0)\n",
      "Collecting pytz\n",
      "  Downloading pytz-2021.1-py2.py3-none-any.whl (510 kB)\n",
      "\u001b[K     |████████████████████████████████| 510 kB 79.3 MB/s eta 0:00:01\n",
      "\u001b[?25hCollecting rsa<5,>=3.1.4\n",
      "  Downloading rsa-4.7.2-py3-none-any.whl (34 kB)\n",
      "Collecting cachetools<5.0,>=2.0.0\n",
      "  Downloading cachetools-4.2.2-py3-none-any.whl (11 kB)\n",
      "Collecting pyasn1-modules>=0.2.1\n",
      "  Downloading pyasn1_modules-0.2.8-py2.py3-none-any.whl (155 kB)\n",
      "\u001b[K     |████████████████████████████████| 155 kB 91.0 MB/s eta 0:00:01\n",
      "\u001b[?25hRequirement already satisfied: pyparsing<3,>=2.4.2 in /mnt/c/Users/alicia/workspace/eoi/eoi-administracion-sistemas/.venv/lib/python3.8/site-packages (from httplib2<1dev,>=0.15.0->google-api-python-client) (2.4.7)\n",
      "Collecting pyasn1<0.5.0,>=0.4.6\n",
      "  Downloading pyasn1-0.4.8-py2.py3-none-any.whl (77 kB)\n",
      "\u001b[K     |████████████████████████████████| 77 kB 5.4 MB/s  eta 0:00:01\n",
      "\u001b[?25hCollecting urllib3<1.27,>=1.21.1\n",
      "  Using cached urllib3-1.26.4-py2.py3-none-any.whl (153 kB)\n",
      "Collecting chardet<5,>=3.0.2\n",
      "  Using cached chardet-4.0.0-py2.py3-none-any.whl (178 kB)\n",
      "Collecting certifi>=2017.4.17\n",
      "  Using cached certifi-2020.12.5-py2.py3-none-any.whl (147 kB)\n",
      "Collecting idna<3,>=2.5\n",
      "  Using cached idna-2.10-py2.py3-none-any.whl (58 kB)\n",
      "Collecting requests-oauthlib>=0.7.0\n",
      "  Downloading requests_oauthlib-1.3.0-py2.py3-none-any.whl (23 kB)\n",
      "Collecting oauthlib>=3.0.0\n",
      "  Downloading oauthlib-3.1.0-py2.py3-none-any.whl (147 kB)\n",
      "\u001b[K     |████████████████████████████████| 147 kB 93.5 MB/s eta 0:00:01\n",
      "\u001b[?25hInstalling collected packages: pyasn1, urllib3, rsa, pyasn1-modules, protobuf, idna, chardet, certifi, cachetools, requests, pytz, oauthlib, httplib2, googleapis-common-protos, google-auth, uritemplate, requests-oauthlib, google-auth-httplib2, google-api-core, google-auth-oauthlib, google-api-python-client\n",
      "Successfully installed cachetools-4.2.2 certifi-2020.12.5 chardet-4.0.0 google-api-core-1.26.3 google-api-python-client-2.3.0 google-auth-1.30.0 google-auth-httplib2-0.1.0 google-auth-oauthlib-0.4.4 googleapis-common-protos-1.53.0 httplib2-0.19.1 idna-2.10 oauthlib-3.1.0 protobuf-3.16.0 pyasn1-0.4.8 pyasn1-modules-0.2.8 pytz-2021.1 requests-2.25.1 requests-oauthlib-1.3.0 rsa-4.7.2 uritemplate-3.0.1 urllib3-1.26.4\n"
     ]
    }
   ],
   "source": [
    "!  pip install --upgrade google-api-python-client google-auth-httplib2 google-auth-oauthlib"
   ]
  },
  {
   "cell_type": "code",
   "execution_count": 19,
   "id": "8458162f",
   "metadata": {},
   "outputs": [],
   "source": [
    "import os\n",
    "import pickle\n",
    "\n",
    "# Gmail API utils\n",
    "from googleapiclient.discovery import build\n",
    "from google_auth_oauthlib.flow import InstalledAppFlow\n",
    "from google.auth.transport.requests import Request"
   ]
  },
  {
   "cell_type": "markdown",
   "id": "addd76fc",
   "metadata": {},
   "source": [
    "3. Autentícate con este código"
   ]
  },
  {
   "cell_type": "code",
   "execution_count": 20,
   "id": "5e3e0b4d",
   "metadata": {
    "scrolled": true
   },
   "outputs": [],
   "source": [
    "from google.oauth2.credentials import Credentials\n",
    "\n",
    "SCOPES = ['https://mail.google.com/']\n",
    "token_file = '/mnt/c/Users/alicia/workspace/eoi-administracion-sistemas/.eoi_solutions/token.json'\n",
    "\n",
    "def gmail_authenticate():\n",
    "    creds = None\n",
    "    # the file token.pickle stores the user's access and refresh tokens, and is\n",
    "    # created automatically when the authorization flow completes for the first time\n",
    "    if os.path.exists(\"token.pickle\"):\n",
    "        with open(\"token.pickle\", \"rb\") as token:\n",
    "            creds = pickle.load(token)\n",
    "    # if there are no (valid) credentials availablle, let the user log in.\n",
    "    if not creds or not creds.valid:\n",
    "        if creds and creds.expired and creds.refresh_token:\n",
    "            creds.refresh(Request())\n",
    "        else:\n",
    "            flow = InstalledAppFlow.from_client_secrets_file(token_file, SCOPES)\n",
    "            creds = flow.run_local_server(port=0)\n",
    "        # save the credentials for the next run\n",
    "        with open(\"token.pickle\", \"wb\") as token:\n",
    "            pickle.dump(creds, token)\n",
    "    return build('gmail', 'v1', credentials=creds)"
   ]
  },
  {
   "cell_type": "code",
   "execution_count": 21,
   "id": "9aab2ed9",
   "metadata": {},
   "outputs": [
    {
     "name": "stdout",
     "output_type": "stream",
     "text": [
      "Please visit this URL to authorize this application: https://accounts.google.com/o/oauth2/auth?response_type=code&client_id=167484279656-b98n4ann0qjh8ad2haoph6hjqevvucgu.apps.googleusercontent.com&redirect_uri=http%3A%2F%2Flocalhost%3A59113%2F&scope=https%3A%2F%2Fmail.google.com%2F&state=VLLTYHzh7O7czm8uqocOaK0z0LUHhs&access_type=offline\n"
     ]
    }
   ],
   "source": [
    "# get the Gmail API service\n",
    "service = gmail_authenticate()"
   ]
  },
  {
   "cell_type": "markdown",
   "id": "e72893b3",
   "metadata": {},
   "source": [
    "4. Prueba a mostrar las etiquetas de tu buzón de correo para comprobar que la conexión va bien"
   ]
  },
  {
   "cell_type": "code",
   "execution_count": 34,
   "id": "d4e0eeaf",
   "metadata": {
    "scrolled": true
   },
   "outputs": [
    {
     "name": "stdout",
     "output_type": "stream",
     "text": [
      "Labels:\n",
      "CHAT\n",
      "SENT\n",
      "INBOX\n",
      "IMPORTANT\n",
      "TRASH\n",
      "DRAFT\n",
      "SPAM\n",
      "CATEGORY_FORUMS\n",
      "CATEGORY_UPDATES\n",
      "CATEGORY_PERSONAL\n",
      "CATEGORY_PROMOTIONS\n",
      "CATEGORY_SOCIAL\n",
      "STARRED\n",
      "UNREAD\n",
      "Casa\n",
      "Ing Direct\n",
      "Mis Viajes/París\n",
      "Productos\n",
      "Estudios\n",
      "Casa/evo\n",
      "DjangoGirls Online 2020\n",
      "Linea Directa\n",
      "Kloshletter\n",
      "Eptisa\n",
      "Personal\n",
      "Mis Viajes/Polonia\n",
      "Mis Viajes/Suecia\n",
      "Casa/openbank\n",
      "Mis Viajes\n",
      "Amazon\n",
      "Alquiler Carlos Arniches\n",
      "Planes\n",
      "MBIT School\n",
      "Pisos\n",
      "StyleSage\n",
      "Inpro Medio Ambiente\n",
      "Alquiler Delicias 28\n",
      "Mis Viajes/Cuba\n",
      "Mis Viajes/Lanzarote\n",
      "Mis Viajes/Malasia & Singapur\n",
      "Mis Viajes/Japón\n",
      "Michos\n"
     ]
    }
   ],
   "source": [
    "results = service.users().labels().list(userId='me').execute()\n",
    "labels = results.get('labels', [])\n",
    "\n",
    "if not labels:\n",
    "    print('No labels found.')\n",
    "else:\n",
    "    print('Labels:')\n",
    "    for label in labels:\n",
    "        print(label['name'])"
   ]
  },
  {
   "cell_type": "markdown",
   "id": "b5b7aa49",
   "metadata": {},
   "source": [
    "5. Ahora crea dos funciones auxiliares para crear y enviar mensajes"
   ]
  },
  {
   "cell_type": "code",
   "execution_count": 48,
   "id": "9df64ee6",
   "metadata": {},
   "outputs": [],
   "source": [
    "from email.mime.text import MIMEText\n",
    "from base64 import urlsafe_b64decode, urlsafe_b64encode\n",
    "\n",
    "def create_message(sender, to, subject, message_text):\n",
    "  \"\"\"Create a message for an email.\n",
    "\n",
    "  Args:\n",
    "    sender: Email address of the sender.\n",
    "    to: Email address of the receiver.\n",
    "    subject: The subject of the email message.\n",
    "    message_text: The text of the email message.\n",
    "\n",
    "  Returns:\n",
    "    An object containing a base64url encoded email object.\n",
    "  \"\"\"\n",
    "  message = MIMEText(message_text)\n",
    "  message['to'] = to\n",
    "  message['from'] = sender\n",
    "  message['subject'] = subject\n",
    "  return {'raw': urlsafe_b64encode(message.as_bytes()).decode()}"
   ]
  },
  {
   "cell_type": "code",
   "execution_count": 44,
   "id": "c178df34",
   "metadata": {},
   "outputs": [],
   "source": [
    "def send_message(service, message):\n",
    "  \"\"\"Send an email message.\n",
    "\n",
    "  Args:\n",
    "    service: Authorized Gmail API service instance.\n",
    "    message: Message to be sent.\n",
    "\n",
    "  Returns:\n",
    "    Sent Message.\n",
    "  \"\"\"\n",
    "  try:\n",
    "    message = (service.users().messages().send(userId='me', body=message)\n",
    "               .execute())\n",
    "    print(f'Message Id: {message[\"id\"]}')\n",
    "    return message\n",
    "  except errors.HttpError as error:\n",
    "    print(f'An error occurred: {error}')"
   ]
  },
  {
   "cell_type": "markdown",
   "id": "27f4bd22",
   "metadata": {},
   "source": [
    "6. Envía un mensaje usando las funciones que acabamos de crear"
   ]
  },
  {
   "cell_type": "code",
   "execution_count": 49,
   "id": "47e0efcf",
   "metadata": {},
   "outputs": [
    {
     "name": "stdout",
     "output_type": "stream",
     "text": [
      "Message Id: 1794e6b1fdf1be2c\n"
     ]
    },
    {
     "data": {
      "text/plain": [
       "{'id': '1794e6b1fdf1be2c',\n",
       " 'threadId': '1794e6b1fdf1be2c',\n",
       " 'labelIds': ['UNREAD', 'SENT', 'INBOX']}"
      ]
     },
     "execution_count": 49,
     "metadata": {},
     "output_type": "execute_result"
    }
   ],
   "source": [
    "message = create_message('apj.ali@gmail.com', 'apj.ali@gmail.com', 'Prueba curso EOI', 'Esta es una prueba')\n",
    "send_message(service, message)"
   ]
  }
 ],
 "metadata": {
  "kernelspec": {
   "display_name": "Python 3 (ipykernel)",
   "language": "python",
   "name": "python3"
  },
  "language_info": {
   "codemirror_mode": {
    "name": "ipython",
    "version": 3
   },
   "file_extension": ".py",
   "mimetype": "text/x-python",
   "name": "python",
   "nbconvert_exporter": "python",
   "pygments_lexer": "ipython3",
   "version": "3.8.10"
  }
 },
 "nbformat": 4,
 "nbformat_minor": 5
}
