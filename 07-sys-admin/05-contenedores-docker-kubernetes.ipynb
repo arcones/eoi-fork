{
 "cells": [
  {
   "cell_type": "markdown",
   "id": "1616ce73",
   "metadata": {
    "slideshow": {
     "slide_type": "slide"
    }
   },
   "source": [
    "# Contenedores & Orquestación\n",
    "![contenedores](https://images.unsplash.com/photo-1595587637401-83ff822bd63e?ixid=MnwxMjA3fDB8MHxwaG90by1wYWdlfHx8fGVufDB8fHx8&ixlib=rb-1.2.1&auto=format&fit=crop&w=1000&q=80)"
   ]
  },
  {
   "cell_type": "markdown",
   "id": "c25e1d4f",
   "metadata": {
    "slideshow": {
     "slide_type": "subslide"
    }
   },
   "source": [
    "## Virtualización y Contenedores\n",
    "- Virtualización: un sistema operativo completo funcionando de manera aislada sobre otro sistema operativo completo. \n",
    "- Contenedores: comparten los recursos del propio sistema operativo \"host\" sobre el que se ejecutan."
   ]
  },
  {
   "cell_type": "markdown",
   "id": "1e1ef3f1",
   "metadata": {
    "slideshow": {
     "slide_type": "subslide"
    }
   },
   "source": [
    "## Orchestration\n",
    "- Automatización que permite procesos y flujos de trabajo como el aprovisionamiento de recursos. \n",
    "- La orquestación trata de dejar de ser constructores para ser directores de orquesta, donde cada pieza sabe qué tiene que hacer y el director solo dice cuándo y cómo hacerlo."
   ]
  },
  {
   "cell_type": "markdown",
   "id": "7ad8046b",
   "metadata": {
    "slideshow": {
     "slide_type": "notes"
    }
   },
   "source": [
    "**Beneficios**\n",
    "- Mejora la escalabilidad - los recursos se pueden aumentar o disminuir fácilmente\n",
    "- Mejora la estabilidad del sistema\n",
    "- Ahorra tiempo - automatiza tareas y workflows\n",
    "- Auto-servicio - se puede ofrecer a los usuarios\n",
    "- Mucha información acerca del uso de los recursos"
   ]
  },
  {
   "cell_type": "markdown",
   "id": "3c7282ec",
   "metadata": {
    "slideshow": {
     "slide_type": "slide"
    }
   },
   "source": [
    "# Administración centrada en contenedores"
   ]
  },
  {
   "cell_type": "markdown",
   "id": "ff80ad46",
   "metadata": {
    "slideshow": {
     "slide_type": "subslide"
    }
   },
   "source": [
    "**¿Qué es un contenedor software?**\n",
    "\n",
    "- Es una unidad de software estándar que empaqueta código para que la aplicación se desarrolle y ejecute de forma rápida y segura. \n",
    "- Además, también permite su paso de un entorno informático a otro, con gran agilidad (se acabó el \"en mi máquina funciona' )"
   ]
  },
  {
   "cell_type": "markdown",
   "id": "88e1f48b",
   "metadata": {
    "slideshow": {
     "slide_type": "notes"
    }
   },
   "source": [
    "Se trata de un avance importante a la hora de agilizar el despliegue de aplicaciones. No obstante, hay que tener en cuenta factores que pueden obstaculizarlo, como la disponibilidad de distinto software, que la topología de red sea diferente o que las políticas de seguridad y almacenamiento sean distintas.\n",
    "\n",
    "Esto es posible gracias a que los contenedores disponen de un entorno de ejecución que consta de la aplicación más todas sus dependencias, incluidos los archivos de configuración necesarios para ejecutarla, bibliotecas, herramientas de sistema, código y tiempo de ejecución, agrupadas en un único paquete. Al estar todo contenido en este paquete, se eliminan las diferencias que puedan darse en las distintas distribuciones y la infraestructura subyacente."
   ]
  },
  {
   "cell_type": "markdown",
   "id": "168bfc13",
   "metadata": {
    "slideshow": {
     "slide_type": "subslide"
    }
   },
   "source": [
    "![por qué usar contenedores](https://d33wubrfki0l68.cloudfront.net/e7b766e0175f30ae37f7e0e349b87cfe2034a1ae/3e391/images/docs/why_containers.svg)"
   ]
  },
  {
   "cell_type": "markdown",
   "id": "9b57e7ae",
   "metadata": {
    "slideshow": {
     "slide_type": "notes"
    }
   },
   "source": [
    "Beneficios de usar contenedores:\n",
    "\n",
    "- **Ágil creación y despliegue de aplicaciones**: Mayor facilidad y eficiencia al crear imágenes de contenedor en vez de máquinas virtuales\n",
    "- **Desarrollo, integración y despliegue continuo**: Permite que la imagen de contenedor se construya y despliegue de forma frecuente y confiable, facilitando los rollbacks pues la imagen es inmutable\n",
    "- **Separación de tareas entre Dev y Ops**: Puedes crear imágenes de contenedor al momento de compilar y no al desplegar, desacoplando la aplicación de la infraestructura\n",
    "- **Observabilidad**: No solamente se presenta la información y métricas del sistema operativo, sino la salud de la aplicación y otras señales\n",
    "- **Consistencia entre los entornos de desarrollo, pruebas y producción**: La aplicación funciona igual en un laptop y en la nube\n",
    "- **Portabilidad entre nubes y distribuciones**: Funciona en Ubuntu, RHEL, CoreOS, tu datacenter físico, Google Kubernetes Engine y todo lo demás\n",
    "- **Administración centrada en la aplicación**: Eleva el nivel de abstracción del sistema operativo y el hardware virtualizado a la aplicación que funciona en un sistema con recursos lógicos\n",
    "- **Microservicios distribuidos, elásticos, liberados y débilmente acoplados**: Las aplicaciones se separan en piezas pequeñas e independientes que pueden ser desplegadas y administradas de forma dinámica, y no como una aplicación monolítica que opera en una sola máquina de gran capacidad\n",
    "- **Aislamiento de recursos**: Hace el rendimiento de la aplicación más predecible\n",
    "- **Utilización de recursos**: Permite mayor eficiencia y densidad"
   ]
  },
  {
   "cell_type": "markdown",
   "id": "bc87a619",
   "metadata": {
    "slideshow": {
     "slide_type": "slide"
    }
   },
   "source": [
    "![docker logo](https://www.docker.com/sites/default/files/d8/2019-07/horizontal-logo-monochromatic-white.png)"
   ]
  },
  {
   "cell_type": "markdown",
   "id": "4927d5a0",
   "metadata": {
    "slideshow": {
     "slide_type": "subslide"
    }
   },
   "source": [
    "Docker es un programa que ejecuta operaciones de virtualización a nivel del sistema operativo conocido como **por contenedores**.\n",
    "\n",
    "> **¿qué no es Docker?**  \n",
    "Docker no es un software como VirtualBox o VMWare, es decir no es una maquina virtual con la que podemos ir salvando el estado de un sistema operativo virtualizado. No es un sistema operativo montado sobre otro. En lugar de utilizar este enfoque, Docker utiliza el kernel del sistema operativo host, y ahorra así una mayor cantidad de recursos de RAM y CPU."
   ]
  },
  {
   "cell_type": "markdown",
   "id": "4156759c",
   "metadata": {
    "slideshow": {
     "slide_type": "notes"
    }
   },
   "source": [
    "En la mayoría de las empresas, el desarrollo, despliegue y la entrega de software es un proceso con varios pasos bien diferenciados:\n",
    "\n",
    "- El primer paso es el diseño de la aplicación.\n",
    "- El segundo es el desarrollo de la misma, escribiendo el código.\n",
    "- El tercer paso es montar el código en un entorno de pruebas y probarlo.\n",
    "- El cuarto y último paso consiste en empaquetar la aplicación probada, desplegarla y entregarla a los usuarios.\n",
    "\n",
    "La única parte del proceso de desarrollo de software con contenedores Docker que realmente supone un gran cambio es en el último paso\n",
    "\n",
    "Ventaja de usar docker:\n",
    "- Solo se tiene que programar la aplicación una sola vez (es multiplataforma)\n",
    "- Se obtiene una mayor consistencia entre los entornos de prueba y los entornos de producción\n",
    "- Se obtiene mayor modularidad (está más enfocado a microservicios) "
   ]
  },
  {
   "cell_type": "markdown",
   "id": "d562e2b4",
   "metadata": {
    "slideshow": {
     "slide_type": "subslide"
    }
   },
   "source": [
    "### Instalación\n",
    "- En Windows: https://docs.docker.com/docker-for-windows/install/\n",
    "- En Mac: https://docs.docker.com/docker-for-mac/install/\n",
    "- En Ubuntu: https://docs.docker.com/engine/install/ubuntu/"
   ]
  },
  {
   "cell_type": "markdown",
   "id": "124bdfb8",
   "metadata": {
    "slideshow": {
     "slide_type": "subslide"
    }
   },
   "source": [
    "### Ejercicio de Docker!\n",
    "Ve a [ejercicios/docker.ipynb](ejercicios/docker.ipynb)"
   ]
  },
  {
   "cell_type": "markdown",
   "id": "86d8c5ba",
   "metadata": {
    "slideshow": {
     "slide_type": "slide"
    }
   },
   "source": [
    "# Kubernetes"
   ]
  },
  {
   "cell_type": "markdown",
   "id": "5c7ef684",
   "metadata": {
    "slideshow": {
     "slide_type": "subslide"
    }
   },
   "source": [
    "- Es una plataforma portable y extensible de código abierto para administrar cargas de trabajo y servicios. \n",
    "- Ofrece un entorno de administración centrado en contenedores. \n",
    "- Orquesta la infraestructura de cómputo, redes y almacenamiento para que las cargas de trabajo de los usuarios no tengan que hacerlo. Esto ofrece la simplicidad de las Plataformas como Servicio (PaaS) con la flexibilidad de la Infraestructura como Servicio (IaaS) y permite la portabilidad entre proveedores de infraestructura"
   ]
  },
  {
   "cell_type": "markdown",
   "id": "843287d5",
   "metadata": {
    "slideshow": {
     "slide_type": "slide"
    }
   },
   "source": [
    "# Siguientes pasos en Administración de Sistemas\n",
    "![camino](https://images.unsplash.com/photo-1439396874305-9a6ba25de6c6?ixid=MnwxMjA3fDB8MHxwaG90by1wYWdlfHx8fGVufDB8fHx8&ixlib=rb-1.2.1&auto=format&fit=crop&w=1000&q=80)"
   ]
  },
  {
   "cell_type": "markdown",
   "id": "ea1fbf0a",
   "metadata": {
    "slideshow": {
     "slide_type": "subslide"
    }
   },
   "source": [
    "# Miniproyecto!"
   ]
  }
 ],
 "metadata": {
  "celltoolbar": "Slideshow",
  "kernelspec": {
   "display_name": "Python 3 (ipykernel)",
   "language": "python",
   "name": "python3"
  },
  "language_info": {
   "codemirror_mode": {
    "name": "ipython",
    "version": 3
   },
   "file_extension": ".py",
   "mimetype": "text/x-python",
   "name": "python",
   "nbconvert_exporter": "python",
   "pygments_lexer": "ipython3",
   "version": "3.8.10"
  }
 },
 "nbformat": 4,
 "nbformat_minor": 5
}
