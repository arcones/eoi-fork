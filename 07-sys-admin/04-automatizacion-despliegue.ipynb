{
 "cells": [
  {
   "cell_type": "markdown",
   "id": "d4467667",
   "metadata": {
    "slideshow": {
     "slide_type": "slide"
    }
   },
   "source": [
    "# Configuration Management & IaC\n",
    "![robot](https://images.unsplash.com/photo-1563968743333-044cef800494?ixid=MnwxMjA3fDB8MHxwaG90by1wYWdlfHx8fGVufDB8fHx8&ixlib=rb-1.2.1&auto=format&fit=crop&w=500&q=80)"
   ]
  },
  {
   "cell_type": "markdown",
   "id": "25c8dc60",
   "metadata": {
    "slideshow": {
     "slide_type": "subslide"
    }
   },
   "source": [
    "# Configuration Management & IaC\n",
    "- Fabric\n",
    "- Ansible"
   ]
  },
  {
   "cell_type": "markdown",
   "id": "df2513b5",
   "metadata": {
    "slideshow": {
     "slide_type": "subslide"
    }
   },
   "source": [
    "## Configuration Management\n",
    "\n",
    "- Cambiar y mantener el estado de algunas piezas de la infraestructura de manera consistente, sostenible y estable\n",
    "- Automatizar operaciones que surgen del día a día, como la creación de usuarios, actualización de software, etc"
   ]
  },
  {
   "cell_type": "markdown",
   "id": "5bb11da4",
   "metadata": {
    "slideshow": {
     "slide_type": "notes"
    }
   },
   "source": [
    "**Beneficios**\n",
    "- Ahorro de tiempo - se tarda menos en hacer cambios en la configuración\n",
    "- Mejor monitorización sobre los recursos\n",
    "- Mejora la mantenibilidad del sistema\n",
    "- Mantiene la configuración estandarizada en todos los servidores"
   ]
  },
  {
   "cell_type": "markdown",
   "id": "b3c7a1e2",
   "metadata": {
    "slideshow": {
     "slide_type": "subslide"
    }
   },
   "source": [
    "## Infrastructure as Code - IaC\n",
    "Administrar y aprovisionar infraestructura usando código.\n",
    "En lugar de hacer cosas manualmente para administrar y aprovisionar estructura (servidores, máquinas virtuales, etc) usaremos scripts y código para crear y cambiar cosas como servidores, instancias, entornos, contenedores o clústers"
   ]
  },
  {
   "cell_type": "markdown",
   "id": "97b38c1b",
   "metadata": {
    "slideshow": {
     "slide_type": "notes"
    }
   },
   "source": [
    "**Beneficios**\n",
    "- Consistencia en la creación y gestión de recursos\n",
    "- Reusabilidad - el mismo script se utiliza para múltiples máquinas\n",
    "- Facilita la escalabilidad - es fácil crear más máquinas o aumentar la infraestructura\n",
    "- Es auto-documentada"
   ]
  },
  {
   "cell_type": "markdown",
   "id": "6139f89c",
   "metadata": {
    "slideshow": {
     "slide_type": "slide"
    }
   },
   "source": [
    "# Fabric\n",
    "![Fabric logo](http://www.fabfile.org/_static/logo.png)"
   ]
  },
  {
   "cell_type": "markdown",
   "id": "b5f681ec",
   "metadata": {
    "slideshow": {
     "slide_type": "subslide"
    }
   },
   "source": [
    "Fabric es una librería de alto nivel de Python diseñada para ejecutar comandos de shell de forma remota a través de SSH."
   ]
  },
  {
   "cell_type": "markdown",
   "id": "fe345a92",
   "metadata": {
    "slideshow": {
     "slide_type": "notes"
    }
   },
   "source": [
    "Fabric se basa en otras librerías Python extendiendo sus API para complementarse entre sí y proporcionar funcionalidad adicional:\n",
    "\n",
    "- [Invoke](http://www.pyinvoke.org/) implementa el análisis en cliente, la organización de tareas y la ejecución de comandos de shell (un marco genérico más una implementación específica para comandos locales).\n",
    "\n",
    "    - Toda la funcionalidad que no sea específica de los sistemas remotos tiende a residir en Invoke y, a menudo, los programadores que no necesitan ninguna funcionalidad remota lo utilizan de forma independiente (sin usar Fabric).\n",
    "    - Los usuarios de Fabric importarán con frecuencia objetos de Invoke, en los casos en que Fabric en sí no tenga necesidad de crear una subclase o modificar alguno de los métodos que proporciona Invoke.\n",
    "\n",
    "- [Paramiko](http://www.paramiko.org/) implementa la funcionalidad SSH de nivel bajo / medio: sesiones SSH y SFTP, administración de claves, etc.\n",
    "    - Fabric utiliza Paramiko \"por dentro\"; los usuarios rara vez lo usarán directamente desde Paramiko."
   ]
  },
  {
   "cell_type": "markdown",
   "id": "050d48ce",
   "metadata": {
    "slideshow": {
     "slide_type": "subslide"
    }
   },
   "source": [
    "- run - Ejecuta comandos en una shell del host remoto\n",
    "- sudo - Ejecuta comandos en una shell del host remoto con privilegios de sudo\n",
    "- get - Descarga uno o más ficheros del host remoto\n",
    "- put - Copia al host remoto uno o más ficheros del host local"
   ]
  },
  {
   "cell_type": "markdown",
   "id": "spoken-breath",
   "metadata": {
    "slideshow": {
     "slide_type": "subslide"
    }
   },
   "source": [
    "### Instalación"
   ]
  },
  {
   "cell_type": "code",
   "execution_count": 2,
   "id": "natural-franchise",
   "metadata": {
    "scrolled": false,
    "slideshow": {
     "slide_type": "-"
    }
   },
   "outputs": [
    {
     "name": "stdout",
     "output_type": "stream",
     "text": [
      "Collecting fabric\n",
      "  Using cached fabric-2.6.0-py2.py3-none-any.whl (53 kB)\n",
      "Collecting paramiko>=2.4\n",
      "  Using cached paramiko-2.7.2-py2.py3-none-any.whl (206 kB)\n",
      "Collecting invoke<2.0,>=1.3\n",
      "  Using cached invoke-1.5.0-py3-none-any.whl (211 kB)\n",
      "Collecting pathlib2\n",
      "  Using cached pathlib2-2.3.5-py2.py3-none-any.whl (18 kB)\n",
      "Collecting cryptography>=2.5\n",
      "  Using cached cryptography-3.4.7-cp36-abi3-manylinux2014_x86_64.whl (3.2 MB)\n",
      "Collecting pynacl>=1.0.1\n",
      "  Using cached PyNaCl-1.4.0-cp35-abi3-manylinux1_x86_64.whl (961 kB)\n",
      "Collecting bcrypt>=3.1.3\n",
      "  Using cached bcrypt-3.2.0-cp36-abi3-manylinux2010_x86_64.whl (63 kB)\n",
      "Requirement already satisfied: six in ./.venv/lib/python3.8/site-packages (from pathlib2->fabric) (1.16.0)\n",
      "Requirement already satisfied: cffi>=1.12 in ./.venv/lib/python3.8/site-packages (from cryptography>=2.5->paramiko>=2.4->fabric) (1.14.5)\n",
      "Requirement already satisfied: pycparser in ./.venv/lib/python3.8/site-packages (from cffi>=1.12->cryptography>=2.5->paramiko>=2.4->fabric) (2.20)\n",
      "Installing collected packages: cryptography, pynacl, bcrypt, paramiko, invoke, pathlib2, fabric\n",
      "Successfully installed bcrypt-3.2.0 cryptography-3.4.7 fabric-2.6.0 invoke-1.5.0 paramiko-2.7.2 pathlib2-2.3.5 pynacl-1.4.0\n"
     ]
    }
   ],
   "source": [
    "! pip install fabric"
   ]
  },
  {
   "cell_type": "markdown",
   "id": "equivalent-property",
   "metadata": {
    "slideshow": {
     "slide_type": "subslide"
    }
   },
   "source": [
    "### Ejemplos de código\n",
    "(Arranca la máquina virtual con Vagrant)"
   ]
  },
  {
   "cell_type": "code",
   "execution_count": 3,
   "id": "environmental-athletics",
   "metadata": {
    "slideshow": {
     "slide_type": "subslide"
    }
   },
   "outputs": [
    {
     "name": "stdout",
     "output_type": "stream",
     "text": [
      "vagrant\n",
      "Command exited with status 0.\n",
      "=== stdout ===\n",
      "vagrant\n",
      "\n",
      "(no stderr)\n"
     ]
    }
   ],
   "source": [
    "from fabric.connection import Connection\n",
    "\n",
    "vhost_conn = Connection('vagrant@192.168.33.10', connect_kwargs={\"password\": \"vagrant\"})\n",
    "result = vhost_conn.run('hostname')\n",
    "print(result)"
   ]
  },
  {
   "cell_type": "code",
   "execution_count": 2,
   "id": "afcf9bb1",
   "metadata": {
    "slideshow": {
     "slide_type": "subslide"
    }
   },
   "outputs": [
    {
     "name": "stdout",
     "output_type": "stream",
     "text": [
      "root\n"
     ]
    },
    {
     "data": {
      "text/plain": [
       "<Result cmd=\"sudo -S -p '[sudo] password: ' whoami\" exited=0>"
      ]
     },
     "execution_count": 2,
     "metadata": {},
     "output_type": "execute_result"
    }
   ],
   "source": [
    "vhost_conn.sudo('whoami', hide='stderr')"
   ]
  },
  {
   "cell_type": "code",
   "execution_count": 3,
   "id": "given-panic",
   "metadata": {
    "slideshow": {
     "slide_type": "subslide"
    }
   },
   "outputs": [
    {
     "name": "stdout",
     "output_type": "stream",
     "text": [
      "3%\n"
     ]
    }
   ],
   "source": [
    "# Mostrar el espacio en disco libre \n",
    "def disk_free(c):\n",
    "    uname = c.run('uname -s', hide=True)\n",
    "    if 'Linux' in uname.stdout:\n",
    "        command = \"df -h / | tail -n1 | awk '{print $5}'\"\n",
    "        return c.run(command, hide=True).stdout.strip()\n",
    "    err = f\"No idea how to get disk space on {uname}!\"\n",
    "    raise Exit(err)\n",
    "\n",
    "print(disk_free(vhost_conn))"
   ]
  },
  {
   "cell_type": "code",
   "execution_count": 4,
   "id": "f63b843f",
   "metadata": {
    "slideshow": {
     "slide_type": "subslide"
    }
   },
   "outputs": [
    {
     "name": "stdout",
     "output_type": "stream",
     "text": [
      "Uploaded /mnt/c/Users/alicia/workspace/eoi/eoi-administracion-sistemas/README.md to /home/vagrant/README.md\n"
     ]
    }
   ],
   "source": [
    "# Transfer files\n",
    "result = vhost_conn.put('/mnt/c/Users/alicia/workspace/eoi/eoi-administracion-sistemas/README.md', remote='/home/vagrant/')\n",
    "print(\"Uploaded {0.local} to {0.remote}\".format(result))"
   ]
  },
  {
   "cell_type": "markdown",
   "id": "devoted-litigation",
   "metadata": {
    "slideshow": {
     "slide_type": "subslide"
    }
   },
   "source": [
    "### Ejercicio de Fabric!\n",
    "Ve a [ejercicios/04-fabric.md](ejercicios/04-fabric.md)"
   ]
  },
  {
   "cell_type": "markdown",
   "id": "mighty-asian",
   "metadata": {
    "slideshow": {
     "slide_type": "slide"
    }
   },
   "source": [
    "![Ansible logo](https://upload.wikimedia.org/wikipedia/commons/thumb/2/24/Ansible_logo.svg/245px-Ansible_logo.svg.png)"
   ]
  },
  {
   "cell_type": "markdown",
   "id": "acquired-volunteer",
   "metadata": {
    "slideshow": {
     "slide_type": "subslide"
    }
   },
   "source": [
    "Ansible es una plataforma de software libre para configurar y administrar ordenadores. "
   ]
  },
  {
   "cell_type": "markdown",
   "id": "84d122b0",
   "metadata": {
    "slideshow": {
     "slide_type": "notes"
    }
   },
   "source": [
    "\n",
    "Combina instalación multi-nodo (es decir: permite desplegar configuraciones de servidores y servicios por lotes), ejecuciones de tareas ad hoc y administración de configuraciones. \n",
    "\n",
    "Adicionalmente, Ansible es categorizado como una herramienta de orquestación.\n",
    "\n",
    "Gestiona nodos a través de SSH y no requiere ningún software remoto adicional (excepto Python 2.4 o posterior) para instalarlo. \n",
    "\n",
    "Dispone de módulos que trabajan sobre JSON y la salida estándar puede ser escrita en cualquier lenguaje. Nativamente utiliza YAML para describir configuraciones reusables de los sistemas"
   ]
  },
  {
   "cell_type": "markdown",
   "id": "noble-hypothetical",
   "metadata": {
    "slideshow": {
     "slide_type": "subslide"
    }
   },
   "source": [
    "### Principales características\n",
    "\n",
    "- Aprovisionamiento\n",
    "- Gestión de la configuración\n",
    "- Despliegue de aplicaciones\n",
    "- Seguridad y Cumplimiento\n",
    "- Orquestación"
   ]
  },
  {
   "cell_type": "markdown",
   "id": "informative-license",
   "metadata": {
    "slideshow": {
     "slide_type": "notes"
    }
   },
   "source": [
    "### Propósitos\n",
    "\n",
    "- Mínimo por naturaleza. Los sistemas de administración no deben imponer dependencias adicionales.\n",
    "- Consistente.\n",
    "- Seguro. Ansible no instala agentes vulnerables en los nodos. Solamente se requiere OpenSSH que es considerado crítico y altamente comprobado.\n",
    "- Alta confiabilidad. El modelo de idempotencia es aplicado para las instalaciones y configuraciones, para prevenir efectos secundarios en la ejecución repetitiva de guiones (scripts)\n",
    "- Suave curva de aprendizaje. Los playbooks o libretos usan un lenguaje descriptivo simple, basado en YAML."
   ]
  },
  {
   "cell_type": "markdown",
   "id": "wrong-visibility",
   "metadata": {
    "slideshow": {
     "slide_type": "subslide"
    }
   },
   "source": [
    "### Conceptos\n",
    "\n",
    "- **Controladora (servidores)**  \n",
    "Cualquier máquina con Ansible instalado."
   ]
  },
  {
   "cell_type": "markdown",
   "id": "whole-douglas",
   "metadata": {
    "slideshow": {
     "slide_type": "fragment"
    }
   },
   "source": [
    "- **Nodos (clientes)**  \n",
    "Máquinas que serán controladas con Ansible (también llamados _hosts_). Ansible no se instalará en esas máquinas"
   ]
  },
  {
   "cell_type": "markdown",
   "id": "portable-creature",
   "metadata": {
    "slideshow": {
     "slide_type": "fragment"
    }
   },
   "source": [
    "- **Inventario**  \n",
    "Descripción de los nodos que pueden ser accedidos por Ansible. Por defecto se ubica en `/etc/ansible/hosts`. Además, los nodos pueden ser asignados a grupos.  "
   ]
  },
  {
   "cell_type": "markdown",
   "id": "national-nicholas",
   "metadata": {
    "slideshow": {
     "slide_type": "subslide"
    }
   },
   "source": [
    "- **Módulos**  \n",
    "Las unidades de trabajo en Ansible. Cada módulo es autosuficiente e idempotente"
   ]
  },
  {
   "cell_type": "markdown",
   "id": "automotive-centre",
   "metadata": {
    "slideshow": {
     "slide_type": "fragment"
    }
   },
   "source": [
    "- **Tareas**\n",
    "Son las unidades de acción de Ansible, y cada tarea es una llamada a un módulo de Ansible. Las tareas son ejecutadas en orden, de una en una, contra cada máquina que encaja con el patrón del host, para luego seguir con la próxima tarea"
   ]
  },
  {
   "cell_type": "markdown",
   "id": "spread-physics",
   "metadata": {
    "slideshow": {
     "slide_type": "fragment"
    }
   },
   "source": [
    "- **Manual de tácticas o Playbooks**\n",
    "Son listas ordenadas de tareas guardadas en un fichero para poder ejecutarlas múltiples veces. Los libros de jugadas pueden incluir tanto variables como tareas. Están escritos en YAML y deben ser fáciles de leer, escribir, compartir y comprender."
   ]
  },
  {
   "cell_type": "markdown",
   "id": "animal-buyer",
   "metadata": {
    "slideshow": {
     "slide_type": "slide"
    }
   },
   "source": [
    "### Instalación\n",
    "\n",
    "En la terminal de Ubuntu: \n",
    "\n",
    "```\n",
    "pip install ansible\n",
    "```\n",
    "\n",
    "Para comprobar que se ha instalado correctamente:\n",
    "```\n",
    "ansible localhost -m ping\n",
    "```"
   ]
  },
  {
   "cell_type": "markdown",
   "id": "integrated-astrology",
   "metadata": {
    "slideshow": {
     "slide_type": "subslide"
    }
   },
   "source": [
    "### Ejercicio de Ansible!\n",
    "Ve a [ejercicios/04-ansible.md](ejercicios/04-ansible.md)"
   ]
  },
  {
   "cell_type": "markdown",
   "id": "a9b6be96",
   "metadata": {
    "slideshow": {
     "slide_type": "slide"
    }
   },
   "source": [
    "# Siguientes pasos en Administración de Sistemas\n",
    "![camino](https://images.unsplash.com/photo-1439396874305-9a6ba25de6c6?ixid=MnwxMjA3fDB8MHxwaG90by1wYWdlfHx8fGVufDB8fHx8&ixlib=rb-1.2.1&auto=format&fit=crop&w=1000&q=80)"
   ]
  },
  {
   "cell_type": "markdown",
   "id": "5f9307b1",
   "metadata": {
    "slideshow": {
     "slide_type": "subslide"
    }
   },
   "source": [
    "- Contenedores & Orquestación\n",
    "    * Docker & Kubernetes\n",
    "- Miniproyecto!"
   ]
  }
 ],
 "metadata": {
  "celltoolbar": "Slideshow",
  "kernelspec": {
   "display_name": "Python 3 (ipykernel)",
   "language": "python",
   "name": "python3"
  },
  "language_info": {
   "codemirror_mode": {
    "name": "ipython",
    "version": 3
   },
   "file_extension": ".py",
   "mimetype": "text/x-python",
   "name": "python",
   "nbconvert_exporter": "python",
   "pygments_lexer": "ipython3",
   "version": "3.8.10"
  }
 },
 "nbformat": 4,
 "nbformat_minor": 5
}
