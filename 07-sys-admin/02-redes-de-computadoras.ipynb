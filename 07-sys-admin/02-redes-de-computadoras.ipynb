{
 "cells": [
  {
   "cell_type": "markdown",
   "id": "1bf2be50",
   "metadata": {
    "slideshow": {
     "slide_type": "slide"
    }
   },
   "source": [
    "# Redes de computadoras\n",
    "![imagen nasa](https://images.unsplash.com/photo-1451187580459-43490279c0fa?ixid=MnwxMjA3fDB8MHxwaG90by1wYWdlfHx8fGVufDB8fHx8&ixlib=rb-1.2.1&auto=format&fit=crop&w=1000&q=80)"
   ]
  },
  {
   "cell_type": "markdown",
   "id": "5761f064",
   "metadata": {
    "slideshow": {
     "slide_type": "subslide"
    }
   },
   "source": [
    "- Componentes básicos de las redes\n",
    "- Protocolos de red\n",
    "    - Sockets\n",
    "    - Protocolo HTTP\n",
    "    - Protocolo SMTP\n",
    "    - Protocolo FTP\n",
    "    - Protocolo SSH\n",
    "- Modelos de Red\n",
    "    - Modelo OSI\n",
    "    - Modelo TCP/IP"
   ]
  },
  {
   "cell_type": "markdown",
   "id": "0fa02c20",
   "metadata": {
    "slideshow": {
     "slide_type": "slide"
    }
   },
   "source": [
    "# Componentes básicos de las redes\n",
    "![rak](https://images.unsplash.com/photo-1558494949-ef010cbdcc31?ixid=MnwxMjA3fDB8MHxwaG90by1wYWdlfHx8fGVufDB8fHx8&ixlib=rb-1.2.1&auto=format&fit=crop&w=1000&q=80)"
   ]
  },
  {
   "cell_type": "markdown",
   "id": "0b813eab",
   "metadata": {
    "slideshow": {
     "slide_type": "subslide"
    }
   },
   "source": [
    "Para poder formar una red se requieren elementos: hardware, software y protocolos."
   ]
  },
  {
   "cell_type": "markdown",
   "id": "19a72de2",
   "metadata": {
    "slideshow": {
     "slide_type": "notes"
    }
   },
   "source": [
    "El fin de una red es interconectar los componentes hardware de una red, principalmente los ordenadores individuales (hosts), a los equipos que ponen los servicios en la red (servidores), utilizando el cableado (o tecnología inalámbrica) soportada por la electrónica de red y unidos por cableado (o radiofrecuencia). "
   ]
  },
  {
   "cell_type": "markdown",
   "id": "c7250911",
   "metadata": {
    "slideshow": {
     "slide_type": "subslide"
    }
   },
   "source": [
    "## Software\n",
    "- **Sistema operativo de red**\n",
    "- **Software de aplicación**"
   ]
  },
  {
   "cell_type": "markdown",
   "id": "fc67070e",
   "metadata": {
    "slideshow": {
     "slide_type": "notes"
    }
   },
   "source": [
    "- **Sistema operativo de red**: Permite la interconexión de ordenadores para acceder a los servicios y recursos.  \n",
    "Al igual que un equipo no puede trabajar sin un sistema operativo, una red de equipos no puede funcionar sin un sistema operativo de red.  \n",
    "En muchos casos el sistema operativo de red es parte del sistema operativo de los servidores y de los clientes.\n",
    "- **Software de aplicación**: En última instancia, todos los elementos se utilizan para que el usuario de cada estación, pueda utilizar sus programas y archivos específicos."
   ]
  },
  {
   "cell_type": "markdown",
   "id": "f568ac38",
   "metadata": {
    "slideshow": {
     "slide_type": "subslide"
    }
   },
   "source": [
    "## Hardware\n",
    "- Para lograr el enlace entre los ordenadores y los medios de transmisión"
   ]
  },
  {
   "cell_type": "markdown",
   "id": "860a0894",
   "metadata": {
    "slideshow": {
     "slide_type": "notes"
    }
   },
   "source": [
    "Para lograr el enlace entre los ordenadores y los medios de transmisión (cables de red o medios físicos para redes alámbricas e infrarrojos o radiofrecuencias para redes inalámbricas), es necesaria la intervención de una **tarjeta de red** (NIC, Network interface controller), con la cual se puedan enviar y recibir paquetes de datos desde y hacia otros ordenadores, empleando un **protocolo para su comunicación** y convirtiendo a esos datos a un formato que pueda ser transmitido por el medio (bits, -ceros y unos-). \n",
    "- El trabajo del adaptador de red es el de convertir las señales eléctricas que viajan por el cable (p. ej: red Ethernet) o las ondas de radio (p. ej: red Wi-Fi) en una señal que pueda interpretar el ordenador. Existen adaptadores que utilizan ondas de luz infrarrojas también, aunque de escaso desarrollo.\n",
    "- Cabe señalar que a cada tarjeta de red le es asignado un identificador único por su fabricante, conocido como dirección MAC (Media Access Control), que consta de 48 bits (6 bytes). Dicho identificador permite dirigir el tráfico de datos de la red del emisor al receptor adecuado."
   ]
  },
  {
   "cell_type": "markdown",
   "id": "521775b7",
   "metadata": {
    "slideshow": {
     "slide_type": "subslide"
    }
   },
   "source": [
    "## Protocolos de redes\n",
    "- Cada modelo estructura el funcionamiento de una red de manera distinta. "
   ]
  },
  {
   "cell_type": "markdown",
   "id": "09ffa0c8",
   "metadata": {
    "slideshow": {
     "slide_type": "notes"
    }
   },
   "source": [
    "- Los protocolos están repartidos por las diferentes capas pero no están definidos como parte del modelo en sí sino como entidades diferentes de normativas internacionales, de modo que el modelo OSI no puede ser considerado una arquitectura de red4, y de hecho es sólo una abstracción teórica."
   ]
  },
  {
   "cell_type": "markdown",
   "id": "6f8578e5",
   "metadata": {
    "slideshow": {
     "slide_type": "subslide"
    }
   },
   "source": [
    "## Tipos de redes\n",
    "- **Por relación funcional** \n",
    "- **Por alcance**\n",
    "- **Por tecnología**\n",
    "- **Por topología física**\n",
    "- **Por grado de autentificación**\n",
    "- **Por grado de difusión**"
   ]
  },
  {
   "cell_type": "markdown",
   "id": "89407512",
   "metadata": {
    "slideshow": {
     "slide_type": "notes"
    }
   },
   "source": [
    "- **Por relación funcional**: \n",
    "  - **Cliente-servidor** es la arquitectura que consiste básicamente en un cliente que realiza peticiones a otro programa (el servidor) que le da respuesta.\n",
    "  - **Peer-to-peer**, o red entre iguales, es aquella red de ordenadores en la que todos o algunos aspectos funcionan sin clientes ni servidores fijos, sino una serie de nodos que se comportan como iguales entre sí.\n",
    "- **Por alcance**: de área personal, de área local, metropolitana, de área local virtual...\n",
    "- **Por tecnología**: punto a punto, de difusión (broadcast) o multipunto\n",
    "- **Por topología física**: en bus, anillo, estrella, malla, árbol o híbrida\n",
    "- **Por grado de autentificación**: privada o de acceso público\n",
    "- **Por grado de difusión**: intranet o internet\n",
    "\n",
    "y más"
   ]
  },
  {
   "cell_type": "markdown",
   "id": "executive-couple",
   "metadata": {
    "slideshow": {
     "slide_type": "slide"
    }
   },
   "source": [
    "# Protocolos de red\n",
    "\n",
    "![dinner](https://images.unsplash.com/photo-1562050344-f7ad946cee35?ixid=MnwxMjA3fDB8MHxwaG90by1wYWdlfHx8fGVufDB8fHx8&ixlib=rb-1.2.1&auto=format&fit=crop&w=1000&q=80)"
   ]
  },
  {
   "cell_type": "markdown",
   "id": "84d10eeb",
   "metadata": {
    "slideshow": {
     "slide_type": "subslide"
    }
   },
   "source": [
    "_El protocolo sobre palomas mensajeras permite definir la forma en la que una paloma mensajera transmite información de una ubicación a otra, definiendo todos los aspectos que intervienen en la comunicación: tipo de paloma, cifrado del mensaje, tiempo de espera antes de dar a la paloma por 'perdida'... y cualquier regla que ordene y mejore la comunicación._"
   ]
  },
  {
   "cell_type": "markdown",
   "id": "266a0c07",
   "metadata": {
    "slideshow": {
     "slide_type": "notes"
    }
   },
   "source": [
    "- Los sistemas de comunicación utilizan formatos bien definidos para intercambiar mensajes. Cada mensaje tiene un significado exacto destinado a obtener una respuesta de un rango de posibles respuestas predeterminadas para esa situación en particular.\n",
    "\n",
    "- Un protocolo de comunicaciones es un sistema de reglas que permiten que dos o más entidades (computadoras, teléfonos celulares, etc.) se comuniquen entre ellas para transmitir información. \n",
    "\n",
    "- Los protocolos pueden ser implementados por hardware, por software, o por una combinación de ambos."
   ]
  },
  {
   "cell_type": "markdown",
   "id": "af8d7a3f",
   "metadata": {
    "slideshow": {
     "slide_type": "subslide"
    }
   },
   "source": [
    "## Sockets\n",
    "\n",
    "Socket designa un concepto abstracto por el cual dos procesos (posiblemente situados en computadoras distintas) pueden intercambiar cualquier flujo de datos, generalmente de manera fiable y ordenada."
   ]
  },
  {
   "cell_type": "markdown",
   "id": "3598b5eb",
   "metadata": {
    "slideshow": {
     "slide_type": "notes"
    }
   },
   "source": [
    "Los sockets permiten implementar una arquitectura cliente-servidor. \n",
    "- La comunicación debe ser iniciada por uno de los procesos que se denomina programa \"cliente\". \n",
    "- El segundo proceso espera a que otro inicie la comunicación, por este motivo se denomina programa \"servidor\".\n",
    "\n",
    "Un socket es un proceso o hilo existente en la máquina cliente y en la máquina servidora, que sirve en última instancia para que el programa servidor y el cliente lean y escriban la información. Esta información será la transmitida por las diferentes capas de red.\n",
    "\n",
    "Para que dos procesos puedan comunicarse entre sí es necesario que se cumplan ciertos requisitos:\n",
    "- Que un proceso sea capaz de localizar al otro.\n",
    "- Que ambos procesos sean capaces de intercambiarse cualquier secuencia de octetos, es decir, datos relevantes a su finalidad.\n",
    "\n",
    "Para ello son necesarios los dos recursos que originan el concepto de socket:\n",
    "- Un par de direcciones del protocolo de red (dirección IP, si se utiliza el protocolo TCP/IP), que identifican la computadora de origen y la remota.\n",
    "- Un par de números de puerto, que identifican a un programa dentro de cada computadora.\n",
    "\n",
    "En este curso vamos a hablar de los sockets INET (como IPv4), ya que cubren el 99% del uso de los sockets."
   ]
  },
  {
   "cell_type": "markdown",
   "id": "922c4862",
   "metadata": {
    "slideshow": {
     "slide_type": "subslide"
    }
   },
   "source": [
    "#### ¿Qué pasa cuando haces click en una web?\n",
    "\n",
    "De manera general, cuando hiciste click en el enlace que te trajo a esta página tu navegador hizo algo como lo siguiente:\n",
    "``` python\n",
    "# create an INET, STREAMing socket\n",
    "s = socket.socket(socket.AF_INET, socket.SOCK_STREAM)\n",
    "# now connect to the web server on port 80 - the normal http port\n",
    "s.connect((\"www.python.org\", 80))\n",
    "```"
   ]
  },
  {
   "cell_type": "markdown",
   "id": "5c879f09",
   "metadata": {
    "slideshow": {
     "slide_type": "subslide"
    }
   },
   "source": [
    "![TCP Socket Flow](https://files.realpython.com/media/sockets-tcp-flow.1da426797e37.jpg)"
   ]
  },
  {
   "cell_type": "markdown",
   "id": "feaf2107",
   "metadata": {
    "slideshow": {
     "slide_type": "subslide"
    }
   },
   "source": [
    "## Ejercicio de Sockets!\n",
    "Ve a [ejercicios/sockets.ipynb](ejercicios/sockets.ipynb)"
   ]
  },
  {
   "cell_type": "markdown",
   "id": "598bc119",
   "metadata": {
    "slideshow": {
     "slide_type": "subslide"
    }
   },
   "source": [
    "## Protocolo de transferencia de hipertexto - HTTP  \n",
    "Protocolo de comunicación que permite las transferencias de información a través de archivos (XHML, HTML . . .) en la World Wide Web."
   ]
  },
  {
   "cell_type": "markdown",
   "id": "d779559c",
   "metadata": {
    "slideshow": {
     "slide_type": "subslide"
    }
   },
   "source": [
    "#### Mensajes \n",
    "\n",
    "Los mensajes HTTP son en texto plano y tienen la siguiente estructura:\n",
    "- Línea inicial con\n",
    "  - Para las peticiones: la acción requerida por el servidor (**método de petición**) seguido de la URL del recurso y la versión HTTP que soporta el cliente.\n",
    "  - Para respuestas: La versión del HTTP usado seguido del **código de respuesta** (que indica qué ha pasado con la petición seguido de la URL del recurso) y de la frase asociada a dicho retorno.\n",
    "- Las cabeceras del mensaje que terminan con una línea en blanco. Son **metadatos**. Estas cabeceras le dan gran flexibilidad al protocolo.\n",
    "- Cuerpo del mensaje. Es opcional. Típicamente tiene los datos que se intercambian cliente y servidor."
   ]
  },
  {
   "cell_type": "markdown",
   "id": "22a66d21",
   "metadata": {
    "slideshow": {
     "slide_type": "subslide"
    }
   },
   "source": [
    "#### Métodos de petición\n",
    "- GET: El método GET solicita una representación del recurso especificado. \n",
    "- POST: Envía datos para que sean procesados orientado a la creación de nuevos contenidos\n",
    "- PUT: Envía datos para que sean procesados orientado orientado a la actualización de los mismos\n",
    "- DELETE: Borra el recurso especificado\n",
    "..."
   ]
  },
  {
   "cell_type": "markdown",
   "id": "2aafab9a",
   "metadata": {
    "slideshow": {
     "slide_type": "subslide"
    }
   },
   "source": [
    "#### Códigos de respuesta\n",
    "- Códigos con formato 1xx: Respuestas informativas. Indica que la petición ha sido recibida y se está procesando.\n",
    "- Códigos con formato 2xx: Respuestas correctas. Indica que la petición ha sido procesada correctamente.\n",
    "- Códigos con formato 3xx: Respuestas de redirección. Indica que el cliente necesita realizar más acciones para finalizar la petición.\n",
    "- Códigos con formato 4xx: Errores causados por el cliente. Indica que ha habido un error en el procesado de la petición a causa de que el cliente ha hecho algo mal.\n",
    "- Códigos con formato 5xx: Errores causados por el servidor. Indica que ha habido un error en el procesado de la petición a causa de un fallo en el servidor.\n",
    "\n",
    "[https://http.cat/](https://http.cat/)"
   ]
  },
  {
   "cell_type": "markdown",
   "id": "d435dd36",
   "metadata": {
    "slideshow": {
     "slide_type": "subslide"
    }
   },
   "source": [
    "#### Cabeceras o metadatos\n",
    "- Cabeceras que indican las capacidades aceptadas por el que envía el mensaje: Accept (indica el MIME aceptado), Accept-Charset (indica el código de caracteres aceptado), Accept-Encoding (indica el método de compresión aceptado), Accept-Language (indica el idioma aceptado), User-Agent (para describir al cliente), Server (indica el tipo de servidor), Allow (métodos permitidos para el recurso)\n",
    "- Cabeceras que describen el contenido: Content-Type (indica el MIME del contenido), Content-Length (longitud del mensaje), Content-Range, Content-Encoding, Content-Language, Content-Location.\n",
    "- Cabeceras que hacen referencias a URIs: Location (indica donde está el contenido), Referer (Indica el origen de la petición).\n",
    "- Cabeceras ...."
   ]
  },
  {
   "cell_type": "markdown",
   "id": "5622d7ca",
   "metadata": {
    "slideshow": {
     "slide_type": "subslide"
    }
   },
   "source": [
    "## Ejercicio de protocolo HTTP!\n",
    "Ve a [ejercicios/protocolo-http.ipynb](ejercicios/protocolo-http.ipynb)"
   ]
  },
  {
   "cell_type": "markdown",
   "id": "31b9ce99",
   "metadata": {
    "slideshow": {
     "slide_type": "subslide"
    }
   },
   "source": [
    "## Protocolo para transferencia simple de correo - SMTP\n",
    "Protocolo de red utilizado para el intercambio de mensajes de correo electrónico entre computadoras u otros dispositivos (PDA, teléfonos móviles, impresoras, etc). \n",
    "\n",
    "Una sesión SMTP consiste en comandos originados por un cliente SMTP (el agente de inicio, emisor o transmisor) y las respuestas correspondientes del SMTP del servidor (el agente de escucha, o receptor) para que la sesión se abra y se intercambian los parámetros de la sesión. "
   ]
  },
  {
   "cell_type": "markdown",
   "id": "3fa05d00",
   "metadata": {
    "slideshow": {
     "slide_type": "subslide"
    }
   },
   "source": [
    "Una transacción de SMTP se compone de tres secuencias de comando / respuesta:\n",
    "- **MAIL**: para establecer la dirección de retorno (Return-Path), remitente o sobre\n",
    "- **RCPT**: comando, para establecer un destinatario de este mensaje.\n",
    "- **DATA**: para enviar el mensaje de texto. "
   ]
  },
  {
   "cell_type": "markdown",
   "id": "dfd7badc",
   "metadata": {
    "slideshow": {
     "slide_type": "subslide"
    }
   },
   "source": [
    "Ejemplo de una comunicación SMTP:\n",
    "\n",
    "```\n",
    "S: 220 Servidor SMTP\n",
    "C: HELO miequipo.midominio.com\n",
    "S: 250 Hello, please to meet you\n",
    "C: MAIL FROM: <yo@midominio.com>\n",
    "S: 250 Ok\n",
    "C: RCPT TO: <destinatario@sudominio.com>\n",
    "S: 250 Ok\n",
    "C: DATA\n",
    "S: 354 End data with <CR><LF>.<CR><LF>\n",
    "C: Subject: Campo de asunto\n",
    "C: From: yo@midominio.com\n",
    "C: To: destinatario@sudominio.com\n",
    "C:\n",
    "C: Hola,\n",
    "C: Esto es una prueba.\n",
    "C: Hasta luego.\n",
    "C:\n",
    "C: .\n",
    "C: <CR><LF>.<CR><LF>\n",
    "S: 250 Ok: queued as 12345\n",
    "C: quit\n",
    "S: 221 Bye\n",
    "```"
   ]
  },
  {
   "cell_type": "markdown",
   "id": "c6279860",
   "metadata": {
    "slideshow": {
     "slide_type": "subslide"
    }
   },
   "source": [
    "- **SMTP** - Simple Mail Transfer Protocol _(Protocolo para transferencia simple de correo)_\n",
    "- **POP3** - Post Office Protocol _(Protocolo de Oficina Postal)_\n",
    "- **IMAP** - Internet Message Access Protocol _(Protocolo de acceso a mensajes de Internet)_"
   ]
  },
  {
   "cell_type": "markdown",
   "id": "bb157ecd",
   "metadata": {
    "slideshow": {
     "slide_type": "subslide"
    }
   },
   "source": [
    "## Ejercicio de protocolo SMTP!\n",
    "Ve a [ejercicios/protocolo-smtp.ipynb](ejercicios/protocolo-smtp.ipynb)"
   ]
  },
  {
   "cell_type": "markdown",
   "id": "f479051d",
   "metadata": {
    "slideshow": {
     "slide_type": "subslide"
    }
   },
   "source": [
    "## Protocolo de transferencia de ficheros - FTP\n",
    "\n",
    "- Desde un equipo cliente se puede conectar a un servidor para descargar archivos desde él o para enviarle archivos, independientemente del sistema operativo utilizado en cada equipo.\n",
    "- El servicio FTP es ofrecido por la capa de aplicación del modelo de capas de red TCP/IP al usuario, utilizando normalmente el puerto de red 20 y el 21. "
   ]
  },
  {
   "cell_type": "markdown",
   "id": "b4c1d977",
   "metadata": {
    "slideshow": {
     "slide_type": "notes"
    }
   },
   "source": [
    "- Un problema básico de FTP es que está pensado para ofrecer la máxima velocidad en la conexión, pero no la máxima seguridad, ya que todo el intercambio de información, desde el login y password del usuario en el servidor hasta la transferencia de cualquier archivo, se realiza en texto plano sin ningún tipo de cifrado, con lo que un posible atacante puede capturar este tráfico, acceder al servidor y/o apropiarse de los archivos transferidos.\n",
    "- Para solucionar este problema son de gran utilidad aplicaciones como SCP y SFTP, incluidas en el paquete SSH, que permiten transferir archivos pero cifrando todo el tráfico"
   ]
  },
  {
   "cell_type": "markdown",
   "id": "09dc8eed",
   "metadata": {
    "slideshow": {
     "slide_type": "subslide"
    }
   },
   "source": [
    "#### Ejemplo de código FTP"
   ]
  },
  {
   "cell_type": "code",
   "execution_count": 8,
   "id": "4c96c809",
   "metadata": {
    "slideshow": {
     "slide_type": "fragment"
    }
   },
   "outputs": [
    {
     "data": {
      "text/plain": [
       "'230 Login successful.'"
      ]
     },
     "execution_count": 8,
     "metadata": {},
     "output_type": "execute_result"
    }
   ],
   "source": [
    "from ftplib import FTP\n",
    "ftp = FTP('ftp.us.debian.org')  # connect to host, default port\n",
    "ftp.login()                     # user anonymous, passwd anonymous@"
   ]
  },
  {
   "cell_type": "code",
   "execution_count": 9,
   "id": "17c0b784",
   "metadata": {
    "slideshow": {
     "slide_type": "subslide"
    }
   },
   "outputs": [
    {
     "name": "stdout",
     "output_type": "stream",
     "text": [
      "-rw-r--r--    1 4024     4024         1188 Mar 27 09:11 README\n",
      "-rw-r--r--    1 4024     4024         1290 Jun 26  2010 README.CD-manufacture\n",
      "-rw-r--r--    1 4024     4024         2898 Mar 27 09:11 README.html\n",
      "-rw-r--r--    1 4024     4024          291 Mar 04  2017 README.mirrors.html\n",
      "-rw-r--r--    1 4024     4024           86 Mar 04  2017 README.mirrors.txt\n",
      "drwxr-xr-x   19 4024     4024         4096 Mar 27 09:11 dists\n",
      "drwxr-xr-x    4 4024     4024         4096 Apr 24 13:54 doc\n",
      "-rw-r--r--    1 4024     4024       178491 Apr 24 14:20 extrafiles\n",
      "drwxr-xr-x    3 4024     4024         4096 Apr 24 14:15 indices\n",
      "-rw-r--r--    1 4024     4024     13635814 Apr 24 14:15 ls-lR.gz\n",
      "drwxr-xr-x    5 4024     4024           62 Dec 19  2000 pool\n",
      "drwxr-xr-x    4 4024     4024           67 Nov 17  2008 project\n",
      "drwxr-xr-x    3 4024     4024           77 Oct 10  2012 tools\n",
      "drwxr-xr-x   20 4024     4024         4096 Jul 07  2019 zzz-dists\n"
     ]
    },
    {
     "data": {
      "text/plain": [
       "'226 Directory send OK.'"
      ]
     },
     "execution_count": 9,
     "metadata": {},
     "output_type": "execute_result"
    }
   ],
   "source": [
    "ftp.cwd('debian')               # change into \"debian\" directory\n",
    "ftp.retrlines('LIST')           # list directory contents"
   ]
  },
  {
   "cell_type": "code",
   "execution_count": 10,
   "id": "4f944d9c",
   "metadata": {
    "slideshow": {
     "slide_type": "subslide"
    }
   },
   "outputs": [],
   "source": [
    "with open('README', 'wb') as fp:\n",
    "    ftp.retrbinary('RETR README', fp.write)"
   ]
  },
  {
   "cell_type": "code",
   "execution_count": 11,
   "id": "a227f881",
   "metadata": {
    "slideshow": {
     "slide_type": "-"
    }
   },
   "outputs": [
    {
     "data": {
      "text/plain": [
       "'221 Goodbye.'"
      ]
     },
     "execution_count": 11,
     "metadata": {},
     "output_type": "execute_result"
    }
   ],
   "source": [
    "ftp.quit()"
   ]
  },
  {
   "cell_type": "markdown",
   "id": "19a8d438",
   "metadata": {
    "slideshow": {
     "slide_type": "subslide"
    }
   },
   "source": [
    "## Protocolo Secure Shell - SSH"
   ]
  },
  {
   "cell_type": "markdown",
   "id": "0748d49f",
   "metadata": {
    "slideshow": {
     "slide_type": "-"
    }
   },
   "source": [
    "- Protocolo cuya principal función es el acceso remoto a un servidor por medio de un canal seguro en el que toda la información está cifrada. \n",
    "- Además de la conexión a otros dispositivos, SSH permite copiar datos de forma segura (tanto archivos sueltos como simular sesiones FTP cifradas), gestionar claves RSA para no escribir contraseñas al conectar a los dispositivos y pasar los datos de cualquier otra aplicación por un canal seguro tunelizado mediante SSH y también puede redirigir el tráfico del (Sistema de Ventanas X) para poder ejecutar programas gráficos remotamente. \n",
    "- El puerto TCP asignado es el 22."
   ]
  },
  {
   "cell_type": "markdown",
   "id": "a4a1ceb9",
   "metadata": {
    "slideshow": {
     "slide_type": "subslide"
    }
   },
   "source": [
    "Para comprender el funcionamiento de este sistema, primero hay que aprender a generar las claves. Mediante el comando `ssh-keygen` puedes generar una pareja de claves pública y privada como las que se usan para las conexiones seguras https o SSH.\n",
    "\n",
    "```\n",
    "ssh-keygen -t rsa -b 4096\n",
    "```"
   ]
  },
  {
   "cell_type": "markdown",
   "id": "07278bfc",
   "metadata": {
    "slideshow": {
     "slide_type": "notes"
    }
   },
   "source": [
    "- Estas claves funcionan de modo que la clave privada, que es la parte realmente importante, no sea accesible para otros. Es la llave con la que se descifran los mensajes.\n",
    "\n",
    "- La clave pública puede ser compartida ya que, en realidad, a partir de una misma clave privada pueden generarse infinidad de claves públicas distintas. De hecho, una clave pública se envía en la comunicación inicial entre el cliente y el servidor SSH."
   ]
  },
  {
   "cell_type": "markdown",
   "id": "854e8fba",
   "metadata": {
    "slideshow": {
     "slide_type": "slide"
    }
   },
   "source": [
    "# Modelos de Red\n",
    "![libro](https://images.unsplash.com/photo-1509021436665-8f07dbf5bf1d?ixid=MnwxMjA3fDB8MHxwaG90by1wYWdlfHx8fGVufDB8fHx8&ixlib=rb-1.2.1&auto=format&fit=crop&w=1000&q=80)"
   ]
  },
  {
   "cell_type": "markdown",
   "id": "wrong-accuracy",
   "metadata": {
    "slideshow": {
     "slide_type": "subslide"
    }
   },
   "source": [
    "## Modelo OSI (Open System Interconnection) \n",
    "\n",
    "- Fue creado por la ISO y se encarga de la conexión entre sistemas abiertos; esto es, sistemas abiertos a la comunicación con otros sistemas. \n",
    "\n",
    "- Los principios en los que basó su creación eran: una mayor definición de las funciones de cada capa, evitar agrupar funciones diferentes en la misma capa y una mayor simplificación en el funcionamiento del modelo en general."
   ]
  },
  {
   "cell_type": "markdown",
   "id": "a7695bb8",
   "metadata": {
    "slideshow": {
     "slide_type": "subslide"
    }
   },
   "source": [
    "Este modelo divide las funciones de red en siete capas diferenciadas:\n",
    "\n",
    "| # | Capas | Descripción corta | Algunos protocolos |\n",
    "| :-: |:------------- | :----- | :----- |\n",
    "| 1 | Capa física | Estándares de medios físicos | Cable coaxial o UTP, de fibra óptica, microondas |\n",
    "| 2 | Capa de enlace de datos | Qué tamaño tendrán los paquetes, dónde están los nodos | ARP, Ethernet, Token Ring |\n",
    "| 3 | Capa de red | Cómo llevo el paquete de un nodo a otro por el mejor camino | IP, ICMP |\n",
    "| 4 | Capa de transporte | Cómo saber si el paquete ha llegado bien y cómo reenvío si no ha llegado | TCP, UDP | \n",
    "| 5 | Capa de sesión | Cómo hacer la autenticación y reconexiones en los nodos | NetBIOS, SSL\n",
    "| 6 | Capa de presentación | Cómo hacer operaciones en los extremos, como compresión o cifrado | ASN | \n",
    "| 7 | Capa de aplicación | Cómo convertir los datos en crudo en datos que puedan consumir las aplicaciones | FTP, HTTP, POP3... |"
   ]
  },
  {
   "cell_type": "markdown",
   "id": "legal-disease",
   "metadata": {
    "slideshow": {
     "slide_type": "subslide"
    }
   },
   "source": [
    "## Modelo TCP/IP\n",
    "\n",
    "Este modelo es el implantado actualmente a nivel mundial en Internet y redes locales. \n",
    "- **TCP** es el **Protocolo de Control de Transmisión** que permite establecer una conexión y el intercambio de datos entre dos anfitriones. Este protocolo proporciona un transporte fiable de datos.\n",
    "- **IP** o **protocolo de internet**, utiliza direcciones series de cuatro octetos con formato de punto decimal (como por ejemplo 75.4.160.25). Este protocolo lleva los datos a otras máquinas de la red."
   ]
  },
  {
   "cell_type": "markdown",
   "id": "f79f73c1",
   "metadata": {
    "slideshow": {
     "slide_type": "subslide"
    }
   },
   "source": [
    "## Relación entre TCP/IP y OSI\n",
    "![tabla de relación entre modelos](_img/osi-vs-tcpip.png)"
   ]
  },
  {
   "cell_type": "markdown",
   "id": "aea440bf",
   "metadata": {
    "slideshow": {
     "slide_type": "slide"
    }
   },
   "source": [
    "# Siguientes pasos en Administración de Sistemas\n",
    "![camino](https://images.unsplash.com/photo-1439396874305-9a6ba25de6c6?ixid=MnwxMjA3fDB8MHxwaG90by1wYWdlfHx8fGVufDB8fHx8&ixlib=rb-1.2.1&auto=format&fit=crop&w=1000&q=80)"
   ]
  },
  {
   "cell_type": "markdown",
   "id": "5c791fba",
   "metadata": {
    "slideshow": {
     "slide_type": "subslide"
    }
   },
   "source": [
    "- Servidores web\n",
    "    * CGI, WSGI, ASGI, Gunicorn & NGINX\n",
    "- Configuration Management & IaC\n",
    "    * Fabric y Ansible\n",
    "- Contenedores & Orquestación\n",
    "    * Docker & Kubernetes\n",
    "- Miniproyecto!"
   ]
  }
 ],
 "metadata": {
  "celltoolbar": "Slideshow",
  "kernelspec": {
   "display_name": "Python 3 (ipykernel)",
   "language": "python",
   "name": "python3"
  },
  "language_info": {
   "codemirror_mode": {
    "name": "ipython",
    "version": 3
   },
   "file_extension": ".py",
   "mimetype": "text/x-python",
   "name": "python",
   "nbconvert_exporter": "python",
   "pygments_lexer": "ipython3",
   "version": "3.8.10"
  }
 },
 "nbformat": 4,
 "nbformat_minor": 5
}
