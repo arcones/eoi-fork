{
 "cells": [
  {
   "cell_type": "markdown",
   "id": "9e25bf5c",
   "metadata": {
    "slideshow": {
     "slide_type": "slide"
    }
   },
   "source": [
    "# Servidores web\n",
    "![computer google](https://images.unsplash.com/photo-1501250987900-211872d97eaa?ixid=MnwxMjA3fDB8MHxwaG90by1wYWdlfHx8fGVufDB8fHx8&ixlib=rb-1.2.1&auto=format&fit=crop&w=1000&q=80)"
   ]
  },
  {
   "cell_type": "markdown",
   "id": "c3d75b41",
   "metadata": {
    "slideshow": {
     "slide_type": "subslide"
    }
   },
   "source": [
    "# Servidores web\n",
    "\n",
    "- CGI - Common Gateway Interface\n",
    "- WSGI - Web Server Gateway Interface\n",
    "    * Gunicorn\n",
    "- ASGI - Asynchronous Server Gateway Interface\n",
    "- NGINX - Servidor web/proxy inverso"
   ]
  },
  {
   "cell_type": "markdown",
   "id": "efb3b131",
   "metadata": {
    "slideshow": {
     "slide_type": "slide"
    }
   },
   "source": [
    "## Common Gateway Interface - CGI\n",
    "- Interfaz de los servidores web que permite intercambiar datos entre los servidores y las aplicaciones externas de manera estandarizada. \n",
    "- Con el CGI, no es necesario que todo el contenido de la página HTML esté disponible en el servidor, sino que este se genera de forma dinámica cuando el usuario realiza la solicitud correspondiente a través de la propia página."
   ]
  },
  {
   "cell_type": "markdown",
   "id": "5d32e4e3",
   "metadata": {
    "slideshow": {
     "slide_type": "notes"
    }
   },
   "source": [
    "**Navegando en la web**\n",
    "\n",
    "Para comprender el concepto de CGI, veamos qué sucede cuando hacemos clic en un enlace para navegar por una página web o URL en particular.\n",
    "\n",
    "- El navegador se pone en contacto con el servidor web HTTP y solicita la URL, es decir, el nombre del archivo.\n",
    "- El servidor web analiza la URL y busca el nombre del archivo. Si encuentra ese archivo, lo devuelve al navegador; de lo contrario, envía un mensaje de error que indica que solicitó un archivo incorrecto.\n",
    "- El navegador web recibe la respuesta del servidor web y muestra el archivo recibido o el mensaje de error.\n",
    "\n",
    "Sin embargo, es posible configurar el servidor HTTP para que cada vez que se solicite un archivo en un directorio determinado, ese archivo no se devuelva y en su lugar, se ejecute un programa, y que lo que genere ese programa se envíe de vuelta para que lo muestre su navegador. \n",
    "\n",
    "Esta función se llama Common Gateway Interface o CGI y los programas se denominan scripts CGI. Estos programas CGI pueden ser un script de Python, un script PERL, un script de Shell, un programa C o C, etc."
   ]
  },
  {
   "cell_type": "markdown",
   "id": "a991bb87",
   "metadata": {
    "slideshow": {
     "slide_type": "subslide"
    }
   },
   "source": [
    "![funcionamiento-cgi](https://www.tutorialspoint.com/python/images/cgiarch.gif)"
   ]
  },
  {
   "cell_type": "markdown",
   "id": "3bc3589d",
   "metadata": {
    "slideshow": {
     "slide_type": "notes"
    }
   },
   "source": [
    "Usos de Common Gateway Interface\n",
    "- **Cesta de la compra**: cuando un cliente añade algún producto a la cesta de la compra de una tienda en línea, el script CGI procesa esos datos y, luego, los envía al servidor.\n",
    "- **Comentarios**: el usuario rellena un campo de comentarios. Cuando hace clic en “Enviar”, el texto se transmite al script CGI, que, a su vez, lo reenvía al servidor.\n",
    "- **Formularios**: también en el caso de los formularios en línea, como a la hora de enviar algún mensaje o inscribirse en una oferta de trabajo, los datos introducidos son procesados primero por Common Gateway Interface antes de transmitirse al servidor.\n",
    "- **Estadísticas de páginas web**: cuando las páginas web muestran el tráfico que tienen, la tecnología que lo respalda también recurre al CGI en muchos casos.\n",
    "\n",
    "y más"
   ]
  },
  {
   "cell_type": "markdown",
   "id": "8082de44",
   "metadata": {
    "slideshow": {
     "slide_type": "slide"
    }
   },
   "source": [
    "## Web Server Gateway Interface - WSGI\n"
   ]
  },
  {
   "cell_type": "markdown",
   "id": "60e40619",
   "metadata": {
    "slideshow": {
     "slide_type": "subslide"
    }
   },
   "source": [
    "- Es una especificación que describe cómo un servidor web se comunica con las aplicaciones web y cómo las aplicaciones web se pueden encadenar para procesar una solicitud.\n",
    "\n",
    "- WSGI es un estándar de Python descrito en detalle en el [PEP 3333](https://www.python.org/dev/peps/pep-3333/).\n",
    "\n",
    "<small><a href=\"https://wsgi.readthedocs.io/\">https://wsgi.readthedocs.io/</a></small>"
   ]
  },
  {
   "cell_type": "markdown",
   "id": "daa063d1",
   "metadata": {
    "slideshow": {
     "slide_type": "subslide"
    }
   },
   "source": [
    "```python\n",
    "# Python's bundled WSGI server\n",
    "from wsgiref.simple_server import make_server\n",
    "\n",
    "\n",
    "def application (environ, start_response):\n",
    "\n",
    "    # Sorting and stringifying the environment key, value pairs\n",
    "    response_body = [\n",
    "        '%s: %s' % (key, value) for key, value in sorted(environ.items())\n",
    "    ]\n",
    "\n",
    "    response_body = '\\n'.join(response_body)\n",
    "\n",
    "    status = '200 OK'\n",
    "    response_headers = [\n",
    "        ('Content-Type', 'text/plain'),\n",
    "        ('Content-Length', str(len(response_body)))\n",
    "    ]\n",
    "    start_response(status, response_headers)\n",
    "\n",
    "    return [response_body.encode()]\n",
    "\n",
    "# Instantiate the server\n",
    "httpd = make_server(\n",
    "    'localhost', # The host name\n",
    "    8051, # A port number where to wait for the request\n",
    "    application # The application object name, in this case a function\n",
    ")\n",
    "\n",
    "# Wait for a single request, serve it and quit\n",
    "httpd.handle_request()\n",
    "```"
   ]
  },
  {
   "cell_type": "markdown",
   "id": "7db19203",
   "metadata": {
    "slideshow": {
     "slide_type": "slide"
    }
   },
   "source": [
    "![gunicorn logo](https://res.cloudinary.com/practicaldev/image/fetch/s--la4AP0DS--/c_limit%2Cf_auto%2Cfl_progressive%2Cq_auto%2Cw_880/https://cdn-images-1.medium.com/max/1024/1%2AU3OFfUPCKV7qMmLRRiiYDA.jpeg)"
   ]
  },
  {
   "cell_type": "markdown",
   "id": "382c9d5e",
   "metadata": {
    "slideshow": {
     "slide_type": "subslide"
    }
   },
   "source": [
    "## Gunicorn\n",
    "\n",
    "- Gunicorn es un servidor HTTP para sistemas Unix que cumple la especificación WSGI. \n",
    "- Nos permite servir una aplicación web con múltiples workers para incrementar el rendimiento de nuestra aplicación.\n",
    "- Es recomendable para entornos de producción, ya que nunca debemos usar los servidores web integrados en Flask o Django, que tienen como objetivo un entorno de desarrollo."
   ]
  },
  {
   "cell_type": "markdown",
   "id": "c008c5a2",
   "metadata": {
    "slideshow": {
     "slide_type": "subslide"
    }
   },
   "source": [
    "### Ejercicio de Gunicorn!\n",
    "Ve a [ejercicios/gunicorn.ipynb](ejercicios/gunicorn.ipynb)"
   ]
  },
  {
   "cell_type": "markdown",
   "id": "9fe01951",
   "metadata": {
    "slideshow": {
     "slide_type": "slide"
    }
   },
   "source": [
    "## Asynchronous Server Gateway Interface - ASGI"
   ]
  },
  {
   "cell_type": "markdown",
   "id": "231ce2ce",
   "metadata": {
    "slideshow": {
     "slide_type": "subslide"
    }
   },
   "source": [
    "- _\"Es el sucesor espiritual de WSGI\"_\n",
    "\n",
    "- Su función es proporcionar una interfaz estándar entre servidores web, marcos y aplicaciones de Python con capacidad asíncrona.\n",
    "\n",
    "- Donde WSGI proporcionó un estándar para aplicaciones Python síncronas, ASGI proporciona uno para aplicaciones asíncronas y síncronas, con una implementación de compatibilidad con versiones anteriores de WSGI y múltiples servidores y marcos de aplicaciones.\n",
    "\n",
    "<small><a href=\"https://asgi.readthedocs.io/\">https://asgi.readthedocs.io/</a></small>"
   ]
  },
  {
   "cell_type": "markdown",
   "id": "dd63e689",
   "metadata": {
    "slideshow": {
     "slide_type": "slide"
    }
   },
   "source": [
    "## NGINX\n",
    "\n",
    "NGINX es un servidor web/proxy inverso ligero de alto rendimiento y un proxy para protocolos de correo electrónico.\n",
    "\n",
    "Es software libre y de código abierto, licenciado bajo la Licencia BSD simplificada; también existe una versión comercial distribuida bajo el nombre de Nginx Plus"
   ]
  },
  {
   "cell_type": "markdown",
   "id": "d833549b",
   "metadata": {
    "slideshow": {
     "slide_type": "notes"
    }
   },
   "source": [
    "Este software fue lanzado oficialmente en octubre del 2004. El creador del software, Igor Sysoev, comenzó su proyecto en el 2002 como un intento de solucionar el problema C10k. C10k es el reto de gestionar diez mil conexiones al mismo tiempo. \n",
    "\n",
    "Hoy en día, los servidores web tienen que manejar un número aún mas grande de conexiones. Por esa razón, NGINX ofrece una arquitectura asíncrona y controlada por eventos, característica que hace de NGINX uno de los servidores más confiables para la velocidad y la escalabilidad.\n",
    "\n",
    "Actualmente Nginx tiene el 20% de la cuota de mercado de servidores web.\n",
    "\n",
    "Antes de profundizar más en qué es NGINX, repasemos cómo funciona un servidor web. Cuando alguien hace una solicitud para abrir una página web, el navegador se comunica con el servidor de ese sitio web. Luego, el servidor busca los archivos solicitados para la página y se los envía al navegador. Este es sólo el tipo de solicitud más simple.\n",
    "\n",
    "El ejemplo anterior también se considera como un hilo sencillo. Los servidores web tradicionales crean un solo hilo para cada solicitud, pero NGINX no funciona de esa manera. Como mencionamos antes, NGINX trabaja con una arquitectura asíncrona y controlada por eventos. Esto significa que los hilos similares se administran bajo un proceso de trabajo, y cada proceso de trabajo contiene unidades más pequeñas llamadas conexiones de trabajo. Toda esta unidad es la responsable de manejar los hilos de las solicitudes. Las conexiones de trabajo entregan las solicitudes a un proceso de trabajo, que también lo enviará a su turno al proceso maestro. Finalmente, el proceso maestro proporciona el resultado de esas solicitudes.\n",
    "\n",
    "Puede parecer simple, pero una conexión de trabajo puede atender hasta 1024 solicitudes similares. Debido a eso, NGINX puede procesar miles de solicitudes sin ninguna dificultad. También es por eso que NGINX se convirtió en una excelente opción para sitios web con mucho tráfico como comercio electrónico, motores de búsqueda y almacenamiento en la nube."
   ]
  },
  {
   "cell_type": "markdown",
   "id": "4f4a8485",
   "metadata": {
    "slideshow": {
     "slide_type": "subslide"
    }
   },
   "source": [
    "![diagrama funcionamiento NGINX](https://rockcontent.com/es/wp-content/uploads/sites/3/2020/05/nginx1-1024x596.png)"
   ]
  },
  {
   "cell_type": "markdown",
   "id": "f0d43b10",
   "metadata": {
    "slideshow": {
     "slide_type": "notes"
    }
   },
   "source": [
    "Lo que hace diferente a Nginx es su arquitectura a la hora de manejar procesos, ya que otros servidores web como Apache crean un hilo por cada solicitud.\n",
    "\n",
    "Es decir, cada vez que un usuario haga una petición al servidor, por ejemplo entrando en la web, se creará un hilo nuevo.\n",
    "Nginx funciona de una forma más eficiente gracias a la arquitectura asíncrona basada en eventos, en la que en vez de crear un hilo por cada petición, lo gestiona todo bajo el mismo proceso de trabajo donde se gestionan los diferentes hilos.\n",
    "\n",
    "Este hilo o proceso de nginx contiene varios microprocesos o llamadas de trabajo. Esto se traduce en un mejor rendimiento de Nginx frente Apache sobre todo en consumo de memoria\n",
    "\n",
    "**¿Cuáles son las características de NGINX?**\n",
    "\n",
    "NGINX tiene una arquitectura modular extensible, que facilita la extensión de recursos para aquellos que desean cambiar su código fuente.\n",
    "\n",
    "- El módulo principal es responsable de manejar la conexión\n",
    "- El balanceo de carga es un recurso extremadamente importante para aquellos que necesitan un sitio web con alta disponibilidad, ya que permite la distribución de solicitudes de servicio entre servidores.  \n",
    "De esa manera, cuando hay un aumento en las solicitudes al servidor, como un aumento en el tráfico, NGINX puede dirigir el flujo a otros servidores que están en el archivo de configuración.  \n",
    "Hay tres posibilidades para la distribución de carga en el NGINX. Puede hacerse por igual entre los servidores configurados, distribuirse al servidor que tiene pocas conexiones en este momento o es posible determinar la dirección IP de cada cliente para cada servidor específico.\n",
    "- El proxy inverso, por otro lado, es un servidor web que recibe solicitudes de conexión y administra lo que se requerirá en el servidor principal o verifica si la solicitud ya está disponible en caché. NGINX, por lo tanto, ofrece esta característica, que se puede configurar fácilmente en su archivo de configuración."
   ]
  },
  {
   "cell_type": "markdown",
   "id": "724d9ab9",
   "metadata": {
    "slideshow": {
     "slide_type": "subslide"
    }
   },
   "source": [
    "Cómo instalarlo:\n",
    "\n",
    "https://www.digitalocean.com/community/tutorials/how-to-install-nginx-on-ubuntu-20-04-es\n",
    "\n",
    "http://nginx.org/en/docs/windows.html"
   ]
  },
  {
   "cell_type": "markdown",
   "id": "b9c99b42",
   "metadata": {
    "slideshow": {
     "slide_type": "slide"
    }
   },
   "source": [
    "# Siguientes pasos en Administración de Sistemas\n",
    "![camino](https://images.unsplash.com/photo-1439396874305-9a6ba25de6c6?ixid=MnwxMjA3fDB8MHxwaG90by1wYWdlfHx8fGVufDB8fHx8&ixlib=rb-1.2.1&auto=format&fit=crop&w=1000&q=80)"
   ]
  },
  {
   "cell_type": "markdown",
   "id": "521c66fc",
   "metadata": {
    "slideshow": {
     "slide_type": "subslide"
    }
   },
   "source": [
    "- Configuration Management & IaC\n",
    "    * Fabric y Ansible\n",
    "- Contenedores & Orquestación\n",
    "    * Docker & Kubernetes\n",
    "- Miniproyecto!"
   ]
  }
 ],
 "metadata": {
  "celltoolbar": "Slideshow",
  "kernelspec": {
   "display_name": "Python 3 (ipykernel)",
   "language": "python",
   "name": "python3"
  },
  "language_info": {
   "codemirror_mode": {
    "name": "ipython",
    "version": 3
   },
   "file_extension": ".py",
   "mimetype": "text/x-python",
   "name": "python",
   "nbconvert_exporter": "python",
   "pygments_lexer": "ipython3",
   "version": "3.8.10"
  }
 },
 "nbformat": 4,
 "nbformat_minor": 5
}
