{
 "cells": [
  {
   "cell_type": "markdown",
   "id": "worthy-regard",
   "metadata": {
    "slideshow": {
     "slide_type": "slide"
    }
   },
   "source": [
    "# Administración de sistemas\n",
    "<img src=\"https://images.unsplash.com/photo-1573164713988-8665fc963095?ixlib=rb-1.2.1&ixid=MnwxMjA3fDB8MHxwaG90by1wYWdlfHx8fGVufDB8fHx8&auto=format&fit=crop&w=1000&q=80\" alt=\"foto stock ordenador\">"
   ]
  },
  {
   "cell_type": "markdown",
   "id": "7880fe41",
   "metadata": {
    "slideshow": {
     "slide_type": "slide"
    }
   },
   "source": [
    "# ¿Quién es un SysAdmin?\n",
    "- Persona que tiene la responsabilidad de implementar, configurar, mantener, monitorizar, documentar y asegurar el correcto funcionamiento de un sistema informático, o algún aspecto de este.\n",
    "- Tiene por objeto garantizar el tiempo de actividad (uptime), rendimiento, uso de recursos y la seguridad de los servidores que administra de forma dinámica."
   ]
  },
  {
   "cell_type": "markdown",
   "id": "7db5e109",
   "metadata": {
    "slideshow": {
     "slide_type": "slide"
    }
   },
   "source": [
    "# Qué un sistema informático\n",
    "\n",
    "![setup de ordenador](https://images.unsplash.com/photo-1547082299-de196ea013d6?ixid=MnwxMjA3fDB8MHxwaG90by1wYWdlfHx8fGVufDB8fHx8&ixlib=rb-1.2.1&auto=format&fit=crop&w=1000&q=80)"
   ]
  },
  {
   "cell_type": "markdown",
   "id": "f6e7bbbe",
   "metadata": {
    "slideshow": {
     "slide_type": "notes"
    }
   },
   "source": [
    "Un sistema informático es un sistema que permite almacenar y procesar información; es el conjunto de partes interrelacionadas: **software**, **hardware** y **personal informático**.\n",
    "- El **software** incluye al sistema operativo, firmware y aplicaciones. \n",
    "- El **hardware** incluye computadoras o cualquier tipo de dispositivo electrónico(procesadores, memoria, sistemas de almacenamiento externo...)\n",
    "- El **personal informático** incluye al personal técnico que apoya y mantienen el sistema (analistas, programadores, operarios, etc.) y a los usuarios que lo utilizan."
   ]
  },
  {
   "cell_type": "markdown",
   "id": "404c116e",
   "metadata": {
    "slideshow": {
     "slide_type": "slide"
    }
   },
   "source": [
    "# Administración de sistemas\n",
    "- **Software**\n",
    "- Hardware\n",
    "- Virtualización\n",
    "- Gestión de usuarios"
   ]
  },
  {
   "cell_type": "markdown",
   "id": "72c18e45",
   "metadata": {
    "slideshow": {
     "slide_type": "subslide"
    }
   },
   "source": [
    "# Software\n",
    "\n",
    "- Software de sistema\n",
    "- Software de programación\n",
    "- Software de aplicación"
   ]
  },
  {
   "cell_type": "markdown",
   "id": "ab449343",
   "metadata": {
    "slideshow": {
     "slide_type": "notes"
    }
   },
   "source": [
    "- **Software de sistema**: Sistemas operativos, controladores de dispositivos, herramientas de diagnóstico, herramientas de corrección y optimización, servidores, utilidades\n",
    "- **Software de programación**: Editores de texto, compiladores, intérpretes, enlazadores, depuradores, entornos de desarrollo integrados (IDE)\n",
    "- **Software de aplicación**: Aplicaciones ofimáticas, software educativo, empresarial, bases de datos, videojuegos, software de cálculo numérico y simbólico..."
   ]
  },
  {
   "cell_type": "markdown",
   "id": "366c7be2",
   "metadata": {
    "slideshow": {
     "slide_type": "slide"
    }
   },
   "source": [
    "# Administración de sistemas\n",
    "- Software\n",
    "- **Hardware**\n",
    "- Virtualización\n",
    "- Gestión de usuarios"
   ]
  },
  {
   "cell_type": "markdown",
   "id": "8b12b29f",
   "metadata": {
    "slideshow": {
     "slide_type": "subslide"
    }
   },
   "source": [
    "# Hardware\n",
    "\n",
    "- CPU\n",
    "- Memoria RAM\n",
    "- Periféricos\n",
    "- Tarjetas gráficas\n",
    "- Placa base"
   ]
  },
  {
   "cell_type": "markdown",
   "id": "98f8edea",
   "metadata": {
    "slideshow": {
     "slide_type": "notes"
    }
   },
   "source": [
    "- **CPU**: encargada de interpretar y ejecutar instrucciones y de procesar datos\n",
    "- **Memoria RAM**: para el almacenamiento transitorio y de trabajo (no masivo)\n",
    "- **Periféricos**: unidades o dispositivos para comunicarse con el exterior (entrada / salida)\n",
    "- **Tarjetas gráficas**: realizar los cálculos asociados a operaciones gráficas, liberando así al procesador principal (CPU)\n",
    "- **Placa base**: soporte fundamental que aloja y comunica a todos los demás componentes"
   ]
  },
  {
   "cell_type": "markdown",
   "id": "f1c4f948",
   "metadata": {
    "slideshow": {
     "slide_type": "subslide"
    }
   },
   "source": [
    "### Cómo monitorizar el uso del hardware a través del SO"
   ]
  },
  {
   "cell_type": "markdown",
   "id": "3dc2931b",
   "metadata": {
    "slideshow": {
     "slide_type": "subslide"
    }
   },
   "source": [
    "### En windows: Administrador de tareas\n",
    "![Administrador tareas](_img/task_manager.png)"
   ]
  },
  {
   "cell_type": "markdown",
   "id": "75cdc22f",
   "metadata": {
    "slideshow": {
     "slide_type": "subslide"
    }
   },
   "source": [
    "### En Linux / Mac\n",
    "- `htop` : administrador de tareas en terminal\n",
    "- `lshw`: para dar información del hardware del equipo (incluso en formato web!)\n",
    "- `lscpu`: para ver las características de la CPU\n",
    "- `free`: muestra el estado de la memoria RAM del sistema\n",
    "- `df`: muestra el uso del disco\n",
    "- `uptime`: para saber cuanto tiempo lleva el sistema encendido\n",
    "- `ping`: útil para ver si somos capaces de llegar a otro host a través de la red\n",
    "- `ifconfig`: muestra la configuración de una interfaz de red"
   ]
  },
  {
   "cell_type": "markdown",
   "id": "7b7c495e",
   "metadata": {
    "slideshow": {
     "slide_type": "subslide"
    }
   },
   "source": [
    "### Introducción a la terminal Linux\n",
    "Ve a [ejercicios/ubuntu-commands.ipynb](ejercicios/ubuntu-commands.ipynb)"
   ]
  },
  {
   "cell_type": "markdown",
   "id": "57310daf",
   "metadata": {
    "slideshow": {
     "slide_type": "subslide"
    }
   },
   "source": [
    "### En Python - `psutil`\n",
    "\n",
    "- Biblioteca multiplataforma para recuperar información sobre procesos en ejecución y utilización del sistema (CPU, memoria, discos, red, sensores) en Python\n",
    "- Implementa muchas funcionalidades que ofrecen las herramientas clásicas de línea de comandos de UNIX como `ps`, `top`, `iotop`, `lsof`, `netstat`, `ifconfig`, `free` y otras\n",
    "\n",
    "> Ve a [ejercicios/01-psutil.ipynb](ejercicios/01-psutil.ipynb)"
   ]
  },
  {
   "cell_type": "markdown",
   "id": "fd06c0fa",
   "metadata": {
    "slideshow": {
     "slide_type": "slide"
    }
   },
   "source": [
    "# Administración de sistemas\n",
    "- Software\n",
    "- Hardware\n",
    "- **Virtualización**\n",
    "- Gestión de usuarios"
   ]
  },
  {
   "cell_type": "markdown",
   "id": "bb31187f",
   "metadata": {
    "slideshow": {
     "slide_type": "slide"
    }
   },
   "source": [
    "## Virtualización\n",
    "![virtualización de máquinas](https://images.unsplash.com/photo-1525540810550-5032f5d191b1?ixid=MnwxMjA3fDB8MHxwaG90by1wYWdlfHx8fGVufDB8fHx8&ixlib=rb-1.2.1&auto=format&fit=crop&w=1000&q=80)"
   ]
  },
  {
   "cell_type": "markdown",
   "id": "25f72161",
   "metadata": {
    "slideshow": {
     "slide_type": "notes"
    }
   },
   "source": [
    "- En Informática, la virtualización es la creación a través de software de una representación (versión virtual) de algún recurso tecnológico.\n",
    "- La virtualización es la base de la computación en la nube ya que el software de virtualización es el que ofrece los servicios de la nube a través de la red. Estos software de virtualización alojan instancias (máquinas virtuales, contenedores,...) que ofrecen los servicios."
   ]
  },
  {
   "cell_type": "markdown",
   "id": "7a0db4cd",
   "metadata": {
    "slideshow": {
     "slide_type": "slide"
    }
   },
   "source": [
    "# Administración de sistemas\n",
    "- Software\n",
    "- Hardware\n",
    "- Virtualización\n",
    "- **Gestión de usuarios**"
   ]
  },
  {
   "cell_type": "markdown",
   "id": "f1cc0110",
   "metadata": {
    "slideshow": {
     "slide_type": "slide"
    }
   },
   "source": [
    "# Soporte a usuarios - Permisos y grupos"
   ]
  },
  {
   "cell_type": "markdown",
   "id": "600827da",
   "metadata": {
    "slideshow": {
     "slide_type": "notes"
    }
   },
   "source": [
    "- Linux es un sistema multi-usuario\n",
    "- Hay dos tipos de usuarios en Linux:\n",
    "    - system users\n",
    "    - regular users"
   ]
  },
  {
   "cell_type": "markdown",
   "id": "e7607a78",
   "metadata": {
    "slideshow": {
     "slide_type": "subslide"
    }
   },
   "source": [
    "Para ver los usuarios del sistema:\n",
    "```\n",
    "cat /etc/passwd\n",
    "```\n",
    "\n",
    "Para ver los grupos del sistema:\n",
    "```\n",
    "cat /etc/group\n",
    "```"
   ]
  },
  {
   "cell_type": "markdown",
   "id": "28d1afdd",
   "metadata": {
    "slideshow": {
     "slide_type": "subslide"
    }
   },
   "source": [
    "### Permisos\n",
    "\n",
    "En Linux, cada fichero tiene un propietario, un grupo, y su propia configuracion de permisos. Se puede consultar esta configuración con el comando `ls`:\n",
    "```\n",
    "ls -l\n",
    "```\n",
    "![screenshot permissions](https://assets.digitalocean.com/articles/linux_basics/ls-l.png)"
   ]
  },
  {
   "cell_type": "markdown",
   "id": "4d234466",
   "metadata": {
    "slideshow": {
     "slide_type": "subslide"
    }
   },
   "source": [
    "![grupos y letras](https://assets.digitalocean.com/articles/linux_basics/mode.png)"
   ]
  },
  {
   "cell_type": "markdown",
   "id": "c144cb96",
   "metadata": {
    "slideshow": {
     "slide_type": "subslide"
    }
   },
   "source": [
    "### Ejemplos de configuración de permisos\n",
    "`-rw-------`\n",
    "\n",
    "`-rwxr-xr-x`\n",
    "\n",
    "`-rw-rw-rw-`\n",
    "\n",
    "`drwxr-xr-x`\n",
    "\n",
    "`drwxrwx---`\n",
    "\n",
    "`drwxr-x---`"
   ]
  },
  {
   "cell_type": "markdown",
   "id": "3d5e06ce",
   "metadata": {
    "slideshow": {
     "slide_type": "notes"
    }
   },
   "source": [
    "- -rw-------: El fichero sólo es accessible por su propietario en modo lectura/escritura\n",
    "- -rwxr-xr-x: El fichero es ejecutable por cualquier usuario del sistema “world-executable”\n",
    "- -rw-rw-rw-: El fichero está abierto a modificaciones por cualquier usuario del sistema “world-writable”\n",
    "- drwxr-xr-x: Un directorio al que puede leer y acceder cualquier usuario del sistema\n",
    "- drwxrwx---: Un directorio donde sólo puede modificar el contenido su propietario o grupo\n",
    "- drwxr-x---: Un directorio al que sólo pueden acceder los miembros del grupo"
   ]
  },
  {
   "cell_type": "markdown",
   "id": "0b8d9451",
   "metadata": {
    "slideshow": {
     "slide_type": "subslide"
    }
   },
   "source": [
    "## En Linux\n",
    "```\n",
    "adduser\n",
    "deluser\n",
    "\n",
    "chmod\n",
    "chown\n",
    "chgrp\n",
    "```"
   ]
  },
  {
   "cell_type": "markdown",
   "id": "78e108b9",
   "metadata": {
    "slideshow": {
     "slide_type": "slide"
    }
   },
   "source": [
    "# Devops\n",
    "![orquesta](https://images.unsplash.com/photo-1610254449353-5698372fa83b?ixid=MnwxMjA3fDB8MHxwaG90by1wYWdlfHx8fGVufDB8fHx8&ixlib=rb-1.2.1&auto=format&fit=crop&w=1000&q=80)"
   ]
  },
  {
   "cell_type": "markdown",
   "id": "f186a06d",
   "metadata": {
    "slideshow": {
     "slide_type": "notes"
    }
   },
   "source": [
    "2007 - Nace con el movimiento Agile, en contraposición al sistema en cascada tradicional\n",
    "\n",
    "2009 - La charla \"10+ Deploys Per Day: Dev and Ops Cooperation at Flickr\" da visibilidad a esta filosofía y se crea mucho debate en twitter. En octubre se crea la primera DevOpsDays en Gante, Bélgica\n"
   ]
  },
  {
   "cell_type": "markdown",
   "id": "1bbaebb3",
   "metadata": {
    "slideshow": {
     "slide_type": "subslide"
    }
   },
   "source": [
    "## Áreas de acción\n",
    "- Virtualización & contenedores\n",
    "- Configuration Management\n",
    "- Continuous Integration - CI\n",
    "- Continuous Delivery and Continuous Deployment - CD\n",
    "- Infrastructure as Code - IaC\n",
    "- Orchestration\n",
    "- Monitorización\n",
    "- Microservicios"
   ]
  },
  {
   "cell_type": "markdown",
   "id": "b5559a83",
   "metadata": {
    "slideshow": {
     "slide_type": "subslide"
    }
   },
   "source": [
    "## Virtualización y Contenedores\n",
    "- Virtualización: un sistema operativo completo funcionando de manera aislada sobre otro sistema operativo completo. \n",
    "- Contenedores: comparten los recursos del propio sistema operativo \"host\" sobre el que se ejecutan.\n",
    "\n",
    "> Vagrant para virtualización, Docker para contenedores"
   ]
  },
  {
   "cell_type": "markdown",
   "id": "60c71383",
   "metadata": {
    "slideshow": {
     "slide_type": "subslide"
    }
   },
   "source": [
    "## Configuration Management\n",
    "\n",
    "- Cambiar y mantener el estado de algunas piezas de la infraestructura de manera consistente, sostenible y estable\n",
    "- Automatizar operaciones que surgen del día a día, como la creación de usuarios, actualización de software, etc\n",
    "\n",
    "> Ansible, Puppet, Chef, Salt"
   ]
  },
  {
   "cell_type": "markdown",
   "id": "43462655",
   "metadata": {
    "slideshow": {
     "slide_type": "notes"
    }
   },
   "source": [
    "**Beneficios**\n",
    "- Ahorro de tiempo - se tarda menos en hacer cambios en la configuración\n",
    "- Mejor monitorización sobre los recursos\n",
    "- Mejora la mantenibilidad del sistema\n",
    "- Mantiene la configuración estandarizada en todos los servidores"
   ]
  },
  {
   "cell_type": "markdown",
   "id": "89845f83",
   "metadata": {
    "slideshow": {
     "slide_type": "subslide"
    }
   },
   "source": [
    "## Continuous Integration - CI\n",
    "- Es la práctica de fusionar con frecuencia los cambios realizados por los desarrolladores\n",
    "- Para ello, se utilizan herramientas como los tests unitarios para comprobar que tras los cambios todo sigue funcionando correctamente\n",
    "\n",
    "> Jenkins, Travis"
   ]
  },
  {
   "cell_type": "markdown",
   "id": "770be2b8",
   "metadata": {
    "slideshow": {
     "slide_type": "notes"
    }
   },
   "source": [
    "**Beneficios**\n",
    "- Detección rápida de bugs\n",
    "- Elimina \"la lucha\" por mergear antes de una entrega grande\n",
    "- Hace que se puedan hacer despliegues más rápidos y frecuentes\n",
    "- Hace que el testing continuo sea posible"
   ]
  },
  {
   "cell_type": "markdown",
   "id": "db4d4bd0",
   "metadata": {
    "slideshow": {
     "slide_type": "subslide"
    }
   },
   "source": [
    "## Continuous Delivery and Continuous Deployment - CD\n",
    "- Continuous Delivery: mantener continuamente un código en un estado listo para desplegar\n",
    "- Continuous Deployment: despliegues frecuentes en lugar de grandes despliegues cada mucho tiempo"
   ]
  },
  {
   "cell_type": "markdown",
   "id": "3faa4ece",
   "metadata": {
    "slideshow": {
     "slide_type": "notes"
    }
   },
   "source": [
    "**Beneficios**\n",
    "- El tiempo de puesta en producción es mucho más rápido\n",
    "- Hay menos problemas de puesta en producción\n",
    "- Menos riesgo de que algo falle en producción\n",
    "- Facilita la vuelta a la versión anterior si algo va mal\n",
    "- Elimina el miedo de subir a producción"
   ]
  },
  {
   "cell_type": "markdown",
   "id": "0a9cd3ce",
   "metadata": {
    "slideshow": {
     "slide_type": "subslide"
    }
   },
   "source": [
    "## Infrastructure as Code - IaC\n",
    "- Administrar y aprovisionar infraestructura usando código.  \n",
    "En lugar de hacer cosas manualmente para administrar y aprovisionar estructura (servidores, máquinas virtuales, etc) usaremos scripts y código para crear y cambiar cosas como servidores, instancias, entornos, contenedores o clústers\n",
    "\n",
    "> Ansible"
   ]
  },
  {
   "cell_type": "markdown",
   "id": "f51a761a",
   "metadata": {
    "slideshow": {
     "slide_type": "notes"
    }
   },
   "source": [
    "**Beneficios**\n",
    "- Consistencia en la creación y gestión de recursos\n",
    "- Reusabilidad - el mismo script se utiliza para múltiples máquinas\n",
    "- Facilita la escalabilidad - es fácil crear más máquinas o aumentar la infraestructura\n",
    "- Es auto-documentada"
   ]
  },
  {
   "cell_type": "markdown",
   "id": "802b140c",
   "metadata": {
    "slideshow": {
     "slide_type": "subslide"
    }
   },
   "source": [
    "## Orchestration\n",
    "- Automatización que permite procesos y flujos de trabajo como el aprovisionamiento de recursos. \n",
    "- La orquestación trata de dejar de ser constructores para ser directores de orquesta, donde cada pieza sabe qué tiene que hacer y el director solo dice cuándo y cómo hacerlo.\n",
    "\n",
    "> Docker Swarm, Kubernetes, Zookeeper, Terraform, "
   ]
  },
  {
   "cell_type": "markdown",
   "id": "8a6f4f64",
   "metadata": {
    "slideshow": {
     "slide_type": "notes"
    }
   },
   "source": [
    "**Beneficios**\n",
    "- Mejora la escalabilidad - los recursos se pueden aumentar o disminuir fácilmente\n",
    "- Mejora la estabilidad del sistema\n",
    "- Ahorra tiempo - automatiza tareas y workflows\n",
    "- Auto-servicio - se puede ofrecer a los usuarios\n",
    "- Mucha información acerca del uso de los recursos"
   ]
  },
  {
   "cell_type": "markdown",
   "id": "130d3a6a",
   "metadata": {
    "slideshow": {
     "slide_type": "subslide"
    }
   },
   "source": [
    "## Monitorización\n",
    "- Se trata de recolectar y presentar datos sobre el rendimiento y la estabilidad de los servicios y de la infraestructura de un sistema\n",
    "- Datos como: uso de memoria, cpu, tráfico de red, logs, etc.\n",
    "\n",
    "> Sensu, NewRelic, AppDynamics"
   ]
  },
  {
   "cell_type": "markdown",
   "id": "6ed7d7d3",
   "metadata": {
    "slideshow": {
     "slide_type": "notes"
    }
   },
   "source": [
    "**Beneficios**\n",
    "- Rápida recuperanción ante errores y fallos\n",
    "- Rápida detección de errores\n",
    "- Visibilidad ante otros equipos\n",
    "- Posiblidad de automatizar respuestas ante falta de recursos (orquestación)"
   ]
  },
  {
   "cell_type": "markdown",
   "id": "bc2589f0",
   "metadata": {
    "slideshow": {
     "slide_type": "subslide"
    }
   },
   "source": [
    "## Microservicios\n",
    "- Arquitectura de software que divide una aplicación en una colección de pequeños servicios poco acoplados entre sí, como contraposición a la tradicional arquitectura monolítica."
   ]
  },
  {
   "cell_type": "markdown",
   "id": "e44f2474",
   "metadata": {
    "slideshow": {
     "slide_type": "notes"
    }
   },
   "source": [
    "**Beneficios**\n",
    "- Modularidad\n",
    "- Flexibilidad tecnológica - no tienes por qué usar el mismo lenguaje o las mismas versiones de software en cada servicio\n",
    "- Escalabilidad - puedes escalar solo las partes más afectadas en cada momento"
   ]
  },
  {
   "cell_type": "markdown",
   "id": "e1864fee",
   "metadata": {
    "slideshow": {
     "slide_type": "slide"
    }
   },
   "source": [
    "# Siguientes pasos en Administración de Sistemas\n",
    "![camino](https://images.unsplash.com/photo-1439396874305-9a6ba25de6c6?ixid=MnwxMjA3fDB8MHxwaG90by1wYWdlfHx8fGVufDB8fHx8&ixlib=rb-1.2.1&auto=format&fit=crop&w=1000&q=80)"
   ]
  },
  {
   "cell_type": "markdown",
   "id": "9330f89a",
   "metadata": {
    "slideshow": {
     "slide_type": "subslide"
    }
   },
   "source": [
    "- Redes de computadoras\n",
    "    * Protocolos (HTTP, SMTP, FTP, SSH)\n",
    "- Servidores web\n",
    "    * CGI, WSGI, ASGI, Gunicorn & NGINX\n",
    "- Configuration Management & IaC\n",
    "    * Fabric y Ansible\n",
    "- Contenedores & Orquestación\n",
    "    * Docker\n",
    "- Miniproyecto!"
   ]
  }
 ],
 "metadata": {
  "celltoolbar": "Slideshow",
  "kernelspec": {
   "display_name": "Python 3 (ipykernel)",
   "language": "python",
   "name": "python3"
  },
  "language_info": {
   "codemirror_mode": {
    "name": "ipython",
    "version": 3
   },
   "file_extension": ".py",
   "mimetype": "text/x-python",
   "name": "python",
   "nbconvert_exporter": "python",
   "pygments_lexer": "ipython3",
   "version": "3.8.10"
  }
 },
 "nbformat": 4,
 "nbformat_minor": 5
}
