{
 "cells": [
  {
   "cell_type": "markdown",
   "metadata": {
    "slideshow": {
     "slide_type": "slide"
    }
   },
   "source": [
    "## La librería matplotlib\n",
    "\n",
    "**Matplotlib** es una de la librerias de visualizacion de datos\n",
    "mas potentes de Python. Su objetivo declarado es hacer sencillas\n",
    "las cosas faciles y posibles las dificiles. Con ella se pueden\n",
    "generar gradicas, histogrames, gráficos de barra, de dispersion, etc. con unas pocas lineas de codigo."
   ]
  },
  {
   "cell_type": "markdown",
   "metadata": {
    "slideshow": {
     "slide_type": "slide"
    }
   },
   "source": [
    "### Instalar matplotlib\n",
    "\n",
    "Si no esta instalada, se puede instalar con pip"
   ]
  },
  {
   "cell_type": "code",
   "execution_count": 6,
   "metadata": {
    "slideshow": {
     "slide_type": "slide"
    }
   },
   "outputs": [
    {
     "name": "stdout",
     "output_type": "stream",
     "text": [
      "Requirement already satisfied: matplotlib in /Users/juan.rodriguezdeleonlocal/.virtualenvs/eoi/lib/python3.7/site-packages (3.2.1)\n",
      "Requirement already satisfied: numpy>=1.11 in /Users/juan.rodriguezdeleonlocal/.virtualenvs/eoi/lib/python3.7/site-packages (from matplotlib) (1.18.3)\n",
      "Requirement already satisfied: kiwisolver>=1.0.1 in /Users/juan.rodriguezdeleonlocal/.virtualenvs/eoi/lib/python3.7/site-packages (from matplotlib) (1.2.0)\n",
      "Requirement already satisfied: python-dateutil>=2.1 in /Users/juan.rodriguezdeleonlocal/.virtualenvs/eoi/lib/python3.7/site-packages (from matplotlib) (2.8.1)\n",
      "Requirement already satisfied: pyparsing!=2.0.4,!=2.1.2,!=2.1.6,>=2.0.1 in /Users/juan.rodriguezdeleonlocal/.virtualenvs/eoi/lib/python3.7/site-packages (from matplotlib) (2.4.6)\n",
      "Requirement already satisfied: cycler>=0.10 in /Users/juan.rodriguezdeleonlocal/.virtualenvs/eoi/lib/python3.7/site-packages (from matplotlib) (0.10.0)\n",
      "Requirement already satisfied: six>=1.5 in /Users/juan.rodriguezdeleonlocal/.virtualenvs/eoi/lib/python3.7/site-packages (from python-dateutil>=2.1->matplotlib) (1.14.0)\n",
      "Note: you may need to restart the kernel to use updated packages.\n"
     ]
    }
   ],
   "source": [
    "pip install matplotlib"
   ]
  },
  {
   "cell_type": "markdown",
   "metadata": {
    "slideshow": {
     "slide_type": "slide"
    }
   },
   "source": [
    "### Importar la librería\n",
    "\n",
    "Para poder usar matplotlib hay que importarla, como todas las librerías, pero en este caso normalmente la importación se suele hacer así:"
   ]
  },
  {
   "cell_type": "code",
   "execution_count": 1,
   "metadata": {
    "slideshow": {
     "slide_type": "slide"
    }
   },
   "outputs": [],
   "source": [
    "import matplotlib.pyplot as plt"
   ]
  },
  {
   "cell_type": "markdown",
   "metadata": {
    "slideshow": {
     "slide_type": "slide"
    }
   },
   "source": [
    "Esta es una práctica común que permite usar la librería con el nombre \n",
    "abreviado `plt`; de esta forma nos ahorramos pulsar varias teclas\n",
    "cada vez que la usamos."
   ]
  },
  {
   "cell_type": "markdown",
   "metadata": {
    "slideshow": {
     "slide_type": "slide"
    }
   },
   "source": [
    "### Gráficas de líneas"
   ]
  },
  {
   "cell_type": "markdown",
   "metadata": {
    "slideshow": {
     "slide_type": "slide"
    }
   },
   "source": [
    "Podemos crear nuestra primera gráfica con solo cuatro líneas:\n",
    "\n",
    "1) Definir los datos del eje X\n",
    "\n",
    "2) definir los datos del eje Y\n",
    "\n",
    "3) Decidir que tipo de gráfico queremos: de barras, de líneas, etc.\n",
    "\n",
    "4) Mostrar el gráfico"
   ]
  },
  {
   "cell_type": "code",
   "execution_count": 86,
   "metadata": {
    "scrolled": true,
    "slideshow": {
     "slide_type": "slide"
    }
   },
   "outputs": [
    {
     "data": {
      "image/png": "[encoded data removed]",
      "text/plain": [
       "<Figure size 432x288 with 1 Axes>"
      ]
     },
     "metadata": {
      "needs_background": "light"
     },
     "output_type": "display_data"
    }
   ],
   "source": [
    "import matplotlib.pyplot as plt\n",
    "\n",
    "x_values = [0,1,2,3,4,5]  # Datos eje X\n",
    "squares = [0,1,4,9,16,25]  # Datos eje Y\n",
    "plt.plot(x_values, squares)  # plot usa un grafico de lineas \n",
    "plt.show()  # Mostrar la imagen"
   ]
  },
  {
   "cell_type": "markdown",
   "metadata": {},
   "source": [
    "Estrictamente hablando, ni siquiera necesitamos los valores en X. Si se le pasa una unica serie de valores a plot/bar, la librería asume que se trata de una secuencia de valores $y$, y genera automáticamente los valores de $x$. Eso si, como es Python, la secuencia se numera empezando por el cero."
   ]
  },
  {
   "cell_type": "code",
   "execution_count": 88,
   "metadata": {
    "scrolled": true,
    "slideshow": {
     "slide_type": "slide"
    }
   },
   "outputs": [
    {
     "data": {
      "image/png": "[encoded data removed]",
      "text/plain": [
       "<Figure size 432x288 with 1 Axes>"
      ]
     },
     "metadata": {
      "needs_background": "light"
     },
     "output_type": "display_data"
    }
   ],
   "source": [
    "import matplotlib.pyplot as plt\n",
    "\n",
    "squares = [0,1,4,9,16,25, 36, 49]\n",
    "plt.plot(squares)\n",
    "plt.title(\"Ventas\")\n",
    "plt.show()"
   ]
  },
  {
   "cell_type": "markdown",
   "metadata": {},
   "source": [
    "Hemos llamado a la función `title` para añadir un título a la gráfica. Esta es la forma de trabajar con matplotlib, se van creando las gráficas mediante varios pasos, y cuando llamamos a `show()` se aplican todos estos pasos y quedamos preparados para la siguiente gráfica."
   ]
  },
  {
   "cell_type": "markdown",
   "metadata": {
    "slideshow": {
     "slide_type": "slide"
    }
   },
   "source": [
    "### Gráficas de barras\n",
    "\n",
    "Podemos crear un gráfico de barras simplemente llamando a la función `bar` \n",
    "en vez de `plot`:"
   ]
  },
  {
   "cell_type": "code",
   "execution_count": 89,
   "metadata": {
    "scrolled": true,
    "slideshow": {
     "slide_type": "slide"
    }
   },
   "outputs": [
    {
     "data": {
      "image/png": "[encoded data removed]",
      "text/plain": [
       "<Figure size 432x288 with 1 Axes>"
      ]
     },
     "metadata": {
      "needs_background": "light"
     },
     "output_type": "display_data"
    }
   ],
   "source": [
    "import matplotlib.pyplot as plt\n",
    "\n",
    "x_values = [0,1,2,3,4,5]\n",
    "squares = [0,1,4,9,16,25]\n",
    "plt.bar(x_values, squares, color=\"navy\")\n",
    "plt.show()"
   ]
  },
  {
   "cell_type": "markdown",
   "metadata": {
    "slideshow": {
     "slide_type": "slide"
    }
   },
   "source": [
    "**Ejercicio**: En el código anterior hemos usado un parámetro adicional,\n",
    "`color`, para indicar el color de las barras. Cambia el color a otro diferente;\n",
    "algunos valores que puedes usar son `green`, `red`, `cyan`, `coral`, `black`,\n",
    "`#336699`."
   ]
  },
  {
   "cell_type": "markdown",
   "metadata": {
    "slideshow": {
     "slide_type": "slide"
    }
   },
   "source": [
    "Podemos tambien crear un gráfico de barras horizontal usando la función\n",
    "`barh` en vez de `bar`:"
   ]
  },
  {
   "cell_type": "code",
   "execution_count": 91,
   "metadata": {},
   "outputs": [
    {
     "data": {
      "image/png": "[encoded data removed]",
      "text/plain": [
       "<Figure size 432x288 with 1 Axes>"
      ]
     },
     "metadata": {
      "needs_background": "light"
     },
     "output_type": "display_data"
    }
   ],
   "source": [
    "import matplotlib.pyplot as plt\n",
    "\n",
    "x_values = [5,6,11,7,2]\n",
    "y_val = [\"A\", \"B\", \"C\", \"D\", \"E\"]\n",
    "plt.barh(y_val,x_values, color =\"coral\")\n",
    "plt.show()"
   ]
  },
  {
   "cell_type": "markdown",
   "metadata": {
    "slideshow": {
     "slide_type": "slide"
    }
   },
   "source": [
    "### Gráficas de dispersión\n",
    "\n",
    "Para gráficas de dispersion, (donde los datos $X$ e $Y$ se usaran como si\n",
    "fueran coordenadas de puntos) se usa la función `scatter`. En este caso\n",
    "vamos a añadir el parámetro `s` (de *size*) para indicar el tamaño\n",
    "de los puntos:"
   ]
  },
  {
   "cell_type": "code",
   "execution_count": 92,
   "metadata": {
    "slideshow": {
     "slide_type": "slide"
    }
   },
   "outputs": [
    {
     "data": {
      "image/png": "[encoded data removed]",
      "text/plain": [
       "<Figure size 432x288 with 1 Axes>"
      ]
     },
     "metadata": {
      "needs_background": "light"
     },
     "output_type": "display_data"
    }
   ],
   "source": [
    "import matplotlib.pyplot as plt\n",
    "\n",
    "x_values = [0,1,2,3,4,5]\n",
    "squares = [0,1,4,9,16,25]\n",
    "plt.scatter(x_values,squares, s=10, color = \"red\")\n",
    "plt.show()"
   ]
  },
  {
   "cell_type": "markdown",
   "metadata": {
    "slideshow": {
     "slide_type": "slide"
    }
   },
   "source": [
    "**Ejercicio**: Añadir dos puntos más a la gráfica. Cambia el tamaño de los\n",
    "puntos a 20 y el color a `pink`."
   ]
  },
  {
   "cell_type": "code",
   "execution_count": 93,
   "metadata": {
    "slideshow": {
     "slide_type": "slide"
    }
   },
   "outputs": [
    {
     "data": {
      "image/png": "[encoded data removed]",
      "text/plain": [
       "<Figure size 432x288 with 1 Axes>"
      ]
     },
     "metadata": {
      "needs_background": "light"
     },
     "output_type": "display_data"
    }
   ],
   "source": [
    "import matplotlib.pyplot as plt\n",
    "\n",
    "x_values = [0,1,2,3,4,5, 6, 7]\n",
    "squares = [0,1,4,9,16,25, 35, 45]\n",
    "plt.scatter(x_values,squares, s=20, color = \"pink\")\n",
    "plt.show()"
   ]
  },
  {
   "cell_type": "markdown",
   "metadata": {
    "slideshow": {
     "slide_type": "slide"
    }
   },
   "source": [
    "### Histogramas"
   ]
  },
  {
   "cell_type": "markdown",
   "metadata": {},
   "source": [
    "Para los histogramas, usamos la funcion `hist`."
   ]
  },
  {
   "cell_type": "code",
   "execution_count": 1,
   "metadata": {
    "slideshow": {
     "slide_type": "slide"
    }
   },
   "outputs": [
    {
     "data": {
      "image/png": "[encoded data removed]",
      "text/plain": [
       "<Figure size 432x288 with 1 Axes>"
      ]
     },
     "metadata": {
      "needs_background": "light"
     },
     "output_type": "display_data"
    }
   ],
   "source": [
    "import matplotlib.pyplot as plt\n",
    "\n",
    "x = [2,1,6,4,2,4,8,9,4,2,4,10,6,4,5,7,7,3,2,7,5,3,5,9,2,1]\n",
    "plt.hist(x, bins = 8, color='navy', alpha=0.5)\n",
    "plt.show()"
   ]
  },
  {
   "cell_type": "markdown",
   "metadata": {
    "slideshow": {
     "slide_type": "slide"
    }
   },
   "source": [
    "Hemos usado dos parámetros nuevos en este ejemplo:\n",
    "\n",
    "- `bins` - Este argumento es específido de los histogramas y permite\n",
    "al usuario especificar cuantas columnas -y, por tanto, la agrupación\n",
    "a realizar- quiere usar.\n",
    "\n",
    "- `alpha` - Indica el nivel de transparencia de los puntos de datos (en\n",
    "esta caso,columnas)"
   ]
  },
  {
   "cell_type": "markdown",
   "metadata": {
    "slideshow": {
     "slide_type": "slide"
    }
   },
   "source": [
    "**Ejercicio**: Modificar el nivel de transparencia y el número de columnas\n",
    "en el código anterior."
   ]
  },
  {
   "cell_type": "markdown",
   "metadata": {
    "slideshow": {
     "slide_type": "slide"
    }
   },
   "source": [
    "**Miniproyecto**: realizar una simulación de 10000 tiradas de dos dados, y guardar en\n",
    "una lista la suma de los dos dados, para obtener al final 10000 datos.\n",
    "Representar esos datos con un histograma."
   ]
  },
  {
   "cell_type": "code",
   "execution_count": 33,
   "metadata": {
    "slideshow": {
     "slide_type": "slide"
    }
   },
   "outputs": [
    {
     "data": {
      "image/png": "[encoded data removed]",
      "text/plain": [
       "<Figure size 432x288 with 1 Axes>"
      ]
     },
     "metadata": {
      "needs_background": "light"
     },
     "output_type": "display_data"
    }
   ],
   "source": [
    "import random\n",
    "import matplotlib.pyplot as plt\n",
    "\n",
    "def dado():\n",
    "    return random.randint(1,6)\n",
    "\n",
    "def doble_dado():\n",
    "    return dado() + dado()\n",
    "\n",
    "simulacion = [doble_dado() for _ in range(10000)]\n",
    "plt.hist(simulacion, bins=11, color=\"maroon\")\n",
    "plt.show()"
   ]
  },
  {
   "cell_type": "code",
   "execution_count": null,
   "metadata": {
    "slideshow": {
     "slide_type": "slide"
    }
   },
   "outputs": [],
   "source": [
    "# %load simula-dados.py\n",
    "import matplotlib.pyplot as plt\n",
    "import random\n",
    "\n",
    "def dice(faces=6):\n",
    "    return random.randrange(1, faces + 1)\n",
    "\n",
    "data = [dice()+dice() for _ in range(10000)]\n",
    "plt.hist(data, bins = 11, color='brown', alpha=0.8)\n",
    "plt.show()\n"
   ]
  },
  {
   "cell_type": "markdown",
   "metadata": {},
   "source": [
    "### Definir los rangos de los ejes de la gráfica\n",
    "\n",
    "PAra definir el rango de los ejes, usamos la funcion `axis`, pasandole un array con los siguiente cuatro valores:\n",
    "    \n",
    "- valor minimo de x\n",
    "- valor maximo de x\n",
    "- valor minimo de y\n",
    "- valor maximo de y\n",
    "\n",
    "Normalmente la librería calcula estos valores por nosotros, pero a veces nos puede interesar este tipo de control."
   ]
  },
  {
   "cell_type": "code",
   "execution_count": 42,
   "metadata": {
    "slideshow": {
     "slide_type": "slide"
    }
   },
   "outputs": [
    {
     "data": {
      "image/png": "[encoded data removed]",
      "text/plain": [
       "<Figure size 432x288 with 1 Axes>"
      ]
     },
     "metadata": {
      "needs_background": "light"
     },
     "output_type": "display_data"
    }
   ],
   "source": [
    "plt.plot([x**2 for x in range(7)], 'r^--')\n",
    "# plt.axis([-1, 8, -1, 64])\n",
    "plt.show()"
   ]
  },
  {
   "cell_type": "markdown",
   "metadata": {
    "slideshow": {
     "slide_type": "slide"
    }
   },
   "source": [
    "### Usar cadenas de formato para definir marcadores, colores y estilos de línea\n",
    "\n",
    "La función plot tiene tercer parametro opcional que se puede usar para indicar \n",
    "el formato a usar, incluyendo el color, el tipo de linea y el marcador. los\n",
    "posibles valores se respecifican usando una codificación que viene explicada en las \n",
    "siguientes tablas."
   ]
  },
  {
   "cell_type": "markdown",
   "metadata": {
    "slideshow": {
     "slide_type": "slide"
    }
   },
   "source": [
    "El formato por defecto es `'b-'`, que significa una línea (-) azul sólida (b de *blue*).\n",
    "En general el formato sigue el modelo:\n",
    "\n",
    "$$ color + [marcador] + linea $$"
   ]
  },
  {
   "cell_type": "markdown",
   "metadata": {
    "slideshow": {
     "slide_type": "slide"
    }
   },
   "source": [
    "Para los marcadores se usa esta tabla:\n",
    "\n",
    "| caracter  | marcador                |\n",
    "|----------:|-------------------------|\n",
    "| `.`       |   point marker          |\n",
    "| `,`       |   pixel marker          |\n",
    "| `o`       |   circle marker         |\n",
    "| `v`       |   triangle_down marker  |\n",
    "| `^`       |   triangle_up marker    |\n",
    "| `<`       |   triangle_left marker  |\n",
    "| `>`       |   triangle_right marker |\n",
    "| `1`       |   tri_down marker       |\n",
    "| `2`       |   tri_up marker         |\n",
    "| `3`       |   tri_left marker       |\n",
    "| `4`       |   tri_right marker      |\n",
    "| `s`       |   square marker         |\n",
    "| `p`       |   pentagon marker       |\n",
    "| `*`       |   star marker           |\n",
    "| `h`       |   hexagon1 marker       |\n",
    "| `H`       |   hexagon2 marker       |\n",
    "| `+`       |   plus marker           |\n",
    "| `x`       |   x marker              |\n",
    "| `D`       |   diamond marker        |\n",
    "| `d`       |   thin_diamond marker   |\n",
    "| `|`       |   vline marker          |\n",
    "| `_`       |   hline marker          |"
   ]
  },
  {
   "cell_type": "markdown",
   "metadata": {
    "slideshow": {
     "slide_type": "slide"
    }
   },
   "source": [
    "Para los formatos de línea:\n",
    "   \n",
    "| caracter  |   descripción       |\n",
    "|----------:|:--------------------|\n",
    "| `-`       | solid line style    |\n",
    "| `--`      | dashed line style   |\n",
    "| `-.`      | dash-dot line style |\n",
    "| `:`       | dotted line style   |\n",
    "  "
   ]
  },
  {
   "cell_type": "markdown",
   "metadata": {
    "slideshow": {
     "slide_type": "slide"
    }
   },
   "source": [
    "  \n",
    "Y para colores:\n",
    "\n",
    "| caracter  |   color |\n",
    "|----------:|:--------|\n",
    "| `b`       | blue    |\n",
    "| `g`       | green   |\n",
    "| `r`       | red     |\n",
    "| `c`       | cyan    |\n",
    "| `m`       | magenta |\n",
    "| `y`       | yellow  |\n",
    "| `k`       | black   |\n",
    "| `w`       | white   |\n",
    "\n",
    "\n",
    "    "
   ]
  },
  {
   "cell_type": "markdown",
   "metadata": {
    "slideshow": {
     "slide_type": "slide"
    }
   },
   "source": [
    "Algunos ejemplos:\n",
    "\n",
    "| Ejemplo | Explicación               |\n",
    "|--------:|:--------------------------|\n",
    "| `or`  | Circulos rojos              |\n",
    "| `-g`  | Línea verde continua        |\n",
    "| `--`  | Linea discontinua con el color por defecto |\n",
    "| `^k:` | Triángulo negros conectados por una línea de puntos |\n"
   ]
  },
  {
   "cell_type": "markdown",
   "metadata": {
    "slideshow": {
     "slide_type": "slide"
    }
   },
   "source": [
    "**Ejercicio**: Usa el modulo `random` para seleccionar al azar un formato de linea. Elige al azar un marcador, un color y un estilo de linea y genera un formato usando el patron color + marcador + linea. Pinta una grafica tipo plot con el formato."
   ]
  },
  {
   "cell_type": "code",
   "execution_count": 48,
   "metadata": {
    "slideshow": {
     "slide_type": "slide"
    }
   },
   "outputs": [
    {
     "data": {
      "image/png": "[encoded data removed]",
      "text/plain": [
       "<Figure size 432x288 with 1 Axes>"
      ]
     },
     "metadata": {
      "needs_background": "light"
     },
     "output_type": "display_data"
    }
   ],
   "source": [
    "import random\n",
    "import matplotlib.pyplot as plt\n",
    "\n",
    "markers = [\n",
    "    \".\", \",\", \"o\", \"v\", \"^\", \"<\", \n",
    "    \">\", \"1\", \"2\", \"3\", \"4\", \"s\",\n",
    "    \"p\", \"*\", \"h\", \"H\", \"+\", \"x\", \n",
    "    \"D\", \"d\", \"|\", \"_\",\n",
    "    ]\n",
    "lines = [\"-\", \"--\", \"-.\", \":\"]\n",
    "colors = [ \"b\", \"g\", \"r\", \"c\", \"m\", \"y\", \"k\", \"w\" ]\n",
    "\n",
    "line_format = random.choice(colors) + random.choice(markers) + random.choice(lines)\n",
    "\n",
    "plt.plot([0, 1, 4, 9, 16, 25, 36], line_format)\n",
    "plt.show()"
   ]
  },
  {
   "cell_type": "markdown",
   "metadata": {
    "slideshow": {
     "slide_type": "slide"
    }
   },
   "source": [
    "### Trabajar con texto\n",
    "\n",
    "Se puede usar la función `text` para añadir texto en cualquier posición que queramos del gráfico. Ademas, tenemos las funciones `xlabel`, `ylabel` y `title` para describir nuestras gráficas.\n"
   ]
  },
  {
   "cell_type": "markdown",
   "metadata": {
    "slideshow": {
     "slide_type": "slide"
    }
   },
   "source": [
    "$$ y=sin(x^2)\\cdot x $$"
   ]
  },
  {
   "cell_type": "code",
   "execution_count": 64,
   "metadata": {
    "slideshow": {
     "slide_type": "slide"
    }
   },
   "outputs": [
    {
     "data": {
      "image/png": "[encoded data removed]",
      "text/plain": [
       "<Figure size 432x288 with 1 Axes>"
      ]
     },
     "metadata": {
      "needs_background": "light"
     },
     "output_type": "display_data"
    }
   ],
   "source": [
    "import math\n",
    "import matplotlib.pyplot as plt\n",
    "\n",
    "def y(x):\n",
    "    return math.sin(x**2) * x\n",
    "\n",
    "X = list(x/10. for x in range(-48, 49))\n",
    "y = [y(_x) for _x in X]\n",
    "\n",
    "plt.plot(X, y)\n",
    "plt.title(r\"$y=sin(x^2)\\cdot x$\")\n",
    "plt.xlabel(\"x\")\n",
    "plt.ylabel(\"y\")\n",
    "plt.text(-0.5, 0.5, \"(0,0)\")\n",
    "plt.show()"
   ]
  },
  {
   "cell_type": "markdown",
   "metadata": {
    "slideshow": {
     "slide_type": "slide"
    }
   },
   "source": [
    "**Miniproyecto**: Analizar el arbol de ficheros de un directorio (esto es, todos los ficheros dento de una carpeta o directorio, sin importar su nivel de profundidad. Llevar una cuenta de cada tipo de fichero que termine en una de las siguientes extensiones: `.pdf`, `.txt`, `.doc`, `.mp4`, `.xls`, `.py` y `.ipynb`. Generar un grafico de barras horizontal que represente el numero de archivos encontrados de cada tipo.\n"
   ]
  },
  {
   "cell_type": "code",
   "execution_count": 101,
   "metadata": {
    "scrolled": true
   },
   "outputs": [
    {
     "data": {
      "image/png": "[encoded data removed]",
      "text/plain": [
       "<Figure size 432x288 with 1 Axes>"
      ]
     },
     "metadata": {
      "needs_background": "light"
     },
     "output_type": "display_data"
    }
   ],
   "source": [
    "import os\n",
    "import collections\n",
    "\n",
    "import matplotlib.pyplot as plt\n",
    "\n",
    "EXTENSIONES = [\n",
    "    '.pdf', '.txt', '.doc', '.mp4',\n",
    "    '.xls', '.py', '.ipynb',\n",
    "    '.csv',\n",
    "    '.rst',\n",
    "    '.svg',\n",
    "    ]\n",
    "\n",
    "def obtener_extension(filename):\n",
    "    _, ext = os.path.splitext(filename)\n",
    "    if ext in EXTENSIONES:\n",
    "        return ext\n",
    "    else:\n",
    "        return ''\n",
    "    \n",
    "assert obtener_extension(\"arrow.ipynb\") == \".ipynb\"\n",
    "assert obtener_extension(\"arrow.avi\") == \"\"\n",
    "\n",
    "counter = collections.Counter()\n",
    "for (current_dir, list_dirs, list_filenames) in os.walk('..'):\n",
    "    for filename in list_filenames:\n",
    "        ext = obtener_extension(filename)\n",
    "        if ext:\n",
    "            counter[ext] += 1\n",
    "        else:\n",
    "            counter['otros'] += 1\n",
    "\n",
    "plt.barh(list(counter.keys()), counter.values())\n",
    "plt.show()\n"
   ]
  },
  {
   "cell_type": "code",
   "execution_count": 69,
   "metadata": {},
   "outputs": [
    {
     "name": "stdout",
     "output_type": "stream",
     "text": [
      "\u001b[01;34m..\u001b[00m\n",
      "├── \u001b[01;34marrow\u001b[00m\n",
      "│   ├── arrow.ipynb\n",
      "│   ├── arrow.rst\n",
      "│   ├── dias-hasta-navidad.py\n",
      "│   ├── diferencia-horaria-turquia.py\n",
      "│   ├── diferencia-madrid-berlin-roma.py\n",
      "│   ├── fecha-futura.py\n",
      "│   └── viernes-trece.py\n",
      "├── \u001b[01;34mfire\u001b[00m\n",
      "│   ├── 01-hello-world.py\n",
      "│   ├── 02-simple-calc.py\n",
      "│   ├── 03-simple-calc.py\n",
      "│   ├── 04-simple-calc.py\n",
      "│   ├── airport-codes.csv\n",
      "│   ├── arguments.py\n",
      "│   ├── canvas.py\n",
      "│   ├── find-airport.py\n",
      "│   ├── fire.ipynb\n",
      "│   └── iata.csv\n",
      "├── \u001b[01;34mjson\u001b[00m\n",
      "│   └── json.md\n",
      "├── \u001b[01;34mmatplotlib\u001b[00m\n",
      "│   ├── formatos.py\n",
      "│   ├── matplotlib.ipynb\n",
      "│   ├── simula-dados.py\n",
      "│   └── tree-size.py\n",
      "├── \u001b[01;34mnumpy\u001b[00m\n",
      "│   ├── numpy.ipynb\n",
      "│   └── q.ipynb\n",
      "├── \u001b[01;34mpandas\u001b[00m\n",
      "│   ├── \u001b[01;35marray-vs-pandas-series.svg\u001b[00m\n",
      "│   └── pandas.ipynb\n",
      "├── \u001b[01;34mpillow\u001b[00m\n",
      "│   ├── \u001b[01;35mHSV.png\u001b[00m\n",
      "│   ├── incredibles.webp\n",
      "│   ├── \u001b[01;35mleon.jpg\u001b[00m\n",
      "│   ├── pillow.ipynb\n",
      "│   └── pillow.md\n",
      "└── \u001b[01;34mrequests\u001b[00m\n",
      "    ├── check_urls.py\n",
      "    ├── check_urls_with_head_and_redirect.py\n",
      "    ├── check_urls_with_head.py\n",
      "    ├── requests.md\n",
      "    └── requests.rst\n",
      "\n",
      "8 directories, 36 files\n"
     ]
    }
   ],
   "source": [
    "!tree .."
   ]
  },
  {
   "cell_type": "code",
   "execution_count": null,
   "metadata": {},
   "outputs": [],
   "source": [
    "# %load tree-size.py\n",
    "import os\n",
    "import collections\n",
    "\n",
    "import matplotlib.pyplot as plt\n",
    "\n",
    "FILETYPES = [\n",
    "    \".pdf\",\n",
    "    \".txt\",\n",
    "    \".doc\",\n",
    "    \".mp4\",\n",
    "    \".xls\",\n",
    "    \".py\",\n",
    "    \"ipynb\",\n",
    "]\n",
    "\n",
    "counter = collections.Counter()\n",
    "sizes = collections.Counter()\n",
    "home = os.path.expanduser(\"~\") + \"/Dropbox\"\n",
    "for (basedir, dirnames, filenames) in os.walk(home):\n",
    "    for filename in filenames:\n",
    "        _, ext = os.path.splitext(filename)\n",
    "        ext = ext.lower()\n",
    "        if ext in FILETYPES:\n",
    "            counter[ext] += 1\n",
    "\n",
    "labels = list(counter.keys())\n",
    "plt.barh(labels, counter.values(), color =\"coral\", alpha=0.3)\n",
    "plt.show()\n",
    "\n"
   ]
  },
  {
   "cell_type": "markdown",
   "metadata": {},
   "source": [
    "### Enlaces interesantes\n",
    "\n",
    "- [Pyplot tutorial](https://matplotlib.org/tutorials/introductory/pyplot.html)\n",
    "- [show origin axis (x,y) in matplotlib plot](https://stackoverflow.com/questions/25689238/show-origin-axis-x-y-in-matplotlib-plot)"
   ]
  },
  {
   "cell_type": "code",
   "execution_count": null,
   "metadata": {},
   "outputs": [],
   "source": []
  }
 ],
 "metadata": {
  "celltoolbar": "Slideshow",
  "kernelspec": {
   "display_name": "Python 3",
   "language": "python",
   "name": "python3"
  },
  "language_info": {
   "codemirror_mode": {
    "name": "ipython",
    "version": 3
   },
   "file_extension": ".py",
   "mimetype": "text/x-python",
   "name": "python",
   "nbconvert_exporter": "python",
   "pygments_lexer": "ipython3",
   "version": "3.7.7"
  }
 },
 "nbformat": 4,
 "nbformat_minor": 4
}
