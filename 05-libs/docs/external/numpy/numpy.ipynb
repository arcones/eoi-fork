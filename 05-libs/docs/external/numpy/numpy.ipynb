{
 "cells": [
  {
   "cell_type": "markdown",
   "metadata": {
    "slideshow": {
     "slide_type": "slide"
    }
   },
   "source": [
    "## La libreria Numpy \n",
    "\n",
    "El nombre **numpy** vienen de _Numerical Python_. Es una librería de software libre que permite a Python trabajar con vectores y matrices de forma muy oficiente. Entro otras cosas, el almacenamiento y el acceso es muy rápido, y permite operaciones vectorizadas, acceso por nomemclarura de slices y selección mediante vectores booleanos."
   ]
  },
  {
   "cell_type": "markdown",
   "metadata": {
    "slideshow": {
     "slide_type": "slide"
    }
   },
   "source": [
    "### Instalar numpy\n",
    "\n",
    "Se puede instalar con pip"
   ]
  },
  {
   "cell_type": "code",
   "execution_count": 1,
   "metadata": {
    "slideshow": {
     "slide_type": "slide"
    }
   },
   "outputs": [
    {
     "name": "stdout",
     "output_type": "stream",
     "text": [
      "Requirement already satisfied: numpy in /home/jileon/.virtualenvs/eoi/lib/python3.8/site-packages (1.19.2)\n",
      "Note: you may need to restart the kernel to use updated packages.\n"
     ]
    }
   ],
   "source": [
    "pip install numpy"
   ]
  },
  {
   "cell_type": "markdown",
   "metadata": {
    "slideshow": {
     "slide_type": "slide"
    }
   },
   "source": [
    "A la hora de importar numpy es muy normal, como con matplotlib, usar la siguiente forma abreviada:\n",
    "    "
   ]
  },
  {
   "cell_type": "code",
   "execution_count": 2,
   "metadata": {
    "slideshow": {
     "slide_type": "slide"
    }
   },
   "outputs": [],
   "source": [
    "import numpy as np"
   ]
  },
  {
   "cell_type": "markdown",
   "metadata": {
    "slideshow": {
     "slide_type": "slide"
    }
   },
   "source": [
    "### Arrays en numpy\n",
    "\n",
    "Una de las razones para la mejor optimización de numpy se consigue porque los array solo adminten un determinado tipo de datos, no son tan versátiles como las listas o conjuntos de Python, que aceptan cualquier clase de elemento. Además, el tipo de dato esta definido muy rigurosamente. Podemos definir el tipo cuando creamos el array o dejar que numpy lo infiera a partir de los datos que le damos. Si son todo enteros, por ejemplo, seguramante creará un array de _enteros de 64 bits_."
   ]
  },
  {
   "cell_type": "markdown",
   "metadata": {
    "slideshow": {
     "slide_type": "slide"
    }
   },
   "source": [
    "Podemos crear un array a partir de cualquier secuencia homogenea de valores Python usando la función `array`. Es muy habitual usar una lista:"
   ]
  },
  {
   "cell_type": "code",
   "execution_count": 3,
   "metadata": {
    "slideshow": {
     "slide_type": "slide"
    }
   },
   "outputs": [
    {
     "name": "stdout",
     "output_type": "stream",
     "text": [
      "[1 2 3 4] <class 'numpy.ndarray'>\n"
     ]
    }
   ],
   "source": [
    "import numpy as np\n",
    "\n",
    "a = np.array([1, 2, 3, 4])\n",
    "print(a, type(a))"
   ]
  },
  {
   "cell_type": "markdown",
   "metadata": {
    "slideshow": {
     "slide_type": "slide"
    }
   },
   "source": [
    "Pro vale cualquier secuencia:"
   ]
  },
  {
   "cell_type": "code",
   "execution_count": 4,
   "metadata": {
    "slideshow": {
     "slide_type": "slide"
    }
   },
   "outputs": [
    {
     "name": "stdout",
     "output_type": "stream",
     "text": [
      "[ 0  1  2  3  4  5  6  7  8  9 10 11 12 13 14 15 16 17 18 19 20 21 22 23]\n"
     ]
    }
   ],
   "source": [
    "import numpy as np\n",
    "\n",
    "a = np.array(range(24))\n",
    "print(a)"
   ]
  },
  {
   "cell_type": "markdown",
   "metadata": {
    "slideshow": {
     "slide_type": "slide"
    }
   },
   "source": [
    "Podemos crear una matriz usando una lista de listas:"
   ]
  },
  {
   "cell_type": "code",
   "execution_count": 5,
   "metadata": {
    "slideshow": {
     "slide_type": "slide"
    }
   },
   "outputs": [
    {
     "name": "stdout",
     "output_type": "stream",
     "text": [
      "[[1.  1.1 1.2 1.3]\n",
      " [2.  2.1 2.2 2.3]\n",
      " [3.  3.1 3.2 3.3]]\n"
     ]
    }
   ],
   "source": [
    "import numpy as np\n",
    "\n",
    "b = np.array([\n",
    "    [1, 1.1, 1.2, 1.3],\n",
    "    [2, 2.1, 2.2, 2.3],\n",
    "    [3, 3.1, 3.2, 3.3],\n",
    "])\n",
    "print(b)"
   ]
  },
  {
   "cell_type": "markdown",
   "metadata": {
    "slideshow": {
     "slide_type": "slide"
    }
   },
   "source": [
    "Los arrays tienen un atributo que define su tipo, `dtype` y otro que define su forma: `shape`:"
   ]
  },
  {
   "cell_type": "code",
   "execution_count": 6,
   "metadata": {
    "slideshow": {
     "slide_type": "slide"
    }
   },
   "outputs": [
    {
     "data": {
      "text/plain": [
       "(3, 4)"
      ]
     },
     "execution_count": 6,
     "metadata": {},
     "output_type": "execute_result"
    }
   ],
   "source": [
    "import numpy as np\n",
    "\n",
    "b = np.array([\n",
    "    [1, 1.1, 1.2, 1.3],\n",
    "    [2, 2.1, 2.2, 2.3],\n",
    "    [3, 3.1, 3.2, 3.3],\n",
    "])\n",
    "\n",
    "b.shape"
   ]
  },
  {
   "cell_type": "code",
   "execution_count": 7,
   "metadata": {
    "slideshow": {
     "slide_type": "slide"
    }
   },
   "outputs": [
    {
     "data": {
      "text/plain": [
       "dtype('float64')"
      ]
     },
     "execution_count": 7,
     "metadata": {},
     "output_type": "execute_result"
    }
   ],
   "source": [
    "import numpy as np\n",
    "\n",
    "b = np.array([\n",
    "    [1, 1.1, 1.2, 1.3],\n",
    "    [2, 2.1, 2.2, 2.3],\n",
    "    [3, 3.1, 3.2, 3.3],\n",
    "])\n",
    "\n",
    "b.dtype"
   ]
  },
  {
   "cell_type": "markdown",
   "metadata": {
    "slideshow": {
     "slide_type": "slide"
    }
   },
   "source": [
    "Podemos usar el método `reshape` para cambiar las dimensiones de una array; esto puede ser útil para crear arrays grandes a partir de una secuencia lineal:"
   ]
  },
  {
   "cell_type": "code",
   "execution_count": 8,
   "metadata": {
    "slideshow": {
     "slide_type": "slide"
    }
   },
   "outputs": [
    {
     "data": {
      "text/plain": [
       "array([[ 0,  1,  2,  3],\n",
       "       [ 4,  5,  6,  7],\n",
       "       [ 8,  9, 10, 11],\n",
       "       [12, 13, 14, 15]])"
      ]
     },
     "execution_count": 8,
     "metadata": {},
     "output_type": "execute_result"
    }
   ],
   "source": [
    "import numpy as np\n",
    "\n",
    "b = np.array(range(16)).reshape((4, 4))\n",
    "b"
   ]
  },
  {
   "cell_type": "code",
   "execution_count": 9,
   "metadata": {
    "slideshow": {
     "slide_type": "slide"
    }
   },
   "outputs": [
    {
     "name": "stdout",
     "output_type": "stream",
     "text": [
      "(3, 4)\n",
      "(1, 12)\n"
     ]
    }
   ],
   "source": [
    "b = np.array([\n",
    "    [1, 1.1, 1.2, 1.3],\n",
    "    [2, 2.1, 2.2, 2.3],\n",
    "    [3, 3.1, 3.2, 3.3],\n",
    "])\n",
    "print(b.shape)\n",
    "b = b.reshape((1,12))\n",
    "print(b.shape)"
   ]
  },
  {
   "cell_type": "markdown",
   "metadata": {
    "slideshow": {
     "slide_type": "slide"
    }
   },
   "source": [
    "**Nota** : Obsérvese que el parámetro que se le pasa a `reshape` es una tupla."
   ]
  },
  {
   "cell_type": "markdown",
   "metadata": {
    "slideshow": {
     "slide_type": "slide"
    }
   },
   "source": [
    "Una forma muy eficiente de crear matrices es la función `zeros` para crear vectores o matrices con todos los valores a cero:"
   ]
  },
  {
   "cell_type": "code",
   "execution_count": 10,
   "metadata": {
    "scrolled": true,
    "slideshow": {
     "slide_type": "slide"
    }
   },
   "outputs": [
    {
     "data": {
      "text/plain": [
       "array([[0.],\n",
       "       [0.],\n",
       "       [0.],\n",
       "       [0.],\n",
       "       [0.],\n",
       "       [0.],\n",
       "       [0.],\n",
       "       [0.],\n",
       "       [0.],\n",
       "       [0.],\n",
       "       [0.],\n",
       "       [0.],\n",
       "       [0.],\n",
       "       [0.],\n",
       "       [0.],\n",
       "       [0.]])"
      ]
     },
     "execution_count": 10,
     "metadata": {},
     "output_type": "execute_result"
    }
   ],
   "source": [
    "import numpy as np\n",
    "\n",
    "z = np.zeros((4,4))\n",
    "z = z.reshape((16, 1))\n",
    "z"
   ]
  },
  {
   "cell_type": "markdown",
   "metadata": {
    "slideshow": {
     "slide_type": "slide"
    }
   },
   "source": [
    "**Ejercicio**: Convierte la matriz del ejemplo anterior, de 4x4, a un vector de 1x16 (o 16x1, lo que se prefiera)"
   ]
  },
  {
   "cell_type": "markdown",
   "metadata": {
    "slideshow": {
     "slide_type": "slide"
    }
   },
   "source": [
    "La función `eye` permite crear una matriz cuadrada con la diagonal a 1 y el resto de valores a 0. Solo hay que pasarle un dato, ya que al ser cuadrada el número de columnas es igual el de filas."
   ]
  },
  {
   "cell_type": "code",
   "execution_count": 11,
   "metadata": {
    "slideshow": {
     "slide_type": "slide"
    }
   },
   "outputs": [
    {
     "name": "stdout",
     "output_type": "stream",
     "text": [
      "[[1. 0. 0. 0.]\n",
      " [0. 1. 0. 0.]\n",
      " [0. 0. 1. 0.]\n",
      " [0. 0. 0. 1.]]\n"
     ]
    }
   ],
   "source": [
    "import numpy as np\n",
    "\n",
    "i = np.eye(4)\n",
    "print(i)"
   ]
  },
  {
   "cell_type": "markdown",
   "metadata": {
    "slideshow": {
     "slide_type": "slide"
    }
   },
   "source": [
    "También tenemos la función `arange`, que funciona como el range normal, pero vectorizado (Veremos que significa esto más adelante):"
   ]
  },
  {
   "cell_type": "code",
   "execution_count": 12,
   "metadata": {
    "scrolled": true,
    "slideshow": {
     "slide_type": "slide"
    }
   },
   "outputs": [
    {
     "data": {
      "text/plain": [
       "array([ 1,  6, 11, 16, 21, 26, 31])"
      ]
     },
     "execution_count": 12,
     "metadata": {},
     "output_type": "execute_result"
    }
   ],
   "source": [
    "import numpy as np\n",
    "\n",
    "np.arange(1, 36, 5)"
   ]
  },
  {
   "cell_type": "code",
   "execution_count": 13,
   "metadata": {
    "scrolled": true,
    "slideshow": {
     "slide_type": "slide"
    }
   },
   "outputs": [
    {
     "data": {
      "text/plain": [
       "array([1, 3, 5, 7, 9])"
      ]
     },
     "execution_count": 13,
     "metadata": {},
     "output_type": "execute_result"
    }
   ],
   "source": [
    "import numpy as np\n",
    "\n",
    "np.arange(1, 11, 2)"
   ]
  },
  {
   "cell_type": "code",
   "execution_count": 14,
   "metadata": {
    "slideshow": {
     "slide_type": "slide"
    }
   },
   "outputs": [
    {
     "data": {
      "text/plain": [
       "array([[ 0,  1,  2,  3,  4,  5],\n",
       "       [ 6,  7,  8,  9, 10, 11],\n",
       "       [12, 13, 14, 15, 16, 17],\n",
       "       [18, 19, 20, 21, 22, 23],\n",
       "       [24, 25, 26, 27, 28, 29],\n",
       "       [30, 31, 32, 33, 34, 35]])"
      ]
     },
     "execution_count": 14,
     "metadata": {},
     "output_type": "execute_result"
    }
   ],
   "source": [
    "import numpy as np\n",
    "\n",
    "np.arange(36).reshape((6,6))"
   ]
  },
  {
   "cell_type": "markdown",
   "metadata": {
    "slideshow": {
     "slide_type": "slide"
    }
   },
   "source": [
    "La función `linspace` es similar a range, pero en vez de aceptar como tercer parámetro un paso, se le indica el número de valores que queremos en ese intervalo, y el último valor indicado tamnbién está dentro del rango:"
   ]
  },
  {
   "cell_type": "code",
   "execution_count": 15,
   "metadata": {
    "slideshow": {
     "slide_type": "slide"
    }
   },
   "outputs": [
    {
     "data": {
      "text/plain": [
       "array([2.        , 2.07070707, 2.14141414, 2.21212121, 2.28282828,\n",
       "       2.35353535, 2.42424242, 2.49494949, 2.56565657, 2.63636364,\n",
       "       2.70707071, 2.77777778, 2.84848485, 2.91919192, 2.98989899,\n",
       "       3.06060606, 3.13131313, 3.2020202 , 3.27272727, 3.34343434,\n",
       "       3.41414141, 3.48484848, 3.55555556, 3.62626263, 3.6969697 ,\n",
       "       3.76767677, 3.83838384, 3.90909091, 3.97979798, 4.05050505,\n",
       "       4.12121212, 4.19191919, 4.26262626, 4.33333333, 4.4040404 ,\n",
       "       4.47474747, 4.54545455, 4.61616162, 4.68686869, 4.75757576,\n",
       "       4.82828283, 4.8989899 , 4.96969697, 5.04040404, 5.11111111,\n",
       "       5.18181818, 5.25252525, 5.32323232, 5.39393939, 5.46464646,\n",
       "       5.53535354, 5.60606061, 5.67676768, 5.74747475, 5.81818182,\n",
       "       5.88888889, 5.95959596, 6.03030303, 6.1010101 , 6.17171717,\n",
       "       6.24242424, 6.31313131, 6.38383838, 6.45454545, 6.52525253,\n",
       "       6.5959596 , 6.66666667, 6.73737374, 6.80808081, 6.87878788,\n",
       "       6.94949495, 7.02020202, 7.09090909, 7.16161616, 7.23232323,\n",
       "       7.3030303 , 7.37373737, 7.44444444, 7.51515152, 7.58585859,\n",
       "       7.65656566, 7.72727273, 7.7979798 , 7.86868687, 7.93939394,\n",
       "       8.01010101, 8.08080808, 8.15151515, 8.22222222, 8.29292929,\n",
       "       8.36363636, 8.43434343, 8.50505051, 8.57575758, 8.64646465,\n",
       "       8.71717172, 8.78787879, 8.85858586, 8.92929293, 9.        ])"
      ]
     },
     "execution_count": 15,
     "metadata": {},
     "output_type": "execute_result"
    }
   ],
   "source": [
    "import numpy as np\n",
    "\n",
    "np.linspace(2, 9, 100)"
   ]
  },
  {
   "cell_type": "markdown",
   "metadata": {
    "slideshow": {
     "slide_type": "slide"
    }
   },
   "source": [
    "**Ejercicio**: Usar numpy para representar la funcion seno (Puedes usar la funcion `math.sin`.) Crea un espacio lineal entre -9 y 9 y luego calcula un vector con valores de sen(x) para tener los valores de y. Luego usa plot para representar la funcion\n",
    "\n"
   ]
  },
  {
   "cell_type": "code",
   "execution_count": 16,
   "metadata": {
    "scrolled": true,
    "slideshow": {
     "slide_type": "slide"
    }
   },
   "outputs": [
    {
     "data": {
      "text/plain": [
       "[<matplotlib.lines.Line2D at 0x7fed45ce7b80>]"
      ]
     },
     "execution_count": 16,
     "metadata": {},
     "output_type": "execute_result"
    },
    {
     "data": {
      "image/png": "[encoded data removed]",
      "text/plain": [
       "<Figure size 432x288 with 1 Axes>"
      ]
     },
     "metadata": {
      "needs_background": "light"
     },
     "output_type": "display_data"
    }
   ],
   "source": [
    "import math\n",
    "import matplotlib.pyplot as plt\n",
    "import numpy as np\n",
    "\n",
    "X = np.linspace(-9, 9, 200)\n",
    "\n",
    "Y = np.array([math.sin(x) for x in X]) # Tu codigo aqui\n",
    "\n",
    "plt.plot(X, Y)"
   ]
  },
  {
   "cell_type": "markdown",
   "metadata": {
    "slideshow": {
     "slide_type": "slide"
    }
   },
   "source": [
    "Esto funciona, pero no es optimo para numpy.\n",
    "\n",
    "Estamos haciendo un `for` para calcular\n",
    "cada valor del $sen(x)$.\n",
    "\n",
    "Pero numpy tiene incoporada en su funcionalida\n",
    "el paralelismo. Eso significa que, desde nuestra perspectiva, hace todas las\n",
    "operaciones a la vez.\n",
    "\n",
    "Si tenemos dos arrays numpy como\n"
   ]
  },
  {
   "cell_type": "code",
   "execution_count": 17,
   "metadata": {
    "slideshow": {
     "slide_type": "slide"
    }
   },
   "outputs": [
    {
     "data": {
      "text/plain": [
       "(array([0, 1, 2, 3, 4, 5, 6, 7, 8, 9]),\n",
       " array([-5, -4, -3, -2, -1,  0,  1,  2,  3,  4]))"
      ]
     },
     "execution_count": 17,
     "metadata": {},
     "output_type": "execute_result"
    }
   ],
   "source": [
    "import numpy as np\n",
    "\n",
    "A = np.array(range(0, 10))\n",
    "B = np.array(range(-5, 5))\n",
    "\n",
    "A, B"
   ]
  },
  {
   "cell_type": "markdown",
   "metadata": {
    "slideshow": {
     "slide_type": "slide"
    }
   },
   "source": [
    "Podemos sumarlos desde python asi:"
   ]
  },
  {
   "cell_type": "code",
   "execution_count": 18,
   "metadata": {
    "slideshow": {
     "slide_type": "slide"
    }
   },
   "outputs": [
    {
     "data": {
      "text/plain": [
       "[-5, -3, -1, 1, 3, 5, 7, 9, 11, 13]"
      ]
     },
     "execution_count": 18,
     "metadata": {},
     "output_type": "execute_result"
    }
   ],
   "source": [
    "C = [a + b for a, b in zip(A, B)]\n",
    "C"
   ]
  },
  {
   "cell_type": "markdown",
   "metadata": {
    "slideshow": {
     "slide_type": "slide"
    }
   },
   "source": [
    "pero es mucho más sencillo hacer:"
   ]
  },
  {
   "cell_type": "code",
   "execution_count": 19,
   "metadata": {
    "slideshow": {
     "slide_type": "slide"
    }
   },
   "outputs": [
    {
     "data": {
      "text/plain": [
       "array([-5, -3, -1,  1,  3,  5,  7,  9, 11, 13])"
      ]
     },
     "execution_count": 19,
     "metadata": {},
     "output_type": "execute_result"
    }
   ],
   "source": [
    "C = A + B\n",
    "C"
   ]
  },
  {
   "cell_type": "markdown",
   "metadata": {
    "slideshow": {
     "slide_type": "slide"
    }
   },
   "source": [
    "Las ventajas de hacerlo asi son varias:\n",
    "\n",
    "- Es mas sencilla de escribir y de leer\n",
    "\n",
    "- Las operaciones se hacen internamente en paralelo, eso significa que si tienen un core 8, se haran 8 sumas a la vez.\n",
    "\n",
    "- La salida es un array de numpy, no una lista de p\n",
    "Python"
   ]
  },
  {
   "cell_type": "markdown",
   "metadata": {
    "slideshow": {
     "slide_type": "slide"
    }
   },
   "source": [
    "En el caso anterior, que usamos la funcion `sin` del modulo `math`, no podemos usarla directamente, pero numpy tiene \n",
    "funciones paralelas equivalentes, en este coso `numpy.sin`."
   ]
  },
  {
   "cell_type": "code",
   "execution_count": 20,
   "metadata": {
    "slideshow": {
     "slide_type": "slide"
    }
   },
   "outputs": [
    {
     "data": {
      "text/plain": [
       "[<matplotlib.lines.Line2D at 0x7fed45c59c10>]"
      ]
     },
     "execution_count": 20,
     "metadata": {},
     "output_type": "execute_result"
    },
    {
     "data": {
      "image/png": "[encoded data removed]",
      "text/plain": [
       "<Figure size 432x288 with 1 Axes>"
      ]
     },
     "metadata": {
      "needs_background": "light"
     },
     "output_type": "display_data"
    }
   ],
   "source": [
    "\n",
    "import matplotlib.pyplot as plt\n",
    "import numpy as np\n",
    "\n",
    "X = np.linspace(-9, 9, 200)\n",
    "\n",
    "Y = np.sin(X) * X**2 \n",
    "\n",
    "plt.plot(X, Y)"
   ]
  },
  {
   "cell_type": "markdown",
   "metadata": {
    "slideshow": {
     "slide_type": "slide"
    }
   },
   "source": [
    "**Ejercicio**: Representa $y = sin(x)x^2$"
   ]
  },
  {
   "cell_type": "markdown",
   "metadata": {
    "slideshow": {
     "slide_type": "slide"
    }
   },
   "source": [
    "### Otras ventajas de los arrays de numpy"
   ]
  },
  {
   "cell_type": "markdown",
   "metadata": {
    "slideshow": {
     "slide_type": "slide"
    }
   },
   "source": [
    "#### Operaciones vectorizadas\n",
    "\n",
    "Una operación vectorizada es una una técnica que consiste en aplicar una misma operación a un array (o a parte de un array) sin necesidad de especificar bucles. Como este se implementean en  C y tiene acceso inmediato a los datos el rendimiento se eleva en varios ordenes de magnitud. Además, el código resultante es más corto y se entiende mejor.\n",
    "\n",
    "Por ejemplo, vamos a calcular lo que lleva calcular el cubo de una serie de números, haciendlo nativamente en Python o usando Nunpy:"
   ]
  },
  {
   "cell_type": "markdown",
   "metadata": {
    "slideshow": {
     "slide_type": "slide"
    }
   },
   "source": [
    "Primero sin numpy."
   ]
  },
  {
   "cell_type": "code",
   "execution_count": 21,
   "metadata": {
    "slideshow": {
     "slide_type": "slide"
    }
   },
   "outputs": [
    {
     "name": "stdout",
     "output_type": "stream",
     "text": [
      "1.65 s ± 50.9 ms per loop (mean ± std. dev. of 7 runs, 1 loop each)\n"
     ]
    }
   ],
   "source": [
    "%%timeit\n",
    "\n",
    "import random\n",
    "\n",
    "n1 = (random.random() for i in range(10000000))\n",
    "c1 = [x**3 for x in n1]"
   ]
  },
  {
   "cell_type": "markdown",
   "metadata": {
    "slideshow": {
     "slide_type": "slide"
    }
   },
   "source": [
    "Usando numpy, podemos usar `numpy.random.rand` para crear el array, y luego simplemente lo elevamos al cubo:"
   ]
  },
  {
   "cell_type": "code",
   "execution_count": 22,
   "metadata": {
    "slideshow": {
     "slide_type": "slide"
    }
   },
   "outputs": [
    {
     "name": "stdout",
     "output_type": "stream",
     "text": [
      "268 ms ± 5.38 ms per loop (mean ± std. dev. of 7 runs, 1 loop each)\n"
     ]
    }
   ],
   "source": [
    "%%timeit\n",
    "\n",
    "import numpy as np\n",
    "\n",
    "n2 = np.random.rand(10000000)\n",
    "c2 = n2 ** 3"
   ]
  },
  {
   "cell_type": "markdown",
   "metadata": {
    "slideshow": {
     "slide_type": "slide"
    }
   },
   "source": [
    "En resumen: Siempre que puedas, usa operaciones vectorizables. Si estás trabajando con arrays de numpy y estas haciendo un for en algún lado, estás haciendo algo mal."
   ]
  },
  {
   "cell_type": "markdown",
   "metadata": {
    "slideshow": {
     "slide_type": "slide"
    }
   },
   "source": [
    "#### Selección booleana\n",
    "\n",
    "Podemos hacer un filtrado de filas dentro de un array de numpy usando un vector de booleanos; las filas en las que haya un verdadero en el la posicción del vector booleano equivalente pasan el filtro. En caso contrario no. Mejor vamoslo con un ejemplo:"
   ]
  },
  {
   "cell_type": "markdown",
   "metadata": {
    "slideshow": {
     "slide_type": "slide"
    }
   },
   "source": [
    "Podemos crear un array de numpy a partir de la función `array`, pasándole cualquier secuencia. Es muy habitual usar una lista:"
   ]
  },
  {
   "cell_type": "code",
   "execution_count": 23,
   "metadata": {
    "slideshow": {
     "slide_type": "slide"
    }
   },
   "outputs": [
    {
     "name": "stdout",
     "output_type": "stream",
     "text": [
      "[1 2 3 4]\n"
     ]
    }
   ],
   "source": [
    "a = np.array([1,2,3,4])\n",
    "print(a)"
   ]
  },
  {
   "cell_type": "markdown",
   "metadata": {
    "slideshow": {
     "slide_type": "slide"
    }
   },
   "source": [
    "Si queremos quedarnos solo con la primera y tercera columnas, podemos filtrar usando un vector de booleanos:"
   ]
  },
  {
   "cell_type": "code",
   "execution_count": 24,
   "metadata": {
    "slideshow": {
     "slide_type": "slide"
    }
   },
   "outputs": [
    {
     "name": "stdout",
     "output_type": "stream",
     "text": [
      "[1 3 4]\n"
     ]
    }
   ],
   "source": [
    "a = np.array([1,2,3,4])\n",
    "f = np.array([True, False, True, True])\n",
    "print(a[f])"
   ]
  },
  {
   "cell_type": "markdown",
   "metadata": {
    "slideshow": {
     "slide_type": "slide"
    }
   },
   "source": [
    "Lo que es interensate es que podemos obtener este tipo de vectores haciendo comparaciones entre arrays. Por ejemplo, supongamos que tennemos el siguiente array:"
   ]
  },
  {
   "cell_type": "code",
   "execution_count": 25,
   "metadata": {
    "slideshow": {
     "slide_type": "slide"
    }
   },
   "outputs": [],
   "source": [
    "l = np.array([-23, 144, 85, 36, -2, 0, 7, 92])"
   ]
  },
  {
   "cell_type": "markdown",
   "metadata": {
    "slideshow": {
     "slide_type": "slide"
    }
   },
   "source": [
    "Podemos hacer la siguiente comparación: `l < 0`. En principio esta comparación no tiene ninguna lógica; estamos comparando un array de valores con un solo número. Y es verdad que con listas nativas de Python no tienen sentido, de hecho, daria un error."
   ]
  },
  {
   "cell_type": "code",
   "execution_count": 26,
   "metadata": {
    "slideshow": {
     "slide_type": "slide"
    }
   },
   "outputs": [
    {
     "data": {
      "text/plain": [
       "array([144,  36,  -2,   0,  92,   0])"
      ]
     },
     "execution_count": 26,
     "metadata": {},
     "output_type": "execute_result"
    }
   ],
   "source": [
    "l = np.array([-23, 144, 85, 36, -2, 0, 7, 92, 0])\n",
    "l2 = l[l % 2 == 0]\n",
    "l2"
   ]
  },
  {
   "cell_type": "markdown",
   "metadata": {
    "slideshow": {
     "slide_type": "slide"
    }
   },
   "source": [
    "pero las clases que implementan los array usan una técnica de OOP llamada **sobrecarga de operadores**, es decir, que redefinen el comportamiento y los resultados cuando se opera con los arrays. En este caso, al comparar con un valor escalar, aplica esa comparación de forma vectorizada a todos los valores del array, y devuelve un array con los resultados:"
   ]
  },
  {
   "cell_type": "markdown",
   "metadata": {
    "slideshow": {
     "slide_type": "slide"
    }
   },
   "source": [
    "**Ejercicio**: Intenta comparar una lista de numeros con un solo numero. Por ejemplo:"
   ]
  },
  {
   "cell_type": "code",
   "execution_count": 27,
   "metadata": {
    "slideshow": {
     "slide_type": "slide"
    }
   },
   "outputs": [],
   "source": [
    "# [1, 2, 3] > 2"
   ]
  },
  {
   "cell_type": "markdown",
   "metadata": {
    "slideshow": {
     "slide_type": "slide"
    }
   },
   "source": [
    "**Ejercicio**: Realiza una comparacion similar, pero usando arrays de numpy:"
   ]
  },
  {
   "cell_type": "code",
   "execution_count": 28,
   "metadata": {
    "slideshow": {
     "slide_type": "slide"
    }
   },
   "outputs": [
    {
     "data": {
      "text/plain": [
       "array([False, False,  True])"
      ]
     },
     "execution_count": 28,
     "metadata": {},
     "output_type": "execute_result"
    }
   ],
   "source": [
    "import numpy as np\n",
    "\n",
    "l = np.array([1, 2, 3])\n",
    "l > 2"
   ]
  },
  {
   "cell_type": "markdown",
   "metadata": {
    "slideshow": {
     "slide_type": "slide"
    }
   },
   "source": [
    "Usando  este vector de booleanos como filtro, puedo obtener un array que es un sobconjunto de las filas de l, en el que las filas solo tienen valores positivos:"
   ]
  },
  {
   "cell_type": "code",
   "execution_count": 29,
   "metadata": {
    "slideshow": {
     "slide_type": "slide"
    }
   },
   "outputs": [
    {
     "name": "stdout",
     "output_type": "stream",
     "text": [
      "Menores que 0: [ -12 -100]\n",
      "Mayores que 0: [ 23  31   4 754  63   2]\n",
      "Igual que 0: [0 0]\n",
      "Pares: [ -12 -100    4  754    0    0    2]\n",
      "Impares: [23 31 63]\n"
     ]
    }
   ],
   "source": [
    "import numpy as np\n",
    "\n",
    "l = np.array([-12, 23, 31, -100, 4, 754, 0, 63, 0, 2])\n",
    "\n",
    "print('Menores que 0:', l[l<0])\n",
    "print('Mayores que 0:', l[l > 0])\n",
    "print('Igual que 0:', l[l == 0])\n",
    "print('Pares:', l[l % 2 == 0])\n",
    "print('Impares:', l[l % 2 == 1])"
   ]
  },
  {
   "cell_type": "markdown",
   "metadata": {
    "slideshow": {
     "slide_type": "slide"
    }
   },
   "source": [
    "#### Slices\n",
    "\n",
    "Los arrays de numpy también se puede operar com slices, como las listas o las cadenas de texto.\n",
    "\n",
    "Los elementos de una matriz bidimensional se pueden acceder de\n",
    "dos maneras:\n",
    "\n",
    "- usando `[fila][columna]` \n",
    "- usando `[fila, columna]`"
   ]
  },
  {
   "cell_type": "code",
   "execution_count": 30,
   "metadata": {
    "slideshow": {
     "slide_type": "slide"
    }
   },
   "outputs": [
    {
     "data": {
      "text/plain": [
       "array([[ 1,  2,  3,  4],\n",
       "       [ 5,  6,  7,  8],\n",
       "       [ 9, 10, 11, 12],\n",
       "       [13, 14, 15, 16]])"
      ]
     },
     "execution_count": 30,
     "metadata": {},
     "output_type": "execute_result"
    }
   ],
   "source": [
    "import numpy as np\n",
    "\n",
    "m = np.arange(1, 17).reshape((4, 4))\n",
    "assert list(m[1]) == [5, 6, 7, 8]\n",
    "assert m[1][3] == m[1,3] == 8\n",
    "m"
   ]
  },
  {
   "cell_type": "markdown",
   "metadata": {
    "slideshow": {
     "slide_type": "slide"
    }
   },
   "source": [
    "**Ejercicio**: Usando arrays de numpy y natplotlib, representar la grafica de la ecuacion\n",
    "\n",
    "$$ y = sin(x)  $$\n",
    "\n",
    "Entre los valores 0 y 5"
   ]
  },
  {
   "cell_type": "code",
   "execution_count": 31,
   "metadata": {
    "slideshow": {
     "slide_type": "slide"
    }
   },
   "outputs": [
    {
     "data": {
      "text/plain": [
       "[<matplotlib.lines.Line2D at 0x7fed326cbbe0>]"
      ]
     },
     "execution_count": 31,
     "metadata": {},
     "output_type": "execute_result"
    },
    {
     "data": {
      "image/png": "[encoded data removed]",
      "text/plain": [
       "<Figure size 432x288 with 1 Axes>"
      ]
     },
     "metadata": {
      "needs_background": "light"
     },
     "output_type": "display_data"
    }
   ],
   "source": [
    "import numpy as np\n",
    "import matplotlib.pyplot as plt\n",
    "\n",
    "%matplotlib inline\n",
    "\n",
    "x = np.linspace(0, 5, 200)\n",
    "y = np.cos(x)\n",
    "plt.title(\"$y = sin(x)$\")\n",
    "plt.plot(x, y)"
   ]
  },
  {
   "cell_type": "code",
   "execution_count": null,
   "metadata": {},
   "outputs": [],
   "source": []
  }
 ],
 "metadata": {
  "celltoolbar": "Slideshow",
  "kernelspec": {
   "display_name": "Python 3",
   "language": "python",
   "name": "python3"
  },
  "language_info": {
   "codemirror_mode": {
    "name": "ipython",
    "version": 3
   },
   "file_extension": ".py",
   "mimetype": "text/x-python",
   "name": "python",
   "nbconvert_exporter": "python",
   "pygments_lexer": "ipython3",
   "version": "3.8.5"
  }
 },
 "nbformat": 4,
 "nbformat_minor": 2
}
