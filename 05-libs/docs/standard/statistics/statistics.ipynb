{
 "cells": [
  {
   "cell_type": "markdown",
   "metadata": {
    "slideshow": {
     "slide_type": "slide"
    }
   },
   "source": [
    "## La librería statistics\n",
    "\n",
    "La librería **statistics** incluye funciones matemáticas para realizar\n",
    "cálculos estadísticos."
   ]
  },
  {
   "cell_type": "markdown",
   "metadata": {
    "slideshow": {
     "slide_type": "slide"
    }
   },
   "source": [
    "### Alcance y limitaciones\n",
    "\n",
    "Esta librería está muy lejos de la potencia de otras librerías de\n",
    "terceros como numPy, sciPy y otros, pero tiene la ventaja de que viene\n",
    "incorporade en lo librería standars (desde Pythn 3.4), y tiene\n",
    "funcionalidad suficiente para realizar varias gráficas y cálculos\n",
    "relativamente complejos."
   ]
  },
  {
   "cell_type": "markdown",
   "metadata": {
    "slideshow": {
     "slide_type": "slide"
    }
   },
   "source": [
    "Estas funciones trabajan con números enteros, en coma flotante\n",
    "(`float`), decimales (`Decimal`) y fraciones (`Fraction`). Pero es muy\n",
    "recomendable trabajar con listas y otras colecciones que los datos sean\n",
    "__homogeneos__. Por ejemplo, una lista de enteros solo deberia tener\n",
    "enteros."
   ]
  },
  {
   "cell_type": "markdown",
   "metadata": {
    "slideshow": {
     "slide_type": "slide"
    }
   },
   "source": [
    "### Funciones definidas en este modulo\n",
    "\n",
    "Las mas importantes (o al menos las que veremos aquí) son:\n",
    "\n",
    "- mean\n",
    "- geometric_mean\n",
    "- median\n",
    "- mode\n",
    "- stdev\n",
    "- variance"
   ]
  },
  {
   "cell_type": "markdown",
   "metadata": {
    "slideshow": {
     "slide_type": "slide"
    }
   },
   "source": [
    "- `mean`\n",
    "\n",
    "La funcion **mean** calcula la media arietmética de un conjunto de datos\n",
    "(Una poblacion o una muestra, en terminos estadisticsos)\n",
    "\n",
    "Ejercicio: Calcular la media arietmética de 23, 76, 99, 12"
   ]
  },
  {
   "cell_type": "code",
   "execution_count": 1,
   "metadata": {
    "slideshow": {
     "slide_type": "slide"
    }
   },
   "outputs": [
    {
     "name": "stdout",
     "output_type": "stream",
     "text": [
      "52.5\n"
     ]
    }
   ],
   "source": [
    "import statistics\n",
    "\n",
    "print(statistics.mean([23, 76, 99, 12]))"
   ]
  },
  {
   "cell_type": "markdown",
   "metadata": {
    "slideshow": {
     "slide_type": "slide"
    }
   },
   "source": [
    "la función **geometric\\_mean()** es equivalente a la anterior, pero\n",
    "calcula media geométrica.\n",
    "\n",
    "La media geométrica de \\$n\\$ numeros es la raíz n-ésima del producto de\n",
    "todos los números. Se usa por ejemplo para promediar intereses\n",
    "compuestos."
   ]
  },
  {
   "cell_type": "markdown",
   "metadata": {
    "slideshow": {
     "slide_type": "slide"
    }
   },
   "source": [
    "Por ejemplo, la media geométrica de 2 y 18 es\n",
    "\n",
    "$$ \\sqrt[2]{2 \\cdot 18} = \\sqrt[2]{36} = 6 $$"
   ]
  },
  {
   "cell_type": "markdown",
   "metadata": {
    "slideshow": {
     "slide_type": "slide"
    }
   },
   "source": [
    "Otro ejemplo, la media de 1, 3 y 9 sería:\n",
    "\n",
    "$$ \\sqrt[3]{1 \\cdot 3 \\cdot 9} = \\sqrt[3]{27} = 3 $$"
   ]
  },
  {
   "cell_type": "markdown",
   "metadata": {
    "slideshow": {
     "slide_type": "slide"
    }
   },
   "source": [
    "Ejercicio: Calcular la media geometrica de 23, 76, 99, 12 usando statistics.geometric_mean"
   ]
  },
  {
   "cell_type": "markdown",
   "metadata": {
    "slideshow": {
     "slide_type": "slide"
    }
   },
   "source": [
    "- `median`\n",
    "\n",
    "La función **median()** nos devuelve la mediana de una serie de valores,\n",
    "es decir, el valor que está en la posición central en un conjunto de\n",
    "datos ordenados. Si el número de datos es impar, la posicion central es\n",
    "unica y el valor que esté ahí es la medianda, pero si son pares, el\n",
    "valor de la mediana es la media de los dos valores que estan a la mitad."
   ]
  },
  {
   "cell_type": "markdown",
   "metadata": {
    "slideshow": {
     "slide_type": "slide"
    }
   },
   "source": [
    "Por ejemplo, la serie \\[3, 6, 9, 12, 24\\], como tiene 5 elementos,\n",
    "impar, la posicion de la mediana es $3$ y para este caso la mediana vale\n",
    "$9$.\n",
    "\n",
    "Pero si el número de elementos es par, como en \\[3, 6, 9, 12\\], no hay\n",
    "una posición central única, el centro podrias ser bien la segunda\n",
    "posicion o la tercera. Asi que lo que se hace es tomar la media de los\n",
    "valores en esa posicion, $3$ y $6$, asi que la mediana es $4.5$."
   ]
  },
  {
   "cell_type": "markdown",
   "metadata": {
    "slideshow": {
     "slide_type": "slide"
    }
   },
   "source": [
    "Ejercicio: Calcular la mediana 23, 76, 99, 12 usando statistics.median"
   ]
  },
  {
   "cell_type": "code",
   "execution_count": 19,
   "metadata": {},
   "outputs": [
    {
     "name": "stdout",
     "output_type": "stream",
     "text": [
      "87.5\n"
     ]
    }
   ],
   "source": [
    "import statistics\n",
    "\n",
    "print(statistics.median([23, 76, 99, 120]))"
   ]
  },
  {
   "cell_type": "markdown",
   "metadata": {
    "slideshow": {
     "slide_type": "slide"
    }
   },
   "source": [
    "- `mode`\n",
    "\n",
    "La función **mode()** nos da la moda, esto es, el valor o valores que\n",
    "más se repite dentro de la serie.\n",
    "\n",
    "Por ejemplo, para los valores \\[1, 2, 4, 4, 4, 4, 7, 39142\\], la moda es\n",
    "4."
   ]
  },
  {
   "cell_type": "markdown",
   "metadata": {
    "slideshow": {
     "slide_type": "slide"
    }
   },
   "source": [
    "Esta función es la única dentro de esta librería que, además de aceptar\n",
    "números, tambien acepta valores discretos, por ejemplo:"
   ]
  },
  {
   "cell_type": "code",
   "execution_count": 21,
   "metadata": {
    "slideshow": {
     "slide_type": "slide"
    }
   },
   "outputs": [
    {
     "data": {
      "text/plain": [
       "'blue'"
      ]
     },
     "execution_count": 21,
     "metadata": {},
     "output_type": "execute_result"
    }
   ],
   "source": [
    "import statistics\n",
    "\n",
    "statistics.mode([\"red\", \"blue\", \"blue\", \"blue\", \"blue\", \"blue\", \"blue\", \"red\", \"green\", \"red\", \"red\"])"
   ]
  },
  {
   "cell_type": "markdown",
   "metadata": {
    "slideshow": {
     "slide_type": "slide"
    }
   },
   "source": [
    "Ejercicio: Dado el siguiente texto:"
   ]
  },
  {
   "cell_type": "code",
   "execution_count": 2,
   "metadata": {
    "slideshow": {
     "slide_type": "slide"
    }
   },
   "outputs": [
    {
     "name": "stdout",
     "output_type": "stream",
     "text": [
      "- Haga el favor de poner atención en la primera cláusula porque es muy importante. Dice que… la parte contratante de la primera parte será considerada como la parte contratante de la primera parte. ¿Qué tal, está muy bien, eh?\n",
      "- No, eso no está bien. Quisiera volver a oírlo.\n",
      "- Dice que… la parte contratante de la primera parte será considerada como la parte contratante de la primera parte.\n",
      "- Esta vez creo que suena mejor.\n",
      "- Si quiere se lo leo otra vez.\n",
      "- Tan solo la primera parte.\n",
      "- ¿Sobre la parte contratante de la primera parte?\n",
      "- No, solo la parte de la parte contratante de la primera parte.\n",
      "- Oiga, ¿por qué hemos de pelearnos por una tontería como ésta? La cortamos.\n",
      "- Sí, es demasiado largo. ¿Qué es lo que nos queda ahora?\n",
      "- Dice ahora… la parte contratante de la segunda parte será considerada como la parte contratante de la segunda parte.\n",
      "- Eso si que no me gusta nada. Nunca segundas partes fueron buenas.\n",
      "- Escuche: ¿por qué no hacemos que la primera parte de la segunda parte contratante sea la segunda parte de la primera parte?\n"
     ]
    }
   ],
   "source": [
    "from samples import text\n",
    "print(text)"
   ]
  },
  {
   "cell_type": "code",
   "execution_count": 22,
   "metadata": {},
   "outputs": [
    {
     "data": {
      "text/html": [
       "\n",
       "<iframe width=\"560\" height=\"315\" src=\"https://www.youtube.com/embed/uaeLtGvLxF0\" frameborder=\"0\" allow=\"accelerometer; autoplay; encrypted-media; gyroscope; picture-in-picture\" allowfullscreen></iframe>"
      ],
      "text/plain": [
       "<IPython.core.display.HTML object>"
      ]
     },
     "execution_count": 22,
     "metadata": {},
     "output_type": "execute_result"
    }
   ],
   "source": [
    "from IPython.display import HTML\n",
    "\n",
    "HTML('''\n",
    "<iframe width=\"560\" height=\"315\" src=\"https://www.youtube.com/embed/uaeLtGvLxF0\" frameborder=\"0\" allow=\"accelerometer; autoplay; encrypted-media; gyroscope; picture-in-picture\" allowfullscreen></iframe>''')"
   ]
  },
  {
   "cell_type": "markdown",
   "metadata": {
    "slideshow": {
     "slide_type": "slide"
    }
   },
   "source": [
    "1)  Usar `statistics.mean` para encontrar la media de la *longitud* de las\n",
    "    palabras\n",
    "    \n",
    "2)  Usar `statistics.mode` para encontrar la palabra más repetida"
   ]
  },
  {
   "cell_type": "markdown",
   "metadata": {
    "slideshow": {
     "slide_type": "slide"
    }
   },
   "source": [
    "Podemos usar esta función a la que le pasamos un texto y nos devuelve\n",
    "todas las palabras que lo contienen en forma de lista, manteniendo el\n",
    "orden pero eliminando simpbolos como -, ?, !..."
   ]
  },
  {
   "cell_type": "code",
   "execution_count": 29,
   "metadata": {
    "slideshow": {
     "slide_type": "slide"
    }
   },
   "outputs": [],
   "source": [
    "import re\n",
    "\n",
    "def text_to_words(text):\n",
    "    pat_seps = re.compile(\"[-\\s!?¿+.,;:]+\")\n",
    "    words = (w.strip().lower() for w in pat_seps.split(text))\n",
    "    return [w for w in words if w]\n",
    "\n",
    "text = \"\"\"\\\n",
    "- Haga el favor de poner atención en la primera cláusula porque es muy importante. Dice que… la parte contratante de la primera parte será considerada como la parte contratante de la primera parte. ¿Qué tal, está muy bien, eh?\n",
    "- No, eso no está bien. Quisiera volver a oírlo.\n",
    "- Dice que… la parte contratante de la primera parte será considerada como la parte contratante de la primera parte.\n",
    "- Esta vez creo que suena mejor.\n",
    "- Si quiere se lo leo otra vez.\n",
    "- Tan solo la primera parte.\n",
    "- ¿Sobre la parte contratante de la primera parte?\n",
    "- No, solo la parte de la parte contratante de la primera parte.\n",
    "- Oiga, ¿por qué hemos de pelearnos por una tontería como ésta? La cortamos.\n",
    "- Sí, es demasiado largo. ¿Qué es lo que nos queda ahora?\n",
    "- Dice ahora… la parte contratante de la segunda parte será considerada como la parte contratante de la segunda parte.\n",
    "- Eso si que no me gusta nada. Nunca segundas partes fueron buenas.\n",
    "- Escuche: ¿por qué no hacemos que la primera parte de la segunda parte contratante sea la segunda parte de la primera parte?\n",
    "\"\"\"\n",
    "\n",
    "words = text_to_words(text)"
   ]
  },
  {
   "cell_type": "code",
   "execution_count": 30,
   "metadata": {},
   "outputs": [
    {
     "data": {
      "text/plain": [
       "['haga',\n",
       " 'el',\n",
       " 'favor',\n",
       " 'de',\n",
       " 'poner',\n",
       " 'atención',\n",
       " 'en',\n",
       " 'la',\n",
       " 'primera',\n",
       " 'cláusula',\n",
       " 'porque',\n",
       " 'es',\n",
       " 'muy',\n",
       " 'importante',\n",
       " 'dice',\n",
       " 'que…',\n",
       " 'la',\n",
       " 'parte',\n",
       " 'contratante',\n",
       " 'de',\n",
       " 'la',\n",
       " 'primera',\n",
       " 'parte',\n",
       " 'será',\n",
       " 'considerada',\n",
       " 'como',\n",
       " 'la',\n",
       " 'parte',\n",
       " 'contratante',\n",
       " 'de',\n",
       " 'la',\n",
       " 'primera',\n",
       " 'parte',\n",
       " 'qué',\n",
       " 'tal',\n",
       " 'está',\n",
       " 'muy',\n",
       " 'bien',\n",
       " 'eh',\n",
       " 'no',\n",
       " 'eso',\n",
       " 'no',\n",
       " 'está',\n",
       " 'bien',\n",
       " 'quisiera',\n",
       " 'volver',\n",
       " 'a',\n",
       " 'oírlo',\n",
       " 'dice',\n",
       " 'que…',\n",
       " 'la',\n",
       " 'parte',\n",
       " 'contratante',\n",
       " 'de',\n",
       " 'la',\n",
       " 'primera',\n",
       " 'parte',\n",
       " 'será',\n",
       " 'considerada',\n",
       " 'como',\n",
       " 'la',\n",
       " 'parte',\n",
       " 'contratante',\n",
       " 'de',\n",
       " 'la',\n",
       " 'primera',\n",
       " 'parte',\n",
       " 'esta',\n",
       " 'vez',\n",
       " 'creo',\n",
       " 'que',\n",
       " 'suena',\n",
       " 'mejor',\n",
       " 'si',\n",
       " 'quiere',\n",
       " 'se',\n",
       " 'lo',\n",
       " 'leo',\n",
       " 'otra',\n",
       " 'vez',\n",
       " 'tan',\n",
       " 'solo',\n",
       " 'la',\n",
       " 'primera',\n",
       " 'parte',\n",
       " 'sobre',\n",
       " 'la',\n",
       " 'parte',\n",
       " 'contratante',\n",
       " 'de',\n",
       " 'la',\n",
       " 'primera',\n",
       " 'parte',\n",
       " 'no',\n",
       " 'solo',\n",
       " 'la',\n",
       " 'parte',\n",
       " 'de',\n",
       " 'la',\n",
       " 'parte',\n",
       " 'contratante',\n",
       " 'de',\n",
       " 'la',\n",
       " 'primera',\n",
       " 'parte',\n",
       " 'oiga',\n",
       " 'por',\n",
       " 'qué',\n",
       " 'hemos',\n",
       " 'de',\n",
       " 'pelearnos',\n",
       " 'por',\n",
       " 'una',\n",
       " 'tontería',\n",
       " 'como',\n",
       " 'ésta',\n",
       " 'la',\n",
       " 'cortamos',\n",
       " 'sí',\n",
       " 'es',\n",
       " 'demasiado',\n",
       " 'largo',\n",
       " 'qué',\n",
       " 'es',\n",
       " 'lo',\n",
       " 'que',\n",
       " 'nos',\n",
       " 'queda',\n",
       " 'ahora',\n",
       " 'dice',\n",
       " 'ahora…',\n",
       " 'la',\n",
       " 'parte',\n",
       " 'contratante',\n",
       " 'de',\n",
       " 'la',\n",
       " 'segunda',\n",
       " 'parte',\n",
       " 'será',\n",
       " 'considerada',\n",
       " 'como',\n",
       " 'la',\n",
       " 'parte',\n",
       " 'contratante',\n",
       " 'de',\n",
       " 'la',\n",
       " 'segunda',\n",
       " 'parte',\n",
       " 'eso',\n",
       " 'si',\n",
       " 'que',\n",
       " 'no',\n",
       " 'me',\n",
       " 'gusta',\n",
       " 'nada',\n",
       " 'nunca',\n",
       " 'segundas',\n",
       " 'partes',\n",
       " 'fueron',\n",
       " 'buenas',\n",
       " 'escuche',\n",
       " 'por',\n",
       " 'qué',\n",
       " 'no',\n",
       " 'hacemos',\n",
       " 'que',\n",
       " 'la',\n",
       " 'primera',\n",
       " 'parte',\n",
       " 'de',\n",
       " 'la',\n",
       " 'segunda',\n",
       " 'parte',\n",
       " 'contratante',\n",
       " 'sea',\n",
       " 'la',\n",
       " 'segunda',\n",
       " 'parte',\n",
       " 'de',\n",
       " 'la',\n",
       " 'primera',\n",
       " 'parte']"
      ]
     },
     "execution_count": 30,
     "metadata": {},
     "output_type": "execute_result"
    }
   ],
   "source": []
  },
  {
   "cell_type": "code",
   "execution_count": 27,
   "metadata": {
    "slideshow": {
     "slide_type": "slide"
    }
   },
   "outputs": [
    {
     "data": {
      "text/plain": [
       "['haga',\n",
       " 'el',\n",
       " 'favor',\n",
       " 'de',\n",
       " 'poner',\n",
       " 'atención',\n",
       " 'en',\n",
       " 'la',\n",
       " 'primera',\n",
       " 'cláusula']"
      ]
     },
     "execution_count": 27,
     "metadata": {},
     "output_type": "execute_result"
    }
   ],
   "source": [
    "import statistics\n",
    "from samples import text\n",
    "\n",
    "\n",
    "words = text_to_words(text)\n",
    "words[0:10]\n",
    "\n"
   ]
  },
  {
   "cell_type": "markdown",
   "metadata": {
    "slideshow": {
     "slide_type": "slide"
    }
   },
   "source": [
    "Usar ahora esta version mejorada que elimina palabras demasiado\n",
    "comunes."
   ]
  },
  {
   "cell_type": "code",
   "execution_count": null,
   "metadata": {},
   "outputs": [],
   "source": []
  },
  {
   "cell_type": "code",
   "execution_count": 31,
   "metadata": {
    "slideshow": {
     "slide_type": "slide"
    }
   },
   "outputs": [],
   "source": [
    "def text_to_words(text):\n",
    "\n",
    "    exclude_words = ['', 'el', 'la', 'los', 'las', 'y', 'o']\n",
    "    pat_seps = re.compile(\"[-\\s!?¿+.,;:]+\")\n",
    "    words = (w.strip().lower() for w in pat_seps.split(text))\n",
    "    return [w for w in words if w not in exclude_words]"
   ]
  },
  {
   "cell_type": "code",
   "execution_count": 32,
   "metadata": {
    "slideshow": {
     "slide_type": "slide"
    }
   },
   "outputs": [
    {
     "name": "stdout",
     "output_type": "stream",
     "text": [
      "parte\n"
     ]
    }
   ],
   "source": [
    "import statistics\n",
    "from samples import text\n",
    "\n",
    "words = text_to_words(text)\n",
    "print(statistics.mode(words))"
   ]
  },
  {
   "cell_type": "markdown",
   "metadata": {
    "slideshow": {
     "slide_type": "slide"
    }
   },
   "source": [
    "- `stdev`\n",
    "\n",
    "La función **stdev(data, xbar=None)** devuelve la desviación estándar\n",
    "(esto es, la raiz cuadrada de la varianza). Tambien podemos calcular\n",
    "directamente la varianza con la funcion **variance(data, xbar=None)**."
   ]
  },
  {
   "cell_type": "markdown",
   "metadata": {
    "slideshow": {
     "slide_type": "slide"
    }
   },
   "source": [
    "Las dos funciones usan los mismo parámetros, y estas dos medidas se usan\n",
    "para medir la variabilidad, es decir, si los datos estan muy dispersdos\n",
    "o muy agrupados). Un numero alto indica que los datos estan muy\n",
    "dispersos, un numero pequeño, que estan muy agrupados. Un valor de cero\n",
    "significaria que no hay disperson en absoluto; todos los valores son\n",
    "iguales"
   ]
  },
  {
   "cell_type": "markdown",
   "metadata": {
    "slideshow": {
     "slide_type": "slide"
    }
   },
   "source": [
    "- `harmonic_mean`\n",
    "\n",
    "Por úlimo, la funcion **`harmonic_mean(data)`** devuelve la media\n",
    "armónica. Esta es muy útil en conjuntos de números que se definen en\n",
    "relación con alguna unidad, por ejemplo la velocidad (distancia por\n",
    "unidad de tiempo).\n",
    "\n",
    "$$ \\bar{x} = \\frac{n}{\\sum_{i=1}^{n}  \\left( \\frac{1}{x_n} \\right)} $$\n"
   ]
  },
  {
   "cell_type": "markdown",
   "metadata": {
    "slideshow": {
     "slide_type": "slide"
    }
   },
   "source": [
    "La media armónica es la inversa de la media arietmetica, aplicado a los\n",
    "inversos de los valores. Es decir, que donde la media divide, ahora\n",
    "multiplicamos, pero la suma no se hace con los valores, sino con los\n",
    "inversos de los valores.\n",
    "\n",
    "Por ejemplo, la media armónica de los números: 34, 27, 45, 55, 22, y 34\n",
    "es:\n",
    "\n",
    "$$ \\frac{6}{\\frac{1}{34}+\\frac{1}{27}+\\frac{1}{45}+\\frac{1}{55}+\\frac{1}{22}+\\frac{1}{34}} \\approx 33,018 $$"
   ]
  },
  {
   "cell_type": "markdown",
   "metadata": {
    "slideshow": {
     "slide_type": "slide"
    }
   },
   "source": [
    "Nota: Si alguno de los valores es cero, la meia armónica se considera 0\n",
    "\n",
    "Para que sirve la media armonica? para aquellos valores que sean\n",
    "proporciones o ratios, por ejemplo las velocidades."
   ]
  },
  {
   "cell_type": "markdown",
   "metadata": {
    "slideshow": {
     "slide_type": "slide"
    }
   },
   "source": [
    "Pregunta: Supongamos un coche que circula 10 kilometros a 40 km/h, luego\n",
    "otros 10 km a 60 km/h. ¿Cuál es su velocidad media?"
   ]
  },
  {
   "cell_type": "code",
   "execution_count": 19,
   "metadata": {
    "slideshow": {
     "slide_type": "slide"
    }
   },
   "outputs": [
    {
     "data": {
      "text/plain": [
       "48.0"
      ]
     },
     "execution_count": 19,
     "metadata": {},
     "output_type": "execute_result"
    }
   ],
   "source": [
    "import statistics\n",
    "statistics.harmonic_mean([40, 60])"
   ]
  },
  {
   "cell_type": "markdown",
   "metadata": {
    "slideshow": {
     "slide_type": "slide"
    }
   },
   "source": [
    "Pregunta: Supongamos un inversor que ha invertido la misma cantidad en\n",
    "tres compañias, que le proporcionan un ratio de beneficios\n",
    "(Precio/Beneficio) o PER de 2.5, 3 y 10. Cual es el ratio de beneficios de toda\n",
    "la cartera?"
   ]
  },
  {
   "cell_type": "code",
   "execution_count": 23,
   "metadata": {
    "slideshow": {
     "slide_type": "slide"
    }
   },
   "outputs": [
    {
     "data": {
      "text/plain": [
       "3.6"
      ]
     },
     "execution_count": 23,
     "metadata": {},
     "output_type": "execute_result"
    }
   ],
   "source": [
    "import statistics\n",
    "statistics.harmonic_mean([2.5, 3, 10])"
   ]
  },
  {
   "cell_type": "markdown",
   "metadata": {
    "slideshow": {
     "slide_type": "slide"
    }
   },
   "source": [
    "Miniproyecto: Calcular el tamaño medio de todos los archivos que hay en\n",
    "un una carpeta determinada. Usa el esqueleto que vimos en la librería\n",
    "**os** para recorrer un arbol de directorios con la funcion walk.\n",
    "\n",
    "Bonus: Informa tambien de los valores media y desviacion\n",
    "estandar del tamanno de los ficheros"
   ]
  },
  {
   "cell_type": "code",
   "execution_count": 33,
   "metadata": {
    "scrolled": true
   },
   "outputs": [
    {
     "name": "stdout",
     "output_type": "stream",
     "text": [
      "timeit.rst\n",
      "pdb.ipynb\n",
      "datetime.ipynb\n",
      "urllib.rst\n",
      "statistics.ipynb\n",
      "smtplib.rst\n",
      "files.backup\n",
      "xml.rst\n",
      "re.rst\n",
      "hashlib.rst\n",
      "sys.md\n",
      "zlib.ipynb\n",
      "zlib_sol_01.py\n",
      "img\n",
      ".ipynb_checkpoints\n",
      "samples.py\n",
      "__pycache__\n",
      "lorem.txt\n",
      "difflib.rst\n",
      "heapq.rst\n",
      "traceback.rst\n",
      "os.ipynb\n",
      "traceback.ipynb\n",
      "sqlite3.rst\n",
      "statistics.rst\n",
      "logging.ipynb\n",
      "base64.ipynb\n",
      "a\n",
      "os.rst\n",
      "file.txt.gz\n",
      "sys.rst\n",
      "timeit.ipynb\n",
      "logging.rst\n",
      "itertools.ipynb\n",
      "__init__.py\n",
      "random.rst\n",
      "zipfile.ipynb\n",
      "curses.rst\n",
      "itertools.rst\n",
      "compression.ipynb\n",
      "curses\n",
      "sys.ipynb\n",
      "lorem.txt.gz\n",
      "argparse.rst\n",
      "pdb.rst\n",
      "argparse.ipynb\n",
      "datetime.rst\n",
      "http_server.rst\n",
      "notebooks.zip\n",
      "gzip.ipynb\n",
      "time.rst\n",
      "csv.rst\n",
      "totoro.webp\n",
      "time.ipynb\n",
      "base64.rst\n",
      "csv.ipynb\n",
      "os.md\n",
      "collections.rst\n"
     ]
    }
   ],
   "source": [
    "import os  # Usar os.path.getsize\n",
    "import statistics  # User statistics.mean, statistics.stdev\n",
    "\n",
    "sizes = []\n",
    "\n",
    "for filename in os.listdir():\n",
    "    print(filename)\n",
    "    size = os.path.getsize(filename)\n",
    "    # Tu codigo aqui\n",
    "# Y aqui"
   ]
  },
  {
   "cell_type": "code",
   "execution_count": 41,
   "metadata": {
    "slideshow": {
     "slide_type": "slide"
    }
   },
   "outputs": [
    {
     "name": "stdout",
     "output_type": "stream",
     "text": [
      "Tam. medio: 72790.5172413793\n",
      "Desviacion estandar: 444410.3884971456\n",
      "Max. tam.: 3381743\n",
      "Min. tam.: 0\n"
     ]
    }
   ],
   "source": [
    "import os  # Usar os.path.getsize\n",
    "import statistics  # User statistics.mean, statistics.stdev\n",
    "\n",
    "sizes = []\n",
    "\n",
    "for filename in os.listdir():\n",
    "    # print(filename)\n",
    "    size = os.path.getsize(filename)\n",
    "    sizes.append(size)\n",
    "print(f\"Tam. medio: {statistics.mean(sizes)}\")\n",
    "print(f\"Desviacion estandar: {statistics.stdev(sizes)}\")\n",
    "print(f\"Max. tam.: {max(sizes)}\")\n",
    "print(f\"Min. tam.: {min(sizes)}\")"
   ]
  },
  {
   "cell_type": "code",
   "execution_count": null,
   "metadata": {},
   "outputs": [],
   "source": []
  }
 ],
 "metadata": {
  "celltoolbar": "Slideshow",
  "kernelspec": {
   "display_name": "Python 3",
   "language": "python",
   "name": "python3"
  },
  "language_info": {
   "codemirror_mode": {
    "name": "ipython",
    "version": 3
   },
   "file_extension": ".py",
   "mimetype": "text/x-python",
   "name": "python",
   "nbconvert_exporter": "python",
   "pygments_lexer": "ipython3",
   "version": "3.8.5"
  }
 },
 "nbformat": 4,
 "nbformat_minor": 4
}
