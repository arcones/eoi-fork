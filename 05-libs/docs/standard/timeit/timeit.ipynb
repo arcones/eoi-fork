{
 "cells": [
  {
   "cell_type": "markdown",
   "metadata": {
    "slideshow": {
     "slide_type": "slide"
    }
   },
   "source": [
    "## El módulo timeit\n",
    "\n",
    "El módulo `timeit` permite obtener una medida fiable de los los tiempos\n",
    "de ejecución de un fragmento de código Python."
   ]
  },
  {
   "cell_type": "markdown",
   "metadata": {
    "slideshow": {
     "slide_type": "slide"
    }
   },
   "source": [
    "En el siguiente código mostramos dos formas diferentes de intercambiar\n",
    "los valores de dos variables, la primera con una variable auxiliar y la\n",
    "segunda usando el mecanismo de empaquetado/desempaquetado de tuplas:"
   ]
  },
  {
   "cell_type": "code",
   "execution_count": 1,
   "metadata": {
    "slideshow": {
     "slide_type": "slide"
    }
   },
   "outputs": [],
   "source": [
    "# Usando una variable auxiliar\n",
    "a = 7; b = 12\n",
    "temp = a\n",
    "a = b\n",
    "b = temp"
   ]
  },
  {
   "cell_type": "code",
   "execution_count": 2,
   "metadata": {
    "slideshow": {
     "slide_type": "slide"
    }
   },
   "outputs": [],
   "source": [
    "# Usando tuplas\n",
    "a = 7; b = 12\n",
    "a, b = b, a"
   ]
  },
  {
   "cell_type": "markdown",
   "metadata": {
    "slideshow": {
     "slide_type": "slide"
    }
   },
   "source": [
    "Pero ¿cuál de los dos sistemas es más rápida? Usando el módulo `timeit` podemos salir de\n",
    "dudas:"
   ]
  },
  {
   "cell_type": "code",
   "execution_count": 27,
   "metadata": {
    "slideshow": {
     "slide_type": "slide"
    }
   },
   "outputs": [
    {
     "data": {
      "text/plain": [
       "0.002695795999954953"
      ]
     },
     "execution_count": 27,
     "metadata": {},
     "output_type": "execute_result"
    }
   ],
   "source": [
    "# Usando una variable auxiliar\n",
    "\n",
    "from timeit import Timer\n",
    "Timer('t=a; a=b; b=t', 'a=7; b=12').timeit(100000)"
   ]
  },
  {
   "cell_type": "code",
   "execution_count": 28,
   "metadata": {
    "slideshow": {
     "slide_type": "slide"
    }
   },
   "outputs": [
    {
     "data": {
      "text/plain": [
       "0.002749662999974589"
      ]
     },
     "execution_count": 28,
     "metadata": {},
     "output_type": "execute_result"
    }
   ],
   "source": [
    "# Usando tuplas\n",
    "\n",
    "Timer('a,b = b,a', 'a=7; b=12').timeit(100000)"
   ]
  },
  {
   "cell_type": "markdown",
   "metadata": {
    "slideshow": {
     "slide_type": "slide"
    }
   },
   "source": [
    "El intercambio por medio de tuplas parece un poco más lento, pero por una\n",
    "diferencia tan pequeña que es dificil estar seguros."
   ]
  },
  {
   "cell_type": "markdown",
   "metadata": {
    "slideshow": {
     "slide_type": "slide"
    }
   },
   "source": [
    "El módulo `timeit` usa funciones específicas del sistema operativo para\n",
    "medir estos tiempos, para intentar conseguir la máxima precisión\n",
    "posible. Por la misma razón, ejecuta el código muchas veces para reducir\n",
    "al mínimo el desvío o error causado por el inicio y finalización de la\n",
    "prueba.\n",
    "\n",
    "En el ejemplo anterior hemos pedido que repita las operaciones 100.000 veces\n",
    "para obtener una media lo más libre posible de otros efectos, como la carga\n",
    "del sistema."
   ]
  },
  {
   "cell_type": "markdown",
   "metadata": {
    "slideshow": {
     "slide_type": "slide"
    }
   },
   "source": [
    "### Clase y funciones del módulo\n",
    "\n",
    "El módulo solo define una clase, `Timer`. "
   ]
  },
  {
   "cell_type": "markdown",
   "metadata": {
    "slideshow": {
     "slide_type": "slide"
    }
   },
   "source": [
    "- El constructor de la clase espera como primer parámetro el código\n",
    "a probar, en forma de un *callable* (Algo que se puede llamar, una\n",
    "función, por ejemplo, pero también podría ser una clase o un\n",
    "método, por ejemplo), que se pueda invocar sin ningún parámetro, o\n",
    "una o más líneas de texto con el código para ser medidas."
   ]
  },
  {
   "cell_type": "markdown",
   "metadata": {
    "slideshow": {
     "slide_type": "slide"
    }
   },
   "source": [
    "- Como segundo parámetro, opcional, una o\n",
    "varias líneas de inicialización o *setup*, usadas para\n",
    "inicializar valores."
   ]
  },
  {
   "cell_type": "markdown",
   "metadata": {
    "slideshow": {
     "slide_type": "slide"
    }
   },
   "source": [
    "Una vez creado un objeto de la clase `Timer`, podemos medir su tiempo\n",
    "de ejecución medio usando el método `timeit`, al cual le podemos pasar como parámetro\n",
    "opcional el número de bucles o iteraciones que queremos repetir para\n",
    "prevenir errores esstadísticos.\n",
    "\n",
    "(Aunque generalmente es buena idea dejarle esa decisión al propio módulo)."
   ]
  },
  {
   "cell_type": "markdown",
   "metadata": {
    "slideshow": {
     "slide_type": "slide"
    }
   },
   "source": [
    "**Nota**: Se puede usar `timeit` como un *one-liner*, es decir, podemos\n",
    "invocar `timeit` desde la línea de comando con `python -m timeit \"<Code to be timed>\".\n",
    "\n",
    "**Ejercicio**: Queremos generar un texto a partir de una lista\n",
    "de lineas. Pero queremos saber que es más rápido, si crear\n",
    "el texto a base de ir concatenando una línea de texto detrás\n",
    "de otra, o usar el método `join` de las cadenas de texto."
   ]
  },
  {
   "cell_type": "code",
   "execution_count": 40,
   "metadata": {},
   "outputs": [
    {
     "data": {
      "text/plain": [
       "1.52661611800022"
      ]
     },
     "execution_count": 40,
     "metadata": {},
     "output_type": "execute_result"
    }
   ],
   "source": [
    "import timeit\n",
    "\n",
    "textos = [\"Toy Story\", \n",
    "    \"A Bug's Life\", \n",
    "    \"Toy Story 2\", \n",
    "    \"Monsters, Inc.\", \n",
    "    \"Buscando a Nemo\", \n",
    "    \"Los Increíbles\", \n",
    "    \"Cars\", \n",
    "    \"Ratatouille\t\", \n",
    "    \"WALL·E\", \n",
    "    \"Up\", \n",
    "    \"Toy Story\", \n",
    "    \"Cars 2\", \n",
    "    \"Brave\", \n",
    "    \"Monsters University\", \n",
    "    \"Inside Out\", \n",
    "    \"The Good Dinosaur\", \n",
    "    \"Buscando a Dory\", \n",
    "    \"Cars 3\", \n",
    "    \"Coco\", \n",
    "    \"Los Increíbles 2\", \n",
    "    \"Toy Story 4\", \n",
    "    \"Onward\",\n",
    "]\n",
    "\n",
    "\n",
    "def concat_strings(textos=textos):\n",
    "    result = ''\n",
    "    for line in textos:\n",
    "        result += line\n",
    "    return result\n",
    "\n",
    "\n",
    "t1 = timeit.Timer(concat_strings, globals=globals)\n",
    "t1.timeit()"
   ]
  },
  {
   "cell_type": "code",
   "execution_count": 39,
   "metadata": {},
   "outputs": [
    {
     "data": {
      "text/plain": [
       "0.3656882300001598"
      ]
     },
     "execution_count": 39,
     "metadata": {},
     "output_type": "execute_result"
    }
   ],
   "source": [
    "def using_join(textos=textos):\n",
    "    return ''.join(textos)\n",
    "\n",
    "t2 = timeit.Timer(using_join)\n",
    "t2.timeit()"
   ]
  },
  {
   "cell_type": "markdown",
   "metadata": {},
   "source": [
    "Aqui la diferencia es claramente a favor de usar join, es unas 4 veces más\n",
    "rápido con esta muestra de datos."
   ]
  },
  {
   "cell_type": "markdown",
   "metadata": {
    "slideshow": {
     "slide_type": "slide"
    }
   },
   "source": [
    "Usar `timeit` para comprobar que sistema \n",
    "\n",
    "\n",
    "En el siguiente ejemplo usamos `timeit` desde la línea de comandos para\n",
    "comprobar si el método `join` de las cadenas de texto es más rápido\n",
    "cuando se le pasa una lista de enteros que previamente hemos de\n",
    "transformar a *strings* usando 1) una expresion generadora, 2) una *list\n",
    "comprehension* o 3) usando map:\n",
    "\n",
    "    .. highlight:: shell\n",
    "    $ python -m timeit '\"-\".join(str(n) for n in range(100))'\n",
    "    10000 loops, best of 5: 22.5 usec per loop\n",
    "    $ python -m timeit '\"-\".join([str(n) for n in range(100)])'\n",
    "    10000 loops, best of 5: 20.8 usec per loop\n",
    "    $ python -m timeit '\"-\".join(map(str, range(100)))'\n",
    "    20000 loops, best of 5: 16.3 usec per loop\n",
    "\n",
    "Los resultados varian para listas de diferentes tamaños:\n",
    "\n",
    "    .. highlight:: shell\n",
    "    $ python -m timeit '\"-\".join(str(n) for n in range(1000))'\n",
    "    1000 loops, best of 5: 225 usec per loop\n",
    "    $ python -m timeit '\"-\".join([str(n) for n in range(1000)])'\n",
    "    1000 loops, best of 5: 210 usec per loop\n",
    "    $ python -m timeit '\"-\".join(map(str, range(1000)))'\n",
    "    2000 loops, best of 5: 169 usec per loop\n",
    "\n",
    "`timeit` es lo suficientemente listo como para ajustar el número de\n",
    "veces que ejecuta el código al tiempo que tarda en ejecutarse una sola\n",
    "vez. En estas segundas pruebas, como la lista de numeros es 10 veces más\n",
    "grande, en vez de ejecutar 10.000 iteraciones solo ejecute 1.000."
   ]
  },
  {
   "cell_type": "code",
   "execution_count": null,
   "metadata": {},
   "outputs": [],
   "source": []
  }
 ],
 "metadata": {
  "celltoolbar": "Slideshow",
  "kernelspec": {
   "display_name": "Python 3",
   "language": "python",
   "name": "python3"
  },
  "language_info": {
   "codemirror_mode": {
    "name": "ipython",
    "version": 3
   },
   "file_extension": ".py",
   "mimetype": "text/x-python",
   "name": "python",
   "nbconvert_exporter": "python",
   "pygments_lexer": "ipython3",
   "version": "3.7.6"
  }
 },
 "nbformat": 4,
 "nbformat_minor": 4
}
