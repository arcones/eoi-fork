{
 "cells": [
  {
   "cell_type": "markdown",
   "metadata": {},
   "source": [
    "## La librería threading"
   ]
  },
  {
   "cell_type": "code",
   "execution_count": 3,
   "metadata": {},
   "outputs": [],
   "source": [
    "import random\n",
    "import time\n",
    "import threading"
   ]
  },
  {
   "cell_type": "code",
   "execution_count": 14,
   "metadata": {},
   "outputs": [],
   "source": [
    "names = ['alfa', 'beta', 'gamma', 'delta', 'epsilon', 'zeta', 'eta', 'theta']\n",
    "\n",
    "def work(name, position):\n",
    "    print(' ' * position * 10, name, \"starting\", flush=True)\n",
    "    secs = random.randrange(3, 9)\n",
    "    for i in range(secs):\n",
    "        time.sleep(1)\n",
    "        if i:\n",
    "            print(' ' * position * 10, name, f\"{i*100//secs}%\", flush=True)\n",
    "    \n",
    "    print(' ' * position * 10, name, \"finished\", flush=True)"
   ]
  },
  {
   "cell_type": "code",
   "execution_count": 15,
   "metadata": {},
   "outputs": [
    {
     "name": "stdout",
     "output_type": "stream",
     "text": [
      "                     jose starting\n",
      "                     jose 16%\n",
      "                     jose 33%\n",
      "                     jose 50%\n",
      "                     jose 66%\n",
      "                     jose 83%\n",
      "                     jose finished\n"
     ]
    }
   ],
   "source": [
    "work('jose', 2)"
   ]
  },
  {
   "cell_type": "code",
   "execution_count": 16,
   "metadata": {},
   "outputs": [
    {
     "name": "stdout",
     "output_type": "stream",
     "text": [
      "           alfa starting\n",
      " beta starting\n",
      "                     gamma starting\n",
      "                                                                       delta starting\n",
      "                                                    zeta starting\n",
      "epsilon starting\n",
      " alfa 25%\n",
      "           beta 14%\n",
      "                     gamma 25%\n",
      "                               delta 25%\n",
      "                                         epsilon 33%\n",
      "                                                   zeta 16%\n",
      " alfa 50%\n",
      "           beta 28%\n",
      "                     gamma 50%\n",
      "                               delta 50%\n",
      "                                         epsilon 66%\n",
      "                                                   zeta 33%\n",
      "                                         epsilon finished\n",
      " alfa 75%\n",
      " alfa finished\n",
      "           beta 42%\n",
      "                     gamma 75%\n",
      "                               delta 75%\n",
      "                     gamma finished\n",
      "                               delta finished\n",
      "                                                   zeta 50%\n",
      "           beta 57%\n",
      "                                                   zeta 66%\n",
      "           beta 71%\n",
      "                                                   zeta 83%\n",
      "                                                   zeta finished\n",
      "           beta 85%\n",
      "           beta finished\n"
     ]
    }
   ],
   "source": [
    "pool = []\n",
    "for i in range(0, 6):\n",
    "    worker = threading.Thread(target=work, args=(names[i], i))\n",
    "    pool.append(worker)\n",
    "    \n",
    "for w in pool:\n",
    "    w.start()\n",
    "    \n",
    "for w in pool:\n",
    "    w.join()"
   ]
  },
  {
   "cell_type": "code",
   "execution_count": null,
   "metadata": {},
   "outputs": [],
   "source": []
  }
 ],
 "metadata": {
  "kernelspec": {
   "display_name": "Python 3",
   "language": "python",
   "name": "python3"
  },
  "language_info": {
   "codemirror_mode": {
    "name": "ipython",
    "version": 3
   },
   "file_extension": ".py",
   "mimetype": "text/x-python",
   "name": "python",
   "nbconvert_exporter": "python",
   "pygments_lexer": "ipython3",
   "version": "3.6.9"
  }
 },
 "nbformat": 4,
 "nbformat_minor": 4
}
