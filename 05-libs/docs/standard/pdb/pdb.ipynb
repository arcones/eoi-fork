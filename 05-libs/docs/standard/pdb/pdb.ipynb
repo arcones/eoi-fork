{
 "cells": [
  {
   "cell_type": "markdown",
   "metadata": {
    "slideshow": {
     "slide_type": "slide"
    }
   },
   "source": [
    "## La Librería pdb\n",
    "\n",
    "El módulo __`pdb`__ define un debugger interactivo para programas Python."
   ]
  },
  {
   "cell_type": "markdown",
   "metadata": {
    "slideshow": {
     "slide_type": "slide"
    }
   },
   "source": [
    "Un debugger nos permite ejecutar paso a paso nuestros programas. Podemos\n",
    "examinar las variables internas, e incluso modificarlas. Es, para un desarrollador,\n",
    "lo más parecido a estar dentro del casco de Iron Man"
   ]
  },
  {
   "cell_type": "markdown",
   "metadata": {
    "slideshow": {
     "slide_type": "slide"
    }
   },
   "source": [
    "![Iron man debugeando](./img/pdb.jpg)"
   ]
  },
  {
   "cell_type": "markdown",
   "metadata": {
    "slideshow": {
     "slide_type": "slide"
    }
   },
   "source": [
    "Soporta *breakpoints* y *breakpoints* condicionales, ejecución paso a\n",
    "paso, inspección de la traza, listado del codigo fuente y evaluación de\n",
    "código Python arbitrario en el contexto del programa.\n",
    "\n",
    "Un *breakpoint* es una línea del código que se marca para que, cuando el\n",
    "flujo del programa llegue a esa línea, se interrumpa la ejecución y\n",
    "se nos pase el control mediante el debugger."
   ]
  },
  {
   "cell_type": "markdown",
   "metadata": {
    "slideshow": {
     "slide_type": "slide"
    }
   },
   "source": [
    "Puede ser llamada bajo el control del programa o podemos invocarlo desde\n",
    "la línea de comandos con:\n",
    "\n",
    "    $ pdb <script.py>"
   ]
  },
  {
   "cell_type": "markdown",
   "metadata": {
    "slideshow": {
     "slide_type": "slide"
    }
   },
   "source": [
    "Cuando se sjecuta el debugger, el prompt cambia a `(Pdb)`. Podemos\n",
    "consultar una breve ayuda pulsando `help`. Los comandos más útiles\n",
    "puende ser:"
   ]
  },
  {
   "cell_type": "markdown",
   "metadata": {
    "slideshow": {
     "slide_type": "slide"
    }
   },
   "source": [
    "- __h(elp)__\n",
    "\n",
    "Sin argumentosm imprime la lista de posibles ordener. Si la pasamos una\n",
    "orden como parámetro, ampliará la información sobre el mismo."
   ]
  },
  {
   "cell_type": "markdown",
   "metadata": {
    "slideshow": {
     "slide_type": "slide"
    }
   },
   "source": [
    "- __w(here)__\n",
    "\n",
    "Imprime la traza, con la actuividad más reciente al final. Una flecha\n",
    "indica en entorno actual"
   ]
  },
  {
   "cell_type": "markdown",
   "metadata": {
    "slideshow": {
     "slide_type": "slide"
    }
   },
   "source": [
    "- __s(tep)__\n",
    "\n",
    "Ejecuta la línea actual, parándose en la primera ocasión que pueda: O\n",
    "bien en la primera línea de una función que se ha llamado o en la\n",
    "siguiente línea."
   ]
  },
  {
   "cell_type": "markdown",
   "metadata": {
    "slideshow": {
     "slide_type": "slide"
    }
   },
   "source": [
    "- __n(ext)__\n",
    "\n",
    "Continua la ejecución hasta que se alcanza la siguiente línea en el\n",
    "bloque actual o retorne de una función. La diferencia con `step` es que\n",
    "`step` entrará dentro del cuerpo de una función, mientras que `next` la\n",
    "ejecutará y seguirá hasta la siguiente línea."
   ]
  },
  {
   "cell_type": "markdown",
   "metadata": {
    "slideshow": {
     "slide_type": "slide"
    }
   },
   "source": [
    "- __r(eturn)__\n",
    "\n",
    "Ejecuta el resto de la función y retorna."
   ]
  },
  {
   "cell_type": "markdown",
   "metadata": {
    "slideshow": {
     "slide_type": "slide"
    }
   },
   "source": [
    "- __c(ont(inue))__\n",
    "\n",
    "Continua la ejecución. Solo se para si encuentra un *breakpoint* o si\n",
    "termina el programa."
   ]
  },
  {
   "cell_type": "markdown",
   "metadata": {
    "slideshow": {
     "slide_type": "slide"
    }
   },
   "source": [
    "- __l(ist) [first[, last]]__\n",
    "\n",
    "Lista el código fuente."
   ]
  },
  {
   "cell_type": "markdown",
   "metadata": {
    "slideshow": {
     "slide_type": "slide"
    }
   },
   "source": [
    "Podemos usar el debugger desde dentro del programa; lo habitual es\n",
    "ejecuta la siguiente línea antes de llegar al código problemático:\n",
    "\n",
    "    import pdb; pdb.set_trace()"
   ]
  },
  {
   "cell_type": "markdown",
   "metadata": {
    "slideshow": {
     "slide_type": "slide"
    }
   },
   "source": [
    "Nota: Si planeas usar mucho el debugger, te recomiendo que instales la\n",
    "librería externa [ipdb](https://pypi.org/project/ipdb/).\n",
    "\n",
    "En esa caso harias:\n",
    "\n",
    "    import ipdb; ipdb.set_trace()"
   ]
  },
  {
   "cell_type": "markdown",
   "metadata": {
    "slideshow": {
     "slide_type": "slide"
    }
   },
   "source": [
    "Esto arrancará en modo debugger justo en esa línea. A partir de hay se\n",
    "puede avanzar a traves del código con `s` o `n`, o seguir la ejecucion\n",
    "con `c`.\n",
    "\n",
    "Hay muchas más ordenes y usos disponibles. Consulta la documentación\n",
    "oficial de Python para ver todos las opciones."
   ]
  },
  {
   "cell_type": "markdown",
   "metadata": {
    "slideshow": {
     "slide_type": "slide"
    }
   },
   "source": [
    "**Ejercicio**: Ejecutar el siguiente fragmento de codigo con el debugger. Probar\n",
    "los comandos `l` (*list*), `s` (*step*), `n` (*next*), `r` (*return*) y `c` (*continue*).\n",
    "Probar a cambiar algun valor durante la traza"
   ]
  },
  {
   "cell_type": "code",
   "execution_count": 2,
   "metadata": {
    "scrolled": true,
    "slideshow": {
     "slide_type": "slide"
    }
   },
   "outputs": [
    {
     "name": "stdout",
     "output_type": "stream",
     "text": [
      "La función f empieza\n",
      "La función g empieza\n",
      "> <ipython-input-2-b5f2a234c6b2>(12)g()\n",
      "-> result = x**2\n",
      "(Pdb) x\n",
      "7\n",
      "(Pdb) s\n",
      "> <ipython-input-2-b5f2a234c6b2>(13)g()\n",
      "-> print(\"La función g termina\")\n",
      "(Pdb) result\n",
      "49\n",
      "(Pdb) result=4096\n",
      "(Pdb) result\n",
      "4096\n",
      "(Pdb) c\n",
      "La función g termina\n",
      "La función f termina\n",
      "4096\n"
     ]
    }
   ],
   "source": [
    "import pdb\n",
    "\n",
    "def f(a):\n",
    "    print(\"La función f empieza\")\n",
    "    result = g(a+1)\n",
    "    print(\"La función f termina\")\n",
    "    return result\n",
    "\n",
    "def g(x):\n",
    "    print(\"La función g empieza\")\n",
    "    import pdb; pdb.set_trace()\n",
    "    result = x**2\n",
    "    print(\"La función g termina\")\n",
    "    return result\n",
    "    \n",
    "def main():\n",
    "    \n",
    "    print(f(6))\n",
    "    \n",
    "main()"
   ]
  },
  {
   "cell_type": "code",
   "execution_count": null,
   "metadata": {},
   "outputs": [],
   "source": []
  }
 ],
 "metadata": {
  "celltoolbar": "Slideshow",
  "kernelspec": {
   "display_name": "Python 3",
   "language": "python",
   "name": "python3"
  },
  "language_info": {
   "codemirror_mode": {
    "name": "ipython",
    "version": 3
   },
   "file_extension": ".py",
   "mimetype": "text/x-python",
   "name": "python",
   "nbconvert_exporter": "python",
   "pygments_lexer": "ipython3",
   "version": "3.6.9"
  }
 },
 "nbformat": 4,
 "nbformat_minor": 4
}
