{
 "cells": [
  {
   "cell_type": "markdown",
   "metadata": {
    "slideshow": {
     "slide_type": "slide"
    }
   },
   "source": [
    "## La libreria json\n",
    "\n",
    "Nos permite trabajar con ficheros en formato json\n",
    "\n",
    "JSON (JavaScript Object Notation), es un formato de texto ligero para el intercambio de datos. JSON es un subconjunto de la notación literal de objetos de JavaScript aunque hoy, debido a su amplia adopción como alternativa a XML, se considera un formato de lenguaje independiente.\n",
    "\n",
    "Es utilizado para proyectos de lenguajes de programación diferentes como C, C++, Java, Javascript, Perl, Python y muchos más. Estas propiedades hacen que JSON sea el lenguaje ideal para el intercambio de datos.\n",
    "\n",
    "Por lo tanto, JSON se puede considerar como un método simple de crear y almacenar estructuras de datos y, gracias a su sintaxis, se utiliza en muchas aplicaciones web. Una de sus principales virtudes es que, además de ser relativamente eficiente, es legible por un humano, con lo que actualemente es el formato usado por la mayoría de las API.\n",
    "\n",
    "Un ejemplo de datos con formato JSON es la siguiente:"
   ]
  },
  {
   "cell_type": "markdown",
   "metadata": {
    "slideshow": {
     "slide_type": "slide"
    }
   },
   "source": [
    "    { \"username\": \"fmiller\", \"dob\": \"1988-02-26\", \"active\": true }"
   ]
  },
  {
   "cell_type": "markdown",
   "metadata": {
    "slideshow": {
     "slide_type": "slide"
    }
   },
   "source": [
    "El módulo utilizado para este propósito es el módulo json. Al ser parte de la librera estándar, lo único que necesitas hacer para usar este módulo es importarlo:"
   ]
  },
  {
   "cell_type": "code",
   "execution_count": 4,
   "metadata": {
    "slideshow": {
     "slide_type": "slide"
    }
   },
   "outputs": [],
   "source": [
    "import json"
   ]
  },
  {
   "cell_type": "markdown",
   "metadata": {
    "slideshow": {
     "slide_type": "slide"
    }
   },
   "source": [
    "Usaremos esta librería para, o bien interpretar un texto y convertirlo en una estructira de datos nativa de Python, o a la inversa, convertir en texto o serializar unos valores de python."
   ]
  },
  {
   "cell_type": "markdown",
   "metadata": {
    "slideshow": {
     "slide_type": "slide"
    }
   },
   "source": [
    "La funcion `loads`\n",
    "\n",
    "Loads hace la primera de las operaciones. Le pasamos como argumento un texto en formato json, y nos devuelve una estructura de datos con valores nativos de Python."
   ]
  },
  {
   "cell_type": "code",
   "execution_count": 13,
   "metadata": {
    "slideshow": {
     "slide_type": "slide"
    }
   },
   "outputs": [
    {
     "name": "stdout",
     "output_type": "stream",
     "text": [
      "<class 'dict'> 523 <class 'int'> True <class 'bool'>\n",
      "<class 'dict'> 2223 <class 'int'> False <class 'bool'>\n"
     ]
    }
   ],
   "source": [
    "import json\n",
    "\n",
    "user_json = '''\n",
    "[\n",
    "    {\"username\": \"fmiller\", \"dob\": 523, \"active\": true, \"tags\":[\"g\", \"f\"]},\n",
    "    {\"username\": \"sditko\", \"dob\": 2223, \"active\": false}\n",
    "]'''\n",
    "users = json.loads(user_json)\n",
    "for user in users:\n",
    "    print(type(user), user['dob'], type(user['dob']), user['active'], type(user['active']))"
   ]
  },
  {
   "cell_type": "code",
   "execution_count": 19,
   "metadata": {},
   "outputs": [
    {
     "name": "stdout",
     "output_type": "stream",
     "text": [
      "12.34 <class 'float'>\n"
     ]
    }
   ],
   "source": [
    "i = json.loads(\"12.34\")\n",
    "print(i, type(i))"
   ]
  },
  {
   "cell_type": "markdown",
   "metadata": {
    "slideshow": {
     "slide_type": "slide"
    }
   },
   "source": [
    "## La funcion dumps\n",
    "\n",
    "La función dumps es la inversa de loads, acepta como parametro una variable python (Incluyendo listas o diccionarios que contengan otros valores), y devuelve una cadena de texto formateada en json."
   ]
  },
  {
   "cell_type": "code",
   "execution_count": 1,
   "metadata": {},
   "outputs": [
    {
     "ename": "ModuleNotFoundError",
     "evalue": "No module named 'arrow'",
     "output_type": "error",
     "traceback": [
      "\u001b[0;31m---------------------------------------------------------------------------\u001b[0m",
      "\u001b[0;31mModuleNotFoundError\u001b[0m                       Traceback (most recent call last)",
      "\u001b[0;32m<ipython-input-1-62ee09128268>\u001b[0m in \u001b[0;36m<module>\u001b[0;34m\u001b[0m\n\u001b[0;32m----> 1\u001b[0;31m \u001b[0;32mimport\u001b[0m \u001b[0marrow\u001b[0m\u001b[0;34m\u001b[0m\u001b[0;34m\u001b[0m\u001b[0m\n\u001b[0m",
      "\u001b[0;31mModuleNotFoundError\u001b[0m: No module named 'arrow'"
     ]
    }
   ],
   "source": [
    "import arrow\n"
   ]
  },
  {
   "cell_type": "markdown",
   "metadata": {
    "slideshow": {
     "slide_type": "slide"
    }
   },
   "source": [
    "Tenemos el siguiente diccionario en Python:"
   ]
  },
  {
   "cell_type": "code",
   "execution_count": 26,
   "metadata": {
    "slideshow": {
     "slide_type": "slide"
    }
   },
   "outputs": [
    {
     "name": "stdout",
     "output_type": "stream",
     "text": [
      "{\"name\": \"Bob\", \"dob\": \"1980-03-23\", \"isEmployed\": null} <class 'str'>\n"
     ]
    }
   ],
   "source": [
    "import json \n",
    "import datetime\n",
    "\n",
    "\n",
    "\n",
    "d = {'name':'Bob', 'dob':\"1980-03-23T22:12:34.04.442\", 'isEmployed':None}\n",
    "d\n",
    "s = json.dumps(d) \n",
    "print(s, type(s))"
   ]
  },
  {
   "cell_type": "markdown",
   "metadata": {
    "slideshow": {
     "slide_type": "slide"
    }
   },
   "source": [
    "Esta salida se considera la representación de los datos del objeto (diccionario). El método dumps() fue la clave para dicha operación."
   ]
  },
  {
   "cell_type": "markdown",
   "metadata": {
    "slideshow": {
     "slide_type": "slide"
    }
   },
   "source": [
    "### Limitaciones de json\n",
    "\n",
    "Hay determinados tipos de valores que no se pueden representar en json. POr ejemplo, los datos de tipo fecha o timestamp no tienen una representacion como tales en json. Un truco habitual es codificarlos como string usando el formato ISO 8601."
   ]
  },
  {
   "cell_type": "markdown",
   "metadata": {
    "slideshow": {
     "slide_type": "slide"
    }
   },
   "source": [
    "En general, json puede trabajar con:\n",
    "\n",
    "    Valores booleanos\n",
    "    El objeto None\n",
    "    Números enteros o en coma flotante\n",
    "    Cadenas de caracteres\n",
    "    Listas\n",
    "    Diccionarios\n",
    "\n",
    "Cualquier otro tipo, incluyendo por supuesto nuestras clases, debera ser adaptado a uno de estos tipos basicos para que se pueda convertir a json."
   ]
  },
  {
   "cell_type": "markdown",
   "metadata": {
    "slideshow": {
     "slide_type": "slide"
    }
   },
   "source": [
    "Ejercicio: Intentar serializar un objeto de tipo datetime.datetime. Comprobar que da error. Intentar ahora con un objeto tipo arrow.Arrow. Comprobar que tambien da error, pero asi podemos ver la utilida del metodo for_json."
   ]
  },
  {
   "cell_type": "code",
   "execution_count": 2,
   "metadata": {
    "slideshow": {
     "slide_type": "slide"
    }
   },
   "outputs": [
    {
     "ename": "ModuleNotFoundError",
     "evalue": "No module named 'arrow'",
     "output_type": "error",
     "traceback": [
      "\u001b[0;31m---------------------------------------------------------------------------\u001b[0m",
      "\u001b[0;31mModuleNotFoundError\u001b[0m                       Traceback (most recent call last)",
      "\u001b[0;32m<ipython-input-2-5fd5632ea3a6>\u001b[0m in \u001b[0;36m<module>\u001b[0;34m\u001b[0m\n\u001b[1;32m      1\u001b[0m \u001b[0;32mimport\u001b[0m \u001b[0mjson\u001b[0m\u001b[0;34m\u001b[0m\u001b[0;34m\u001b[0m\u001b[0m\n\u001b[1;32m      2\u001b[0m \u001b[0;32mimport\u001b[0m \u001b[0mdatetime\u001b[0m\u001b[0;34m\u001b[0m\u001b[0;34m\u001b[0m\u001b[0m\n\u001b[0;32m----> 3\u001b[0;31m \u001b[0;32mimport\u001b[0m \u001b[0marrow\u001b[0m\u001b[0;34m\u001b[0m\u001b[0;34m\u001b[0m\u001b[0m\n\u001b[0m\u001b[1;32m      4\u001b[0m \u001b[0;34m\u001b[0m\u001b[0m\n\u001b[1;32m      5\u001b[0m \u001b[0mhoy\u001b[0m \u001b[0;34m=\u001b[0m \u001b[0marrow\u001b[0m\u001b[0;34m.\u001b[0m\u001b[0mutcnow\u001b[0m\u001b[0;34m(\u001b[0m\u001b[0;34m)\u001b[0m\u001b[0;34m\u001b[0m\u001b[0;34m\u001b[0m\u001b[0m\n",
      "\u001b[0;31mModuleNotFoundError\u001b[0m: No module named 'arrow'"
     ]
    }
   ],
   "source": [
    "import json\n",
    "import datetime\n",
    "import arrow\n",
    "\n",
    "hoy = arrow.utcnow()\n",
    "json.dumps(hoy.for_json())\n"
   ]
  },
  {
   "cell_type": "markdown",
   "metadata": {
    "slideshow": {
     "slide_type": "slide"
    }
   },
   "source": [
    "La libreria json nos permite ampliar los metodos loads y dumps para que puedan interpretar determinados valores que no estan incluidos en la especificacion de json pero que nosotros podemos reconstruir o serializar:"
   ]
  },
  {
   "cell_type": "code",
   "execution_count": 8,
   "metadata": {
    "slideshow": {
     "slide_type": "slide"
    }
   },
   "outputs": [],
   "source": [
    "import json, datetime\n",
    "\n",
    "class SuperJSONEncoder(json.JSONEncoder):\n",
    "\n",
    "    def default(self, obj):\n",
    "        if isinstance(obj, datetime.date):\n",
    "            return f\"DATE/{obj.year}-{obj.month:02}-{obj.day:02}\"\n",
    "        return super().default(obj)\n",
    "\n",
    "def as_json(obj):\n",
    "    return json.dumps(obj, cls=SuperJSONEncoder, indent=4)"
   ]
  },
  {
   "cell_type": "code",
   "execution_count": 9,
   "metadata": {
    "slideshow": {
     "slide_type": "fragment"
    }
   },
   "outputs": [
    {
     "name": "stdout",
     "output_type": "stream",
     "text": [
      "{\n",
      "    \"name\": \"John\",\n",
      "    \"birdtday\": \"DATE/1988-05-15\"\n",
      "}\n"
     ]
    }
   ],
   "source": [
    "data = {'name': \"John\", \"birdtday\": datetime.date(1988, 5, 15)}\n",
    "print(as_json(data))"
   ]
  },
  {
   "cell_type": "markdown",
   "metadata": {
    "slideshow": {
     "slide_type": "slide"
    }
   },
   "source": [
    "Ejercicio: Supongamos que tenmos una clase para representar las cartas de una baraja, como esta:"
   ]
  },
  {
   "cell_type": "code",
   "execution_count": 10,
   "metadata": {
    "slideshow": {
     "slide_type": "slide"
    }
   },
   "outputs": [],
   "source": [
    "class Card:\n",
    "\n",
    "    SUITS = {'T': 'trébol', 'D': 'diamantes', 'C': 'corazones', 'P': 'picas'}\n",
    "\n",
    "    VALUES = {\n",
    "        'A': 'as',\n",
    "        '2': 'dos',\n",
    "        '3': 'tres',\n",
    "        '4': 'cuatro',\n",
    "        '5': 'cinco',\n",
    "        '6': 'seis',\n",
    "        '7': 'siete',\n",
    "        '8': 'ocho',\n",
    "        '9': 'nueve',\n",
    "        '10': 'diez',\n",
    "        'J': 'jota',\n",
    "        'Q': 'reina',\n",
    "        'K': 'rey',\n",
    "    }\n",
    "\n",
    "    def __init__(self, code):\n",
    "        self.suit = code[0]\n",
    "        self.value = code[1:]\n",
    "\n",
    "    def suit_name(self):\n",
    "        return self.SUITS[self.suit]\n",
    "\n",
    "    def value_name(self):\n",
    "        return self.VALUES[self.value]\n",
    "\n",
    "    def __str__(self):\n",
    "        return f\"{self.value_name()} de {self.suit_name()}\"\n",
    "    \n",
    "    def to_dict(self):\n",
    "        return {\n",
    "            'class': \"Card\",\n",
    "            'suit': self.suit,\n",
    "            'value': self.value\n",
    "        }"
   ]
  },
  {
   "cell_type": "code",
   "execution_count": 11,
   "metadata": {
    "slideshow": {
     "slide_type": "slide"
    }
   },
   "outputs": [
    {
     "name": "stdout",
     "output_type": "stream",
     "text": [
      "dos de diamantes\n"
     ]
    },
    {
     "data": {
      "text/plain": [
       "'D2'"
      ]
     },
     "execution_count": 11,
     "metadata": {},
     "output_type": "execute_result"
    }
   ],
   "source": [
    "carta =  Card(\"D2\")\n",
    "print(carta)"
   ]
  },
  {
   "cell_type": "code",
   "execution_count": 17,
   "metadata": {},
   "outputs": [],
   "source": [
    "import json, datetime\n",
    "\n",
    "class CardJSONEncoder(json.JSONEncoder):\n",
    "\n",
    "    def default(self, obj):\n",
    "        if isinstance(obj, Card):\n",
    "            return f\"CARD:{obj.suit}:{obj.value}\"\n",
    "        return super().default(obj)\n",
    "\n",
    "def as_json(obj):\n",
    "    return json.dumps(obj, cls=CardJSONEncoder, indent=4)"
   ]
  },
  {
   "cell_type": "code",
   "execution_count": 20,
   "metadata": {},
   "outputs": [
    {
     "name": "stdout",
     "output_type": "stream",
     "text": [
      "[\n",
      "    \"CARD:T:A\",\n",
      "    \"CARD:C:Q\",\n",
      "    \"CARD:D:7\"\n",
      "]\n"
     ]
    }
   ],
   "source": [
    "mano = [Card(\"TA\"), Card(\"CQ\"), Card(\"D7\")]\n",
    "print(as_json(mano))"
   ]
  },
  {
   "cell_type": "markdown",
   "metadata": {
    "slideshow": {
     "slide_type": "slide"
    }
   },
   "source": [
    "Como podriamos guardar la informacion de una carta en JSON. Que es lo minima informacion necesaria para poder almacenar y luego poder reconstruir una carta?"
   ]
  },
  {
   "cell_type": "markdown",
   "metadata": {
    "slideshow": {
     "slide_type": "slide"
    }
   },
   "source": [
    "Nota: No hay realmente una forma \"correcta\" de resolver esto. Depende mucho del contexto. Pero es interesante que planteemos diferentes formas de hacerlo."
   ]
  },
  {
   "cell_type": "code",
   "execution_count": null,
   "metadata": {},
   "outputs": [],
   "source": [
    "https://api.tfl.gov.uk/Line/bakerloo%2Cvictoria%2Ccentral%2Cjubilee%2Cdlr"
   ]
  },
  {
   "cell_type": "code",
   "execution_count": 23,
   "metadata": {},
   "outputs": [
    {
     "name": "stdout",
     "output_type": "stream",
     "text": [
      "Bakerloo [tube] 0 disruptions\n",
      "DLR [dlr] 0 disruptions\n",
      "Jubilee [tube] 0 disruptions\n",
      "Victoria [tube] 0 disruptions\n"
     ]
    }
   ],
   "source": [
    "# %load tlf-line-status.py\n",
    "import requests\n",
    "\n",
    "url = \"https://api.tfl.gov.uk/Line/bakerloo,victoria,central,jubilee,dlr\"\n",
    "r = requests.get(url)\n",
    "assert r.status_code == 200\n",
    "for line in r.json():\n",
    "    name = line['name']\n",
    "    mode_name = line[\"modeName\"]\n",
    "    disruptions = line[\"disruptions\"]\n",
    "    print(f\"{name} [{mode_name}] {len(disruptions)} disruptions\")\n"
   ]
  },
  {
   "cell_type": "code",
   "execution_count": null,
   "metadata": {},
   "outputs": [],
   "source": []
  },
  {
   "cell_type": "code",
   "execution_count": null,
   "metadata": {},
   "outputs": [],
   "source": []
  },
  {
   "cell_type": "code",
   "execution_count": null,
   "metadata": {},
   "outputs": [],
   "source": []
  }
 ],
 "metadata": {
  "celltoolbar": "Slideshow",
  "kernelspec": {
   "display_name": "Python 3",
   "language": "python",
   "name": "python3"
  },
  "language_info": {
   "codemirror_mode": {
    "name": "ipython",
    "version": 3
   },
   "file_extension": ".py",
   "mimetype": "text/x-python",
   "name": "python",
   "nbconvert_exporter": "python",
   "pygments_lexer": "ipython3",
   "version": "3.8.5"
  }
 },
 "nbformat": 4,
 "nbformat_minor": 4
}
