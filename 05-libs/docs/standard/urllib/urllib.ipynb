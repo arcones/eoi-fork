{
 "cells": [
  {
   "cell_type": "markdown",
   "metadata": {},
   "source": [
    "## El paquete urllib\n",
    "\n",
    "El paquete urllib incluye modulos especificos para abrir y trabajar\n",
    "con direcciones de internet (URLs)"
   ]
  },
  {
   "cell_type": "markdown",
   "metadata": {},
   "source": [
    "Dentro de este paquete, se encuentran los siguiente módulos:\n",
    "\n",
    "- ``urllib.request`` usado para abri y lerr URLs\n",
    "\n",
    "- ``urllib.error`` contiene las exceprciones usadas por ``urllib.request``\n",
    "\n",
    "- ``urllib.parse`` para analizar y descompones en partes las URLs\n",
    "\n",
    "- ``urllib.robotparser`` para procesar ficheros de tipo `robots.txt`"
   ]
  },
  {
   "cell_type": "markdown",
   "metadata": {},
   "source": [
    "La función más usada del módulo ``request`` es la siguiente::\n",
    "\n",
    "    urllib.request.urlopen(url[, data][, timeout])\n",
    "\n",
    "Que abre la url indicada, dandonos un objeto similar a un fichero.\n",
    "\n",
    "En el parámetro opcional ``data`` podemos incluir información\n",
    "adicional  que requieren ciertas peticiones web, especialmente\n",
    "``POST``. Si se incluye, ``data`` debe estar formateada con el\n",
    "estándar  ``application/x-www-form-urlencoded``, algo que podemos\n",
    "conseguir usando la función ``urllib.parse.urlencode()``, que acepta como\n",
    "parámetro un  diccionario o una secuencia de parejas (2-tuplas), y\n",
    "deveulve una string en dicho formato.\n",
    "\n",
    "El otro parámetro opcional, ``timeout``, indica el tiempo en segundos\n",
    "que debemos esperar antes de descartar por imposible una conexión."
   ]
  },
  {
   "cell_type": "markdown",
   "metadata": {},
   "source": [
    "El objeto devuelto, además de comportarse como un archivo, dispone de\n",
    "tres métodos adicionales:\n",
    "\n",
    "- ``geturl()``\n",
    "\n",
    "  Devuelve la URL del recurso recuperado. Esto se utiliza\n",
    "  noprmalmente para determinar si ha habido alguna clase de\n",
    "  recirección.\n",
    "\n",
    "- ``info()``\n",
    "\n",
    "  Devuelve la meta-información sobre el recurso solicitado, como\n",
    "  las cabeceras, en forma de una instancia de la clase\n",
    "  ``mimetools.Message``.\n",
    "\n",
    "- ``getcode()``\n",
    "\n",
    "  Devuelve el código de estado del protocolo HTTP de la\n",
    "  respuesta."
   ]
  },
  {
   "cell_type": "code",
   "execution_count": 15,
   "metadata": {},
   "outputs": [
    {
     "name": "stdout",
     "output_type": "stream",
     "text": [
      "Codigo de estado: 200\n",
      "URL de respuesta: https://www.python.org/\n",
      "-- info ------------------\n",
      "Connection: close\n",
      "Content-Length: 50214\n",
      "Server: nginx\n",
      "Content-Type: text/html; charset=utf-8\n",
      "X-Frame-Options: DENY\n",
      "Via: 1.1 vegur, 1.1 varnish\n",
      "Accept-Ranges: bytes\n",
      "Date: Wed, 21 Oct 2020 16:22:32 GMT\n",
      "Via: 1.1 vegur, 1.1 varnish\n",
      "Age: 2078\n",
      "X-Served-By: cache-bwi5141-BWI, cache-mad22075-MAD\n",
      "X-Cache: MISS, HIT\n",
      "X-Cache-Hits: 0, 4\n",
      "X-Timer: S1603297353.796979,VS0,VE0\n",
      "Vary: Cookie\n",
      "Strict-Transport-Security: max-age=63072000; includeSubDomains\n"
     ]
    }
   ],
   "source": [
    "import urllib\n",
    "import urllib.request\n",
    "\n",
    "url = 'http://www.python.org/'\n",
    "with urllib.request.urlopen(url) as f:\n",
    "    print(f\"Codigo de estado: {f.getcode()}\")\n",
    "    print(f\"URL de respuesta: {f.geturl()}\")\n",
    "    print(\"-- info ------------------\")\n",
    "    meta_info = f.info()\n",
    "    for name in meta_info:\n",
    "        print(f\"{name}: {meta_info[name]}\")\n",
    "        "
   ]
  },
  {
   "cell_type": "markdown",
   "metadata": {},
   "source": [
    "Ejemplo: Salvar una página de Internet en un fichero local::"
   ]
  },
  {
   "cell_type": "code",
   "execution_count": 8,
   "metadata": {},
   "outputs": [],
   "source": [
    "import urllib\n",
    "import urllib.request\n",
    "\n",
    "url = 'http://www.python.org/'\n",
    "with urllib.request.urlopen(url) as f:\n",
    "    with open('python.html', 'wb') as salida:\n",
    "        for linea in f.readlines():\n",
    "            salida.write(linea)\n"
   ]
  },
  {
   "cell_type": "code",
   "execution_count": 9,
   "metadata": {},
   "outputs": [
    {
     "name": "stdout",
     "output_type": "stream",
     "text": [
      "python.html  urllib.ipynb  urllib.rst\n"
     ]
    }
   ],
   "source": [
    "!ls"
   ]
  },
  {
   "cell_type": "code",
   "execution_count": 10,
   "metadata": {},
   "outputs": [
    {
     "name": "stdout",
     "output_type": "stream",
     "text": [
      "<!doctype html>\n",
      "<!--[if lt IE 7]>   <html class=\"no-js ie6 lt-ie7 lt-ie8 lt-ie9\">   <![endif]-->\n",
      "<!--[if IE 7]>      <html class=\"no-js ie7 lt-ie8 lt-ie9\">          <![endif]-->\n",
      "<!--[if IE 8]>      <html class=\"no-js ie8 lt-ie9\">                 <![endif]-->\n",
      "<!--[if gt IE 8]><!--><html class=\"no-js\" lang=\"en\" dir=\"ltr\">  <!--<![endif]-->\n",
      "\n",
      "<head>\n",
      "    <meta charset=\"utf-8\">\n",
      "    <meta http-equiv=\"X-UA-Compatible\" content=\"IE=edge\">\n",
      "\n"
     ]
    }
   ],
   "source": [
    "!head python.html"
   ]
  },
  {
   "cell_type": "code",
   "execution_count": null,
   "metadata": {},
   "outputs": [],
   "source": []
  }
 ],
 "metadata": {
  "kernelspec": {
   "display_name": "Python 3",
   "language": "python",
   "name": "python3"
  },
  "language_info": {
   "codemirror_mode": {
    "name": "ipython",
    "version": 3
   },
   "file_extension": ".py",
   "mimetype": "text/x-python",
   "name": "python",
   "nbconvert_exporter": "python",
   "pygments_lexer": "ipython3",
   "version": "3.8.5"
  }
 },
 "nbformat": 4,
 "nbformat_minor": 4
}
