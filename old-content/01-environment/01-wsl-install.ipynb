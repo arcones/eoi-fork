{
 "cells": [
  {
   "cell_type": "markdown",
   "metadata": {},
   "source": [
    "## Instalación de WSL (Windows Subsystem for Linux) en Windows 10:\n",
    "\n",
    "Recordemos que [WSL](https://en.wikipedia.org/wiki/Windows_Subsystem_for_Linux) nos da una consola con un entorno Linux que podemos utilizar en nuestro Windows sin necesidad de instalar una máquina virtual o crear una partición aparte para Linux nativo. Es importante también saber que existen dos versiones de WSL hoy en día: WSL y WSL2. La segunda es bastante reciente (publicada a mediados de 2019), tiene mejor rendimiento y se adhiere más al comportamiento de un Linux nativo. Sin embargo, aún no está disponible para el público general y, en cualquier caso, las diferencias no van a ser relevantes para el tipo de uso que le daremos nosotros, así que por sencillez nos decantaremos por WSL clásico durante el curso.\n",
    "\n",
    "Para activar WSL en Windows 10 e instalar un entorno Ubuntu (se pueden probar otras distros si así se prefiere), hay que seguir los siguientes pasos (**_Nota_**: A la hora de copiar y pegar los comandos en Powershell, debemos tener en cuenta que `PS>` simplemente es el _prompt_, una indicación visual de que estamos en la consola y lo que sigue debe ser introducido ahí, pero **no** hay que pegar `PS>` literalmente; eso nos daría un error de sintaxis):"
   ]
  },
  {
   "cell_type": "markdown",
   "metadata": {},
   "source": [
    "1. **Lanzamos Powershell con permisos de administrador:**\n",
    "\n",
    "![Lanzar Powershell con permisos de administrador](https://storage.googleapis.com/curso-eoi/launch-powershell.png)\n",
    "\n",
    "2. **Activamos la característica de WSL:**\n",
    "\n",
    "```powershell\n",
    "PS> Enable-WindowsOptionalFeature -Online -FeatureName Microsoft-Windows-Subsystem-Linux\n",
    "```\n",
    "\n",
    "3. **Descargamos la imagen de Ubuntu 18.04 que usaremos:**\n",
    "\n",
    "```powershell\n",
    "PS> Invoke-WebRequest -Uri https://aka.ms/wsl-ubuntu-1804 -OutFile Ubuntu.appx -UseBasicParsing\n",
    "```\n",
    "\n",
    "4. **Finalmente, la instalamos:**\n",
    "\n",
    "```powershell\n",
    "PS> Add-AppxPackage .\\Ubuntu.appx\n",
    "```"
   ]
  },
  {
   "cell_type": "markdown",
   "metadata": {},
   "source": [
    "En este punto, WSL debería estar instalado correctamente, y debería también aparecer en el menú Inicio. Busquémoslo ahí:\n",
    "\n",
    "![Ubuntu 18.04 en menu Inicio](https://storage.googleapis.com/curso-eoi/ubuntu-menu-entry.png)"
   ]
  },
  {
   "cell_type": "markdown",
   "metadata": {},
   "source": [
    "Al ejecutarlo por primera vez, es posible que tarde unos instantes en completar la instalación, tras lo cual nos pedirá un usuario y contraseña con el que trabajar. En Linux, existe una distinción clara entre el superusuario (_root_) y los usuarios no privilegiados. Como norma general, trabajaremos siempre como usuario no privilegiado excepto para las tareas que requieran permisos especiales, tales como instalar nuevos paquetes. Por ahora, simplemente introduzcamos el usuario y contraseña que nos apetezca (sugerencia: **python**), y debería darnos acceso al prompt de Linux, tal que así:\n",
    "\n",
    "![Primer uso de Ubuntu](https://storage.googleapis.com/curso-eoi/first-use-ubuntu.png)"
   ]
  },
  {
   "cell_type": "markdown",
   "metadata": {},
   "source": [
    "Listo! Ya tenemos un entorno Linux preparado para trabajar."
   ]
  },
  {
   "cell_type": "code",
   "execution_count": null,
   "metadata": {},
   "outputs": [],
   "source": []
  }
 ],
 "metadata": {
  "kernelspec": {
   "display_name": "Python 3",
   "language": "python",
   "name": "python3"
  },
  "language_info": {
   "codemirror_mode": {
    "name": "ipython",
    "version": 3
   },
   "file_extension": ".py",
   "mimetype": "text/x-python",
   "name": "python",
   "nbconvert_exporter": "python",
   "pygments_lexer": "ipython3",
   "version": "3.8.0"
  }
 },
 "nbformat": 4,
 "nbformat_minor": 4
}
