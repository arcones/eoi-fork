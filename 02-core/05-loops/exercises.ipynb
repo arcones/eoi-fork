{
 "cells": [
  {
   "cell_type": "code",
   "execution_count": 1,
   "metadata": {},
   "outputs": [
    {
     "data": {
      "text/html": [
       "<style>/* title of columns */\n",
       "table thead th {\n",
       "    font-size: 1.2em !important;\n",
       "    padding-top: 0.2em !important;\n",
       "    padding-bottom: 0.2em !important;\n",
       "    text-align: left !important;\n",
       "}\n",
       "\n",
       "/* title of rows */\n",
       "table tbody th {\n",
       "    font-size: 1.2em !important;\n",
       "    background: rgba(199, 199, 199, 0.356) !important;\n",
       "    border: 1px solid black !important;\n",
       "    text-align: left !important;\n",
       "}\n",
       "\n",
       "/* style for each cell */\n",
       "table td {\n",
       "    font-size: 1.15em !important;\n",
       "    border: 1px solid black !important;\n",
       "    text-align: left !important;\n",
       "}\n",
       "\n",
       "/* disable zebra-style */\n",
       "table tbody tr {\n",
       "    background: white !important;\n",
       "}\n",
       "\n",
       "/* row color on hover */\n",
       "table tbody tr:hover {\n",
       "    background: rgba(43, 137, 226, 0.144) !important;\n",
       "}\n",
       "\n",
       "/* SLIDES */\n",
       ".slides table td {\n",
       "    font-size: 15pt !important;\n",
       "}\n",
       "\n",
       ".slides table th {\n",
       "    font-size: 15pt !important;\n",
       "}\n",
       "\n",
       ".slides img {\n",
       "    margin-left: auto !important;\n",
       "    margin-right: auto !important;\n",
       "}\n",
       "\n",
       ".slides blockquote {\n",
       "    margin: 0 !important;\n",
       "    box-shadow: none !important;\n",
       "    width: 100% !important;\n",
       "    border-left: 5px solid lightgray !important;\n",
       "    color: #284d71 !important;\n",
       "    padding: 0 0 0 10px !important;\n",
       "    background-color: #f9f9f9 !important;\n",
       "    font-size: 20px !important;\n",
       "}\n",
       "\n",
       ".slides blockquote p {\n",
       "    margin: 10px 0 10px 0 !important;\n",
       "}\n",
       "</style>"
      ],
      "text/plain": [
       "<IPython.core.display.HTML object>"
      ]
     },
     "execution_count": 1,
     "metadata": {},
     "output_type": "execute_result"
    }
   ],
   "source": [
    "from IPython.display import HTML\n",
    "from pathlib import Path\n",
    "\n",
    "css_rules = Path('../custom.css').read_text()\n",
    "HTML('<style>' + css_rules + '</style>')"
   ]
  },
  {
   "cell_type": "markdown",
   "metadata": {},
   "source": [
    "# 🎯 Ejercicios\n",
    "\n",
    "Fuente: [The Python Workbook](https://www.springer.com/gp/book/9783030188726)"
   ]
  },
  {
   "cell_type": "markdown",
   "metadata": {},
   "source": [
    "## Media\n",
    "\n",
    "En este ejercicio creará un programa que compute la media de una colección de valores introducidos por el usuario. El usuario introducirá 0 como valor *sentinela* indicando que no se proporcionarán más valores. Su programa debería mostrar un mensaje de error apropiado si el primer valor introducido por el usuario es 0."
   ]
  },
  {
   "cell_type": "markdown",
   "metadata": {},
   "source": [
    "## Tabla de descuentos\n",
    "\n",
    "Una determinado vendedor ofrece un 60% de descuento en varios productos. Al vendedor le gustaría ayudar a sus clientes a determinar el precio reducido de los productos a través de una tabla de descuentos que muestre los precios originales y los precios después de aplicar el descuento. Escriba un programa que use un bucle para generar esta tabla, mostrando el precio original, la cantidad de descuento y el nuevo precio para compras de 4.95€, 9.95€, 14.95€, 19.95€ y 24.95€. Asegúrese de que el descuento y los nuevos precios estén redondeados a 2 posiciones decimales."
   ]
  },
  {
   "cell_type": "markdown",
   "metadata": {},
   "source": [
    "## Tabla de conversión de temperaturas\n",
    "\n",
    "Escriba un programa que muestre una tabla de conversión de temperaturas para grados centígrados y grados fahrenheit. La tabla debería incluir filas para todas las temperaturas entre 0 y 100 grados centígrados que sean múltiplos de 10. Incluya los encabezados apropiados en cada columna."
   ]
  },
  {
   "cell_type": "markdown",
   "metadata": {},
   "source": [
    "## Perímetro de un polígono\n",
    "\n",
    "Escriba un programa que compute el perímetro de un polígono. Empiece leyendo los valores $x$ e $y$ para el primer punto del perímetro del polígono. Luego continue leyendo pares $(x, y)$ hasta que el usuario introduzca un valor en blanco para la coordenada $x$. Cada vez que lea una coordenada adicional debería computar la distancia al punto anterior y añadirla al perímetro. Cuando se introduzca una línea en blanco para la coordenada $x$ su programa debería añadir la distancia desde el último punto hasta el primero punto del perímetro. Luego se debería mostrar el perímetro total.\n",
    "\n",
    "A continuación se muestra un ejemplo de entrada y salida (datos de entrada en negrita):\n",
    "\n",
    "`Enter the x part of the coordinate:` **0**  \n",
    "`Enter the y part of the coordinate:` **0**  \n",
    "`Enter the x part of the coordinate: (blank to quit):` **1**  \n",
    "`Enter the y part of the coordinate:` **0**  \n",
    "`Enter the x part of the coordinate: (blank to quit):` **0**  \n",
    "`Enter the y part of the coordinate:` **1**  \n",
    "`Enter the x part of the coordinate: (blank to quit):`  \n",
    "\n",
    "`The perimeter of that polygon is 3.414213562373095`\n",
    "\n",
    "![Perimeter](img/perimeter.png)"
   ]
  },
  {
   "cell_type": "markdown",
   "metadata": {},
   "source": [
    "## Entrada al zoo\n",
    "\n",
    "Un determinado zoológico establece el precio de la entrada en función de la edad de la persona. Las personas de 2 años o menos pueden entrar gratis. Los niños y las niñas entre 3 y 12 años deben pagar 14€. Las personas de 65 años o más tienen que abonar 18€. La admisión para el resto de personas es de 23€.\n",
    "\n",
    "Cree un programa que empiece leyendo las edades de todos los clientes: una edad por cada línea. El usuario indicará el final con una línea en blanco. Luego su programa debería mostrar el coste de las entradas del grupo (con dos posiciones decimales).\n",
    "\n",
    "Por ejemplo, si el grupo que va a acceder al zoo está formado por 4 personas de edades 34, 5, 21 y 79, tendríamos que leer esas 4 edades (una de cada vez) y dar el precio total para este grupo."
   ]
  },
  {
   "cell_type": "markdown",
   "metadata": {},
   "source": [
    "## Paridad de bits\n",
    "\n",
    "Un *bit de paridad* es un mecanismo simple para detectar errores en la transmisión de datos sobre alguna conexión no confiable como una línea telefónica. La idea básica es añadir un bit adicional junto con cada grupo de 8 bits para que se pueda detectar cualquier error de transmisión.\n",
    "\n",
    "Los bits de paridad se pueden computar bien con *paridad par* ó *paridad impar*. Si se selecciona *paridad par* entonces el bit de paridad se transmite de tal forma que el número de *unos* transmitidos (8 bits + bit de paridad) sea par. Cuando se selecciona *paridad impar* el bit de paridad se transmite con un total de *unos* impar.\n",
    "\n",
    "Escriba un programa que compute el bit de paridad para grupos de 8 bits introducidos por el usuario para usar *paridad par*. Su programa debería leer cadenas de texto con 8 bits hasta que el usuario introduzca una línea en blanco. Después de que el usuario introduzca la cadena de texto su programa debería mostrar un mensaje claro indicando si el bit de paridad debería ser 0 o 1."
   ]
  },
  {
   "cell_type": "markdown",
   "metadata": {},
   "source": [
    "## Aproximación de $\\pi$\n",
    "\n",
    "El valor de $\\pi$ se puede aproximar con la siguiente serie infinita:\n",
    "\n",
    "$$\n",
    "\\pi \\approx 3 +\n",
    "\\frac{4}{2 \\times 3 \\times 4} -\n",
    "\\frac{4}{4 \\times 5 \\times 6} +\n",
    "\\frac{4}{6 \\times 7 \\times 8} -\n",
    "\\frac{4}{8 \\times 9 \\times 10} +\n",
    "\\frac{4}{10 \\times 11 \\times 12} -\n",
    "\\cdots\n",
    "$$\n",
    "\n",
    "Escriba un programa que muestre 15 aproximaciones de $\\pi$. La primera aproximación debería hacer uso sólo del primer término de la serie infinita. Cada aproximación adicional debería incluir un término más de la serie, mejorando la aproximación de $\\pi$ en cada paso."
   ]
  },
  {
   "cell_type": "markdown",
   "metadata": {},
   "source": [
    "## Cifrado César\n",
    "\n",
    "Uno de los ejemplos más conocidos de encriptación fue la usada por Julio César. César necesitaba proporcionar instrucciones escritas a sus generales, pero no quería que sus enemigos descubriera sus planes si el mensaje caía en manos equivocadas. Como resultado, desarrolló lo que luego se llamaría el *Cifrado César*.\n",
    "\n",
    "La idea que hay detrás de este cifrado es sencilla. Cada letra en el mensaje original se desplaza 3 lugares. Como resultado, `A` se convierte en `D`, `B` se convierte en `E`, `C` se convierte en `F`, `D` se convierte en `G`, etc. Las últimas tres letras del alfabeto vuelven al principio: `X` se convierte en `A`, `Y` se convierte en `B` y `Z` se convierte en `C`. Los caracteres que no son letras no se modifican por el cifrado.\n",
    "\n",
    "Escriba un programa que implemente el Cifrado César. Permita al usuario proporcionar el mensaje y la cantidad de *desplazamiento*, y luego muestre el mensaje cifrado. Asegúrese que su programa codifica tanto las letras en mayúsculas como las letras en minúsculas. Su programa debería soportar desplazamientos negativos con lo que se pueda usar para codificar y para decodificar mensajes."
   ]
  },
  {
   "cell_type": "markdown",
   "metadata": {},
   "source": [
    "## Raíz cuadrada\n",
    "\n",
    "Escriba un programa que implemente el *método de Newton* para computar y mostrar la raíz cuadrada de un número aportado por el usuario. El algoritmo de Newton es el siguiente:\n",
    "\n",
    "![Newton's Algorithm](img/newton-algorithm.png)"
   ]
  },
  {
   "cell_type": "markdown",
   "metadata": {},
   "source": [
    "## Tabla de multiplicar\n",
    "\n",
    "En este ejercicio creará un programa que muestre una tabla de multiplicar de todas las combinaciones de enteros desde $1 \\times 1$ hasta $10 \\times 10$. Su tabla de multiplicar debería incluir una fila y una columna de etiquetas. Vea el resultado esperado a continuación:\n",
    "\n",
    "![Multiplication Table](img/multiplication-table.png)"
   ]
  },
  {
   "cell_type": "markdown",
   "metadata": {},
   "source": [
    "## Máximo común divisor\n",
    "\n",
    "El máximo común divisor (*gcd* en inglés de *greatest common divisor*) de dos enteros positivos $n$ y $m$ es el mayor número $d$ que divide de forma exacta tanto a $n$ como a $m$. Hay varios algoritmos que se pueden usar para resolver este problema. Uno de ellos es el siguiente:\n",
    "\n",
    "![Greatest Common Divisor](img/gcd.png)\n",
    "\n",
    "Esriba un programa que lea del usuario dos enteros positivos y use este algoritmo para determinar e informar del máximo común divisor."
   ]
  },
  {
   "cell_type": "markdown",
   "metadata": {},
   "source": [
    "## Factores primos\n",
    "\n",
    "La factorización en primos de un entero $n$ se puede determinar usando el siguiente algoritmo:\n",
    "\n",
    "![Prime Factors](img/prime-factors.png)\n",
    "\n",
    "Escriba un programa que lea un valor entero. Si el valor introducido por el usuario es menor que 2 su programa debería mostrar un mensaje de error apropiado. En otro caso su programa debería mostrar los factores primos de $n$, con cada factor en una línea distinta. Ejemplo:\n",
    "\n",
    "~~~\n",
    "Enter a integer (2 or greater): 72\n",
    "The prime factors of 72 are:\n",
    "2\n",
    "2\n",
    "2\n",
    "3\n",
    "3\n",
    "~~~"
   ]
  },
  {
   "cell_type": "markdown",
   "metadata": {},
   "source": [
    "## Binario a decimal\n",
    "\n",
    "Escriba un programa que convierta un número *binario* (base 2) en un *decimal* (base 10). Su programa debería comenzar leyendo del usuario un número binario como una cadena de texto. Luego debería computar el número decimal equivalente procesando cada dígito del número binario. Finalmente su programa debería mostrar el número decimal equivalente con un mensaje apropiado."
   ]
  },
  {
   "cell_type": "markdown",
   "metadata": {},
   "source": [
    "## Decimal a binario\n",
    "\n",
    "Escriba un programa que convierta un número *decimal* (base 10) en un *binario* (base 2). Lea del usuario el número decimal $q$ como un entero y use el siguiente algoritmo para realizar la conversión. Cuando el algoritmo termine, *result* contendrá la representación binaria del número. Muestre el resultado junto con un mensaje apropiado:\n",
    "\n",
    "![Decimal to Binary](img/dec2bin.png)"
   ]
  }
 ],
 "metadata": {
  "kernelspec": {
   "display_name": "Python 3",
   "language": "python",
   "name": "python3"
  },
  "language_info": {
   "codemirror_mode": {
    "name": "ipython",
    "version": 3
   },
   "file_extension": ".py",
   "mimetype": "text/x-python",
   "name": "python",
   "nbconvert_exporter": "python",
   "pygments_lexer": "ipython3",
   "version": "3.8.0"
  }
 },
 "nbformat": 4,
 "nbformat_minor": 2
}
