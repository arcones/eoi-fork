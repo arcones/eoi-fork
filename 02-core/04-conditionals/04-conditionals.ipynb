{
 "cells": [
  {
   "cell_type": "code",
   "execution_count": 1,
   "metadata": {
    "slideshow": {
     "slide_type": "skip"
    }
   },
   "outputs": [
    {
     "data": {
      "text/html": [
       "<style>/* title of columns */\n",
       "table thead th {\n",
       "  font-size: 1.2em !important;\n",
       "  padding-top: 0.2em !important;\n",
       "  padding-bottom: 0.2em !important;\n",
       "  text-align: left !important;\n",
       "}\n",
       "\n",
       "/* title of rows */\n",
       "table tbody th {\n",
       "  font-size: 1.2em !important;\n",
       "  background: rgba(199, 199, 199, 0.356) !important;\n",
       "  border: 1px solid black !important;\n",
       "  text-align: left !important;\n",
       "}\n",
       "\n",
       "/* style for each cell */\n",
       "table td {\n",
       "  font-size: 1.15em !important;\n",
       "  border: 1px solid black !important;\n",
       "  text-align: left !important;\n",
       "}\n",
       "\n",
       "/* disable zebra-style */\n",
       "table tbody tr {\n",
       "  background: white !important;\n",
       "}\n",
       "\n",
       "/* row color on hover */\n",
       "table tbody tr:hover {\n",
       "  background: rgba(43, 137, 226, 0.144) !important;\n",
       "}\n",
       "\n",
       "/* SLIDES */\n",
       ".slides table td {\n",
       "  font-size: 15pt !important;\n",
       "}\n",
       "\n",
       ".slides table th {\n",
       "  font-size: 15pt !important;\n",
       "}\n",
       "\n",
       ".slides img {\n",
       "  margin-left: auto !important;\n",
       "  margin-right: auto !important;\n",
       "}\n",
       "\n",
       ".slides blockquote {\n",
       "  margin: 0 !important;\n",
       "  box-shadow: none !important;\n",
       "  width: 100% !important;\n",
       "  border-left: 5px solid lightgray !important;\n",
       "  color: #284d71 !important;\n",
       "  padding: 0 0 0 10px !important;\n",
       "  background-color: #f9f9f9 !important;\n",
       "  font-size: 20px !important;\n",
       "}\n",
       "\n",
       ".slides blockquote p {\n",
       "  margin: 10px 0 10px 0 !important;\n",
       "}\n",
       "\n",
       ".slides ul,\n",
       ".slides ol {\n",
       "  margin-top: 0 !important;\n",
       "}\n",
       "\n",
       ".slides h1 + ol,\n",
       ".slides h1 + ol,\n",
       ".slides h2 + ul,\n",
       ".slides h2 + ol,\n",
       ".slides h3 + ul,\n",
       ".slides h2 + ol,\n",
       ".slides h4 + ul,\n",
       ".slides h4 + ol {\n",
       "  margin-top: 20px !important;\n",
       "}\n",
       "</style>"
      ],
      "text/plain": [
       "<IPython.core.display.HTML object>"
      ]
     },
     "execution_count": 1,
     "metadata": {},
     "output_type": "execute_result"
    }
   ],
   "source": [
    "from IPython.display import HTML\n",
    "from pathlib import Path\n",
    "\n",
    "css_rules = Path('../custom.css').read_text()\n",
    "HTML('<style>' + css_rules + '</style>')"
   ]
  },
  {
   "cell_type": "markdown",
   "metadata": {
    "slideshow": {
     "slide_type": "slide"
    }
   },
   "source": [
    "# Condicionales"
   ]
  },
  {
   "cell_type": "markdown",
   "metadata": {
    "slideshow": {
     "slide_type": "-"
    }
   },
   "source": [
    "![Steps](img/difference.png)\n",
    "\n",
    "En esta sección veremos la sentencia condicional `if` y las distintas variantes que puede asumir, pero antes de eso introduciremos algunas cuestiones generales de escritura de código."
   ]
  },
  {
   "cell_type": "markdown",
   "metadata": {
    "slideshow": {
     "slide_type": "-"
    }
   },
   "source": [
    "> <div>Icons made by <a href=\"https://www.flaticon.com/authors/wichaiwi\" title=\"Wichai.wi\">Wichai.wi</a> from <a href=\"https://www.flaticon.com/\" title=\"Flaticon\">www.flaticon.com</a></div>"
   ]
  },
  {
   "cell_type": "markdown",
   "metadata": {
    "slideshow": {
     "slide_type": "slide"
    }
   },
   "source": [
    "## 📐 Definición de bloques"
   ]
  },
  {
   "cell_type": "markdown",
   "metadata": {
    "slideshow": {
     "slide_type": "-"
    }
   },
   "source": [
    "A diferencia de otros lenguajes que utilizan llaves para definir los bloques de código, cuando Guido Van Rossum creó el lenguaje quiso evitar estos elementos. Es por ello que en Python los bloques de código se definen a través de **espacios en blanco** (preferiblemente 4, ver [PEP8](https://www.python.org/dev/peps/pep-0008/#indentation)).\n",
    "\n",
    "![Cuatro espacios](img/four-spaces.png)\n",
    "\n",
    "> Esto puede resultar extraño e incómodo a personas que vienen de otros lenguajes de programación pero desaparece rápido y se siente natural a medida que se escribe código."
   ]
  },
  {
   "cell_type": "markdown",
   "metadata": {
    "slideshow": {
     "slide_type": "slide"
    }
   },
   "source": [
    "## 🗣 Comentarios\n",
    "\n",
    "Un *comentario* es un trozo de texto en tu programa que es ignorado por el intérprete de Python. Se pueden usar para aclarar líneas de código adyacentes, para dejar notas recordatorias o cualquier otro propósito.\n",
    "\n",
    "Los comentarios se marcan con el símbolo [almohadilla](https://es.wikipedia.org/wiki/Almohadilla) #️⃣ y desde ese punto hasta el final de la línea es parte del comentario."
   ]
  },
  {
   "cell_type": "code",
   "execution_count": 2,
   "metadata": {
    "slideshow": {
     "slide_type": "-"
    }
   },
   "outputs": [],
   "source": [
    "# 60 sec/min * 60 min/hr * 24 hr/day\n",
    "seconds_per_day = 86400 "
   ]
  },
  {
   "cell_type": "markdown",
   "metadata": {
    "slideshow": {
     "slide_type": "-"
    }
   },
   "source": [
    "Los comentarios también pueden aparecer en la misma línea de código:"
   ]
  },
  {
   "cell_type": "code",
   "execution_count": 3,
   "metadata": {
    "slideshow": {
     "slide_type": "-"
    }
   },
   "outputs": [],
   "source": [
    "seconds_per_day = 86400 # 60 sec/min * 60 min/hr * 24 hr/day "
   ]
  },
  {
   "cell_type": "markdown",
   "metadata": {
    "slideshow": {
     "slide_type": "slide"
    }
   },
   "source": [
    "## 🧶 Líneas demasiado largas\n",
    "\n",
    "Los programas son más legibles si las líneas son *razonablemente* cortas. La longitud máxima de línea *recomendada* es de **80 caracteres** (ver [PEP8](https://www.python.org/dev/peps/pep-0008/#maximum-line-length)).\n",
    "\n",
    "Esto genera una cierta polémica hoy en día, ya que los tamaños de pantalla han aumentado y las resoluciones son mucho mayores que hace años. Así las líneas de más de 80 caracteres se siguen visualizando correctamente. Hay personas que son más estrictas en este límite y otras más flexibles."
   ]
  },
  {
   "cell_type": "markdown",
   "metadata": {
    "slideshow": {
     "slide_type": "-"
    }
   },
   "source": [
    "Supongamos la siguiente línea de código:"
   ]
  },
  {
   "cell_type": "code",
   "execution_count": 4,
   "metadata": {
    "slideshow": {
     "slide_type": "-"
    }
   },
   "outputs": [],
   "source": [
    "factorial = 4 * 3 * 2 * 1"
   ]
  },
  {
   "cell_type": "markdown",
   "metadata": {
    "slideshow": {
     "slide_type": "subslide"
    }
   },
   "source": [
    "La podemos escribir en varias líneas utilizando el separador `\\`:"
   ]
  },
  {
   "cell_type": "code",
   "execution_count": 5,
   "metadata": {
    "slideshow": {
     "slide_type": "-"
    }
   },
   "outputs": [],
   "source": [
    "factorial = 4 * \\\n",
    "            3 * \\\n",
    "            2 * \\\n",
    "            1"
   ]
  },
  {
   "cell_type": "markdown",
   "metadata": {
    "slideshow": {
     "slide_type": "-"
    }
   },
   "source": [
    "También podemos utilizar los paréntesis `(` y `)` para dividir el código en varias líneas:"
   ]
  },
  {
   "cell_type": "code",
   "execution_count": 6,
   "metadata": {
    "slideshow": {
     "slide_type": "-"
    }
   },
   "outputs": [],
   "source": [
    "factorial = (4 *\n",
    "             3 *\n",
    "             2 *\n",
    "             1)"
   ]
  },
  {
   "cell_type": "markdown",
   "metadata": {
    "slideshow": {
     "slide_type": "slide"
    }
   },
   "source": [
    "## 🥜 Comparaciones"
   ]
  },
  {
   "cell_type": "markdown",
   "metadata": {
    "slideshow": {
     "slide_type": "-"
    }
   },
   "source": [
    "Veamos un ejemplo de sentencia condicional en Python para comprobar un valor booleano:"
   ]
  },
  {
   "cell_type": "code",
   "execution_count": 7,
   "metadata": {
    "slideshow": {
     "slide_type": "-"
    }
   },
   "outputs": [
    {
     "name": "stdout",
     "output_type": "stream",
     "text": [
      "SSH to host\n"
     ]
    }
   ],
   "source": [
    "ping = True\n",
    "\n",
    "if ping:  # equivale a ping == True\n",
    "    print('SSH to host')\n",
    "else:\n",
    "    print('Check network!')"
   ]
  },
  {
   "cell_type": "markdown",
   "metadata": {
    "slideshow": {
     "slide_type": "-"
    }
   },
   "source": [
    "Nótese que en Python no es necesario incluir paréntesis `(` y `)` al escribir condiciones. Hay veces que es recomendable por claridad o por establecer prioridad."
   ]
  },
  {
   "cell_type": "markdown",
   "metadata": {
    "slideshow": {
     "slide_type": "subslide"
    }
   },
   "source": [
    "Podemos tener condiciones dentro de condiciones, con tantos niveles de anidamiento como se requiera:"
   ]
  },
  {
   "cell_type": "code",
   "execution_count": 8,
   "metadata": {
    "slideshow": {
     "slide_type": "-"
    }
   },
   "outputs": [
    {
     "name": "stdout",
     "output_type": "stream",
     "text": [
      "It's a yeti.\n"
     ]
    }
   ],
   "source": [
    "furry = True  # peludo\n",
    "large = True  # grande\n",
    "\n",
    "if furry:\n",
    "    if large:\n",
    "        print(\"It's a yeti.\")\n",
    "    else:\n",
    "        print(\"It's a cat!\")\n",
    "else:\n",
    "    if large:\n",
    "        print(\"It's a whale!\")\n",
    "    else:\n",
    "        print(\"It's a human. Or a hairless cat.\")"
   ]
  },
  {
   "cell_type": "markdown",
   "metadata": {
    "slideshow": {
     "slide_type": "subslide"
    }
   },
   "source": [
    "Podemos encadenar `else` e `if` usando `elif` para simplificar nuestro código:"
   ]
  },
  {
   "cell_type": "code",
   "execution_count": 9,
   "metadata": {
    "slideshow": {
     "slide_type": "-"
    }
   },
   "outputs": [
    {
     "name": "stdout",
     "output_type": "stream",
     "text": [
      "It's a canarian banana 🍌\n"
     ]
    }
   ],
   "source": [
    "color = 'yellow'\n",
    "\n",
    "if color == 'red':\n",
    "    print(\"It's a tomato 🍅\")\n",
    "elif color == 'green':\n",
    "    print(\"It's a cucumber 🥒\")\n",
    "elif color == 'yellow':\n",
    "    print(\"It's a canarian banana 🍌\")\n",
    "else:\n",
    "    print(\"I've never heard of that color\")"
   ]
  },
  {
   "cell_type": "markdown",
   "metadata": {
    "slideshow": {
     "slide_type": "subslide"
    }
   },
   "source": [
    "### Operadores de comparación"
   ]
  },
  {
   "cell_type": "markdown",
   "metadata": {
    "slideshow": {
     "slide_type": "-"
    }
   },
   "source": [
    "A continuación se muestra la tabla de los operadores de comparación en Python:"
   ]
  },
  {
   "cell_type": "markdown",
   "metadata": {
    "slideshow": {
     "slide_type": "-"
    }
   },
   "source": [
    "Operador | Símbolo\n",
    "--- | ---\n",
    "Igualdad | `==`\n",
    "Desigualdad | `!=`\n",
    "Menor que | `<`\n",
    "Menor o igual que | `<=`\n",
    "Mayor que | `>`\n",
    "Mayor o igual que | `>=`"
   ]
  },
  {
   "cell_type": "markdown",
   "metadata": {
    "slideshow": {
     "slide_type": "subslide"
    }
   },
   "source": [
    "Estos operadores devuelven valores booleanos `True` o `False`. Veamos un ejemplo:"
   ]
  },
  {
   "cell_type": "code",
   "execution_count": 10,
   "metadata": {
    "slideshow": {
     "slide_type": "-"
    }
   },
   "outputs": [],
   "source": [
    "x = 7"
   ]
  },
  {
   "cell_type": "code",
   "execution_count": 11,
   "metadata": {
    "slideshow": {
     "slide_type": "-"
    }
   },
   "outputs": [
    {
     "data": {
      "text/plain": [
       "False"
      ]
     },
     "execution_count": 11,
     "metadata": {},
     "output_type": "execute_result"
    }
   ],
   "source": [
    "x == 5"
   ]
  },
  {
   "cell_type": "code",
   "execution_count": 12,
   "metadata": {
    "slideshow": {
     "slide_type": "-"
    }
   },
   "outputs": [
    {
     "data": {
      "text/plain": [
       "True"
      ]
     },
     "execution_count": 12,
     "metadata": {},
     "output_type": "execute_result"
    }
   ],
   "source": [
    "x == 7"
   ]
  },
  {
   "cell_type": "code",
   "execution_count": 13,
   "metadata": {
    "slideshow": {
     "slide_type": "-"
    }
   },
   "outputs": [
    {
     "data": {
      "text/plain": [
       "True"
      ]
     },
     "execution_count": 13,
     "metadata": {},
     "output_type": "execute_result"
    }
   ],
   "source": [
    "5 < x"
   ]
  },
  {
   "cell_type": "code",
   "execution_count": 14,
   "metadata": {
    "slideshow": {
     "slide_type": "-"
    }
   },
   "outputs": [
    {
     "data": {
      "text/plain": [
       "True"
      ]
     },
     "execution_count": 14,
     "metadata": {},
     "output_type": "execute_result"
    }
   ],
   "source": [
    "x < 10"
   ]
  },
  {
   "cell_type": "markdown",
   "metadata": {
    "slideshow": {
     "slide_type": "subslide"
    }
   },
   "source": [
    "Podemos escribir condiciones más complejas usando los operadores lógicos `and`, `or` y `not`:"
   ]
  },
  {
   "cell_type": "code",
   "execution_count": 15,
   "metadata": {
    "slideshow": {
     "slide_type": "-"
    }
   },
   "outputs": [
    {
     "data": {
      "text/plain": [
       "True"
      ]
     },
     "execution_count": 15,
     "metadata": {},
     "output_type": "execute_result"
    }
   ],
   "source": [
    "(5 < x) or (x > 10)    # se recomienda el uso de paréntesis"
   ]
  },
  {
   "cell_type": "code",
   "execution_count": 16,
   "metadata": {
    "slideshow": {
     "slide_type": "-"
    }
   },
   "outputs": [
    {
     "data": {
      "text/plain": [
       "True"
      ]
     },
     "execution_count": 16,
     "metadata": {},
     "output_type": "execute_result"
    }
   ],
   "source": [
    "(5 < x) and (not (x > 10))"
   ]
  },
  {
   "cell_type": "code",
   "execution_count": 17,
   "metadata": {
    "slideshow": {
     "slide_type": "-"
    }
   },
   "outputs": [
    {
     "data": {
      "text/plain": [
       "True"
      ]
     },
     "execution_count": 17,
     "metadata": {},
     "output_type": "execute_result"
    }
   ],
   "source": [
    "(5 < x) and (x < 10)"
   ]
  },
  {
   "cell_type": "markdown",
   "metadata": {
    "slideshow": {
     "slide_type": "-"
    }
   },
   "source": [
    "Esta última comparación también se pueden escribir en Python de la siguiente forma:"
   ]
  },
  {
   "cell_type": "code",
   "execution_count": 18,
   "metadata": {
    "slideshow": {
     "slide_type": "-"
    }
   },
   "outputs": [
    {
     "data": {
      "text/plain": [
       "True"
      ]
     },
     "execution_count": 18,
     "metadata": {},
     "output_type": "execute_result"
    }
   ],
   "source": [
    "5 < x < 10"
   ]
  },
  {
   "cell_type": "markdown",
   "metadata": {
    "slideshow": {
     "slide_type": "slide"
    }
   },
   "source": [
    "## 🤔 ¿Qué es verdad?\n",
    "\n",
    "Python considera `False` a todo lo que está en la siguiente tabla:"
   ]
  },
  {
   "cell_type": "markdown",
   "metadata": {
    "slideshow": {
     "slide_type": "-"
    }
   },
   "source": [
    "Elemento | Representación\n",
    "--- | ---\n",
    "Booleano | `False`\n",
    "Nulo | `None`\n",
    "Cero entero | `0`\n",
    "Cero flotante | `0.0`\n",
    "Cadena vacía | `''`\n",
    "Tupla vacía | `()`\n",
    "Diccionario vacío | `{}`\n",
    "Conjunto vacío | `set()`"
   ]
  },
  {
   "cell_type": "markdown",
   "metadata": {
    "slideshow": {
     "slide_type": "-"
    }
   },
   "source": [
    "✅ Cualquier otra cosa se considera `True`"
   ]
  },
  {
   "cell_type": "markdown",
   "metadata": {
    "slideshow": {
     "slide_type": "subslide"
    }
   },
   "source": [
    "Ejemplo de verificación de lista vacía:"
   ]
  },
  {
   "cell_type": "code",
   "execution_count": 19,
   "metadata": {
    "scrolled": true,
    "slideshow": {
     "slide_type": "-"
    }
   },
   "outputs": [
    {
     "name": "stdout",
     "output_type": "stream",
     "text": [
      "Empty list!\n"
     ]
    }
   ],
   "source": [
    "some_list = []\n",
    "\n",
    "if some_list:\n",
    "    print('Something in the list!')\n",
    "else:\n",
    "    print('Empty list!')"
   ]
  },
  {
   "cell_type": "markdown",
   "metadata": {
    "slideshow": {
     "slide_type": "slide"
    }
   },
   "source": [
    "## `:=` Operador morsa\n",
    "\n",
    "En Python 3.8 se incorpora el [*walrus operator*](https://www.python.org/dev/peps/pep-0572/), que usa la siguiente sentencia de asignación:\n",
    "\n",
    "~~~python\n",
    "name := expression\n",
    "~~~"
   ]
  },
  {
   "cell_type": "code",
   "execution_count": 20,
   "metadata": {
    "slideshow": {
     "slide_type": "-"
    }
   },
   "outputs": [
    {
     "name": "stdout",
     "output_type": "stream",
     "text": [
      "Increase radius to reach minimum perimeter\n",
      "Actual perimeter:  26.69\n"
     ]
    }
   ],
   "source": [
    "# VERSIÓN TRADICIONAL\n",
    "radius = 4.25\n",
    "perimeter = 2 * 3.14 * radius\n",
    "if perimeter < 100:\n",
    "    print('Increase radius to reach minimum perimeter')\n",
    "    print('Actual perimeter: ', perimeter)"
   ]
  },
  {
   "cell_type": "code",
   "execution_count": 21,
   "metadata": {
    "slideshow": {
     "slide_type": "-"
    }
   },
   "outputs": [
    {
     "name": "stdout",
     "output_type": "stream",
     "text": [
      "Increase radius to reach minimum perimeter\n",
      "Actual perimeter:  26.69\n"
     ]
    }
   ],
   "source": [
    "# VERSIÓN CON OPERADOR MORSA\n",
    "radius = 4.25\n",
    "if (perimeter := 2 * 3.14 * radius) < 100:\n",
    "    print('Increase radius to reach minimum perimeter')\n",
    "    print('Actual perimeter: ', perimeter)"
   ]
  },
  {
   "cell_type": "markdown",
   "metadata": {
    "slideshow": {
     "slide_type": "slide"
    }
   },
   "source": [
    "## 🎯 Ejercicios"
   ]
  },
  {
   "cell_type": "markdown",
   "metadata": {
    "slideshow": {
     "slide_type": "subslide"
    }
   },
   "source": [
    "### Ejercicio 1"
   ]
  },
  {
   "cell_type": "markdown",
   "metadata": {
    "slideshow": {
     "slide_type": "-"
    }
   },
   "source": [
    "Dada una variable `year` con un valor entero, comprueba si dicho año es bisiesto o no.\n",
    "\n",
    "> Un año es bisiesto en el calendario Gregoriano, si es divisible entre 4 y no divisible entre 100, o bien si es divisible entre 400. Puedes hacer la comprobación en [esta lista de años bisiestos](https://kalender-365.de/leap-years.php)."
   ]
  },
  {
   "cell_type": "markdown",
   "metadata": {
    "slideshow": {
     "slide_type": "-"
    }
   },
   "source": [
    "<hr>\n",
    "\n",
    "**📎 Posible solución:** [solutions/leap_year.py](solutions/leap_year.py)"
   ]
  },
  {
   "cell_type": "code",
   "execution_count": 22,
   "metadata": {
    "slideshow": {
     "slide_type": "skip"
    }
   },
   "outputs": [],
   "source": [
    "# Escriba aquí su solución"
   ]
  },
  {
   "cell_type": "code",
   "execution_count": 23,
   "metadata": {
    "slideshow": {
     "slide_type": "skip"
    }
   },
   "outputs": [],
   "source": [
    "# %load \"solutions/leap_year.py\""
   ]
  },
  {
   "cell_type": "markdown",
   "metadata": {
    "slideshow": {
     "slide_type": "subslide"
    }
   },
   "source": [
    "### Ejercicio 2"
   ]
  },
  {
   "cell_type": "markdown",
   "metadata": {
    "slideshow": {
     "slide_type": "-"
    }
   },
   "source": [
    "Dada una variable `money` con un valor entero, devuelve su cambio en:\n",
    "- Billetes de 50€\n",
    "- Billetes de 20€\n",
    "- Billetes de 10€\n",
    "- Billetes de 5€\n",
    "- Monedas de 2€\n",
    "- Monedas de 1€\n",
    "\n",
    "**EJEMPLO**: $347€ = 6 \\times 50€ + 2 \\times 20€ + 1 \\times 5 + 1 \\times 2€$"
   ]
  },
  {
   "cell_type": "markdown",
   "metadata": {
    "slideshow": {
     "slide_type": "-"
    }
   },
   "source": [
    "<hr>\n",
    "\n",
    "**📎 Posible solución:** [solutions/money_change.py](solutions/money_change.py)"
   ]
  },
  {
   "cell_type": "code",
   "execution_count": 24,
   "metadata": {
    "slideshow": {
     "slide_type": "skip"
    }
   },
   "outputs": [],
   "source": [
    "# Escriba aquí su solución"
   ]
  },
  {
   "cell_type": "code",
   "execution_count": 25,
   "metadata": {
    "slideshow": {
     "slide_type": "skip"
    }
   },
   "outputs": [],
   "source": [
    "# %load \"solutions/money_change.py\""
   ]
  },
  {
   "cell_type": "markdown",
   "metadata": {
    "slideshow": {
     "slide_type": "subslide"
    }
   },
   "source": [
    "### Ejercicio 3"
   ]
  },
  {
   "cell_type": "markdown",
   "metadata": {
    "slideshow": {
     "slide_type": "-"
    }
   },
   "source": [
    "Simula el siguiente diagrama de flujo de personajes Marvel utilizando sentencias condicionales:\n",
    "\n",
    "![Marvel-FlowChart](img/marvel-flowchart.png)"
   ]
  },
  {
   "cell_type": "code",
   "execution_count": 26,
   "metadata": {
    "slideshow": {
     "slide_type": "skip"
    }
   },
   "outputs": [],
   "source": [
    "# Escriba aquí su solución"
   ]
  },
  {
   "cell_type": "code",
   "execution_count": 27,
   "metadata": {
    "slideshow": {
     "slide_type": "skip"
    }
   },
   "outputs": [],
   "source": [
    "# %load \"solutions/marvel.py\""
   ]
  },
  {
   "cell_type": "markdown",
   "metadata": {
    "slideshow": {
     "slide_type": "subslide"
    }
   },
   "source": [
    "### Ejercicio 4\n",
    "\n",
    "Determina si una cadena de texto dada es un [palíndromo](https://es.wikipedia.org/wiki/Pal%C3%ADndromo)."
   ]
  },
  {
   "cell_type": "markdown",
   "metadata": {
    "slideshow": {
     "slide_type": "-"
    }
   },
   "source": [
    "<hr>\n",
    "\n",
    "**📎 Posible solución:** [solutions/palindrome.py](solutions/palindrome.py)"
   ]
  },
  {
   "cell_type": "code",
   "execution_count": 28,
   "metadata": {
    "slideshow": {
     "slide_type": "skip"
    }
   },
   "outputs": [],
   "source": [
    "# Escriba aquí su solución"
   ]
  },
  {
   "cell_type": "code",
   "execution_count": 29,
   "metadata": {
    "slideshow": {
     "slide_type": "skip"
    }
   },
   "outputs": [],
   "source": [
    "# %load \"solutions/palindrome.py\""
   ]
  },
  {
   "cell_type": "markdown",
   "metadata": {
    "slideshow": {
     "slide_type": "slide"
    }
   },
   "source": [
    "## 🐍 Tutoriales de Real Python\n",
    "\n",
    "- [How to Use the Python or Operator](https://realpython.com/python-or-operator/)\n",
    "- [Conditional Statements in Python (if/elif/else)](https://realpython.com/courses/python-conditional-statements/)"
   ]
  }
 ],
 "metadata": {
  "celltoolbar": "Slideshow",
  "kernelspec": {
   "display_name": "Python 3",
   "language": "python",
   "name": "python3"
  },
  "language_info": {
   "codemirror_mode": {
    "name": "ipython",
    "version": 3
   },
   "file_extension": ".py",
   "mimetype": "text/x-python",
   "name": "python",
   "nbconvert_exporter": "python",
   "pygments_lexer": "ipython3",
   "version": "3.8.0"
  }
 },
 "nbformat": 4,
 "nbformat_minor": 2
}
