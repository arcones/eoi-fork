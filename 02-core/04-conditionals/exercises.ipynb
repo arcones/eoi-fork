{
 "cells": [
  {
   "cell_type": "code",
   "execution_count": 1,
   "metadata": {},
   "outputs": [
    {
     "data": {
      "text/html": [
       "<style>/* title of columns */\n",
       "table thead th {\n",
       "    font-size: 1.2em !important;\n",
       "    padding-top: 0.2em !important;\n",
       "    padding-bottom: 0.2em !important;\n",
       "    text-align: left !important;\n",
       "}\n",
       "\n",
       "/* title of rows */\n",
       "table tbody th {\n",
       "    font-size: 1.2em !important;\n",
       "    background: rgba(199, 199, 199, 0.356) !important;\n",
       "    border: 1px solid black !important;\n",
       "    text-align: left !important;\n",
       "}\n",
       "\n",
       "/* style for each cell */\n",
       "table td {\n",
       "    font-size: 1.15em !important;\n",
       "    border: 1px solid black !important;\n",
       "    text-align: left !important;\n",
       "}\n",
       "\n",
       "/* disable zebra-style */\n",
       "table tbody tr {\n",
       "    background: white !important;\n",
       "}\n",
       "\n",
       "/* row color on hover */\n",
       "table tbody tr:hover {\n",
       "    background: rgba(43, 137, 226, 0.144) !important;\n",
       "}\n",
       "\n",
       "/* SLIDES */\n",
       ".slides table td {\n",
       "    font-size: 15pt !important;\n",
       "}\n",
       "\n",
       ".slides table th {\n",
       "    font-size: 15pt !important;\n",
       "}\n",
       "\n",
       ".slides img {\n",
       "    margin-left: auto !important;\n",
       "    margin-right: auto !important;\n",
       "}\n",
       "\n",
       ".slides blockquote {\n",
       "    margin: 0 !important;\n",
       "    box-shadow: none !important;\n",
       "    width: 100% !important;\n",
       "    border-left: 5px solid lightgray !important;\n",
       "    color: #284d71 !important;\n",
       "    padding: 0 0 0 10px !important;\n",
       "    background-color: #f9f9f9 !important;\n",
       "    font-size: 20px !important;\n",
       "}\n",
       "\n",
       ".slides blockquote p {\n",
       "    margin: 10px 0 10px 0 !important;\n",
       "}\n",
       "</style>"
      ],
      "text/plain": [
       "<IPython.core.display.HTML object>"
      ]
     },
     "execution_count": 1,
     "metadata": {},
     "output_type": "execute_result"
    }
   ],
   "source": [
    "from IPython.display import HTML\n",
    "from pathlib import Path\n",
    "\n",
    "css_rules = Path('../custom.css').read_text()\n",
    "HTML('<style>' + css_rules + '</style>')"
   ]
  },
  {
   "cell_type": "markdown",
   "metadata": {},
   "source": [
    "# 🎯 Ejercicios\n",
    "\n",
    "Fuente: [The Python Workbook](https://www.springer.com/gp/book/9783030188726)"
   ]
  },
  {
   "cell_type": "markdown",
   "metadata": {},
   "source": [
    "## Par o impar\n",
    "\n",
    "Escriba un programa que lea del usuario un valor entero. Luego su program adebería mostrar un mensaje indicando si el entero es par o impar."
   ]
  },
  {
   "cell_type": "markdown",
   "metadata": {},
   "source": [
    "## Edad perruna\n",
    "\n",
    "Se suele decir que un año humano equivale a 7 años perrunos. Sin embargo esta simple conversión falla al reconocer la madurez de los perros en aproximadamente dos años. Como resultado, hay personas que creen que es mejor contabilizar los dos primeros años humanos como 10.5 años perrunos, y luego contabilizar cada año humano adicional como 4 años perrunos.\n",
    "\n",
    "Escriba un programa que implemente la conversión de años humanos en años perrunos tal y como se describe en el párrafo anterior. Asegúrese que su programa funciona correctamente para conversiones de menos de dos años humanos y para conversiones de más de dos años humanos. Su programa debería mostrar un mensaje de error apropiado if el usuario introducido un número negativo."
   ]
  },
  {
   "cell_type": "markdown",
   "metadata": {},
   "source": [
    "## Vocal o consonante\n",
    "\n",
    "En este ejercicio creará un programa que lea del usuario una letra que lea una letra del alfabeto. Si el usuario introduce `a`, `e`, `i`, `o`, `u` su programa debería mostrar un mensaje indicando que la letra introducida es una vocal. Si el usuario introduce `y` entonces su programa debería mostrar un mensaje indicando que la `y` algunas veces es una vocal y algunas veces es una consonante ([ver explicación aquí](https://www.merriam-webster.com/words-at-play/why-y-is-sometimes-a-vowel-usage)). En otro caso su programa debería mostrar un mensaje indicando que la letra es una consonante."
   ]
  },
  {
   "cell_type": "markdown",
   "metadata": {},
   "source": [
    "## Nombre de la figura\n",
    "\n",
    "Escriba un programa que determine el nombre de una figura a partir de su número de lados. Lea el número de lados del usuario y luego muestre el nombre apropiado como parte de un mensaje significativo. Su programa debería soportar figuras desde 3 hasta 10 lados. Si el número de lados está fuera de este rango el programa debería mostrar un mensaje apropiado de error."
   ]
  },
  {
   "cell_type": "markdown",
   "metadata": {},
   "source": [
    "## Número de días del mes\n",
    "\n",
    "La longitud de un mes varía desde 28 hasta 31 días. En este ejercicio creará un programa que lea el nombre de un mes como una cadena de texto. Luego su programa debería mostrar el número de días en ese mes. Muestre `\"28 o 29 días\"` en febrero para tener en cuenta años bisiestos."
   ]
  },
  {
   "cell_type": "markdown",
   "metadata": {},
   "source": [
    "## Niveles de sonido\n",
    "\n",
    "La siguiente tabla indica el nivel de sonido en *decibelios* para varios ruidos comunes:\n",
    "\n",
    "Ruido | Nivel de sonido (dB)\n",
    "--- | ---\n",
    "Martillo neumático | 130\n",
    "Cortacésped | 106\n",
    "Despertador | 70\n",
    "Habitación tranquila | 40\n",
    "\n",
    "Escriba un programa que lea del usuario un nivel de sonido en *decibelios*. Si el usuario introduce un nivel de decibelios que encaja exactamente en uno de los ruidos de la tabla, su programa debería mostrar un mensaje conteniendo únicamente ese ruido. Si el usuario introduce un número de decibelios entre los ruidos listados su programa debería mostrar un mensaje indicando entre qué ruidos está dicho nivel. Asegúrese de que su programa también genere un mensaje razonable para un valor más bajo que el menor ruido y para un valor más alto que el mayor ruido."
   ]
  },
  {
   "cell_type": "markdown",
   "metadata": {},
   "source": [
    "## Nombrar triángulo\n",
    "\n",
    "Un triángulo se puede clasificar en base de la longitud de sus lados en tres categorías: *equilátero*, *isósceles* y *escalena*. Los 3 lados de un triángulo equilátero tienen la misma longitud. Un triángulo isósceles tiene dos lados con la misma longitud y otro lado distinto. Si los tres lados tienen longitudes diferentes estamos hablando de un triángulo escaleno.\n",
    "\n",
    "Escriba un programa que lea la longitud de 3 lados de un triángulo. Muestre un mensaje indicando el tipo del triángulo."
   ]
  },
  {
   "cell_type": "markdown",
   "metadata": {},
   "source": [
    "## Nota a frecuencia\n",
    "\n",
    "La siguiente tabla muestra una octava de notas musicales, empezando con *middle C*, junto con sus frecuencias:\n",
    "\n",
    "Nota | Frecuencia (Hz)\n",
    "--- | ---\n",
    "C4 | 261.63\n",
    "D4 | 293.66\n",
    "E4 | 329.63\n",
    "F4 | 349.23\n",
    "G4 | 392.00\n",
    "A4 | 440.00\n",
    "B4 | 493.88\n",
    "\n",
    "Comience por escribir un programa que lea del usuario el nombre de una nota musical y muestre la frecuencia correspondiente. Su programa debería soportar todas las notas listadas previamente.\n",
    "\n",
    "Una vez que su programa esté funcionando perfectamente, debería añadir soporte para todas las notas musicales desde C0 hasta C8. Aunque esto se podría atacar añadiendo muchos casos adicionales a los `if` ya escritos, esta solución es engorrosa, poco elegante y no aceptable para los propósitos de este ejercicio. En cambio debería explotar la relación entre las notas en octavas adyacentes. En concreto, la frecuencia de cualquier nota en una octava $n$ es la mitad de la frecuencia de la correspondiente nota en la octava $n + 1$. Usando esta relación, usted debería ser capaz de añadir soporte para las notas adicionales sin añadir más casos `if` a sus condiciones."
   ]
  },
  {
   "cell_type": "markdown",
   "metadata": {},
   "source": [
    "## Frecuencia a nota\n",
    "\n",
    "En el ejercicio anterior convirtió un nombre de nota musical en su frecuencia. En este ejercicio escribirá un programa que realice el proceso inverso. Comience leyendo del usuario una determinada frecuencia. Si la frecuencia corresponde con alguna de la tabla anterior entonces muestre el nombre de la nota. En otro caso informe de que la frecuencia no se corresponde con ninguna nota conocida. En este ejercicio sólo necesita considerar las notas listadas en la tabla. No es necesario considerar notas de otras octavas."
   ]
  },
  {
   "cell_type": "markdown",
   "metadata": {},
   "source": [
    "## Caras del dinero\n",
    "\n",
    "En muchos países las monedas/los billetes suelen tener impreso algún personaje destacado de dicho país. En el caso de Estados Unidos se indica en la siguiente tabla:\n",
    "\n",
    "Personaje | Cantidad\n",
    "--- | ---\n",
    "George Washington | \\$1\n",
    "Thomas Jefferson | \\$2\n",
    "Abraham Lincoln | \\$5\n",
    "Alexander Hamilton | \\$10\n",
    "Andrew Jackson | \\$20\n",
    "Ulysses S. Grant | \\$50\n",
    "Benjamin Franklin | \\$100\n",
    "\n",
    "Escriba un programa que empiece leyendo la cantidad de una moneda/billete. Luego su programa debería mostrar el nombre del personaje vinculado. Se debería así mismo mostrar un mensaje de error si la cantidad no existe en la tabla anterior."
   ]
  },
  {
   "cell_type": "markdown",
   "metadata": {},
   "source": [
    "## Festividades\n",
    "\n",
    "A continuación se muestra un listado de las festividades en Canarias para el año 2020:\n",
    "\n",
    "Fecha | Festividad\n",
    "--- | ---\n",
    "1 de enero | Año Nuevo\n",
    "6 de enero | Epifanía del señor\n",
    "9 de abril | Jueves Santo\n",
    "10 de abril | Viernes Santo\n",
    "1 de mayo | Fiesta del Trabajo\n",
    "30 de mayo | Día de Canarias\n",
    "15 de agosto | Asunción de la Virgen\n",
    "12 de octubre | Fiesta de la Hispanidad\n",
    "7 de diciembre | Día de la Constitución\n",
    "8 de diciembre | Inmaculada Concepción\n",
    "25 de diciembre | Natividad del Señor\n",
    "\n",
    "Escriba un programa que lea del usuario un mes y un día. Si el mes y el día casan con alguna de las festividades de la tabla entonces su programa debería mostrar el nombre de la festividad. En otro caso se debería proporcionar un mensaje indicando que el mes y el día no corresponden a una fecha fija de festividad."
   ]
  },
  {
   "cell_type": "markdown",
   "metadata": {},
   "source": [
    "## Tablero de ajedrez\n",
    "\n",
    "Las posiciones en un tablero de ajedrez se identifican por una letra y un número. La letra identifica la columna mientras que el número identifica la fila:\n",
    "\n",
    "![Chessboard](img/chessboard.png)\n",
    "\n",
    "Escriba un programa que lea del usuario una posición. Use una sentencia `if` para determinar si la columna comienza con un cuadrado negro o un cuadrado blanco. Luego use aritmética modular para informar sobre el color del cuadrado en esa fila. Por ejemplo, si el usuario introduce `a1` el programa debería informar que el cuadrado es negro. Si el usuario introduce `d5` entonces su programa debería informar que el cuadrado es blanco. Su programa puede asumir que siempre se va a introducir una posición válida. No es necesario realizar ningún control de errores."
   ]
  },
  {
   "cell_type": "markdown",
   "metadata": {},
   "source": [
    "## Estaciones\n",
    "\n",
    "El año se divide un cuatro estaciones: primavera, verano, otoño e invierno. Las fechas exactas de las estaciones pueden variar un poco de año en año por la forma en la que se construye el calendario. Usaremos las siguientes fechas para este ejercicio:\n",
    "\n",
    "Estación | Primer día\n",
    "--- | ---\n",
    "Primavera | 20 de marzo\n",
    "Verano | 21 de junio\n",
    "Otoño | 22 de septiembre\n",
    "Invierno | 21 de diciembre\n",
    "\n",
    "Cree un programa que lea del usuario un mes y un día. El usuario introducirá el nombre del mes como una cadena de texto, seguido del día del mes como un entero. Luego su programa debería mostrar la estación asociada con la fecha introducida."
   ]
  },
  {
   "cell_type": "markdown",
   "metadata": {},
   "source": [
    "## Zodiaco\n",
    "\n",
    "Existen doce signos del zodiaco. En la siguiente tabla se muestran junto a las fechas correspondientes:\n",
    "\n",
    "Signo zodiacal | Rango de fechas\n",
    "--- | ---\n",
    "Capricornio | 22 de diciembre a 19 de enero\n",
    "Acuario | 20 de enero a 18 de febrero\n",
    "Piscis | 19 de febrero a 20 de marzo\n",
    "Aries | 21 de marzo a 19 de abril\n",
    "Tauro | 20 de abril a 20 de mayo\n",
    "Géminis | 21 de mayo a 20 de junio\n",
    "Cáncer | 21 de junio a 22 de julio\n",
    "Leo | 23 de julio a 22 de agosto\n",
    "Virgo | 23 de agosto a 22 de septiembre\n",
    "Libra | 23 de septiembre a 22 de octubre\n",
    "Escorpio | 23 de octubre a 21 de noviembre\n",
    "Sagitario | 22 de noviembre a 21 de diciembre\n",
    "\n",
    "Escriba un programa que pida al usuario introducir su mes y su día de nacimiento. Luego su programa debería informar del signo del zodiaco del usuario como parte de un mensaje de salida apropiado."
   ]
  },
  {
   "cell_type": "markdown",
   "metadata": {},
   "source": [
    "## Horóscopo chino\n",
    "\n",
    "El horóscopo chino asigna animales a años en un ciclo de 12 años:\n",
    "\n",
    "![Chinese Zodiac](img/chinese-zodiac.jpg)\n",
    "\n",
    "> Fuente: [ConfucioMag](https://confuciomag.com/doce-animales-horoscopo-chino)\n",
    "\n",
    "Escriba un programa que lea del usuario un año y muestre el animal asociado con dicho año en el horóscopo chino. Su programa debería funcionar correctamente para cualquier año mayor o igual que cero."
   ]
  },
  {
   "cell_type": "markdown",
   "metadata": {},
   "source": [
    "## Escala de Richter\n",
    "\n",
    "La siguiente tabla contiene los rangos de magnitudes de terremotos en la escala de Richter y sus descriptores:\n",
    "\n",
    "Magnitud | Descriptor\n",
    "--- | ---\n",
    "Menos de 2.0 | Micro\n",
    "2.0 a menos de 3.0 | Muy menor\n",
    "3.0 a menos de 4.0 | Menor\n",
    "4.0 a menos de 5.0 | Ligero\n",
    "5.0 a menos de 6.0 | Moderado\n",
    "6.0 a menos de 7.0 | Fuerte\n",
    "7.0 a menos de 8.0 | Mayor\n",
    "8.0 a menos de 9.0 | Épico\n",
    "9.0 a menos de 10.0 | Cataclismo\n",
    "10.0 o más | Meteórico\n",
    "\n",
    "Escriba un programa que lea una magnitud y muestre el descriptor apropiado como parte de un mensaje significativo. Por ejemplo, si el usuario introduce 5.5 entonces el programa debería indicar que la magnitud 5.5 se considera un terremoto moderado."
   ]
  },
  {
   "cell_type": "markdown",
   "metadata": {},
   "source": [
    "## Categorías a calificaciones\n",
    "\n",
    "En una determinada universidad las calificaciones están vinculadas con categorías tal y como se muestra en la siguiente tabla:\n",
    "\n",
    "Categoría | Calificación\n",
    "--- | ---\n",
    "A+ | 4.0\n",
    "A- | 3.7\n",
    "B+ | 3.3\n",
    "B | 3.0\n",
    "B- | 2.7\n",
    "C+ | 2.3\n",
    "C | 2.0\n",
    "C- | 1.7\n",
    "D+ | 1.3\n",
    "D | 1.0\n",
    "F | 0\n",
    "\n",
    "Escriba un programa que comience leyendo del usuario una categoría. Luego su programa debería computar y mostrar la calificación numérica correspondiente. Asegúrese que su programa genere un mensaje apropiado de eror si el usuario introduce una categoría inválida."
   ]
  },
  {
   "cell_type": "markdown",
   "metadata": {},
   "source": [
    "## Calificaciones a categorías\n",
    "\n",
    "En el ejercicio anterior usted creó un programa que convierte una categoría en su calificación equivalente. En este ejercicio creará un programa que realice el proceso inverso, esto es, convertir una calificación introducida por el usuario en su correspondiente categoría. Asegúrese que su programa maneja calificaciones que encajan en las categorías. Habría que redondear a la categoría más cercana. Su programa debería mostrar A+ para calificaciones de 4.0 o superior."
   ]
  },
  {
   "cell_type": "markdown",
   "metadata": {},
   "source": [
    "## Evaluación del personal\n",
    "\n",
    "En una determinada empresa el personal se evalúa a final de año. La escala valoración comienza en 0.0, con mayores valores indicando mejor rendimiento. El valor asignado a cada empleado/a es 0.0, 0.4 o 0.6. No se usan los valores comprendidos entre 0.0 - 0.4 ni entre 0.4 y 0.6. El significado asociado con cada valoración se muestra en la siguiente tabla. El aumento de salario del personal se calcula como 2400€ multiplicado por su valoración:\n",
    "\n",
    "Valoración | Significado\n",
    "--- | ---\n",
    "0.0 | Rendimiento inaceptable\n",
    "0.4 | Rendimiento aceptable\n",
    "0.6 o más | Rendimiento meritorio\n",
    "\n",
    "Escriba un programa que lea del usuario una valoración e indique si el rendimiento fue inaceptable, aceptable o meritorio. También se debería informar sobre el aumento de salario del personal. Su programa debería mostrar un mensaje de error apropiado si se introduce una valoración incorrecta."
   ]
  },
  {
   "cell_type": "markdown",
   "metadata": {},
   "source": [
    "## Longitud de onda\n",
    "\n",
    "La longitud de onda de la luz visible está entre los 380 y los 750 *nanómetros* (nm). Aunque el espectro es continuo, a menudo se divide en 6 colores:\n",
    "\n",
    "Color | Longitud de onda (*nm*)\n",
    "--- | ---\n",
    "Violeta | De 380 a menos de 450\n",
    "Azul | De 450 a menos de 495\n",
    "Verde | De 495 a menos de 570\n",
    "Amarillo | De 570 a menos de 590\n",
    "Naranja | De 590 a menos de 620\n",
    "Rojo | De 620 a 750\n",
    "\n",
    "Escriba un programa que lea una longitud de onda e indique su color. Muestre un mensaje de error apropiado si la longitud de onda introducida por el usuario está fuera del espectro visible."
   ]
  },
  {
   "cell_type": "markdown",
   "metadata": {},
   "source": [
    "## Electromagnetismo\n",
    "\n",
    "La radiación electromagnética se puede clasificar en una de 7 categorías de acuerdo a su frecuencia, como se muestra en la siguiente tabla:\n",
    "\n",
    "Nombre | Rango de frecuencias (Hz)\n",
    "--- | ---\n",
    "Ondas de radio | Menos de $3 \\times 10^9$\n",
    "Microondas | De $3 \\times 10^9$ a menos de $3 \\times 10^{12}$\n",
    "Luz infrarroja | De $3 \\times 10^{12}$ a menos de $4.3 \\times 10^{14}$\n",
    "Luz visible | De $4.3 \\times 10^{14}$ a menos de $7.5 \\times 10^{14}$\n",
    "Luz ultravioleta | De $7.5 \\times 10^{14}$ a menos de $3 \\times 10^{17}$\n",
    "Rayos X | De $3 \\times 10^{17}$ a menos de $3 \\times 10^{19}$\n",
    "Rayos Gamma | De $3 \\times 10^{19}$ o más\n",
    "\n",
    "Escriba un programa que lea del usuario la frecuencia de la radiación y muestre el nombre correspondiente."
   ]
  },
  {
   "cell_type": "markdown",
   "metadata": {},
   "source": [
    "## Factura de telefonía\n",
    "\n",
    "Un determinado plan de telefonía móvil incluye 50 minutos de conversación y 50 mensajes de texto por 15€ al mes. Cada minuto adicional de conversación cuesta 0.25€ y cada mensaje de texto adicional cuesta 0.15€. Todas las facturas de este plan incluyen un cargo adicional de 0.44€ para posibles llamadas a 911, y la factura completa (incluyendo el cargo de los 911) está sujeta a un 5% de impuestos.\n",
    "\n",
    "Escriba un programa que lea el número de minutos y el números de mensajes de texto usados en un mes. Muestre el importe base de la factura, coste por minutos adicionales de conversación (si procede), coste por mensajes de texto adicionales (si procede), tasa 911, impuestos y finalmente el coste total de la factura. Únicamente muestre el cargo de minutos adicionales y mensajes de texto adicionales si el usuario ha incurrido en costes de estas categorías. Asegúrese de que todos los cargos se muestren con 2 lugares decimales."
   ]
  },
  {
   "cell_type": "markdown",
   "metadata": {},
   "source": [
    "## El siguiente día\n",
    "\n",
    "Escriba un programa que lea del usuario una fecha y compute su inmediato \"sucesor\". Por ejemplo, si el usuario introduce valores que representan el 18/11/2013 entonces su programa debería mostrar un mensaje indicando que el siguiente día es el 19/11/2013. Ojo con el final de los meses y el final de los años. La fecha será introducida de forma numérica con tres sentencias `input` diferentes: una para el día, otra para el mes y otra para el año. Asegúrese de que su programa funciona correctamente para años bisiestos."
   ]
  },
  {
   "cell_type": "markdown",
   "metadata": {},
   "source": [
    "## Matrículas\n",
    "\n",
    "En ciertas jurisdicciones hay viejas matrículas de vehículos que consisten en 3 letras en mayúsculas seguidas por 3 números. Cuando todas estas viejas matrículas agotaron el patrón, el formato se cambió a 4 números seguidos por 3 letras en mayúsculas.\n",
    "\n",
    "Escriba un programa que comience leyendo una cadena de texto. Luego su programa debería mostrar un mensaje indicando si los caracteres son válidos para el estilo de matrículas antiguas o para el estilo de matrículas nuevas. Su programa debería mostrar un mensaje apropiado si la cadena de texto introducida por el usuario no es válida para ningún estilo de matrículas."
   ]
  }
 ],
 "metadata": {
  "kernelspec": {
   "display_name": "Python 3",
   "language": "python",
   "name": "python3"
  },
  "language_info": {
   "codemirror_mode": {
    "name": "ipython",
    "version": 3
   },
   "file_extension": ".py",
   "mimetype": "text/x-python",
   "name": "python",
   "nbconvert_exporter": "python",
   "pygments_lexer": "ipython3",
   "version": "3.8.0"
  }
 },
 "nbformat": 4,
 "nbformat_minor": 2
}
