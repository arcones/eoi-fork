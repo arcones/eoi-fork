{
 "cells": [
  {
   "cell_type": "code",
   "execution_count": 1,
   "metadata": {},
   "outputs": [
    {
     "data": {
      "text/html": [
       "<style>/* title of columns */\n",
       "table thead th {\n",
       "    font-size: 1.2em !important;\n",
       "    padding-top: 0.2em !important;\n",
       "    padding-bottom: 0.2em !important;\n",
       "    text-align: left !important;\n",
       "}\n",
       "\n",
       "/* title of rows */\n",
       "table tbody th {\n",
       "    font-size: 1.2em !important;\n",
       "    background: rgba(199, 199, 199, 0.356) !important;\n",
       "    border: 1px solid black !important;\n",
       "    text-align: left !important;\n",
       "}\n",
       "\n",
       "/* style for each cell */\n",
       "table td {\n",
       "    font-size: 1.15em !important;\n",
       "    border: 1px solid black !important;\n",
       "    text-align: left !important;\n",
       "}\n",
       "\n",
       "/* disable zebra-style */\n",
       "table tbody tr {\n",
       "    background: white !important;\n",
       "}\n",
       "\n",
       "/* row color on hover */\n",
       "table tbody tr:hover {\n",
       "    background: rgba(43, 137, 226, 0.144) !important;\n",
       "}\n",
       "\n",
       "/* SLIDES */\n",
       ".slides table td {\n",
       "    font-size: 15pt !important;\n",
       "}\n",
       "\n",
       ".slides table th {\n",
       "    font-size: 15pt !important;\n",
       "}\n",
       "\n",
       ".slides img {\n",
       "    margin-left: auto !important;\n",
       "    margin-right: auto !important;\n",
       "}\n",
       "\n",
       ".slides blockquote {\n",
       "    margin: 0 !important;\n",
       "    box-shadow: none !important;\n",
       "    width: 100% !important;\n",
       "    border-left: 5px solid lightgray !important;\n",
       "    color: #284d71 !important;\n",
       "    padding: 0 0 0 10px !important;\n",
       "    background-color: #f9f9f9 !important;\n",
       "    font-size: 20px !important;\n",
       "}\n",
       "\n",
       ".slides blockquote p {\n",
       "    margin: 10px 0 10px 0 !important;\n",
       "}\n",
       "</style>"
      ],
      "text/plain": [
       "<IPython.core.display.HTML object>"
      ]
     },
     "execution_count": 1,
     "metadata": {},
     "output_type": "execute_result"
    }
   ],
   "source": [
    "from IPython.display import HTML\n",
    "from pathlib import Path\n",
    "\n",
    "css_rules = Path('../custom.css').read_text()\n",
    "HTML('<style>' + css_rules + '</style>')"
   ]
  },
  {
   "cell_type": "markdown",
   "metadata": {},
   "source": [
    "# 🎯 Ejercicios\n",
    "\n",
    "Fuente: [The Python Workbook](https://www.springer.com/gp/book/9783030188726)"
   ]
  },
  {
   "cell_type": "markdown",
   "metadata": {},
   "source": [
    "---\n",
    "\n",
    "### 📣 NOTA:\n",
    "\n",
    "Cuando los ejercicios hablen de solicitar datos al usuario, pueden utilizar `sys.argv` para leer estos datos por línea de comandos.\n",
    "\n",
    "---"
   ]
  },
  {
   "cell_type": "markdown",
   "metadata": {},
   "source": [
    "## Computar la hipotenusa\n",
    "\n",
    "Escriba una función que reciba las longitudes de los dos lados más cortos de un triángulo rectángulo como parámetros. Devuelva la hipotenusa del triángulo, computada usando el *Teorema de Pitágoras*. Incluya un programa principal que lea del usuario las longitudes de los dos lados más cortos de un triángulo rectángulo, use su función para computar la longitud de la hipotenusa y muestre el resultado."
   ]
  },
  {
   "cell_type": "markdown",
   "metadata": {},
   "source": [
    "## Tarifa de taxi\n",
    "\n",
    "En un determinado lugar la tarifa del taxi consiste en una tarifa base de 4€ más 0.25€ por cada 140 metros recorridos. Escriba una función que tome la distancia recorrida (en kilómetros) como único parámetro y devuelva la tarifa total como único resultado. Escriba un programa principal que pruebe la función."
   ]
  },
  {
   "cell_type": "markdown",
   "metadata": {},
   "source": [
    "## Costes de envío\n",
    "\n",
    "Una tienda online cobra gastos de envío para muchos de sus artículos con un importe de 10.95€ para el primer artículo y 2.95€ para los siguientes artículos. Escriba una función que tome como único argumento el número de elementos en el pedido. Devuelva el coste de envío para el pedido. Incluya un programa principal que lea el número de elementos comprados y muestre el coste de envío."
   ]
  },
  {
   "cell_type": "markdown",
   "metadata": {},
   "source": [
    "## Mediana de tres valores\n",
    "\n",
    "Escriba una función que tome como parámetros tres números y devuelva la *mediana* de dichos números. Incluya un programa principal que lea del usuario tres valores y muestre su mediana.\n",
    "\n",
    "> La mediana es el valor que ocupa la posición de la mitad cuando los valores están ordenados de manera ascendente."
   ]
  },
  {
   "cell_type": "markdown",
   "metadata": {},
   "source": [
    "## Números ordinales\n",
    "\n",
    "Palabras como *primero*, *segundo* y *tercero* hacen referencia a números ordinales. En este ejercicio usted escribirá una función que toma como único parámetro un valor entero y devuelva una cadena de texto con la representación correspondiente del ordinal. Su función debe manejar enteros entre 1 y 12 (inclusive). Debería devolver una cadena de texto vacía si el valor está fuera de este rango. Incluya un programa principal que pruebe su función mostrando cada entero entre 1 y 12 y su correspondiente número ordinal."
   ]
  },
  {
   "cell_type": "markdown",
   "metadata": {},
   "source": [
    "## Centrar un string\n",
    "\n",
    "Escriba una función que tome como primer parámetro una cadena de texto y como segundo parámetro el ancho del terminal en caracteres. Su función debería devolver una nueva cadena de texto incluyendo la cadena original y el número correcto de espacios en blanco antes de la cadena para centrar el mensaje al ancho de terminal especificado. No añada ningún carácter al final de la cadena de texto. Incluya un programa principal que pruebe su función."
   ]
  },
  {
   "cell_type": "markdown",
   "metadata": {},
   "source": [
    "## Triángulo válido\n",
    "\n",
    "Si se dispone de tres cañitas de longitudes diferentes, puede ser posible, o no, construir un triángulo de tal forma que sus extremos estén en contacto. Por ejemplo, si todas las cañitas tienen una longitud de 6cm, entonces se puede construir fácilmente un triángulo equilátero. Sin embargo, si una de las cañitas es de 6cm y las otras dos son de 2cm, entonces no se puede formar un triángulo. En general, si alguna de las longitudes es mayor o igual que la suma de las otras dos entonces las longitudes no se pueden usar para construir un triángulo. En otro caso sí se puede formar un triángulo.\n",
    "\n",
    "Escriba una función que determina si tres longitudes pueden formar un triángulo. La función toma 3 parámetros y devuelve un resultado booleano. Además, escriba un programa que lea del usuario 3 longitudes y pruebe el comportamiento de la función."
   ]
  },
  {
   "cell_type": "markdown",
   "metadata": {},
   "source": [
    "## Mayúsculas\n",
    "\n",
    "La gran mayoría de las personas usan las mayúsculas correctamente, especialmente cuando escriben en pequeños dispositivos como *smartphones*. En este ejercicio creará una función que pase a mayúsculas los caracteres apropiados en una cadena de texto. Una letra minúscula \"i\" debería cambiarse por \"I\" si viene precedida de un espacio en blanco. También se debería pasar a mayúsculas el primer carácter de la cadena de texto así como los primeros caracteres después de \".\", \"!\" o \"¿\" y \"?\". Por ejemplo, si la función recibe la cadena \"¿a qué hora debería estar ahí? ¿cuál es la dirección?\", se debería devolver la cadena \"¿A qué hora debería estar ahí? ¿Cuál es la dirección?\". Incluya un programa principal que lea del usuario una cadena de texto y pase mayúsculas los caracteres apropiados haciendo uso de la función desarrollada."
   ]
  },
  {
   "cell_type": "markdown",
   "metadata": {},
   "source": [
    "## Representación de un entero\n",
    "\n",
    "En este ejercicio escribirá una función llamada `is_integer` que determine si los caracteres en una cadena de texto representan un entero válido. Al determinar si una cadena de texto representa un entero usted debería ignorar cualquier espacio al inicio. Una vez hecho esto, una cadena de teto representa un entero si su longitud es al menos 1 y si solo contiene dígitos, o su primer caracter es `+` o `-` y está seguido de uno o más caracteres (todos dígitos).\n",
    "\n",
    "Escriba un programa principal que lea del usuario una cadena de texto e informe de si representa o no un entero válido."
   ]
  },
  {
   "cell_type": "markdown",
   "metadata": {},
   "source": [
    "## Precedencia de operadores\n",
    "\n",
    "Escriba una función llamada `precedence` que devuelve un entero representando la precedencia de un operador matemático. La función recibirá como único parámetro una cadena de texto que contiene el operador. Su función debería devolver `1` para `+` y `-`, `2` para `*` y `/`, y `3` para `^`. Si la cadena de texto no contiene uno de esos operadores entonces la función debería volver `-1`. Incluye un programa principal que lea un operador del usuario y bien muestre un mensaje con la precendencia del operador o bien muestre un mensaje de error apropiado."
   ]
  },
  {
   "cell_type": "markdown",
   "metadata": {},
   "source": [
    "## Número primo\n",
    "\n",
    "Un número primo es un entero mayor que 1 que sólo es divisible por uno y por sí mismo. Escriba una función que determine si su parámetro es primo, devolviendo `True` si es así o `False` en otro caso. Escriba un programa principal que lea un valor entero y muestre un mensaje indicando si el número es primo o no."
   ]
  },
  {
   "cell_type": "markdown",
   "metadata": {},
   "source": [
    "## Siguiente primo\n",
    "\n",
    "En este ejercicio creará una función llamada `next_prime` que encuentre y devuelva el primer número primo mayor que un determinado entero $n$. El valor de $n$ se pasará a la función como único parámetro. Incluya un programa principal que lea un entero y muestre el primer número primo mayor que el valor introducido. Use la función creada en el ejercicio anterior."
   ]
  },
  {
   "cell_type": "markdown",
   "metadata": {},
   "source": [
    "## Comprobar una contraseña\n",
    "\n",
    "En este ejercicio creará una función que determine si una contraseña es buena. Estableceremos que una buena contraseña es aquella con una longitud de al menos 8 caracteres y que contiene al menos una letra en mayúsculas, al menos una letra en minúsculas y al menos un número. Su función debería devolver `True` si la contraseña pasada a la función es buena. En otro caso se debería retornar `False`. Incluya un programa principal que lea del usuario una contraseña e informe si es buena o no lo es."
   ]
  },
  {
   "cell_type": "markdown",
   "metadata": {},
   "source": [
    "## Hexadecimales y decimales\n",
    "\n",
    "Escriba dos funciones `hex2int` y `int2hex` para convertir entre dígitos hexadecimales (0, 1, 2, 3, 4, 5, 6, 7, 8, 9, A, B, C, D, E, F) y valores enteros en base 10. La función `hex2int` debería convertir una cadena de texto que contiene un único dígito hexadecimal a un entero en base 10, mientras que la función `int2hex` debería convertir un entero entre 0 y 15 en un único dígito hexadecimal. Cada función tomará el valor a convertir como único parámetro y devolverá el valor convertido como único resultado. Asegúrese de que la función `hex2int` funciona correctamente tanto para letras en mayúsculas como letras en minúsculas. Su función debería mostrar un mensaje de error significativo en el caso de que se introduzca un valor inapropiado."
   ]
  },
  {
   "cell_type": "markdown",
   "metadata": {},
   "source": [
    "## Conversiones de bases\n",
    "\n",
    "Escriba un programa que permita al usuario convertir un número de una base a otra. Su programa debería soportar bases entre 2 y 16 tanto para el número de entrada como para el número de salida. Si el usuario elije una base fuera de este rango se debería mostrar un mensaje de error apropiado. Divida su programa en varias funciones, incluyendo una función que convierta una base arbitraria a base 10, una función que convierta de base 10 a una base arbitraria y un programa principal que lea las bases y los números de entrada."
   ]
  },
  {
   "cell_type": "markdown",
   "metadata": {},
   "source": [
    "## Días en un mes\n",
    "\n",
    "Escriba una función que determine cuántos días hay en un mes particular. Su función recibiría dos parámetros: el mes (como un entero entre 1 y 12) y el año (como un entero de 4 dígitos). Asegúrese de que su función informe el correcto número de días en febrero para años bisiestos. Incluya un programa principal que lea del usuario un mes y un año, y muestre el número de días en ese mes."
   ]
  },
  {
   "cell_type": "markdown",
   "metadata": {},
   "source": [
    "## Simplificación de fracciones\n",
    "\n",
    "Escriba una función que reciba dos enteros positivos que representan numerador y denominador de una fracción. El cuerpo de la función debería reducir la fracción a sus mínimos términos y luego devolver numerador y denominador de la fracción simplificada. Por ejemplo, si los parámetros pasados a la función son 6 y 63 la función debería devolver 2 y 21. Incluya un programa que permita al usuario introducir numerador y denominador. Luego su programa debería mostrar la fracción simplificada."
   ]
  },
  {
   "cell_type": "markdown",
   "metadata": {},
   "source": [
    "## Fechas mágicas\n",
    "\n",
    "Una fecha mágica es una fecha donde el día multiplicado por el mes es igual al año (en 2 dígitos). Por ejemplo, el 10 de junio de 1960 es una fecha mágica porque Junio es el sexto mes, y 6 multiplicado por 10 es 60, igual al año en sus dos últimos dígitos. Escriba una función que determine si una fecha es mágica o no. Use su función para crear un programa principal que encuentre y muestre todas las fechas mágicas en el siglo XX."
   ]
  },
  {
   "cell_type": "markdown",
   "metadata": {},
   "source": [
    "## Palíndromo (recursivo)\n",
    "\n",
    "A través de una función recursiva, escriba un programa que determine si una determinada palabra es un palíndromo.\n",
    "\n",
    "> Pista: la cadena vacía es un palíndromo.\n",
    "\n",
    "💡 Puedes ver aquí [la solución que yo propongo](solutions/exercises/recursive_palindrome.py)."
   ]
  },
  {
   "cell_type": "markdown",
   "metadata": {},
   "source": [
    "## Raíz cuadrada (recursivo)\n",
    "\n",
    "A través de una función recursiva, escriba un programa que compute la raíz cuadrada de un determinado número dado, a partir del algoritmo de Newton:\n",
    "\n",
    "![Newton's algorithm](img/newton-algorithm.png)\n",
    "\n",
    "💡 Puedes ver aquí [la solución que yo propongo](solutions/exercises/recursive_sqrt.py)."
   ]
  }
 ],
 "metadata": {
  "kernelspec": {
   "display_name": "Python 3",
   "language": "python",
   "name": "python3"
  },
  "language_info": {
   "codemirror_mode": {
    "name": "ipython",
    "version": 3
   },
   "file_extension": ".py",
   "mimetype": "text/x-python",
   "name": "python",
   "nbconvert_exporter": "python",
   "pygments_lexer": "ipython3",
   "version": "3.8.0"
  }
 },
 "nbformat": 4,
 "nbformat_minor": 2
}
