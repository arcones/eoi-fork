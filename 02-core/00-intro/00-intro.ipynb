{
 "cells": [
  {
   "cell_type": "code",
   "execution_count": 1,
   "metadata": {
    "slideshow": {
     "slide_type": "skip"
    }
   },
   "outputs": [
    {
     "data": {
      "text/html": [
       "<style>/* title of columns */\n",
       "table thead th {\n",
       "    font-size: 1.2em !important;\n",
       "    padding-top: 0.2em !important;\n",
       "    padding-bottom: 0.2em !important;\n",
       "    text-align: left !important;\n",
       "}\n",
       "\n",
       "/* title of rows */\n",
       "table tbody th {\n",
       "    font-size: 1.2em !important;\n",
       "    background: rgba(199, 199, 199, 0.356) !important;\n",
       "    border: 1px solid black !important;\n",
       "    text-align: left !important;\n",
       "}\n",
       "\n",
       "/* style for each cell */\n",
       "table td {\n",
       "    font-size: 1.15em !important;\n",
       "    border: 1px solid black !important;\n",
       "    text-align: left !important;\n",
       "}\n",
       "\n",
       "/* disable zebra-style */\n",
       "table tbody tr {\n",
       "    background: white !important;\n",
       "}\n",
       "\n",
       "/* row color on hover */\n",
       "table tbody tr:hover {\n",
       "    background: rgba(43, 137, 226, 0.144) !important;\n",
       "}\n",
       "\n",
       "/* SLIDES */\n",
       ".slides table td {\n",
       "    font-size: 15pt !important;\n",
       "}\n",
       "\n",
       ".slides table th {\n",
       "    font-size: 15pt !important;\n",
       "}\n",
       "\n",
       ".slides img {\n",
       "    margin-left: auto !important;\n",
       "    margin-right: auto !important;\n",
       "}\n",
       "\n",
       ".slides blockquote {\n",
       "    margin: 0 !important;\n",
       "    box-shadow: none !important;\n",
       "    width: 100% !important;\n",
       "    border-left: 5px solid lightgray !important;\n",
       "    color: #284d71 !important;\n",
       "    padding: 0 0 0 10px !important;\n",
       "    background-color: #f9f9f9 !important;\n",
       "    font-size: 20px !important;\n",
       "}\n",
       "\n",
       ".slides blockquote p {\n",
       "    margin: 10px 0 10px 0 !important;\n",
       "}\n",
       "</style>"
      ],
      "text/plain": [
       "<IPython.core.display.HTML object>"
      ]
     },
     "execution_count": 1,
     "metadata": {},
     "output_type": "execute_result"
    }
   ],
   "source": [
    "from IPython.display import HTML\n",
    "from pathlib import Path\n",
    "\n",
    "css_rules = Path('../custom.css').read_text()\n",
    "HTML('<style>' + css_rules + '</style>')"
   ]
  },
  {
   "cell_type": "markdown",
   "metadata": {
    "slideshow": {
     "slide_type": "slide"
    }
   },
   "source": [
    "# Curso de especialización en Python (EOI)"
   ]
  },
  {
   "cell_type": "markdown",
   "metadata": {
    "slideshow": {
     "slide_type": "-"
    }
   },
   "source": [
    "![EOI](img/eoi-logo.jpg)"
   ]
  },
  {
   "cell_type": "markdown",
   "metadata": {
    "slideshow": {
     "slide_type": "-"
    }
   },
   "source": [
    "En este módulo nos centraremos en el propio **lenguaje de programación**, lo que se viene a denominar en muchos ámbitos el **CORE** de Python."
   ]
  },
  {
   "cell_type": "markdown",
   "metadata": {
    "slideshow": {
     "slide_type": "subslide"
    }
   },
   "source": [
    "## 👨🏻‍🏫 El profe\n",
    "\n",
    "![sdelquin](img/sdelquin.png)"
   ]
  },
  {
   "cell_type": "markdown",
   "metadata": {
    "slideshow": {
     "slide_type": "-"
    }
   },
   "source": [
    "> Soy **Sergio** y tienes mis datos de contacto y una pequeña biografía aquí: [sdelquin.me](https://sdelquin.me)"
   ]
  },
  {
   "cell_type": "markdown",
   "metadata": {
    "slideshow": {
     "slide_type": "subslide"
    }
   },
   "source": [
    "## 📋 Contenidos\n",
    "\n",
    "1. [Datos: tipos, valores, variables y nombres](../01-data/01-data.ipynb)\n",
    "2. [Números](../02-numbers/02-numbers.ipynb)\n",
    "3. [Cadenas de texto](../03-strings/03-strings.ipynb)\n",
    "4. [Condicionales](../04-conditionals/04-conditionals.ipynb)\n",
    "5. [Bucles](../05-loops/05-loops.ipynb)\n",
    "6. [Tuplas y Listas](../06-lists/06-lists.ipynb)\n",
    "7. [Diccionarios y Conjuntos](../07-dicts/07-dicts.ipynb)\n",
    "8. [Funciones](../08-functions/08-functions.ipynb)\n",
    "9. [Objetos y Clases](../09-objects/09-objects.ipynb)\n",
    "10. [Ficheros, módulos y paquetes](../10-files/10-files.ipynb)"
   ]
  },
  {
   "cell_type": "markdown",
   "metadata": {
    "slideshow": {
     "slide_type": "subslide"
    }
   },
   "source": [
    "## 📗 Referencia\n",
    "\n",
    "Los apuntes están basados en el libro [\"Introducing Python\" de Bill Lubanovic](https://www.amazon.es/Introducing-Python-Modern-Computing-Packages/dp/1492051365/):\n",
    "\n",
    "![Introducing Python Book](img/introducing-python.jpg)"
   ]
  },
  {
   "cell_type": "markdown",
   "metadata": {
    "slideshow": {
     "slide_type": "subslide"
    }
   },
   "source": [
    "## 🎒 Organización\n",
    "\n",
    "- Días de clase del presente módulo: **2, 5, 6, 7, 8, 9, 13, 14 y 15 de octubre**.\n",
    "- El horario de clases será de **16:30h a 20:30h** (peninsular).\n",
    "- En las clases se impartirán *contenidos más \"teóricos\"* junto con **ejercicios prácticos**. Estos ejercicios no son de obligado cumplimiento, pero son muy necesarios para afianzar lo visto en clase.\n",
    "- Es obligatoria la asistencia a un mínimo del **80%** de las clases para obtener el **certificado de asistencia**.\n",
    "- Se planteará un **mini-proyecto** el último día de clase del módulo.\n",
    "- Será necesario el cumplimiento de la asistencia y la superación del mini-proyecto para tener *apto* el presente módulo y poder optar al **diploma final de aprovechamiento del curso**."
   ]
  },
  {
   "cell_type": "markdown",
   "metadata": {
    "slideshow": {
     "slide_type": "slide"
    }
   },
   "source": [
    "# Python\n",
    "\n",
    "![Python](img/python.png)"
   ]
  },
  {
   "cell_type": "markdown",
   "metadata": {
    "slideshow": {
     "slide_type": "-"
    }
   },
   "source": [
    "> Icons made by <a href=\"https://www.flaticon.com/authors/freepik\" title=\"Freepik\">Freepik</a> from <a href=\"https://www.flaticon.com/\" title=\"Flaticon\"> www.flaticon.com</a>"
   ]
  },
  {
   "cell_type": "markdown",
   "metadata": {
    "slideshow": {
     "slide_type": "subslide"
    }
   },
   "source": [
    "## 🐍 ¿Qué es Python?\n",
    "\n",
    "En su [definición](https://es.wikipedia.org/wiki/Python) de la Wikipedia:\n",
    "\n",
    "- Python es un lenguaje de programación **interpretado** cuya filosofía hace hincapié en una sintaxis que favorezca un **código legible**.\n",
    "- Se trata de un lenguaje de programación **multiparadigma**, ya que soporta **orientación a objetos**, **programación imperativa** y, en menor medida, *programación funcional*. Usa **tipado dinámico** y es **multiplataforma**.\n",
    "- Añadiría, como característica destacada, que se trata de un lenguaje de **propósito general**."
   ]
  },
  {
   "cell_type": "markdown",
   "metadata": {
    "slideshow": {
     "slide_type": "-"
    }
   },
   "source": [
    "### Un poco de historia... ¿de dónde viene Python?\n",
    "\n",
    "- Python fue creado por [Guido van Rossum](https://es.wikipedia.org/wiki/Guido_van_Rossum) (durante muchos años fue el \"*Dictador Benevolente Vitalicio*\").\n",
    "- La versión **1.0** de Python fue lanzada en el año 1994.\n",
    "- Python se llama así porque a Guido le gustaban mucho los [Monty Python](https://es.wikipedia.org/wiki/Monty_Python), un grupo de humor inglés de los años 60."
   ]
  },
  {
   "cell_type": "markdown",
   "metadata": {
    "slideshow": {
     "slide_type": "subslide"
    }
   },
   "source": [
    "## 🐙 Uso de Python\n",
    "\n",
    "- [Índice TIOBE](https://www.tiobe.com/tiobe-index/) de marzo de 2020: Puesto **número 3** de lenguajes de programación más usados.\n",
    "- [Encuesta a desarrolladores de Stack Overflow](https://insights.stackoverflow.com/survey/2019#most-popular-technologies) de 2019: Puesto **número 4** de tecnologías más populares.\n",
    "\n",
    "![Python Usage](img/python-usage.png)"
   ]
  },
  {
   "cell_type": "markdown",
   "metadata": {
    "slideshow": {
     "slide_type": "subslide"
    }
   },
   "source": [
    "### ¿Quién usa Python?"
   ]
  },
  {
   "cell_type": "markdown",
   "metadata": {
    "slideshow": {
     "slide_type": "-"
    }
   },
   "source": [
    "![Who uses Python](img/who-uses-python.png)"
   ]
  },
  {
   "cell_type": "markdown",
   "metadata": {
    "slideshow": {
     "slide_type": "subslide"
    }
   },
   "source": [
    "### ¿Para qué se usa Python?\n",
    "\n",
    "- Desarrollo web.\n",
    "- Análisis de datos.\n",
    "- DevOps / Administración de sistemas / Scripts de automatización.\n",
    "- Propósitos educativos.\n",
    "- Machine Learning.\n",
    "- Aplicaciones de escritorio.\n",
    "- Programación de parsers / scrapers / crawlers.\n",
    "- Internet de las cosas.\n",
    "- Seguridad.\n",
    "- Inteligencia artificial.\n",
    "- Criptomonedas / Blockchain.\n",
    "- Buenas prácticas de programación / Patrones de diseño.\n",
    "- Bases de datos relacionales / NoSQL\n",
    "- Concurrencia.\n",
    "- Programación de redes.\n",
    "- Prototipado de software.\n",
    "- Tests automatizados.\n",
    "- Gráficos por ordenador.\n",
    "- Desarrollo de juegos.\n",
    "- Desarrollo en dispositivos embebidos.\n",
    "- Desarrollo móvil.\n",
    "- Desarrollo de aplicaciones multimedia."
   ]
  },
  {
   "cell_type": "markdown",
   "metadata": {
    "slideshow": {
     "slide_type": "subslide"
    }
   },
   "source": [
    "## 🤙🏻 Ventajas de Python\n",
    "\n",
    "- Libre y gratuito (OpenSource)\n",
    "- Fácil de leer, parecido a pseudocódigo\n",
    "- Aprendizaje relativamente fácil y rápido: claro, intuitivo...\n",
    "- Alto nivel\n",
    "- Alta Productividad: simple y rápido\n",
    "- Tiende a producir un buen código: orden, limpieza, elegancia, flexibilidad, ...\n",
    "- Multiplataforma. Portable\n",
    "- Multiparadigma: programación imperativa, orientada a objetos, funcional, ...\n",
    "- Interactivo, modular, dinámico\n",
    "- Librerías extensivas (\"pilas incluídas\")\n",
    "- Gran cantidad de librerías de terceros\n",
    "- Extensible (C++, C, ...) y \"embebible\"\n",
    "- Gran comunidad, amplio soporte\n",
    "- *Interpretado*\n",
    "- *Fuertemente tipado, tipado dinámico*\n",
    "- *Hay diferentes implementaciones*: `CPython`, `Jython`, `IronPython`, `MicroPython`, ..."
   ]
  },
  {
   "cell_type": "markdown",
   "metadata": {
    "slideshow": {
     "slide_type": "subslide"
    }
   },
   "source": [
    "## 😔 Desventajas de Python\n",
    "\n",
    "- Interpretado (velocidad de ejecución, multithread vs GIL, etc.)\n",
    "- Consumo de memoria\n",
    "- Errores durante la ejecución\n",
    "- Dos versiones mayores no del todo compatibles\n",
    "- Desarrollo móvil\n",
    "- Acceso a base de datos\n",
    "- Documentación a veces dispersa e incompleta\n",
    "- Varios módulos para la misma funcionalidad\n",
    "- Librerías de terceros no siempre del todo maduras\n",
    "- A veces demasiado simple o alto nivel...\n",
    "- Python2 vs Python3\n",
    "- *¿Es de verdad el lenguaje ideal para principiantes?*"
   ]
  },
  {
   "cell_type": "markdown",
   "metadata": {
    "slideshow": {
     "slide_type": "subslide"
    }
   },
   "source": [
    "## 💆🏻‍♀️ El Zen de Python"
   ]
  },
  {
   "cell_type": "code",
   "execution_count": 2,
   "metadata": {
    "scrolled": true,
    "slideshow": {
     "slide_type": "-"
    }
   },
   "outputs": [
    {
     "name": "stdout",
     "output_type": "stream",
     "text": [
      "The Zen of Python, by Tim Peters\n",
      "\n",
      "Beautiful is better than ugly.\n",
      "Explicit is better than implicit.\n",
      "Simple is better than complex.\n",
      "Complex is better than complicated.\n",
      "Flat is better than nested.\n",
      "Sparse is better than dense.\n",
      "Readability counts.\n",
      "Special cases aren't special enough to break the rules.\n",
      "Although practicality beats purity.\n",
      "Errors should never pass silently.\n",
      "Unless explicitly silenced.\n",
      "In the face of ambiguity, refuse the temptation to guess.\n",
      "There should be one-- and preferably only one --obvious way to do it.\n",
      "Although that way may not be obvious at first unless you're Dutch.\n",
      "Now is better than never.\n",
      "Although never is often better than *right* now.\n",
      "If the implementation is hard to explain, it's a bad idea.\n",
      "If the implementation is easy to explain, it may be a good idea.\n",
      "Namespaces are one honking great idea -- let's do more of those!\n"
     ]
    }
   ],
   "source": [
    "import this"
   ]
  },
  {
   "cell_type": "markdown",
   "metadata": {
    "slideshow": {
     "slide_type": "subslide"
    }
   },
   "source": [
    "## 🤼‍♀️ Python2 vs Python3\n",
    "\n",
    "### Python 2.x\n",
    "\n",
    "- Python 2.0 se publicó en 2000.\n",
    "- La última versión disponible es Python 2.7 publicada en 2010.\n",
    "- Actualmente [2.7.17 (19/10/19)](https://www.python.org/doc/versions/).\n",
    "- Ya no se mantiene desde el 1 de enero de 2020.\n",
    "\n",
    "### Python 3.x\n",
    "\n",
    "- Python 3.0 se publicó en 2008.\n",
    "- La última versión disponible es Python 3.8 publicada en 2019.\n",
    "- Actualmente [3.8.2 (24/02/20)](https://www.python.org/doc/versions/).\n",
    "- Ya se está trabajando en la versión 3.9."
   ]
  },
  {
   "cell_type": "markdown",
   "metadata": {
    "slideshow": {
     "slide_type": "-"
    }
   },
   "source": [
    "> Se debería migrar todo el código \"legacy\" a Python 3, así como empezar siempre nuevos proyectos desde esta versión."
   ]
  },
  {
   "cell_type": "markdown",
   "metadata": {
    "slideshow": {
     "slide_type": "subslide"
    }
   },
   "source": [
    "## 🤓 Recursos\n",
    "\n",
    "- Libros\n",
    "    - [Introducing Python de O'Reilly](http://shop.oreilly.com/product/0636920252528.do)\n",
    "    - [Learning Python de O'Reilly](http://shop.oreilly.com/product/0636920028154.do)\n",
    "    - [Fluent Python de O'Reilly](http://shop.oreilly.com/product/0636920032519.do)\n",
    "    - [Intermediate Python de PythonTips](http://book.pythontips.com/en/latest/index.html)\n",
    "- Tutoriales\n",
    "    - [Real Python](https://realpython.com/)\n",
    "    - [Recursos en español de Python](https://wiki.python.org/moin/SpanishLanguage)\n",
    "- Cursos\n",
    "    - [Introducción a la programación con Python](https://es.coursera.org/learn/introduccion-python)\n",
    "    - [Python 3 de Codecademy](https://www.codecademy.com/learn/learn-python-3)\n",
    "    - [Ejercicios Python de Exercism](https://exercism.io/my/tracks/python)\n",
    "- Cheatsheets\n",
    "    - [Python Cheatsheet](https://www.pythoncheatsheet.org/)\n",
    "    - [Python 3 de Laurent Pointal](https://perso.limsi.fr/pointal/_media/python:cours:mementopython3-english.pdf)\n",
    "    - [Varios cheatsheets de Sinxloud](https://sinxloud.com/python-cheat-sheet-beginner-advanced/)"
   ]
  },
  {
   "cell_type": "markdown",
   "metadata": {
    "slideshow": {
     "slide_type": "slide"
    }
   },
   "source": [
    "## 🐍 Tutoriales de Real Python\n",
    "\n",
    "- [Finding the Perfect Python Code Editor](https://realpython.com/courses/finding-perfect-python-code-editor/)\n",
    "- [Cool New Features in Python 3.8](https://realpython.com/courses/cool-new-features-python-38/)\n",
    "- [Thonny: The Beginner-Friendly Python Editor](https://realpython.com/courses/python-thonny/)\n",
    "- [Python Debugging With pdb](https://realpython.com/courses/python-debugging-pdb/)\n",
    "- [An Effective Python Environment: Making Yourself at Home](https://realpython.com/effective-python-environment/)\n",
    "- [11 Beginner Tips for Learning Python](https://realpython.com/courses/python-beginner-tips/)\n",
    "- [Introduction to Git and GitHub for Python Developers](https://realpython.com/courses/python-git-github-intro/)\n",
    "- [Installing Python on Windows, macOS, and Linux](https://realpython.com/courses/installing-python-windows-macos-linux/)\n",
    "- [Python Development in Visual Studio Code (Setup Guide)](https://realpython.com/courses/python-development-visual-studio-code-setup-guide/)\n",
    "- [Using Jupyter Notebooks](https://realpython.com/courses/using-jupyter-notebooks/)\n",
    "- [Working With Python Virtual Environments](https://realpython.com/courses/working-python-virtual-environments/)\n",
    "- [Python IDEs and Code Editors (Guide)](https://realpython.com/python-ides-code-editors-guide/)\n",
    "- [VIM and Python – A Match Made in Heaven](https://realpython.com/vim-and-python-a-match-made-in-heaven/)"
   ]
  }
 ],
 "metadata": {
  "celltoolbar": "Slideshow",
  "kernelspec": {
   "display_name": "Python 3",
   "language": "python",
   "name": "python3"
  },
  "language_info": {
   "codemirror_mode": {
    "name": "ipython",
    "version": 3
   },
   "file_extension": ".py",
   "mimetype": "text/x-python",
   "name": "python",
   "nbconvert_exporter": "python",
   "pygments_lexer": "ipython3",
   "version": "3.8.0"
  }
 },
 "nbformat": 4,
 "nbformat_minor": 2
}
