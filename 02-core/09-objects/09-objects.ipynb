{
 "cells": [
  {
   "cell_type": "code",
   "execution_count": 1,
   "metadata": {
    "slideshow": {
     "slide_type": "skip"
    }
   },
   "outputs": [
    {
     "data": {
      "text/html": [
       "<style>/* title of columns */\n",
       "table thead th {\n",
       "  font-size: 1.2em !important;\n",
       "  padding-top: 0.2em !important;\n",
       "  padding-bottom: 0.2em !important;\n",
       "  text-align: left !important;\n",
       "}\n",
       "\n",
       "/* title of rows */\n",
       "table tbody th {\n",
       "  font-size: 1.2em !important;\n",
       "  background: rgba(199, 199, 199, 0.356) !important;\n",
       "  border: 1px solid black !important;\n",
       "  text-align: left !important;\n",
       "}\n",
       "\n",
       "/* style for each cell */\n",
       "table td {\n",
       "  font-size: 1.15em !important;\n",
       "  border: 1px solid black !important;\n",
       "  text-align: left !important;\n",
       "}\n",
       "\n",
       "/* disable zebra-style */\n",
       "table tbody tr {\n",
       "  background: white !important;\n",
       "}\n",
       "\n",
       "/* row color on hover */\n",
       "table tbody tr:hover {\n",
       "  background: rgba(43, 137, 226, 0.144) !important;\n",
       "}\n",
       "\n",
       "/* SLIDES */\n",
       ".slides table td {\n",
       "  font-size: 15pt !important;\n",
       "}\n",
       "\n",
       ".slides table th {\n",
       "  font-size: 15pt !important;\n",
       "}\n",
       "\n",
       ".slides img {\n",
       "  margin-left: auto !important;\n",
       "  margin-right: auto !important;\n",
       "}\n",
       "\n",
       ".slides blockquote {\n",
       "  margin: 0 !important;\n",
       "  box-shadow: none !important;\n",
       "  width: 100% !important;\n",
       "  border-left: 5px solid lightgray !important;\n",
       "  color: #284d71 !important;\n",
       "  padding: 0 0 0 10px !important;\n",
       "  background-color: #f9f9f9 !important;\n",
       "  font-size: 20px !important;\n",
       "}\n",
       "\n",
       ".slides blockquote p {\n",
       "  margin: 10px 0 10px 0 !important;\n",
       "}\n",
       "\n",
       ".slides ul,\n",
       ".slides ol {\n",
       "  margin-top: 0 !important;\n",
       "}\n",
       "\n",
       ".slides h1 + ol,\n",
       ".slides h1 + ol,\n",
       ".slides h2 + ul,\n",
       ".slides h2 + ol,\n",
       ".slides h3 + ul,\n",
       ".slides h2 + ol,\n",
       ".slides h4 + ul,\n",
       ".slides h4 + ol {\n",
       "  margin-top: 20px !important;\n",
       "}\n",
       "</style>"
      ],
      "text/plain": [
       "<IPython.core.display.HTML object>"
      ]
     },
     "execution_count": 1,
     "metadata": {},
     "output_type": "execute_result"
    }
   ],
   "source": [
    "from IPython.display import HTML\n",
    "from pathlib import Path\n",
    "\n",
    "css_rules = Path('../custom.css').read_text()\n",
    "HTML('<style>' + css_rules + '</style>')"
   ]
  },
  {
   "cell_type": "markdown",
   "metadata": {
    "slideshow": {
     "slide_type": "slide"
    }
   },
   "source": [
    "# Objetos y Clases"
   ]
  },
  {
   "cell_type": "markdown",
   "metadata": {
    "slideshow": {
     "slide_type": "-"
    }
   },
   "source": [
    "![Cone](img/cone.png)\n",
    "\n",
    "\"*Todo en Python es un objeto*\", desde números a funciones. Sin embargo Python oculta la mayoría de la maquinaria de objetos a través de sintaxis especial. En general sólo nos adentramos en esta sintaxis cuando queremos crear o modificar el comportamiento de objetos existentes."
   ]
  },
  {
   "cell_type": "markdown",
   "metadata": {
    "slideshow": {
     "slide_type": "-"
    }
   },
   "source": [
    "Icons made by <a href=\"https://www.flaticon.com/authors/freepik\" title=\"Freepik\">Freepik</a> from <a href=\"https://www.flaticon.com/\" title=\"Flaticon\"> www.flaticon.com</a>"
   ]
  },
  {
   "cell_type": "markdown",
   "metadata": {
    "slideshow": {
     "slide_type": "slide"
    }
   },
   "source": [
    "## 💎 ¿Por qué programación orientada a objetos?\n",
    "\n",
    "La programación orientada a objetos (**POO**) o en sus siglas inglesas **OOP** es una manera de programar que permite a las personas que desarrollan *pensar como si trabajaran con entidades de la vida real u objetos*.\n",
    "\n",
    "Sus **beneficios** son los siguientes:\n",
    "- **Encapsulamiento**: Permite *empaquetar* el código dentro de una unidad (*objeto*) donde se puede determinar el ámbito de actuación.\n",
    "- **Abstracción**: Permite *generalizar* los tipos de objetos a través de las *clases* y simplificar el programa.\n",
    "- **Herencia**: Permite *reutilizar* código al poder heredar atributos y comportamientos de una clase a otra.\n",
    "- **Polimorfismo**: Permite *crear* múltiples objetos a partir de una misma pieza flexible de código."
   ]
  },
  {
   "cell_type": "markdown",
   "metadata": {
    "slideshow": {
     "slide_type": "subslide"
    }
   },
   "source": [
    "### Beneficios de la Programación Orientada a Objetos"
   ]
  },
  {
   "cell_type": "markdown",
   "metadata": {
    "slideshow": {
     "slide_type": "-"
    }
   },
   "source": [
    "![OOP](img/oop.png)"
   ]
  },
  {
   "cell_type": "markdown",
   "metadata": {
    "slideshow": {
     "slide_type": "slide"
    }
   },
   "source": [
    "## 📺 ¿Qué son objetos?\n",
    "\n",
    "Un **objeto** es una *estructura de datos personalizada* que contiene:\n",
    "- Datos (variables o *atributos*).\n",
    "- Código (funciones o *métodos*).\n",
    "\n",
    "![Object](img/object.png)\n",
    "\n",
    "Se podría pensar en los objetos como *nombres* y en sus métodos como *verbos*. Un objeto representa una instancia única de alguna cosa y sus métodos definen cómo interactuan con otros objetos.\n",
    "\n",
    "Por ejemplo, el *objeto entero* con valor `7`  es un objeto que proporciona métodos como \"sumar\" o \"multiplicar\". La cadena de texto `'hello world'` también es un objeto y tiene métodos como \"pasar a mayúsculas\" o \"reemplazar\"."
   ]
  },
  {
   "cell_type": "markdown",
   "metadata": {
    "slideshow": {
     "slide_type": "slide"
    }
   },
   "source": [
    "## 🛢 Objetos sencillos\n",
    "\n",
    "### Definir una clase\n",
    "\n",
    "Para crear un objeto primero debemos definir la clase que lo contiene. Podemos pensar en la *clase* como el molde con el que crear nuevos objetos de ese tipo:\n",
    "\n",
    "![Queque](img/queque.png)"
   ]
  },
  {
   "cell_type": "markdown",
   "metadata": {
    "slideshow": {
     "slide_type": "-"
    }
   },
   "source": [
    "> Usaremos la palabra reservada `class` para crear nuevas clases."
   ]
  },
  {
   "cell_type": "markdown",
   "metadata": {
    "slideshow": {
     "slide_type": "subslide"
    }
   },
   "source": [
    "Empecemos por crear nuestra primera clase. En este caso vamos a modelar los\n",
    "[Droides de la saga StarWars](https://en.wikipedia.org/wiki/Droid_(Star_Wars)):\n",
    "\n",
    "![StarWars Droids](img/starwars-droids.jpg)\n",
    "\n",
    "Fuente de la imagen: [Astro Mech Droids](https://www.facebook.com/astromechdroids/)"
   ]
  },
  {
   "cell_type": "code",
   "execution_count": 2,
   "metadata": {
    "slideshow": {
     "slide_type": "-"
    }
   },
   "outputs": [],
   "source": [
    "class StarWarsDroid:\n",
    "    pass"
   ]
  },
  {
   "cell_type": "markdown",
   "metadata": {
    "slideshow": {
     "slide_type": "-"
    }
   },
   "source": [
    "Ésta es la definición más simple de clase que podemos hacer. Nótese que los nombres de clases se suelen escribir en formato *CamelCase* ([PEP8](https://www.python.org/dev/peps/pep-0008/#class-names)) y en *singular*."
   ]
  },
  {
   "cell_type": "markdown",
   "metadata": {
    "slideshow": {
     "slide_type": "subslide"
    }
   },
   "source": [
    "Existen multitud de droides en el universo StarWars. Una vez que hemos definido la clase genérica podemos crear *instancias* (droides) concretos:"
   ]
  },
  {
   "cell_type": "code",
   "execution_count": 3,
   "metadata": {
    "slideshow": {
     "slide_type": "-"
    }
   },
   "outputs": [],
   "source": [
    "c3po = StarWarsDroid()\n",
    "r2d2 = StarWarsDroid()\n",
    "bb8 = StarWarsDroid()"
   ]
  },
  {
   "cell_type": "code",
   "execution_count": 4,
   "metadata": {
    "slideshow": {
     "slide_type": "-"
    }
   },
   "outputs": [
    {
     "data": {
      "text/plain": [
       "<__main__.StarWarsDroid at 0x10b3643d0>"
      ]
     },
     "execution_count": 4,
     "metadata": {},
     "output_type": "execute_result"
    }
   ],
   "source": [
    "c3po"
   ]
  },
  {
   "cell_type": "code",
   "execution_count": 5,
   "metadata": {
    "slideshow": {
     "slide_type": "-"
    }
   },
   "outputs": [
    {
     "data": {
      "text/plain": [
       "<__main__.StarWarsDroid at 0x10b364370>"
      ]
     },
     "execution_count": 5,
     "metadata": {},
     "output_type": "execute_result"
    }
   ],
   "source": [
    "r2d2"
   ]
  },
  {
   "cell_type": "code",
   "execution_count": 6,
   "metadata": {
    "slideshow": {
     "slide_type": "-"
    }
   },
   "outputs": [
    {
     "data": {
      "text/plain": [
       "<__main__.StarWarsDroid at 0x10b364400>"
      ]
     },
     "execution_count": 6,
     "metadata": {},
     "output_type": "execute_result"
    }
   ],
   "source": [
    "bb8"
   ]
  },
  {
   "cell_type": "code",
   "execution_count": 7,
   "metadata": {
    "slideshow": {
     "slide_type": "-"
    }
   },
   "outputs": [
    {
     "data": {
      "text/plain": [
       "'0x10b364400'"
      ]
     },
     "execution_count": 7,
     "metadata": {},
     "output_type": "execute_result"
    }
   ],
   "source": [
    "# identificador == posición de memoria\n",
    "# detalle de implementación de CPython\n",
    "\n",
    "hex(id(bb8))"
   ]
  },
  {
   "cell_type": "markdown",
   "metadata": {
    "slideshow": {
     "slide_type": "subslide"
    }
   },
   "source": [
    "### Atributos\n",
    "\n",
    "Un **atributo** es una variable que está dentro de una clase o de un objeto. Podemos asignar atributos durante la creación del objeto (*e incluso después*). Un atributo puede ser cualquier otro objeto:"
   ]
  },
  {
   "cell_type": "code",
   "execution_count": 8,
   "metadata": {
    "slideshow": {
     "slide_type": "-"
    }
   },
   "outputs": [],
   "source": [
    "blue_droid = StarWarsDroid()\n",
    "golden_droid = StarWarsDroid()"
   ]
  },
  {
   "cell_type": "code",
   "execution_count": 9,
   "metadata": {
    "slideshow": {
     "slide_type": "-"
    }
   },
   "outputs": [],
   "source": [
    "golden_droid.name = 'C-3PO'"
   ]
  },
  {
   "cell_type": "code",
   "execution_count": 10,
   "metadata": {
    "slideshow": {
     "slide_type": "-"
    }
   },
   "outputs": [],
   "source": [
    "blue_droid.name = 'R2-D2'\n",
    "blue_droid.height = 1.09  # metros\n",
    "blue_droid.num_feet = 3\n",
    "blue_droid.partner_droid = golden_droid  # otro droide como atributo"
   ]
  },
  {
   "cell_type": "markdown",
   "metadata": {
    "slideshow": {
     "slide_type": "-"
    }
   },
   "source": [
    "Podemos acceder fácilmente a los atributos creados:"
   ]
  },
  {
   "cell_type": "code",
   "execution_count": 11,
   "metadata": {
    "slideshow": {
     "slide_type": "-"
    }
   },
   "outputs": [
    {
     "data": {
      "text/plain": [
       "'R2-D2'"
      ]
     },
     "execution_count": 11,
     "metadata": {},
     "output_type": "execute_result"
    }
   ],
   "source": [
    "blue_droid.name"
   ]
  },
  {
   "cell_type": "markdown",
   "metadata": {
    "slideshow": {
     "slide_type": "subslide"
    }
   },
   "source": [
    "Vamos a acceder al droide socio de `R2-D2` y ver su comportamiento:"
   ]
  },
  {
   "cell_type": "code",
   "execution_count": 12,
   "metadata": {
    "slideshow": {
     "slide_type": "-"
    }
   },
   "outputs": [
    {
     "data": {
      "text/plain": [
       "<__main__.StarWarsDroid at 0x10b364bb0>"
      ]
     },
     "execution_count": 12,
     "metadata": {},
     "output_type": "execute_result"
    }
   ],
   "source": [
    "blue_droid.partner_droid"
   ]
  },
  {
   "cell_type": "code",
   "execution_count": 13,
   "metadata": {
    "slideshow": {
     "slide_type": "-"
    }
   },
   "outputs": [
    {
     "data": {
      "text/plain": [
       "'C-3PO'"
      ]
     },
     "execution_count": 13,
     "metadata": {},
     "output_type": "execute_result"
    }
   ],
   "source": [
    "blue_droid.partner_droid.name  # acceso al nombre del droide socio"
   ]
  },
  {
   "cell_type": "code",
   "execution_count": 14,
   "metadata": {
    "slideshow": {
     "slide_type": "-"
    },
    "tags": [
     "raises-exception"
    ]
   },
   "outputs": [
    {
     "ename": "AttributeError",
     "evalue": "'StarWarsDroid' object has no attribute 'num_feets'",
     "output_type": "error",
     "traceback": [
      "\u001b[0;31m---------------------------------------------------------------------------\u001b[0m",
      "\u001b[0;31mAttributeError\u001b[0m                            Traceback (most recent call last)",
      "\u001b[0;32m<ipython-input-14-48c0ea0db135>\u001b[0m in \u001b[0;36m<module>\u001b[0;34m\u001b[0m\n\u001b[0;32m----> 1\u001b[0;31m \u001b[0mblue_droid\u001b[0m\u001b[0;34m.\u001b[0m\u001b[0mpartner_droid\u001b[0m\u001b[0;34m.\u001b[0m\u001b[0mnum_feets\u001b[0m  \u001b[0;31m# aún no hemos definido el número de pies\u001b[0m\u001b[0;34m\u001b[0m\u001b[0;34m\u001b[0m\u001b[0m\n\u001b[0m",
      "\u001b[0;31mAttributeError\u001b[0m: 'StarWarsDroid' object has no attribute 'num_feets'"
     ]
    }
   ],
   "source": [
    "blue_droid.partner_droid.num_feets  # aún no hemos definido el número de pies"
   ]
  },
  {
   "cell_type": "code",
   "execution_count": 15,
   "metadata": {
    "slideshow": {
     "slide_type": "-"
    }
   },
   "outputs": [],
   "source": [
    "blue_droid.partner_droid.num_feets = 2"
   ]
  },
  {
   "cell_type": "code",
   "execution_count": 16,
   "metadata": {},
   "outputs": [
    {
     "data": {
      "text/plain": [
       "2"
      ]
     },
     "execution_count": 16,
     "metadata": {},
     "output_type": "execute_result"
    }
   ],
   "source": [
    "blue_droid.partner_droid.num_feets  # ahora sí podemos acceder"
   ]
  },
  {
   "cell_type": "markdown",
   "metadata": {
    "slideshow": {
     "slide_type": "subslide"
    }
   },
   "source": [
    "### Métodos\n",
    "\n",
    "Un **método** es una función que está dentro de una clase o de un objeto. Un método parece una función ordinaria, pero se puede usar de formas especiales. Los métodos se definen dentro de la clase como funciones ordinarias, salvo que el primer parámetro será `self` (una referencia al objeto actual).\n",
    "\n",
    "Una de las acciones más sencillas que se puede hacer sobre un droide es encenderlo o apagarlo. Vamos a implementar estos dos métodos en nuestra clase:"
   ]
  },
  {
   "cell_type": "code",
   "execution_count": 17,
   "metadata": {
    "slideshow": {
     "slide_type": "-"
    }
   },
   "outputs": [],
   "source": [
    "class Droid: \n",
    "    def switch_on(self):\n",
    "        print(\"Hi! I'm a droid. Can I help you?\")\n",
    "        \n",
    "    def switch_off(self):\n",
    "        print(\"Bye! I'm going to sleep\")"
   ]
  },
  {
   "cell_type": "code",
   "execution_count": 18,
   "metadata": {
    "slideshow": {
     "slide_type": "-"
    }
   },
   "outputs": [],
   "source": [
    "k2so = Droid()"
   ]
  },
  {
   "cell_type": "code",
   "execution_count": 19,
   "metadata": {
    "slideshow": {
     "slide_type": "-"
    }
   },
   "outputs": [
    {
     "name": "stdout",
     "output_type": "stream",
     "text": [
      "Hi! I'm a droid. Can I help you?\n"
     ]
    }
   ],
   "source": [
    "k2so.switch_on()  # llamada al método"
   ]
  },
  {
   "cell_type": "code",
   "execution_count": 20,
   "metadata": {
    "scrolled": true,
    "slideshow": {
     "slide_type": "-"
    }
   },
   "outputs": [
    {
     "name": "stdout",
     "output_type": "stream",
     "text": [
      "Bye! I'm going to sleep\n"
     ]
    }
   ],
   "source": [
    "k2so.switch_off()"
   ]
  },
  {
   "cell_type": "markdown",
   "metadata": {
    "slideshow": {
     "slide_type": "subslide"
    }
   },
   "source": [
    "### Inicialización\n",
    "\n",
    "Existe un *método especial* que se ejecuta cuando creamos una instancia de un objeto. Este método es `__init__` y nos permite asignar atributos y realizar operaciones con el objeto en el momento de su creación:"
   ]
  },
  {
   "cell_type": "code",
   "execution_count": 21,
   "metadata": {
    "slideshow": {
     "slide_type": "-"
    }
   },
   "outputs": [],
   "source": [
    "class Droid:\n",
    "    def __init__(self):\n",
    "        pass"
   ]
  },
  {
   "cell_type": "markdown",
   "metadata": {
    "slideshow": {
     "slide_type": "-"
    }
   },
   "source": [
    "Hemos escrito el **constructor** más simple que existe. En realidad no estamos haciendo nada, pero sí hemos definido el método. Vamos a pasar ahora un parámetro al constructor para guardar el nombre del droide:"
   ]
  },
  {
   "cell_type": "code",
   "execution_count": 22,
   "metadata": {
    "slideshow": {
     "slide_type": "-"
    }
   },
   "outputs": [],
   "source": [
    "class Droid:\n",
    "    def __init__(self, name):\n",
    "        self.name = name"
   ]
  },
  {
   "cell_type": "code",
   "execution_count": 23,
   "metadata": {
    "slideshow": {
     "slide_type": "-"
    }
   },
   "outputs": [],
   "source": [
    "droid = Droid('BB-8')  # llamada al constructor"
   ]
  },
  {
   "cell_type": "code",
   "execution_count": 24,
   "metadata": {
    "slideshow": {
     "slide_type": "-"
    }
   },
   "outputs": [
    {
     "data": {
      "text/plain": [
       "'BB-8'"
      ]
     },
     "execution_count": 24,
     "metadata": {},
     "output_type": "execute_result"
    }
   ],
   "source": [
    "droid.name  # nombre fijado en el constructor"
   ]
  },
  {
   "cell_type": "markdown",
   "metadata": {
    "slideshow": {
     "slide_type": "subslide"
    }
   },
   "source": [
    "### 🎯 Ejercicio\n",
    "\n",
    "Escribir una clase `MobilePhone` que represente un teléfono móvil.\n",
    "\n",
    "Atributos:\n",
    "- `manufacturer` (*cadena de texto*)\n",
    "- `screen_size` (*flotante*)\n",
    "- `num_cores` (*entero*)\n",
    "- `apps` (*lista de cadenas de texto*)\n",
    "- `status` (*0: apagado, 1: encendido*)\n",
    "\n",
    "Métodos:\n",
    "- `__init__(self, manufacturer, screen_size, num_cores)`\n",
    "- `power_on(self)`\n",
    "- `power_off(self)`\n",
    "- `install_app(self, app)`\n",
    "- `uninstall_app(self, app)`\n",
    "\n",
    "Crear al menos una instancia (móvil) a partir de la clase creada y jugar con los métodos visualizando cómo cambian sus atributos."
   ]
  },
  {
   "cell_type": "markdown",
   "metadata": {
    "slideshow": {
     "slide_type": "-"
    }
   },
   "source": [
    "<hr>\n",
    "\n",
    "**📎 Posible solución:** [solutions/mobile.py](solutions/mobile.py)"
   ]
  },
  {
   "cell_type": "code",
   "execution_count": 25,
   "metadata": {
    "slideshow": {
     "slide_type": "skip"
    }
   },
   "outputs": [],
   "source": [
    "# %load \"solutions/mobile.py\""
   ]
  },
  {
   "cell_type": "markdown",
   "metadata": {
    "slideshow": {
     "slide_type": "subslide"
    }
   },
   "source": [
    "## 🧬 Herencia\n",
    "\n",
    "La **herencia** consiste en crear una nueva clase *desde* una clase existente, pero que añade o modifica ciertos aspectos. Es una buena práctica para *reutilizar código*."
   ]
  },
  {
   "cell_type": "markdown",
   "metadata": {
    "slideshow": {
     "slide_type": "-"
    }
   },
   "source": [
    "![Inheritance](img/inheritance.png)"
   ]
  },
  {
   "cell_type": "markdown",
   "metadata": {
    "slideshow": {
     "slide_type": "-"
    }
   },
   "source": [
    "> Cuando se utiliza herencia, la clase derivada, de forma automática, puede usar todo el código de la clase base sin necesidad de copiar nada explícitamente."
   ]
  },
  {
   "cell_type": "markdown",
   "metadata": {
    "slideshow": {
     "slide_type": "subslide"
    }
   },
   "source": [
    "### Heredar desde una clase base\n",
    "\n",
    "Para que una clase \"herede\" de otra, basta con indicar la clase base entre paréntesis en la definición de la clase derivada.\n",
    "\n",
    "Una de las grandes categorías de droides en StarWars es la de [droides de protocolo](https://starwars.fandom.com/wiki/Category:Protocol_droids). Vamos a crear una herencia sobre esta idea:"
   ]
  },
  {
   "cell_type": "code",
   "execution_count": 26,
   "metadata": {
    "slideshow": {
     "slide_type": "-"
    }
   },
   "outputs": [],
   "source": [
    "# Clase base\n",
    "\n",
    "class Droid:\n",
    "    pass"
   ]
  },
  {
   "cell_type": "code",
   "execution_count": 27,
   "metadata": {
    "slideshow": {
     "slide_type": "-"
    }
   },
   "outputs": [],
   "source": [
    "# Clase derivada\n",
    "\n",
    "class ProtocolDroid(Droid):\n",
    "    pass"
   ]
  },
  {
   "cell_type": "code",
   "execution_count": 28,
   "metadata": {
    "slideshow": {
     "slide_type": "-"
    }
   },
   "outputs": [
    {
     "data": {
      "text/plain": [
       "True"
      ]
     },
     "execution_count": 28,
     "metadata": {},
     "output_type": "execute_result"
    }
   ],
   "source": [
    "issubclass(ProtocolDroid, Droid)  # comprobación de herencia"
   ]
  },
  {
   "cell_type": "code",
   "execution_count": 29,
   "metadata": {
    "slideshow": {
     "slide_type": "-"
    }
   },
   "outputs": [],
   "source": [
    "r2d2 = Droid()\n",
    "c3po = ProtocolDroid()"
   ]
  },
  {
   "cell_type": "markdown",
   "metadata": {
    "slideshow": {
     "slide_type": "subslide"
    }
   },
   "source": [
    "Vamos a añadir un par de *métodos* a la clase base, y analizar su comportamiento:"
   ]
  },
  {
   "cell_type": "code",
   "execution_count": 30,
   "metadata": {
    "slideshow": {
     "slide_type": "-"
    }
   },
   "outputs": [],
   "source": [
    "class Droid:\n",
    "    def switch_on(self):\n",
    "        print(\"Hi! I'm a droid. Can I help you?\")\n",
    "        \n",
    "    def switch_off(self):\n",
    "        print(\"Bye! I'm going to sleep\")"
   ]
  },
  {
   "cell_type": "code",
   "execution_count": 31,
   "metadata": {
    "slideshow": {
     "slide_type": "-"
    }
   },
   "outputs": [],
   "source": [
    "class ProtocolDroid(Droid):\n",
    "    pass"
   ]
  },
  {
   "cell_type": "code",
   "execution_count": 32,
   "metadata": {
    "slideshow": {
     "slide_type": "-"
    }
   },
   "outputs": [],
   "source": [
    "r2d2 = Droid()\n",
    "c3po = ProtocolDroid()"
   ]
  },
  {
   "cell_type": "code",
   "execution_count": 33,
   "metadata": {
    "slideshow": {
     "slide_type": "-"
    }
   },
   "outputs": [
    {
     "name": "stdout",
     "output_type": "stream",
     "text": [
      "Hi! I'm a droid. Can I help you?\n"
     ]
    }
   ],
   "source": [
    "r2d2.switch_on()"
   ]
  },
  {
   "cell_type": "code",
   "execution_count": 34,
   "metadata": {
    "scrolled": true,
    "slideshow": {
     "slide_type": "-"
    }
   },
   "outputs": [
    {
     "name": "stdout",
     "output_type": "stream",
     "text": [
      "Hi! I'm a droid. Can I help you?\n"
     ]
    }
   ],
   "source": [
    "c3po.switch_on()  # este método no existía en esta clase"
   ]
  },
  {
   "cell_type": "code",
   "execution_count": 35,
   "metadata": {
    "slideshow": {
     "slide_type": "-"
    }
   },
   "outputs": [
    {
     "name": "stdout",
     "output_type": "stream",
     "text": [
      "Bye! I'm going to sleep\n"
     ]
    }
   ],
   "source": [
    "r2d2.switch_off()"
   ]
  },
  {
   "cell_type": "markdown",
   "metadata": {
    "slideshow": {
     "slide_type": "subslide"
    }
   },
   "source": [
    "### Sobreescribir un método\n",
    "\n",
    "Como hemos visto, una clase derivada hereda todo lo que tiene su clase base. Pero en muchas ocasiones nos interesa *modificar* el comportamiento de determinados aspectos."
   ]
  },
  {
   "cell_type": "code",
   "execution_count": 36,
   "metadata": {
    "slideshow": {
     "slide_type": "-"
    }
   },
   "outputs": [],
   "source": [
    "class Droid:\n",
    "    def switch_on(self):\n",
    "        print(\"Hi! I'm a droid. Can I help you?\")\n",
    "        \n",
    "    def switch_off(self):\n",
    "        print(\"Bye! I'm going to sleep\")"
   ]
  },
  {
   "cell_type": "code",
   "execution_count": 37,
   "metadata": {
    "slideshow": {
     "slide_type": "-"
    }
   },
   "outputs": [],
   "source": [
    "class ProtocolDroid(Droid):\n",
    "    def switch_on(self):\n",
    "        print(\"Hi! I'm a PROTOCOL droid. Can I help you?\")"
   ]
  },
  {
   "cell_type": "code",
   "execution_count": 38,
   "metadata": {
    "slideshow": {
     "slide_type": "-"
    }
   },
   "outputs": [],
   "source": [
    "r2d2 = Droid()\n",
    "c3po = ProtocolDroid()"
   ]
  },
  {
   "cell_type": "code",
   "execution_count": 39,
   "metadata": {
    "slideshow": {
     "slide_type": "-"
    }
   },
   "outputs": [
    {
     "name": "stdout",
     "output_type": "stream",
     "text": [
      "Hi! I'm a droid. Can I help you?\n"
     ]
    }
   ],
   "source": [
    "r2d2.switch_on()"
   ]
  },
  {
   "cell_type": "code",
   "execution_count": 40,
   "metadata": {
    "slideshow": {
     "slide_type": "-"
    }
   },
   "outputs": [
    {
     "name": "stdout",
     "output_type": "stream",
     "text": [
      "Hi! I'm a PROTOCOL droid. Can I help you?\n"
     ]
    }
   ],
   "source": [
    "c3po.switch_on()  # método heredado pero sobreescrito"
   ]
  },
  {
   "cell_type": "markdown",
   "metadata": {
    "slideshow": {
     "slide_type": "subslide"
    }
   },
   "source": [
    "### Añadir un método\n",
    "\n",
    "La clase derivada también puede *añadir* métodos que no estaban presentes en la clase base."
   ]
  },
  {
   "cell_type": "code",
   "execution_count": 41,
   "metadata": {
    "slideshow": {
     "slide_type": "-"
    }
   },
   "outputs": [],
   "source": [
    "class Droid:\n",
    "    def switch_on(self):\n",
    "        print(\"Hi! I'm a droid. Can I help you?\")\n",
    "        \n",
    "    def switch_off(self):\n",
    "        print(\"Bye! I'm going to sleep\")"
   ]
  },
  {
   "cell_type": "markdown",
   "metadata": {
    "slideshow": {
     "slide_type": "-"
    }
   },
   "source": [
    "Vamos a añadir un método `translate` que permita a los droides de protocolo traducir cualquier mensaje:"
   ]
  },
  {
   "cell_type": "code",
   "execution_count": 42,
   "metadata": {
    "slideshow": {
     "slide_type": "-"
    }
   },
   "outputs": [],
   "source": [
    "class ProtocolDroid(StarWarsDroid):\n",
    "    def switch_on(self):\n",
    "        print(\"Hi! I'm a PROTOCOL droid. Can I help you?\")\n",
    "        \n",
    "    def translate(self, msg, from_language):\n",
    "        print(f'{msg} means \"ZASCA\" in {from_language}')"
   ]
  },
  {
   "cell_type": "code",
   "execution_count": 43,
   "metadata": {
    "slideshow": {
     "slide_type": "subslide"
    }
   },
   "outputs": [],
   "source": [
    "r2d2 = Droid()\n",
    "c3po = ProtocolDroid()"
   ]
  },
  {
   "cell_type": "code",
   "execution_count": 44,
   "metadata": {
    "slideshow": {
     "slide_type": "-"
    }
   },
   "outputs": [
    {
     "name": "stdout",
     "output_type": "stream",
     "text": [
      "kiitos means \"ZASCA\" in Huttese\n"
     ]
    }
   ],
   "source": [
    "c3po.translate('kiitos', 'Huttese')  # idioma de Watoo"
   ]
  },
  {
   "cell_type": "code",
   "execution_count": 45,
   "metadata": {
    "scrolled": true,
    "slideshow": {
     "slide_type": "-"
    },
    "tags": [
     "raises-exception"
    ]
   },
   "outputs": [
    {
     "ename": "AttributeError",
     "evalue": "'Droid' object has no attribute 'translate'",
     "output_type": "error",
     "traceback": [
      "\u001b[0;31m---------------------------------------------------------------------------\u001b[0m",
      "\u001b[0;31mAttributeError\u001b[0m                            Traceback (most recent call last)",
      "\u001b[0;32m<ipython-input-45-dc3837d3cb04>\u001b[0m in \u001b[0;36m<module>\u001b[0;34m\u001b[0m\n\u001b[0;32m----> 1\u001b[0;31m \u001b[0mr2d2\u001b[0m\u001b[0;34m.\u001b[0m\u001b[0mtranslate\u001b[0m\u001b[0;34m(\u001b[0m\u001b[0;34m'kiitos'\u001b[0m\u001b[0;34m,\u001b[0m \u001b[0;34m'Huttese'\u001b[0m\u001b[0;34m)\u001b[0m  \u001b[0;31m# un droide genérico no puede traducir\u001b[0m\u001b[0;34m\u001b[0m\u001b[0;34m\u001b[0m\u001b[0m\n\u001b[0m",
      "\u001b[0;31mAttributeError\u001b[0m: 'Droid' object has no attribute 'translate'"
     ]
    }
   ],
   "source": [
    "r2d2.translate('kiitos', 'Huttese')  # un droide genérico no puede traducir"
   ]
  },
  {
   "cell_type": "markdown",
   "metadata": {
    "slideshow": {
     "slide_type": "-"
    }
   },
   "source": [
    "> Con esto ya hemos aportado una personalidad diferente a los droides de protocolo, a pesar de que heredan de la clase genérica de droides de StarWars."
   ]
  },
  {
   "cell_type": "markdown",
   "metadata": {
    "slideshow": {
     "slide_type": "subslide"
    }
   },
   "source": [
    "### Accediendo a la clase base\n",
    "\n",
    "Puede darse la situación en la que tengamos que acceder desde la clase derivada a métodos o atributos de la clase base. Python ofrece `super()` como mecanismo para ello.\n",
    "\n",
    "Veamos un ejemplo más elaborado con nuestros droides:"
   ]
  },
  {
   "cell_type": "code",
   "execution_count": 46,
   "metadata": {
    "slideshow": {
     "slide_type": "-"
    }
   },
   "outputs": [],
   "source": [
    "class Droid:\n",
    "    def __init__(self, name):\n",
    "        self.name = name"
   ]
  },
  {
   "cell_type": "code",
   "execution_count": 47,
   "metadata": {
    "slideshow": {
     "slide_type": "-"
    }
   },
   "outputs": [],
   "source": [
    "class ProtocolDroid(Droid):\n",
    "    def __init__(self, name, languages):\n",
    "        super().__init__(name)  # llamada al constructor de la clase base\n",
    "        self.languages = languages"
   ]
  },
  {
   "cell_type": "code",
   "execution_count": 48,
   "metadata": {
    "slideshow": {
     "slide_type": "-"
    }
   },
   "outputs": [],
   "source": [
    "droid = ProtocolDroid('C-3PO', ['Ewokese', 'Huttese', 'Jawaese', 'Shyriiwook'])"
   ]
  },
  {
   "cell_type": "code",
   "execution_count": 49,
   "metadata": {
    "slideshow": {
     "slide_type": "-"
    }
   },
   "outputs": [
    {
     "data": {
      "text/plain": [
       "'C-3PO'"
      ]
     },
     "execution_count": 49,
     "metadata": {},
     "output_type": "execute_result"
    }
   ],
   "source": [
    "droid.name  # fijado en el constructor de la clase base"
   ]
  },
  {
   "cell_type": "code",
   "execution_count": 50,
   "metadata": {
    "slideshow": {
     "slide_type": "-"
    }
   },
   "outputs": [
    {
     "data": {
      "text/plain": [
       "['Ewokese', 'Huttese', 'Jawaese', 'Shyriiwook']"
      ]
     },
     "execution_count": 50,
     "metadata": {},
     "output_type": "execute_result"
    }
   ],
   "source": [
    "droid.languages  # fijado en el constructor de la clase derivada"
   ]
  },
  {
   "cell_type": "markdown",
   "metadata": {
    "slideshow": {
     "slide_type": "subslide"
    }
   },
   "source": [
    "### Herencia múltiple\n",
    "\n",
    "Los objetos pueden heredar de *múltiples clases base*. Si en una clase se hace referencia a un método o atributo que no existe, Python lo buscará en todas sus clases base. Es posible que exista una *colisión* en caso de que el método o el atributo esté en varias clases base. En este caso Python resuelve el conflicto a través del *orden de resolución de métodos*."
   ]
  },
  {
   "cell_type": "code",
   "execution_count": 51,
   "metadata": {
    "slideshow": {
     "slide_type": "-"
    }
   },
   "outputs": [],
   "source": [
    "class Droid:\n",
    "    def greet(self):\n",
    "        return 'Here a droid'\n",
    "\n",
    "class ProtocolDroid(Droid):\n",
    "    def greet(self):\n",
    "        return 'Here a protocol droid'\n",
    "\n",
    "class AstromechDroid(Droid):\n",
    "    def greet(self):\n",
    "        return 'Here an astromech droid'\n",
    "\n",
    "class SuperDroid(ProtocolDroid, AstromechDroid):\n",
    "    pass\n",
    "\n",
    "class HyperDroid(AstromechDroid, ProtocolDroid):\n",
    "    pass"
   ]
  },
  {
   "cell_type": "markdown",
   "metadata": {
    "slideshow": {
     "slide_type": "subslide"
    }
   },
   "source": [
    "![Multiple inheritance](img/multiple-inheritance.png)\n",
    "\n",
    "> Droid pics by [StarWars Fandom](https://starwars.fandom.com/)"
   ]
  },
  {
   "cell_type": "markdown",
   "metadata": {
    "slideshow": {
     "slide_type": "subslide"
    }
   },
   "source": [
    "Todas las clases en Python disponen de un método especial llamado `mro()` que devuelve una lista de las clases que visitaría en caso de acceder a un método a un atributo. También existe el atributo `__mro__` como una tupla de esas clases."
   ]
  },
  {
   "cell_type": "code",
   "execution_count": 52,
   "metadata": {
    "slideshow": {
     "slide_type": "-"
    }
   },
   "outputs": [
    {
     "data": {
      "text/plain": [
       "[__main__.SuperDroid,\n",
       " __main__.ProtocolDroid,\n",
       " __main__.AstromechDroid,\n",
       " __main__.Droid,\n",
       " object]"
      ]
     },
     "execution_count": 52,
     "metadata": {},
     "output_type": "execute_result"
    }
   ],
   "source": [
    "SuperDroid.mro()"
   ]
  },
  {
   "cell_type": "code",
   "execution_count": 53,
   "metadata": {
    "scrolled": true,
    "slideshow": {
     "slide_type": "-"
    }
   },
   "outputs": [
    {
     "data": {
      "text/plain": [
       "(__main__.HyperDroid,\n",
       " __main__.AstromechDroid,\n",
       " __main__.ProtocolDroid,\n",
       " __main__.Droid,\n",
       " object)"
      ]
     },
     "execution_count": 53,
     "metadata": {},
     "output_type": "execute_result"
    }
   ],
   "source": [
    "HyperDroid.__mro__"
   ]
  },
  {
   "cell_type": "markdown",
   "metadata": {
    "slideshow": {
     "slide_type": "subslide"
    }
   },
   "source": [
    "Veamos el resultado de la llamada a los métodos definidos:"
   ]
  },
  {
   "cell_type": "code",
   "execution_count": 54,
   "metadata": {
    "slideshow": {
     "slide_type": "-"
    }
   },
   "outputs": [],
   "source": [
    "super_droid = SuperDroid()\n",
    "hyper_droid = HyperDroid()"
   ]
  },
  {
   "cell_type": "code",
   "execution_count": 55,
   "metadata": {
    "slideshow": {
     "slide_type": "-"
    }
   },
   "outputs": [
    {
     "data": {
      "text/plain": [
       "'Here a protocol droid'"
      ]
     },
     "execution_count": 55,
     "metadata": {},
     "output_type": "execute_result"
    }
   ],
   "source": [
    "super_droid.greet()"
   ]
  },
  {
   "cell_type": "code",
   "execution_count": 56,
   "metadata": {
    "slideshow": {
     "slide_type": "-"
    }
   },
   "outputs": [
    {
     "data": {
      "text/plain": [
       "'Here an astromech droid'"
      ]
     },
     "execution_count": 56,
     "metadata": {},
     "output_type": "execute_result"
    }
   ],
   "source": [
    "hyper_droid.greet()"
   ]
  },
  {
   "cell_type": "markdown",
   "metadata": {
    "slideshow": {
     "slide_type": "subslide"
    }
   },
   "source": [
    "### Mixins\n",
    "\n",
    "Se puede incluir una clase base extra en la definición de nuestra clase, sólo para tareas auxiliares, sin que se compartan métodos con otras clases base, y así evitar ambigüedad en la resolución de métodos. Estas clases auxiliares se llaman **mixins**.\n",
    "\n",
    "Veamos un ejemplo en el que usamos un mixin para mostrar las variables de un objeto:"
   ]
  },
  {
   "cell_type": "code",
   "execution_count": 57,
   "metadata": {
    "slideshow": {
     "slide_type": "-"
    }
   },
   "outputs": [],
   "source": [
    "class PrettyMixin:\n",
    "    def dump(self):\n",
    "        print(vars(self))  ## vars devuelve las variables del argumento\n",
    "\n",
    "class Droid(PrettyMixin):\n",
    "    pass"
   ]
  },
  {
   "cell_type": "code",
   "execution_count": 58,
   "metadata": {
    "slideshow": {
     "slide_type": "-"
    }
   },
   "outputs": [],
   "source": [
    "droid = Droid()"
   ]
  },
  {
   "cell_type": "code",
   "execution_count": 59,
   "metadata": {
    "slideshow": {
     "slide_type": "-"
    }
   },
   "outputs": [],
   "source": [
    "droid.code = 'DN-LD'\n",
    "droid.num_feet = 2\n",
    "droid.type = 'Power Droid'"
   ]
  },
  {
   "cell_type": "code",
   "execution_count": 60,
   "metadata": {
    "slideshow": {
     "slide_type": "-"
    }
   },
   "outputs": [
    {
     "name": "stdout",
     "output_type": "stream",
     "text": [
      "{'code': 'DN-LD', 'num_feet': 2, 'type': 'Power Droid'}\n"
     ]
    }
   ],
   "source": [
    "droid.dump()"
   ]
  },
  {
   "cell_type": "markdown",
   "metadata": {
    "slideshow": {
     "slide_type": "subslide"
    }
   },
   "source": [
    "### 🎯 Ejercicio\n",
    "\n",
    "![Files inheritance](img/files-inheritance.png)"
   ]
  },
  {
   "cell_type": "markdown",
   "metadata": {
    "slideshow": {
     "slide_type": "subslide"
    }
   },
   "source": [
    "1. Crear las 3 clases de la imagen anterior con la herencia señalada.\n",
    "2. Crear un objeto de tipo `VideoFile` con las siguientes características:\n",
    "    - `path`: `/home/python/vanrossum.mp4`\n",
    "    - `codec`: `h264`\n",
    "    - `geoloc`: `(23.5454, 31.4343)`\n",
    "    - `duration`: `487`\n",
    "    - `dimensions`: `(1920, 1080)`\n",
    "3. Añadir el contenido `hello` al fichero\n",
    "4. Añadir el contenido `world` al fichero\n",
    "5. Imprimir por pantalla la `info()` de este objeto"
   ]
  },
  {
   "cell_type": "markdown",
   "metadata": {
    "slideshow": {
     "slide_type": "-"
    }
   },
   "source": [
    "<hr>\n",
    "\n",
    "**📎 Posible solución:** [solutions/file-inheritance.py](solutions/file-inheritance.py)"
   ]
  },
  {
   "cell_type": "code",
   "execution_count": 61,
   "metadata": {
    "slideshow": {
     "slide_type": "skip"
    }
   },
   "outputs": [],
   "source": [
    "# %load \"solutions/file-inheritance.py\""
   ]
  },
  {
   "cell_type": "markdown",
   "metadata": {
    "slideshow": {
     "slide_type": "slide"
    }
   },
   "source": [
    "## 🧸 Acceso a los atributos\n",
    "\n",
    "En Python tanto los métodos como los atributos de un objeto son, *normalmente*, públicos. Esto implica una cierta \"*responsabilidad*\" en la persona que desarrolla de cara al manejo de los objetos."
   ]
  },
  {
   "cell_type": "markdown",
   "metadata": {
    "slideshow": {
     "slide_type": "-"
    }
   },
   "source": [
    "### Acceso directo"
   ]
  },
  {
   "cell_type": "code",
   "execution_count": 62,
   "metadata": {
    "slideshow": {
     "slide_type": "-"
    }
   },
   "outputs": [],
   "source": [
    "class Droid:\n",
    "    def __init__(self, name):\n",
    "        self.name = name"
   ]
  },
  {
   "cell_type": "code",
   "execution_count": 63,
   "metadata": {
    "slideshow": {
     "slide_type": "-"
    }
   },
   "outputs": [],
   "source": [
    "droid = Droid('C-3PO')"
   ]
  },
  {
   "cell_type": "code",
   "execution_count": 64,
   "metadata": {
    "slideshow": {
     "slide_type": "-"
    }
   },
   "outputs": [
    {
     "data": {
      "text/plain": [
       "'C-3PO'"
      ]
     },
     "execution_count": 64,
     "metadata": {},
     "output_type": "execute_result"
    }
   ],
   "source": [
    "droid.name"
   ]
  },
  {
   "cell_type": "code",
   "execution_count": 65,
   "metadata": {
    "slideshow": {
     "slide_type": "-"
    }
   },
   "outputs": [],
   "source": [
    "droid.name = 'waka-waka'  # esto sería válido!"
   ]
  },
  {
   "cell_type": "markdown",
   "metadata": {
    "slideshow": {
     "slide_type": "subslide"
    }
   },
   "source": [
    "### Getters y Setters\n",
    "\n",
    "Algunos lenguajes de programación orientados a objetos soportan **atributos privados** que son no accesibles desde fuera del propio objeto. Es por ello que se hace necesario escribir métodos especiales para leer (*getters*) y para escribir (*setters*) los valores de estos atributos privados.\n",
    "\n",
    "Python no tiene atributos privados, pero se pueden escribir *getters* y *setters* para intentar ofuscar estas variables."
   ]
  },
  {
   "cell_type": "code",
   "execution_count": 66,
   "metadata": {
    "slideshow": {
     "slide_type": "-"
    }
   },
   "outputs": [],
   "source": [
    "class Droid:\n",
    "    def __init__(self, name):\n",
    "        self.hidden_name = name\n",
    "    \n",
    "    def get_name(self):\n",
    "        print('inside the getter')\n",
    "        return self.hidden_name\n",
    "\n",
    "    def set_name(self, name):\n",
    "        print('inside the setter')\n",
    "        self.hidden_name = name"
   ]
  },
  {
   "cell_type": "code",
   "execution_count": 67,
   "metadata": {
    "slideshow": {
     "slide_type": "subslide"
    }
   },
   "outputs": [],
   "source": [
    "droid = Droid('N1-G3L')"
   ]
  },
  {
   "cell_type": "code",
   "execution_count": 68,
   "metadata": {
    "slideshow": {
     "slide_type": "-"
    }
   },
   "outputs": [
    {
     "name": "stdout",
     "output_type": "stream",
     "text": [
      "inside the getter\n"
     ]
    },
    {
     "data": {
      "text/plain": [
       "'N1-G3L'"
      ]
     },
     "execution_count": 68,
     "metadata": {},
     "output_type": "execute_result"
    }
   ],
   "source": [
    "droid.get_name()"
   ]
  },
  {
   "cell_type": "code",
   "execution_count": 69,
   "metadata": {
    "slideshow": {
     "slide_type": "-"
    }
   },
   "outputs": [
    {
     "name": "stdout",
     "output_type": "stream",
     "text": [
      "inside the setter\n"
     ]
    }
   ],
   "source": [
    "droid.set_name('Nigel')"
   ]
  },
  {
   "cell_type": "code",
   "execution_count": 70,
   "metadata": {
    "slideshow": {
     "slide_type": "-"
    }
   },
   "outputs": [
    {
     "name": "stdout",
     "output_type": "stream",
     "text": [
      "inside the getter\n"
     ]
    },
    {
     "data": {
      "text/plain": [
       "'Nigel'"
      ]
     },
     "execution_count": 70,
     "metadata": {},
     "output_type": "execute_result"
    }
   ],
   "source": [
    "droid.get_name()"
   ]
  },
  {
   "cell_type": "markdown",
   "metadata": {
    "slideshow": {
     "slide_type": "-"
    }
   },
   "source": [
    "> Esto no suele ser recomendable ni tampoco tiene un uso extendido. En cualquier caso siempre se podrá acceder a `.hidden_name`."
   ]
  },
  {
   "cell_type": "code",
   "execution_count": 71,
   "metadata": {
    "slideshow": {
     "slide_type": "-"
    }
   },
   "outputs": [],
   "source": [
    "droid.hidden_name = 'waka-waka'"
   ]
  },
  {
   "cell_type": "markdown",
   "metadata": {
    "slideshow": {
     "slide_type": "subslide"
    }
   },
   "source": [
    "### Propiedades para acceso a atributos\n",
    "\n",
    "La solución *pitónica* para una cierta \"*privacidad*\" de los atributos es el uso de **propiedades**. La forma más común de aplicar propiedades es mediante el uso de *decoradores*:\n",
    "- `@property` para los *getters*\n",
    "- `@name.setter` para los *setters*"
   ]
  },
  {
   "cell_type": "code",
   "execution_count": 72,
   "metadata": {
    "slideshow": {
     "slide_type": "-"
    }
   },
   "outputs": [],
   "source": [
    "class Droid:\n",
    "    def __init__(self, name):\n",
    "        self.hidden_name = name\n",
    "    \n",
    "    @property\n",
    "    def name(self):\n",
    "        print('inside the getter')\n",
    "        return self.hidden_name\n",
    "\n",
    "    @name.setter\n",
    "    def name(self, name):\n",
    "        print('inside the setter')\n",
    "        self.hidden_name = name"
   ]
  },
  {
   "cell_type": "code",
   "execution_count": 73,
   "metadata": {
    "slideshow": {
     "slide_type": "subslide"
    }
   },
   "outputs": [],
   "source": [
    "droid = Droid('N1-G3L')"
   ]
  },
  {
   "cell_type": "code",
   "execution_count": 74,
   "metadata": {
    "slideshow": {
     "slide_type": "-"
    }
   },
   "outputs": [
    {
     "name": "stdout",
     "output_type": "stream",
     "text": [
      "inside the getter\n"
     ]
    },
    {
     "data": {
      "text/plain": [
       "'N1-G3L'"
      ]
     },
     "execution_count": 74,
     "metadata": {},
     "output_type": "execute_result"
    }
   ],
   "source": [
    "droid.name"
   ]
  },
  {
   "cell_type": "code",
   "execution_count": 75,
   "metadata": {
    "slideshow": {
     "slide_type": "-"
    }
   },
   "outputs": [
    {
     "name": "stdout",
     "output_type": "stream",
     "text": [
      "inside the setter\n"
     ]
    }
   ],
   "source": [
    "droid.name = 'Nigel'"
   ]
  },
  {
   "cell_type": "code",
   "execution_count": 76,
   "metadata": {
    "slideshow": {
     "slide_type": "-"
    }
   },
   "outputs": [
    {
     "name": "stdout",
     "output_type": "stream",
     "text": [
      "inside the getter\n"
     ]
    },
    {
     "data": {
      "text/plain": [
       "'Nigel'"
      ]
     },
     "execution_count": 76,
     "metadata": {},
     "output_type": "execute_result"
    }
   ],
   "source": [
    "droid.name"
   ]
  },
  {
   "cell_type": "markdown",
   "metadata": {
    "slideshow": {
     "slide_type": "-"
    }
   },
   "source": [
    "> En cualquier caso, seguimos pudiendo acceder directamente a `.hidden_name`."
   ]
  },
  {
   "cell_type": "code",
   "execution_count": 77,
   "metadata": {
    "slideshow": {
     "slide_type": "-"
    }
   },
   "outputs": [
    {
     "data": {
      "text/plain": [
       "'Nigel'"
      ]
     },
     "execution_count": 77,
     "metadata": {},
     "output_type": "execute_result"
    }
   ],
   "source": [
    "droid.hidden_name"
   ]
  },
  {
   "cell_type": "markdown",
   "metadata": {
    "slideshow": {
     "slide_type": "subslide"
    }
   },
   "source": [
    "### Propiedades para valores calculados\n",
    "\n",
    "Una propiedad también se puede usar para devolver un *valor calculado* (o computado). "
   ]
  },
  {
   "cell_type": "code",
   "execution_count": 78,
   "metadata": {
    "slideshow": {
     "slide_type": "-"
    }
   },
   "outputs": [],
   "source": [
    "class AstromechDroid:\n",
    "    def __init__(self, name, height):\n",
    "        self.name = name\n",
    "        self.height = height\n",
    "    \n",
    "    @property\n",
    "    def periscope_height(self):\n",
    "        return 0.3 * self.height"
   ]
  },
  {
   "cell_type": "code",
   "execution_count": 79,
   "metadata": {
    "slideshow": {
     "slide_type": "-"
    }
   },
   "outputs": [],
   "source": [
    "droid = AstromechDroid('R2-D2', 1.05)"
   ]
  },
  {
   "cell_type": "code",
   "execution_count": 80,
   "metadata": {
    "slideshow": {
     "slide_type": "-"
    }
   },
   "outputs": [
    {
     "data": {
      "text/plain": [
       "0.315"
      ]
     },
     "execution_count": 80,
     "metadata": {},
     "output_type": "execute_result"
    }
   ],
   "source": [
    "droid.periscope_height  # podemos acceder como atributo"
   ]
  },
  {
   "cell_type": "code",
   "execution_count": 81,
   "metadata": {
    "scrolled": false,
    "slideshow": {
     "slide_type": "-"
    },
    "tags": [
     "raises-exception"
    ]
   },
   "outputs": [
    {
     "ename": "AttributeError",
     "evalue": "can't set attribute",
     "output_type": "error",
     "traceback": [
      "\u001b[0;31m---------------------------------------------------------------------------\u001b[0m",
      "\u001b[0;31mAttributeError\u001b[0m                            Traceback (most recent call last)",
      "\u001b[0;32m<ipython-input-81-b4f89e458ee0>\u001b[0m in \u001b[0;36m<module>\u001b[0;34m\u001b[0m\n\u001b[0;32m----> 1\u001b[0;31m \u001b[0mdroid\u001b[0m\u001b[0;34m.\u001b[0m\u001b[0mperiscope_height\u001b[0m \u001b[0;34m=\u001b[0m \u001b[0;36m10\u001b[0m  \u001b[0;31m# no podemos modificarlo\u001b[0m\u001b[0;34m\u001b[0m\u001b[0;34m\u001b[0m\u001b[0m\n\u001b[0m",
      "\u001b[0;31mAttributeError\u001b[0m: can't set attribute"
     ]
    }
   ],
   "source": [
    "droid.periscope_height = 10  # no podemos modificarlo"
   ]
  },
  {
   "cell_type": "markdown",
   "metadata": {
    "slideshow": {
     "slide_type": "subslide"
    }
   },
   "source": [
    "### Nomenclatura para datos privados\n",
    "\n",
    "Python tiene una convención sobre aquellos *atributos* que queremos hacer \"*privados*\" (u ocultos): comenzar el nombre con doble subguión `__`"
   ]
  },
  {
   "cell_type": "code",
   "execution_count": 82,
   "metadata": {
    "slideshow": {
     "slide_type": "-"
    }
   },
   "outputs": [],
   "source": [
    "class Droid:\n",
    "    def __init__(self, name):\n",
    "        self.__name = name"
   ]
  },
  {
   "cell_type": "code",
   "execution_count": 83,
   "metadata": {
    "slideshow": {
     "slide_type": "-"
    }
   },
   "outputs": [],
   "source": [
    "droid = Droid('BC-44')"
   ]
  },
  {
   "cell_type": "code",
   "execution_count": 84,
   "metadata": {
    "slideshow": {
     "slide_type": "-"
    },
    "tags": [
     "raises-exception"
    ]
   },
   "outputs": [
    {
     "ename": "AttributeError",
     "evalue": "'Droid' object has no attribute '__name'",
     "output_type": "error",
     "traceback": [
      "\u001b[0;31m---------------------------------------------------------------------------\u001b[0m",
      "\u001b[0;31mAttributeError\u001b[0m                            Traceback (most recent call last)",
      "\u001b[0;32m<ipython-input-84-ad64f355d4f9>\u001b[0m in \u001b[0;36m<module>\u001b[0;34m\u001b[0m\n\u001b[0;32m----> 1\u001b[0;31m \u001b[0mdroid\u001b[0m\u001b[0;34m.\u001b[0m\u001b[0m__name\u001b[0m  \u001b[0;31m# efectivamente no aparece como atributo\u001b[0m\u001b[0;34m\u001b[0m\u001b[0;34m\u001b[0m\u001b[0m\n\u001b[0m",
      "\u001b[0;31mAttributeError\u001b[0m: 'Droid' object has no attribute '__name'"
     ]
    }
   ],
   "source": [
    "droid.__name  # efectivamente no aparece como atributo"
   ]
  },
  {
   "cell_type": "markdown",
   "metadata": {
    "slideshow": {
     "slide_type": "-"
    }
   },
   "source": [
    "> Estos atributos nunca son completamente privados. Existe una manera de acceder a ellos:"
   ]
  },
  {
   "cell_type": "code",
   "execution_count": 85,
   "metadata": {
    "slideshow": {
     "slide_type": "-"
    }
   },
   "outputs": [
    {
     "data": {
      "text/plain": [
       "'BC-44'"
      ]
     },
     "execution_count": 85,
     "metadata": {},
     "output_type": "execute_result"
    }
   ],
   "source": [
    "droid._Droid__name"
   ]
  },
  {
   "cell_type": "markdown",
   "metadata": {
    "slideshow": {
     "slide_type": "subslide"
    }
   },
   "source": [
    "### Atributos de clase y de objeto\n",
    "\n",
    "Podemos asignar atributos a las clases y serán heredados por todos los objetos instanciados de esa clase.\n",
    "\n",
    "En un principio, todos los droides están diseñados para que obedezcan a su dueño. Esto lo conseguiremos a nivel de clase, salvo que ese comportamiento se sobreescriba."
   ]
  },
  {
   "cell_type": "code",
   "execution_count": 86,
   "metadata": {
    "slideshow": {
     "slide_type": "-"
    }
   },
   "outputs": [],
   "source": [
    "class Droid:\n",
    "    obeys_owner = True  # obedece a su dueño"
   ]
  },
  {
   "cell_type": "code",
   "execution_count": 87,
   "metadata": {
    "slideshow": {
     "slide_type": "-"
    }
   },
   "outputs": [],
   "source": [
    "good_droid = Droid()"
   ]
  },
  {
   "cell_type": "code",
   "execution_count": 88,
   "metadata": {
    "slideshow": {
     "slide_type": "-"
    }
   },
   "outputs": [
    {
     "data": {
      "text/plain": [
       "True"
      ]
     },
     "execution_count": 88,
     "metadata": {},
     "output_type": "execute_result"
    }
   ],
   "source": [
    "good_droid.obeys_owner"
   ]
  },
  {
   "cell_type": "code",
   "execution_count": 89,
   "metadata": {
    "slideshow": {
     "slide_type": "-"
    }
   },
   "outputs": [],
   "source": [
    "t1000 = Droid()"
   ]
  },
  {
   "cell_type": "code",
   "execution_count": 90,
   "metadata": {
    "slideshow": {
     "slide_type": "-"
    }
   },
   "outputs": [],
   "source": [
    "t1000.obeys_owner = False  # T-1000 (Terminator)"
   ]
  },
  {
   "cell_type": "code",
   "execution_count": 91,
   "metadata": {
    "slideshow": {
     "slide_type": "-"
    }
   },
   "outputs": [
    {
     "data": {
      "text/plain": [
       "True"
      ]
     },
     "execution_count": 91,
     "metadata": {},
     "output_type": "execute_result"
    }
   ],
   "source": [
    "Droid.obeys_owner  # el cambio no afecta a nivel de clase"
   ]
  },
  {
   "cell_type": "markdown",
   "metadata": {
    "slideshow": {
     "slide_type": "slide"
    }
   },
   "source": [
    "## 🚀 Tipos de métodos\n",
    "\n",
    "### Métodos de instancia\n",
    "\n",
    "Estos métodos son los más comunes y permiten modificar el comportamiento de un objeto. Se caracterizan por tener `self` como primer parámetro y hacen que Python pase el objeto como argumento en su llamada."
   ]
  },
  {
   "cell_type": "code",
   "execution_count": 92,
   "metadata": {
    "slideshow": {
     "slide_type": "-"
    }
   },
   "outputs": [],
   "source": [
    "class Droid:\n",
    "    def __init__(self, name):  # método de instancia -> constructor\n",
    "        self.name = name\n",
    "        self.covered_distance = 0\n",
    "        \n",
    "    def move_up(self, steps):  # método de instancia\n",
    "        self.covered_distance += steps\n",
    "        print(f'Moving {steps} steps')"
   ]
  },
  {
   "cell_type": "code",
   "execution_count": 93,
   "metadata": {
    "slideshow": {
     "slide_type": "-"
    }
   },
   "outputs": [],
   "source": [
    "droid = Droid('C1-10P')"
   ]
  },
  {
   "cell_type": "code",
   "execution_count": 94,
   "metadata": {
    "slideshow": {
     "slide_type": "-"
    }
   },
   "outputs": [
    {
     "name": "stdout",
     "output_type": "stream",
     "text": [
      "Moving 10 steps\n"
     ]
    }
   ],
   "source": [
    "droid.move_up(10)"
   ]
  },
  {
   "cell_type": "markdown",
   "metadata": {
    "slideshow": {
     "slide_type": "subslide"
    }
   },
   "source": [
    "### Métodos de clase\n",
    "\n",
    "Estos métodos afectan a toda la clase en su conjunto. Cualquier cambio sobre la clase afecta a todos sus objetos. Para definir un *método de clase* debemos utilizar el decorador `@classmethod` y el primer parámetro será `cls` en referencia a la propia clase.\n",
    "\n",
    "Veamos un ejemplo en el que implementaremos un método de clase que lleva la cuenta de los droides que hemos creado."
   ]
  },
  {
   "cell_type": "code",
   "execution_count": 95,
   "metadata": {
    "slideshow": {
     "slide_type": "-"
    }
   },
   "outputs": [],
   "source": [
    "class Droid:\n",
    "    count = 0\n",
    "    \n",
    "    def __init__(self):\n",
    "        Droid.count += 1\n",
    "    \n",
    "    @classmethod\n",
    "    def total_droids(cls):\n",
    "        print(f'{cls.count} droids built so far!')"
   ]
  },
  {
   "cell_type": "code",
   "execution_count": 96,
   "metadata": {
    "slideshow": {
     "slide_type": "-"
    }
   },
   "outputs": [],
   "source": [
    "droid1 = Droid()\n",
    "droid2 = Droid()\n",
    "droid3 = Droid()"
   ]
  },
  {
   "cell_type": "code",
   "execution_count": 97,
   "metadata": {
    "slideshow": {
     "slide_type": "-"
    }
   },
   "outputs": [
    {
     "name": "stdout",
     "output_type": "stream",
     "text": [
      "3 droids built so far!\n"
     ]
    }
   ],
   "source": [
    "Droid.total_droids()"
   ]
  },
  {
   "cell_type": "markdown",
   "metadata": {
    "slideshow": {
     "slide_type": "subslide"
    }
   },
   "source": [
    "### Métodos estáticos\n",
    "\n",
    "Estos métodos no afectan ni a la clase ni a los objetos. Se utilizan para todas aquellas cuestiones relacionadas con la clase pero que ni acceden ni modifican sus atributos. Para escribir un *método estático* debemos utilizar el decorador `@staticmethod` y no incluir ningún parámetro obligatorio inicial.\n",
    "\n",
    "Veamos un ejemplo en el que creamos un método estático para devolver las categorías de droides que existen en StarWars:"
   ]
  },
  {
   "cell_type": "code",
   "execution_count": 98,
   "metadata": {
    "slideshow": {
     "slide_type": "-"
    }
   },
   "outputs": [],
   "source": [
    "class Droid:\n",
    "    def __init__(self):\n",
    "        pass\n",
    "\n",
    "    @staticmethod\n",
    "    def get_droids_categories():\n",
    "        return ['Messeger', 'Astromech', 'Power', 'Protocol']"
   ]
  },
  {
   "cell_type": "code",
   "execution_count": 99,
   "metadata": {
    "slideshow": {
     "slide_type": "-"
    }
   },
   "outputs": [
    {
     "data": {
      "text/plain": [
       "['Messeger', 'Astromech', 'Power', 'Protocol']"
      ]
     },
     "execution_count": 99,
     "metadata": {},
     "output_type": "execute_result"
    }
   ],
   "source": [
    "Droid.get_droids_categories()"
   ]
  },
  {
   "cell_type": "markdown",
   "metadata": {
    "slideshow": {
     "slide_type": "slide"
    }
   },
   "source": [
    "## 🎩 Métodos mágicos\n",
    "\n",
    "Cuando escribimos `a = 3 + 8` ¿cómo saben los objetos enteros `3` y `8` qué deben hacer para sumarse? O dicho de otra forma, ¿cuál es la implementación del operador `+`? ¿Es la misma implementación que cuando sumamos cadenas de texto?\n",
    "\n",
    "La respuesta a estas preguntas son los **métodos mágicos**: implementaciones de operaciones entre objetos. Los *métodos mágicos* empiezan y terminan por doble subguión `__` (también se les conoce como *dunder-methods*). El método mágico más famoso es el *constructor* de una clase: `__init__()`.\n",
    "\n",
    "Para cada *operador* existe un *método mágico* asociado (que podemos personalizar).\n",
    "\n",
    "![Magic methods](img/magic-methods.png)"
   ]
  },
  {
   "cell_type": "markdown",
   "metadata": {
    "slideshow": {
     "slide_type": "subslide"
    }
   },
   "source": [
    "Supongamos que podemos comparar si dos droides son iguales. Aunque su número de serie varíe, podemos establecer el criterio de su nombre:"
   ]
  },
  {
   "cell_type": "code",
   "execution_count": 100,
   "metadata": {
    "slideshow": {
     "slide_type": "-"
    }
   },
   "outputs": [],
   "source": [
    "class Droid:\n",
    "    def __init__(self, name, serial_number):\n",
    "        self.serial_number = serial_number\n",
    "        self.name = name\n",
    "    \n",
    "    def __eq__(self, droid):\n",
    "        return self.name == droid.name"
   ]
  },
  {
   "cell_type": "code",
   "execution_count": 101,
   "metadata": {
    "slideshow": {
     "slide_type": "-"
    }
   },
   "outputs": [],
   "source": [
    "droid1 = Droid('C-3PO', 43974973242)\n",
    "droid2 = Droid('C-3PO', 85094905984)"
   ]
  },
  {
   "cell_type": "code",
   "execution_count": 102,
   "metadata": {
    "slideshow": {
     "slide_type": "-"
    }
   },
   "outputs": [
    {
     "data": {
      "text/plain": [
       "True"
      ]
     },
     "execution_count": 102,
     "metadata": {},
     "output_type": "execute_result"
    }
   ],
   "source": [
    "droid1 == droid2  # llamada implícita a __eq__"
   ]
  },
  {
   "cell_type": "code",
   "execution_count": 103,
   "metadata": {
    "slideshow": {
     "slide_type": "-"
    }
   },
   "outputs": [
    {
     "data": {
      "text/plain": [
       "True"
      ]
     },
     "execution_count": 103,
     "metadata": {},
     "output_type": "execute_result"
    }
   ],
   "source": [
    "droid1.__eq__(droid2)"
   ]
  },
  {
   "cell_type": "markdown",
   "metadata": {
    "slideshow": {
     "slide_type": "subslide"
    }
   },
   "source": [
    "![List of magic methods](img/magic-methods-list.png)\n",
    "\n",
    "Los *métodos mágicos* no sólo están restringidos a operadores de comparación o matemáticos. Existen muchos otros en la documentación oficial de [métodos especiales](https://docs.python.org/3/reference/datamodel.html#special-method-names)."
   ]
  },
  {
   "cell_type": "markdown",
   "metadata": {
    "slideshow": {
     "slide_type": "subslide"
    }
   },
   "source": [
    "Veamos un ejemplo en el que \"sumamos\" dos droides. Esto se podría ver como una *fusión*. Supongamos que la suma de dos droides implica: *a)* que el nombre del droide resultante es la concatenación de los nombres de los droides; *b)* que la energía del droide resultante es la suma de la energía de los droides."
   ]
  },
  {
   "cell_type": "code",
   "execution_count": 104,
   "metadata": {
    "slideshow": {
     "slide_type": "-"
    }
   },
   "outputs": [],
   "source": [
    "class Droid:\n",
    "    def __init__(self, name, power):\n",
    "        self.name = name\n",
    "        self.power = power\n",
    "    \n",
    "    def __add__(self, droid):\n",
    "        new_name = self.name + '-' + droid.name\n",
    "        new_power = self.power + droid.power\n",
    "        new_droid = Droid(new_name, new_power)\n",
    "        return new_droid  # OJO! Hay que devolver un objeto de tipo Droid"
   ]
  },
  {
   "cell_type": "code",
   "execution_count": 105,
   "metadata": {
    "slideshow": {
     "slide_type": "-"
    }
   },
   "outputs": [
    {
     "name": "stdout",
     "output_type": "stream",
     "text": [
      "Fusion droid:\n",
      "C3PO-R2D2 with power 136\n"
     ]
    }
   ],
   "source": [
    "droid1 = Droid('C3PO', 45)\n",
    "droid2 = Droid('R2D2', 91)\n",
    "\n",
    "droid3 = droid1 + droid2\n",
    "\n",
    "print(f'Fusion droid:\\n{droid3.name} with power {droid3.power}')"
   ]
  },
  {
   "cell_type": "markdown",
   "metadata": {
    "slideshow": {
     "slide_type": "subslide"
    }
   },
   "source": [
    "### `__str__`\n",
    "\n",
    "Uno de los métodos mágicos más utilizados es `__str__` que permite establecer la forma en la que un objeto se muestra por pantalla."
   ]
  },
  {
   "cell_type": "code",
   "execution_count": 106,
   "metadata": {
    "slideshow": {
     "slide_type": "-"
    }
   },
   "outputs": [],
   "source": [
    "class Droid:\n",
    "    def __init__(self, name, serial_number):\n",
    "        self.serial_number = serial_number\n",
    "        self.name = name\n",
    "    \n",
    "    def __str__(self):\n",
    "        return f'Droid \"{self.name}\" built with serial {self.serial_number}'"
   ]
  },
  {
   "cell_type": "code",
   "execution_count": 107,
   "metadata": {
    "slideshow": {
     "slide_type": "-"
    }
   },
   "outputs": [],
   "source": [
    "droid = Droid('K-2SO', 8403898409432)"
   ]
  },
  {
   "cell_type": "code",
   "execution_count": 108,
   "metadata": {
    "slideshow": {
     "slide_type": "-"
    }
   },
   "outputs": [
    {
     "name": "stdout",
     "output_type": "stream",
     "text": [
      "Droid \"K-2SO\" built with serial 8403898409432\n"
     ]
    }
   ],
   "source": [
    "print(droid)  # llamada a droid.__str__()"
   ]
  },
  {
   "cell_type": "markdown",
   "metadata": {
    "slideshow": {
     "slide_type": "subslide"
    }
   },
   "source": [
    "## Agregación y composición\n",
    "\n",
    "La *herencia* es una buena técnica cuando queremos que una clase derivada actúe como su clase base la mayoría del tiempo: hablamos de una relación **is-a** (*es un*).\n",
    "\n",
    "Sin embargo existen muchas situaciones en las que la *agregación* o la *composición* son mejor opción. En este caso una clase se compone de otras cases: hablamos de una relación **has-a** (*tiene un*).\n",
    "\n",
    "Hay una sutil diferencia entre agregación y composición. La **composición** implica que el objeto utilizado no puede \"funcionar\" sin la presencia de su propietario, mientras que la **agregación** implica que el objeto utilizado puede funcionar por sí mismo.\n",
    "\n",
    "\n",
    "![Agreggation-Composition](img/aggregation-composition.png)"
   ]
  },
  {
   "cell_type": "markdown",
   "metadata": {
    "slideshow": {
     "slide_type": "-"
    }
   },
   "source": [
    "> Icons made by <a href=\"https://www.flaticon.com/authors/freepik\" title=\"Freepik\">Freepik</a> from <a href=\"https://www.flaticon.com/\" title=\"Flaticon\"> www.flaticon.com</a>"
   ]
  },
  {
   "cell_type": "markdown",
   "metadata": {
    "slideshow": {
     "slide_type": "subslide"
    }
   },
   "source": [
    "Veamos un ejemplo de *agregación* en el que añadimos una herramienta a un droide:"
   ]
  },
  {
   "cell_type": "code",
   "execution_count": 109,
   "metadata": {
    "slideshow": {
     "slide_type": "-"
    }
   },
   "outputs": [],
   "source": [
    "class Tool:\n",
    "    def __init__(self, name):\n",
    "        self.name = name\n",
    "    \n",
    "    def __str__(self):\n",
    "        return self.name.upper()\n",
    "\n",
    "class Droid:\n",
    "    def __init__(self, name, serial_number, tool):\n",
    "        self.name = name\n",
    "        self.serial_number = serial_number\n",
    "        self.tool = tool  # agregación\n",
    "    \n",
    "    def __str__(self):\n",
    "        return f'Droid {self.name} armed with a {self.tool}'"
   ]
  },
  {
   "cell_type": "code",
   "execution_count": 110,
   "metadata": {
    "slideshow": {
     "slide_type": "-"
    }
   },
   "outputs": [],
   "source": [
    "lighter = Tool('ligher')\n",
    "bb8 = Droid('BB-8', 48050989085439, lighter)"
   ]
  },
  {
   "cell_type": "code",
   "execution_count": 111,
   "metadata": {
    "slideshow": {
     "slide_type": "-"
    }
   },
   "outputs": [
    {
     "name": "stdout",
     "output_type": "stream",
     "text": [
      "Droid BB-8 armed with a LIGHER\n"
     ]
    }
   ],
   "source": [
    "print(bb8)"
   ]
  },
  {
   "cell_type": "markdown",
   "metadata": {
    "slideshow": {
     "slide_type": "subslide"
    }
   },
   "source": [
    "### 🎯 Ejercicio\n",
    "\n",
    "Defina una clase `Fraction` que represente una fracción con *numerador* y *denominador* enteros y utilice los *métodos mágicos* para poder sumar, restar, multiplicar y dividir estas fracciones.\n",
    "\n",
    "Además de esto necesitaremos:\n",
    "- `__init__`\n",
    "- `__str__`\n",
    "- `gcd(a, b)` (*método estático*) siguiendo el [algoritmo de Euclides](img/euclides.png).\n",
    "\n",
    "Compruebe que se cumplen las siguientes igualdades:\n",
    "\n",
    "$$\n",
    "\\bigg[ \\frac{25}{30} + \\frac{40}{45} = \\frac{31}{18} \\bigg] \\hspace{5mm}\n",
    "\\bigg[ \\frac{25}{30} - \\frac{40}{45} = \\frac{-1}{18} \\bigg] \\hspace{5mm}\n",
    "\\bigg[ \\frac{25}{30} * \\frac{40}{45} = \\frac{20}{27} \\bigg] \\hspace{5mm}\n",
    "\\bigg[ \\frac{25}{30} / \\frac{40}{45} = \\frac{15}{16} \\bigg]\n",
    "$$"
   ]
  },
  {
   "cell_type": "markdown",
   "metadata": {
    "slideshow": {
     "slide_type": "-"
    }
   },
   "source": [
    "<hr>\n",
    "\n",
    "**📎 Posible solución:** [solutions/fraction.py](solutions/fraction.py)"
   ]
  },
  {
   "cell_type": "code",
   "execution_count": 112,
   "metadata": {
    "slideshow": {
     "slide_type": "skip"
    }
   },
   "outputs": [],
   "source": [
    "# %load solutions/fraction.py"
   ]
  },
  {
   "cell_type": "markdown",
   "metadata": {
    "slideshow": {
     "slide_type": "slide"
    }
   },
   "source": [
    "## 🐍 Tutoriales de Real Python\n",
    "\n",
    "- [Supercharge Your Classes With Python super()](https://realpython.com/courses/python-super/)\n",
    "- [Inheritance and Composition: A Python OOP Guide](https://realpython.com/inheritance-composition-python/)\n",
    "- [OOP Method Types in Python: @classmethod vs @staticmethod vs Instance Methods](https://realpython.com/courses/python-method-types/)\n",
    "- [Intro to Object-Oriented Programming (OOP) in Python](https://realpython.com/courses/intro-object-oriented-programming-oop-python/)\n",
    "- [Pythonic OOP String Conversion: __repr__ vs __str__](https://realpython.com/courses/pythonic-oop-string-conversion-__repr__-vs-__str__/)\n",
    "- [@staticmethod vs @classmethod in Python](https://realpython.com/courses/staticmethod-vs-classmethod-python/)\n",
    "- [Modeling Polymorphism in Django With Python](https://realpython.com/modeling-polymorphism-django-python/)\n",
    "- [Operator and Function Overloading in Custom Python Classes](https://realpython.com/operator-function-overloading/)\n",
    "- [Object-Oriented Programming (OOP) in Python 3](https://realpython.com/python3-object-oriented-programming/)"
   ]
  }
 ],
 "metadata": {
  "celltoolbar": "Slideshow",
  "kernelspec": {
   "display_name": "Python 3",
   "language": "python",
   "name": "python3"
  },
  "language_info": {
   "codemirror_mode": {
    "name": "ipython",
    "version": 3
   },
   "file_extension": ".py",
   "mimetype": "text/x-python",
   "name": "python",
   "nbconvert_exporter": "python",
   "pygments_lexer": "ipython3",
   "version": "3.8.0"
  }
 },
 "nbformat": 4,
 "nbformat_minor": 2
}
