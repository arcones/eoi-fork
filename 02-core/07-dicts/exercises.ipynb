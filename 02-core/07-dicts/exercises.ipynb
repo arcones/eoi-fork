{
 "cells": [
  {
   "cell_type": "code",
   "execution_count": 1,
   "metadata": {},
   "outputs": [
    {
     "data": {
      "text/html": [
       "<style>/* title of columns */\n",
       "table thead th {\n",
       "    font-size: 1.2em !important;\n",
       "    padding-top: 0.2em !important;\n",
       "    padding-bottom: 0.2em !important;\n",
       "    text-align: left !important;\n",
       "}\n",
       "\n",
       "/* title of rows */\n",
       "table tbody th {\n",
       "    font-size: 1.2em !important;\n",
       "    background: rgba(199, 199, 199, 0.356) !important;\n",
       "    border: 1px solid black !important;\n",
       "    text-align: left !important;\n",
       "}\n",
       "\n",
       "/* style for each cell */\n",
       "table td {\n",
       "    font-size: 1.15em !important;\n",
       "    border: 1px solid black !important;\n",
       "    text-align: left !important;\n",
       "}\n",
       "\n",
       "/* disable zebra-style */\n",
       "table tbody tr {\n",
       "    background: white !important;\n",
       "}\n",
       "\n",
       "/* row color on hover */\n",
       "table tbody tr:hover {\n",
       "    background: rgba(43, 137, 226, 0.144) !important;\n",
       "}\n",
       "\n",
       "/* SLIDES */\n",
       ".slides table td {\n",
       "    font-size: 15pt !important;\n",
       "}\n",
       "\n",
       ".slides table th {\n",
       "    font-size: 15pt !important;\n",
       "}\n",
       "\n",
       ".slides img {\n",
       "    margin-left: auto !important;\n",
       "    margin-right: auto !important;\n",
       "}\n",
       "\n",
       ".slides blockquote {\n",
       "    margin: 0 !important;\n",
       "    box-shadow: none !important;\n",
       "    width: 100% !important;\n",
       "    border-left: 5px solid lightgray !important;\n",
       "    color: #284d71 !important;\n",
       "    padding: 0 0 0 10px !important;\n",
       "    background-color: #f9f9f9 !important;\n",
       "    font-size: 20px !important;\n",
       "}\n",
       "\n",
       ".slides blockquote p {\n",
       "    margin: 10px 0 10px 0 !important;\n",
       "}\n",
       "</style>"
      ],
      "text/plain": [
       "<IPython.core.display.HTML object>"
      ]
     },
     "execution_count": 1,
     "metadata": {},
     "output_type": "execute_result"
    }
   ],
   "source": [
    "from IPython.display import HTML\n",
    "from pathlib import Path\n",
    "\n",
    "css_rules = Path('../custom.css').read_text()\n",
    "HTML('<style>' + css_rules + '</style>')"
   ]
  },
  {
   "cell_type": "markdown",
   "metadata": {},
   "source": [
    "# 🎯 Ejercicios\n",
    "\n",
    "Fuente: [The Python Workbook](https://www.springer.com/gp/book/9783030188726)"
   ]
  },
  {
   "cell_type": "markdown",
   "metadata": {},
   "source": [
    "---\n",
    "\n",
    "### 📣 NOTA:\n",
    "\n",
    "Cuando los ejercicios hablen de solicitar datos al usuario, pueden utilizar `sys.argv` para leer estos datos por línea de comandos.\n",
    "\n",
    "---"
   ]
  },
  {
   "cell_type": "markdown",
   "metadata": {},
   "source": [
    "## Búsqueda inversa\n",
    "\n",
    "Escriba un programa que permita encontrar todas las claves de un diccionario que mapeen a un determinado valor. Para ello usted debería crear un diccionario y establecer una clave de búsqueda. Finalmente se debería mostrar una lista con las claves del diccionario que mapeen a dicho valor."
   ]
  },
  {
   "cell_type": "markdown",
   "metadata": {},
   "source": [
    "## Mensajería de texto\n",
    "\n",
    "En algunos teléfonos móviles los mensajes de texto se pueden enviar usando el teclado numérico. Cada tecla tiene asociada múltiples letras; así se puede presionar varias veces sobre la misma tecla para obtener la letra deseada. Presionando el número una vez se genera la primera letra. Presionando más veces se van generando la segunda, tercera, etc.\n",
    "\n",
    "Clave | Símbolos\n",
    "--- | ---\n",
    "1 | `.,?!:`\n",
    "2 | `A B C`\n",
    "3 | `D E F`\n",
    "4 | `G H I`\n",
    "5 | `J K L`\n",
    "6 | `M N O`\n",
    "7 | `P Q R S`\n",
    "8 | `T U V`\n",
    "9 | `W X Y Z`\n",
    "0 | *space*\n",
    "\n",
    "Escriba un programa que muestre el número de pulsaciones sobre cada tecla que son necesarias para escribir un mensaje de texto leído del usuario. Construya un diccionario que mapee cada letra o símbolo al número de pulsaciones sobre cada tecla. Luego use este diccionario para generar y mostrar las presiones para el mensaje del usuario. Por ejemplo, si el usuario introduce `Hello,World!` su programa debería mostrar `4433555555666110966677755531111`. Asegúrese que su programa maneja tanto caracteres en minúsculas como en mayúsculas. Ignore cualquier otro carácter que no está en la tabla anterior tales como puntos y comas y corchetes."
   ]
  },
  {
   "cell_type": "markdown",
   "metadata": {},
   "source": [
    "## Código Morse\n",
    "\n",
    "El *Código Morse* es un esquema de codificación que usa rayas y puntos para representar números y letras. En este ejercicio usted escribirá un programa que use un diccionario para almacenar el mapeo de letras y número en Código Morse:\n",
    "\n",
    "Letra | Código | Letra | Código | Letra | Código | Número | Código\n",
    "--- | --- | --- | --- | --- | --- | --- | ---\n",
    "A | .- | J | .--- | S | ... | 1 | .----\n",
    "B | -... | K | -.- | T | - | 2 | ..---\n",
    "C | -.-. | L | .-.. | U | ..- | 3 | ...--\n",
    "D | -.. | M | -- | V | ...- | 4 | ....-\n",
    "E | . | N | -. | W | .-- | 5 | .....\n",
    "F | ..-. | O | --- | X | -..- | 6 | -....\n",
    "G | --. | P | .--. | Y | -.-- | 7 | --...\n",
    "H | .... | Q | --.- | Z | --.. | 8 | ---..\n",
    "I | .. | R | .-. | O | ----- | 9 | ----.\n",
    "\n",
    "Su programa debería leer del usuario un mensaje. Luego debería traducir cada letra y cada número a Código Morse, dejando espacio en blanco entre cada secuencia de rayas y puntos. Su programa debería ignorar cualquier otro carácter que no son letras ni números. El *Código Morse* para `Hello,World!` es el siguiente: `.... . .-.. .-.. --- --..-- .-- --- .-. .-.. -.. -.-.--`\n",
    "\n",
    "[Traductor a Código Morse](https://morsecode.world/international/translator.html)"
   ]
  },
  {
   "cell_type": "markdown",
   "metadata": {},
   "source": [
    "## Códigos postales\n",
    "\n",
    "En el correo postal de Canadá, el primer, el tercero y el quinto carácter son letras mientras que el segundo, el cuarto y el sexto son números. La provincia se puede determinar a partir del primer carácter del código postal, como se muestra en la siguiente tabla. Los códigos postales que comienzan con D, F, I, O, Q, U, W o Z no son válidos:\n",
    "\n",
    "Provincia | Primer carácter\n",
    "--- | ---\n",
    "Newfoundland | A\n",
    "Nova Scotia | B\n",
    "Prince Edward Island | C\n",
    "New Brunswick | E\n",
    "Quebec | G, H y J\n",
    "Ontario | K, L, M, N y P\n",
    "Manitoba | R\n",
    "Saskatchewan | S\n",
    "Alberta | T\n",
    "British Columbia | V\n",
    "Nunavut | X\n",
    "Northwest Territories | X\n",
    "Yukon | Y\n",
    "\n",
    "El segundo carácter en el código postal identifica si la dirección es rural o urbana. Si el carácter es un 0 entonces la dirección es rural. En otro caso es urbana.\n",
    "\n",
    "Cree un programa que lea del usuario un código postal y muestre la provincia asociada e indique si la dirección es rural o urbana. Por ejemplo, si el usuario introduce `T2N 1N4` entonces su programa debería indicar que el código postal es una dirección urbana en Alberta. Si el usuario introduce `X0A 1B2` su programa debería indicar que el código postal es una dirección rural en Nunavut o Northwest Territories. Use un diccionario para mapear el primer carácter del código postal en un nombre de provincia. Muestre un mensaje de error significativo si el código postal comienza por un caracter no válido."
   ]
  },
  {
   "cell_type": "markdown",
   "metadata": {},
   "source": [
    "## Importe de cheques\n",
    "\n",
    "Aunque la popularidad de los cheques bancarios ha ido disminuyendo los últimos años, aún existen empresas que los emiten para pagar a empleados/as o clientes. La cantidad a pagar normalmente aparece dos veces en un cheque, una usando dígitos escritos y la otra usando palabras. Repetir la cantidad en dos formatos diferentes hace más difícil manipular el cheque.\n",
    "\n",
    "En este ejercicio, su tarea es crear un programa que lea un número entero entre 0 y 999 y devuelva las palabras que representan dicho valor entero. Use español o inglés según le sea más sencillo. Por ejemplo si el usuario introduce `142` su programa debería mostrar `\"one hundred forty two\"`. Use une o más diccionarios para implementar su solución en vez de largas construcciones *if/elif/else*."
   ]
  },
  {
   "cell_type": "markdown",
   "metadata": {},
   "source": [
    "## Caracteres únicos\n",
    "\n",
    "Cree un programa que determine y muestre el número de caracteres únicos en una cadena de texto introducida por el usuario. Por ejemplo `Hello, World!` tiene 10 caracteres únicos, mientras que `zzz` sólo tiene un caracter único. Use un diccionario (o un conjunto) para resolver este problema."
   ]
  },
  {
   "cell_type": "markdown",
   "metadata": {},
   "source": [
    "## Anagramas\n",
    "\n",
    "Dos palabras se dicen que son *anagramas* si contienen las mismas letras pero en un orden diferente. Por ejemplo `\"evil\"` y `\"live\"` son anagramas porque cada una contiene una `e`, una `i`, una `l` y una `v`. Cree un programa que lea del usuario dos cadenas de texto y determine si son o no anagramas."
   ]
  },
  {
   "cell_type": "markdown",
   "metadata": {},
   "source": [
    "## Anagramas extendidos\n",
    "\n",
    "La noción de los anagramas se puede extender a múltiples palabras. Por ejemplo, `\"William Shakespeare\"` y `\"I am a weakish speller\"` son anagramas cuando se ignora la capitalización y los espacios.\n",
    "\n",
    "Extienda el ejercicio anterior para que sea capaz de comprobar si dos frases son anagramas. Su programa debería ignorar capitalización, signos de puntuación y espacios."
   ]
  },
  {
   "cell_type": "markdown",
   "metadata": {},
   "source": [
    "## Scrabble\n",
    "\n",
    "En el juego del *Scrabble* cada letra tiene una serie de puntos asociados. La puntuación total de una palabra es la suma de las puntuaciones de todas sus letras. Las letras más comunes valen menos mientras que las letras menos comunes valen más. Véase la tabla de puntuaciones:\n",
    "\n",
    "Puntos | Letras\n",
    "--- | ---\n",
    "1 | A, E, I, L, N, O, R, S, T, U\n",
    "2 | D, G\n",
    "3 | B, C, M, P\n",
    "4 | F, H, V, Y\n",
    "5 | Q\n",
    "8 | J, Ñ, X\n",
    "10 | Z\n",
    "\n",
    "Escriba un programa que compute y muestre la puntuación *scrabble* de una palabra. Cree un diccionario que mapee letras a puntos. Luego use el diccionario para computar la puntuación."
   ]
  },
  {
   "cell_type": "markdown",
   "metadata": {},
   "source": [
    "## Bingo\n",
    "\n",
    "Una tarjeta de bingo consiste en 5 columnas de 5 números cada una. Las columnas se etiquetan con las letras B, I, N, G y O. Hay 15 números que pueden aparecer bajo cada letra. En concreto, los números que pueden aparecer en la columna B van del 1 al 15, los números que pueden aparecer en la columna I van del 16 al 30, etc.\n",
    "\n",
    "![Bingo](img/bingo.png)\n",
    "\n",
    "Escriba una función que lea del usuario los números de una tarjeta de bingo y los almacene en un diccionario. Las claves serán las letras B, I, N, G y O. Los valores serán listas de 5 elementos que aparecen bajo cada letra. A continuación su programa debería mostrar la tarjeta del bingo correctamente."
   ]
  }
 ],
 "metadata": {
  "kernelspec": {
   "display_name": "Python 3",
   "language": "python",
   "name": "python3"
  },
  "language_info": {
   "codemirror_mode": {
    "name": "ipython",
    "version": 3
   },
   "file_extension": ".py",
   "mimetype": "text/x-python",
   "name": "python",
   "nbconvert_exporter": "python",
   "pygments_lexer": "ipython3",
   "version": "3.8.0"
  }
 },
 "nbformat": 4,
 "nbformat_minor": 2
}
