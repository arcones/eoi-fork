{
 "cells": [
  {
   "cell_type": "code",
   "execution_count": 1,
   "metadata": {},
   "outputs": [
    {
     "data": {
      "text/html": [
       "<style>/* title of columns */\n",
       "table thead th {\n",
       "    font-size: 1.2em !important;\n",
       "    padding-top: 0.2em !important;\n",
       "    padding-bottom: 0.2em !important;\n",
       "    text-align: left !important;\n",
       "}\n",
       "\n",
       "/* title of rows */\n",
       "table tbody th {\n",
       "    font-size: 1.2em !important;\n",
       "    background: rgba(199, 199, 199, 0.356) !important;\n",
       "    border: 1px solid black !important;\n",
       "    text-align: left !important;\n",
       "}\n",
       "\n",
       "/* style for each cell */\n",
       "table td {\n",
       "    font-size: 1.15em !important;\n",
       "    border: 1px solid black !important;\n",
       "    text-align: left !important;\n",
       "}\n",
       "\n",
       "/* disable zebra-style */\n",
       "table tbody tr {\n",
       "    background: white !important;\n",
       "}\n",
       "\n",
       "/* row color on hover */\n",
       "table tbody tr:hover {\n",
       "    background: rgba(43, 137, 226, 0.144) !important;\n",
       "}\n",
       "\n",
       "/* SLIDES */\n",
       ".slides table td {\n",
       "    font-size: 15pt !important;\n",
       "}\n",
       "\n",
       ".slides table th {\n",
       "    font-size: 15pt !important;\n",
       "}\n",
       "\n",
       ".slides img {\n",
       "    margin-left: auto !important;\n",
       "    margin-right: auto !important;\n",
       "}\n",
       "\n",
       ".slides blockquote {\n",
       "    margin: 0 !important;\n",
       "    box-shadow: none !important;\n",
       "    width: 100% !important;\n",
       "    border-left: 5px solid lightgray !important;\n",
       "    color: #284d71 !important;\n",
       "    padding: 0 0 0 10px !important;\n",
       "    background-color: #f9f9f9 !important;\n",
       "    font-size: 20px !important;\n",
       "}\n",
       "\n",
       ".slides blockquote p {\n",
       "    margin: 10px 0 10px 0 !important;\n",
       "}\n",
       "</style>"
      ],
      "text/plain": [
       "<IPython.core.display.HTML object>"
      ]
     },
     "execution_count": 1,
     "metadata": {},
     "output_type": "execute_result"
    }
   ],
   "source": [
    "from IPython.display import HTML\n",
    "from pathlib import Path\n",
    "\n",
    "css_rules = Path('../custom.css').read_text()\n",
    "HTML('<style>' + css_rules + '</style>')"
   ]
  },
  {
   "cell_type": "markdown",
   "metadata": {},
   "source": [
    "# 🎯 Ejercicios\n",
    "\n",
    "Fuente: [The Python Workbook](https://www.springer.com/gp/book/9783030188726)"
   ]
  },
  {
   "cell_type": "markdown",
   "metadata": {},
   "source": [
    "---\n",
    "\n",
    "### 📣 NOTA:\n",
    "\n",
    "Cuando los ejercicios hablen de solicitar datos al usuario, pueden utilizar `sys.argv` para leer estos datos por línea de comandos.\n",
    "\n",
    "---"
   ]
  },
  {
   "cell_type": "markdown",
   "metadata": {},
   "source": [
    "## Ordenación\n",
    "\n",
    "Escriba un programa que lea del usuario valores enteros y los almacene en una lista. Luego debería mostrar todos los valores ordenados de menor a mayor, con cada valor en una línea diferente."
   ]
  },
  {
   "cell_type": "markdown",
   "metadata": {},
   "source": [
    "## Inverso\n",
    "\n",
    "Escriba un programa que lea valores enteros y los almacene en una lista. Una vez leídos su programa debería mostrar los valores de forma inversa, con cada valor en una línea diferente."
   ]
  },
  {
   "cell_type": "markdown",
   "metadata": {},
   "source": [
    "## Borrar *outliers*\n",
    "\n",
    "Cuando se analizan datos recogidos como parte de un experimento científico es deseable borrar los valores más extremos antes de realizar otros cálculos. Escriba un programa que lea una serie de valores y que elimine los dos mayores valores y los dos menores valores. A continuación debería mostrar la lista con los *outliers* eliminados (mostrar también la lista original). Su programa debería generar un mensaje apropiado de error si el usuario introduce menos de 4 valores."
   ]
  },
  {
   "cell_type": "markdown",
   "metadata": {},
   "source": [
    "## Evitar duplicados\n",
    "\n",
    "En este ejercicio, creará un programa que lea palabras del usuario. Luego su programa debería mostrar cada palabra introducida exactamente una vez. Las palabras se deberían mostrar en el mismo orden en el que fueron introducidas. Por ejemplo si el usuario introduce:\n",
    "\n",
    "Entrada:\n",
    "~~~\n",
    "first\n",
    "second\n",
    "first\n",
    "third\n",
    "second\n",
    "~~~\n",
    "\n",
    "Salida:\n",
    "~~~\n",
    "first\n",
    "second\n",
    "third\n",
    "~~~"
   ]
  },
  {
   "cell_type": "markdown",
   "metadata": {},
   "source": [
    "## Negativos, ceros y positivos\n",
    "\n",
    "Crea un programa que lea del usuario valores enteros. Luego debería mostrar todos los números negativos, seguidos por todos los ceros y seguidos por todos los números positivos. Dentro de cada grupo se deberían mostrar los números en el mismo orden que los introdujo el usuario. Por ejemplo, si el usuario introduce los valores $3, -4, 1, 0, -1, 0, -2$ el programa debería mostrar los valores $-4, -1, -2, 0, 0, 3, 1$. Su programa debería mostrar cada valor en su propia línea."
   ]
  },
  {
   "cell_type": "markdown",
   "metadata": {},
   "source": [
    "## Divisores propios\n",
    "\n",
    "Un divisor propio de un entero positivo $n$ es un entero positivo menor que $n$ y que es divisible por $n$. Escriba un programa que compute todos los divisores propios de un entero positivo dado. Su programa debería leer dicho valor entero positivo, luego construir una lista con todos sus divisores propios y finalmente mostrar dicha lista."
   ]
  },
  {
   "cell_type": "markdown",
   "metadata": {},
   "source": [
    "## Números perfectos\n",
    "\n",
    "Se dice que un entero $n$ es *perfecto* cuando la suma de todos sus divisores propios es igual a $n$. Por ejemplo, $28$ es un número perfecto porque todos sus divisores propios: $1, 2, 4, 7, 14$ suman $28$.\n",
    "\n",
    "Escriba un programa que muestre todos los números perfectos entre 1 y 10000."
   ]
  },
  {
   "cell_type": "markdown",
   "metadata": {},
   "source": [
    "## Sólo las palabras\n",
    "\n",
    "En este ejercicio creará un programa que identifique todas las palabras en una cadena de texto introducida por el usuario. Comience eliminando todos los signos de puntuación de la cadena de texto dada. Los signos de puntuación incluyen comas, puntos, signos de interrogación, guiones, apóstrofes, signos de exclamación, dos puntos y puntos y comas. Luego su programa debería mostrar una lista únicamente con las palabras existentes en la cadena de texto proporcinada inicialmente."
   ]
  },
  {
   "cell_type": "markdown",
   "metadata": {},
   "source": [
    "## Debajo y encima de la media\n",
    "\n",
    "Escriba un programa que lea del usuario varios números. Su programa debería mostrar la media de todos los valores introducidos por el usuario. Luego el programa debería mostrar todos los valores por debajo de la media seguido por todos los valores por encima de la media. Se debería mostrar una etiqueta adecuada antes de cada lista de valores."
   ]
  },
  {
   "cell_type": "markdown",
   "metadata": {},
   "source": [
    "## Formateando una lista\n",
    "\n",
    "Cuando escribimos una lista de elementos normalmente solemos separarlos por comas usando \"y\" antes del último término (a menos que la lista sólo contenga un elemento). Escriba un programa que lea varios elementos del usuario y formatee estos elementos como una lista bien construída. Ejemplos:\n",
    "\n",
    "~~~\n",
    "manzanas\n",
    "manzanas y naranjas\n",
    "manzanas, naranjas y plátanos\n",
    "manzanas, naranjas, plátanos y limones\n",
    "~~~"
   ]
  },
  {
   "cell_type": "markdown",
   "metadata": {},
   "source": [
    "## Línea de mejor ajuste\n",
    "\n",
    "Una *línea de mejor ajuste* es la línea recta que mejor aproxima una colección de $n$ puntos. En este ejercicio, se asumirá que cada punto en la colección tiene una coordenada $x$ y una coordenada $y$. Los símbolos $\\bar{x}$ y $\\bar{y}$ se usan para representar la media de los valores $x$ y de los valores $y$ respectivamente. La línea que mejor se ajusta viene representada por $y=mx+b$ donde $m$ y $b$ se calculan usando las siguientes fórmulas:\n",
    "\n",
    "$$\n",
    "m = \\frac{\\sum xy - \\frac{\\big(\\sum x\\big) \\big(\\sum y\\big)}{n}}{\\sum x^2 - \\frac{\\big(\\sum x\\big)^2}{n}}\n",
    "$$\n",
    "\n",
    "$$\n",
    "b = \\bar{y} - m\\bar{x}\n",
    "$$\n",
    "\n",
    "Escriba un programa que lea del usuario una colección de puntos (pares $x, y$). Muestre la fórmula $y=mx+b$ reemplazando $m$ y $b$ con los valores calculados previamente."
   ]
  },
  {
   "cell_type": "markdown",
   "metadata": {},
   "source": [
    "## ¿Lista ordenada?\n",
    "\n",
    "Escriba un programa que lea una lista de números del usuario y determine si la lista está ordenada."
   ]
  },
  {
   "cell_type": "markdown",
   "metadata": {},
   "source": [
    "## Contar elementos\n",
    "\n",
    "La librería estándar de Python incluye un método llamado `count()` que determina cuántas veces se repite un valor específico en una lista. En este ejercicio usted creará un programa que determina el número de elementos que son mayores o iguales que un valor mínimo y menores que algún valor máximo. Su programa leerá un conjunto de valores, seguidos por el valor mínimo y el valor máximo. Asegúrese de que su programa funciona correctamente tanto para listas de enteros como para listas de valores flotantes."
   ]
  },
  {
   "cell_type": "markdown",
   "metadata": {},
   "source": [
    "## Tokenizar una cadena de texto\n",
    "\n",
    "*Tokenizar* es el proceso de convertir una cadena de texto en una lista de subcadenas que denominamos *tokens*. En muchas circustancias es mucho más sencillo trabajar con una lista de tokens.\n",
    "\n",
    "En una expresión matemática los tokens son elementos como operadores, números y paréntesis. Algunos tokens, como `*,/,-,(` y `)` son fáciles de identificar porque el token es un único carácter y este carácter nunca forma parte de otro token. Los símbolos `+` y `-` son un poco más complicados de manejar ya que podrían representar el operador de suma o resta, pero también podrían formar parte de un número.\n",
    "\n",
    "Escriba un programa que lea del usuario una cadena de texto representando una expresión matemática. A continuación debería descomponer esta expresión en una lista con sus distintos tokens. Cada token debería ser un paréntesis, un operador o un número con signo opcional (`+` o `-`) (por simplificar sólo trabajaremos con valores enteros).\n",
    "\n",
    "Asumirá que la cadena de texto introducida siempre contiene una expresión matemática válida. Sin embargo el programa debe manejar cantidades variables de espacios en blanco entre los elementos de la expresión."
   ]
  },
  {
   "cell_type": "markdown",
   "metadata": {},
   "source": [
    "## Determinar sublistas\n",
    "\n",
    "Una sublista es una lista que forma parte de una lista mayor. Una sublista puede ser una lista que contiene un único elemento, múltiples elementos o ningún elemento. Por ejemplo `[1], [2], [3]` y `[4]` son sublistas de `[1, 2, 3, 4]`. La lista `[2, 3]` también es una sublista de `[1, 2, 3, 4]` pero `[2, 4]` no es una sublista de `[1, 2, 3, 4]` porque los elementos `2` y `4` no son adyacentes en la lista más larga. La lista vacía es una sublista de cualquier lista. Como resultado `[]` es una sublista de `[1, 2, 3, 4]`. Una lista es una sublista de sí misma, lo que significa que `[1, 2, 3, 4]` es también una sublista de `[1, 2, 3, 4]`.\n",
    "\n",
    "En este ejercicio creará un programa que determine si una lista es una sublista de otra. El programa debería leer dos listas: `larger` y `smaller`. A continuación mostrar un mensaje indicando si `smaller` es una sublista de `larger`."
   ]
  },
  {
   "cell_type": "markdown",
   "metadata": {},
   "source": [
    "## Generar sublistas\n",
    "\n",
    "Usando la definición de sublista vista en el ejercicio anterior, escriba un programa que genere todas las posibles sublistas de una lista introducida por el usuario. Por ejemplo, las sublistas de `[1, 2, 3]` son `[], [1], [2], [3], [1, 2], [2, 3]` y `[1, 2, 3]`."
   ]
  },
  {
   "cell_type": "markdown",
   "metadata": {},
   "source": [
    "## La criba de Eratóstenes\n",
    "\n",
    "La criba de Eratóstenes es una técnica desarrollada hace más de 2000 años para encontrar fácilmente todos los números primos entre 2, y un cierto límite, digamos 100. A continuación se describa el algoritmo con pseudocódigo:\n",
    "\n",
    "![Eratosthenes Sieve](img/eratosthenes.png)\n",
    "\n",
    "> Fuente: [Wikipedia](https://es.wikipedia.org/wiki/Criba_de_Erat%C3%B3stenes)\n",
    "\n",
    "Cree un programa en Python que use este algoritmo para mostrar todos los números primos entre 2 y un límite $n$ introducido por el usuario. Si se implementa el algoritmo correctamente usted debería poder mostrar los números primos menores de 1,000,000 en pocos segundos."
   ]
  }
 ],
 "metadata": {
  "kernelspec": {
   "display_name": "Python 3",
   "language": "python",
   "name": "python3"
  },
  "language_info": {
   "codemirror_mode": {
    "name": "ipython",
    "version": 3
   },
   "file_extension": ".py",
   "mimetype": "text/x-python",
   "name": "python",
   "nbconvert_exporter": "python",
   "pygments_lexer": "ipython3",
   "version": "3.8.0"
  }
 },
 "nbformat": 4,
 "nbformat_minor": 2
}
