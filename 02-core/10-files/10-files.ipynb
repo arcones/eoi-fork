{
 "cells": [
  {
   "cell_type": "code",
   "execution_count": 1,
   "metadata": {
    "slideshow": {
     "slide_type": "skip"
    }
   },
   "outputs": [
    {
     "data": {
      "text/html": [
       "<style>/* title of columns */\n",
       "table thead th {\n",
       "  font-size: 1.2em !important;\n",
       "  padding-top: 0.2em !important;\n",
       "  padding-bottom: 0.2em !important;\n",
       "  text-align: left !important;\n",
       "}\n",
       "\n",
       "/* title of rows */\n",
       "table tbody th {\n",
       "  font-size: 1.2em !important;\n",
       "  background: rgba(199, 199, 199, 0.356) !important;\n",
       "  border: 1px solid black !important;\n",
       "  text-align: left !important;\n",
       "}\n",
       "\n",
       "/* style for each cell */\n",
       "table td {\n",
       "  font-size: 1.15em !important;\n",
       "  border: 1px solid black !important;\n",
       "  text-align: left !important;\n",
       "}\n",
       "\n",
       "/* disable zebra-style */\n",
       "table tbody tr {\n",
       "  background: white !important;\n",
       "}\n",
       "\n",
       "/* row color on hover */\n",
       "table tbody tr:hover {\n",
       "  background: rgba(43, 137, 226, 0.144) !important;\n",
       "}\n",
       "\n",
       "/* SLIDES */\n",
       ".slides table td {\n",
       "  font-size: 15pt !important;\n",
       "}\n",
       "\n",
       ".slides table th {\n",
       "  font-size: 15pt !important;\n",
       "}\n",
       "\n",
       ".slides img {\n",
       "  margin-left: auto !important;\n",
       "  margin-right: auto !important;\n",
       "}\n",
       "\n",
       ".slides blockquote {\n",
       "  margin: 0 !important;\n",
       "  box-shadow: none !important;\n",
       "  width: 100% !important;\n",
       "  border-left: 5px solid lightgray !important;\n",
       "  color: #284d71 !important;\n",
       "  padding: 0 0 0 10px !important;\n",
       "  background-color: #f9f9f9 !important;\n",
       "  font-size: 20px !important;\n",
       "}\n",
       "\n",
       ".slides blockquote p {\n",
       "  margin: 10px 0 10px 0 !important;\n",
       "}\n",
       "\n",
       ".slides ul,\n",
       ".slides ol {\n",
       "  margin-top: 0 !important;\n",
       "}\n",
       "\n",
       ".slides h1 + ol,\n",
       ".slides h1 + ol,\n",
       ".slides h2 + ul,\n",
       ".slides h2 + ol,\n",
       ".slides h3 + ul,\n",
       ".slides h2 + ol,\n",
       ".slides h4 + ul,\n",
       ".slides h4 + ol {\n",
       "  margin-top: 20px !important;\n",
       "}\n",
       "</style>"
      ],
      "text/plain": [
       "<IPython.core.display.HTML object>"
      ]
     },
     "execution_count": 1,
     "metadata": {},
     "output_type": "execute_result"
    }
   ],
   "source": [
    "from IPython.display import HTML\n",
    "from pathlib import Path\n",
    "\n",
    "css_rules = Path('../custom.css').read_text()\n",
    "HTML('<style>' + css_rules + '</style>')"
   ]
  },
  {
   "cell_type": "markdown",
   "metadata": {
    "slideshow": {
     "slide_type": "slide"
    }
   },
   "source": [
    "# Ficheros, módulos y paquetes"
   ]
  },
  {
   "cell_type": "markdown",
   "metadata": {
    "slideshow": {
     "slide_type": "-"
    }
   },
   "source": [
    "![Save](img/save.png)\n",
    "\n",
    "En esta sección veremos cómo trabajar con *ficheros* en Python, y también cómo organizar nuestro código en *módulos* y *paquetes*, un nivel superior de jerarquía para estructurar mejor nuestros programas."
   ]
  },
  {
   "cell_type": "markdown",
   "metadata": {
    "slideshow": {
     "slide_type": "-"
    }
   },
   "source": [
    "> Icons made by <a href=\"https://www.flaticon.com/authors/smashicons\" title=\"Smashicons\">Smashicons</a> from <a href=\"https://www.flaticon.com/\" title=\"Flaticon\"> www.flaticon.com</a>"
   ]
  },
  {
   "cell_type": "markdown",
   "metadata": {
    "slideshow": {
     "slide_type": "slide"
    }
   },
   "source": [
    "## 📁 Ficheros\n",
    "\n",
    "Un **fichero** es una secuencia de bytes almacenados en algún *sistema de ficheros* y accesibles por un *nombre de fichero*. Un *directorio* (o *carpeta*) es una colección de ficheros, y probablemente de otros directorios.\n",
    "\n",
    "Muchos sistemas de ficheros son jerárquicos y a menudo nos referimos a ellos como *árbol de ficheros*."
   ]
  },
  {
   "cell_type": "markdown",
   "metadata": {
    "slideshow": {
     "slide_type": "-"
    }
   },
   "source": [
    "### Crear o abrir un fichero\n",
    "\n",
    "Python ofrece la función `open()` para realizar las siguientes acciones:\n",
    "- Leer contenido un fichero existente.\n",
    "- Escribir contenido en un nuevo fichero.\n",
    "- Añadir contenido a un fichero existente."
   ]
  },
  {
   "cell_type": "markdown",
   "metadata": {
    "slideshow": {
     "slide_type": "subslide"
    }
   },
   "source": [
    "![Open files](img/open-files.png)"
   ]
  },
  {
   "cell_type": "code",
   "execution_count": 2,
   "metadata": {
    "slideshow": {
     "slide_type": "subslide"
    }
   },
   "outputs": [],
   "source": [
    "fout = open('oops.txt', 'wt')"
   ]
  },
  {
   "cell_type": "code",
   "execution_count": 3,
   "metadata": {
    "slideshow": {
     "slide_type": "-"
    }
   },
   "outputs": [
    {
     "name": "stdout",
     "output_type": "stream",
     "text": [
      "-rw-r--r--@ 1 sdelquin  staff  0 15 oct 10:57 oops.txt\r\n"
     ]
    }
   ],
   "source": [
    "!ls -l oops.txt"
   ]
  },
  {
   "cell_type": "code",
   "execution_count": 4,
   "metadata": {
    "slideshow": {
     "slide_type": "-"
    }
   },
   "outputs": [
    {
     "data": {
      "text/plain": [
       "_io.TextIOWrapper"
      ]
     },
     "execution_count": 4,
     "metadata": {},
     "output_type": "execute_result"
    }
   ],
   "source": [
    "type(fout)"
   ]
  },
  {
   "cell_type": "markdown",
   "metadata": {
    "slideshow": {
     "slide_type": "-"
    }
   },
   "source": [
    "> Podemos ver que el manejador (handler) del fichero es un [buffer de texto](https://docs.python.org/3/library/io.html#io.TextIOWrapper)."
   ]
  },
  {
   "cell_type": "markdown",
   "metadata": {
    "slideshow": {
     "slide_type": "-"
    }
   },
   "source": [
    "Después de abrir un fichero necesitamos cerrarlo para asegurarnos que todas las operaciones de escritura pendientes (*buffers*) son ejecutadas. También permite liberar la memoria asociada al recurso."
   ]
  },
  {
   "cell_type": "code",
   "execution_count": 5,
   "metadata": {
    "slideshow": {
     "slide_type": "-"
    }
   },
   "outputs": [],
   "source": [
    "fout.close()"
   ]
  },
  {
   "cell_type": "markdown",
   "metadata": {
    "slideshow": {
     "slide_type": "subslide"
    }
   },
   "source": [
    "### Rutas relativas y absolutas\n",
    "\n",
    "Cuando tenemos que especificar la ruta a un fichero, ésta se puede indicar en forma relativa o absoluta:\n",
    "\n",
    "- Ruta **relativa**: es aquella que toma como referencia la carpeta actual de trabajo.\n",
    "- Ruta **absoluta**: es aquella que toma como referencia la raíz del sistema de ficheros.\n",
    "\n",
    "![Paths](img/paths.png)\n",
    "\n",
    "> En negro se muestra *rutas absolutas* y en rojo las *rutas relativas* (desde el punto en el que se encuentran)."
   ]
  },
  {
   "cell_type": "markdown",
   "metadata": {
    "slideshow": {
     "slide_type": "subslide"
    }
   },
   "source": [
    "### Escribir en un fichero de texto con redirección\n",
    "\n",
    "La función `print()` dispone de un argumento para indicar a qué \"*dispositivo\"* redirigir la salida:"
   ]
  },
  {
   "cell_type": "code",
   "execution_count": 6,
   "metadata": {
    "slideshow": {
     "slide_type": "-"
    }
   },
   "outputs": [],
   "source": [
    "fout = open('oops.txt', 'w')  # equivalente a 'wt'\n",
    "print('Oops, I created a file.', file=fout)\n",
    "fout.close()"
   ]
  },
  {
   "cell_type": "code",
   "execution_count": 7,
   "metadata": {
    "scrolled": true,
    "slideshow": {
     "slide_type": "-"
    }
   },
   "outputs": [
    {
     "name": "stdout",
     "output_type": "stream",
     "text": [
      "Oops, I created a file.\r\n"
     ]
    }
   ],
   "source": [
    "!cat oops.txt"
   ]
  },
  {
   "cell_type": "markdown",
   "metadata": {
    "slideshow": {
     "slide_type": "subslide"
    }
   },
   "source": [
    "### Escribir en un fichero de texto\n",
    "\n",
    "El método `write()` nos permite escribir texto en un fichero:"
   ]
  },
  {
   "cell_type": "code",
   "execution_count": 8,
   "metadata": {
    "slideshow": {
     "slide_type": "-"
    }
   },
   "outputs": [
    {
     "data": {
      "text/plain": [
       "47"
      ]
     },
     "execution_count": 8,
     "metadata": {},
     "output_type": "execute_result"
    }
   ],
   "source": [
    "msg = 'Oops, I am writing text through another method.'\n",
    "len(msg)"
   ]
  },
  {
   "cell_type": "code",
   "execution_count": 9,
   "metadata": {
    "slideshow": {
     "slide_type": "-"
    }
   },
   "outputs": [
    {
     "data": {
      "text/plain": [
       "47"
      ]
     },
     "execution_count": 9,
     "metadata": {},
     "output_type": "execute_result"
    }
   ],
   "source": [
    "fout = open('oops.txt', 'w')\n",
    "fout.write(msg)  # devuelve el número de bytes escritos"
   ]
  },
  {
   "cell_type": "code",
   "execution_count": 10,
   "metadata": {
    "slideshow": {
     "slide_type": "-"
    }
   },
   "outputs": [],
   "source": [
    "fout.close()"
   ]
  },
  {
   "cell_type": "code",
   "execution_count": 11,
   "metadata": {
    "scrolled": true,
    "slideshow": {
     "slide_type": "-"
    }
   },
   "outputs": [
    {
     "name": "stdout",
     "output_type": "stream",
     "text": [
      "Oops, I am writing text through another method."
     ]
    }
   ],
   "source": [
    "!cat oops.txt"
   ]
  },
  {
   "cell_type": "markdown",
   "metadata": {
    "slideshow": {
     "slide_type": "-"
    }
   },
   "source": [
    "> Hay que tener en cuenta que el método `write()` no añade salto de línea `\\n`. Si se quiere, hay que indicarlo explícitamente."
   ]
  },
  {
   "cell_type": "markdown",
   "metadata": {
    "slideshow": {
     "slide_type": "subslide"
    }
   },
   "source": [
    "### Leer un fichero de texto de una vez\n",
    "\n",
    "En primer lugar vamos a escribir un texto multilínea en un fichero para luego utilizarlo en los métodos de lectura:"
   ]
  },
  {
   "cell_type": "code",
   "execution_count": 12,
   "metadata": {
    "slideshow": {
     "slide_type": "-"
    }
   },
   "outputs": [],
   "source": [
    "lyrics = '''The lights go out and I can't be saved\n",
    "Tides that I tried to swim against\n",
    "Have brought me down upon my knees\n",
    "Oh I beg, I beg and plead, singing'''  # Clocks by Coldplay"
   ]
  },
  {
   "cell_type": "code",
   "execution_count": 13,
   "metadata": {
    "slideshow": {
     "slide_type": "-"
    }
   },
   "outputs": [],
   "source": [
    "fout = open('oops.txt', 'w')\n",
    "fout.write(lyrics)\n",
    "fout.close()"
   ]
  },
  {
   "cell_type": "markdown",
   "metadata": {
    "slideshow": {
     "slide_type": "-"
    }
   },
   "source": [
    "En este caso usamos el método `read()`:"
   ]
  },
  {
   "cell_type": "code",
   "execution_count": 14,
   "metadata": {
    "slideshow": {
     "slide_type": "-"
    }
   },
   "outputs": [],
   "source": [
    "fin = open('oops.txt', 'rt')\n",
    "loaded_lyrics = fin.read()\n",
    "fin.close()"
   ]
  },
  {
   "cell_type": "code",
   "execution_count": 15,
   "metadata": {
    "slideshow": {
     "slide_type": "-"
    }
   },
   "outputs": [
    {
     "data": {
      "text/plain": [
       "True"
      ]
     },
     "execution_count": 15,
     "metadata": {},
     "output_type": "execute_result"
    }
   ],
   "source": [
    "loaded_lyrics == lyrics  # coincide con los datos escritos"
   ]
  },
  {
   "cell_type": "markdown",
   "metadata": {
    "slideshow": {
     "slide_type": "subslide"
    }
   },
   "source": [
    "### `FileNotFoundError`\n",
    "\n",
    "Si vamos a abrir para lectura un fichero que no existe en el sistema de ficheros, obtendremos una excepción de tipo `FileNotFoundError`:"
   ]
  },
  {
   "cell_type": "code",
   "execution_count": 16,
   "metadata": {
    "scrolled": true,
    "slideshow": {
     "slide_type": "-"
    },
    "tags": [
     "raises-exception"
    ]
   },
   "outputs": [
    {
     "ename": "FileNotFoundError",
     "evalue": "[Errno 2] No such file or directory: 'foo.txt'",
     "output_type": "error",
     "traceback": [
      "\u001b[0;31m---------------------------------------------------------------------------\u001b[0m",
      "\u001b[0;31mFileNotFoundError\u001b[0m                         Traceback (most recent call last)",
      "\u001b[0;32m<ipython-input-16-7751b80c4ab1>\u001b[0m in \u001b[0;36m<module>\u001b[0;34m\u001b[0m\n\u001b[0;32m----> 1\u001b[0;31m \u001b[0mfin\u001b[0m \u001b[0;34m=\u001b[0m \u001b[0mopen\u001b[0m\u001b[0;34m(\u001b[0m\u001b[0;34m'foo.txt'\u001b[0m\u001b[0;34m,\u001b[0m \u001b[0;34m'rt'\u001b[0m\u001b[0;34m)\u001b[0m\u001b[0;34m\u001b[0m\u001b[0;34m\u001b[0m\u001b[0m\n\u001b[0m",
      "\u001b[0;31mFileNotFoundError\u001b[0m: [Errno 2] No such file or directory: 'foo.txt'"
     ]
    }
   ],
   "source": [
    "fin = open('foo.txt', 'rt')"
   ]
  },
  {
   "cell_type": "markdown",
   "metadata": {
    "slideshow": {
     "slide_type": "-"
    }
   },
   "source": [
    "Podemos manejar este error capturando la excepción asociada:"
   ]
  },
  {
   "cell_type": "code",
   "execution_count": 17,
   "metadata": {
    "slideshow": {
     "slide_type": "-"
    }
   },
   "outputs": [
    {
     "name": "stdout",
     "output_type": "stream",
     "text": [
      "⛔️ Check the path of the file!\n",
      "[Errno 2] No such file or directory: 'foo.txt'\n"
     ]
    }
   ],
   "source": [
    "try:\n",
    "    fin = open('foo.txt', 'rt')\n",
    "except FileNotFoundError as err:\n",
    "    print('⛔️ Check the path of the file!')\n",
    "    print(err)"
   ]
  },
  {
   "cell_type": "markdown",
   "metadata": {
    "slideshow": {
     "slide_type": "subslide"
    }
   },
   "source": [
    "### Leer un fichero de texto línea a línea\n",
    "\n",
    "Python ofrece el método `readline()` para leer de un fichero de texto únicamente *una línea de cada vez*:"
   ]
  },
  {
   "cell_type": "code",
   "execution_count": 18,
   "metadata": {
    "slideshow": {
     "slide_type": "-"
    }
   },
   "outputs": [],
   "source": [
    "lyrics = ''\n",
    "\n",
    "fin = open('oops.txt', 'r')  # equivalente a 'rt'\n",
    "\n",
    "while True:\n",
    "    line = fin.readline()  # si no hay más contenido devuelve cadena vacía ''\n",
    "    if not line:\n",
    "        break\n",
    "    lyrics += line\n",
    "\n",
    "fin.close()"
   ]
  },
  {
   "cell_type": "code",
   "execution_count": 19,
   "metadata": {
    "slideshow": {
     "slide_type": "-"
    }
   },
   "outputs": [
    {
     "name": "stdout",
     "output_type": "stream",
     "text": [
      "The lights go out and I can't be saved\n",
      "Tides that I tried to swim against\n",
      "Have brought me down upon my knees\n",
      "Oh I beg, I beg and plead, singing\n"
     ]
    }
   ],
   "source": [
    "print(lyrics)"
   ]
  },
  {
   "cell_type": "markdown",
   "metadata": {
    "slideshow": {
     "slide_type": "subslide"
    }
   },
   "source": [
    "### Leer un fichero de texto línea a línea (con iterador)\n",
    "\n",
    "El manejador (*handler*) del fichero es en sí mismo un *iterable*, con lo cual podemos recorrerlo de la manera habitual:"
   ]
  },
  {
   "cell_type": "code",
   "execution_count": 20,
   "metadata": {
    "slideshow": {
     "slide_type": "-"
    }
   },
   "outputs": [
    {
     "name": "stdout",
     "output_type": "stream",
     "text": [
      "\"The lights go out and I can't be saved\\n\"\n",
      "'Tides that I tried to swim against\\n'\n",
      "'Have brought me down upon my knees\\n'\n",
      "'Oh I beg, I beg and plead, singing'\n"
     ]
    }
   ],
   "source": [
    "fin = open('oops.txt', 'r')\n",
    "\n",
    "for line in fin:\n",
    "    print(repr(line))  # repr() muestra caracteres de control\n",
    "\n",
    "fin.close()"
   ]
  },
  {
   "cell_type": "markdown",
   "metadata": {
    "slideshow": {
     "slide_type": "-"
    }
   },
   "source": [
    "> OJO! Las líneas que leemos del fichero contienen los saltos de línea `\\n`"
   ]
  },
  {
   "cell_type": "markdown",
   "metadata": {
    "slideshow": {
     "slide_type": "subslide"
    }
   },
   "source": [
    "### Leer un fichero de texto como líneas separadas\n",
    "\n",
    "Existe una forma de leer un fichero de texto como una **lista de cadenas de texto** (*cada elemento de la lista es una línea del fichero*) utilizando el método `readlines()`:"
   ]
  },
  {
   "cell_type": "code",
   "execution_count": 21,
   "metadata": {
    "slideshow": {
     "slide_type": "-"
    }
   },
   "outputs": [],
   "source": [
    "fin = open('oops.txt')  # equivalente a 'r' == 'rt'\n",
    "lines = fin.readlines()\n",
    "fin.close()"
   ]
  },
  {
   "cell_type": "code",
   "execution_count": 22,
   "metadata": {
    "slideshow": {
     "slide_type": "-"
    }
   },
   "outputs": [
    {
     "name": "stdout",
     "output_type": "stream",
     "text": [
      "4 lines read\n"
     ]
    }
   ],
   "source": [
    "print(len(lines), 'lines read')"
   ]
  },
  {
   "cell_type": "code",
   "execution_count": 23,
   "metadata": {
    "scrolled": true,
    "slideshow": {
     "slide_type": "-"
    }
   },
   "outputs": [
    {
     "name": "stdout",
     "output_type": "stream",
     "text": [
      "The lights go out and I can't be saved\n",
      "Tides that I tried to swim against\n",
      "Have brought me down upon my knees\n",
      "Oh I beg, I beg and plead, singing"
     ]
    }
   ],
   "source": [
    "for line in lines:\n",
    "    print(line, end='')  # estamos quitando el salto de línea extra de \"print\""
   ]
  },
  {
   "cell_type": "markdown",
   "metadata": {
    "slideshow": {
     "slide_type": "-"
    }
   },
   "source": [
    "> Cuidado con este mecanismo cuando se están manejando ficheros muy grandes ya que todo el contenido del fichero se carga de una sola vez en memoria principal."
   ]
  },
  {
   "cell_type": "markdown",
   "metadata": {
    "slideshow": {
     "slide_type": "subslide"
    }
   },
   "source": [
    "### Cerrar automáticamente ficheros\n",
    "\n",
    "Python ofrece los [gestores de contexto](https://docs.python.org/3/reference/datamodel.html#context-managers) que permiten establecer reglas de entrada y salida al contexto definido. En el caso que nos ocupa usaremos la sentencia `with` y el contexto se ocupará de cerrar adecuadamente el fichero que hemos abierto, liberando así sus recursos:"
   ]
  },
  {
   "cell_type": "code",
   "execution_count": 24,
   "metadata": {
    "slideshow": {
     "slide_type": "-"
    }
   },
   "outputs": [],
   "source": [
    "with open('oops.txt', 'w') as fout:\n",
    "    fout.write('Writing within a context manager!')"
   ]
  },
  {
   "cell_type": "code",
   "execution_count": 25,
   "metadata": {
    "slideshow": {
     "slide_type": "-"
    }
   },
   "outputs": [
    {
     "name": "stdout",
     "output_type": "stream",
     "text": [
      "Writing within a context manager!"
     ]
    }
   ],
   "source": [
    "!cat oops.txt"
   ]
  },
  {
   "cell_type": "markdown",
   "metadata": {
    "slideshow": {
     "slide_type": "subslide"
    }
   },
   "source": [
    "### Forma \"canónica\" de leer un fichero (línea a línea)\n",
    "\n",
    "Con todo lo que hemos visto, la forma \"canónica\" (me atrevería a decir *pitónica*) de recorrer un fichero línea a línea sería la siguiente:"
   ]
  },
  {
   "cell_type": "code",
   "execution_count": 26,
   "metadata": {
    "slideshow": {
     "slide_type": "-"
    }
   },
   "outputs": [
    {
     "name": "stdout",
     "output_type": "stream",
     "text": [
      "Writing within a context manager!\n"
     ]
    }
   ],
   "source": [
    "with open('oops.txt') as f:\n",
    "    for line in f:\n",
    "        data = line.strip()  # remove blank chars (including linebreaks)\n",
    "        # process \"data\" in any way\n",
    "        print(data)"
   ]
  },
  {
   "cell_type": "markdown",
   "metadata": {
    "slideshow": {
     "slide_type": "subslide"
    }
   },
   "source": [
    "### 🎯 Ejercicio\n",
    "\n",
    "Dado el fichero [temperatures.txt](./files/temperatures.txt) con 12 líneas (*meses*) y temperaturas de cada día, se pide:\n",
    "\n",
    "1. Leer el fichero de datos.\n",
    "2. Calcular la temperatura media de cada mes.\n",
    "3. Escribir un fichero de salida `avgtemps.txt` con 12 líneas (*meses*) y la temperatura media de cada mes.\n",
    "\n",
    "&nbsp;\n",
    "\n",
    "> Para saber en qué carpeta está trabajando puede usar estos comandos desde Jupyter Notebook:\n",
    "- `!echo %cd%` (*Windows*)\n",
    "- `!pwd` (*Linux, Mac*)"
   ]
  },
  {
   "cell_type": "markdown",
   "metadata": {
    "slideshow": {
     "slide_type": "-"
    }
   },
   "source": [
    "<hr>\n",
    "\n",
    "**📎 Posible solución:** [solutions/avgtemps.py](solutions/avgtemps.py)"
   ]
  },
  {
   "cell_type": "code",
   "execution_count": 27,
   "metadata": {
    "slideshow": {
     "slide_type": "skip"
    }
   },
   "outputs": [],
   "source": [
    "# Escriba aquí su solución"
   ]
  },
  {
   "cell_type": "code",
   "execution_count": 28,
   "metadata": {
    "slideshow": {
     "slide_type": "skip"
    }
   },
   "outputs": [],
   "source": [
    "# %load \"solutions/avgtemps.py\""
   ]
  },
  {
   "cell_type": "markdown",
   "metadata": {
    "slideshow": {
     "slide_type": "slide"
    }
   },
   "source": [
    "## 🧩 Módulos\n",
    "\n",
    "Es una certeza que, más pronto que tarde, usaremos código Python en más de un fichero. Un **módulo** es simplemente un fichero con código Python. No se necesita hacer nada especial. Cualquier código Python se puede usar como un módulo por otros."
   ]
  },
  {
   "cell_type": "markdown",
   "metadata": {
    "slideshow": {
     "slide_type": "-"
    }
   },
   "source": [
    "Para hacer uso del código de otros módulos usaremos la sentencia `import`. Esto permite importar el código y las variables de dicho módulo para que estén disponibles en tu programa."
   ]
  },
  {
   "cell_type": "markdown",
   "metadata": {
    "slideshow": {
     "slide_type": "subslide"
    }
   },
   "source": [
    "### Importar un módulo\n",
    "\n",
    "La forma más sencilla de importar un módulo es `import <module>` donde *module* es el nombre de otro fichero Python, sin la extensión `.py`.\n",
    "\n",
    "Veamos un breve ejemplo haciendo uso de la librería de *valores aleatorios* de Python:"
   ]
  },
  {
   "cell_type": "code",
   "execution_count": 29,
   "metadata": {
    "slideshow": {
     "slide_type": "-"
    }
   },
   "outputs": [],
   "source": [
    "# %load \"files/fast.py\"\n",
    "from random import choice\n",
    "\n",
    "places = [\n",
    "    'McDonalds', 'KFC', 'Burger King', 'Taco Bell', 'Wendys', 'Arbys',\n",
    "    'Pizza Hut'\n",
    "]\n",
    "\n",
    "\n",
    "def pick():\n",
    "    ''' Return random fast food place'''\n",
    "    return choice(places)\n"
   ]
  },
  {
   "cell_type": "code",
   "execution_count": 30,
   "metadata": {
    "slideshow": {
     "slide_type": "subslide"
    }
   },
   "outputs": [
    {
     "ename": "ModuleNotFoundError",
     "evalue": "No module named 'fast'",
     "output_type": "error",
     "traceback": [
      "\u001b[0;31m---------------------------------------------------------------------------\u001b[0m",
      "\u001b[0;31mModuleNotFoundError\u001b[0m                       Traceback (most recent call last)",
      "\u001b[0;32m<ipython-input-30-c2a2198764e9>\u001b[0m in \u001b[0;36m<module>\u001b[0;34m\u001b[0m\n\u001b[1;32m      1\u001b[0m \u001b[0;31m# %load \"files/lunch.py\"\u001b[0m\u001b[0;34m\u001b[0m\u001b[0;34m\u001b[0m\u001b[0;34m\u001b[0m\u001b[0m\n\u001b[0;32m----> 2\u001b[0;31m \u001b[0;32mimport\u001b[0m \u001b[0mfast\u001b[0m\u001b[0;34m\u001b[0m\u001b[0;34m\u001b[0m\u001b[0m\n\u001b[0m\u001b[1;32m      3\u001b[0m \u001b[0;34m\u001b[0m\u001b[0m\n\u001b[1;32m      4\u001b[0m \u001b[0mplace\u001b[0m \u001b[0;34m=\u001b[0m \u001b[0mfast\u001b[0m\u001b[0;34m.\u001b[0m\u001b[0mpick\u001b[0m\u001b[0;34m(\u001b[0m\u001b[0;34m)\u001b[0m\u001b[0;34m\u001b[0m\u001b[0;34m\u001b[0m\u001b[0m\n\u001b[1;32m      5\u001b[0m \u001b[0mprint\u001b[0m\u001b[0;34m(\u001b[0m\u001b[0;34m\"Let's go to\"\u001b[0m\u001b[0;34m,\u001b[0m \u001b[0mplace\u001b[0m\u001b[0;34m)\u001b[0m\u001b[0;34m\u001b[0m\u001b[0;34m\u001b[0m\u001b[0m\n",
      "\u001b[0;31mModuleNotFoundError\u001b[0m: No module named 'fast'"
     ]
    }
   ],
   "source": [
    "# %load \"files/lunch.py\"\n",
    "import fast\n",
    "\n",
    "place = fast.pick()\n",
    "print(\"Let's go to\", place)\n"
   ]
  },
  {
   "cell_type": "markdown",
   "metadata": {
    "slideshow": {
     "slide_type": "-"
    }
   },
   "source": [
    "Ejecución del programa principal:"
   ]
  },
  {
   "cell_type": "code",
   "execution_count": null,
   "metadata": {
    "slideshow": {
     "slide_type": "-"
    }
   },
   "outputs": [],
   "source": [
    "%run \"files/lunch.py\""
   ]
  },
  {
   "cell_type": "code",
   "execution_count": null,
   "metadata": {
    "slideshow": {
     "slide_type": "-"
    }
   },
   "outputs": [],
   "source": [
    "%run \"files/lunch.py\""
   ]
  },
  {
   "cell_type": "code",
   "execution_count": null,
   "metadata": {
    "slideshow": {
     "slide_type": "-"
    }
   },
   "outputs": [],
   "source": [
    "%run \"files/lunch.py\""
   ]
  },
  {
   "cell_type": "markdown",
   "metadata": {
    "slideshow": {
     "slide_type": "subslide"
    }
   },
   "source": [
    "### Reglas de estilo al importar módulos\n",
    "\n",
    "La [guía de estilo de Python (PEP8)](https://www.python.org/dev/peps/pep-0008/#imports) establece una serie de recomendaciones a la hora de importar módulos, entre las que destaco:\n",
    "\n",
    "1. Importar módulos en distintas líneas.\n",
    "2. Importar módulos al principio del fichero con un orden:\n",
    "    1. Librería estándar.\n",
    "    2. Librerías de terceros.\n",
    "    3. Librerías propias.\n",
    "3. Evitar importar con comodines (`*`)"
   ]
  },
  {
   "cell_type": "markdown",
   "metadata": {
    "slideshow": {
     "slide_type": "subslide"
    }
   },
   "source": [
    "### Importar un módulo con otro nombre\n",
    "\n",
    "Por cuestiones de legibilidad o de colisión de nombres, es posible que queramos importar un módulo con un nombre diferente al que tiene. Para ello podemos utilizar la sentencia `as` indicando el nombre deseado:"
   ]
  },
  {
   "cell_type": "code",
   "execution_count": null,
   "metadata": {
    "slideshow": {
     "slide_type": "-"
    }
   },
   "outputs": [],
   "source": [
    "# %load \"files/fast2.py\"\n",
    "import fast as f\n",
    "\n",
    "place = f.pick()\n",
    "print(\"Let's go to\", place)\n"
   ]
  },
  {
   "cell_type": "code",
   "execution_count": null,
   "metadata": {
    "slideshow": {
     "slide_type": "-"
    }
   },
   "outputs": [],
   "source": [
    "%run \"files/fast2.py\""
   ]
  },
  {
   "cell_type": "code",
   "execution_count": null,
   "metadata": {
    "slideshow": {
     "slide_type": "-"
    }
   },
   "outputs": [],
   "source": [
    "%run \"files/fast2.py\""
   ]
  },
  {
   "cell_type": "markdown",
   "metadata": {
    "slideshow": {
     "slide_type": "subslide"
    }
   },
   "source": [
    "### Importa sólo lo que necesites\n",
    "\n",
    "Tenemos la posibilidad de importar un módulo completo o bien sólo partes de él.  Veamos un ejemplo:"
   ]
  },
  {
   "cell_type": "code",
   "execution_count": null,
   "metadata": {
    "slideshow": {
     "slide_type": "-"
    }
   },
   "outputs": [],
   "source": [
    "# %load \"files/fast3.py\"\n",
    "from fast import pick\n",
    "\n",
    "place = pick()\n",
    "print(\"Let's go to\", place)\n"
   ]
  },
  {
   "cell_type": "code",
   "execution_count": null,
   "metadata": {
    "slideshow": {
     "slide_type": "-"
    }
   },
   "outputs": [],
   "source": [
    "%run \"files/fast3.py\""
   ]
  },
  {
   "cell_type": "code",
   "execution_count": null,
   "metadata": {
    "scrolled": true,
    "slideshow": {
     "slide_type": "-"
    }
   },
   "outputs": [],
   "source": [
    "%run \"files/fast3.py\""
   ]
  },
  {
   "cell_type": "markdown",
   "metadata": {
    "slideshow": {
     "slide_type": "slide"
    }
   },
   "source": [
    "## 📦 Paquetes\n",
    "\n",
    "Un **paquete** es simplemente un subdirectorio que contiene ficheros `.py`. Permite tener jerarquía con más de un nivel de directorios anidados."
   ]
  },
  {
   "cell_type": "markdown",
   "metadata": {
    "slideshow": {
     "slide_type": "-"
    }
   },
   "source": [
    "Vamos a crear un paquete `choices` ampliando el ejemplo anterior:"
   ]
  },
  {
   "cell_type": "markdown",
   "metadata": {
    "slideshow": {
     "slide_type": "-"
    }
   },
   "source": [
    "![Package](img/package.png)"
   ]
  },
  {
   "cell_type": "code",
   "execution_count": null,
   "metadata": {
    "slideshow": {
     "slide_type": "subslide"
    }
   },
   "outputs": [],
   "source": [
    "# %load \"files/choices/fast.py\"\n",
    "from random import choice\n",
    "\n",
    "places = [\n",
    "    'McDonalds', 'KFC', 'Burger King', 'Taco Bell', 'Wendys', 'Arbys',\n",
    "    'Pizza Hut'\n",
    "]\n",
    "\n",
    "\n",
    "def pick():\n",
    "    ''' Return random fast food place'''\n",
    "    return choice(places)\n"
   ]
  },
  {
   "cell_type": "code",
   "execution_count": null,
   "metadata": {
    "slideshow": {
     "slide_type": "-"
    }
   },
   "outputs": [],
   "source": [
    "# %load \"files/choices/advice.py\"\n",
    "from random import choice\n",
    "\n",
    "answers = ['Yes!', 'No!', 'Reply hazy', 'Sorry, what?']\n",
    "\n",
    "\n",
    "def give():\n",
    "    '''Return random advice'''\n",
    "    return choice(answers)\n"
   ]
  },
  {
   "cell_type": "code",
   "execution_count": null,
   "metadata": {
    "slideshow": {
     "slide_type": "-"
    }
   },
   "outputs": [],
   "source": [
    "# %load \"files/questions.py\"\n",
    "from choices import fast, advice\n",
    "\n",
    "print(\"Let's go to\", fast.pick())\n",
    "print('Should we take out?', advice.give())\n"
   ]
  },
  {
   "cell_type": "markdown",
   "metadata": {
    "slideshow": {
     "slide_type": "subslide"
    }
   },
   "source": [
    "Veamos la ejecución del programa principal:"
   ]
  },
  {
   "cell_type": "code",
   "execution_count": null,
   "metadata": {
    "slideshow": {
     "slide_type": "-"
    }
   },
   "outputs": [],
   "source": [
    "%run \"files/questions.py\""
   ]
  },
  {
   "cell_type": "code",
   "execution_count": null,
   "metadata": {
    "slideshow": {
     "slide_type": "-"
    }
   },
   "outputs": [],
   "source": [
    "%run \"files/questions.py\""
   ]
  },
  {
   "cell_type": "code",
   "execution_count": null,
   "metadata": {
    "scrolled": true,
    "slideshow": {
     "slide_type": "-"
    }
   },
   "outputs": [],
   "source": [
    "%run \"files/questions.py\""
   ]
  },
  {
   "cell_type": "markdown",
   "metadata": {
    "slideshow": {
     "slide_type": "-"
    }
   },
   "source": [
    "> En versiones anteriores a Python 3.3 era necesario incluir un fichero en blanco llamado `__init__.py` dentro del directorio para que el paquete fuera reconocible."
   ]
  },
  {
   "cell_type": "markdown",
   "metadata": {
    "slideshow": {
     "slide_type": "subslide"
    }
   },
   "source": [
    "### La ruta de búsqueda de módulos\n",
    "\n",
    "En el ejemplo anterior hemos visto que Python busca en el directorio actual por paquetes a los que hagamos referencia en nuestro código. Pero existen otras rutas que usa para ello. De hecho los módulos de la librería estándar no están en nuestro directorio de trabajo pero sí podemos usarlas.\n",
    "\n",
    "Veamos cómo acceder, e incluso modificar, las ruta de búsqueda de módulos:"
   ]
  },
  {
   "cell_type": "code",
   "execution_count": null,
   "metadata": {
    "slideshow": {
     "slide_type": "-"
    }
   },
   "outputs": [],
   "source": [
    "import sys\n",
    "\n",
    "for place in sys.path:\n",
    "    print(place)"
   ]
  },
  {
   "cell_type": "markdown",
   "metadata": {
    "slideshow": {
     "slide_type": "-"
    }
   },
   "source": [
    "> La línea en blanco hace referencia al directorio actual."
   ]
  },
  {
   "cell_type": "markdown",
   "metadata": {
    "slideshow": {
     "slide_type": "subslide"
    }
   },
   "source": [
    "El *orden* de `sys.path` es importante, ya que Python buscará el módulo referenciado empezando por el primer elemento de esta lista. Esto significa que si queremos importar un módulo `lucky` que, por casualidad, ya está definido en alguna ruta previa, no podremos usarlo."
   ]
  },
  {
   "cell_type": "markdown",
   "metadata": {
    "slideshow": {
     "slide_type": "-"
    }
   },
   "source": [
    "Sin embargo es posible modificar la ruta de búsqueda desde nuestro código. Supongamos que queremos que Python busque en la ruta `/home/sergio/dev` antes que en ninguna otra:"
   ]
  },
  {
   "cell_type": "markdown",
   "metadata": {
    "slideshow": {
     "slide_type": "-"
    }
   },
   "source": [
    "~~~python\n",
    ">>> import sys\n",
    "\n",
    ">>> sys.path.insert(0, '/home/sergio/dev')\n",
    "~~~"
   ]
  },
  {
   "cell_type": "markdown",
   "metadata": {
    "slideshow": {
     "slide_type": "subslide"
    }
   },
   "source": [
    "### Importaciones absolutas y relativas\n",
    "\n",
    "Python soporta importaciones *absolutas* y *relativas*. Hasta ahora todos los ejemplos que hemos visto han usado importaciones absolutas. Si escribimos `import basics` Python buscará un fichero llamado `basics.py` (*módulo*) o un directorio llamado `basics` (*paquete*).\n",
    "\n",
    "Pero podemos utilizar la notación `.` y `..` para hacer referencia a ubicaciones (*rutas*) relativas a nuestro código actual:\n",
    "\n",
    "- Si se encuentra en el directorio actual:  \n",
    "`from . import basics`\n",
    "- Si se encuentra en el directorio superior:  \n",
    "`from .. import basics`\n",
    "- Si se encuentra en un directorio hermano del superior:  \n",
    "`from ..utils import basics`"
   ]
  },
  {
   "cell_type": "markdown",
   "metadata": {
    "slideshow": {
     "slide_type": "-"
    }
   },
   "source": [
    "> La notación `.` y `..` proviene de los atajos Unix con los que se representaban el directorio actual y el directorio superior."
   ]
  },
  {
   "cell_type": "markdown",
   "metadata": {
    "slideshow": {
     "slide_type": "slide"
    }
   },
   "source": [
    "## 🔶 Programa principal\n",
    "\n",
    "Cuando se pide hacer un programa en Python, solemos tener un programa principal que contiene el **punto de entrada** de la ejecución. A partir de ahí se puede hacer uso de recursos en ese mismo fichero o en cualquier otra librería (paquete) que tengamos a nuestra disposición.\n",
    "\n",
    "~~~python\n",
    "# stdlib imports\n",
    "# third party imports (pip install ...)\n",
    "# custom imports\n",
    "\n",
    "class ClassA:\n",
    "    ...\n",
    "\n",
    "class ClassB:\n",
    "    ...\n",
    "\n",
    "def func_a():\n",
    "    ...\n",
    "\n",
    "def func_b():\n",
    "    ...\n",
    "\n",
    "if __name__ == '__main__':\n",
    "    obj1 = ClassA()\n",
    "    obj2 = ClassB()\n",
    "    aux = obj1 + obj2\n",
    "    result = func_a(obj1) + func_b(obj2)\n",
    "    print(result)\n",
    "~~~"
   ]
  },
  {
   "cell_type": "markdown",
   "metadata": {
    "slideshow": {
     "slide_type": "subslide"
    }
   },
   "source": [
    "### `if __name__ == '__main__'`\n",
    "\n",
    "Esta condición permite, en el programa principal, diferenciar qué codigo se lanzará cuando el fichero se ejecuta directamente o cuando el fichero se importa desde otro código:\n",
    "\n",
    "![if-name-main](img/if-name-main.png)"
   ]
  },
  {
   "cell_type": "markdown",
   "metadata": {
    "slideshow": {
     "slide_type": "subslide"
    }
   },
   "source": [
    "### 🎯 Ejercicio\n",
    "\n",
    "Escriba un programa que lea un número variable de enteros por línea de comandos y devuelva los siguientes cálculos: *suma, máximo, mínimo, media y desviación típica*.\n",
    "\n",
    "![xmath](img/xmath.png)\n",
    "\n",
    "> Cree los ficheros tal y como se indican en la figura, haciendo las importaciones necesarias."
   ]
  },
  {
   "cell_type": "markdown",
   "metadata": {
    "slideshow": {
     "slide_type": "-"
    }
   },
   "source": [
    "<hr>\n",
    "\n",
    "**📎 Posible solución:** [solutions/main.py](solutions/main.py) | [solutions/xmath.py](solutions/xmath.py)"
   ]
  },
  {
   "cell_type": "code",
   "execution_count": null,
   "metadata": {
    "slideshow": {
     "slide_type": "skip"
    }
   },
   "outputs": [],
   "source": [
    "# Escriba aquí su solución"
   ]
  },
  {
   "cell_type": "code",
   "execution_count": null,
   "metadata": {
    "slideshow": {
     "slide_type": "skip"
    }
   },
   "outputs": [],
   "source": [
    "# %load \"solutions/main.py\""
   ]
  },
  {
   "cell_type": "code",
   "execution_count": null,
   "metadata": {
    "slideshow": {
     "slide_type": "skip"
    }
   },
   "outputs": [],
   "source": [
    "# %load \"solutions/xmath.py\""
   ]
  },
  {
   "cell_type": "markdown",
   "metadata": {
    "slideshow": {
     "slide_type": "slide"
    }
   },
   "source": [
    "## 🐍 Tutoriales de Real Python\n",
    "\n",
    "- [Defining Main Functions in Python](https://realpython.com/courses/python-main-function/)\n",
    "- [Python Modules and Packages: An Introduction](https://realpython.com/courses/python-modules-packages/)\n",
    "- [Absolute vs Relative Imports in Python](https://realpython.com/courses/absolute-vs-relative-imports-python/)\n",
    "- [Reading and Writing Files in Python](https://realpython.com/courses/reading-and-writing-files-python/)\n",
    "- [Python Context Managers and the \"with\" Statement](https://realpython.com/courses/python-context-managers-and-with-statement/)\n",
    "- [Running Python Scripts](https://realpython.com/courses/running-python-scripts/)\n",
    "- [Writing Beautiful Pythonic Code With PEP 8](https://realpython.com/courses/writing-beautiful-python-code-pep-8/)\n",
    "- [Python Imports 101](https://realpython.com/courses/python-imports-101/)"
   ]
  }
 ],
 "metadata": {
  "celltoolbar": "Slideshow",
  "kernelspec": {
   "display_name": "Python 3",
   "language": "python",
   "name": "python3"
  },
  "language_info": {
   "codemirror_mode": {
    "name": "ipython",
    "version": 3
   },
   "file_extension": ".py",
   "mimetype": "text/x-python",
   "name": "python",
   "nbconvert_exporter": "python",
   "pygments_lexer": "ipython3",
   "version": "3.8.0"
  }
 },
 "nbformat": 4,
 "nbformat_minor": 2
}
