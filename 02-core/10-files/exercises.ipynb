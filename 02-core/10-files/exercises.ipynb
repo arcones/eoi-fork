{
 "cells": [
  {
   "cell_type": "code",
   "execution_count": 1,
   "metadata": {},
   "outputs": [
    {
     "data": {
      "text/html": [
       "<style>/* title of columns */\n",
       "table thead th {\n",
       "    font-size: 1.2em !important;\n",
       "    padding-top: 0.2em !important;\n",
       "    padding-bottom: 0.2em !important;\n",
       "    text-align: left !important;\n",
       "}\n",
       "\n",
       "/* title of rows */\n",
       "table tbody th {\n",
       "    font-size: 1.2em !important;\n",
       "    background: rgba(199, 199, 199, 0.356) !important;\n",
       "    border: 1px solid black !important;\n",
       "    text-align: left !important;\n",
       "}\n",
       "\n",
       "/* style for each cell */\n",
       "table td {\n",
       "    font-size: 1.15em !important;\n",
       "    border: 1px solid black !important;\n",
       "    text-align: left !important;\n",
       "}\n",
       "\n",
       "/* disable zebra-style */\n",
       "table tbody tr {\n",
       "    background: white !important;\n",
       "}\n",
       "\n",
       "/* row color on hover */\n",
       "table tbody tr:hover {\n",
       "    background: rgba(43, 137, 226, 0.144) !important;\n",
       "}\n",
       "\n",
       "/* SLIDES */\n",
       ".slides table td {\n",
       "    font-size: 15pt !important;\n",
       "}\n",
       "\n",
       ".slides table th {\n",
       "    font-size: 15pt !important;\n",
       "}\n",
       "\n",
       ".slides img {\n",
       "    margin-left: auto !important;\n",
       "    margin-right: auto !important;\n",
       "}\n",
       "\n",
       ".slides blockquote {\n",
       "    margin: 0 !important;\n",
       "    box-shadow: none !important;\n",
       "    width: 100% !important;\n",
       "    border-left: 5px solid lightgray !important;\n",
       "    color: #284d71 !important;\n",
       "    padding: 0 0 0 10px !important;\n",
       "    background-color: #f9f9f9 !important;\n",
       "    font-size: 20px !important;\n",
       "}\n",
       "\n",
       ".slides blockquote p {\n",
       "    margin: 10px 0 10px 0 !important;\n",
       "}\n",
       "</style>"
      ],
      "text/plain": [
       "<IPython.core.display.HTML object>"
      ]
     },
     "execution_count": 1,
     "metadata": {},
     "output_type": "execute_result"
    }
   ],
   "source": [
    "from IPython.display import HTML\n",
    "from pathlib import Path\n",
    "\n",
    "css_rules = Path('../custom.css').read_text()\n",
    "HTML('<style>' + css_rules + '</style>')"
   ]
  },
  {
   "cell_type": "markdown",
   "metadata": {},
   "source": [
    "# 🎯 Ejercicios\n",
    "\n",
    "Fuente: [The Python Workbook](https://www.springer.com/gp/book/9783030188726)"
   ]
  },
  {
   "cell_type": "markdown",
   "metadata": {},
   "source": [
    "---\n",
    "\n",
    "### 📣 NOTA:\n",
    "\n",
    "1. Cuando los ejercicios hablen de solicitar datos al usuario, pueden utilizar `sys.argv` para leer estos datos por línea de comandos.\n",
    "2. Cree las funciones que considere necesarias en cada ejercicio.\n",
    "\n",
    "---"
   ]
  },
  {
   "cell_type": "markdown",
   "metadata": {},
   "source": [
    "## Cabecera de un fichero\n",
    "\n",
    "Los sistemas operativos basados en Unix disponen de una herramienta denominada `head`. Muestra las primeras 10 líneas de un fichero proporcionado por línea de comandos. Escriba un programa Python que aporte el mismo comportamiento. Muestre un mensaje de eror si el fichero aportado por el usuario no existe o si el parámetro por línea de comandos se omite."
   ]
  },
  {
   "cell_type": "markdown",
   "metadata": {},
   "source": [
    "## Cola de un fichero\n",
    "\n",
    "Los sistemas operativos basados en Unix disponen de una herramienta denominada `tail`. Muestra las últimas 10 líneas de un fichero proporcionado por línea de comandos. Escriba un programa Python que aporte el mismo comportamiento. Muestre un mensaje de eror si el fichero aportado por el usuario no existe o si el parámetro por línea de comandos se omite.\n",
    "\n",
    "Hay varias aproximaciones para resolver este problema. Una opción es cargar todo el contenido del fichero en una lista y luego mostrar los últimos 10 elementos. Otra opción es leer el contenido del fichero dos veces, una vez para contar las líneas y una segunda vez para mostrar las últimas 10 líneas. Sin embargo ninguno de estas soluciones es deseable cuando trabajamos con ficheros grandes. Existe otra solución que sólo requiere leer el fichero una vez y sólo requiere almacenar 10 líneas del fichero de una vez. Como un reto añadido, desarrolle esta solución."
   ]
  },
  {
   "cell_type": "markdown",
   "metadata": {},
   "source": [
    "## Concatenar múltiples ficheros\n",
    "\n",
    "Los sistemas operativos basados en Unix disponen de una herramienta denominada `cat` (de *concatenate*). Su propósito es concatenar y mostrar uno o más ficheros cuyos nombres se pasan como parámetros. Los ficheros se muestran en el mismo orden que aparecen en la línea de comandos.\n",
    "\n",
    "Cree un programa Python que realice esta tarea. Debería generar un mensaje apropiado de error para cualquier fichero que no se pueda mostrar, y luego proceder con el siguiente fichero. Muestre un mensaje de error apropiado si su programa se lanza sin ningún parámetro en línea de comandos."
   ]
  },
  {
   "cell_type": "markdown",
   "metadata": {},
   "source": [
    "## Números de líneas\n",
    "\n",
    "Cree un programa que añada números de línea a un fichero. El nombre del fichero de entrada se leerá del usuario y será el nombre del nuevo fichero que creará su programa. Cada línea en el fichero de salida debería empezar con el número de línea, seguido por dos puntos y un espacio, seguido por la línea del fichero de entrada."
   ]
  },
  {
   "cell_type": "markdown",
   "metadata": {},
   "source": [
    "## Palabra más larga\n",
    "\n",
    "En este ejercicio usted creará un programa Python que identifique la palabra(s) más larga(s) dentro de un fichero. Su programa debería mostrar un mensaje apropiado que incluya la longitud de la palabra más larga, junto con todas las palabras de esa longitud que aparecen en el fichero. Trate cualquier grupo de caracteres que no sean espacios en blanco como una palabra, incluso si incluye números o signos de puntuación."
   ]
  },
  {
   "cell_type": "markdown",
   "metadata": {},
   "source": [
    "## Frecuencia de letras\n",
    "\n",
    "Escriba un programa que determine y muestre las frecuencias de todas las palabras en un fichero. Ignore los espacios, signos de puntuación y números. Su programa debería tratar por igual mayúsculas y minúsculas, tratando la `a` y la `A` como equivalentes. El usuario proporcionará el nombre del fichero como un parámetro en línea de comandos. Su programa debería mostrar un mensaje de error significativo si el usuario proporciona un número incorrecto de parámetros por línea de comandos o si el programa es incapaz de abrir el fichero indicado por el usuario."
   ]
  },
  {
   "cell_type": "markdown",
   "metadata": {},
   "source": [
    "## Borrar comentarios\n",
    "\n",
    "Python usa el carácter `#` para indicar el comienzo de un comentario. El comentario termina al final de la línea que contiene el carácter `#`. En este ejercicio, usted creará un programa que elimine todos los comentarios de un fichero fuente de Python. Compruebe cada línea del fichero para saber si hay un caracter `#`. Si es así su programa debería borrar todos los caracteres desde `#` hasta el final de la línea (ignoraremos la situación donde el carácter de comentario ocurra dentro de una cadena de texto). Guarde el fichero modificado usando un nuevo nombre que será introducido por el usuario. El usuario también introducirá el nombre del fichero de entrada. Asegúrese de mostrar un mensaje apropiado de error si se encuentra algún error en el acceso a los ficheros."
   ]
  },
  {
   "cell_type": "markdown",
   "metadata": {},
   "source": [
    "## Elementos químicos\n",
    "\n",
    "Dado [este fichero](files/chemical.csv) con los elementos químicos de la tabla periódica con *número atómico, símbolo y nombre* en cada línea, escriba un programa que lea esta información y la almacene en una estructura de datos apropiada. Luego su programa debería leer del usuario alguna de estas opciones:\n",
    "- Si el usuario introduce en entero, se entiende que es el número atómico y su programa debería mostrar el símbolo y el nombre del elemento químico.\n",
    "- Si el usuario introduce un string, se entiende que puede ser el símbolo o el nombre, y su programa debería mostrar el número atómico de ese símbolo o nombre de elemento químico.\n",
    "Su programa debería mostrar un mensaje apropiado de error si no existe ningún elemento con el nombre, símbolo o número atómico proporcionado."
   ]
  },
  {
   "cell_type": "markdown",
   "metadata": {},
   "source": [
    "## Proporción de palabras\n",
    "\n",
    "Escriba un programa que lea una lista de palabras de un fichero y determine qué proporción de las palabras usan cada letra del alfabeto. Muestre el resultado para todas las letras del alfabeto. Incluya un mensaje adicional identificando la letra que se usa en menor y en mayor proporción. Su programa debería ignorar cualquier signo de puntuación y debería tratar letras en mayúsculas y minúsculas como equivalentes."
   ]
  },
  {
   "cell_type": "markdown",
   "metadata": {},
   "source": [
    "## Información sensible\n",
    "\n",
    "A menudo la información sensible se elimina o se oculta de ciertos documentos antes de hacerlos públicos. En este ejercicio escribirá un programa que reemplace todas las ocurrencias de determinadas palabras sensibles por asteriscos. Su programa debería hacer estos cambios incluso si las palabas aparecen en medio de otra palabra. La lista de palabras sensibles serán aportadas en un fichero aparte. Guarde la versión editada en un nuevo fichero. Los nombres del fichero original, del fichero de palabras sensibles y del fichero de salida serán introducidos por el usuario."
   ]
  }
 ],
 "metadata": {
  "kernelspec": {
   "display_name": "Python 3",
   "language": "python",
   "name": "python3"
  },
  "language_info": {
   "codemirror_mode": {
    "name": "ipython",
    "version": 3
   },
   "file_extension": ".py",
   "mimetype": "text/x-python",
   "name": "python",
   "nbconvert_exporter": "python",
   "pygments_lexer": "ipython3",
   "version": "3.8.0"
  }
 },
 "nbformat": 4,
 "nbformat_minor": 2
}
