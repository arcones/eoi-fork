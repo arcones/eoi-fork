{
 "cells": [
  {
   "cell_type": "markdown",
   "metadata": {},
   "source": [
    "# 🎯 Ejercicios\n",
    "\n",
    "Fuente: [The Python Workbook](https://www.springer.com/gp/book/9783030188726)"
   ]
  },
  {
   "cell_type": "markdown",
   "metadata": {},
   "source": [
    "## Área de una habitación\n",
    "\n",
    "Escriba un programa que pida al usuario el ancho y el largo de una habitación. Una vez leídos estos valores su programa debería calcular y mostar el área de la habitación. La longitud y el ancho serán introducidos como valores flotantes.\n",
    "\n",
    "💡 Puedes ver aquí [la solución que yo propongo](solutions/exercises/room.py)."
   ]
  },
  {
   "cell_type": "markdown",
   "metadata": {},
   "source": [
    "## Área de un terreno\n",
    "\n",
    "Cree un programa que lea la longitud y el ancho (en \"pies\") de un trozo de terreno agrícola. Muestre el área de este terreno en *acres*.\n",
    "\n",
    "💡 Puedes ver aquí [la solución que yo propongo](solutions/exercises/field.py)."
   ]
  },
  {
   "cell_type": "markdown",
   "metadata": {},
   "source": [
    "## Reciclado de botellas\n",
    "\n",
    "En ciertas regiones la administración devuelve a los compradores una cantidad por reciclar botellas. Supongamos que se pagan 0.10€ por cada botella de 1 litro o menos, y se pagan 0.25€ por cada botella de más de 1 litro.\n",
    "\n",
    "Escriba un programa que lea el número de botellas de cada tamaño. El programa debería computar y mostrar reembolso total por dichas botellas.\n",
    "\n",
    "💡 Puedes ver aquí [la solución que yo propongo](solutions/exercises/bottles.py)."
   ]
  },
  {
   "cell_type": "markdown",
   "metadata": {},
   "source": [
    "## Tasas y propinas\n",
    "\n",
    "El programa que cree para este ejercicio empezará leyendo el importe que ha pagado un usuario por una comida en un restaurante. Use el 7% de IGIC para computar el impuesto. Calcule la propina como el 5% de la cantidad de la comida (sin el impuesto). La salida del programa debería incluir la cantidad de impuestos, la cantidad de propina y el coste total de la comida incluyendo tanto el impuesto como la propina.\n",
    "\n",
    "💡 Puedes ver aquí [la solución que yo propongo](solutions/exercises/tip.py)."
   ]
  },
  {
   "cell_type": "markdown",
   "metadata": {},
   "source": [
    "## Suma de los $n$ primeros números positivos\n",
    "\n",
    "Escriba un programa que lea un número entero positivo $n$ del usuario y muestre la suma de todos los enteros desde 1 hasta $n$. La suma de los primeros $n$ números enteros positivos se puede calcular con la siguiente fórmula:\n",
    "\n",
    "$$\n",
    "sum=\\frac{n \\cdot (n + 1)}{2}\n",
    "$$\n",
    "\n",
    "💡 Puedes ver aquí [la solución que yo propongo](solutions/exercises/sum.py)."
   ]
  },
  {
   "cell_type": "markdown",
   "metadata": {},
   "source": [
    "## Venta de artículos\n",
    "\n",
    "Una tienda vende dos tipos de artículos: calculadoras y relojes. Cada calculadora pesa 112 gramos. Cada reloj pesa 75 gramos. Escriba un programa que lea el número de calculadoras y relojes de un pedido. El programa luego debería calcular y mostrar el peso total del pedido."
   ]
  },
  {
   "cell_type": "markdown",
   "metadata": {},
   "source": [
    "## Interés compuesto\n",
    "\n",
    "Supongamos que usted abre una cuenta de ahorro que aporta un 4% de interés anual. El interés que se genera se paga al final del año, y se añade al balance de la cuenta de ahorro. Escriba unprograma que comience leyendo del usuario la cantidad de dinero depositada en la cuenta. Luego el programa debería computar y mostrar la cantidad de dinero en la cuenta de ahorro tras 1, 2 y 3 años."
   ]
  },
  {
   "cell_type": "markdown",
   "metadata": {},
   "source": [
    "## Aritmética\n",
    "\n",
    "Cree un programa que lea del usuario dos valores enteros $a$ y $b$. Su programa debería calcular y mostrar:\n",
    "- La suma de $a$ y $b$\n",
    "- La diferencia de sustraer $b$ a $a$\n",
    "- El producto de $a$ y $b$\n",
    "- El cociente cuando $a$ se divide por $b$\n",
    "- El resto de dividir $a$ por $b$\n",
    "- El resultado de $log_{10}a$\n",
    "- El resultado de $a^b$"
   ]
  },
  {
   "cell_type": "markdown",
   "metadata": {},
   "source": [
    "## Eficiencia de la gasolina\n",
    "\n",
    "En Estados Unidos, la eficiencia de la gasolina en los vehículos normalmente se expresa en *miles-per-gallon* (MPG). En Canadá, esta eficiencia se expresa normalmente en *liters-per-hundred* (L/100 km). Use sus habilidades de investigación para determinar cómo convertir de MPG en L/100 km. A continuación cree un programa que lea un valor del usuario en *unidades americanas* y muestre el correspondiente valor de eficiencia en *unidades canadienses*."
   ]
  },
  {
   "cell_type": "markdown",
   "metadata": {},
   "source": [
    "## Distancia entre dos puntos de la Tierra\n",
    "\n",
    "La superficie de la Tierra es curva, y la distancia entre grados de longitud varía con la latitud. Como resultado, encontrar la distancia entre dos puntos de la superficie de la Tierra es más complicado que simplemente usar el teorema de Pitágoras.\n",
    "\n",
    "Sea $(t_1,g_1)$ y $(t_2,g_2)$ la latitud y la longitud de dos puntos de la superficie de la Tierra. La distancia entre estos puntos, siguiendo la superficie de la Tierra, expresada en kilómetros, es la siguiente:\n",
    "\n",
    "$$\n",
    "distance = 6371.01 \\times arccos(sin(t_1) \\times sin(t_2) + cos(t_1) \\times cos(t_2) \\times cos(g_1 - g_2))\n",
    "$$\n",
    "\n",
    "Cree un programa que permita al usuario introducir la latitud y la longitud de dos puntos de la Tierra (en grados). Su programa debería mostrar la distancia entre los puntos, siguiente la superficie de la Tierra, expresada en kilómetros."
   ]
  },
  {
   "cell_type": "markdown",
   "metadata": {},
   "source": [
    "## Unidades de altura\n",
    "\n",
    "En el mundo anglosajón la altura de las personas se suele expresar en *pies* + *pulgadas*. Escriba un programa que lea del usuario un número de *pies* seguido por un número de *pulgadas*. Una vez leídos, su programa debería computar y mostrar el número equivalente en *centímetros*."
   ]
  },
  {
   "cell_type": "markdown",
   "metadata": {},
   "source": [
    "## Unidades de distancia\n",
    "\n",
    "En este ejercicio, creará un programa que comienza leyendo una medida en *pies*. Luego el programa debería mostrar la distancia equivalente en *pulgadas*, *yardas* y *millas*."
   ]
  },
  {
   "cell_type": "markdown",
   "metadata": {},
   "source": [
    "## Área y volumen\n",
    "\n",
    "Escriba un programa que empiece leyendo un radio $r$. El programa continuará computando y mostrando el área de un círculo con radio $r$ y el volumen de una esfera con radio $r$.\n",
    "\n",
    "$$\n",
    "area = \\pi r^2\n",
    "$$\n",
    "\n",
    "$$\n",
    "volumen = \\frac{4}{3} \\pi r^3\n",
    "$$"
   ]
  },
  {
   "cell_type": "markdown",
   "metadata": {},
   "source": [
    "## Capacidad calorífica\n",
    "\n",
    "La cantidad de energía requerida para aumentar la temperatura de un gramo de un material en 1 grado centígrado es lo que conocemos como *capacidad calorífica* específica de un material $c$. La cantidad total de energía que se requiere para aumentar $m$ gramos de un material en $\\Delta T$ grados centígrados se puede computar con la siguiente fórmula:\n",
    "\n",
    "$$\n",
    "q = mC\\Delta T\n",
    "$$\n",
    "\n",
    "Escriba un programa que lea del usuario una cantidad de masa y el cambio de temperatura. Su programa debería mostrar la cantidad total de energía que debe ser añadida o detraída para conseguir el cambio de temperatura deseado.\n",
    "\n",
    "Extienda su programa para que también se calcule el coste de calentar el agua. La electricidad normalmente se factura usando unidades de *kilovatio/hora* en vez de julios. Para este ejercicio se puede asumir que la electricidad cuesta 8.9 céntimos de euro por kilovatio/hora. Use su programa para computar el coste de agua hirviendo para una taza de café."
   ]
  },
  {
   "cell_type": "markdown",
   "metadata": {},
   "source": [
    "## Volumen de un cilindro\n",
    "\n",
    "El volumen de un cilindro se puede calcular multiplicando el área de su base circular por su altura. Escriba un programa que lea el radio de un cilindro así como su altura, y compute su volumen."
   ]
  },
  {
   "cell_type": "markdown",
   "metadata": {},
   "source": [
    "## Ley de los gases ideales\n",
    "\n",
    "La ley de los gases ideales es una aproximación matemática del comportamiento de los gases como el cambio de la presión, el volumen y la temperatura. Se suele formular así:\n",
    "\n",
    "$$\n",
    "PV = nRT\n",
    "$$\n",
    "\n",
    ", donde $P$ es la presión en *pascales*, $V$ es el volumen en *litros*, $n$ es la cantidad de sustancia en *moles*, $R$ es la constante de los gases ideales $8.314$ y $r$ es la temperatura en *grados Kelvin*.\n",
    "\n",
    "Escriba un programa que compute la cantidad de gas en *moles* cuando el usuario proporcione la presión, el volumen y la temperatura. Pruebe su programa determinando el número de *moles* de gas en un tanque SCUBA (*tanque de buceo*). Un tanque de buceo típico almacena 12 litros de gas a una presión de $20.000.000$ *pascales*. La temperatura de la habitación es aproximadamente 20 grados centígrados (68 grados Fahrenheit)."
   ]
  },
  {
   "cell_type": "markdown",
   "metadata": {},
   "source": [
    "## Área de un triángulo\n",
    "\n",
    "El área de un triángulo se puede calcular usando la siguiente fórmula, donde $b$ es la longitud de la base del triángulo y $h$ es su altura:\n",
    "\n",
    "$$\n",
    "area = \\frac{b \\times h}{2}\n",
    "$$\n",
    "\n",
    "Escriba un programa que permita al usuario introducir los valores de $b$ y $h$. El programa debería computar y mostrar el área de un triángulo con base $b$ y altura $h$."
   ]
  },
  {
   "cell_type": "markdown",
   "metadata": {},
   "source": [
    "## Área de un triángulo (desde sus lados)\n",
    "\n",
    "En el ejercicio anterior creó un programa que calculaba el área de un triángulo dada su base y su altura. También es posible computar el área de un triángulo dadas las longitud de sus tres lados. Sea $s_1$, $s_2$ y $s_3$ las longitudes de los lados. Sea $s = \\frac{s_1 + s_2 + s_3}{2}$. Entonces el área de un triángulo se puede calcular usando la siguiente fórmula:\n",
    "\n",
    "$$\n",
    "area = \\sqrt{s \\times (s - s_1) \\times (s - s_2) \\times (s - s_3)}\n",
    "$$\n",
    "\n",
    "Desarrolle un programa que lea las longitudes de los lados de un triángulo y muestre su área."
   ]
  },
  {
   "cell_type": "markdown",
   "metadata": {},
   "source": [
    "## Área de un polígono regular\n",
    "\n",
    "Un polígono es *regular* si todos sus lados tienen la misma longitud y los ángulos entre todos los lados adyacentes son iguales. El área de un polígono regular se puede calcular usando la siguiente fórmula, donde $s$ es la longitud de un lado y $n$ es el número de lados:\n",
    "\n",
    "$$\n",
    "area = \\frac{n \\times s^2}{4 \\times tan\\big(\\frac{\\pi}{n}\\big) }\n",
    "$$\n",
    "\n",
    "Escriba un programa que lea del usuario los valores de $s$ y $n$ y luego muestre el área de un polígono regular construído a partir de estos parámetros."
   ]
  },
  {
   "cell_type": "markdown",
   "metadata": {},
   "source": [
    "## Unidades de tiempo\n",
    "\n",
    "Cree un programa que lea una duración como número de días, horas, minutos y segundos. Compute y muestre el número total de segundos representados por esta duración."
   ]
  },
  {
   "cell_type": "markdown",
   "metadata": {},
   "source": [
    "## Unidades de tiempo (a la inversa)\n",
    "\n",
    "Este ejercicio es el inverso del anterior. Desarrolle un programa que comience leyendo del usuario un número de segundos. Luego su programa debería mostrar la cantidad equivalente de tiempo en la forma `D:HH:MM:SS` (días, horas, minutos y segundos)."
   ]
  },
  {
   "cell_type": "markdown",
   "metadata": {},
   "source": [
    "## Indice de masa corporal\n",
    "\n",
    "Escriba un programa que compute el índice de masa corporal (BMI son sus siglas en inglés) de un individuo. Su programa debería empezar leyendo la altura y el peso del usuario. Luego debería usar la siguiente fórmula para el cálculo del índice de masa corporal:\n",
    "\n",
    "$$\n",
    "BMI = \\frac{weight}{height \\times height}\n",
    "$$"
   ]
  },
  {
   "cell_type": "markdown",
   "metadata": {},
   "source": [
    "## Sensación térmica\n",
    "\n",
    "Cuando el viento sopla en tiempo frío, el aire se siente incluso más frío de lo que realmente es. Este efecto se conoce como *sensación térmica*.\n",
    "\n",
    "En 2001 algunos países adoptaron una fórmula para evaluar la sensación térmica. En esta fórmula $T_a$ es la temperatura del aire en *grados centígrados* y $V$ es la velocidad del viento en *kilómetros por hora*:\n",
    "\n",
    "$$\n",
    "WCI = 13.12 + 0.6215T_a - 11.37V^{0.16} + 0.3965T_aV^{0.16}\n",
    "$$\n",
    "\n",
    "Escriba un programa que comience con la lectura del usuario de la temperatura del aire y la velocidad del viento. Una vez que estos valores se han almacenado su programa debería mostrar el *índice de sensación térmica* (WCI)."
   ]
  },
  {
   "cell_type": "markdown",
   "metadata": {},
   "source": [
    "## Centígrados a Fahrenheit y Kelvin\n",
    "\n",
    "Escriba un programa que comiece leyendo una temperatura del usuario en grados *centígrados*. Luego el programa debería mostrar la temperatura equivalente en grados *fahrenheit* y grados *kelvin*."
   ]
  },
  {
   "cell_type": "markdown",
   "metadata": {},
   "source": [
    "## Unidades de presión\n",
    "\n",
    "En este ejercicio creará un programa que lea del usuario un valor de presión expresado en *kilopascales*. Una vez que sea haya leído esta cantidad el programa debería reportar la presión equivalente en *libras por pulgada cuadrada*, *milímetros de mercurio* y *atmósferas*."
   ]
  }
 ],
 "metadata": {
  "kernelspec": {
   "display_name": "Python 3",
   "language": "python",
   "name": "python3"
  },
  "language_info": {
   "codemirror_mode": {
    "name": "ipython",
    "version": 3
   },
   "file_extension": ".py",
   "mimetype": "text/x-python",
   "name": "python",
   "nbconvert_exporter": "python",
   "pygments_lexer": "ipython3",
   "version": "3.8.0"
  }
 },
 "nbformat": 4,
 "nbformat_minor": 2
}
