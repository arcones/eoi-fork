{
 "cells": [
  {
   "cell_type": "markdown",
   "metadata": {},
   "source": [
    "# Miniproyecto"
   ]
  },
  {
   "cell_type": "markdown",
   "metadata": {},
   "source": [
    "## Descripción\n",
    "\n",
    "La tarea consiste en extender la aplicación gráfica que trabajamos en clase (`pynotepad`) para convertirlo en un _editor de Markdown_ usable. Para ello, el hito principal consiste en añadirle un visor web embebido a la derecha del editor."
   ]
  },
  {
   "cell_type": "markdown",
   "metadata": {},
   "source": [
    "## Referencia\n",
    "\n",
    "La aplicación deberá tener un aspecto similar a este:\n",
    "\n",
    "![PyNotepad con visor de Markdown renderizado](./webview2.png)\n",
    "\n",
    "* La clase a utilizar en este caso es [`QWebEngineView`](https://doc.qt.io/qt-5/qwebengineview.html)\n",
    "* El import correcto es `from PyQt5.QtWebEngineWidgets import QWebEngineView`\n",
    "* `QtWebEngineWidgets` es un paquete aparte que no viene en la instalación por defecto de PyQt5, por lo que es necesario instalarlo aparte con un `pip install PyQtWebEngine`; para más información, ver [aquí](https://stackoverflow.com/a/54947671/1911099)\n",
    "* Para generar el HTML correspondiente a un Markdown dado, se pueden utilizar varios módulos ya existentes para ello; se recomienda [markdown2](https://github.com/trentm/python-markdown2)\n",
    "* Para gestionar el \"refresco\" de la vista HTML, se recomienda ejecutar esa acción al guardar el fichero o al transcurrir un tiempo determinado desde la última pulsación de tecla (2 segundos es un tiempo razonable para ello). Otra opción, también válida, es añadir un botón en algún lugar de la interfaz para desencadenar la generación de HTML actualizado mostrarlo en el `QWebEngineView`.\n",
    "* Habrá que prestar atención a los posibles errores de conversión Markdown -> HTML que se puedan dar. Si no es posible generar HTML válido, la vista del `QWebEngineView` debería quedarse en blanco, o mostrar algún tipo de mensaje de error\n",
    "* En cuanto a la organización de los widgets, la opción más limpia y extensible es utilizar las capabilidades organizativas de [`QMainWindow`](https://doc.qt.io/qt-5/qmainwindow.html#qt-main-window-framework) para añadir el [`QWebEngineView`](https://doc.qt.io/qt-5/qwebengineview.html) como un [`QDockWidget`](https://doc.qt.io/qt-5/qdockwidget.html), aunque no es estrictamente necesario utilizar estos mismos componentes; puede hacerse también con un [`QHBoxLayout`](https://doc.qt.io/qt-5/qhboxlayout.html) organizando horizontalmente los widgets.\n"
   ]
  },
  {
   "cell_type": "markdown",
   "metadata": {},
   "source": [
    "## Mejora opcional: Navegador de ficheros\n",
    "\n",
    "Una vez esté lista la funcionalidad principal del editor de Markdown, se puede atacar la implementación de un navegador de ficheros a la izquierda del editor usando una jerarquía de clases adecuadas para ello. La imagen a continuación resume las clases implicadas y cómo se relacionan entre ellas (`QDockWidget` sólo se utiliza a modo de contenedor):\n",
    "\n",
    "![PyNotepad con explorador de ficheros](./file-explorer.png)\n",
    "\n",
    "* La funcionalidad básica implica poder explorar el árbol del sistema de ficheros y que, al hacer doble-click sobre un fichero, tiene el efecto de abrirlo en el editor central. Doble-click sobre un directorio debe expandir o contraer la vista de ese directorio (ese comportamiento ya está implementado por defecto usando [`QTreeView`](https://doc.qt.io/qt-5/qtreeview.html) en conjunción con [`QFileSystemModel`](https://doc.qt.io/qt-5/qfilesystemmodel.html))\n",
    "* Será útil aprender sobre el funcionamiento del paradigma modelo/vista que usa Qt con este tipo de widgets: uno representa los datos que se pretenden visualizar con sus atributos y jerarquías (`QFileSystemModel`) y otro se alimenta de esos datos para poblar la visualización final (`QTreeView`). Lectura recomendada [aquí](https://doc.qt.io/qtforpython/overviews/model-view-programming.html).\n",
    "\n",
    "La aplicación final si se decide implementar esta parte opcional tiene este aspecto:\n",
    "\n",
    "![PyNotepad con explorador de ficheros](./webview.png)"
   ]
  },
  {
   "cell_type": "markdown",
   "metadata": {},
   "source": [
    "## Criterios de evaluación\n",
    "\n",
    "En orden de importancia, se evaluará la entrega acorde a los siguientes puntos:\n",
    "\n",
    "1. **<ins>Funcionalidad</ins>**: La aplicación debe ejecutarse sin errores y hacer lo que se le supone. Se espera también cierta estabilidad frente a acciones \"no-comunes\" por parte del usuario, como por ejemplo pulsaciones de teclas inesperadas o redimensionado de la ventana; en general, con aplicaciones de este tipo es una buena práctica guiarse por el [POLA](https://en.wikipedia.org/wiki/Principle_of_least_astonishment)\n",
    "2. **<ins>Mejoras opcionales</ins>**: Se valorarán todas aquellas mejoras que se implementen más allá de los requisitos mínimos\n",
    "3. **<ins>Organización de código</ins>**: A medida que se vayan implementando funcionalidades, la organización básica de \"todo en un fichero\" y \"todo objetos globales\" es cada vez más problemática. Investigar maneras más avanzadas de gestionar el código; recomiendo revisar el código fuente de algunas aplicaciones de código abierto que usan PyQt, como por ejemplo [Anki](https://github.com/ankitects/anki/tree/master/qt/aqt) o [Calibre](https://github.com/kovidgoyal/calibre/tree/master/src/calibre/gui2)"
   ]
  },
  {
   "cell_type": "markdown",
   "metadata": {},
   "source": [
    "## Fecha límite de entrega\n",
    "\n",
    "La tarea deberá ser entregada, a más tardar, el **domingo 20 de diciembre** a las **23:59 UTC+1**"
   ]
  },
  {
   "cell_type": "markdown",
   "metadata": {},
   "source": [
    "## Forma de entrega\n",
    "\n",
    "Se habilitará una tarea en nuestro Google Classroom a tal efecto para poder subir los ficheros finales."
   ]
  }
 ],
 "metadata": {
  "kernelspec": {
   "display_name": "Python 3",
   "language": "python",
   "name": "python3"
  },
  "language_info": {
   "codemirror_mode": {
    "name": "ipython",
    "version": 3
   },
   "file_extension": ".py",
   "mimetype": "text/x-python",
   "name": "python",
   "nbconvert_exporter": "python",
   "pygments_lexer": "ipython3",
   "version": "3.9.0"
  }
 },
 "nbformat": 4,
 "nbformat_minor": 4
}
