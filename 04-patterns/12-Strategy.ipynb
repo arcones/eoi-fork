{
 "cells": [
  {
   "cell_type": "markdown",
   "metadata": {
    "slideshow": {
     "slide_type": "slide"
    }
   },
   "source": [
    "## Patrón Estrategia (Strategy)"
   ]
  },
  {
   "cell_type": "markdown",
   "metadata": {
    "slideshow": {
     "slide_type": "slide"
    }
   },
   "source": [
    "__Estrategia__, (En inglés *Strategy pattern*, a veces *Policy pattern*) es un patrón\n",
    "de comportamiento, que permite seleccionar entre diferentes algoritmos en tiempo de ejecución.\n",
    "\n",
    "En vez de usar directamente una inplementación de un único algoritmo, el código acepta\n",
    "instrucciones en tiempo real para usar un algoritmo dentro de una familia de algoritmos disponibles."
   ]
  },
  {
   "cell_type": "markdown",
   "metadata": {
    "slideshow": {
     "slide_type": "slide"
    }
   },
   "source": [
    "Este patron permite desacoplar el algoritmo de los clientes que lo usan. Al __postergar la decisión sobre\n",
    "qué algoritmo usar__ al tiempo de ejecución, en vez de predefinirlo en tiempo de compilación, se obtiene\n",
    "una mayor flexibilidad y capacidad de reutilización.\n",
    "\n",
    "Veamos algunos ejempos."
   ]
  },
  {
   "cell_type": "markdown",
   "metadata": {
    "slideshow": {
     "slide_type": "slide"
    }
   },
   "source": [
    "### Ejemplo 1: Validación de datos"
   ]
  },
  {
   "cell_type": "markdown",
   "metadata": {
    "slideshow": {
     "slide_type": "slide"
    }
   },
   "source": [
    "Una clase que realiza determinadas validaciones sobre un conjunto de entradas podría usar\n",
    "un patrón estrategia para seleccionar un algoritmo de validación diferente basándose en\n",
    "el tipo de los datos, en su origen, en el usuario que introduce los datos, o cualquier otro\n",
    "factor que fuera relevante."
   ]
  },
  {
   "cell_type": "markdown",
   "metadata": {
    "slideshow": {
     "slide_type": "slide"
    }
   },
   "source": [
    "A veces estos factores no se conocen perfectamente con antelación\n",
    "y puede que requieran de algoritmos de validación radicalmente diferentes. Como ventaja\n",
    "adicional, los algoritmos o estrategias de validación pueden ser reutilizados en diferentes\n",
    "partes del sistema (e incluso en otros sistemas) sin necesidad de duplicar el código."
   ]
  },
  {
   "cell_type": "markdown",
   "metadata": {
    "slideshow": {
     "slide_type": "slide"
    }
   },
   "source": [
    "### Ejemplo 2: IA de juegos\n",
    "\n",
    "En un diseño de juegos, a lo mejor interesa que la IA de un enemigo use\n",
    "algoritmos totalmente diferentes, dependiendo del momento."
   ]
  },
  {
   "cell_type": "markdown",
   "metadata": {
    "slideshow": {
     "slide_type": "slide"
    }
   },
   "source": [
    "- Si el enemigo tiene un arma cuerpo a cuerpo y está bien de\n",
    "salud, podría seleccionar una estrategia de \"<span style=\"color: green;\">Acércate lo máximo al jugador\n",
    "y ataca</span>\""
   ]
  },
  {
   "cell_type": "markdown",
   "metadata": {
    "slideshow": {
     "slide_type": "fragment"
    }
   },
   "source": [
    "- Si tiene un arma a distancia, podría usar esta: \"<span style=\"color: green;\">Manten\n",
    "una distancia prudencial con el jugador y dispara</span>\"."
   ]
  },
  {
   "cell_type": "markdown",
   "metadata": {
    "slideshow": {
     "slide_type": "fragment"
    }
   },
   "source": [
    "- Por ultimo, si esta mal de salud y/o sin armas\n",
    "podria cambiar a \"<span style=\"color: green;\">Ignora al jugador, dirígete a la base más cercana para\n",
    "regenerar salud/rearmarte</span>\"."
   ]
  },
  {
   "cell_type": "markdown",
   "metadata": {
    "slideshow": {
     "slide_type": "slide"
    }
   },
   "source": [
    "Obviamente, estos cambios de estrategia tienen que hacerse en tiempo real, y\n",
    "dependiendo del estado del juego: Salud del enemigo, armamento, posición del\n",
    "jugador, etc."
   ]
  },
  {
   "cell_type": "markdown",
   "metadata": {
    "slideshow": {
     "slide_type": "slide"
    }
   },
   "source": [
    "## Ejercicio 1: Sistema de pedidos"
   ]
  },
  {
   "cell_type": "markdown",
   "metadata": {
    "slideshow": {
     "slide_type": "slide"
    }
   },
   "source": [
    "Vamos a ver un código que implementa una parte de una sistema de venta y\n",
    "gestión de pedido. En nuestro -muy, muy simplificado- sistema de pedidos,\n",
    "estos solo tienen tres caractersiticas, el **precio**, el **número de elementos** que se \n",
    "envian y el **peso total**.\n",
    "\n",
    "Para enviar, se usan 2 sistemas diferentes de trasporte: Servicio Postal y UPS."
   ]
  },
  {
   "cell_type": "markdown",
   "metadata": {
    "slideshow": {
     "slide_type": "slide"
    }
   },
   "source": [
    "Queremos calcular el coste adicional de enviar un pedido, pero las dos empresas\n",
    "usan un sistema diferente:\n",
    "    \n",
    "**Servicio Postal**: cobra 1.25 euro por item, y 0.25 euros por kilogramo total\n",
    "\n",
    "**UPS**: solo cobra por el peso, 3 euros / kg"
   ]
  },
  {
   "cell_type": "markdown",
   "metadata": {
    "slideshow": {
     "slide_type": "slide"
    }
   },
   "source": [
    "Veamos una primera versión del código. Primero usaremos una clase `Enum` para\n",
    "asignar un código a cada transportista:"
   ]
  },
  {
   "cell_type": "code",
   "execution_count": 3,
   "metadata": {
    "slideshow": {
     "slide_type": "fragment"
    }
   },
   "outputs": [],
   "source": [
    "from enum import Enum\n",
    "\n",
    "class Carrier(Enum):\n",
    "    \n",
    "    POSTAL = 1\n",
    "    UPS = 2"
   ]
  },
  {
   "cell_type": "markdown",
   "metadata": {
    "slideshow": {
     "slide_type": "slide"
    }
   },
   "source": [
    "Y ahora implementamos una clase para los pedidos, la vamos a llamar `Order`:"
   ]
  },
  {
   "cell_type": "code",
   "execution_count": 4,
   "metadata": {
    "slideshow": {
     "slide_type": "fragment"
    }
   },
   "outputs": [],
   "source": [
    "class Order:\n",
    "    \n",
    "    def __init__(self, price: float, items: int, weight: float):\n",
    "        self.price = price\n",
    "        self.items = items\n",
    "        self.weight = weight\n",
    "        \n",
    "    def shipping_cost(self, carrier: Carrier):\n",
    "        if carrier == Carrier.POSTAL:\n",
    "            return self.items * 1.25 + 0.25 * self.weight\n",
    "        elif carrier == Carrier.UPS:\n",
    "            return self.weight * 3.0\n",
    "        else:\n",
    "            raise ValueError(\"Código de transportista desconocido\")\n",
    "        "
   ]
  },
  {
   "cell_type": "markdown",
   "metadata": {
    "slideshow": {
     "slide_type": "slide"
    }
   },
   "source": [
    "Veamos que tal funciona:"
   ]
  },
  {
   "cell_type": "code",
   "execution_count": 5,
   "metadata": {
    "slideshow": {
     "slide_type": "fragment"
    }
   },
   "outputs": [
    {
     "name": "stdout",
     "output_type": "stream",
     "text": [
      "Correos:  5.625\n",
      "UPS:  7.5\n"
     ]
    }
   ],
   "source": [
    "order = Order(0, 4, 2.5)\n",
    "\n",
    "print(\"Correos: \", order.shipping_cost(Carrier.POSTAL))\n",
    "print(\"UPS: \", order.shipping_cost(Carrier.UPS))"
   ]
  },
  {
   "cell_type": "markdown",
   "metadata": {
    "slideshow": {
     "slide_type": "slide"
    }
   },
   "source": [
    "Bien!, parece que funciona.."
   ]
  },
  {
   "cell_type": "markdown",
   "metadata": {
    "slideshow": {
     "slide_type": "fragment"
    }
   },
   "source": [
    "... Pero el mundo sigue dando vueltas"
   ]
  },
  {
   "cell_type": "markdown",
   "metadata": {
    "slideshow": {
     "slide_type": "slide"
    }
   },
   "source": [
    "Hemos conseguido una nueva empresa de transportes, **DHL**."
   ]
  },
  {
   "cell_type": "markdown",
   "metadata": {
    "slideshow": {
     "slide_type": "fragment"
    }
   },
   "source": [
    "Esta nueva empresa tiene, por supuesto, otro sistema de cobro (algoritmo). No cobra por\n",
    "el peso, solo por __el número de items__."
   ]
  },
  {
   "cell_type": "markdown",
   "metadata": {
    "slideshow": {
     "slide_type": "fragment"
    }
   },
   "source": [
    "Pero tiene un __número mínimo de items__, asi que cualquier cantidad de 5 o menos items cuesta 5 euros. \n",
    "A partir de ahí, se cobra un euro adicional por cada item."
   ]
  },
  {
   "cell_type": "markdown",
   "metadata": {
    "slideshow": {
     "slide_type": "slide"
    }
   },
   "source": [
    "## Ejercicio 2: Nuevo transportista"
   ]
  },
  {
   "cell_type": "markdown",
   "metadata": {
    "slideshow": {
     "slide_type": "fragment"
    }
   },
   "source": [
    "El ejercicio es cambiar el codigo anterior para trabajar con esta nueva empresa"
   ]
  },
  {
   "cell_type": "code",
   "execution_count": 4,
   "metadata": {
    "slideshow": {
     "slide_type": "slide"
    }
   },
   "outputs": [],
   "source": [
    "class Carrier(Enum):  # Habrá que añadir un nuevo transportista\n",
    "    POSTAL = 1\n",
    "    UPS = 2\n",
    "    \n",
    "\n",
    "class Order:\n",
    "    \n",
    "    def __init__(self, price: float, items: int, weight: float):\n",
    "        self.price = price\n",
    "        self.items = items\n",
    "        self.weight = weight\n",
    "        \n",
    "    def shipping_cost(self, carrier: Carrier):  # habrá que tratar aqui el nuevo valor\n",
    "        if carrier == Carrier.POSTAL:\n",
    "            return self.price + (self.items * 1.25 + 0.25 * self.weight)\n",
    "        elif carrier == Carrier.UPS:\n",
    "            return self.price + (self.weight * 3.0)\n",
    "        else:\n",
    "            raise ValueError(\"Código de transportista desconocido\")\n",
    "        "
   ]
  },
  {
   "cell_type": "markdown",
   "metadata": {
    "slideshow": {
     "slide_type": "slide"
    }
   },
   "source": [
    "### Solucion:\n",
    "\n",
    "Una posible solucion podria ser la siguiente:"
   ]
  },
  {
   "cell_type": "code",
   "execution_count": 9,
   "metadata": {
    "slideshow": {
     "slide_type": "subslide"
    }
   },
   "outputs": [],
   "source": [
    "class Carrier(Enum):\n",
    "    \n",
    "    POSTAL = 1\n",
    "    UPS = 2\n",
    "    DHL = 3\n",
    "\n",
    "class Order:\n",
    "    \n",
    "    def __init__(self, price: float, items: int, weight: float):\n",
    "        self.price = price\n",
    "        self.items = items\n",
    "        self.weight = weight\n",
    "        \n",
    "    def shipping_cost(self, carrier: Carrier):\n",
    "        if carrier == Carrier.POSTAL:\n",
    "            return self.items * 1.25 + 0.25 * self.weight\n",
    "        elif carrier == Carrier.UPS:\n",
    "            return self.weight * 3.0\n",
    "        elif carrier == Carrier.DHL:\n",
    "            return max(self.items, 5)\n",
    "        else:\n",
    "            raise ValueError(\"Código de transportista desconocido\")\n",
    "        "
   ]
  },
  {
   "cell_type": "markdown",
   "metadata": {
    "slideshow": {
     "slide_type": "slide"
    }
   },
   "source": [
    "Hagamos otro pequeño test:"
   ]
  },
  {
   "cell_type": "code",
   "execution_count": 12,
   "metadata": {
    "slideshow": {
     "slide_type": "fragment"
    }
   },
   "outputs": [
    {
     "name": "stdout",
     "output_type": "stream",
     "text": [
      "Coreos:  1.875\n",
      "UPS:  7.5\n",
      "DHL:  5\n"
     ]
    }
   ],
   "source": [
    "order = Order(10, 1, 2.5)\n",
    "\n",
    "print(\"Coreos: \", order.shipping_cost(Carrier.POSTAL))\n",
    "print(\"UPS: \", order.shipping_cost(Carrier.UPS))\n",
    "print(\"DHL: \", order.shipping_cost(Carrier.DHL))\n"
   ]
  },
  {
   "cell_type": "markdown",
   "metadata": {
    "slideshow": {
     "slide_type": "slide"
    }
   },
   "source": [
    "### Problemas con esta solución\n",
    "\n",
    "Esta solución presenta algunos problemas, que podriamos resumir en:"
   ]
  },
  {
   "cell_type": "markdown",
   "metadata": {
    "slideshow": {
     "slide_type": "slide"
    }
   },
   "source": [
    "- El método `shipping_cost` es parte de la clase `Order`, pero esto\n",
    "  no es conceptualmente demasiado correcto, porque la verdad es que\n",
    "  sabe un montón de cosas de los transportes. Podria ser perfectamente \n",
    "  un metodo de la clase `Carrier`. Un pedido deberia\n",
    "  ser una entidad totalmente independiente de que tipo de\n",
    "  transportistas existan.\n",
    "  \n",
    "  Las responsabilidades de las clases no están\n",
    "  demasiado claras y eso rompe el principio de *single\n",
    "  responsability* (La __S__ de SOLID).\n",
    "  "
   ]
  },
  {
   "cell_type": "markdown",
   "metadata": {
    "slideshow": {
     "slide_type": "slide"
    }
   },
   "source": [
    "- Además, cuando tuvimos que añadir un nuevo transportista, tuvimos\n",
    "  que modificar el código de la clase `Order`. Hemos tenido que\n",
    "  modificar la clase para los pedidos por una razón -Añadir un nuevo\n",
    "  transportista- que no debería afectar.  Esto rompe el\n",
    "  principio de *Open / Close* (La __O__ de SOLID).\n",
    "  "
   ]
  },
  {
   "cell_type": "markdown",
   "metadata": {
    "slideshow": {
     "slide_type": "slide"
    }
   },
   "source": [
    "- La clases `Order` y `Carrier` están demasiado acopladas. En concreto,\n",
    "  el metodo `shipping_cost` sabe demasiadas cosas de la estructura\n",
    "  interna de los transportistas. Por ejemplo, sabe que actualmente\n",
    "  hay tres transportistas, y sabe el sistema de cobro de cada uno. \n",
    "  Ademas, esta programado para trabajar usando una instancia \n",
    "  (del transportista), en vez de una interfaz. Esto va contra el principio\n",
    "  de *Dependency Inversion*, (La __D__ de SOLID).\n",
    "  "
   ]
  },
  {
   "cell_type": "markdown",
   "metadata": {
    "slideshow": {
     "slide_type": "slide"
    }
   },
   "source": [
    "- Por último, esa estructura de `if` ... `elif` ... `else` deja un\n",
    "  mal sabor de boca. En general este tipo de estructuras se considera\n",
    "  un \"mal olor\", normalmente un indicador de que se podria hacer de\n",
    "  otra manera."
   ]
  },
  {
   "cell_type": "markdown",
   "metadata": {
    "slideshow": {
     "slide_type": "slide"
    }
   },
   "source": [
    "### Ejercicio 2: Aplicar el patrón Strategy"
   ]
  },
  {
   "cell_type": "markdown",
   "metadata": {
    "slideshow": {
     "slide_type": "fragment"
    }
   },
   "source": [
    "Vamos a intentar resolver estos problemas con el patron Estrategia. Como vemos, cada transportista \n",
    "usa su propio sistema de reglas -> Estrategia -> Algoritmo para calcular sus precios, asi que vamos a\n",
    "hacer una clase abstracta para todos los transportistas.\n",
    "\n",
    "***\n",
    "**Nota**: Una clase abstracta es una clase de la cual nunca se  crea ninguna instancia. Solo se\n",
    "usa para derivar por herencia otras clases.\n",
    "***"
   ]
  },
  {
   "cell_type": "markdown",
   "metadata": {
    "slideshow": {
     "slide_type": "slide"
    }
   },
   "source": [
    "Paso 1) Crear una base clase para las estrategias (en este caso, transportistas)"
   ]
  },
  {
   "cell_type": "code",
   "execution_count": 16,
   "metadata": {
    "slideshow": {
     "slide_type": "fragment"
    }
   },
   "outputs": [],
   "source": [
    "class BaseCarrier:\n",
    "    \n",
    "    def carrier_cost(self, order: Order) -> float:\n",
    "        raise NotImplemented(\n",
    "            \"Las clases derivadas de BaseCarrier\"\n",
    "            \" deben implementar este metodo\"\n",
    "        )"
   ]
  },
  {
   "cell_type": "markdown",
   "metadata": {
    "slideshow": {
     "slide_type": "notes"
    }
   },
   "source": [
    "Basicamente, esta es una forma de decir: Si una clase deriva de `BaseCarrier`, está\n",
    "*obligada* a definir un método `carrier_cost`, que acepte como parametro de entrada\n",
    "un objeto de tipo `Order`, y que devuelve un número decimal.\n",
    "\n",
    "***\n",
    "__Nota__: Existe una forma incluso\n",
    "mejor de hacer este tipo de _contratos_ usando las llamadas *Abstract Base Class*, incluidas\n",
    "en Python desde la versión 3.4, y que veremos con algo más de detalle en la sección dedicada\n",
    "a las librerías estándar.\n",
    "***"
   ]
  },
  {
   "cell_type": "markdown",
   "metadata": {
    "slideshow": {
     "slide_type": "slide"
    }
   },
   "source": [
    "Ahora, hagamos una clase para cada transportista. Empezamos por el servicio postal:"
   ]
  },
  {
   "cell_type": "code",
   "execution_count": 17,
   "metadata": {
    "slideshow": {
     "slide_type": "fragment"
    }
   },
   "outputs": [],
   "source": [
    "class Postal(BaseCarrier):\n",
    "    \n",
    "    def carrier_cost(self, order: Order):\n",
    "        return order.items * 1.25 + 0.25 * order.weight\n",
    "    "
   ]
  },
  {
   "cell_type": "markdown",
   "metadata": {
    "slideshow": {
     "slide_type": "slide"
    }
   },
   "source": [
    "...para UPS:"
   ]
  },
  {
   "cell_type": "code",
   "execution_count": 18,
   "metadata": {
    "slideshow": {
     "slide_type": "fragment"
    }
   },
   "outputs": [],
   "source": [
    "class UPS(BaseCarrier):\n",
    "    \n",
    "    def carrier_cost(self, order: Order):\n",
    "        return order.weight * 3.0"
   ]
  },
  {
   "cell_type": "markdown",
   "metadata": {
    "slideshow": {
     "slide_type": "slide"
    }
   },
   "source": [
    "... y, finalmente, la clase para DHL:"
   ]
  },
  {
   "cell_type": "code",
   "execution_count": 20,
   "metadata": {
    "slideshow": {
     "slide_type": "fragment"
    }
   },
   "outputs": [],
   "source": [
    "class DHL(BaseCarrier):\n",
    "    \n",
    "    def carrier_cost(self, order: Order):\n",
    "        return max(5, order.items)"
   ]
  },
  {
   "cell_type": "markdown",
   "metadata": {
    "slideshow": {
     "slide_type": "slide"
    }
   },
   "source": [
    "Vamos a hacer un pequeño test para comprobar que nuestros nuevos\n",
    "transportistas siguen funcionando (aunque ahora solo nos informan del\n",
    "coste del transporte, asi mejoramos la asignacion de responsabilidades):"
   ]
  },
  {
   "cell_type": "code",
   "execution_count": 21,
   "metadata": {
    "slideshow": {
     "slide_type": "subslide"
    }
   },
   "outputs": [],
   "source": [
    "order = Order(10, 4, 2.5)\n",
    "\n",
    "postal_carrier = Postal()\n",
    "assert postal_carrier.carrier_cost(order) == 5.625\n",
    "\n",
    "ups_carrier = UPS()\n",
    "assert ups_carrier.carrier_cost(order) == 7.5\n",
    "\n",
    "dhl_carrier = DHL()\n",
    "assert dhl_carrier.carrier_cost(order) == 5"
   ]
  },
  {
   "cell_type": "markdown",
   "metadata": {
    "slideshow": {
     "slide_type": "slide"
    }
   },
   "source": [
    "Ahora, podemos modificar el método para calcular el costo de un pedido, al que\n",
    "ahora se le debe pasar un objeto (de una clase derivada de `BaseCarrier`) para\n",
    "indicar el transportista:"
   ]
  },
  {
   "cell_type": "code",
   "execution_count": 23,
   "metadata": {
    "slideshow": {
     "slide_type": "fragment"
    }
   },
   "outputs": [],
   "source": [
    "class Order:\n",
    "    \n",
    "    def __init__(self, price: float, items: int, weight: float):\n",
    "        self.price = price\n",
    "        self.items = items\n",
    "        self.weight = weight\n",
    "\n",
    "    def shipping_cost(self, carrier: BaseCarrier):\n",
    "        return self.price + carrier.carrier_cost(self)"
   ]
  },
  {
   "cell_type": "markdown",
   "metadata": {
    "slideshow": {
     "slide_type": "slide"
    }
   },
   "source": [
    "Vamos ahora con nuestra habitual batería de test:"
   ]
  },
  {
   "cell_type": "code",
   "execution_count": 24,
   "metadata": {
    "slideshow": {
     "slide_type": "fragment"
    }
   },
   "outputs": [],
   "source": [
    "order = Order(10, 4, 2.5)\n",
    "\n",
    "assert order.shipping_cost(Postal()) == 15.625\n",
    "assert order.shipping_cost(UPS()) == 17.5\n",
    "assert order.shipping_cost(DHL()) == 15"
   ]
  },
  {
   "cell_type": "markdown",
   "metadata": {
    "slideshow": {
     "slide_type": "slide"
    }
   },
   "source": [
    "## Mejoras obtenidas"
   ]
  },
  {
   "cell_type": "markdown",
   "metadata": {
    "slideshow": {
     "slide_type": "slide"
    }
   },
   "source": [
    "- Las clases `Order` para los pedidos y las clases de los distintos\n",
    "transportistas: `Postal`, `UPS`, `DHL` están ahora mucho más __desacopladas__.\n",
    "\n",
    "En concreto, la clase pedidos no sabe, ni le importa, cuantos tipos de\n",
    "transportistas hay, o como realizan internamente sus cálculos. Lo úniqo\n",
    "que necesita saber es que tienen que tener un método llamado\n",
    "`carrier_cost` que acepta como parámetro de entrada una orden y devuelve un coste. "
   ]
  },
  {
   "cell_type": "markdown",
   "metadata": {
    "slideshow": {
     "slide_type": "slide"
    }
   },
   "source": [
    "Por su lado, la clases drivadas de `Carrier` (clases `Carriers` en adelante)\n",
    "solo saben, de los pedidos, que tienen los campos públicos `weight` e `items`.\n",
    "El conocimiento que tienen las clases una de la otra ha disminuido con respecto\n",
    "al código inicial."
   ]
  },
  {
   "cell_type": "markdown",
   "metadata": {
    "slideshow": {
     "slide_type": "slide"
    }
   },
   "source": [
    "- Las clases `Carriers` solo se ocupan cada uno de su propia estrategia de\n",
    "cálculo de precios. No saben, ni necesitan saber, nada una de las otras."
   ]
  },
  {
   "cell_type": "markdown",
   "metadata": {
    "slideshow": {
     "slide_type": "slide"
    }
   },
   "source": [
    "- Añadir un nuevo transportistas es mucho más sencillo ahora. No hay que modificar\n",
    "la clase `Order`, y solo hay que crear una nueva clase derivada de `CarrierBase` e\n",
    "implementar su algoritmo específico de cálculo de precio."
   ]
  },
  {
   "cell_type": "markdown",
   "metadata": {
    "slideshow": {
     "slide_type": "slide"
    }
   },
   "source": [
    "- Las clases `Carrier` pueden ser testeadas con muchas más facilidad. Se les puede\n",
    "pasar un doble o *mock* para ello: cualquier objeto con propiedades públicas `width`\n",
    "e `items` puede ser usado como si fuera un pedido."
   ]
  },
  {
   "cell_type": "markdown",
   "metadata": {
    "slideshow": {
     "slide_type": "slide"
    }
   },
   "source": [
    "- El mátodo `shipping_cost` de la clase `Orden` no está ahora programado para\n",
    "  usar una instancia de un carrier, sino para usar una interfaz (O clase base\n",
    "  abstracta, en la nomemclatura de Python). Eso significa que puede usar\n",
    "  cualquier objeto que tenga un método `carrier_cost` que acepte como parámetro de\n",
    "  entrada una orden y devuelve un coste. De esta forma ahora podemos testear las clase\n",
    "  orden pasandole un doble o mock de un transportista.\n",
    "  "
   ]
  },
  {
   "cell_type": "markdown",
   "metadata": {
    "slideshow": {
     "slide_type": "slide"
    }
   },
   "source": [
    "- El \"feo\" orbol de decisiones a base de `if ... elif ... else`  ha desaparecido, para\n",
    "  no volver.\n",
    "  "
   ]
  },
  {
   "cell_type": "markdown",
   "metadata": {
    "slideshow": {
     "slide_type": "slide"
    }
   },
   "source": [
    "- El código, en general, es más sencillo de leer y de modificar"
   ]
  }
 ],
 "metadata": {
  "celltoolbar": "Slideshow",
  "kernelspec": {
   "display_name": "Python 3",
   "language": "python",
   "name": "python3"
  },
  "language_info": {
   "codemirror_mode": {
    "name": "ipython",
    "version": 3
   },
   "file_extension": ".py",
   "mimetype": "text/x-python",
   "name": "python",
   "nbconvert_exporter": "python",
   "pygments_lexer": "ipython3",
   "version": "3.7.6"
  }
 },
 "nbformat": 4,
 "nbformat_minor": 4
}
