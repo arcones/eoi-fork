{
 "cells": [
  {
   "cell_type": "markdown",
   "metadata": {
    "slideshow": {
     "slide_type": "slide"
    }
   },
   "source": [
    "## El patrón Factory\n",
    "\n",
    "### Propósito\n",
    "\n",
    "Define una interfaz para crear un objeto, pero deja que sean las subclases\n",
    "quienes decidan qué clase instanciar. Permite que una clase delegue en sus\n",
    "subclases la creación de objetos."
   ]
  },
  {
   "cell_type": "markdown",
   "metadata": {
    "slideshow": {
     "slide_type": "slide"
    }
   },
   "source": [
    "### Motivacion\n",
    "\n",
    "En programación orientada a obtjetos, el termino `factory` se refiere a una\n",
    "clase que es reponsable de la creacion de objetos de otras clases.  Normalmente\n",
    "la clase que actua como *factory* tiene un objeto con una serie de métodos. El\n",
    "cliente llama a alguno de estos metodos con ciertos parámetros. Internamente, el\n",
    "método crea los objetos y se los devuelve al cliente"
   ]
  },
  {
   "cell_type": "markdown",
   "metadata": {
    "slideshow": {
     "slide_type": "slide"
    }
   },
   "source": [
    "Asi que la pregunta es: ¿Por qué necesitamos una clase *factory* aparte, cuando\n",
    "el cliente podria crear directamente el objeto? La respuesta es que este patron\n",
    "proporciona ciertas ventajas que puede que nos sean utiles o necesarias:"
   ]
  },
  {
   "cell_type": "markdown",
   "metadata": {
    "slideshow": {
     "slide_type": "slide"
    }
   },
   "source": [
    "- La primera ventaja es que la creacion de un objeto puede ser independiente\n",
    "  de su implementacion."
   ]
  },
  {
   "cell_type": "markdown",
   "metadata": {
    "slideshow": {
     "slide_type": "slide"
    }
   },
   "source": [
    "- El cliente no necesita saber nada de las clases que realmente crean el objeto.\n",
    "  Solo necesita pasar la informacion que se necesita para crearlo. Esto\n",
    "  simplifica la implementacion del cliente (las clases estan menos acopladas)"
   ]
  },
  {
   "cell_type": "markdown",
   "metadata": {
    "slideshow": {
     "slide_type": "slide"
    }
   },
   "source": [
    "- Es sencillo añadir otra clase mas a la factoría, de forma que se puedan crear\n",
    "  objetos de una nueva clase. El resto de las clases no se ve afectado. El\n",
    "  cliente tendra que aceptar un nuevo parámetro o valor del mismo."
   ]
  },
  {
   "cell_type": "markdown",
   "metadata": {
    "slideshow": {
     "slide_type": "slide"
    }
   },
   "source": [
    "- La factoria también puede reutilizar objetos preexistentes. La clase original\n",
    "  siempre creará un objeto nuevo."
   ]
  },
  {
   "cell_type": "markdown",
   "metadata": {
    "slideshow": {
     "slide_type": "slide"
    }
   },
   "source": [
    "Hay tres variantes de este patrón:"
   ]
  },
  {
   "cell_type": "markdown",
   "metadata": {
    "slideshow": {
     "slide_type": "slide"
    }
   },
   "source": [
    "- **Simple Factory pattern**: Permite crear objetos sin exponer la lógica de creación\n",
    "  de los mismos."
   ]
  },
  {
   "cell_type": "markdown",
   "metadata": {
    "slideshow": {
     "slide_type": "slide"
    }
   },
   "source": [
    "- **Factory method pattern**: Permite crear objetos sin exponer la lógica de creación\n",
    "  de los mismos, pero retrasa la decisión de que subclase en concreto se usará\n",
    "  para crear el objeto."
   ]
  },
  {
   "cell_type": "markdown",
   "metadata": {
    "slideshow": {
     "slide_type": "slide"
    }
   },
   "source": [
    "- **Abstract Factory pattern**: Crea los objetos sin necesidad de especificar \n",
    "  sus clases. El patron suministra objetos a partir de otra fabrica, que\n",
    "  crea internamete."
   ]
  },
  {
   "cell_type": "markdown",
   "metadata": {
    "slideshow": {
     "slide_type": "slide"
    }
   },
   "source": [
    "Pero este patron es poco útil en Python, porque las capacidades dinámicas\n",
    "y el hecho de que tanto funciones, metodos y clases sean objetos de primer\n",
    "nivel, y por tanto susceptibles de ser pasados como parametros, almacenados\n",
    "en estructuras de detos, etc. lo hacen en la práctica poco recomendable, a no\n",
    "ser que la estructura de los objetos que estamos creando este cambiando \n",
    "muy frecuentemente."
   ]
  },
  {
   "cell_type": "markdown",
   "metadata": {
    "slideshow": {
     "slide_type": "slide"
    }
   },
   "source": [
    "Veremos solo el *Simple Factory pattern*, los demas casos son\n",
    "raramente aplicables en Python."
   ]
  },
  {
   "cell_type": "markdown",
   "metadata": {
    "slideshow": {
     "slide_type": "slide"
    }
   },
   "source": [
    "### Simple Factory pattern\n",
    "\n",
    "Esta es la forma más sencilla de este patrón. En este caso, la fábrica es\n",
    "simplemente una función. "
   ]
  },
  {
   "cell_type": "markdown",
   "metadata": {
    "slideshow": {
     "slide_type": "slide"
    }
   },
   "source": [
    "Vamos a suponer que estamos creando un juego y queremos poder\n",
    "crear varios tipos de enemigos. Tenemos las clases `Soldier` para\n",
    "representar soldados, y `Tower` para torretas defensivas. "
   ]
  },
  {
   "cell_type": "markdown",
   "metadata": {
    "slideshow": {
     "slide_type": "slide"
    }
   },
   "source": [
    "Supongamos que deseamos desacoplar la creacion de los enemigos\n",
    "del  conocimiento de estas clases (Quiza querramos cambiar las\n",
    "clases, por ejemplo, podemos decidir que la clase `Tower` podria\n",
    "muy bien reemplazarse por una clases `Soldier` con capacidad de\n",
    "desplazamiento cero)."
   ]
  },
  {
   "cell_type": "markdown",
   "metadata": {
    "slideshow": {
     "slide_type": "slide"
    }
   },
   "source": [
    "La forma más sencilla seria crear una clase o funcion *factory*"
   ]
  },
  {
   "cell_type": "code",
   "execution_count": 1,
   "metadata": {
    "slideshow": {
     "slide_type": "slide"
    }
   },
   "outputs": [
    {
     "name": "stdout",
     "output_type": "stream",
     "text": [
      "Soldier Tower\n"
     ]
    }
   ],
   "source": [
    "class Soldier:\n",
    "    def __init__(self):\n",
    "        self.movement = 10\n",
    "        self.power = 10\n",
    "    def __str__(self):\n",
    "        return \"Soldier\"\n",
    "\n",
    "class Tower:\n",
    "    def __init__(self):\n",
    "        self.power = 100\n",
    "    def __str__(self):\n",
    "        return \"Tower\"\n",
    "\n",
    "def enemy_factory(kind):\n",
    "    Enemies = {\n",
    "        'soldier': Soldier,\n",
    "        'tower': Tower,\n",
    "    }\n",
    "    _cls = Enemies[kind]\n",
    "    return _cls()\n",
    "\n",
    "s1 = enemy_factory('soldier')\n",
    "t1 = enemy_factory('tower')\n",
    "print(s1, t1)"
   ]
  },
  {
   "cell_type": "markdown",
   "metadata": {
    "slideshow": {
     "slide_type": "slide"
    }
   },
   "source": [
    "**Ejercicio**: Comprueba que el código anterior es capaz de crear enemigos \n",
    "de distinto tipo. Cambia el codigo para que podamos incluir un nuevo tipo\n",
    "de enemigo, el `mecha`, con capacidad de movimiento $5$, potencia de fuego $50$.\n",
    "\n",
    "<img src=\"./img/battletech.jpg\" width=\"350\">\n",
    "\n",
    "**Pista**: Tendras que crear una nueva clase `Mecha`, y modificar la función\n",
    "`make_enemy` para que pueda crear objetos de esta nueva clase.\n"
   ]
  },
  {
   "cell_type": "code",
   "execution_count": 3,
   "metadata": {},
   "outputs": [
    {
     "ename": "KeyError",
     "evalue": "'mecha'",
     "output_type": "error",
     "traceback": [
      "\u001b[0;31m---------------------------------------------------------------------------\u001b[0m",
      "\u001b[0;31mKeyError\u001b[0m                                  Traceback (most recent call last)",
      "\u001b[0;32m<ipython-input-3-5fb9f33e2b98>\u001b[0m in \u001b[0;36m<module>\u001b[0;34m\u001b[0m\n\u001b[1;32m     24\u001b[0m     \u001b[0;32mreturn\u001b[0m \u001b[0m_cls\u001b[0m\u001b[0;34m(\u001b[0m\u001b[0;34m)\u001b[0m\u001b[0;34m\u001b[0m\u001b[0;34m\u001b[0m\u001b[0m\n\u001b[1;32m     25\u001b[0m \u001b[0;34m\u001b[0m\u001b[0m\n\u001b[0;32m---> 26\u001b[0;31m \u001b[0;32massert\u001b[0m \u001b[0menemy_factory\u001b[0m\u001b[0;34m(\u001b[0m\u001b[0;34m\"mecha\"\u001b[0m\u001b[0;34m)\u001b[0m\u001b[0;34m.\u001b[0m\u001b[0mpower\u001b[0m \u001b[0;34m==\u001b[0m \u001b[0;36m50\u001b[0m\u001b[0;34m\u001b[0m\u001b[0;34m\u001b[0m\u001b[0m\n\u001b[0m",
      "\u001b[0;32m<ipython-input-3-5fb9f33e2b98>\u001b[0m in \u001b[0;36menemy_factory\u001b[0;34m(kind)\u001b[0m\n\u001b[1;32m     21\u001b[0m         \u001b[0;34m'tower'\u001b[0m\u001b[0;34m:\u001b[0m \u001b[0mTower\u001b[0m\u001b[0;34m,\u001b[0m\u001b[0;34m\u001b[0m\u001b[0;34m\u001b[0m\u001b[0m\n\u001b[1;32m     22\u001b[0m     }\n\u001b[0;32m---> 23\u001b[0;31m     \u001b[0m_cls\u001b[0m \u001b[0;34m=\u001b[0m \u001b[0mEnemies\u001b[0m\u001b[0;34m[\u001b[0m\u001b[0mkind\u001b[0m\u001b[0;34m]\u001b[0m\u001b[0;34m\u001b[0m\u001b[0;34m\u001b[0m\u001b[0m\n\u001b[0m\u001b[1;32m     24\u001b[0m     \u001b[0;32mreturn\u001b[0m \u001b[0m_cls\u001b[0m\u001b[0;34m(\u001b[0m\u001b[0;34m)\u001b[0m\u001b[0;34m\u001b[0m\u001b[0;34m\u001b[0m\u001b[0m\n\u001b[1;32m     25\u001b[0m \u001b[0;34m\u001b[0m\u001b[0m\n",
      "\u001b[0;31mKeyError\u001b[0m: 'mecha'"
     ]
    }
   ],
   "source": [
    "class Soldier:\n",
    "    \n",
    "    def __init__(self):\n",
    "        self.movement = 10\n",
    "        self.power = 10\n",
    "        \n",
    "    def __str__(self):\n",
    "        return \"Soldier\"\n",
    "\n",
    "class Tower:\n",
    "    \n",
    "    def __init__(self):\n",
    "        self.power = 100\n",
    "        \n",
    "    def __str__(self):\n",
    "        return \"Tower\"\n",
    "\n",
    "def enemy_factory(kind):\n",
    "    Enemies = {\n",
    "        'soldier': Soldier,\n",
    "        'tower': Tower,\n",
    "    }\n",
    "    _cls = Enemies[kind]\n",
    "    return _cls()\n",
    "\n",
    "assert enemy_factory(\"mecha\").power == 50"
   ]
  },
  {
   "cell_type": "code",
   "execution_count": null,
   "metadata": {},
   "outputs": [],
   "source": []
  }
 ],
 "metadata": {
  "celltoolbar": "Slideshow",
  "kernelspec": {
   "display_name": "Python 3",
   "language": "python",
   "name": "python3"
  },
  "language_info": {
   "codemirror_mode": {
    "name": "ipython",
    "version": 3
   },
   "file_extension": ".py",
   "mimetype": "text/x-python",
   "name": "python",
   "nbconvert_exporter": "python",
   "pygments_lexer": "ipython3",
   "version": "3.8.10"
  }
 },
 "nbformat": 4,
 "nbformat_minor": 4
}
