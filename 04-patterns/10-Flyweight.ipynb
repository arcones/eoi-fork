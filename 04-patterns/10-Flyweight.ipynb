{
 "cells": [
  {
   "cell_type": "markdown",
   "metadata": {
    "slideshow": {
     "slide_type": "slide"
    }
   },
   "source": [
    "## El patrón Flywight (Peso ligero)\n",
    "\n"
   ]
  },
  {
   "cell_type": "markdown",
   "metadata": {
    "slideshow": {
     "slide_type": "slide"
    }
   },
   "source": [
    "### Propósito\n",
    "\n",
    "Compartir estado para permitir un gran número de objetos de grano\n",
    "fino de forma eficiente."
   ]
  },
  {
   "cell_type": "markdown",
   "metadata": {
    "slideshow": {
     "slide_type": "slide"
    }
   },
   "source": [
    "### Motivacion\n",
    "\n",
    "Un peso ligero es un objeto con estado compartido, que puede usarse\n",
    "a la vez en varios contextos. El peso ligero se comporta como un objeto \n",
    "independiente en cada contexto; esto es, no se puede distinguir de una\n",
    "instancia del objeto que no esté compartida."
   ]
  },
  {
   "cell_type": "markdown",
   "metadata": {
    "slideshow": {
     "slide_type": "slide"
    }
   },
   "source": [
    "Lo fundamental aquí es la distinción entre estado *intrínseco\n",
    "y *extrínseco*. "
   ]
  },
  {
   "cell_type": "markdown",
   "metadata": {
    "slideshow": {
     "slide_type": "slide"
    }
   },
   "source": [
    "El __estado intrínseco__ se guarda con el propio objeto; consiste\n",
    "en información que es independiente de su contexto y que puede ser, por \n",
    "tanto, compartida."
   ]
  },
  {
   "cell_type": "markdown",
   "metadata": {
    "slideshow": {
     "slide_type": "slide"
    }
   },
   "source": [
    "El __estado extrínseco__ depende del contexto y cambia con él, por lo\n",
    "que no puede ser compartido. Los objetos cliente son responsables de\n",
    "pasar al peso ligero su estado extrínseco cuando lo necesite."
   ]
  },
  {
   "cell_type": "markdown",
   "metadata": {
    "slideshow": {
     "slide_type": "slide"
    }
   },
   "source": [
    "Los pesos ligeros modelan conceptos o entidades que normalmente son \n",
    "demasiado numerosos como para ser representados con objetos. "
   ]
  },
  {
   "cell_type": "markdown",
   "metadata": {
    "slideshow": {
     "slide_type": "slide"
    }
   },
   "source": [
    "Un ejemplo gráfico podría ser un objeto en un video juego que represente\n",
    "a un árbol."
   ]
  },
  {
   "cell_type": "markdown",
   "metadata": {
    "slideshow": {
     "slide_type": "slide"
    }
   },
   "source": [
    "Queremos usar varios de estos objetos para representar un bosque,\n",
    "pero en realidad vemos que gran parte de los atributos, como las textures\n",
    "a usar para pintar el arbol, el modelo *mesh* para la estructura básica, etc.\n",
    "son iguales para todos los objetos. Estos serian atributos *extrínsecos*."
   ]
  },
  {
   "cell_type": "markdown",
   "metadata": {
    "slideshow": {
     "slide_type": "slide"
    }
   },
   "source": [
    "Otros atributos, como la posicion (x, y, z), efectos de escala,\n",
    "etc. son, sin embargo, propios de cada árbol. Son los atributos\n",
    "*intrínsecos*."
   ]
  },
  {
   "cell_type": "markdown",
   "metadata": {
    "slideshow": {
     "slide_type": "slide"
    }
   },
   "source": [
    "Con la clase Flyweight, las instancias comparten todos los datos comunes, de\n",
    "forma que el tamaño de la instancia es considerablemente menor, y el consumo\n",
    "de memoria tambien se reduce drasticamente,"
   ]
  },
  {
   "cell_type": "markdown",
   "metadata": {
    "slideshow": {
     "slide_type": "slide"
    }
   },
   "source": [
    "### Aplicabilidad\n",
    "\n",
    "Debería aplicarse el patrón cuando se cumpla __todo__ lo siguiente:\n",
    "\n",
    " \n",
    "- Una aplicación utiliza un gran número de objetos.\n",
    "\n",
    "- Los costes de almacenamiento son elevados debido a la gran cantidad de objetos.\n",
    "\n",
    "- Gran parte del estado del objeto puede hacerse extrínseco.\n"
   ]
  },
  {
   "cell_type": "markdown",
   "metadata": {
    "slideshow": {
     "slide_type": "slide"
    }
   },
   "source": [
    "**Ejercicio**: Volvemos a nuestro juego imaginario. Ahora estamos probando\n",
    "    otro prototipo para la IA. Esto no tarda prácticamente nada en\n",
    "    inicializarse, el problema es que ocupa muchisimo espacio.\n",
    "Y la cosa es que todos los enemigos usan la misma IA, con lo que cada enemigo\n",
    "ocupa muchisima memoria."
   ]
  },
  {
   "cell_type": "markdown",
   "metadata": {
    "slideshow": {
     "slide_type": "slide"
    }
   },
   "source": [
    "La siguiente celda define una funcion que ayuda a calcular el tamaño en bytes\n",
    "que ocupa una variable, en Python. No es una tarea tan sencilla como pudiera parecer,\n",
    "pero lo bueno es que puedes usarla sin entender todos los detalles."
   ]
  },
  {
   "cell_type": "code",
   "execution_count": 2,
   "metadata": {
    "slideshow": {
     "slide_type": "slide"
    }
   },
   "outputs": [],
   "source": [
    "import sys\n",
    "from types import ModuleType, FunctionType\n",
    "from gc import get_referents\n",
    "\n",
    "# Custom objects know their class.\n",
    "# Function objects seem to know way too much, including modules.\n",
    "# Exclude modules as well.\n",
    "BLACKLIST = type, ModuleType, FunctionType\n",
    "\n",
    "\n",
    "def getsize(obj):\n",
    "    \"\"\"sum size of object & members.\"\"\"\n",
    "    if isinstance(obj, BLACKLIST):\n",
    "        raise TypeError('getsize() does not take argument of type: '+ str(type(obj)))\n",
    "    seen_ids = set()\n",
    "    size = 0\n",
    "    objects = [obj]\n",
    "    while objects:\n",
    "        need_referents = []\n",
    "        for obj in objects:\n",
    "            if not isinstance(obj, BLACKLIST) and id(obj) not in seen_ids:\n",
    "                seen_ids.add(id(obj))\n",
    "                size += sys.getsizeof(obj)\n",
    "                need_referents.append(obj)\n",
    "        objects = get_referents(*need_referents)\n",
    "    return size"
   ]
  },
  {
   "cell_type": "markdown",
   "metadata": {
    "slideshow": {
     "slide_type": "slide"
    }
   },
   "source": [
    "Usando la funcion `getsize`, vemos que los enemigos realmente ocupan demasiado memoria (Mas considerando lo poco que hacen por ahora)"
   ]
  },
  {
   "cell_type": "code",
   "execution_count": 9,
   "metadata": {
    "slideshow": {
     "slide_type": "slide"
    }
   },
   "outputs": [
    {
     "name": "stdout",
     "output_type": "stream",
     "text": [
      "Enemy('enemy_0') ocupa 224 bytes\n",
      "Enemy('enemy_1') ocupa 224 bytes\n",
      "Enemy('enemy_2') ocupa 224 bytes\n"
     ]
    },
    {
     "data": {
      "text/plain": [
       "8000256"
      ]
     },
     "execution_count": 9,
     "metadata": {},
     "output_type": "execute_result"
    }
   ],
   "source": [
    "class IA: \n",
    "    def __init__(self):\n",
    "        self.space = [0] * 1000000\n",
    "\n",
    "class Enemy:\n",
    "    IA = None\n",
    "    \n",
    "    def __init__(self, name=\"prototype\"):\n",
    "        self.name = name\n",
    "        if Enemy.IA is None:\n",
    "            Enemy.IA = IA()\n",
    "\n",
    "    def __repr__(self):\n",
    "        return f'Enemy({repr(self.name)})'\n",
    "\n",
    "for i in range(3):\n",
    "    e = Enemy(f\"enemy_{i}\")\n",
    "    print(f\"{e} ocupa {getsize(e)} bytes\")\n",
    "getsize(Enemy.IA)"
   ]
  },
  {
   "cell_type": "code",
   "execution_count": 26,
   "metadata": {},
   "outputs": [
    {
     "name": "stdout",
     "output_type": "stream",
     "text": [
      "3\n",
      "4\n",
      "4\n",
      "[a1, a2, a3, a4] [a1, a2, a3, a4]\n"
     ]
    }
   ],
   "source": [
    "class A:\n",
    "    counter = 0\n",
    "    instances = []\n",
    "    \n",
    "    def __repr__(self):\n",
    "        return self.name\n",
    "    \n",
    "    def __init__(self, name):\n",
    "        self.name = name\n",
    "        A.counter += 1\n",
    "        A.instances.append(self)\n",
    "\n",
    "        \n",
    "a1 = A('a1')\n",
    "a2 = A('a2')\n",
    "a3 = A('a3')\n",
    "print(A.counter)\n",
    "a4 = A('a4')\n",
    "print(A.counter)\n",
    "print(a4.counter)\n",
    "print(a1.instances, a2.instances)\n",
    "    "
   ]
  },
  {
   "cell_type": "markdown",
   "metadata": {
    "slideshow": {
     "slide_type": "slide"
    }
   },
   "source": [
    "**Ejercicio**: Resuelve el problema usando el patron *Flyweight*. Modifica solo la clase `Enemy`,\n",
    "la clase `IA` no se puede tocar.\n",
    "\n",
    "**Pista**: Cuales son los atributos extrínsecos de la clase `Enemy` y cuáles son los intrínsecos.\n",
    "\n",
    "**Pregunta**: Que otro patron podriamos haber usado para garantizar que solo tenemos una instancia\n",
    "a la vez de la IA"
   ]
  },
  {
   "cell_type": "code",
   "execution_count": 3,
   "metadata": {},
   "outputs": [],
   "source": [
    "# %load flyweight.py"
   ]
  }
 ],
 "metadata": {
  "celltoolbar": "Slideshow",
  "kernelspec": {
   "display_name": "Python 3",
   "language": "python",
   "name": "python3"
  },
  "language_info": {
   "codemirror_mode": {
    "name": "ipython",
    "version": 3
   },
   "file_extension": ".py",
   "mimetype": "text/x-python",
   "name": "python",
   "nbconvert_exporter": "python",
   "pygments_lexer": "ipython3",
   "version": "3.7.6"
  }
 },
 "nbformat": 4,
 "nbformat_minor": 4
}
