{
 "cells": [
  {
   "cell_type": "markdown",
   "metadata": {
    "slideshow": {
     "slide_type": "slide"
    }
   },
   "source": [
    "## El patron Façade (Fachada)\n",
    "\n",
    "### PROPÓSITO\n",
    "\n",
    "Proporciona una interfaz unificada para un conjunto de interfaces de un subsistema. Define una interfaz de alto nivel que hace que el subsistema sea más fácil de usar."
   ]
  },
  {
   "cell_type": "markdown",
   "metadata": {
    "slideshow": {
     "slide_type": "slide"
    }
   },
   "source": [
    "### MOTIVACIÓN"
   ]
  },
  {
   "cell_type": "markdown",
   "metadata": {
    "slideshow": {
     "slide_type": "slide"
    }
   },
   "source": [
    "Una fachada se refiere generalmente a la parte exterior de un edificio.\n",
    "~Tambien puede referirse a una actitud o comportamiento de una persona\n",
    "que intenta esconder o disimular su estado real. "
   ]
  },
  {
   "cell_type": "markdown",
   "metadata": {
    "slideshow": {
     "slide_type": "slide"
    }
   },
   "source": [
    "Cuando se contempla una fachada, podemos apreciar (o no) el excterior\n",
    "pero no podemos dedudir nada o casi nada de las complejidades de su \n",
    "estructura interior."
   ]
  },
  {
   "cell_type": "markdown",
   "metadata": {
    "slideshow": {
     "slide_type": "slide"
    }
   },
   "source": [
    "El patron *Façade* funciona igual; oculta las complejidades de un\n",
    "sistema y proporciona una interfaz simplificada al cliente."
   ]
  },
  {
   "cell_type": "markdown",
   "metadata": {
    "slideshow": {
     "slide_type": "slide"
    }
   },
   "source": [
    "Los beneficios que nos aporta son:\n",
    "\n",
    "- Obtener una interfaz unificada y simplificada para un \n",
    "  subsistema o conjunto de subsistemas\n",
    "  "
   ]
  },
  {
   "cell_type": "markdown",
   "metadata": {
    "slideshow": {
     "slide_type": "fragment"
    }
   },
   "source": [
    "- No encapsula al subsistema, pero proporciona un acceso de\n",
    "  mayor nivel, especialmente para agrupar diferentes\n",
    "  componentes."
   ]
  },
  {
   "cell_type": "markdown",
   "metadata": {
    "slideshow": {
     "slide_type": "fragment"
    }
   },
   "source": [
    "- Reduce el acoplamiento entre la implementacion y los clientes."
   ]
  },
  {
   "cell_type": "markdown",
   "metadata": {
    "slideshow": {
     "slide_type": "slide"
    }
   },
   "source": [
    "### Componentes"
   ]
  },
  {
   "cell_type": "markdown",
   "metadata": {
    "slideshow": {
     "slide_type": "slide"
    }
   },
   "source": [
    "- **Fachada a Facade**: La responsabilida de esta clase o funcion es envolver\n",
    "  un sistema completjo interconectado bajo una unica apariencia\n",
    "  mas sencilla de utilizar.\n",
    "  "
   ]
  },
  {
   "cell_type": "markdown",
   "metadata": {
    "slideshow": {
     "slide_type": "slide"
    }
   },
   "source": [
    "- **Subsistema**: Representa al subsistema o subsistemas que queremos ocultar\n",
    "  debajo de la fachada.\n",
    "  "
   ]
  },
  {
   "cell_type": "markdown",
   "metadata": {
    "slideshow": {
     "slide_type": "slide"
    }
   },
   "source": [
    "- **Cliente**: El cliente interactua con la fachada unicamente, de forma que\n",
    "  consigue interactuar con el sistema para conseguir sus objetivos. El cliente no necesita preocuparse de las complejidades de conexion ni los componentes del subsistema.\n",
    "  "
   ]
  },
  {
   "cell_type": "markdown",
   "metadata": {
    "slideshow": {
     "slide_type": "slide"
    }
   },
   "source": [
    "### APLICABILIDAD\n",
    "\n",
    "Usaremos el patrón Facade cuando:\n",
    "\n",
    " "
   ]
  },
  {
   "cell_type": "markdown",
   "metadata": {
    "slideshow": {
     "slide_type": "slide"
    }
   },
   "source": [
    "- Queramos proporcionar una interfaz simple para un subsistema complejo. Aquellos clientes, que necesitan más personalización necesitarán ir más allá de la fachada."
   ]
  },
  {
   "cell_type": "markdown",
   "metadata": {
    "slideshow": {
     "slide_type": "slide"
    }
   },
   "source": [
    "- Hay muchas dependencias entre los clientes y las clases que implementan una funcionmalidad. Se introduce una fachada para desacoplar el subsistema de sus clientes, promoviendo así la independencia entre subsistemas y la portabilidad."
   ]
  },
  {
   "cell_type": "markdown",
   "metadata": {
    "slideshow": {
     "slide_type": "slide"
    }
   },
   "source": [
    "- Queremos usar una libreria externa, pero la envolvemos en un Fachada para que podamos usarla más fcilmente a la vez que facilitamos el cambio de la libreria por otra."
   ]
  },
  {
   "cell_type": "markdown",
   "metadata": {
    "slideshow": {
     "slide_type": "slide"
    }
   },
   "source": [
    "### CONSECUENCIAS\n",
    "\n",
    "El patrón Facade proporciona las siguientes ventajas:\n",
    "\n",
    "1. Oculta a los clientes los componentes del subsistema, haciendo que el subsistema sea más fácil de usar.\n",
    "\n",
    "2. Promueve un débil acoplamiento entre el subsistema y sus clientes. \n",
    "\n",
    "3. 3. No impide que las aplicaciones usen las clases del subsistema en caso de que sea necesario. De este modo se puede elegir entre facilidad de uso y generalidad."
   ]
  },
  {
   "cell_type": "markdown",
   "metadata": {
    "slideshow": {
     "slide_type": "slide"
    }
   },
   "source": [
    "**Ejercicio**: Discutir las diferencias entre el patron Fachada (Façade) y Adaptador (Adapter)"
   ]
  },
  {
   "cell_type": "markdown",
   "metadata": {
    "slideshow": {
     "slide_type": "slide"
    }
   },
   "source": [
    "**Ejercicio**: Sopongamos que nuestro codigo utiliza la API de GitHub para determinada funcionalidad. Las llamadas se realizan en diferentes partes del codigo, y no usan ninguna libreria especial, sino haciendo llamadas a la API rest, unas veces usando urllib y otras requests."
   ]
  },
  {
   "cell_type": "markdown",
   "metadata": {
    "slideshow": {
     "slide_type": "slide"
    }
   },
   "source": [
    "Queremos solucionar el problema, y el primer paso sera crear una fachada para todo lo que sea interactura \n",
    "con GitHub. Los subsistemas urllib y requests deben quedar ocultos bajo la fachada.\n",
    "\n",
    "Dibuja un esquema gráfico que muestre el estado del sistema antes y despues de esta reestructuracion"
   ]
  }
 ],
 "metadata": {
  "celltoolbar": "Slideshow",
  "kernelspec": {
   "display_name": "Python 3",
   "language": "python",
   "name": "python3"
  },
  "language_info": {
   "codemirror_mode": {
    "name": "ipython",
    "version": 3
   },
   "file_extension": ".py",
   "mimetype": "text/x-python",
   "name": "python",
   "nbconvert_exporter": "python",
   "pygments_lexer": "ipython3",
   "version": "3.7.6"
  }
 },
 "nbformat": 4,
 "nbformat_minor": 4
}
