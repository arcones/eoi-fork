{
 "cells": [
  {
   "cell_type": "markdown",
   "metadata": {},
   "source": [
    "## Decorador (*Decorator*)"
   ]
  },
  {
   "cell_type": "markdown",
   "metadata": {},
   "source": [
    "__Decorador__ es un patron de tipo Estructural. Nos permite \"envolver\" un\n",
    "objeto, método o función, que realiza una determinada función, con otro objeto,\n",
    "método o función que copia su interfaz; es decir, que para el resto del mundo se\n",
    "comporta y se puede interactuar con el exactamente igual que si fuera el\n",
    "original. De esta forma se puede modificar el comportamiento, normalmente para\n",
    "añadir funcionalidad.\n",
    "\n",
    "La razón del nombre de este componente viene de uno de sus primeros ejemplos de\n",
    "uso, en los sistemas de ventanas. En estos sistemas, el contenido visual de una\n",
    "aplicación no tiene bordes, ni botones, ni controles como barras de\n",
    "desplazamiento, etc... Es solo un cuadrado con el contenido de la aplicación. Se\n",
    "aplicaban una función (se decoraba) al componente, de forma que, por ejemplo,\n",
    "ante una operación de dibujar la ventana, digamos `redraw`, el decorador pintaba\n",
    "los bordes, los botones, etc. y luego llamaba a la operación `redraw` de la\n",
    "aplicación, que pintaba los contenidos.\n",
    "\n",
    "Eso permitia cambiar el sistema de ventanas para tener estilos totalmente\n",
    "diferentes, solo cambiando el decorador que \"envuelve\" a la aplicación. Incluso\n",
    "si eliminabas el decorador, el sistema seguía funcionando (Sin bordes, claro)\n",
    "porque al sistema de ventanas solo le interesaba que los componentes tengan un\n",
    "método `redraw` (la interfaz es la misma).\n",
    "\n",
    "Las razones para usar este patrón son normalmente dos:\n",
    "\n",
    "- Mejorar la respuesta de un componente a otro componente\n",
    "\n",
    "- Proporcionar multiples comportamientos opcionales\n",
    "\n",
    "Se utiliza a menudo la segunda opción como una alternativa a la herencia\n",
    "múltiple. Se puede crear un objeto básico, y luego \"envolverlo\" con un\n",
    "decorador. Como la interfaz del decorador es igual que la del objeto base,\n",
    "podemos usar diferentes decoradores para el mismo objeto o incluso anidar\n",
    "decoradores, es decir, decorando un objeto ya decorado.\n"
   ]
  },
  {
   "cell_type": "markdown",
   "metadata": {},
   "source": [
    "## Un ejemplo de decorador.\n",
    "\n",
    "Usaremos un ejemplo de decorador a la vez que vemos algo de programación de redes. En este\n",
    "caso usaremos un *socket* TCP. EL método `send` de los *sockets* acepta como parámetro\n",
    "una secuencia de bytes y los envia por la conexión establecida hacie el otro extremo. Hay muchas\n",
    "librerías de sockets pero python viene con una ya incorporada en la libreria estándar.\n",
    "\n",
    "Vamos a crear en primer lugar un servidor que espere a que algun otro proceso se conecte; en\n",
    "ese momento pregunta un texto el usuario, y devuelve ese texto como respuesta."
   ]
  },
  {
   "cell_type": "code",
   "execution_count": null,
   "metadata": {},
   "outputs": [],
   "source": [
    "# %load socket-server.py\n",
    "#!/usr/bin/env python\n",
    "\n",
    "import socket\n",
    "\n",
    "def respond(client, addr):\n",
    "    response = input(\"Enter a value: \")\n",
    "    message = f\"Hello {addr} this is your response: {response}\"\n",
    "    client.send(message.encode('utf8'))\n",
    "    client.close()\n",
    "    return response == 'exit'\n",
    "\n",
    "server = socket.socket(socket.AF_INET, socket.SOCK_STREAM)\n",
    "server.bind(('localhost', 8401))\n",
    "server.listen(1)\n",
    "try:\n",
    "    while True:\n",
    "        client, addr = server.accept()\n",
    "        must_exit = respond(client, addr)\n",
    "        if must_exit:\n",
    "            break\n",
    "finally:\n",
    "    server.close()"
   ]
  },
  {
   "cell_type": "markdown",
   "metadata": {},
   "source": [
    "Ahora, antes de escribir el cliente, un aviso: para poder ejecutar la cliente y el servicor, estos\n",
    "tienen que ejecutarse como procesos distintos, asi que hay que ejecutar el servidor en un notebook, con\n",
    "su propio kernel, y el cliente en otro. Hay dos notebooks ya preparados para este proposito\n",
    "[socket-server.ipynb](./socket-server.ipynb) y [socket-client.ipynb](./socket-client.ipynb)"
   ]
  },
  {
   "cell_type": "raw",
   "metadata": {},
   "source": [
    "Veamos el código del servidor: La función `respond` acepta como parámetro de\n",
    "entrada un *socket* y la dirección IP del otro extremo de la conexión. Pregunta\n",
    "entonces al usuario por un texto de entrada y simplemente lo envía como\n",
    "respuesta. Para poder usarla esta función, primero que crear un socket de tipo\n",
    "servidor, y decirle que se conecte el puerto 8401 en el ordenador local, donde\n",
    "se queda a la espera de que algun otro programa (nuestro cliente) se conecte \n",
    "a ese puerto. \n",
    "\n",
    "Cuando el cliente se conecte, se llama a la función `respond`, que pregunta\n",
    "al usuario por algun texto a enviar y lo usa como respuesta, y luego vuelve a quedarse\n",
    "a la espera. Hemos escrito nuestro primer servidor TCP.\n",
    "\n",
    "Lo importante a destacar aquí es que a la función `respond` solo le importan dos cosas en lo\n",
    "que respecta a la interfaz de los *sockets*: que tienen un método `send` y un\n",
    "método `close`. \n",
    "\n",
    "Vamos a escribir ahora nuesto cliente."
   ]
  },
  {
   "cell_type": "code",
   "execution_count": null,
   "metadata": {},
   "outputs": [],
   "source": [
    "!cat socket-client.py"
   ]
  },
  {
   "cell_type": "markdown",
   "metadata": {},
   "source": [
    "Para usar estos programas:\n",
    "    \n",
    "❶ Arrancar el programa `socket-server.py`, ya sea en una terminal o abriendo en\n",
    "una pestaña nueva del navegador con [`socket-server.ipynb`](./socket-server.ipynb).\n",
    "\n",
    "❷ Arrancar el programa `socket-client.py`, ya sea en una terminal o abriendo en\n",
    "una pestaña nueva del navegador con [`socket-client.ipynb`](./socket-client.ipynb).\n",
    "\n",
    "❸ En la pestaña o terminal del servidor veremos que se pregunta al usuario\n",
    "por el texto de la respuesta; escribir algo y pulsar enter.\n",
    "\n",
    "❹ En la pestaña / terminal del cliente, veremos que hemos recibido una\n",
    "respuesta con el texto que metimos.\n",
    "\n",
    "Puedes ejecutar el cliente las veces que quieras. El cliente enviará los textos\n",
    "que se introduzcan en el servidor."
   ]
  },
  {
   "cell_type": "markdown",
   "metadata": {},
   "source": [
    "Ahora, revisando nuestro codigo servidor, vamos a añadir un par de decoradores para \n",
    "el socket. El primero sera un decorador de *Logging*. Este decorador simplemente\n",
    "imprime en la consola del servidor los datos enviados."
   ]
  },
  {
   "cell_type": "code",
   "execution_count": null,
   "metadata": {},
   "outputs": [],
   "source": [
    "class LogSocket:\n",
    "\n",
    "    def __init__(self, socket):\n",
    "        self.socket = socket\n",
    "\n",
    "    def send(self, data):\n",
    "        print(\"Sending {0} to {1}\".format(\n",
    "            data, self.socket.getpeername()[0]))\n",
    "        self.socket.send(data)\n",
    "\n",
    "    def close(self):\n",
    "        self.socket.close()"
   ]
  },
  {
   "cell_type": "markdown",
   "metadata": {},
   "source": [
    "El decorador mantiene la misma interfaz que el onjeto socket, asi que, a los\n",
    "efectos de la función `respond`, lo mismo le da usar un socket normal\n",
    "o nuestra versión decorada. El decorador debería implementar *toda* la interfaz\n",
    "de los sockets, no solo los métodos `send` y `close`. Tambien debería implementar\n",
    "mejor el método `send`, ya que este acepta un argumento opcional del que nosotros\n",
    "no no ocupamos, pero lo hemos hecho así para mantener el ejemplo lo más sencillo\n",
    "posible."
   ]
  },
  {
   "cell_type": "markdown",
   "metadata": {
    "slideshow": {
     "slide_type": "slide"
    }
   },
   "source": [
    "\n",
    "### Ejercicio: Modificar el código del servidor para que use nuestra nueva clase decorada"
   ]
  },
  {
   "cell_type": "markdown",
   "metadata": {
    "slideshow": {
     "slide_type": "slide"
    }
   },
   "source": [
    "**PISTA**: Solo hay que cambiar una línea del código original para usar nuestra clase\n",
    "derivada; en vez de llamar a la función `respond` con el socket, se le llama con \n",
    "nuestro *socket* decorado, creado a parir del *socket* original."
   ]
  },
  {
   "cell_type": "code",
   "execution_count": null,
   "metadata": {
    "slideshow": {
     "slide_type": "notes"
    }
   },
   "outputs": [],
   "source": [
    "import socket\n",
    "\n",
    "class LogSocket:\n",
    "\n",
    "    def __init__(self, socket):\n",
    "        self.socket = socket\n",
    "\n",
    "    def send(self, data):\n",
    "        print(\"Sending {0} to {1}\".format(\n",
    "            data, self.socket.getpeername()[0]))\n",
    "        self.socket.send(data)\n",
    "\n",
    "    def close(self):\n",
    "        self.socket.close()\n",
    "\n",
    "\n",
    "def respond(client, addr):\n",
    "    response = input(\"Enter a value: \")\n",
    "    message = f\"Hello {addr} this is your response: {response}\"\n",
    "    client.send(message.encode('utf8'))\n",
    "    client.close()\n",
    "    return response == 'exit'\n",
    "\n",
    "server = socket.socket(socket.AF_INET, socket.SOCK_STREAM)\n",
    "server.bind(('localhost', 8401))\n",
    "server.listen(1)\n",
    "try:\n",
    "    while True:\n",
    "        client, addr = server.accept()\n",
    "        must_exit = respond(LogSocket(client), addr)\n",
    "        if must_exit:\n",
    "            break\n",
    "finally:\n",
    "    server.close()"
   ]
  },
  {
   "cell_type": "markdown",
   "metadata": {},
   "source": [
    "Esta solución es simple, pero desde el punto de vista de la programación\n",
    "orientada a objetos habría otra opcion, crear nuestra propia clase,\n",
    "derivada de *socket*, y sobreescribir el método `send` (Llamanda al\n",
    "método `send` original con `super().send(...)`, despues de imprimir\n",
    "el mensaje a la consola).\n",
    "\n",
    "Esta opción también es perfectamente válida, para este caso. La ventaja que\n",
    "ofrece el decorador es que nos permite modificar el comportamiento\n",
    "dinámicamente (Algo que no pasa en nuestro ejemplo, pero que puede\n",
    "ser deseable en otros acasos).\n",
    "\n",
    "Para lenguajes que no soportan herencia múltiple, también se usa este patrón \n",
    "para asignar varios comportamientos a un método.\n",
    "\n",
    "Vamos a ver un ejemplo de esto creando un segundo decorador. Este decorador\n",
    "lo que va a hacer es comprimir el contenido a enviar usando la librería\n",
    "estándar `zlib`."
   ]
  },
  {
   "cell_type": "code",
   "execution_count": null,
   "metadata": {},
   "outputs": [],
   "source": [
    "import zlib\n",
    "\n",
    "class GzipSocket:\n",
    "\n",
    "    def __init__(self, socket):\n",
    "        self._socket = socket\n",
    "\n",
    "    def send(self, data):\n",
    "        c_data = zlib.compress(data)\n",
    "        self._socket.send(c_data)\n",
    "\n",
    "    def close(self):\n",
    "        self._socket.close()"
   ]
  },
  {
   "cell_type": "markdown",
   "metadata": {},
   "source": [
    "El método `send` en este caso comprime los datos antes de enviarlos al cliente.\n",
    "\n",
    "Ahora, con este decorador, vamos a escribir una nueva versión del\n",
    "servidor que, de forma dinámica, toma la decisión de si comprimir o no\n",
    "los datos de respuesta. Podemos imaginar que de alguna manera el cliente\n",
    "ha informado al servidor de si es capaz de aceptar comtenidos comprimidos o no.\n",
    "\n",
    "Para mantener el ejemplo sencillo, vamos a suponer que hay un objeto `options`\n",
    "con un valor lógico `True` o `False`, llamada `use_compress`. El código podría\n",
    "quedar más o menos así:"
   ]
  },
  {
   "cell_type": "code",
   "execution_count": 1,
   "metadata": {},
   "outputs": [
    {
     "ename": "OSError",
     "evalue": "[Errno 48] Address already in use",
     "output_type": "error",
     "traceback": [
      "\u001b[0;31m---------------------------------------------------------------------------\u001b[0m",
      "\u001b[0;31mOSError\u001b[0m                                   Traceback (most recent call last)",
      "\u001b[0;32m<ipython-input-1-73925c656e9e>\u001b[0m in \u001b[0;36m<module>\u001b[0;34m\u001b[0m\n\u001b[1;32m     24\u001b[0m \u001b[0;34m\u001b[0m\u001b[0m\n\u001b[1;32m     25\u001b[0m \u001b[0mserver\u001b[0m \u001b[0;34m=\u001b[0m \u001b[0msocket\u001b[0m\u001b[0;34m.\u001b[0m\u001b[0msocket\u001b[0m\u001b[0;34m(\u001b[0m\u001b[0msocket\u001b[0m\u001b[0;34m.\u001b[0m\u001b[0mAF_INET\u001b[0m\u001b[0;34m,\u001b[0m \u001b[0msocket\u001b[0m\u001b[0;34m.\u001b[0m\u001b[0mSOCK_STREAM\u001b[0m\u001b[0;34m)\u001b[0m\u001b[0;34m\u001b[0m\u001b[0;34m\u001b[0m\u001b[0m\n\u001b[0;32m---> 26\u001b[0;31m \u001b[0mserver\u001b[0m\u001b[0;34m.\u001b[0m\u001b[0mbind\u001b[0m\u001b[0;34m(\u001b[0m\u001b[0;34m(\u001b[0m\u001b[0;34m'localhost'\u001b[0m\u001b[0;34m,\u001b[0m \u001b[0;36m8401\u001b[0m\u001b[0;34m)\u001b[0m\u001b[0;34m)\u001b[0m\u001b[0;34m\u001b[0m\u001b[0;34m\u001b[0m\u001b[0m\n\u001b[0m\u001b[1;32m     27\u001b[0m \u001b[0mserver\u001b[0m\u001b[0;34m.\u001b[0m\u001b[0mlisten\u001b[0m\u001b[0;34m(\u001b[0m\u001b[0;36m1\u001b[0m\u001b[0;34m)\u001b[0m\u001b[0;34m\u001b[0m\u001b[0;34m\u001b[0m\u001b[0m\n\u001b[1;32m     28\u001b[0m \u001b[0;32mtry\u001b[0m\u001b[0;34m:\u001b[0m\u001b[0;34m\u001b[0m\u001b[0;34m\u001b[0m\u001b[0m\n",
      "\u001b[0;31mOSError\u001b[0m: [Errno 48] Address already in use"
     ]
    }
   ],
   "source": [
    "import socket\n",
    "import zlib\n",
    "\n",
    "class ZCompressSocket:\n",
    "\n",
    "    def __init__(self, socket):\n",
    "        self._socket = socket\n",
    "\n",
    "    def send(self, data):\n",
    "        c_data = zlib.compress(data)\n",
    "        self._socket.send(c_data)\n",
    "\n",
    "    def close(self):\n",
    "        self._socket.close()\n",
    "\n",
    "\n",
    "def respond(client, addr):\n",
    "    response = input(\"Enter a value: \")\n",
    "    message = f\"Hello {addr} this is your response: {response}\"\n",
    "    client.send(message.encode('utf8'))\n",
    "    client.close()\n",
    "    return response == 'exit'\n",
    "\n",
    "\n",
    "server = socket.socket(socket.AF_INET, socket.SOCK_STREAM)\n",
    "server.bind(('localhost', 8401))\n",
    "server.listen(1)\n",
    "try:\n",
    "    while True:\n",
    "        client, addr = server.accept()\n",
    "        must_exit = respond(ZCompressSocket(client), addr)\n",
    "        if must_exit:\n",
    "            break\n",
    "finally:\n",
    "    server.close()"
   ]
  },
  {
   "cell_type": "markdown",
   "metadata": {},
   "source": [
    "Copy\n",
    "        client, addr = server.accept()\n",
    "        if log_send:\n",
    "            client = LoggingSocket(client)\n",
    "        if client.getpeername()[0] in compress_hosts:\n",
    "            client = GzipSocket(client)\n",
    "        respond(client)\n",
    "This code checks a hypothetical configuration variable named log_send. If it's enabled, it wraps the socket in a LoggingSocket decorator. Similarly, it checks whether the client that has connected is in a list of addresses known to accept compressed content. If so, it wraps the client in a GzipSocket decorator. Notice that none, either, or both of the decorators may be enabled, depending on the configuration and connecting client. Try writing this using multiple inheritance and see how confused you get!"
   ]
  },
  {
   "cell_type": "markdown",
   "metadata": {
    "slideshow": {
     "slide_type": "slide"
    }
   },
   "source": [
    "### Decorators in Python\n",
    "\n",
    "El patrón decorador es muy usado en Python, hasta el punto que se proporciona una\n",
    "sintaxis especial para decorar funciones, métodos e incluso clases. \n",
    "\n",
    "Por ejemplo, podemos generalizar nuestro decorador de *logging*.\n",
    "Podria ser muy útil no solo para nuestro ejemplo con los *sockets*, sino\n",
    "con cualquier función. El siguiente ejemplo implemente este decorador\n",
    "más general:"
   ]
  },
  {
   "cell_type": "code",
   "execution_count": 8,
   "metadata": {},
   "outputs": [
    {
     "name": "stdout",
     "output_type": "stream",
     "text": [
      "Ejecutando test1 con argumentos (1, 2, 3) y {}\n",
      "\ttest1 called\n",
      "Executado test1 en 0.00036263465881347656 milisegundos\n",
      "El resultado fue None\n",
      "Ejecutando test2 con argumentos (4,) y {'b': 5}\n",
      "\ttest2 called\n",
      "Executado test2 en 0.0001780986785888672 milisegundos\n",
      "El resultado fue 7\n",
      "Ejecutando test3 con argumentos (6, 7) y {}\n",
      "\ttest3 called\n",
      "Executado test3 en 1.001971960067749 milisegundos\n",
      "El resultado fue None\n"
     ]
    }
   ],
   "source": [
    "import time\n",
    "\n",
    "def logged(func):\n",
    "    \n",
    "    def wrapper(*args, **kwargs):\n",
    "        name = func.__name__\n",
    "        start_time = time.time()\n",
    "        print(f\"Ejecutando {name} con argumentos {args} y {kwargs}\")\n",
    "        return_value = func(*args, **kwargs)\n",
    "        delta = time.time() - start_time\n",
    "        print(f\"Executado {name} en {delta} milisegundos\")\n",
    "        print(f\"El resultado fue {return_value}\")\n",
    "        return return_value\n",
    "    \n",
    "    return wrapper\n",
    "\n",
    "def test1(a,b,c):\n",
    "    print(\"\\ttest1 called\")\n",
    "\n",
    "def test2(a,b):\n",
    "    print(\"\\ttest2 called\")\n",
    "    return 7\n",
    "\n",
    "def test3(a,b):\n",
    "    print(\"\\ttest3 called\")\n",
    "    time.sleep(1)\n",
    "\n",
    "test1 = logged(test1)\n",
    "test2 = logged(test2)\n",
    "test3 = logged(test3)\n",
    "\n",
    "test1(1,2,3)\n",
    "test2(4,b=5)\n",
    "test3(6,7)"
   ]
  },
  {
   "cell_type": "markdown",
   "metadata": {},
   "source": [
    "Este decorador es conceptualmente igual que el del ejemplo anterior; allí\n",
    "el decorador acepta algo que parece un socket y devolvia algo que también\n",
    "parece un socket. En este caso, este decorador acepta como parametro\n",
    "una función y devuelve una nueva función. Este proceso se realiza en tres\n",
    "pasos:\n",
    "\n",
    "- En primer lugar tenemos la funcion `logged`, que acepta como parámetro\n",
    "  de entrada otra función.\n",
    "  \n",
    "- Internamente, se define una función (En nuestro ejemplo, *wrapper*), que\n",
    "  hace una serie de cosas antes y despues de llamar a la función\n",
    "  original\n",
    "  \n",
    "- Se devuelve la nueva función."
   ]
  },
  {
   "cell_type": "code",
   "execution_count": null,
   "metadata": {},
   "outputs": [],
   "source": []
  }
 ],
 "metadata": {
  "celltoolbar": "Slideshow",
  "kernelspec": {
   "display_name": "Python 3",
   "language": "python",
   "name": "python3"
  },
  "language_info": {
   "codemirror_mode": {
    "name": "ipython",
    "version": 3
   },
   "file_extension": ".py",
   "mimetype": "text/x-python",
   "name": "python",
   "nbconvert_exporter": "python",
   "pygments_lexer": "ipython3",
   "version": "3.7.6"
  }
 },
 "nbformat": 4,
 "nbformat_minor": 4
}
