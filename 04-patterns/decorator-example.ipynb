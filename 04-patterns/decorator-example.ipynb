{
 "cells": [
  {
   "cell_type": "code",
   "execution_count": 1,
   "metadata": {},
   "outputs": [],
   "source": [
    "import re\n",
    "import os\n",
    "import shutil"
   ]
  },
  {
   "cell_type": "code",
   "execution_count": 31,
   "metadata": {},
   "outputs": [],
   "source": [
    "class OpenVersionedFile:\n",
    "    \n",
    "    MAX_VERSIONS = 3\n",
    "    \n",
    "    def __init__(self, filename, mode='r'):\n",
    "        self.path, self.filename= os.path.split(filename)\n",
    "        if not self.path:\n",
    "            self.path = \".\"\n",
    "        self.full_path = os.path.join(self.path, self.filename)\n",
    "        self.base, self.extension = os.path.splitext(self.filename)\n",
    "        self.extension = self.extension[1:]  # Get rid of the dot\n",
    "        self.pat = re.compile(f'{self.base}.~(\\\\d+).{self.extension}')\n",
    "        if 'a' in mode or 'w' in mode:\n",
    "            self.make_backup()\n",
    "        self.file_handler = open(self.full_path, mode)        \n",
    "\n",
    "    def __enter__(self):\n",
    "        return self\n",
    "    \n",
    "    def __exit__(self, exc_type, exc_val, exc_tb):\n",
    "        self.close()\n",
    "        \n",
    "    def write(self, s):\n",
    "        self.file_handler.write(s)\n",
    "        \n",
    "    def read(self, size=-1):\n",
    "        return self.file_handler.read(size)\n",
    "    \n",
    "    def close(self):\n",
    "        self.file_handler.close()\n",
    "        \n",
    "    def get_versioned_name(self, num):\n",
    "        return f\"{self.base}.~{num}.{self.extension}\"\n",
    "    \n",
    "    def make_backup(self):\n",
    "        if os.path.isfile(self.full_path):\n",
    "            print(f'start backup of {self.full_path}')\n",
    "            copies = self.get_last_copies()\n",
    "            if copies:\n",
    "                copies = self.shift(copies)\n",
    "            new_filename = self.get_versioned_name(1)\n",
    "            print(f\"-> os copy {self.full_path} -> {new_filename}\")\n",
    "            shutil.copy(self.full_path, new_filename)\n",
    "               \n",
    "    def shift(self, copies):\n",
    "        result = []\n",
    "        while len(copies) >= self.MAX_VERSIONS:\n",
    "            (_, filename) = copies.pop(0)\n",
    "            print(f\"-> delete {filename}\")\n",
    "            os.remove(filename)\n",
    "        for num, filename in copies:\n",
    "            new_filename = self.get_versioned_name(num+1)\n",
    "            result.append((num+1, new_filename))\n",
    "            print(f\"-> os rename {filename} -> {new_filename}\")\n",
    "            shutil.move(filename, new_filename)\n",
    "        return result\n",
    "        \n",
    "    def get_last_copies(self):\n",
    "        seq = (\n",
    "            tuple([self.pat.match(f), f])\n",
    "            for f in os.listdir(self.path)\n",
    "        )\n",
    "        copies = [(int(m.group(1)), fn) for m, fn in seq if m]\n",
    "        return list(reversed(sorted(copies)))"
   ]
  },
  {
   "cell_type": "code",
   "execution_count": 32,
   "metadata": {},
   "outputs": [
    {
     "name": "stdout",
     "output_type": "stream",
     "text": [
      "start backup of ./hola.txt\n",
      "-> os copy ./hola.txt -> hola.~1.txt\n",
      "start backup of ./hola.txt\n",
      "-> os rename hola.~1.txt -> hola.~2.txt\n",
      "-> os copy ./hola.txt -> hola.~1.txt\n",
      "start backup of ./hola.txt\n",
      "-> os rename hola.~2.txt -> hola.~3.txt\n",
      "-> os rename hola.~1.txt -> hola.~2.txt\n",
      "-> os copy ./hola.txt -> hola.~1.txt\n",
      "start backup of ./hola.txt\n",
      "-> delete hola.~3.txt\n",
      "-> os rename hola.~2.txt -> hola.~3.txt\n",
      "-> os rename hola.~1.txt -> hola.~2.txt\n",
      "-> os copy ./hola.txt -> hola.~1.txt\n",
      "hola.txt    hola.~1.txt hola.~2.txt hola.~3.txt\r\n"
     ]
    }
   ],
   "source": [
    "! rm hola*txt\n",
    "\n",
    "f = OpenVersionedFile(\"hola.txt\", 'w')\n",
    "f.write(\"Esta es la primera versión\")\n",
    "f.close()\n",
    "        \n",
    "f = OpenVersionedFile(\"hola.txt\", 'w')\n",
    "f.write(\"Esta es la segunda versión\")\n",
    "f.close()\n",
    "\n",
    "f = OpenVersionedFile(\"hola.txt\", 'w')\n",
    "f.write(\"Esta es la tercera versión\")\n",
    "f.close()\n",
    "\n",
    "f = OpenVersionedFile(\"hola.txt\", 'w')\n",
    "f.write(\"Esta es la cuarta versión\")\n",
    "f.close()\n",
    "\n",
    "with OpenVersionedFile(\"hola.txt\", 'w') as f:\n",
    "    f.write(\"Esta es la quinta versión\")\n",
    "\n",
    "\n",
    "\n",
    "!ls hola*"
   ]
  },
  {
   "cell_type": "code",
   "execution_count": 33,
   "metadata": {},
   "outputs": [
    {
     "name": "stdout",
     "output_type": "stream",
     "text": [
      "Esta es la quinta versión"
     ]
    }
   ],
   "source": [
    "cat hola.txt"
   ]
  },
  {
   "cell_type": "code",
   "execution_count": 37,
   "metadata": {},
   "outputs": [
    {
     "name": "stdout",
     "output_type": "stream",
     "text": [
      "cat: hola.~4.txt: No such file or directory\r\n"
     ]
    }
   ],
   "source": [
    "cat hola.~4.txt"
   ]
  },
  {
   "cell_type": "code",
   "execution_count": 38,
   "metadata": {},
   "outputs": [
    {
     "name": "stdout",
     "output_type": "stream",
     "text": [
      "Esta es la quinta versión\n"
     ]
    }
   ],
   "source": [
    "with OpenVersionedFile(\"hola.txt\", 'r') as f:\n",
    "    print(f.read())"
   ]
  },
  {
   "cell_type": "code",
   "execution_count": 39,
   "metadata": {},
   "outputs": [
    {
     "name": "stdout",
     "output_type": "stream",
     "text": [
      "hola.txt    hola.~1.txt hola.~2.txt hola.~3.txt\r\n"
     ]
    }
   ],
   "source": [
    "!ls hola*"
   ]
  },
  {
   "cell_type": "code",
   "execution_count": 40,
   "metadata": {},
   "outputs": [
    {
     "name": "stdout",
     "output_type": "stream",
     "text": [
      "Esta es la quinta versión"
     ]
    }
   ],
   "source": [
    "!cat hola.txt"
   ]
  },
  {
   "cell_type": "code",
   "execution_count": 41,
   "metadata": {},
   "outputs": [
    {
     "name": "stdout",
     "output_type": "stream",
     "text": [
      "Esta es la cuarta versión"
     ]
    }
   ],
   "source": [
    "!cat hola.~1.txt"
   ]
  },
  {
   "cell_type": "code",
   "execution_count": 42,
   "metadata": {},
   "outputs": [
    {
     "name": "stdout",
     "output_type": "stream",
     "text": [
      "Esta es la tercera versión"
     ]
    }
   ],
   "source": [
    "!cat hola.~2.txt"
   ]
  },
  {
   "cell_type": "code",
   "execution_count": 43,
   "metadata": {},
   "outputs": [
    {
     "name": "stdout",
     "output_type": "stream",
     "text": [
      "Esta es la segunda versión"
     ]
    }
   ],
   "source": [
    "!cat hola.~3.txt"
   ]
  },
  {
   "cell_type": "code",
   "execution_count": 49,
   "metadata": {},
   "outputs": [
    {
     "name": "stdout",
     "output_type": "stream",
     "text": [
      "aa.txt\r\n"
     ]
    }
   ],
   "source": [
    "!rm aa*.txt && echo \"First line\" > aa.txt && ls aa*"
   ]
  },
  {
   "cell_type": "code",
   "execution_count": 50,
   "metadata": {},
   "outputs": [
    {
     "name": "stdout",
     "output_type": "stream",
     "text": [
      "start backup of ./aa.txt\n",
      "-> os copy ./aa.txt -> aa.~1.txt\n"
     ]
    }
   ],
   "source": [
    "with OpenVersionedFile('aa.txt', 'a') as f:\n",
    "    f.write(\"Second line\")"
   ]
  },
  {
   "cell_type": "code",
   "execution_count": 51,
   "metadata": {},
   "outputs": [
    {
     "name": "stdout",
     "output_type": "stream",
     "text": [
      "First line\r\n",
      "Second line"
     ]
    }
   ],
   "source": [
    "!cat aa.txt"
   ]
  },
  {
   "cell_type": "code",
   "execution_count": 52,
   "metadata": {},
   "outputs": [
    {
     "name": "stdout",
     "output_type": "stream",
     "text": [
      "First line\r\n"
     ]
    }
   ],
   "source": [
    "!cat aa.~1.txt"
   ]
  }
 ],
 "metadata": {
  "kernelspec": {
   "display_name": "Python 3",
   "language": "python",
   "name": "python3"
  },
  "language_info": {
   "codemirror_mode": {
    "name": "ipython",
    "version": 3
   },
   "file_extension": ".py",
   "mimetype": "text/x-python",
   "name": "python",
   "nbconvert_exporter": "python",
   "pygments_lexer": "ipython3",
   "version": "3.7.6"
  }
 },
 "nbformat": 4,
 "nbformat_minor": 4
}
