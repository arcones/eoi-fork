{
 "cells": [
  {
   "cell_type": "markdown",
   "metadata": {
    "slideshow": {
     "slide_type": "slide"
    }
   },
   "source": [
    "## El patrón subscripción (Subscribe)"
   ]
  },
  {
   "cell_type": "markdown",
   "metadata": {
    "slideshow": {
     "slide_type": "slide"
    }
   },
   "source": [
    "__Suscripción__ (En inglés *Subscribe pattern*, a veces *Dependents*, *Publish-Subscribe* o \n",
    "*Pub-Sub* *Pattern*) es un patrón de comportamiento, que permite establecer una relacion\n",
    "1-N entre varios objetos, de forma que, cuando el estado de un objeto\n",
    "__publicador__ (*publisher*) cambia, todos los objetos a los que este\n",
    "cambio afecta, los __suscriptores__ (*subscribers*), son notificados."
   ]
  },
  {
   "cell_type": "markdown",
   "metadata": {
    "slideshow": {
     "slide_type": "slide"
    }
   },
   "source": [
    "Para evitar que los suscriptores y los publicadores estén acoplados, el publicador **no se comunica directamemte\n",
    "con ningún suscriptor**, ni necesita saber\n",
    "cuantos hay. De hecho, podría no haber ninguno.\n",
    "\n",
    "Tampoco los subscriptores necesitan saber nada de los publicadores, solo expresan un interes un un **área o \n",
    "tópico** (*topic*) del que quieren estar informados.\n",
    "\n",
    "El único conocimiento compartido entre ellos es el formato del mensaje utilizado para la notificación."
   ]
  },
  {
   "cell_type": "markdown",
   "metadata": {
    "slideshow": {
     "slide_type": "slide"
    }
   },
   "source": [
    "Si el nombre hace pensar en un sistema de subscripcion a\n",
    "una revisto o apuntarse a un canal de YouTube para que te notifique cuando se pubiquen vídeos nuevos, es\n",
    "porque es exactamente la misma idea.\n",
    "\n",
    "![subscribe!](./img/subscribe.webp)"
   ]
  },
  {
   "cell_type": "code",
   "execution_count": null,
   "metadata": {},
   "outputs": [],
   "source": []
  }
 ],
 "metadata": {
  "celltoolbar": "Slideshow",
  "kernelspec": {
   "display_name": "Python 3",
   "language": "python",
   "name": "python3"
  },
  "language_info": {
   "codemirror_mode": {
    "name": "ipython",
    "version": 3
   },
   "file_extension": ".py",
   "mimetype": "text/x-python",
   "name": "python",
   "nbconvert_exporter": "python",
   "pygments_lexer": "ipython3",
   "version": "3.7.6"
  }
 },
 "nbformat": 4,
 "nbformat_minor": 4
}
