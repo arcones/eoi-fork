{
 "cells": [
  {
   "cell_type": "markdown",
   "metadata": {
    "slideshow": {
     "slide_type": "slide"
    }
   },
   "source": [
    "## El patrón Adapter (Adaptador)\n",
    "\n",
    "### Motivación\n",
    "\n",
    "Convierte la interfaz de una clase en otra interfaz que es la que esperan los\n",
    "clientes. Permite que cooperen clases que de otra forma no podrían por tener\n",
    "interfaces incompatibles."
   ]
  },
  {
   "cell_type": "markdown",
   "metadata": {
    "slideshow": {
     "slide_type": "slide"
    }
   },
   "source": [
    "### También conocido como\n",
    "\n",
    "- *Wrapper* (Envoltorio)"
   ]
  },
  {
   "cell_type": "markdown",
   "metadata": {
    "slideshow": {
     "slide_type": "slide"
    }
   },
   "source": [
    "### Motivación\n",
    "\n",
    "A veces una clase o función no pueden reutilizarse, porque su interfaz no coincide con\n",
    "la interfaz específica que requiere la aplicación."
   ]
  },
  {
   "cell_type": "markdown",
   "metadata": {
    "slideshow": {
     "slide_type": "slide"
    }
   },
   "source": [
    "Pensemos, por ejemplo, en un editor de dibujo que permita que los usuarios\n",
    "dibujen y ubiquen elementos gráficos (líneas, polígonos, texto, etc.) en dibujos\n",
    "y diagramas."
   ]
  },
  {
   "cell_type": "markdown",
   "metadata": {
    "slideshow": {
     "slide_type": "slide"
    }
   },
   "source": [
    "La abstracción fundamental del editor de dibujo es el objeto\n",
    "gráfico, que tiene una forma modificable y que puede dibujarse a sí mismo. La\n",
    "interfaz de los objetos gráficos está definida por una clase abstracta llamada\n",
    "`Shape`. "
   ]
  },
  {
   "cell_type": "markdown",
   "metadata": {
    "slideshow": {
     "slide_type": "slide"
    }
   },
   "source": [
    "El editor define una subclase de `Shape` para cada tipo de objeto gráfico:\n",
    "una clase `LineShape` para las líneas, otra `PolygonShape` para los polígonos,\n",
    "etcétera."
   ]
  },
  {
   "cell_type": "markdown",
   "metadata": {
    "slideshow": {
     "slide_type": "slide"
    }
   },
   "source": [
    "Las clases de formas geométricas elementales, como `LineShape` y `PolygonShape` son\n",
    "bastante fáciles de implementar, ya que sus capacidades de dibujado y edición\n",
    "son intrínsecamente limitadas. Pero una subclase *Texto* que pueda mostrar y\n",
    "editar texto es considerablemente más difícil de implementar, ya que incluso la\n",
    "edición básica de texto implica actualizaciones de pantalla complicadas y\n",
    "gestión de búferes."
   ]
  },
  {
   "cell_type": "markdown",
   "metadata": {
    "slideshow": {
     "slide_type": "slide"
    }
   },
   "source": [
    "A su vez, un librería comercial de interfaces de usuario\n",
    "podría proporcionar una clase `TextView` sofisticada para mostrar y editar\n",
    "texto. Lo que nos gustaría sería poder reutilizar `TextView` para implementar\n",
    "`TextShape`, pero la librería no se diseñó con las clases `Shape` en mente. Por\n",
    "tanto, no podemos usar los objetos `TextView` y `Shape` de manera intercambiable."
   ]
  },
  {
   "cell_type": "markdown",
   "metadata": {
    "slideshow": {
     "slide_type": "slide"
    }
   },
   "source": [
    "Podríamos cambiar la clase `TextView` para que se ajustase a la interfaz `Shape`,\n",
    "pero no tenemos el código fuente de la librería."
   ]
  },
  {
   "cell_type": "markdown",
   "metadata": {
    "slideshow": {
     "slide_type": "slide"
    }
   },
   "source": [
    "Incluso aunque así fuese, no tendría sentido cambiar `TextView`; no\n",
    "deberíamos tener que adoptar interfaces específicas del dominio sólo para que\n",
    "funcione una aplicación."
   ]
  },
  {
   "cell_type": "markdown",
   "metadata": {
    "slideshow": {
     "slide_type": "slide"
    }
   },
   "source": [
    "En vez de eso, podríamos definir `TextShape` para que adapte la interfaz\n",
    "`TextView` a la de `Shape`. Podemos hacer esto de dos maneras:"
   ]
  },
  {
   "cell_type": "markdown",
   "metadata": {
    "slideshow": {
     "slide_type": "slide"
    }
   },
   "source": [
    "1) Heredando la interfaz de `Shape` y la implementación de `TextView`"
   ]
  },
  {
   "cell_type": "markdown",
   "metadata": {
    "slideshow": {
     "slide_type": "slide"
    }
   },
   "source": [
    "2) Componiendo una instancia `TextView` dentro de una `TextShape` "
   ]
  },
  {
   "cell_type": "markdown",
   "metadata": {
    "slideshow": {
     "slide_type": "slide"
    }
   },
   "source": [
    "Ambos enfoques se corresponden con las versiones de clases y de objetos del\n",
    "patrón *Adapter*. Decimos entonces que `TextForm` es un adaptador."
   ]
  },
  {
   "cell_type": "markdown",
   "metadata": {
    "slideshow": {
     "slide_type": "slide"
    }
   },
   "source": [
    "### Cuándo usar este patrón\n",
    "\n",
    "- Si se quiere usar una clase existente y su interfaz no concuerda con la que\n",
    "  necesita."
   ]
  },
  {
   "cell_type": "markdown",
   "metadata": {
    "slideshow": {
     "slide_type": "slide"
    }
   },
   "source": [
    "### Ejemplo de implementacion\n",
    "\n",
    "Supongamos que tenemos una serie de clases que hacen un analisis de nuestra\n",
    "maquina, y un script que muestra el estado general del sistema, con el siguiente\n",
    "codigo:"
   ]
  },
  {
   "cell_type": "code",
   "execution_count": 4,
   "metadata": {
    "slideshow": {
     "slide_type": "slide"
    }
   },
   "outputs": [
    {
     "name": "stdout",
     "output_type": "stream",
     "text": [
      "Information on this computer:\n",
      " - CPU: Intel i8 6 cores\n",
      " - Memory: 64 GB\n"
     ]
    }
   ],
   "source": [
    "class CPU:\n",
    "\n",
    "    def info(self):\n",
    "        return 'Intel i8 6 cores'\n",
    "\n",
    "class Memory:\n",
    "    \n",
    "    def info(self):\n",
    "        return '64 GB'\n",
    "\n",
    "print(\"Information on this computer:\")\n",
    "for Cls in (CPU, Memory):\n",
    "    instance = Cls()\n",
    "    print(f\" - {Cls.__name__}: {instance.info()}\")\n"
   ]
  },
  {
   "cell_type": "markdown",
   "metadata": {
    "slideshow": {
     "slide_type": "slide"
    }
   },
   "source": [
    "Nuestra interfaz para estos objetos que devuelven informacion\n",
    "del sistema es, basicamente, que se puedan crear instancias sin\n",
    "ningun parámetro y que tengan un metodo `info` que devuelva la \n",
    "informacion requerida."
   ]
  },
  {
   "cell_type": "markdown",
   "metadata": {
    "slideshow": {
     "slide_type": "slide"
    }
   },
   "source": [
    "Ahora, supongamos que tenemos una libreria como `socket`, que me permite descubrir\n",
    "el nombre de la maquina:"
   ]
  },
  {
   "cell_type": "code",
   "execution_count": 5,
   "metadata": {
    "slideshow": {
     "slide_type": "slide"
    }
   },
   "outputs": [
    {
     "data": {
      "text/plain": [
       "'nova'"
      ]
     },
     "execution_count": 5,
     "metadata": {},
     "output_type": "execute_result"
    }
   ],
   "source": [
    "import socket\n",
    "\n",
    "socket.gethostname()"
   ]
  },
  {
   "cell_type": "markdown",
   "metadata": {
    "slideshow": {
     "slide_type": "slide"
    }
   },
   "source": [
    "El problema es que las ingterfaces no coinciden. `socket` es un módulo, no una clase. `gethostname` es una función, no un método, y además su nombre no corresponde con `info`."
   ]
  },
  {
   "cell_type": "markdown",
   "metadata": {
    "slideshow": {
     "slide_type": "slide"
    }
   },
   "source": [
    "PAra estos casos nació el patrón *Adapter*. Solo necesitamos una nueva clase *adaptadora* que use nuestro esquema\n",
    "de llamadas para realizar las llamadas a la interfaz de `socket`."
   ]
  },
  {
   "cell_type": "code",
   "execution_count": 8,
   "metadata": {
    "slideshow": {
     "slide_type": "slide"
    }
   },
   "outputs": [
    {
     "name": "stdout",
     "output_type": "stream",
     "text": [
      "Information on this computer:\n",
      " - CPU: Intel i8 6 cores\n",
      " - Memory: 64 GB\n",
      " - Hostname: nova\n"
     ]
    }
   ],
   "source": [
    "import socket\n",
    "\n",
    "class Hostname:\n",
    "    def __init__(self):\n",
    "\n",
    "        self.gethostname = socket.gethostname\n",
    "        \n",
    "    def info(self):\n",
    "        return self.gethostname()\n",
    "\n",
    "\n",
    "print(\"Information on this computer:\")\n",
    "for Cls in (CPU, Memory, Hostname):\n",
    "    instance = Cls()\n",
    "    print(f\" - {Cls.__name__}: {instance.info()}\")"
   ]
  },
  {
   "cell_type": "markdown",
   "metadata": {
    "slideshow": {
     "slide_type": "slide"
    }
   },
   "source": [
    "**Ejercicio**: La librería estándar `sys` tiene una función llamada `platform` que nos da informacion\n",
    "    acerca del sistem operativo en que se esta ejecutando Python. Podriamos incluir esta\n",
    "    informacion en nuestro listado, pero de nuevo, la interfaz no concuerda. ¿Puede escribir un\n",
    "    adaptador para integrar esa información en nuestro script"
   ]
  },
  {
   "cell_type": "code",
   "execution_count": 10,
   "metadata": {
    "slideshow": {
     "slide_type": "slide"
    }
   },
   "outputs": [
    {
     "data": {
      "text/plain": [
       "'linux'"
      ]
     },
     "execution_count": 10,
     "metadata": {},
     "output_type": "execute_result"
    }
   ],
   "source": [
    "import sys\n",
    "\n",
    "sys.platform"
   ]
  },
  {
   "cell_type": "code",
   "execution_count": 13,
   "metadata": {
    "slideshow": {
     "slide_type": "slide"
    }
   },
   "outputs": [
    {
     "name": "stdout",
     "output_type": "stream",
     "text": [
      "Information on this computer:\n",
      " - CPU: Intel i8 6 cores\n",
      " - Memory: 64 GB\n",
      " - Hostname: nova\n",
      " - Platform: linux\n"
     ]
    }
   ],
   "source": [
    "# %load adapter.py\n",
    "import sys\n",
    "import socket\n",
    "\n",
    "\n",
    "class CPU:\n",
    "\n",
    "    def info(self):\n",
    "        return 'Intel i8 6 cores'\n",
    "\n",
    "\n",
    "class Memory:\n",
    "\n",
    "    def info(self):\n",
    "        return '64 GB'\n",
    "\n",
    "\n",
    "class Hostname:\n",
    "    def __init__(self):\n",
    "        self.hostname = socket.gethostname()\n",
    "\n",
    "    def info(self):\n",
    "        return self.hostname\n",
    "\n",
    "\n",
    "class Platform:\n",
    "\n",
    "    def info(self):\n",
    "        return sys.platform\n",
    "\n",
    "\n",
    "print(\"Information on this computer:\")\n",
    "for Cls in (CPU, Memory, Hostname, Platform):\n",
    "    instance = Cls()\n",
    "    print(f\" - {Cls.__name__}: {instance.info()}\")\n"
   ]
  },
  {
   "cell_type": "code",
   "execution_count": null,
   "metadata": {},
   "outputs": [],
   "source": []
  }
 ],
 "metadata": {
  "celltoolbar": "Slideshow",
  "kernelspec": {
   "display_name": "Python 3",
   "language": "python",
   "name": "python3"
  },
  "language_info": {
   "codemirror_mode": {
    "name": "ipython",
    "version": 3
   },
   "file_extension": ".py",
   "mimetype": "text/x-python",
   "name": "python",
   "nbconvert_exporter": "python",
   "pygments_lexer": "ipython3",
   "version": "3.7.6"
  }
 },
 "nbformat": 4,
 "nbformat_minor": 4
}
