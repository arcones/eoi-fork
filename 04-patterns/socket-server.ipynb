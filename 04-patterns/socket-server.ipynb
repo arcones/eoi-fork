{
 "cells": [
  {
   "cell_type": "code",
   "execution_count": null,
   "metadata": {},
   "outputs": [],
   "source": [
    "# %load socket-server.py\n",
    "#!/usr/bin/env python\n",
    "\n",
    "import socket\n",
    "\n",
    "def respond(client, addr):\n",
    "    response = input(\"Enter a value: \")\n",
    "    message = f\"Hello {addr} this is your response: {response}\"\n",
    "    client.send(message.encode('utf8'))\n",
    "    client.close()\n",
    "    return response == 'exit'\n",
    "\n",
    "server = socket.socket(socket.AF_INET, socket.SOCK_STREAM)\n",
    "server.bind(('localhost', 8401))\n",
    "server.listen(1)\n",
    "try:\n",
    "    while True:\n",
    "        client, addr = server.accept()\n",
    "        must_exit = respond(client, addr)\n",
    "        if must_exit:\n",
    "            break\n",
    "finally:\n",
    "    server.close()"
   ]
  }
 ],
 "metadata": {
  "kernelspec": {
   "display_name": "Python 3",
   "language": "python",
   "name": "python3"
  },
  "language_info": {
   "codemirror_mode": {
    "name": "ipython",
    "version": 3
   },
   "file_extension": ".py",
   "mimetype": "text/x-python",
   "name": "python",
   "nbconvert_exporter": "python",
   "pygments_lexer": "ipython3",
   "version": "3.7.6"
  }
 },
 "nbformat": 4,
 "nbformat_minor": 4
}
