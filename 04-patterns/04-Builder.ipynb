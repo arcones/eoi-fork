{
 "cells": [
  {
   "cell_type": "markdown",
   "metadata": {
    "slideshow": {
     "slide_type": "slide"
    }
   },
   "source": [
    "### El patrón Builder"
   ]
  },
  {
   "cell_type": "markdown",
   "metadata": {
    "slideshow": {
     "slide_type": "slide"
    }
   },
   "source": [
    "### PROPÓSITO\n",
    "\n",
    "Separa la construcción de un objeto complejo de su representación, de forma que el mismo proceso de construcción pueda crear diferentes representaciones."
   ]
  },
  {
   "cell_type": "code",
   "execution_count": null,
   "metadata": {
    "slideshow": {
     "slide_type": "slide"
    }
   },
   "outputs": [],
   "source": [
    "def f(a=-1, b=-1, c=-1, d=-1, e=-1, f=-1):\n",
    "    \n",
    "f(a=2, b=6)\n",
    "f(c=3, d=5, e=7, f=8)\n",
    "\n",
    "\n",
    "\n",
    "b = BuilderForF()\n",
    "b.set_a(2)\n",
    "b.set_b(5)\n",
    "b.call()"
   ]
  },
  {
   "cell_type": "markdown",
   "metadata": {
    "slideshow": {
     "slide_type": "slide"
    }
   },
   "source": [
    "Al contrario que otros patrones creacionales, *Builder* no requiere que los objetos\n",
    "que vaya a crear tengan que tener una interfaz común. Podemos crear objetos\n",
    "totalmente diferentes usando el mismo proceso de construccion."
   ]
  },
  {
   "cell_type": "markdown",
   "metadata": {
    "slideshow": {
     "slide_type": "slide"
    }
   },
   "source": [
    "### MOTIVACIÓN\n",
    "\n",
    "Es especialmente útil en aquellos casos en lso que tenemos que crear objeots\n",
    "que adminten múltiples opciones de configuracion. Es habitual encontralo\n",
    "en clases que tienen un metodo de creacion simple y un serie\n",
    "de metodos de configuracion, y normalmente soportan llamadas en cadena, por\n",
    "ejemplo `someBuilder.set_value_a(1).set_value_b(2).create()`."
   ]
  },
  {
   "cell_type": "markdown",
   "metadata": {
    "slideshow": {
     "slide_type": "slide"
    }
   },
   "source": [
    "The Builder pattern can be recognized in class, which has a single creation method and several methods to configure the resulting object. Builder methods often support chaining (for example, \n",
    "\n",
    "\n",
    "Un lector del formato de intercambio de documentos RTF (Rich Text Format) debería poder convertir RTF a muchos formatos de texto. Podría convertir documentos RTF a texto ASCII o a un útil[32] de texto que pueda editarse de forma interactiva. El problema, no obstante, es que el número de conversiones posibles es indefinido. Por tanto, tendría que ser fácil añadir una nueva conversión sin modificar el lector.\n",
    "\n",
    "Una solución es configurar la clase LectorRTF con un objeto ConvertidorDeTexto que convierta RTF a otra representación textual. Cuando el LectorRTF analiza el documento RTF, usa el ConvertidorDeTexto para realizar la conversión. Cada vez que el LectorRTF reconozca un token RTF (ya sea texto normal o una palabra de control de RTF), envía una petición al ConvertidorDeTexto para que lo convierta. Los objetos ConvertidorDeTexto son responsables de realizar la conversión de datos y de representar el token en un determinado formato.\n",
    "\n",
    "Las subclases de ConvertidorDeTexto están especializadas en diferentes conversiones y formatos. Por ejemplo, un ConvertidorASCII hace caso omiso de las peticiones de conversión de cualquier otra cosa que no sea texto sin formato. Por otro lado, un ConvertidorTeX, implementará operaciones para todas las peticiones, con el objetivo de producir una representación en TeX con toda la información de estilo que haya en el texto. Un ConvertidorUtilDeTexto producirá un objeto complejo de interfaz de usuario que permita al usuario ver y editar el texto.\n",
    "\n",
    "La clase de cada tipo de convertidor toma el mecanismo de creación y ensamblaje de un objeto complejo y lo oculta tras una interfaz abstracta. El convertidor se separa del lector, que es el responsable de analizar un documento RTF.\n",
    "\n",
    "El patrón Builder expresa todas estas relaciones. Cada clase de convertidor se denomina constructor, en el contexto de este patrón, y al lector se le llama director. Aplicado a este ejemplo, el patrón Builder separa el algoritmo para interpretar un formato textual (es decir, el analizador de documentos RTF) de la manera en que se crea y se representa el formato de destino. Esto permite reutilizar el algoritmo de análisis de LectorRTF para crear diferentes representaciones de texto a partir de documentos RTF —basta con configurar el LectorRTF con diferentes subclases de ConvertidorDeTexto—."
   ]
  },
  {
   "cell_type": "markdown",
   "metadata": {
    "slideshow": {
     "slide_type": "slide"
    }
   },
   "source": [
    "### APLICABILIDAD\n",
    "\n",
    "Úsese el patrón Builder cuando\n",
    "\n",
    "- el algoritmo para crear un objeto complejo debiera ser independiente de las partes de que se compone dicho objeto y de cómo se ensamblan.\n",
    "\n",
    "- el proceso de construcción debe permitir diferentes representaciones del objeto que está siendo construido.\n",
    "\n",
    "### PARTICIPANTES\n",
    "\n",
    "- **Constructor** (ConvertidorDeTexto)\n",
    "especifica una interfaz abstracta para crear las partes de un objeto Producto.\n",
    "\n",
    "- **Constructor Concreto** (ConvertidorASCII, ConvertidorTeX, ConvertidorUtilDeTexto)\n",
    "implementa la interfaz Constructor para construir y ensamblar las partes del producto.\n",
    "define la representación a crear.\n",
    "proporciona una interfaz para devolver el producto (p. ej., ObtenerTextoASCII, ObtenerUtilDeTexto).\n",
    "\n",
    "- **Director (LectorRTF)**\n",
    "construye un objeto usando la interfaz Constructor.\n",
    "\n",
    "- **Producto (TextoASCII, TextoTeX, UtilDeTexto)** \n",
    "\n",
    "  representa el objeto complejo en construcción. El ConstructorConcreto\n",
    "  construye la representación interna del producto y define el proceso\n",
    "  de ensamblaje. Incluye las clases que definen sus partes constituyentes,\n",
    "  incluyendo interfaces para ensamblar las partes en el resultado final.\n",
    "  \n",
    "  "
   ]
  },
  {
   "cell_type": "markdown",
   "metadata": {
    "slideshow": {
     "slide_type": "slide"
    }
   },
   "source": [
    "### COLABORACIONES\n",
    "\n",
    "El cliente crea el objeto Director y lo configura con el objeto Constructor deseado.\n",
    "\n",
    "El Director notifica al constructor cada vez que hay que construir una parte de un producto.\n",
    "\n",
    "El Constructor maneja las peticiones del director y las añade al producto.\n",
    "\n",
    "El cliente obtiene el producto del constructor.\n"
   ]
  },
  {
   "cell_type": "markdown",
   "metadata": {
    "slideshow": {
     "slide_type": "slide"
    }
   },
   "source": [
    "### CONSECUENCIAS\n",
    "\n",
    "Éstas son las principales consecuencias del patrón Builder:\n",
    "\n",
    "- Permite __variar la representación interna de un producto__. El objeto\n",
    "  Constructor proporciona al director una interfaz abstracta para\n",
    "  construir el producto. La interfaz permite que el constructor oculte\n",
    "  la representación y la estructura interna del producto. También oculta\n",
    "  el modo en que éste es ensamblado. Dado que el producto se construye a\n",
    "  través de una interfaz abstracta, todo lo que hay que hacer para cambiar\n",
    "  la representación interna del producto es definir un nuevo tipo de constructor.\n",
    "  \n",
    "- __Aísla el código de construcción y representación__. El patrón Builder\n",
    "  aumenta la modularidad al encapsular cómo se construyen y se representan\n",
    "  los objetos complejos. Los clientes no necesitan saber nada de las clases\n",
    "  que definen la estructura interna del producto; dichas clases no aparecen\n",
    "  en la interfaz del Constructor. Cada ConstructorConcreto contiene todo el\n",
    "  código para crear y ensamblar un determinado tipo de producto.\n",
    "  \n",
    "  El código sólo se escribe una vez; después, los diferentes Directores\n",
    "  pueden reutilizarlo para construir variantes de Producto a partir del mismo\n",
    "  conjunto de partes. En el ejemplo anterior de RTF, podríamos definir un\n",
    "  lector para otro formato distinto de RTF. como por ejemplo un LectorSGML,\n",
    "  y usar los mismos objetos ConvertidorDeTexto para generar representaciones\n",
    "  TextoASCII, TextoTeX y UtilDeTexto de documentos SGML.\n",
    "  \n",
    "- **Proporciona un control más fino sobre el proceso de construcción**. A\n",
    "  diferencia de los patrones de creación que construyen los productos de\n",
    "  una vez, el patrón *Builder* construye el producto paso a paso, bajo el\n",
    "  control del director. El director sólo obtiene el producto del constructor\n",
    "  una vez que éste está terminado. Por tanto, la interfaz Constructor refleja\n",
    "  el proceso de construcción del producto más que otros patrones de creación.\n",
    "  Esto da un control más fino sobre el proceso de construcción y, por tanto,\n",
    "  sobre la estructura interna del producto resultante."
   ]
  },
  {
   "cell_type": "markdown",
   "metadata": {
    "slideshow": {
     "slide_type": "slide"
    }
   },
   "source": [
    "### IMPLEMENTACIÓN\n",
    "\n",
    "Normalmente hay una clase abstracta Builder que define una operación para cada componente que puede ser creado. La implementación predeterminada de estas operaciones no hace nada. \n",
    "\n",
    "Una clase ConstructorConcreto redefine las operaciones para los componentes que está interesado en crear.\n",
    "\n",
    "Éstas son otras cuestiones de implementación que hay que considerar:\n",
    "\n",
    "1. **Interfaz de ensamblaje y construcción**. Los constructores construyen sus\n",
    "  productos paso a paso. Por tanto, la interfaz de la clase Constructor debe\n",
    "  ser lo suficientemente general como para permitir construir productos por parte\n",
    "  de todos los tipos de constructores concretos.\n",
    "\n",
    "  Una cuestión de diseño fundamenttal tiene que ver con el modelo del proceso\n",
    "  de construcción y ensamblaje. Normalmente basta con un modelo según el cual\n",
    "  los resultados de las peticiones de construcción simplemente se van añadiendo\n",
    "  al producto. En el ejemplo del RTF, el constructor convierte y añade el\n",
    "  siguiente token al texto que ha convertido hasta la fecha.\n",
    "\n",
    "  Pero a veces podríamos necesitar acceder a las partes del producto que ya\n",
    "  fueron construidas. En el ejemplo del laberinto que presentamos en el Código\n",
    "  de Ejemplo, la interfaz `ConstructorLaberinto` permite añadir una puerta\n",
    "  entre habitaciones existentes. Otro ejemplo son las estructuras arbóreas, como\n",
    "  los árboles sintácticos que se crean de abajo a arriba. En ese caso, el\n",
    "  constructor devolvería nodos hijos al director, el cual los devolvería al\n",
    "  constructor para construir los nodos padre.\n",
    "\n",
    "2. **¿Por qué no usar clases abstractas para los productos?** En general, los\n",
    "  productos creados por los constructores concretos tienen representaciones tan\n",
    "  diferentes que sería de poca ayuda definir una clase padre común para los\n",
    "  diferentes productos. En el ejemplo del RTF, es poco probable que los\n",
    "  objetos TextoASCII y UtilDeTexto tengan una interfaz común. Como el cliente\n",
    "  suele configurar al director con el constructor concreto adecuado, sabe qué\n",
    "  subclase concreta de Constructor se está usando, y puede manejar sus\n",
    "  productos en consecuencia.\n",
    "\n",
    "3. **Métodos vacíos de manera predeterminada en el constructor**. En C++, los\n",
    "  métodos de creación no se declaran como funciones miembro virtuales puras\n",
    "  a propósito. En vez de eso, se definen como métodos vacíos, lo que permite\n",
    "  que los clientes redefinan sólo las operaciones en las que están interesados.\n",
    "  \n",
    " \n",
    "\n"
   ]
  }
 ],
 "metadata": {
  "celltoolbar": "Slideshow",
  "kernelspec": {
   "display_name": "Python 3",
   "language": "python",
   "name": "python3"
  },
  "language_info": {
   "codemirror_mode": {
    "name": "ipython",
    "version": 3
   },
   "file_extension": ".py",
   "mimetype": "text/x-python",
   "name": "python",
   "nbconvert_exporter": "python",
   "pygments_lexer": "ipython3",
   "version": "3.7.6"
  }
 },
 "nbformat": 4,
 "nbformat_minor": 4
}
