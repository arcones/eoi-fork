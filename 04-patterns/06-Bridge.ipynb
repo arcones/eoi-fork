{
 "cells": [
  {
   "cell_type": "markdown",
   "metadata": {
    "slideshow": {
     "slide_type": "slide"
    }
   },
   "source": [
    "## El patrón Bridge (Puente)\n",
    "\n",
    "### PROPÓSITO\n",
    "\n",
    "Desacopla una abstracción de su implementación, de modo que ambas puedan variar\n",
    "de forma independiente."
   ]
  },
  {
   "cell_type": "markdown",
   "metadata": {
    "slideshow": {
     "slide_type": "slide"
    }
   },
   "source": [
    "### TAMBIÉN CONOCIDO COMO\n",
    "\n",
    "*Handle/Body* (Manejador/Cuerpo)"
   ]
  },
  {
   "cell_type": "markdown",
   "metadata": {
    "slideshow": {
     "slide_type": "slide"
    }
   },
   "source": [
    "### MOTIVACIÓN\n",
    "\n",
    "Cuando una abstracción o interfaz puede tener varias implementaciones posibles, la forma\n",
    "más habitual de implementarlas es la herencia."
   ]
  },
  {
   "cell_type": "markdown",
   "metadata": {
    "slideshow": {
     "slide_type": "slide"
    }
   },
   "source": [
    "Usamos una clase abstracta para definir la interfaz de la abstracción, y luego\n",
    "subclases concretas que la implementan de distintas formas."
   ]
  },
  {
   "cell_type": "markdown",
   "metadata": {
    "slideshow": {
     "slide_type": "slide"
    }
   },
   "source": [
    "Pero este enfoque no siempre es lo bastante flexible. La herencia liga la\n",
    "implementación a la abstracción de forma permanente, lo que\n",
    "dificulta modificar, extender y reutilizar  abstracciones e implementaciones de\n",
    "forma independiente."
   ]
  },
  {
   "cell_type": "markdown",
   "metadata": {
    "slideshow": {
     "slide_type": "slide"
    }
   },
   "source": [
    "Pensemos por ejemplo en una libreria que quiera generar graficos vectoriales,\n",
    "pero que queremos que funcione para varias plataformas, por ejemplo que pueda\n",
    "generar la imagen usando pygame o pillow. "
   ]
  },
  {
   "cell_type": "markdown",
   "metadata": {
    "slideshow": {
     "slide_type": "slide"
    }
   },
   "source": [
    "Podriamos definir una interfaz común, con todas las operaciones que queremos\n",
    "realizar: Por ejemplo, pintar un punto, pintar una linea, pintar un cuadro...\n",
    "\n",
    "Este podria ser el esquema UML de la clase abstracta:"
   ]
  },
  {
   "cell_type": "markdown",
   "metadata": {
    "slideshow": {
     "slide_type": "slide"
    }
   },
   "source": [
    "![La interfaz](./img/vectorz-base.svg)"
   ]
  },
  {
   "cell_type": "markdown",
   "metadata": {
    "slideshow": {
     "slide_type": "slide"
    }
   },
   "source": [
    "Ahore podríamos implementar la clase `VectorzPillow` y `VectorzPygame`, que derivan de esta\n",
    "clase, e implementar todos metodos: `point`, `line`, `square`, etc."
   ]
  },
  {
   "cell_type": "markdown",
   "metadata": {
    "slideshow": {
     "slide_type": "slide"
    }
   },
   "source": [
    "![Las clases derivadas](./img/vectorz-classes.svg)"
   ]
  },
  {
   "cell_type": "markdown",
   "metadata": {
    "slideshow": {
     "slide_type": "slide"
    }
   },
   "source": [
    "Pero este enfoque tiene dos inconvenientes:"
   ]
  },
  {
   "cell_type": "markdown",
   "metadata": {
    "slideshow": {
     "slide_type": "slide"
    }
   },
   "source": [
    "1. No es conveniente extender la abstracción `VectorZBase` para cubrir todas las\n",
    "  posibles operacion. En este caso, añadir una operacion `poligono`, por\n",
    "  ejemplo, implica tener que implementar la operacion en las dos clases\n",
    "  derivadas. Si ademmas, añadimos ahora una tercera implemntacion, cada \n",
    "  nueva funcionalidad en la interfaz debe implementarse en las tres\n",
    "  plataformas."
   ]
  },
  {
   "cell_type": "markdown",
   "metadata": {
    "slideshow": {
     "slide_type": "slide"
    }
   },
   "source": [
    "2. Hace que el código sea dependiente de la plataforma. Cada vez que un cliente\n",
    "   usa nuestro sistema, se crea una clase concreta que tiene una determinada\n",
    "   implementación. Por ejemplo, crear un objeto `VectorzPillow` vincula la abstracción\n",
    "   `Vectorz` a la implementación para Pillow, lo que vuelve al código del\n",
    "   cliente dependiente de dicha implementación.\n",
    "   "
   ]
  },
  {
   "cell_type": "markdown",
   "metadata": {
    "slideshow": {
     "slide_type": "slide"
    }
   },
   "source": [
    "   A su vez, hace más difícil portar el código cliente a otras\n",
    "   plataformas. Los clientes deberían ser capaces de crear una ventana sin\n",
    "   referirse a una implementación concreta. Por ejemplo, seria deserable que\n",
    "   al inicio de la ejecucion se determinara que librerias están instaladas y\n",
    "   en base a eso, usar la que este disponible (O dar un mensaje de error sin\n",
    "   ninguna esta instalada).\n",
    " "
   ]
  },
  {
   "cell_type": "markdown",
   "metadata": {
    "slideshow": {
     "slide_type": "slide"
    }
   },
   "source": [
    " \n",
    "   El código cliente, en cualquier caso, debería poder usar `VectorZ`  sin\n",
    "   necesidad de  hacer mención a una plataforma determinada"
   ]
  },
  {
   "cell_type": "markdown",
   "metadata": {
    "slideshow": {
     "slide_type": "slide"
    }
   },
   "source": [
    "El patrón **Bridge** resuelve estos problemas situando la abstracción Ventana y su\n",
    "implementación en clases (o jerarquías de clases, si fuera el caso) separadas."
   ]
  },
  {
   "cell_type": "markdown",
   "metadata": {
    "slideshow": {
     "slide_type": "slide"
    }
   },
   "source": [
    "En vez de una clase base y varias clases derivadas de implementacion, tenemos\n",
    "una clase que llamaremos __Abstraccion__ y luego un conjunto, totalmente\n",
    "separado de clases que denominares __Implementaciones__"
   ]
  },
  {
   "cell_type": "markdown",
   "metadata": {
    "slideshow": {
     "slide_type": "slide"
    }
   },
   "source": [
    "En la clase Abstraccion se mantiene una referencia a un *objeto*\n",
    "de tipo Implementación."
   ]
  },
  {
   "cell_type": "markdown",
   "metadata": {},
   "source": [
    "![Las clases derivadas](./img/vectorz-bridge.svg)"
   ]
  },
  {
   "cell_type": "markdown",
   "metadata": {
    "slideshow": {
     "slide_type": "slide"
    }
   },
   "source": [
    "Parece que no hemos conseguido mucho, pero la clave es darnos cuenta de\n",
    "que ahora la interfaz de la abstraccion no tiene por qué seguir al\n",
    "pie de la letra las interfaces de la implementacion. De hecho, lo \n",
    "útil es que sean diferentes. "
   ]
  },
  {
   "cell_type": "markdown",
   "metadata": {
    "slideshow": {
     "slide_type": "slide"
    }
   },
   "source": [
    "El caso de uso tipico de este patron es hacer que las implementacions\n",
    "solo proporcionen operaciones primitivas, y las abstracciones pueden\n",
    "ahora realizar operaciones de más alto nivel."
   ]
  },
  {
   "cell_type": "markdown",
   "metadata": {
    "slideshow": {
     "slide_type": "slide"
    }
   },
   "source": [
    "En el ejemplo mostrado, la clave es darse cuenta de que el metodo\n",
    "`square` se puede implementar facilmente a partir del método `line`,\n",
    "asi que podemos escribir la implmentacion de square en la clase abstraccion,\n",
    "que llamara a los metodos `line` del objeto de tipo implementacion (en\n",
    "este caso, una implementacion basada en Pillow `PillowImp` o una basada en \n",
    "`Pygame`)"
   ]
  },
  {
   "cell_type": "markdown",
   "metadata": {
    "slideshow": {
     "slide_type": "slide"
    }
   },
   "source": [
    "Esto desacopla la abstrabcion  de las diferentes implementaciones que tengamos\n",
    "o podamos tener en el futuro."
   ]
  },
  {
   "cell_type": "markdown",
   "metadata": {
    "slideshow": {
     "slide_type": "slide"
    }
   },
   "source": [
    "Hablamos de la relacion entre la abstraccion u la implementacion\n",
    "como un puente o *bridge* que une ambos aspectos, pero dejandoles\n",
    "libertad para variar independientemente."
   ]
  },
  {
   "cell_type": "markdown",
   "metadata": {
    "slideshow": {
     "slide_type": "slide"
    }
   },
   "source": [
    "### APLICABILIDAD\n",
    "\n",
    "Puedes usar el patrón Bridge cuando:"
   ]
  },
  {
   "cell_type": "markdown",
   "metadata": {
    "slideshow": {
     "slide_type": "slide"
    }
   },
   "source": [
    "- quieres evitar un enlace permanente entre una abstracción y su implementación.\n",
    "  Por ejemplo, cuando debe seleccionarse o cambiarse la implementación en tiempo\n",
    "  de ejecución."
   ]
  },
  {
   "cell_type": "markdown",
   "metadata": {
    "slideshow": {
     "slide_type": "slide"
    }
   },
   "source": [
    "- tanto las abstracciones como sus implementaciones deberían ser extensibles\n",
    "  mediante subclases. En este caso, el patrón Bridge permite combinar las\n",
    "  diferentes abstracciones y sus implementaciones, y extenderlas\n",
    "  independientemente."
   ]
  },
  {
   "cell_type": "markdown",
   "metadata": {
    "slideshow": {
     "slide_type": "slide"
    }
   },
   "source": [
    "### CONSECUENCIAS\n",
    "\n",
    "El patrón Bridge tiene las siguientes consecuencias:"
   ]
  },
  {
   "cell_type": "markdown",
   "metadata": {
    "slideshow": {
     "slide_type": "slide"
    }
   },
   "source": [
    "1. Desacopla la interfaz y la implementación. No une permanentemente una\n",
    "   implementación a una interfaz, sino que la implementación puede configurarse\n",
    "   en tiempo de ejecución. Incluso es posible que un objeto cambie su\n",
    "   implementación en tiempo de ejecución."
   ]
  },
  {
   "cell_type": "markdown",
   "metadata": {
    "slideshow": {
     "slide_type": "slide"
    }
   },
   "source": [
    "2. Este desacoplamiento potencia una división en capas que puede dar\n",
    "  lugar a sistemas mejor estructurados. La parte de alto nivel de un sistema\n",
    "  sólo tiene que conocer a Abstracción y a Implementador."
   ]
  },
  {
   "cell_type": "markdown",
   "metadata": {
    "slideshow": {
     "slide_type": "slide"
    }
   },
   "source": [
    "2. Mejora la extensibilidad. Podemos extender las jerarquías de Abstracción y de\n",
    "   Implementador de forma independiente."
   ]
  },
  {
   "cell_type": "markdown",
   "metadata": {
    "slideshow": {
     "slide_type": "slide"
    }
   },
   "source": [
    "3. Oculta detalles de implementación a los clientes. Podemos aislar a los\n",
    "   clientes de los detalles de implementación, como el compartimiento de objetos\n",
    "   implementadores y el correspondiente mecanismo de conteo de referencias (si\n",
    "   es que hay alguno)."
   ]
  },
  {
   "cell_type": "markdown",
   "metadata": {
    "slideshow": {
     "slide_type": "slide"
    }
   },
   "source": [
    "### IMPLEMENTACIÓN\n",
    "\n",
    "Al aplicar el patrón Bridge hemos de tener en cuenta las siguientes casos:"
   ]
  },
  {
   "cell_type": "markdown",
   "metadata": {
    "slideshow": {
     "slide_type": "slide"
    }
   },
   "source": [
    "1. Un único implementador. En situaciones en las que sólo hay una\n",
    "   implementación, no es necesario crear una clase abstracta Implementador. Éste\n",
    "   es un caso degenerado del patrón Bridge, cuando hay una relación uno-a-uno\n",
    "   entre Abstracción e Implementador. Sin embargo, esta separación sigue siendo\n",
    "   útil cuando un cambio en la implementación de una clase no debe afectar a sus\n",
    "   clientes existentes, es decir, que éstos no deberían tener que ser\n",
    "   recompilados, sino sólo vueltos a enlazar."
   ]
  },
  {
   "cell_type": "markdown",
   "metadata": {
    "slideshow": {
     "slide_type": "slide"
    }
   },
   "source": [
    "2. Crear el objeto Implementador apropiado. ¿Cómo, cuándo y dónde se decide de\n",
    "   qué clase Implementador se van a crear las instancias cuando hay más de una?\n",
    "   Si Abstracción conoce a todas las clases ImplementadorConcreto, puede crear\n",
    "   una instancia de una de ellas en su constructor; puede decidir de cuál\n",
    "   basándose en los parámetros pasados a su constructor."
   ]
  },
  {
   "cell_type": "markdown",
   "metadata": {
    "slideshow": {
     "slide_type": "slide"
    }
   },
   "source": [
    "   Otro enfoque consiste en elegir inicialmente una implementación\n",
    "   predeterminada y cambiarla después en función de su uso. Por ejemplo,"
   ]
  },
  {
   "cell_type": "markdown",
   "metadata": {
    "slideshow": {
     "slide_type": "slide"
    }
   },
   "source": [
    "   También es posible delegar totalmente la decisión en otro objeto. En el\n",
    "   ejemplo de la Ventana/VentanaImp se puede introducir un objeto fábrica (véase\n",
    "   el patrón *Factory* cuya única misión sea encapsular detalles de\n",
    "   implementación. La fábrica sabe qué tipo de objeto `Implementation` crear para la\n",
    "   plataforma en uso."
   ]
  },
  {
   "cell_type": "markdown",
   "metadata": {
    "slideshow": {
     "slide_type": "slide"
    }
   },
   "source": [
    "**Ejercicio**: Aquí tenemos una simulación de las clases `Vectorz` y dos\n",
    "versiones simuladas de implementación, `PillowImp` y `PyGameImp`. \n",
    "\n",
    "1) Ejecuta todas las celdas y comprueba que funciona:"
   ]
  },
  {
   "cell_type": "code",
   "execution_count": 2,
   "metadata": {
    "slideshow": {
     "slide_type": "slide"
    }
   },
   "outputs": [],
   "source": [
    "class PillowImp:\n",
    "    \n",
    "    def init(self):\n",
    "        print(\"La implementacion de Pillow se inicializa\")\n",
    "        \n",
    "    def point(self, x, y):\n",
    "        print(f\"Pillow imprime un pixel en {x}, {y}\")\n",
    "        \n",
    "    def line(self, x0, y0, x1, y1):\n",
    "        print(f\"Pillow dibuja una linea entre {x0}, {y0} y {x1}, {y1}\")\n",
    " "
   ]
  },
  {
   "cell_type": "code",
   "execution_count": 3,
   "metadata": {
    "slideshow": {
     "slide_type": "slide"
    }
   },
   "outputs": [],
   "source": [
    "class PyGameImp:\n",
    "    \n",
    "    def init(self):\n",
    "        print(\"La implementacion de PyGame se inicializa\")\n",
    "        \n",
    "    def point(self, x, y):\n",
    "        print(f\"PyGame imprime un pixel en {x}, {y}\")\n",
    "        \n",
    "    def line(self, x0, y0, x1, y1):\n",
    "        print(f\"PyGame dibuja una linea entre {x0}, {y0} y {x1}, {y1}\")"
   ]
  },
  {
   "cell_type": "code",
   "execution_count": 13,
   "metadata": {
    "slideshow": {
     "slide_type": "slide"
    }
   },
   "outputs": [],
   "source": [
    "import random\n",
    "\n",
    "class VectorZ:\n",
    "    \n",
    "    def __init__(self):\n",
    "        Implementation = random.choice([PillowImp, PyGameImp])\n",
    "        self.implementation = Implementation()\n",
    "        self.implementation.init()\n",
    "        \n",
    "    def point(self, x, y):\n",
    "        self.implementation.point(x, y)\n",
    "        \n",
    "    def line(self, x0, y0, x1, y1):\n",
    "        self.implementation.line(x0, y0, x1, y1)\n",
    "        \n",
    "    def square(self, left, top, width, height):\n",
    "        self.line(left, top, left+width, top)\n",
    "        self.line(left+width, top, left+width, top+height)\n",
    "        self.line(left+width, top+height, left, top+height)\n",
    "        self.line(left, top+height, left, top)\n",
    "        \n",
    "    def punto_gordo(self, x, y):\n",
    "        self.square(x-1, y-1, 2, 2)\n"
   ]
  },
  {
   "cell_type": "code",
   "execution_count": 14,
   "metadata": {
    "slideshow": {
     "slide_type": "slide"
    }
   },
   "outputs": [
    {
     "name": "stdout",
     "output_type": "stream",
     "text": [
      "La implementacion de PyGame se inicializa\n",
      "PyGame dibuja una linea entre -1, -1 y 1, -1\n",
      "PyGame dibuja una linea entre 1, -1 y 1, 1\n",
      "PyGame dibuja una linea entre 1, 1 y -1, 1\n",
      "PyGame dibuja una linea entre -1, 1 y -1, -1\n"
     ]
    }
   ],
   "source": [
    "v = VectorZ()\n",
    "v.punto_gordo(0, 0)"
   ]
  },
  {
   "cell_type": "markdown",
   "metadata": {
    "slideshow": {
     "slide_type": "slide"
    }
   },
   "source": [
    "1) ¿Qué te parece el método de selección de la plataforma? Ni te molestes en contestar, es una pregunta retórica, es basura. \n",
    "\n",
    "Elegir la plataforma al azar un una mala idea. ¿Se te ocurre alguna manera mejor de hacerla?"
   ]
  },
  {
   "cell_type": "markdown",
   "metadata": {
    "slideshow": {
     "slide_type": "slide"
    }
   },
   "source": [
    "2) ¿Cómo podriamos implementar un metodo `polygon`, al que se le pase\n",
    "una lista de puntos en forma de tuplas de 2 elementos, y que dibuje\n",
    "el polígono equivalente? Recuerda que habria que unir tambien el último\n",
    "punto con el primero"
   ]
  },
  {
   "cell_type": "code",
   "execution_count": 20,
   "metadata": {},
   "outputs": [],
   "source": [
    "import random\n",
    "\n",
    "class VectorZ:\n",
    "    \n",
    "    def __init__(self):\n",
    "        Implementation = random.choice([PillowImp, PyGameImp])\n",
    "        self.implementation = Implementation()\n",
    "        self.implementation.init()\n",
    "        \n",
    "    def point(self, x, y):\n",
    "        self.implementation.point(x, y)\n",
    "        \n",
    "    def line(self, x0, y0, x1, y1):\n",
    "        self.implementation.line(x0, y0, x1, y1)\n",
    "        \n",
    "    def square(self, left, top, width, height):\n",
    "        self.line(left, top, left+width, top)\n",
    "        self.line(left+width, top, left+width, top+height)\n",
    "        self.line(left+width, top+height, left, top+height)\n",
    "        self.line(left, top+height, left, top)\n",
    "        \n",
    "    def polygon(self, points):\n",
    "        source = list(points)\n",
    "        target = list(points)\n",
    "        target.append(target.pop(0))\n",
    "        for (x0, y0), (x1,y1) in zip(source, target):\n",
    "            self.line(x0, y0, x1, y1)"
   ]
  },
  {
   "cell_type": "code",
   "execution_count": null,
   "metadata": {},
   "outputs": [],
   "source": [
    "source = [(0, 0), (100, 50), (50, 100)]\n",
    "target = [(100, 50), (50, 100), (0, 0)]"
   ]
  },
  {
   "cell_type": "code",
   "execution_count": 21,
   "metadata": {},
   "outputs": [
    {
     "name": "stdout",
     "output_type": "stream",
     "text": [
      "La implementacion de PyGame se inicializa\n",
      "PyGame dibuja una linea entre 0, 0 y 100, 50\n",
      "PyGame dibuja una linea entre 100, 50 y 50, 100\n",
      "PyGame dibuja una linea entre 50, 100 y 0, 0\n"
     ]
    }
   ],
   "source": [
    "z = VectorZ()\n",
    "z.polygon([(0, 0), (100, 50), (50, 100)])"
   ]
  },
  {
   "cell_type": "code",
   "execution_count": null,
   "metadata": {},
   "outputs": [],
   "source": []
  },
  {
   "cell_type": "markdown",
   "metadata": {
    "slideshow": {
     "slide_type": "slide"
    }
   },
   "source": [
    "3) Implementa el método `punto_gordo`: Se le pasa unas coordenadas x e y y pinta una cuadrado\n",
    "alrededor de esa coordenada. Es decir, si pasamos las coordenadas 5, 10, tendriamos\n",
    "que pintar un cuadrado entre los pixles 4,9 y 6, 11."
   ]
  },
  {
   "cell_type": "markdown",
   "metadata": {
    "slideshow": {
     "slide_type": "slide"
    }
   },
   "source": [
    "4) Si quisieramo añadir otra plataforma (Por ejemplo que guarde estos graficos en un fichero SVG) ¿Qué\n",
    "habria que hacer?\n",
    "\n",
    "4.1) Si hay que crear una nueva clase, como la llamarias y que metodos tendria?\n",
    "\n",
    "4.2) ¿Podriamos usar `punto_gordo` con esta nueva plataforma? ¿Qué cambios habría que hacer para que funcionase?"
   ]
  }
 ],
 "metadata": {
  "celltoolbar": "Slideshow",
  "kernelspec": {
   "display_name": "Python 3",
   "language": "python",
   "name": "python3"
  },
  "language_info": {
   "codemirror_mode": {
    "name": "ipython",
    "version": 3
   },
   "file_extension": ".py",
   "mimetype": "text/x-python",
   "name": "python",
   "nbconvert_exporter": "python",
   "pygments_lexer": "ipython3",
   "version": "3.7.6"
  }
 },
 "nbformat": 4,
 "nbformat_minor": 4
}
