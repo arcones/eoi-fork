{
 "cells": [
  {
   "cell_type": "markdown",
   "metadata": {
    "slideshow": {
     "slide_type": "slide"
    }
   },
   "source": [
    "## Instalación de numpy"
   ]
  },
  {
   "cell_type": "code",
   "execution_count": 2,
   "metadata": {
    "slideshow": {
     "slide_type": "slide"
    }
   },
   "outputs": [
    {
     "name": "stdout",
     "output_type": "stream",
     "text": [
      "Requirement already satisfied: numpy in ./.venv/lib/python3.10/site-packages (1.24.3)\r\n"
     ]
    }
   ],
   "source": [
    "!pip install numpy"
   ]
  },
  {
   "cell_type": "markdown",
   "metadata": {
    "slideshow": {
     "slide_type": "slide"
    }
   },
   "source": [
    "### Import numpy"
   ]
  },
  {
   "cell_type": "code",
   "execution_count": 1,
   "metadata": {
    "slideshow": {
     "slide_type": "-"
    }
   },
   "outputs": [],
   "source": [
    "import numpy as np"
   ]
  },
  {
   "cell_type": "markdown",
   "metadata": {
    "slideshow": {
     "slide_type": "slide"
    }
   },
   "source": [
    "### Array creation"
   ]
  },
  {
   "cell_type": "code",
   "execution_count": 16,
   "metadata": {
    "slideshow": {
     "slide_type": "subslide"
    }
   },
   "outputs": [
    {
     "name": "stdout",
     "output_type": "stream",
     "text": [
      "A simple array passing a list of values [1 2 3]\n",
      "Array of zeros [0. 0.]\n",
      "Array of ones with type int [1. 1.]\n",
      "Empty array with 2 random elements [1. 1.]\n",
      "Range of numbers [0 1 2 3]\n",
      "Array with values that are spaced linearly in a specified interval [ 0.   2.5  5.   7.5 10. ]\n",
      "Explicitly specify which data type you want [1 1]\n"
     ]
    }
   ],
   "source": [
    "print('A simple array passing a list of values',  np.array([1, 2, 3]))\n",
    "\n",
    "print('Array of zeros', np.zeros(2))\n",
    "\n",
    "print('Array of ones with type int', np.ones(2))\n",
    "\n",
    "print('Empty array with 2 random elements', np.empty(2))\n",
    "\n",
    "print('Range of numbers', np.arange(4))\n",
    "\n",
    "print('Array with values that are spaced linearly in a specified interval', np.linspace(0, 10, num=5))\n",
    "\n",
    "print('Explicitly specify which data type you want', np.ones(2, dtype=np.int64))"
   ]
  },
  {
   "cell_type": "code",
   "execution_count": 15,
   "metadata": {
    "slideshow": {
     "slide_type": "subslide"
    }
   },
   "outputs": [
    {
     "name": "stdout",
     "output_type": "stream",
     "text": [
      "Random array\n",
      " [[[0.65752768 0.56211882]\n",
      "  [0.41177113 0.18439323]]\n",
      "\n",
      " [[0.31501793 0.67201647]\n",
      "  [0.15717024 0.14618955]]]\n",
      "Random matrix\n",
      " [[0.16350575 0.84023388 0.64468724 0.11538661]\n",
      " [0.60957578 0.49883432 0.64286202 0.83445604]\n",
      " [0.11620435 0.25782235 0.15749954 0.79594217]\n",
      " [0.58887641 0.61854564 0.47982308 0.89615759]\n",
      " [0.04692107 0.03322304 0.49326647 0.49393271]]\n",
      "Random array of integers in a range\n",
      " [0. 1. 0. 9. 2. 8. 5. 0. 6. 7.]\n",
      "Random matrix\n",
      " [[6 2 6 6 0]\n",
      " [1 9 4 6 8]]\n"
     ]
    }
   ],
   "source": [
    "print('Random array\\n', np.random.rand(2,2,2))\n",
    "\n",
    "print('Random matrix\\n', np.random.rand(5,4))\n",
    "\n",
    "print('Random array of integers in a range\\n', np.floor(np.random.rand(10) * 10))\n",
    "\n",
    "print('Random matrix\\n', np.random.randint(0, 10, (2,5)))"
   ]
  },
  {
   "cell_type": "code",
   "execution_count": 52,
   "metadata": {
    "slideshow": {
     "slide_type": "subslide"
    }
   },
   "outputs": [
    {
     "name": "stdout",
     "output_type": "stream",
     "text": [
      "[1 2 3 4 5 6]\n"
     ]
    }
   ],
   "source": [
    "arr1 = np.array([1,2,3,4], int)\n",
    "arr2 = np.array([5,6], int)\n",
    "\n",
    "# Concatenate two arrays\n",
    "print(np.concatenate((arr1, arr2)))\n"
   ]
  },
  {
   "cell_type": "code",
   "execution_count": 54,
   "metadata": {
    "slideshow": {
     "slide_type": "subslide"
    }
   },
   "outputs": [
    {
     "name": "stdout",
     "output_type": "stream",
     "text": [
      "Sorted array\n",
      " [1 2 3 4 5 6 7 8]\n"
     ]
    }
   ],
   "source": [
    "arr = np.array([2, 1, 5, 3, 7, 4, 6, 8])\n",
    "print('Sorted array\\n', np.sort(arr))"
   ]
  },
  {
   "cell_type": "markdown",
   "metadata": {
    "slideshow": {
     "slide_type": "subslide"
    }
   },
   "source": [
    "### Shape and size"
   ]
  },
  {
   "cell_type": "code",
   "execution_count": 56,
   "metadata": {
    "slideshow": {
     "slide_type": "subslide"
    }
   },
   "outputs": [
    {
     "name": "stdout",
     "output_type": "stream",
     "text": [
      "Dimensions 3\n",
      "Elements 24\n",
      "Shape (3, 2, 4)\n"
     ]
    }
   ],
   "source": [
    "arr = np.array([[[0, 1, 2, 3],\n",
    "                 [4, 5, 6, 7]],\n",
    "                [[0, 1, 2, 3],\n",
    "                 [4, 5, 6, 7]],\n",
    "                [[0 ,1 ,2, 3],\n",
    "                 [4, 5, 6, 7]]])\n",
    "\n",
    "print('Dimensions', arr.ndim)\n",
    "print('Elements', arr.size)\n",
    "print('Shape', arr.shape)"
   ]
  },
  {
   "cell_type": "code",
   "execution_count": 58,
   "metadata": {
    "slideshow": {
     "slide_type": "subslide"
    }
   },
   "outputs": [
    {
     "name": "stdout",
     "output_type": "stream",
     "text": [
      "Original [0 1 2 3 4 5]\n",
      "Reshaped\n",
      " [[0 1]\n",
      " [2 3]\n",
      " [4 5]]\n"
     ]
    }
   ],
   "source": [
    "arr = np.arange(6)\n",
    "\n",
    "print('Original', arr)\n",
    "print('Reshaped\\n', arr.reshape(3, 2))"
   ]
  },
  {
   "cell_type": "markdown",
   "metadata": {
    "slideshow": {
     "slide_type": "slide"
    }
   },
   "source": [
    "### Transposing and reshaping a matrix"
   ]
  },
  {
   "cell_type": "code",
   "execution_count": 14,
   "metadata": {
    "slideshow": {
     "slide_type": "subslide"
    }
   },
   "outputs": [
    {
     "name": "stdout",
     "output_type": "stream",
     "text": [
      "Original array\n",
      " [[1. 2. 3.]\n",
      " [4. 5. 6.]]\n",
      "Reshaped array\n",
      " [[1. 2.]\n",
      " [3. 4.]\n",
      " [5. 6.]]\n"
     ]
    }
   ],
   "source": [
    "# Multidimensional array\n",
    "arr1 = np.array([[1,2,3], [4,5,6]], float)\n",
    "print('Original array\\n', arr1)\n",
    "\n",
    "arr2 = arr1.reshape(3, 2)\n",
    "print('Reshaped array\\n', arr2)"
   ]
  },
  {
   "cell_type": "code",
   "execution_count": 17,
   "metadata": {
    "slideshow": {
     "slide_type": "subslide"
    }
   },
   "outputs": [
    {
     "name": "stdout",
     "output_type": "stream",
     "text": [
      "Flatten array [1. 2. 3. 4. 5. 6.]\n"
     ]
    }
   ],
   "source": [
    "# Convert multidimensional to one dimensional array\n",
    "arr3 = arr2.flatten()\n",
    "print('Flatten array', arr3)"
   ]
  },
  {
   "cell_type": "code",
   "execution_count": 21,
   "metadata": {
    "slideshow": {
     "slide_type": "subslide"
    }
   },
   "outputs": [
    {
     "name": "stdout",
     "output_type": "stream",
     "text": [
      "array1\n",
      " [[1 2]\n",
      " [3 4]]\n",
      "array2\n",
      " [[5 6]\n",
      " [7 8]]\n"
     ]
    }
   ],
   "source": [
    "# Concatenation of multi-dimensional arrays\n",
    "arr1 = np.array([[1,2], [3,4]], int)\n",
    "arr2 = np.array([[5,6], [7,8]], int)\n",
    "print('array1\\n', arr1)\n",
    "print('array2\\n', arr2)"
   ]
  },
  {
   "cell_type": "code",
   "execution_count": 26,
   "metadata": {
    "slideshow": {
     "slide_type": "subslide"
    }
   },
   "outputs": [
    {
     "name": "stdout",
     "output_type": "stream",
     "text": [
      "[[1 2]\n",
      " [3 4]\n",
      " [5 6]\n",
      " [7 8]]\n"
     ]
    }
   ],
   "source": [
    "# Based on dimension 1\n",
    "print(np.concatenate((arr1, arr2), axis=0))"
   ]
  },
  {
   "cell_type": "code",
   "execution_count": 27,
   "metadata": {
    "slideshow": {
     "slide_type": "subslide"
    }
   },
   "outputs": [
    {
     "data": {
      "text/plain": [
       "array([[1, 2],\n",
       "       [3, 4],\n",
       "       [5, 6],\n",
       "       [7, 8]])"
      ]
     },
     "execution_count": 27,
     "metadata": {},
     "output_type": "execute_result"
    }
   ],
   "source": [
    "np.vstack((arr1, arr2))"
   ]
  },
  {
   "cell_type": "code",
   "execution_count": 23,
   "metadata": {
    "slideshow": {
     "slide_type": "subslide"
    }
   },
   "outputs": [
    {
     "name": "stdout",
     "output_type": "stream",
     "text": [
      "[[1 2 5 6]\n",
      " [3 4 7 8]]\n"
     ]
    }
   ],
   "source": [
    "# Based on dimension 2\n",
    "print(np.concatenate((arr1, arr2), axis=1))"
   ]
  },
  {
   "cell_type": "code",
   "execution_count": 28,
   "metadata": {
    "slideshow": {
     "slide_type": "subslide"
    }
   },
   "outputs": [
    {
     "data": {
      "text/plain": [
       "array([[1, 2, 5, 6],\n",
       "       [3, 4, 7, 8]])"
      ]
     },
     "execution_count": 28,
     "metadata": {},
     "output_type": "execute_result"
    }
   ],
   "source": [
    "np.hstack((arr1, arr2))"
   ]
  },
  {
   "cell_type": "code",
   "execution_count": 60,
   "metadata": {
    "slideshow": {
     "slide_type": "subslide"
    }
   },
   "outputs": [
    {
     "name": "stdout",
     "output_type": "stream",
     "text": [
      "Original array\n",
      " [[ 1  2  3  4  5  6  7  8  9 10 11 12]\n",
      " [13 14 15 16 17 18 19 20 21 22 23 24]]\n",
      "Splitted in 3 equal arrays\n",
      " [array([[ 1,  2,  3,  4],\n",
      "       [13, 14, 15, 16]]), array([[ 5,  6,  7,  8],\n",
      "       [17, 18, 19, 20]]), array([[ 9, 10, 11, 12],\n",
      "       [21, 22, 23, 24]])]\n",
      "Splitted by columns 3 & 4 equal arrays\n",
      " [array([[ 1,  2,  3],\n",
      "       [13, 14, 15]]), array([[ 4],\n",
      "       [16]]), array([[ 5,  6,  7,  8,  9, 10, 11, 12],\n",
      "       [17, 18, 19, 20, 21, 22, 23, 24]])]\n"
     ]
    }
   ],
   "source": [
    "arr = np.arange(1, 25).reshape(2, 12)\n",
    "print('Original array\\n', arr)\n",
    "\n",
    "print('Splitted in 3 equal arrays\\n', np.hsplit(arr, 3))\n",
    "\n",
    "print('Splitted by columns 3 & 4 equal arrays\\n', np.hsplit(arr, (3, 4)))"
   ]
  },
  {
   "cell_type": "markdown",
   "metadata": {
    "slideshow": {
     "slide_type": "slide"
    }
   },
   "source": [
    "### Indexing and slicing"
   ]
  },
  {
   "cell_type": "code",
   "execution_count": 62,
   "metadata": {
    "slideshow": {
     "slide_type": "subslide"
    }
   },
   "outputs": [
    {
     "name": "stdout",
     "output_type": "stream",
     "text": [
      "[1 2 3]\n",
      "2\n",
      "[1 2]\n",
      "[2 3]\n",
      "[2 3]\n"
     ]
    }
   ],
   "source": [
    "arr = np.array([1, 2, 3])\n",
    "\n",
    "print(arr)\n",
    "print(arr[1])\n",
    "print(arr[0:2])\n",
    "print(arr[1:])\n",
    "print(arr[-2:])"
   ]
  },
  {
   "cell_type": "code",
   "execution_count": 64,
   "metadata": {
    "slideshow": {
     "slide_type": "subslide"
    }
   },
   "outputs": [
    {
     "name": "stdout",
     "output_type": "stream",
     "text": [
      "all of the values in the array that are less than 5 [1 2 3]\n",
      "elements that are divisible by 2 [2]\n",
      "elements that satisfy two conditions [3]\n"
     ]
    }
   ],
   "source": [
    "arr = np.array([[1 , 2, 3, 4], [5, 6, 7, 8], [9, 10, 11, 12]])\n",
    "\n",
    "print('all of the values in the array that are less than 5', a[a < 5])\n",
    "print('elements that are divisible by 2', a[a%2==0])\n",
    "print('elements that satisfy two conditions', a[(a > 2) & (a < 11)])"
   ]
  },
  {
   "cell_type": "markdown",
   "metadata": {
    "slideshow": {
     "slide_type": "slide"
    }
   },
   "source": [
    "### Universal Functions\n",
    "These functions are defined as functions that operate element-wise on the array elements whether it is a single or multidimensional array."
   ]
  },
  {
   "cell_type": "code",
   "execution_count": 33,
   "metadata": {
    "slideshow": {
     "slide_type": "subslide"
    }
   },
   "outputs": [
    {
     "data": {
      "text/plain": [
       "[2, 4, 6, 8]"
      ]
     },
     "execution_count": 33,
     "metadata": {},
     "output_type": "execute_result"
    }
   ],
   "source": [
    "# we want to alter each element of the collection by multiplying each integer by 2\n",
    "\n",
    "arr = [1, 2, 3, 4]\n",
    "\n",
    "# python code\n",
    "for i, val in enumerate(arr):\n",
    "  arr[i] *= 2\n",
    "\n",
    "arr"
   ]
  },
  {
   "cell_type": "code",
   "execution_count": 35,
   "metadata": {
    "slideshow": {
     "slide_type": "subslide"
    }
   },
   "outputs": [
    {
     "data": {
      "text/plain": [
       "array([2, 4, 6, 8])"
      ]
     },
     "execution_count": 35,
     "metadata": {},
     "output_type": "execute_result"
    }
   ],
   "source": [
    "#create numpy array from original python list\n",
    "arr = np.arange(1, 5)\n",
    "\n",
    "#multiply each element by 2\n",
    "arr * 2"
   ]
  },
  {
   "cell_type": "code",
   "execution_count": 36,
   "metadata": {
    "slideshow": {
     "slide_type": "subslide"
    }
   },
   "outputs": [
    {
     "name": "stdout",
     "output_type": "stream",
     "text": [
      "Sum\n",
      " [[ 6  8]\n",
      " [10 12]]\n",
      "Mult\n",
      " [[ 5 12]\n",
      " [21 32]]\n",
      "Square root\n",
      " [[1.         1.41421356]\n",
      " [1.73205081 2.        ]]\n",
      "Log of Array 1\n",
      " [[0.         0.69314718]\n",
      " [1.09861229 1.38629436]]\n"
     ]
    }
   ],
   "source": [
    "arr1 = np.array([[1,2], [3,4]], int)\n",
    "arr2 = np.array([[5,6], [7,8]], int)\n",
    "\n",
    "# Addition\n",
    "print('Sum\\n', arr1 + arr2)\n",
    "\n",
    "# Multiplication\n",
    "print('Mult\\n', arr1 * arr2)\n",
    "\n",
    "# Square root\n",
    "print('Square root\\n', np.sqrt(arr1))\n",
    "\n",
    "# Log\n",
    "print('Log of Array 1\\n', np.log(arr1))"
   ]
  },
  {
   "cell_type": "markdown",
   "metadata": {
    "slideshow": {
     "slide_type": "slide"
    }
   },
   "source": [
    "### Aggregation Functions\n",
    "These functions are useful when we wish to summarise the information contained in an array."
   ]
  },
  {
   "cell_type": "code",
   "execution_count": 38,
   "metadata": {
    "slideshow": {
     "slide_type": "subslide"
    }
   },
   "outputs": [
    {
     "name": "stdout",
     "output_type": "stream",
     "text": [
      "Sum of elements\n",
      " 45\n",
      "Sum by row elements\n",
      " [ 6 15 24]\n",
      "Sum by column elements\n",
      " [12 15 18]\n"
     ]
    }
   ],
   "source": [
    "arr1 = np.arange(1,10).reshape(3,3)\n",
    "\n",
    "print('Sum of elements\\n', arr1.sum())\n",
    "\n",
    "print('Sum by row elements\\n', np.sum(arr1, axis=1))\n",
    "\n",
    "print('Sum by column elements\\n', np.sum(arr1, axis=0))"
   ]
  },
  {
   "cell_type": "code",
   "execution_count": 39,
   "metadata": {
    "slideshow": {
     "slide_type": "subslide"
    }
   },
   "outputs": [
    {
     "name": "stdout",
     "output_type": "stream",
     "text": [
      "Mean of elements 5.0\n",
      "Minimum of elements 1\n",
      "Index of minimum of elements 8\n"
     ]
    }
   ],
   "source": [
    "# Mean of array elements\n",
    "print('Mean of elements', arr1.mean())\n",
    "\n",
    "# Minimum of array elements\n",
    "print('Minimum of elements', arr1.min())\n",
    "# Minimum of elements of Array 1: 1\n",
    "\n",
    "# Index of maximum of array elements can be found using arg before the funciton name\n",
    "print('Index of minimum of elements', arr1.argmax())"
   ]
  },
  {
   "cell_type": "markdown",
   "metadata": {
    "slideshow": {
     "slide_type": "slide"
    }
   },
   "source": [
    "### Broadcasting\n",
    "These are a set of rules of how universal functions operate on numpy arrays."
   ]
  },
  {
   "cell_type": "code",
   "execution_count": 42,
   "metadata": {
    "slideshow": {
     "slide_type": "subslide"
    }
   },
   "outputs": [
    {
     "name": "stdout",
     "output_type": "stream",
     "text": [
      "Unique values [1 2 3 4 5]\n",
      "Diagonal\n",
      " [5 4 1]\n",
      "Sorted\n",
      " [[2 3 5]\n",
      " [3 4 5]\n",
      " [1 1 1]]\n",
      "Transposed\n",
      " [[5 3 1]\n",
      " [2 4 1]\n",
      " [3 5 1]]\n"
     ]
    }
   ],
   "source": [
    "arr = np.array([[5, 2, 3], [3, 4, 5], [1, 1, 1]], int)\n",
    "\n",
    "# Get unique values\n",
    "print('Unique values', np.unique(arr))\n",
    "# Unique values: [1 2 3 4 5]\n",
    "\n",
    "# Get diagonal values\n",
    "print('Diagonal\\n', arr.diagonal())\n",
    "\n",
    "# Sort values in the multidimensional array\n",
    "print('Sorted\\n', np.sort(arr))\n",
    "\n",
    "# Transposed matrix\n",
    "print('Transposed\\n', arr.T)"
   ]
  },
  {
   "cell_type": "code",
   "execution_count": 44,
   "metadata": {
    "slideshow": {
     "slide_type": "subslide"
    }
   },
   "outputs": [
    {
     "name": "stdout",
     "output_type": "stream",
     "text": [
      "Dot of Matrix 1 and Matrix 2\n",
      " [[ 4  4  4]\n",
      " [10 10 10]\n",
      " [16 16 16]]\n",
      "Cross of Matrix 1 and Matrix 2\n",
      " [[-1  2 -1]\n",
      " [ 0  0  0]\n",
      " [-1  2 -1]]\n",
      "Outer of Matrix 1 and Matrix 2\n",
      " [[1 1 1 0 0 0 1 1 1]\n",
      " [2 2 2 0 0 0 2 2 2]\n",
      " [3 3 3 0 0 0 3 3 3]\n",
      " [4 4 4 0 0 0 4 4 4]\n",
      " [5 5 5 0 0 0 5 5 5]\n",
      " [6 6 6 0 0 0 6 6 6]\n",
      " [7 7 7 0 0 0 7 7 7]\n",
      " [8 8 8 0 0 0 8 8 8]\n",
      " [9 9 9 0 0 0 9 9 9]]\n",
      "Inner of Matrix 1 and Matrix 2\n",
      " [[ 6  0  6]\n",
      " [15  0 15]\n",
      " [24  0 24]]\n"
     ]
    }
   ],
   "source": [
    "vector = np.array([1,2,3,4], int)\n",
    "matrix1 = np.array([[1,2,3], [4,5,6], [7,8,9]], int)\n",
    "matrix2 = np.array([[1,1,1], [0,0,0], [1,1,1]], int)\n",
    "\n",
    "# Dot operator\n",
    "print('Dot of Matrix 1 and Matrix 2\\n', np.dot(matrix1, matrix2))\n",
    "\n",
    "# Cross operator\n",
    "print('Cross of Matrix 1 and Matrix 2\\n', np.cross(matrix1, matrix2))\n",
    "\n",
    "# Outer operator\n",
    "print('Outer of Matrix 1 and Matrix 2\\n', np.outer(matrix1, matrix2))\n",
    "\n",
    "# Inner operator\n",
    "print('Inner of Matrix 1 and Matrix 2\\n', np.inner(matrix1, matrix2))"
   ]
  },
  {
   "cell_type": "markdown",
   "metadata": {
    "slideshow": {
     "slide_type": "slide"
    }
   },
   "source": [
    "### Slicing, masking and fancy indexing\n",
    "The last strategy pools in a few tricks too"
   ]
  },
  {
   "cell_type": "code",
   "execution_count": 46,
   "metadata": {
    "slideshow": {
     "slide_type": "subslide"
    }
   },
   "outputs": [
    {
     "name": "stdout",
     "output_type": "stream",
     "text": [
      "Array 1:\n",
      " [[1 5]\n",
      " [7 8]]\n",
      "Array 2:\n",
      " [[6 2]\n",
      " [7 8]]\n",
      "Array 1 > Array 2\n",
      " [[False  True]\n",
      " [False False]]\n",
      "Array 1 == 2\n",
      " [[False False]\n",
      " [ True  True]]\n"
     ]
    }
   ],
   "source": [
    "arr1 = np.array([[1, 5], [7,8]], int)\n",
    "arr2 = np.array([[6, 2], [7,8]], int)\n",
    "\n",
    "print('Array 1:\\n', arr1)\n",
    "print('Array 2:\\n', arr2)\n",
    "\n",
    "# We can compare complete arrays of equal size element wise\n",
    "print('Array 1 > Array 2\\n', arr1 > arr2)\n",
    " \n",
    "# We can compare elements of an array with a given value\n",
    "print('Array 1 == 2\\n', arr1 == arr2)\n"
   ]
  },
  {
   "cell_type": "code",
   "execution_count": 48,
   "metadata": {
    "slideshow": {
     "slide_type": "subslide"
    }
   },
   "outputs": [
    {
     "name": "stdout",
     "output_type": "stream",
     "text": [
      "Array value from index 0 to 4\n",
      " 5\n",
      "[ True  True  True False False False False  True  True  True]\n",
      "Array values with mask as true\n",
      " [0 1 2 7 8 9]\n",
      "Array values with index in list\n",
      " [2 4 6]\n",
      "Array values with index in list\n",
      " [7]\n"
     ]
    }
   ],
   "source": [
    "arr = np.array(range(10))\n",
    "\n",
    "# Slice array from index 0 to 4\n",
    "print('Array value from index 0 to 4\\n', arr[-5])\n",
    "\n",
    "# Masking using boolean values and operators\n",
    "mask = (arr > 6) | (arr < 3)\n",
    "print(mask)\n",
    "print('Array values with mask as true\\n', arr[mask])\n",
    "\n",
    "# Fancy indexing\n",
    "ind = [2,4,6]\n",
    "print('Array values with index in list\\n', arr[ind])\n",
    "\n",
    "# Combine all three\n",
    "print('Array values with index in list\\n', arr[arr > 6][:1])"
   ]
  },
  {
   "cell_type": "markdown",
   "metadata": {
    "slideshow": {
     "slide_type": "subslide"
    }
   },
   "source": [
    "\n",
    "\n",
    "<img src=\"https://cdn-images-1.medium.com/max/800/1*cxbe7Omfj6Be0fbvD7gmGQ.png\">"
   ]
  },
  {
   "cell_type": "markdown",
   "metadata": {
    "slideshow": {
     "slide_type": "subslide"
    }
   },
   "source": [
    "<img src=\"https://cdn-images-1.medium.com/max/800/1*9FImAfjF6Z6Hyv9lm1WgjA.png\">"
   ]
  },
  {
   "cell_type": "markdown",
   "metadata": {
    "slideshow": {
     "slide_type": "skip"
    }
   },
   "source": [
    "https://medium.com/@zachary.bedell/writing-beautiful-code-with-numpy-505f3b353174"
   ]
  },
  {
   "cell_type": "code",
   "execution_count": 50,
   "metadata": {
    "slideshow": {
     "slide_type": "subslide"
    }
   },
   "outputs": [
    {
     "name": "stdout",
     "output_type": "stream",
     "text": [
      "execution time without NumPy:  6.101329326629639\n"
     ]
    }
   ],
   "source": [
    "# multiplying two matrices containing 60,000 and 80,000 integers\n",
    "import time\n",
    "import random as r\n",
    "\n",
    "\n",
    "tick = time.time()\n",
    "#create a 300x200 matrix of 60,000 random integers\n",
    "my_list_1 = []\n",
    "for row_index in range(300):\n",
    "    new_row = []\n",
    "    for col_index in range(200):\n",
    "        new_row.append(r.randint(0, 20))\n",
    "    my_list_1.append(new_row)\n",
    "#create a 200x400 matrix of 80,000 random integers\n",
    "my_list_2 = []\n",
    "for row_index in range(200):\n",
    "    new_row = []\n",
    "    for col_index in range(400):\n",
    "        new_row.append(r.randint(0, 20))\n",
    "    my_list_2.append(new_row)\n",
    "\n",
    "#create 2X3 array to hold results\n",
    "my_result_arr = []\n",
    "for row_index in range(300):\n",
    "    new_row = []\n",
    "    for col_index in range(400):\n",
    "        new_row.append(0)\n",
    "    my_result_arr.append(new_row)\n",
    "\n",
    "# iterate through rows of my_list_1\n",
    "for i in range(len(my_list_1)):\n",
    "   # iterate through columns of my_list_2\n",
    "   for j in range(len(my_list_2[0])):\n",
    "       # iterate through rows of my_list_2\n",
    "       for k in range(len(my_list_2)):\n",
    "           my_result_arr[i][j] += my_list_1[i][k] * my_list_2[k][j]\n",
    "\n",
    "time_to_completion = time.time() - tick\n",
    "\n",
    "print(\"execution time without NumPy: \", time_to_completion)"
   ]
  },
  {
   "cell_type": "markdown",
   "metadata": {
    "slideshow": {
     "slide_type": "subslide"
    }
   },
   "source": [
    "The code is difficult to read, and the solution requires double and triple nested loops, each of which have high time complexities of O(n²) and O(n³)."
   ]
  },
  {
   "cell_type": "code",
   "execution_count": 49,
   "metadata": {
    "slideshow": {
     "slide_type": "subslide"
    }
   },
   "outputs": [
    {
     "name": "stdout",
     "output_type": "stream",
     "text": [
      "execution time with NumPy:  0.023147106170654297\n"
     ]
    }
   ],
   "source": [
    "import time\n",
    "tick = time.time()\n",
    "arr1 = np.arange(0, 60000).reshape(300, 200)\n",
    "arr2 = np.arange(0, 80000).reshape(200, 400)\n",
    "\n",
    "arr_res = np.matmul(arr1, arr2)\n",
    "\n",
    "time_to_completion = time.time() - tick\n",
    "\n",
    "print(\"execution time with NumPy: \", time_to_completion)"
   ]
  }
 ],
 "metadata": {
  "celltoolbar": "Slideshow",
  "kernelspec": {
   "display_name": "Python 3 (ipykernel)",
   "language": "python",
   "name": "python3"
  },
  "language_info": {
   "codemirror_mode": {
    "name": "ipython",
    "version": 3
   },
   "file_extension": ".py",
   "mimetype": "text/x-python",
   "name": "python",
   "nbconvert_exporter": "python",
   "pygments_lexer": "ipython3",
   "version": "3.10.6"
  }
 },
 "nbformat": 4,
 "nbformat_minor": 2
}
