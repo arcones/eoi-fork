{
 "cells": [
  {
   "cell_type": "markdown",
   "metadata": {
    "slideshow": {
     "slide_type": "slide"
    }
   },
   "source": [
    "# Introducción al Machine Learning"
   ]
  },
  {
   "cell_type": "markdown",
   "metadata": {
    "slideshow": {
     "slide_type": "subslide"
    }
   },
   "source": [
    "![](img/IA-ML-DL.png)"
   ]
  },
  {
   "cell_type": "markdown",
   "metadata": {
    "slideshow": {
     "slide_type": "notes"
    }
   },
   "source": [
    "- **Inteligencia Artificial**: A través de unos datos de entrada, el algoritmo aprende a clasificar la información o a hacer predicciones a través de patrones concretos. \n",
    "- **Machine Learning** (aprendizaje automático): El algoritmo es alimentados por una gran cantidad de datos y ante muchas situaciones, aprende qué decisión adoptar y crea un modelo. Puede automatizar tareas según la situación.\n",
    "- **Deep Learning** (aprendizaje profundo): El algoritmo intentará comprender los conceptos analizando los datos a un alto nivel de abstracción a través de la comprensión no lineal. Su funcionamiento es similar al del cerebro. En una red neuronal, se combinan capas sucesivas de datos para aprender los conceptos. "
   ]
  },
  {
   "cell_type": "markdown",
   "metadata": {
    "slideshow": {
     "slide_type": "subslide"
    }
   },
   "source": [
    "## Inteligencia artificial \n",
    "\n",
    "![ia-industry](img/ia-industry.jpg)"
   ]
  },
  {
   "cell_type": "markdown",
   "metadata": {
    "slideshow": {
     "slide_type": "notes"
    }
   },
   "source": [
    "Cada vez que una máquina completa tareas basadas en un conjunto de reglas estipuladas que resuelven problemas (algoritmos), tal comportamiento “inteligente” es lo que se llama inteligencia artificial.\n",
    "\n",
    "Por ejemplo, las máquinas que pueden mover y manipular objetos, reconocer si alguien ha levantado la mano o los chatbots con búsqueda de palabras clave y respuestas predeterminadas.\n",
    "\n",
    "Las máquinas de inteligencia artificial estrecha pueden realizar tareas específicas muy bien, a veces mejor que los humanos, aunque tienen un alcance limitado."
   ]
  },
  {
   "cell_type": "markdown",
   "metadata": {
    "slideshow": {
     "slide_type": "subslide"
    }
   },
   "source": [
    "## Machine learning\n",
    "\n",
    "![hipoteca](img/hipoteca.jpg)"
   ]
  },
  {
   "cell_type": "markdown",
   "metadata": {
    "slideshow": {
     "slide_type": "notes"
    }
   },
   "source": [
    "- Gmail: tiene la opción de ayudar a escribir un email teniendo en cuenta correos anteriores, ya sea para autocompletar frases, confirmar que quieres enviar un email aun cuando no has adjuntado el archivo, pero cuando sí lo has escrito en el cuerpo del email, etc. \n",
    "- Spotify: Sus recomendaciones se hacen utilizando tres modelos diferentes:\n",
    "  * Modelo de filtro colaborativo, al analizar tu comportamiento y el de los demás, las opiniones y reproducciones de las canciones.\n",
    "  * Modelo de procesamiento del lenguaje natural, mediante los blogs y comentarios de internet, detectan canciones de moda. Analizan texto.\n",
    "  * Modelo de audio, al analizar las canciones que se van añadiendo a la plataforma y las compara con las más populares.\n",
    "- Asistentes personales: tales como Siri o Alexa, utilizan el procesamiento de lenguaje natural o NLP, un mecanismo mediante programas que simulan la comunicación. Este tipo de asistentes aprenden de las conversaciones que registran con millones de usuarios y, sobre todo, del propietario del dispositivo y las tareas que ejecuta.\n",
    "- En el sector de la banca, por ejemplo, el machine learning permite reducir el riesgo a la hora conceder créditos, detectar señales de impago o combatir los ciberataques.\n",
    "\n",
    "[Ref](https://www.cognodata.com/machine-learning-ejemplos-diarios/)"
   ]
  },
  {
   "cell_type": "markdown",
   "metadata": {
    "slideshow": {
     "slide_type": "subslide"
    }
   },
   "source": [
    "## Deep Learning\n",
    "![dall-e generated photo](img/astronaut-moon.png)"
   ]
  },
  {
   "cell_type": "markdown",
   "metadata": {
    "slideshow": {
     "slide_type": "notes"
    }
   },
   "source": [
    "- El aprendizaje profundo ha sido particularmente eficaz en las exploraciones médicas, debido a la disponibilidad de datos de gran calidad y la capacidad que tienen las redes neuronales convolucionales de clasificar imágenes. \n",
    "- En este momento, el aprendizaje profundo permite a los granjeros implantar equipos que pueden ver y distinguir entre cultivos y malas hierbas. Gracias a esta capacidad, las máquinas recolectoras pueden rociar de forma selectiva los herbicidas sobre las malas hierbas sin tocar el resto.\n",
    "- Detección facial (por ejemplo, en los aeropuertos)\n",
    "- Reconocimiento de imágenes en los coches automáticos\n",
    "- Generación de imágenes (DALL-E, MidJourney, Stable diffusion...)\n",
    "- Generación de texto (ChatGPT)\n",
    "\n",
    "[Ref1](https://www.netapp.com/es/artificial-intelligence/what-is-deep-learning/)"
   ]
  },
  {
   "cell_type": "markdown",
   "metadata": {
    "slideshow": {
     "slide_type": "subslide"
    }
   },
   "source": [
    "## ¿IA o Machine Learning?\n",
    "[![robots dancing](img/boston-do-you-love-me.png)](https://www.youtube.com/watch?v=fn3KWM1kuAw&t=31s)"
   ]
  },
  {
   "cell_type": "markdown",
   "metadata": {
    "slideshow": {
     "slide_type": "subslide"
    }
   },
   "source": [
    "## Tipos de machine learning\n",
    "![tipos de ml](img/tipos-ml.png)"
   ]
  },
  {
   "cell_type": "markdown",
   "metadata": {
    "slideshow": {
     "slide_type": "notes"
    }
   },
   "source": [
    "**Aprendizaje supervisado**\n",
    "El algoritmo produce una función que establece una correspondencia entre las entradas y las salidas deseadas del sistema. Un ejemplo de este tipo de algoritmo es el problema de clasificación, donde el sistema de aprendizaje trata de etiquetar (clasificar) una serie de vectores utilizando una entre varias categorías (clases). La base de conocimiento del sistema está formada por ejemplos de etiquetados anteriores. Este tipo de aprendizaje puede llegar a ser muy útil en problemas de investigación biológica, biología computacional y bioinformática.\n",
    "\n",
    "**Aprendizaje no supervisado**\n",
    "Todo el proceso de modelado se lleva a cabo sobre un conjunto de ejemplos formado tan solo por entradas al sistema. No se tiene información sobre las categorías de esos ejemplos. Por lo tanto, en este caso, el sistema tiene que ser capaz de reconocer patrones para poder etiquetar las nuevas entradas.\n",
    "\n",
    "**Aprendizaje semisupervisado**\n",
    "Este tipo de algoritmos combinan los dos algoritmos anteriores para poder clasificar de manera adecuada. Se tiene en cuenta los datos marcados y los no marcados.\n",
    "\n",
    "**Aprendizaje por refuerzo**\n",
    "El algoritmo aprende observando el mundo que le rodea. Su información de entrada es el feedback o retroalimentación que obtiene del mundo exterior como respuesta a sus acciones. Por lo tanto, el sistema aprende a base de ensayo-error.\n",
    "Entre las implementaciones desarrolladas está AlphaGo, un programa de IA desarrollado por Google DeepMind para jugar el juego de mesa Go. En marzo de 2016 AlphaGo le ganó una partida al jugador profesional Lee Se-Dol que tiene la categoría noveno dan y 18 títulos mundiales. Entre los algoritmos que utiliza se encuentra el árbol de búsqueda Monte Carlo, también utiliza aprendizaje profundo con redes neuronales. Puede ver lo ocurrido en el documental de Netflix “AlphaGo”.\n",
    "\n",
    "[Ref gráfico](https://datos.gob.es/es/blog/como-aprenden-las-maquinas-machine-learning-y-sus-diferentes-tipos)\n",
    "[Ref wikipedia](https://es.wikipedia.org/wiki/Aprendizaje_autom%C3%A1tico#Tipos_de_algoritmos)"
   ]
  },
  {
   "cell_type": "markdown",
   "metadata": {
    "slideshow": {
     "slide_type": "subslide"
    }
   },
   "source": [
    "## Algunos ejemplos en youtube\n",
    "- [Redes generativas(hace 2 años)](https://youtu.be/BQLTRMYHwvE)\n",
    "- [Redes generativas (ahora)](https://youtu.be/j8Bxdp60lo8?t=183)\n",
    "- [Aprendizaje por refuerzo - Mario Bros](https://www.youtube.com/watch?v=qv6UVOQ0F44&t=64s)\n",
    "- [Aprendizaje por refuerzo - Mario Kart](https://youtu.be/Ipi40cb_RsI?t=270)"
   ]
  },
  {
   "cell_type": "markdown",
   "metadata": {
    "slideshow": {
     "slide_type": "slide"
    }
   },
   "source": [
    "# Flujo de trabajo de un proyecto de Machine Learning\n",
    "![Flujo de trabajo de ML](img/ML-workflow-2.png)"
   ]
  },
  {
   "cell_type": "markdown",
   "metadata": {
    "slideshow": {
     "slide_type": "slide"
    }
   },
   "source": [
    "# Conseguir y cargar datos"
   ]
  },
  {
   "cell_type": "markdown",
   "metadata": {
    "slideshow": {
     "slide_type": "subslide"
    }
   },
   "source": [
    "## Conseguir datos:\n",
    "1. Alguien nos entrega los datos (YAY!)\n",
    "2. Datasets públicos: \n",
    "    - [scikit learn](https://scikit-learn.org/stable/datasets.html)\n",
    "    - [tensorflow](https://www.tensorflow.org/datasets?hl=es-419)\n",
    "    - [Kaggle](https://www.kaggle.com/)\n",
    "    - [Hugging Face](https://huggingface.co/datasets)\n",
    "    - [Datos Gobierno de España](https://datos.gob.es/)\n",
    "    - [Datos Madrid](https://datos.madrid.es/portal/site/egob)\n",
    "    - [Datos Castilla la Mancha](https://datosabiertos.castillalamancha.es/)\n",
    "    - [Datos BOE (Civio)](https://datos.civio.es/datasets/) \n",
    "3. Internet of Things\n",
    "4. Web crawling & APIs: [Scrapy](https://scrapy.org/)"
   ]
  },
  {
   "cell_type": "markdown",
   "metadata": {
    "slideshow": {
     "slide_type": "subslide"
    }
   },
   "source": [
    "# Cargar datos\n",
    "- Texto\n",
    "    - CSV\n",
    "    - JSON\n",
    "    - XML\n",
    "- Imagen\n",
    "    - Pillow\n",
    "    - OpenCV\n",
    "- Audio\n",
    "    - Wavio\n",
    "    - PyAudio"
   ]
  },
  {
   "cell_type": "markdown",
   "metadata": {
    "slideshow": {
     "slide_type": "slide"
    }
   },
   "source": [
    "# Análisis exploratorio\n",
    "\n",
    "El análisis descriptivo da respuesta a alguna pregunta formulada al inicio del despliegue estadístico para:\n",
    "\n",
    "- Recolectar y ordenar la información por medio de gráficas y medios visuales.\n",
    "- Extraer las características más representativas de una colección de datos.\n",
    "- Describir tendencias.\n",
    "\n",
    "![Flujo de trabajo de ML](img/ML-workflow-2.png)\n"
   ]
  },
  {
   "cell_type": "markdown",
   "metadata": {
    "slideshow": {
     "slide_type": "subslide"
    }
   },
   "source": [
    "## Librerías importantes"
   ]
  },
  {
   "cell_type": "markdown",
   "metadata": {
    "slideshow": {
     "slide_type": "subslide"
    }
   },
   "source": [
    "### Numpy\n",
    "Extensión de Python, que le agrega mayor soporte para vectores y matrices, constituyendo una biblioteca de funciones matemáticas de alto nivel para operar con esos vectores o matrices.  \n",
    "* [Guía para absolutos principiantes](https://numpy.org/doc/stable/user/absolute_beginners.html)\n",
    "* [Ejercicios](_numpy.ipynb)"
   ]
  },
  {
   "cell_type": "markdown",
   "metadata": {
    "slideshow": {
     "slide_type": "subslide"
    }
   },
   "source": [
    "### Pandas\n",
    "Extensión de NumPy para manipulación y análisis de datos para el lenguaje de programación Python. En particular, ofrece estructuras de datos y operaciones para manipular tablas numéricas y series temporales.\n",
    "* [Pandas en 10 minutos](https://pandas.pydata.org/docs/user_guide/10min.html)\n",
    "* [Ejercicios](_pandas.ipynb)"
   ]
  },
  {
   "cell_type": "markdown",
   "metadata": {
    "slideshow": {
     "slide_type": "subslide"
    }
   },
   "source": [
    "### Matplot Lib\n",
    "Biblioteca para la generación de gráficos a partir de datos contenidos en listas o arrays en el lenguaje de programación Python y su extensión matemática NumPy. Proporciona una API, pylab, diseñada para recordar a la de MATLAB.\n",
    "* [Guía rápida](https://matplotlib.org/stable/tutorials/introductory/quick_start.html)\n",
    "* [Ejercicios](_matplotlib.ipynb)"
   ]
  },
  {
   "cell_type": "markdown",
   "metadata": {
    "slideshow": {
     "slide_type": "subslide"
    }
   },
   "source": [
    "### Seaborn\n",
    "Seaborn es una librería de visualización de datos en Python basada en matplotlib.   \n",
    "La idea de Seaborn es que los data scientists dispongan de una interfaz para hacer gráficos estadísticos atractivos e explicativos: el objetivo es visualizar datos complejos de forma sencilla y extraer conclusiones.\n",
    "* [Tutorial](https://seaborn.pydata.org/tutorial/introduction.html)\n",
    "* [Ejercicios](_seaborn.ipynb)"
   ]
  },
  {
   "cell_type": "markdown",
   "metadata": {
    "slideshow": {
     "slide_type": "subslide"
    }
   },
   "source": [
    "Recomendación para visualizaciones: https://www.python-graph-gallery.com/"
   ]
  },
  {
   "cell_type": "markdown",
   "metadata": {
    "slideshow": {
     "slide_type": "subslide"
    }
   },
   "source": [
    "## Tipos de datos\n",
    "- Variables numéricas: Se expresan mediante números y permite realizar operaciones aritméticas\n",
    "  * Variables discretas: `2, 5, 7, 12, 15, 26, 45, 47, 50, 54, 65, 73`\n",
    "  * Variables continuas: `1.25, 1.27, 1.29, 1.54, 1.67, 1.71, 1.75`\n",
    "\n",
    "- Variables cualitativas: Características que no pueden ser medidas con números\n",
    "  * Nominal: `amarillo, azul, rojo..`\n",
    "  * Ordinal o cuasi-cuantitativa: `bajo, medio, alto`\n",
    "  \n",
    "---\n",
    "\n",
    "- En Pandas podemos usar la función [info](https://pandas.pydata.org/docs/reference/api/pandas.DataFrame.info.html?highlight=info#pandas.DataFrame.info), la cual representará para cada columna el tipo correspondiente en la columna Dtype \\\n",
    "  Más información sobre los tipos en la [documentación oficial](https://pandas.pydata.org/docs/user_guide/basics.html#dtypes)"
   ]
  },
  {
   "cell_type": "code",
   "execution_count": 1,
   "metadata": {
    "slideshow": {
     "slide_type": "subslide"
    }
   },
   "outputs": [
    {
     "name": "stdout",
     "output_type": "stream",
     "text": [
      "<class 'pandas.core.frame.DataFrame'>\n",
      "RangeIndex: 150 entries, 0 to 149\n",
      "Data columns (total 5 columns):\n",
      " #   Column        Non-Null Count  Dtype  \n",
      "---  ------        --------------  -----  \n",
      " 0   sepal_length  150 non-null    float64\n",
      " 1   sepal_width   150 non-null    float64\n",
      " 2   petal_length  150 non-null    float64\n",
      " 3   petal_width   150 non-null    float64\n",
      " 4   species       150 non-null    object \n",
      "dtypes: float64(4), object(1)\n",
      "memory usage: 6.0+ KB\n"
     ]
    }
   ],
   "source": [
    "import seaborn as sns\n",
    "\n",
    "df = sns.load_dataset('iris')\n",
    "\n",
    "df.info()"
   ]
  },
  {
   "cell_type": "markdown",
   "metadata": {
    "slideshow": {
     "slide_type": "subslide"
    }
   },
   "source": [
    "## Medidas de tendencia central\n",
    "\n",
    "Un conjunto N de observaciones puede que por sí solo no nos diga nada. En cambio, si se conoce que están situados alrededor de uno o varios valores centrales ya tenemos una referencia que sintetiza la información\n",
    "\n",
    "- Media: valor que resultaría de repartir equitativamente el total observado entre los individuos de la muestra\n",
    "- Mediana: valor que divide la secuencia ordenada de observaciones en dos partes iguales\n",
    "- Moda: valor más frecuente\n",
    "\n",
    "---\n",
    "- En numpy tenemos las funciones [average](https://numpy.org/doc/stable/reference/generated/numpy.average.html#numpy-average) para la media, [mean](https://numpy.org/doc/stable/reference/generated/numpy.mean.html) para la mediana, pero para la moda debemos usar el paquete [scipy.stats.mode](https://docs.scipy.org/doc/scipy/reference/generated/scipy.stats.mode.html)\n",
    "\n",
    "- En pandas tenemos la función [describe](https://pandas.pydata.org/docs/reference/api/pandas.DataFrame.describe.html) que genera medidas de tendencia central para todas las columnas de tipo numérico"
   ]
  },
  {
   "cell_type": "code",
   "execution_count": 2,
   "metadata": {
    "slideshow": {
     "slide_type": "subslide"
    }
   },
   "outputs": [
    {
     "name": "stdout",
     "output_type": "stream",
     "text": [
      "Data: [6 3 7 4 6 9 2 6 7 4]\n",
      "Average: 5.4 | Mean: 5.4 | Mode: 6\n"
     ]
    },
    {
     "data": {
      "text/html": [
       "<div>\n",
       "<style scoped>\n",
       "    .dataframe tbody tr th:only-of-type {\n",
       "        vertical-align: middle;\n",
       "    }\n",
       "\n",
       "    .dataframe tbody tr th {\n",
       "        vertical-align: top;\n",
       "    }\n",
       "\n",
       "    .dataframe thead th {\n",
       "        text-align: right;\n",
       "    }\n",
       "</style>\n",
       "<table border=\"1\" class=\"dataframe\">\n",
       "  <thead>\n",
       "    <tr style=\"text-align: right;\">\n",
       "      <th></th>\n",
       "      <th>sepal_length</th>\n",
       "      <th>sepal_width</th>\n",
       "      <th>petal_length</th>\n",
       "      <th>petal_width</th>\n",
       "    </tr>\n",
       "  </thead>\n",
       "  <tbody>\n",
       "    <tr>\n",
       "      <th>count</th>\n",
       "      <td>150.000000</td>\n",
       "      <td>150.000000</td>\n",
       "      <td>150.000000</td>\n",
       "      <td>150.000000</td>\n",
       "    </tr>\n",
       "    <tr>\n",
       "      <th>mean</th>\n",
       "      <td>5.843333</td>\n",
       "      <td>3.057333</td>\n",
       "      <td>3.758000</td>\n",
       "      <td>1.199333</td>\n",
       "    </tr>\n",
       "    <tr>\n",
       "      <th>std</th>\n",
       "      <td>0.828066</td>\n",
       "      <td>0.435866</td>\n",
       "      <td>1.765298</td>\n",
       "      <td>0.762238</td>\n",
       "    </tr>\n",
       "    <tr>\n",
       "      <th>min</th>\n",
       "      <td>4.300000</td>\n",
       "      <td>2.000000</td>\n",
       "      <td>1.000000</td>\n",
       "      <td>0.100000</td>\n",
       "    </tr>\n",
       "    <tr>\n",
       "      <th>25%</th>\n",
       "      <td>5.100000</td>\n",
       "      <td>2.800000</td>\n",
       "      <td>1.600000</td>\n",
       "      <td>0.300000</td>\n",
       "    </tr>\n",
       "    <tr>\n",
       "      <th>50%</th>\n",
       "      <td>5.800000</td>\n",
       "      <td>3.000000</td>\n",
       "      <td>4.350000</td>\n",
       "      <td>1.300000</td>\n",
       "    </tr>\n",
       "    <tr>\n",
       "      <th>75%</th>\n",
       "      <td>6.400000</td>\n",
       "      <td>3.300000</td>\n",
       "      <td>5.100000</td>\n",
       "      <td>1.800000</td>\n",
       "    </tr>\n",
       "    <tr>\n",
       "      <th>max</th>\n",
       "      <td>7.900000</td>\n",
       "      <td>4.400000</td>\n",
       "      <td>6.900000</td>\n",
       "      <td>2.500000</td>\n",
       "    </tr>\n",
       "  </tbody>\n",
       "</table>\n",
       "</div>"
      ],
      "text/plain": [
       "       sepal_length  sepal_width  petal_length  petal_width\n",
       "count    150.000000   150.000000    150.000000   150.000000\n",
       "mean       5.843333     3.057333      3.758000     1.199333\n",
       "std        0.828066     0.435866      1.765298     0.762238\n",
       "min        4.300000     2.000000      1.000000     0.100000\n",
       "25%        5.100000     2.800000      1.600000     0.300000\n",
       "50%        5.800000     3.000000      4.350000     1.300000\n",
       "75%        6.400000     3.300000      5.100000     1.800000\n",
       "max        7.900000     4.400000      6.900000     2.500000"
      ]
     },
     "execution_count": 2,
     "metadata": {},
     "output_type": "execute_result"
    }
   ],
   "source": [
    "import numpy as np\n",
    "from scipy import stats\n",
    "\n",
    "np.random.seed(42)\n",
    "\n",
    "# con numpy\n",
    "data = np.random.randint(10, size=10)\n",
    "print(f'Data: {data}')\n",
    "print(f'Average: {np.average(data)} | Mean: {np.mean(data)} | Mode: {stats.mode(data, keepdims=True)[0][0]}')\n",
    "\n",
    "# con pandas\n",
    "import seaborn as sns\n",
    "\n",
    "df = sns.load_dataset('iris')\n",
    "df.describe()"
   ]
  },
  {
   "cell_type": "markdown",
   "metadata": {
    "slideshow": {
     "slide_type": "subslide"
    }
   },
   "source": [
    "## Medidas de posición no central\n",
    "\n",
    "Ayudan a localizar el valor de la variable que acumula cierto porcentaje específico de\n",
    "datos.\n",
    "\n",
    "Estas medidas dividen a la población en partes iguales y sirven para clasificar a un\n",
    "individuo dentro de una determinada muestra o población (mismo concepto que la\n",
    "mediana)\n",
    "\n",
    "- Cuartiles (Q): Encuentran el valor acumulado al 25%, 50% y 75%, respectivamente.\n",
    "- Deciles (D): Representan el 10%, 20%, ... , 90% de los datos acumulados respectivamente.\n",
    "- Percentiles (P): Representan el 1%, 2%, ... , 99% de los datos acumulados respectivamente\n",
    "    \n",
    "---\n",
    "- En numpy tenemos la función [percentile](https://numpy.org/doc/stable/reference/generated/numpy.percentile.html#numpy-percentile)\n",
    "- En pandas la función [describe](https://pandas.pydata.org/docs/reference/api/pandas.DataFrame.describe.html) también genera medidas de posición no central para todas las columnas de tipo numérico"
   ]
  },
  {
   "cell_type": "code",
   "execution_count": 3,
   "metadata": {
    "slideshow": {
     "slide_type": "subslide"
    }
   },
   "outputs": [
    {
     "data": {
      "image/png": "[encoded data removed]",
      "text/plain": [
       "<Figure size 640x480 with 1 Axes>"
      ]
     },
     "metadata": {},
     "output_type": "display_data"
    },
    {
     "name": "stdout",
     "output_type": "stream",
     "text": [
      "Cuartiles | Q1:-0.0012974878964387704, Q2: -0.0012974878964387704, Q3: -0.0012974878964387704, Q4: -0.0012974878964387704\n"
     ]
    }
   ],
   "source": [
    "import numpy as np\n",
    "import matplotlib.pyplot as plt\n",
    "\n",
    "np.random.seed(42)\n",
    "\n",
    "# con numpy\n",
    "vals = np.random.normal(0, 0.5, 10000)\n",
    "\n",
    "plt.hist(vals, 50)\n",
    "plt.show()\n",
    "\n",
    "print(f'Cuartiles | Q1:{np.percentile(vals, 50)}, Q2: {np.percentile(vals, 50)}, '\n",
    "      f'Q3: {np.percentile(vals, 50)}, Q4: {np.percentile(vals, 50)}')"
   ]
  },
  {
   "cell_type": "markdown",
   "metadata": {
    "slideshow": {
     "slide_type": "subslide"
    }
   },
   "source": [
    "## Distribución de probabilidad\n",
    "\n",
    "Una distribución estadística, o distribución de probabilidad, describe cómo se distribuyen los valores para un campo. En otras palabras, la distribución estadística muestra qué valores son comunes y poco comunes.\n",
    "\n",
    "En este curso nos vamos a centrar principalmente en ver si una distribución es normal o no.\n",
    "\n",
    "---\n",
    "\n",
    "**Distribución normal o Gausiana** \n",
    "\n",
    "La gráfica de su función de densidad tiene una forma acampanada y es simétrica respecto de un determinado parámetro estadístico. Esta curva se conoce como campana de Gauss y es el gráfico de una función gaussiana.\n",
    "\n",
    "![distribucion normal](img/distribucion-normal.png)"
   ]
  },
  {
   "cell_type": "code",
   "execution_count": 4,
   "metadata": {
    "slideshow": {
     "slide_type": "subslide"
    }
   },
   "outputs": [
    {
     "data": {
      "text/plain": [
       "<AxesSubplot: ylabel='Count'>"
      ]
     },
     "execution_count": 4,
     "metadata": {},
     "output_type": "execute_result"
    },
    {
     "data": {
      "image/png": "[encoded data removed]",
      "text/plain": [
       "<Figure size 640x480 with 1 Axes>"
      ]
     },
     "metadata": {},
     "output_type": "display_data"
    }
   ],
   "source": [
    "import numpy as np\n",
    "import seaborn as sns\n",
    "\n",
    "np.random.seed(42)\n",
    "\n",
    "value = np.random.normal(loc=5,scale=3,size=1000)\n",
    "sns.histplot(value)"
   ]
  },
  {
   "cell_type": "markdown",
   "metadata": {
    "slideshow": {
     "slide_type": "slide"
    }
   },
   "source": [
    "# Preparar el dataset\n",
    "\n",
    "Los problemas más comunes a resolver en el preprocesamiento de datos son:\n",
    "- Valores nulos\n",
    "- Datos categóricos\n",
    "- Valores atípicos\n",
    "- Distintos órdenes de magnitud\n",
    "- Selección de variables\n",
    "- Desbalanceo de la variable objetivo\n",
    "\n",
    "![Flujo de trabajo de ML](img/ML-workflow-2.png)"
   ]
  },
  {
   "cell_type": "markdown",
   "metadata": {
    "slideshow": {
     "slide_type": "subslide"
    }
   },
   "source": [
    "## Valores nulos\n",
    "\n",
    "Los datos faltantes se clasifican en tres categorías usando una terminología que puede confundir pero que está relacionada con la manera en que se aconseja o se puede enfrentar su ausencia.\n",
    "\n",
    "1. **Missing completely at random (MCAR)**: el hecho que falte una observación no está relacionado con el o los valores faltantes ni con los valores existentes. Por ejemplo, fallos en el equipamiento de medida, fallos humanos o que el mal tiempo haga que el equipo no funcione\n",
    "2. **Missing at random (MAR)**: una o varias características registradas pueden explicar la distribución de los datos faltantes. Por ejemplo: que las personas más mayores no rellenen el campo de \"redes sociales\" en una encuesta\n",
    "3. **Missing not at random (MNAR)**: los datos faltantes probablemente dependen o están relacionados con datos no observados. Por ejemplo: que personas que se van a someter a una cirujía omitan si tienen malos hábitos como fumar o tomar ciertas drogas"
   ]
  },
  {
   "cell_type": "code",
   "execution_count": 5,
   "metadata": {
    "slideshow": {
     "slide_type": "subslide"
    }
   },
   "outputs": [
    {
     "data": {
      "text/html": [
       "<div>\n",
       "<style scoped>\n",
       "    .dataframe tbody tr th:only-of-type {\n",
       "        vertical-align: middle;\n",
       "    }\n",
       "\n",
       "    .dataframe tbody tr th {\n",
       "        vertical-align: top;\n",
       "    }\n",
       "\n",
       "    .dataframe thead th {\n",
       "        text-align: right;\n",
       "    }\n",
       "</style>\n",
       "<table border=\"1\" class=\"dataframe\">\n",
       "  <thead>\n",
       "    <tr style=\"text-align: right;\">\n",
       "      <th></th>\n",
       "      <th>a</th>\n",
       "      <th>b</th>\n",
       "      <th>c</th>\n",
       "    </tr>\n",
       "  </thead>\n",
       "  <tbody>\n",
       "    <tr>\n",
       "      <th>0</th>\n",
       "      <td>NaN</td>\n",
       "      <td>1.0</td>\n",
       "      <td>54.0</td>\n",
       "    </tr>\n",
       "    <tr>\n",
       "      <th>1</th>\n",
       "      <td>3.0</td>\n",
       "      <td>3.0</td>\n",
       "      <td>NaN</td>\n",
       "    </tr>\n",
       "    <tr>\n",
       "      <th>2</th>\n",
       "      <td>NaN</td>\n",
       "      <td>4.0</td>\n",
       "      <td>NaN</td>\n",
       "    </tr>\n",
       "    <tr>\n",
       "      <th>3</th>\n",
       "      <td>5.0</td>\n",
       "      <td>3.0</td>\n",
       "      <td>32.0</td>\n",
       "    </tr>\n",
       "    <tr>\n",
       "      <th>4</th>\n",
       "      <td>6.0</td>\n",
       "      <td>NaN</td>\n",
       "      <td>21.0</td>\n",
       "    </tr>\n",
       "  </tbody>\n",
       "</table>\n",
       "</div>"
      ],
      "text/plain": [
       "     a    b     c\n",
       "0  NaN  1.0  54.0\n",
       "1  3.0  3.0   NaN\n",
       "2  NaN  4.0   NaN\n",
       "3  5.0  3.0  32.0\n",
       "4  6.0  NaN  21.0"
      ]
     },
     "execution_count": 5,
     "metadata": {},
     "output_type": "execute_result"
    }
   ],
   "source": [
    "import numpy as np\n",
    "import pandas as pd\n",
    "\n",
    "df = pd.DataFrame({'a':[None, 3, None, 5, 6], 'b':[1, 3, 4, 3, None], 'c':[54, None, None, 32, 21]})\n",
    "df.head()"
   ]
  },
  {
   "cell_type": "markdown",
   "metadata": {
    "slideshow": {
     "slide_type": "subslide"
    }
   },
   "source": [
    "**Reconocer los valores nulos**\n",
    "\n",
    "Con `isnull` obtenemos una tabla booleana con `True` si el valor es un `NaN` o `False` si no lo es"
   ]
  },
  {
   "cell_type": "code",
   "execution_count": 6,
   "metadata": {
    "slideshow": {
     "slide_type": "-"
    }
   },
   "outputs": [
    {
     "data": {
      "text/html": [
       "<div>\n",
       "<style scoped>\n",
       "    .dataframe tbody tr th:only-of-type {\n",
       "        vertical-align: middle;\n",
       "    }\n",
       "\n",
       "    .dataframe tbody tr th {\n",
       "        vertical-align: top;\n",
       "    }\n",
       "\n",
       "    .dataframe thead th {\n",
       "        text-align: right;\n",
       "    }\n",
       "</style>\n",
       "<table border=\"1\" class=\"dataframe\">\n",
       "  <thead>\n",
       "    <tr style=\"text-align: right;\">\n",
       "      <th></th>\n",
       "      <th>a</th>\n",
       "      <th>b</th>\n",
       "      <th>c</th>\n",
       "    </tr>\n",
       "  </thead>\n",
       "  <tbody>\n",
       "    <tr>\n",
       "      <th>0</th>\n",
       "      <td>NaN</td>\n",
       "      <td>1.0</td>\n",
       "      <td>54.0</td>\n",
       "    </tr>\n",
       "    <tr>\n",
       "      <th>2</th>\n",
       "      <td>NaN</td>\n",
       "      <td>4.0</td>\n",
       "      <td>NaN</td>\n",
       "    </tr>\n",
       "  </tbody>\n",
       "</table>\n",
       "</div>"
      ],
      "text/plain": [
       "    a    b     c\n",
       "0 NaN  1.0  54.0\n",
       "2 NaN  4.0   NaN"
      ]
     },
     "execution_count": 6,
     "metadata": {},
     "output_type": "execute_result"
    }
   ],
   "source": [
    "df[df['a'].isnull()]"
   ]
  },
  {
   "cell_type": "code",
   "execution_count": 7,
   "metadata": {
    "slideshow": {
     "slide_type": "-"
    }
   },
   "outputs": [
    {
     "data": {
      "text/html": [
       "<div>\n",
       "<style scoped>\n",
       "    .dataframe tbody tr th:only-of-type {\n",
       "        vertical-align: middle;\n",
       "    }\n",
       "\n",
       "    .dataframe tbody tr th {\n",
       "        vertical-align: top;\n",
       "    }\n",
       "\n",
       "    .dataframe thead th {\n",
       "        text-align: right;\n",
       "    }\n",
       "</style>\n",
       "<table border=\"1\" class=\"dataframe\">\n",
       "  <thead>\n",
       "    <tr style=\"text-align: right;\">\n",
       "      <th></th>\n",
       "      <th>Total</th>\n",
       "      <th>%</th>\n",
       "    </tr>\n",
       "  </thead>\n",
       "  <tbody>\n",
       "    <tr>\n",
       "      <th>a</th>\n",
       "      <td>2</td>\n",
       "      <td>40.0</td>\n",
       "    </tr>\n",
       "    <tr>\n",
       "      <th>c</th>\n",
       "      <td>2</td>\n",
       "      <td>40.0</td>\n",
       "    </tr>\n",
       "    <tr>\n",
       "      <th>b</th>\n",
       "      <td>1</td>\n",
       "      <td>20.0</td>\n",
       "    </tr>\n",
       "  </tbody>\n",
       "</table>\n",
       "</div>"
      ],
      "text/plain": [
       "   Total     %\n",
       "a      2  40.0\n",
       "c      2  40.0\n",
       "b      1  20.0"
      ]
     },
     "execution_count": 7,
     "metadata": {},
     "output_type": "execute_result"
    }
   ],
   "source": [
    "total = df.isnull().sum().sort_values(ascending=False)\n",
    "percent_nulls = round(df.isnull().sum() / df.isnull().count() * 100, 1).sort_values(ascending=False)\n",
    "\n",
    "pd.concat([total, percent_nulls], axis=1, keys=['Total', '%'])"
   ]
  },
  {
   "cell_type": "markdown",
   "metadata": {
    "slideshow": {
     "slide_type": "subslide"
    }
   },
   "source": [
    "### Qué hacer con los nulos\n",
    "1. Eliminarlos (si no son muchos o significativos)"
   ]
  },
  {
   "cell_type": "code",
   "execution_count": 8,
   "metadata": {
    "slideshow": {
     "slide_type": "-"
    }
   },
   "outputs": [
    {
     "data": {
      "text/html": [
       "<div>\n",
       "<style scoped>\n",
       "    .dataframe tbody tr th:only-of-type {\n",
       "        vertical-align: middle;\n",
       "    }\n",
       "\n",
       "    .dataframe tbody tr th {\n",
       "        vertical-align: top;\n",
       "    }\n",
       "\n",
       "    .dataframe thead th {\n",
       "        text-align: right;\n",
       "    }\n",
       "</style>\n",
       "<table border=\"1\" class=\"dataframe\">\n",
       "  <thead>\n",
       "    <tr style=\"text-align: right;\">\n",
       "      <th></th>\n",
       "      <th>a</th>\n",
       "      <th>b</th>\n",
       "      <th>c</th>\n",
       "    </tr>\n",
       "  </thead>\n",
       "  <tbody>\n",
       "    <tr>\n",
       "      <th>3</th>\n",
       "      <td>5.0</td>\n",
       "      <td>3.0</td>\n",
       "      <td>32.0</td>\n",
       "    </tr>\n",
       "  </tbody>\n",
       "</table>\n",
       "</div>"
      ],
      "text/plain": [
       "     a    b     c\n",
       "3  5.0  3.0  32.0"
      ]
     },
     "execution_count": 8,
     "metadata": {},
     "output_type": "execute_result"
    }
   ],
   "source": [
    "df.dropna()"
   ]
  },
  {
   "cell_type": "markdown",
   "metadata": {
    "slideshow": {
     "slide_type": "subslide"
    }
   },
   "source": [
    "2. Imputación simple\n",
    "Pandas proporciona la función `fillna()` para reemplazar valores perdidos con un valor específico."
   ]
  },
  {
   "cell_type": "code",
   "execution_count": 9,
   "metadata": {
    "slideshow": {
     "slide_type": "-"
    }
   },
   "outputs": [
    {
     "data": {
      "text/html": [
       "<div>\n",
       "<style scoped>\n",
       "    .dataframe tbody tr th:only-of-type {\n",
       "        vertical-align: middle;\n",
       "    }\n",
       "\n",
       "    .dataframe tbody tr th {\n",
       "        vertical-align: top;\n",
       "    }\n",
       "\n",
       "    .dataframe thead th {\n",
       "        text-align: right;\n",
       "    }\n",
       "</style>\n",
       "<table border=\"1\" class=\"dataframe\">\n",
       "  <thead>\n",
       "    <tr style=\"text-align: right;\">\n",
       "      <th></th>\n",
       "      <th>a</th>\n",
       "      <th>b</th>\n",
       "      <th>c</th>\n",
       "    </tr>\n",
       "  </thead>\n",
       "  <tbody>\n",
       "    <tr>\n",
       "      <th>0</th>\n",
       "      <td>0.0</td>\n",
       "      <td>1.0</td>\n",
       "      <td>54.0</td>\n",
       "    </tr>\n",
       "    <tr>\n",
       "      <th>1</th>\n",
       "      <td>3.0</td>\n",
       "      <td>3.0</td>\n",
       "      <td>0.0</td>\n",
       "    </tr>\n",
       "    <tr>\n",
       "      <th>2</th>\n",
       "      <td>0.0</td>\n",
       "      <td>4.0</td>\n",
       "      <td>0.0</td>\n",
       "    </tr>\n",
       "    <tr>\n",
       "      <th>3</th>\n",
       "      <td>5.0</td>\n",
       "      <td>3.0</td>\n",
       "      <td>32.0</td>\n",
       "    </tr>\n",
       "    <tr>\n",
       "      <th>4</th>\n",
       "      <td>6.0</td>\n",
       "      <td>0.0</td>\n",
       "      <td>21.0</td>\n",
       "    </tr>\n",
       "  </tbody>\n",
       "</table>\n",
       "</div>"
      ],
      "text/plain": [
       "     a    b     c\n",
       "0  0.0  1.0  54.0\n",
       "1  3.0  3.0   0.0\n",
       "2  0.0  4.0   0.0\n",
       "3  5.0  3.0  32.0\n",
       "4  6.0  0.0  21.0"
      ]
     },
     "execution_count": 9,
     "metadata": {},
     "output_type": "execute_result"
    }
   ],
   "source": [
    "# imputar un valor fijo\n",
    "df.fillna(0)"
   ]
  },
  {
   "cell_type": "code",
   "execution_count": 10,
   "metadata": {
    "slideshow": {
     "slide_type": "subslide"
    }
   },
   "outputs": [
    {
     "data": {
      "text/html": [
       "<div>\n",
       "<style scoped>\n",
       "    .dataframe tbody tr th:only-of-type {\n",
       "        vertical-align: middle;\n",
       "    }\n",
       "\n",
       "    .dataframe tbody tr th {\n",
       "        vertical-align: top;\n",
       "    }\n",
       "\n",
       "    .dataframe thead th {\n",
       "        text-align: right;\n",
       "    }\n",
       "</style>\n",
       "<table border=\"1\" class=\"dataframe\">\n",
       "  <thead>\n",
       "    <tr style=\"text-align: right;\">\n",
       "      <th></th>\n",
       "      <th>a</th>\n",
       "      <th>b</th>\n",
       "      <th>c</th>\n",
       "    </tr>\n",
       "  </thead>\n",
       "  <tbody>\n",
       "    <tr>\n",
       "      <th>0</th>\n",
       "      <td>4.666667</td>\n",
       "      <td>1.00</td>\n",
       "      <td>54.000000</td>\n",
       "    </tr>\n",
       "    <tr>\n",
       "      <th>1</th>\n",
       "      <td>3.000000</td>\n",
       "      <td>3.00</td>\n",
       "      <td>35.666667</td>\n",
       "    </tr>\n",
       "    <tr>\n",
       "      <th>2</th>\n",
       "      <td>4.666667</td>\n",
       "      <td>4.00</td>\n",
       "      <td>35.666667</td>\n",
       "    </tr>\n",
       "    <tr>\n",
       "      <th>3</th>\n",
       "      <td>5.000000</td>\n",
       "      <td>3.00</td>\n",
       "      <td>32.000000</td>\n",
       "    </tr>\n",
       "    <tr>\n",
       "      <th>4</th>\n",
       "      <td>6.000000</td>\n",
       "      <td>2.75</td>\n",
       "      <td>21.000000</td>\n",
       "    </tr>\n",
       "  </tbody>\n",
       "</table>\n",
       "</div>"
      ],
      "text/plain": [
       "          a     b          c\n",
       "0  4.666667  1.00  54.000000\n",
       "1  3.000000  3.00  35.666667\n",
       "2  4.666667  4.00  35.666667\n",
       "3  5.000000  3.00  32.000000\n",
       "4  6.000000  2.75  21.000000"
      ]
     },
     "execution_count": 10,
     "metadata": {},
     "output_type": "execute_result"
    }
   ],
   "source": [
    "# reemplazar con la media de la columna\n",
    "df.fillna(df.mean())"
   ]
  },
  {
   "cell_type": "code",
   "execution_count": 11,
   "metadata": {
    "slideshow": {
     "slide_type": "-"
    }
   },
   "outputs": [
    {
     "data": {
      "text/html": [
       "<div>\n",
       "<style scoped>\n",
       "    .dataframe tbody tr th:only-of-type {\n",
       "        vertical-align: middle;\n",
       "    }\n",
       "\n",
       "    .dataframe tbody tr th {\n",
       "        vertical-align: top;\n",
       "    }\n",
       "\n",
       "    .dataframe thead th {\n",
       "        text-align: right;\n",
       "    }\n",
       "</style>\n",
       "<table border=\"1\" class=\"dataframe\">\n",
       "  <thead>\n",
       "    <tr style=\"text-align: right;\">\n",
       "      <th></th>\n",
       "      <th>a</th>\n",
       "      <th>b</th>\n",
       "      <th>c</th>\n",
       "    </tr>\n",
       "  </thead>\n",
       "  <tbody>\n",
       "    <tr>\n",
       "      <th>0</th>\n",
       "      <td>NaN</td>\n",
       "      <td>1.0</td>\n",
       "      <td>54.0</td>\n",
       "    </tr>\n",
       "    <tr>\n",
       "      <th>1</th>\n",
       "      <td>3.0</td>\n",
       "      <td>3.0</td>\n",
       "      <td>54.0</td>\n",
       "    </tr>\n",
       "    <tr>\n",
       "      <th>2</th>\n",
       "      <td>3.0</td>\n",
       "      <td>4.0</td>\n",
       "      <td>54.0</td>\n",
       "    </tr>\n",
       "    <tr>\n",
       "      <th>3</th>\n",
       "      <td>5.0</td>\n",
       "      <td>3.0</td>\n",
       "      <td>32.0</td>\n",
       "    </tr>\n",
       "    <tr>\n",
       "      <th>4</th>\n",
       "      <td>6.0</td>\n",
       "      <td>3.0</td>\n",
       "      <td>21.0</td>\n",
       "    </tr>\n",
       "  </tbody>\n",
       "</table>\n",
       "</div>"
      ],
      "text/plain": [
       "     a    b     c\n",
       "0  NaN  1.0  54.0\n",
       "1  3.0  3.0  54.0\n",
       "2  3.0  4.0  54.0\n",
       "3  5.0  3.0  32.0\n",
       "4  6.0  3.0  21.0"
      ]
     },
     "execution_count": 11,
     "metadata": {},
     "output_type": "execute_result"
    }
   ],
   "source": [
    "# propagar en los nulos el valor de la fila anterior\n",
    "df.fillna(method=\"pad\")"
   ]
  },
  {
   "cell_type": "code",
   "execution_count": 12,
   "metadata": {
    "slideshow": {
     "slide_type": "-"
    }
   },
   "outputs": [
    {
     "data": {
      "text/html": [
       "<div>\n",
       "<style scoped>\n",
       "    .dataframe tbody tr th:only-of-type {\n",
       "        vertical-align: middle;\n",
       "    }\n",
       "\n",
       "    .dataframe tbody tr th {\n",
       "        vertical-align: top;\n",
       "    }\n",
       "\n",
       "    .dataframe thead th {\n",
       "        text-align: right;\n",
       "    }\n",
       "</style>\n",
       "<table border=\"1\" class=\"dataframe\">\n",
       "  <thead>\n",
       "    <tr style=\"text-align: right;\">\n",
       "      <th></th>\n",
       "      <th>a</th>\n",
       "      <th>b</th>\n",
       "      <th>c</th>\n",
       "    </tr>\n",
       "  </thead>\n",
       "  <tbody>\n",
       "    <tr>\n",
       "      <th>0</th>\n",
       "      <td>NaN</td>\n",
       "      <td>1.0</td>\n",
       "      <td>54.000000</td>\n",
       "    </tr>\n",
       "    <tr>\n",
       "      <th>1</th>\n",
       "      <td>3.0</td>\n",
       "      <td>3.0</td>\n",
       "      <td>46.666667</td>\n",
       "    </tr>\n",
       "    <tr>\n",
       "      <th>2</th>\n",
       "      <td>4.0</td>\n",
       "      <td>4.0</td>\n",
       "      <td>39.333333</td>\n",
       "    </tr>\n",
       "    <tr>\n",
       "      <th>3</th>\n",
       "      <td>5.0</td>\n",
       "      <td>3.0</td>\n",
       "      <td>32.000000</td>\n",
       "    </tr>\n",
       "    <tr>\n",
       "      <th>4</th>\n",
       "      <td>6.0</td>\n",
       "      <td>3.0</td>\n",
       "      <td>21.000000</td>\n",
       "    </tr>\n",
       "  </tbody>\n",
       "</table>\n",
       "</div>"
      ],
      "text/plain": [
       "     a    b          c\n",
       "0  NaN  1.0  54.000000\n",
       "1  3.0  3.0  46.666667\n",
       "2  4.0  4.0  39.333333\n",
       "3  5.0  3.0  32.000000\n",
       "4  6.0  3.0  21.000000"
      ]
     },
     "execution_count": 12,
     "metadata": {},
     "output_type": "execute_result"
    }
   ],
   "source": [
    "# interpolar los nulos según el resto de valores de la columna\n",
    "df.interpolate(method='values')"
   ]
  },
  {
   "cell_type": "markdown",
   "metadata": {
    "slideshow": {
     "slide_type": "subslide"
    }
   },
   "source": [
    "## Datos categóricos (normalización)\n",
    "En muchos problemas de clasificación, el conjunto de datos de destino está formado por etiquetas categóricas que no pueden procesarse inmediatamente con ningún algoritmo. \n"
   ]
  },
  {
   "cell_type": "markdown",
   "metadata": {
    "slideshow": {
     "slide_type": "subslide"
    }
   },
   "source": [
    "**LabelEncoder** es una clase de sklearn para ayudar a normalizar las etiquetas de modo que contengan solo valores entre 0 y n_classes-1."
   ]
  },
  {
   "cell_type": "code",
   "execution_count": 13,
   "metadata": {
    "slideshow": {
     "slide_type": "subslide"
    }
   },
   "outputs": [
    {
     "name": "stdout",
     "output_type": "stream",
     "text": [
      "classes: ['amsterdam' 'paris' 'tokyo']\n"
     ]
    }
   ],
   "source": [
    "from sklearn import preprocessing\n",
    "\n",
    "le = preprocessing.LabelEncoder()\n",
    "le.fit([\"paris\", \"paris\", \"tokyo\", \"amsterdam\"])\n",
    "\n",
    "print(f'classes: {le.classes_}')"
   ]
  },
  {
   "cell_type": "code",
   "execution_count": 14,
   "metadata": {
    "slideshow": {
     "slide_type": "-"
    }
   },
   "outputs": [
    {
     "name": "stdout",
     "output_type": "stream",
     "text": [
      "[2 2 1]\n",
      "['tokyo' 'tokyo' 'paris']\n"
     ]
    }
   ],
   "source": [
    "print(le.transform([\"tokyo\", \"tokyo\", \"paris\"]))\n",
    "print(le.inverse_transform([2, 2, 1]))"
   ]
  },
  {
   "cell_type": "markdown",
   "metadata": {
    "slideshow": {
     "slide_type": "subslide"
    }
   },
   "source": [
    "El método de codificación Label Encoding es una forma sencilla de asignar valores numéricos a las diferentes categorías de una variable categórica. Sin embargo, presenta una limitación importante, y es que estos valores numéricos pueden ser malinterpretados por algunos algoritmos de aprendizaje automático. Por ejemplo, si codificamos cuatro ciudades con los valores 0, 1, 2 y 3, es posible que un algoritmo interprete erróneamente que, por ejemplo, la ciudad correspondiente al valor 3 tiene -según algún criterio- un valor tres veces mayor que la ciudad con el valor 1, lo cual no es cierto.\n",
    "\n",
    "Una alternativa al Label Encoding es el método de codificación llamado One Hot Encoding. Esta estrategia consiste en crear una columna binaria (que solo puede contener los valores 0 o 1) para cada valor único que exista en la variable categórica que estamos codificando, y marcar con un 1 la columna correspondiente al valor presente en cada registro, dejando las demás columnas con un valor de 0. "
   ]
  },
  {
   "cell_type": "code",
   "execution_count": 15,
   "metadata": {
    "slideshow": {
     "slide_type": "subslide"
    }
   },
   "outputs": [
    {
     "data": {
      "text/plain": [
       "[array(['Female', 'Male', 'NonBin'], dtype='<U6')]"
      ]
     },
     "execution_count": 15,
     "metadata": {},
     "output_type": "execute_result"
    }
   ],
   "source": [
    "from sklearn.preprocessing import OneHotEncoder\n",
    "\n",
    "enc = OneHotEncoder(handle_unknown='ignore')\n",
    "X = np.array([['Male'], ['Female'], ['NonBin']])\n",
    "enc.fit(X)\n",
    "\n",
    "enc.categories_"
   ]
  },
  {
   "cell_type": "code",
   "execution_count": 16,
   "metadata": {
    "slideshow": {
     "slide_type": "-"
    }
   },
   "outputs": [
    {
     "name": "stdout",
     "output_type": "stream",
     "text": [
      "[[1. 0. 0.]\n",
      " [0. 1. 0.]]\n",
      "[['Male']\n",
      " ['Female']]\n"
     ]
    }
   ],
   "source": [
    "print(enc.transform([['Female'], ['Male']]).toarray())\n",
    "print(enc.inverse_transform([[0, 1, 0], [1, 0, 0]]))"
   ]
  },
  {
   "cell_type": "markdown",
   "metadata": {
    "slideshow": {
     "slide_type": "subslide"
    }
   },
   "source": [
    "## Valores atípicos (outliers)\n",
    "\n",
    "Un valor atípico (outlier, en inglés) es una observación que numéricamente es muy distinta al resto de elementos de una muestra. Estos datos nos pueden causar problemas en la interpretación de lo que ocurre en un proceso o en una población.\n",
    "\n",
    "Los valores atípicos son en ocasiones una cuestión subjetiva, y existen numerosos métodos para clasificarlos."
   ]
  },
  {
   "cell_type": "code",
   "execution_count": 17,
   "metadata": {
    "slideshow": {
     "slide_type": "-"
    }
   },
   "outputs": [
    {
     "data": {
      "text/plain": [
       "<AxesSubplot: >"
      ]
     },
     "execution_count": 17,
     "metadata": {},
     "output_type": "execute_result"
    },
    {
     "data": {
      "image/png": "[encoded data removed]",
      "text/plain": [
       "<Figure size 640x480 with 1 Axes>"
      ]
     },
     "metadata": {},
     "output_type": "display_data"
    }
   ],
   "source": [
    "import seaborn as sns\n",
    "\n",
    "ages = np.array([22, 22, 23, 23, 23, 23, 26, 27, 27, 28, 30, 30, 30, 30, 31, 32, 33, 34, 80])\n",
    "sns.boxplot(ages)"
   ]
  },
  {
   "cell_type": "markdown",
   "metadata": {
    "slideshow": {
     "slide_type": "subslide"
    }
   },
   "source": [
    "**Cómo tratarlos**\n",
    "- __Mantenerlos__ y usar un estadístico robusto frente a valores atípicos (la mediana, por ejemplo) \\\n",
    "  No siempre es posible\n",
    "- __Eliminarlos__: si el dataset es suficientemente grande, puede ser una opción razonable\n",
    "    - Distribución normal: usar medidas como\n",
    "        - 1.5 * IQR: recorrido intercuartílico (boxplot)\n",
    "        - Seis sigma: ±3 veces la desviación típica (o desviación absoluta de la mediana)\n",
    "        - Problema de regresión: distancia de Cook (influencia de una medida en una variable del modelo)\n",
    "    - Trimming: eliminar el x% de los datos en ambos extremos\n",
    "- __Transformarlos__\n",
    "    - “Winsorización”: parecido al trimming pero, en lugar de eliminar los valores, los transformamos en los límites de valores admitidos en los percentiles considerados\n",
    "    - Reemplazo de outliers por NaNs e imputación de valores nulos    \n",
    "- __Examen visual__\n",
    "    - Si los datos son pocos, podemos representarlos gráficamente y tomar la decisión manualmente\n",
    "- __Integrarlos en el modelo__\n",
    "    - Modelos estratificados o mixtures que integren los outliers como parte del modelo\n",
    "    - Interesante cuando los valores atípicos no provienen de medidas erróneas"
   ]
  },
  {
   "cell_type": "markdown",
   "metadata": {
    "slideshow": {
     "slide_type": "subslide"
    }
   },
   "source": [
    "## Distintos órdenes de magnitud\n",
    "\n",
    "El objetivo de la normalización es cambiar los valores de las columnas numéricas del conjunto de datos para usar una escala común, sin distorsionar las diferencias en los intervalos de valores ni perder información. La normalización también es necesaria para que algunos algoritmos modelen los datos correctamente.\n",
    "\n",
    "- Muchos algoritmos de clasificación calculan distancias como parte del aprendizaje. Si algunas variables tienen rangos muy distintos (\\[0, 1\\] vs. \\[0, 1.000.000\\]) la de mayor rango tendrá mucha más influencia en el modelo\n",
    "- En otros casos, que la distribución tenga una desviación típica de 1 puede ser beneficioso para el modelo (por ejemplo, Perceptrón Multicapa)\n",
    "- Disminuye de la velocidad de convergencia de algunos algoritmos (como ANNs o Gradient Descent)\n",
    "- Que los valores estén centrados en la media puede simplificar algunos cálculos (como la matriz de covarianza)\n",
    "- Puede ser recomendable aplicarla después de imputar valores nulos y eliminar valores atípicos"
   ]
  },
  {
   "cell_type": "markdown",
   "metadata": {
    "slideshow": {
     "slide_type": "subslide"
    }
   },
   "source": [
    "### Tipos de normalización\n",
    "\n",
    "- La **normalización L1** trabaja con las desviaciones mínimas, y funciona asegurándose de que la suma de los valores absolutos sea 1 en cada fila. En general, la técnica de normalización L1 se considera más robusta que la técnica de normalización L2 porque es resistente a los valores atípicos en los datos.\n",
    "- La **normalización L2** trabaja con mínimos cuadrados y funciona asegurándose de que la suma de cuadrados sea 1. Si estamos resolviendo un problema donde los valores atípicos son importantes, tal vez la normalización de L2 sea  mejor opción."
   ]
  },
  {
   "cell_type": "code",
   "execution_count": 18,
   "metadata": {
    "slideshow": {
     "slide_type": "subslide"
    }
   },
   "outputs": [
    {
     "data": {
      "text/plain": [
       "array([[0.44444444, 0.11111111, 0.22222222, 0.22222222],\n",
       "       [0.0625    , 0.1875    , 0.5625    , 0.1875    ],\n",
       "       [0.27777778, 0.38888889, 0.27777778, 0.05555556]])"
      ]
     },
     "execution_count": 18,
     "metadata": {},
     "output_type": "execute_result"
    }
   ],
   "source": [
    "from sklearn.preprocessing import Normalizer\n",
    "X = [[4, 1, 2, 2],\n",
    "     [1, 3, 9, 3],\n",
    "     [5, 7, 5, 1]]\n",
    "transformer = Normalizer(norm='l1').fit(X)  # fit does nothing.\n",
    "\n",
    "transformer.transform(X)"
   ]
  },
  {
   "cell_type": "code",
   "execution_count": 19,
   "metadata": {
    "slideshow": {
     "slide_type": "-"
    }
   },
   "outputs": [
    {
     "data": {
      "text/plain": [
       "array([[0.8, 0.2, 0.4, 0.4],\n",
       "       [0.1, 0.3, 0.9, 0.3],\n",
       "       [0.5, 0.7, 0.5, 0.1]])"
      ]
     },
     "execution_count": 19,
     "metadata": {},
     "output_type": "execute_result"
    }
   ],
   "source": [
    "from sklearn.preprocessing import Normalizer\n",
    "X = [[4, 1, 2, 2],\n",
    "     [1, 3, 9, 3],\n",
    "     [5, 7, 5, 1]]\n",
    "transformer = Normalizer(norm='l2').fit(X)  # fit does nothing.\n",
    "\n",
    "transformer.transform(X)"
   ]
  },
  {
   "cell_type": "markdown",
   "metadata": {
    "slideshow": {
     "slide_type": "subslide"
    }
   },
   "source": [
    "## Selección de variables\n",
    "\n",
    "Algunos conjuntos de datos pueden tener un gran número de variables\n",
    "- Difícil representación gráfica (si es necesaria)\n",
    "- Pueden dificultar la construcción de un modelo (valores engañosos, por ejemplo)\n",
    "- Pueden afectar a la velocidad de convergencia del algoritmo (cálculo de muchas distancias)\n",
    "- Mayor capacidad de generalización (pueden ayudar a prevenir el overfitting)"
   ]
  },
  {
   "cell_type": "markdown",
   "metadata": {
    "slideshow": {
     "slide_type": "subslide"
    }
   },
   "source": [
    "#### Técnicas\n",
    "- Sentido común (ids, columnas con muchos nulos o que no tengan sentido de negocio se pueden eliminar)\n",
    "- Análisis de correlación"
   ]
  },
  {
   "cell_type": "code",
   "execution_count": 20,
   "metadata": {
    "slideshow": {
     "slide_type": "-"
    }
   },
   "outputs": [
    {
     "data": {
      "text/plain": [
       "<AxesSubplot: >"
      ]
     },
     "execution_count": 20,
     "metadata": {},
     "output_type": "execute_result"
    },
    {
     "data": {
      "image/png": "[encoded data removed]",
      "text/plain": [
       "<Figure size 640x480 with 2 Axes>"
      ]
     },
     "metadata": {},
     "output_type": "display_data"
    }
   ],
   "source": [
    "import seaborn as sns\n",
    "import matplotlib.pyplot as plt\n",
    "\n",
    "df = sns.load_dataset('titanic')\n",
    "\n",
    "correlation = df.corr(numeric_only=True)\n",
    "sns.heatmap(correlation, annot=True)"
   ]
  },
  {
   "cell_type": "markdown",
   "metadata": {
    "slideshow": {
     "slide_type": "subslide"
    }
   },
   "source": [
    "## Desbalanceo de la variable objetivo\n",
    "\n",
    "- Algunos datasets presentan grandes diferencias en el número de instancias de cada una de las clases\n",
    "    - Ejemplo: clasificador que reconozca errores en una cadena de producción puede tener un 99.99% de precisión prediciendo la clase mayoritaria (que no hay errores)\n",
    "\n",
    "- Existen técnicas que intentan minimizar el efecto de este balanceo\n",
    "    - Re-muestreando instancias\n",
    "    - Asociando un peso (coste) distinto a predecir cada una de las clases"
   ]
  },
  {
   "cell_type": "code",
   "execution_count": 21,
   "metadata": {
    "slideshow": {
     "slide_type": "subslide"
    }
   },
   "outputs": [
    {
     "name": "stdout",
     "output_type": "stream",
     "text": [
      "M    723\n",
      "F    277\n",
      "Name: Gender, dtype: int64\n"
     ]
    },
    {
     "data": {
      "text/html": [
       "<div>\n",
       "<style scoped>\n",
       "    .dataframe tbody tr th:only-of-type {\n",
       "        vertical-align: middle;\n",
       "    }\n",
       "\n",
       "    .dataframe tbody tr th {\n",
       "        vertical-align: top;\n",
       "    }\n",
       "\n",
       "    .dataframe thead th {\n",
       "        text-align: right;\n",
       "    }\n",
       "</style>\n",
       "<table border=\"1\" class=\"dataframe\">\n",
       "  <thead>\n",
       "    <tr style=\"text-align: right;\">\n",
       "      <th></th>\n",
       "      <th>Category</th>\n",
       "      <th>Sentiment</th>\n",
       "      <th>Gender</th>\n",
       "    </tr>\n",
       "  </thead>\n",
       "  <tbody>\n",
       "    <tr>\n",
       "      <th>0</th>\n",
       "      <td>A</td>\n",
       "      <td>0</td>\n",
       "      <td>M</td>\n",
       "    </tr>\n",
       "    <tr>\n",
       "      <th>1</th>\n",
       "      <td>A</td>\n",
       "      <td>0</td>\n",
       "      <td>M</td>\n",
       "    </tr>\n",
       "    <tr>\n",
       "      <th>2</th>\n",
       "      <td>B</td>\n",
       "      <td>0</td>\n",
       "      <td>M</td>\n",
       "    </tr>\n",
       "    <tr>\n",
       "      <th>3</th>\n",
       "      <td>B</td>\n",
       "      <td>0</td>\n",
       "      <td>F</td>\n",
       "    </tr>\n",
       "    <tr>\n",
       "      <th>4</th>\n",
       "      <td>A</td>\n",
       "      <td>1</td>\n",
       "      <td>M</td>\n",
       "    </tr>\n",
       "    <tr>\n",
       "      <th>5</th>\n",
       "      <td>C</td>\n",
       "      <td>1</td>\n",
       "      <td>F</td>\n",
       "    </tr>\n",
       "    <tr>\n",
       "      <th>6</th>\n",
       "      <td>A</td>\n",
       "      <td>1</td>\n",
       "      <td>M</td>\n",
       "    </tr>\n",
       "    <tr>\n",
       "      <th>7</th>\n",
       "      <td>B</td>\n",
       "      <td>0</td>\n",
       "      <td>M</td>\n",
       "    </tr>\n",
       "    <tr>\n",
       "      <th>8</th>\n",
       "      <td>B</td>\n",
       "      <td>1</td>\n",
       "      <td>M</td>\n",
       "    </tr>\n",
       "    <tr>\n",
       "      <th>9</th>\n",
       "      <td>C</td>\n",
       "      <td>1</td>\n",
       "      <td>M</td>\n",
       "    </tr>\n",
       "    <tr>\n",
       "      <th>10</th>\n",
       "      <td>B</td>\n",
       "      <td>0</td>\n",
       "      <td>M</td>\n",
       "    </tr>\n",
       "    <tr>\n",
       "      <th>11</th>\n",
       "      <td>C</td>\n",
       "      <td>1</td>\n",
       "      <td>M</td>\n",
       "    </tr>\n",
       "    <tr>\n",
       "      <th>12</th>\n",
       "      <td>B</td>\n",
       "      <td>0</td>\n",
       "      <td>M</td>\n",
       "    </tr>\n",
       "    <tr>\n",
       "      <th>13</th>\n",
       "      <td>C</td>\n",
       "      <td>0</td>\n",
       "      <td>M</td>\n",
       "    </tr>\n",
       "    <tr>\n",
       "      <th>14</th>\n",
       "      <td>A</td>\n",
       "      <td>1</td>\n",
       "      <td>F</td>\n",
       "    </tr>\n",
       "    <tr>\n",
       "      <th>15</th>\n",
       "      <td>C</td>\n",
       "      <td>1</td>\n",
       "      <td>M</td>\n",
       "    </tr>\n",
       "    <tr>\n",
       "      <th>16</th>\n",
       "      <td>B</td>\n",
       "      <td>1</td>\n",
       "      <td>F</td>\n",
       "    </tr>\n",
       "    <tr>\n",
       "      <th>17</th>\n",
       "      <td>C</td>\n",
       "      <td>1</td>\n",
       "      <td>M</td>\n",
       "    </tr>\n",
       "    <tr>\n",
       "      <th>18</th>\n",
       "      <td>B</td>\n",
       "      <td>1</td>\n",
       "      <td>M</td>\n",
       "    </tr>\n",
       "    <tr>\n",
       "      <th>19</th>\n",
       "      <td>B</td>\n",
       "      <td>0</td>\n",
       "      <td>M</td>\n",
       "    </tr>\n",
       "  </tbody>\n",
       "</table>\n",
       "</div>"
      ],
      "text/plain": [
       "   Category  Sentiment Gender\n",
       "0         A          0      M\n",
       "1         A          0      M\n",
       "2         B          0      M\n",
       "3         B          0      F\n",
       "4         A          1      M\n",
       "5         C          1      F\n",
       "6         A          1      M\n",
       "7         B          0      M\n",
       "8         B          1      M\n",
       "9         C          1      M\n",
       "10        B          0      M\n",
       "11        C          1      M\n",
       "12        B          0      M\n",
       "13        C          0      M\n",
       "14        A          1      F\n",
       "15        C          1      M\n",
       "16        B          1      F\n",
       "17        C          1      M\n",
       "18        B          1      M\n",
       "19        B          0      M"
      ]
     },
     "execution_count": 21,
     "metadata": {},
     "output_type": "execute_result"
    }
   ],
   "source": [
    "# Creamos un dataset desbalanceado\n",
    "df = pd.DataFrame({'Category': np.random.choice(['A','B','C'], size=1000, replace=True, p=[0.3, 0.5, 0.2]),\n",
    "                   'Sentiment': np.random.choice([0,1], size=1000, replace=True, p=[0.35, 0.65]),\n",
    "                   'Gender': np.random.choice(['M','F'], size=1000, replace=True, p=[0.70, 0.30])})\n",
    "\n",
    "print(df.Gender.value_counts())\n",
    "df.head(20)"
   ]
  },
  {
   "cell_type": "code",
   "execution_count": 22,
   "metadata": {
    "slideshow": {
     "slide_type": "subslide"
    }
   },
   "outputs": [
    {
     "name": "stdout",
     "output_type": "stream",
     "text": [
      "M    277\n",
      "F    277\n",
      "Name: Gender, dtype: int64\n"
     ]
    }
   ],
   "source": [
    "# Eliminar instancias mayoritarias (undersampling)\n",
    "\n",
    "extra_m = len(df[df.Gender == 'M']) - len(df[df.Gender == 'F'])\n",
    "\n",
    "new_df = df.sample(frac=1)\n",
    "new_df = df.drop(df[df.Gender == 'M'].tail(extra_m).index)\n",
    "\n",
    "print(new_df.Gender.value_counts())"
   ]
  },
  {
   "cell_type": "code",
   "execution_count": 23,
   "metadata": {
    "slideshow": {
     "slide_type": "-"
    }
   },
   "outputs": [
    {
     "name": "stdout",
     "output_type": "stream",
     "text": [
      "M    723\n",
      "F    554\n",
      "Name: Gender, dtype: int64\n"
     ]
    }
   ],
   "source": [
    "# Repetir instancias minoritarias (oversampling)\n",
    "\n",
    "missing_f_times = int(len(df[df.Gender == 'M']) / len(df[df.Gender == 'F'])) - 1\n",
    "\n",
    "new_df = pd.DataFrame(np.repeat(df[df.Gender == 'F'].values, missing_f_times, axis=0), columns=df.columns)\n",
    "new_df = pd.concat([new_df, df], axis=0)\n",
    "\n",
    "print(new_df.Gender.value_counts())"
   ]
  },
  {
   "cell_type": "markdown",
   "metadata": {
    "slideshow": {
     "slide_type": "slide"
    }
   },
   "source": [
    "# Elegir el modelo y entrenarlo\n",
    "\n",
    "![Flujo de trabajo de ML](img/ML-workflow-2.png)"
   ]
  },
  {
   "cell_type": "markdown",
   "metadata": {
    "slideshow": {
     "slide_type": "subslide"
    }
   },
   "source": [
    "**Según el tipo de entrada / Salida**\n",
    "\n",
    "Si en tus datos de entrada...\n",
    "- tienes datos etiquetados, es un problema de **aprendizaje supervisado**\n",
    "- no tienes etiquetas y quieres encontrar una estructura o patrón, es **aprendizaje supervisado**\n",
    "- quieres optimizar una función objetivo interactuando con el entorno, es **aprendizaje supervisado**\n",
    "\n",
    "Si lo que buscas como salida de tu modelo...\n",
    "- es un número, es un problema probablemente es de **regresión**\n",
    "- es una clase, es un problema de **clasificación**\n",
    "- es una serie de grupos, es un problema de **clustering**\n",
    "- es detectar anomalías, es un problema de **detección de anomalías** :)"
   ]
  },
  {
   "cell_type": "markdown",
   "metadata": {
    "slideshow": {
     "slide_type": "subslide"
    }
   },
   "source": [
    "## Consideraciones al elegir un algoritmo\n",
    "\n",
    "**Precisión**\n",
    "- No siempre es necesario obtener la respuesta más precisa posible. \n",
    "- A veces, una aproximación ya es útil, según para qué se la desee usar. Si es así, puede reducir el tiempo de procesamiento de forma considerable al usar métodos más aproximados. \n",
    "- Otra ventaja de los métodos más aproximados es que tienden naturalmente a evitar el sobreajuste.\n",
    "\n",
    "**Tiempo de entrenamiento** \n",
    "- La cantidad de minutos u horas necesarios para entrenar un modelo varía mucho según el algoritmo. \n",
    "- A menudo, el tiempo de entrenamiento depende de la precisión (generalmente, uno determina al otro). \n",
    "- Además, algunos algoritmos son más sensibles a la cantidad de puntos de datos que otros. \n",
    "- Si el tiempo es limitado, esto puede determinar la elección del algoritmo, especialmente cuando el conjunto de datos es grande.\n",
    "\n",
    "**Linealidad**\n",
    "- Muchos algoritmos de aprendizaje automático hacen uso de la linealidad. \n",
    "- Los algoritmos de clasificación lineal suponen que las clases pueden estar separadas mediante una línea recta (o su análogo de mayores dimensiones). \n",
    "- Entre ellos, se encuentran la regresión logística y los SVM.\n",
    "- Los algoritmos de regresión lineal suponen que las tendencias de datos siguen una línea recta. \n",
    "- Estas suposiciones no son incorrectas para algunos problemas, pero en otros disminuyen la precisión.\n",
    "\n",
    "**Cantidad de parámetros**\n",
    "\n",
    "- Los parámetros son los números que afectan al comportamiento del algoritmo, como la tolerancia a errores o la cantidad de iteraciones, o bien opciones de variantes de comportamiento del algoritmo. \n",
    "- El tiempo de entrenamiento y la precisión del algoritmo a veces pueden ser muy sensibles y requerir solo la configuración correcta. Normalmente, los algoritmos con un gran número de parámetros requieren más prueba y error para encontrar una buena combinación."
   ]
  },
  {
   "cell_type": "markdown",
   "metadata": {
    "slideshow": {
     "slide_type": "subslide"
    }
   },
   "source": [
    "## Preparación del dataset de entrenamiento (para modelos supervisados)\n",
    "\n",
    "Aprender los parámetros de una función de predicción y probarla con los mismos datos es un error metodológico: un modelo que simplemente repetiría las etiquetas de las muestras que acaba de ver tendría una puntuación perfecta pero no podría predecir nada en datos que no haya visto.\n",
    "\n",
    "Esta situación se llama overfitting, y para evitarlo, es una práctica común cuando se realiza un experimento de aprendizaje automático (supervisado) mantener parte de los datos disponibles como un conjunto de prueba: `X_test`, `y_test`.\n",
    "\n",
    "La idea es que entrenaremos a nuestro modelo con un porcentaje (alto) de muestras, pero nos reservaremos unas cuantas para hacerle un examen y poder evaluar si su aprendizaje es bueno o no.\n",
    "\n",
    "El dataset del examen lo llamaremos `test`, y el de aprendizaje `train`, y a la hora de elegir el dataset de `test` es importante tener en cuenta:\n",
    "- Que el modelo no tenga acceso a esos datos ni haya instancias exactamente iguales en los datasets de train y test\n",
    "- Que los ejemplos incluídos en el test sean repesentativos del problema: que no sean instancias muy fáciles, difíciles o raras dentro del dataset"
   ]
  },
  {
   "cell_type": "code",
   "execution_count": 24,
   "metadata": {
    "slideshow": {
     "slide_type": "subslide"
    }
   },
   "outputs": [
    {
     "data": {
      "text/plain": [
       "<matplotlib.collections.PathCollection at 0x7f3e45b33430>"
      ]
     },
     "execution_count": 24,
     "metadata": {},
     "output_type": "execute_result"
    },
    {
     "data": {
      "image/png": "[encoded data removed]",
      "text/plain": [
       "<Figure size 640x480 with 1 Axes>"
      ]
     },
     "metadata": {},
     "output_type": "display_data"
    }
   ],
   "source": [
    "%matplotlib inline\n",
    "import numpy as np\n",
    "from pylab import *\n",
    "\n",
    "np.random.seed(2)\n",
    "\n",
    "pageSpeeds = np.random.normal(3.0, 1.0, 100)\n",
    "purchaseAmount = np.random.normal(50.0, 30.0, 100) / pageSpeeds\n",
    "\n",
    "scatter(pageSpeeds, purchaseAmount)"
   ]
  },
  {
   "cell_type": "code",
   "execution_count": 25,
   "metadata": {
    "slideshow": {
     "slide_type": "-"
    }
   },
   "outputs": [
    {
     "data": {
      "text/plain": [
       "<matplotlib.collections.PathCollection at 0x7f3e45b83f70>"
      ]
     },
     "execution_count": 25,
     "metadata": {},
     "output_type": "execute_result"
    },
    {
     "data": {
      "image/png": "[encoded data removed]",
      "text/plain": [
       "<Figure size 640x480 with 1 Axes>"
      ]
     },
     "metadata": {},
     "output_type": "display_data"
    }
   ],
   "source": [
    "trainX = pageSpeeds[:80]\n",
    "testX = pageSpeeds[80:]\n",
    "\n",
    "trainY = purchaseAmount[:80]\n",
    "testY = purchaseAmount[80:]\n",
    "\n",
    "scatter(trainX, trainY)\n",
    "scatter(testX, testY)"
   ]
  },
  {
   "cell_type": "markdown",
   "metadata": {
    "slideshow": {
     "slide_type": "subslide"
    }
   },
   "source": [
    "Normalmente se utiliza la función `train_test_split` de `sklearn`"
   ]
  },
  {
   "cell_type": "code",
   "execution_count": 26,
   "metadata": {
    "slideshow": {
     "slide_type": "-"
    }
   },
   "outputs": [
    {
     "data": {
      "text/plain": [
       "((150, 4), (150,))"
      ]
     },
     "execution_count": 26,
     "metadata": {},
     "output_type": "execute_result"
    }
   ],
   "source": [
    "# https://scikit-learn.org/stable/modules/cross_validation.html#cross-validation\n",
    "import numpy as np\n",
    "from sklearn.model_selection import train_test_split\n",
    "from sklearn import datasets\n",
    "from sklearn import svm\n",
    "\n",
    "iris = datasets.load_iris()\n",
    "iris.data.shape, iris.target.shape"
   ]
  },
  {
   "cell_type": "code",
   "execution_count": 27,
   "metadata": {
    "slideshow": {
     "slide_type": "-"
    }
   },
   "outputs": [
    {
     "name": "stdout",
     "output_type": "stream",
     "text": [
      "(90, 4) (90,)\n",
      "(60, 4) (60,)\n"
     ]
    }
   ],
   "source": [
    "X_train, X_test, y_train, y_test = train_test_split(\n",
    "    iris.data, iris.target, test_size=0.4, random_state=0)\n",
    "\n",
    "print(X_train.shape, y_train.shape)\n",
    "print(X_test.shape, y_test.shape)"
   ]
  },
  {
   "cell_type": "markdown",
   "metadata": {
    "slideshow": {
     "slide_type": "slide"
    }
   },
   "source": [
    "# Modelos de clasificación"
   ]
  },
  {
   "cell_type": "markdown",
   "metadata": {
    "slideshow": {
     "slide_type": "subslide"
    }
   },
   "source": [
    "## Regresión logística\n",
    "\n",
    "En estadística, la regresión logística es un tipo de análisis de regresión utilizado para predecir el resultado de una variable categórica (una variable que puede adoptar un número limitado de categorías) en función de las variables independientes o predictoras. Es útil para modelar la probabilidad de un evento ocurriendo en función de otros factores. \n",
    "\n",
    "Las probabilidades que describen el posible resultado de un único ensayo se modelan como una función de variables explicativas, utilizando una función logística. "
   ]
  },
  {
   "cell_type": "code",
   "execution_count": 28,
   "metadata": {
    "slideshow": {
     "slide_type": "-"
    }
   },
   "outputs": [
    {
     "name": "stdout",
     "output_type": "stream",
     "text": [
      "En el test ha fallado 3 de 45\n"
     ]
    }
   ],
   "source": [
    "from sklearn.datasets import load_iris\n",
    "from sklearn.model_selection import train_test_split\n",
    "from sklearn.linear_model import LogisticRegression\n",
    "\n",
    "X, y = load_iris(return_X_y=True)\n",
    "\n",
    "X_train, X_test, y_train, y_test = train_test_split(X, y, test_size=0.3, random_state=0)\n",
    "\n",
    "clf = LogisticRegression(solver='liblinear', multi_class='auto')\n",
    "clf.fit(X, y)\n",
    "\n",
    "y_pred = clf.predict(X_test)\n",
    "print(f'En el test ha fallado {(y_test != y_pred).sum()} de {X_test.shape[0]}')"
   ]
  },
  {
   "cell_type": "markdown",
   "metadata": {
    "slideshow": {
     "slide_type": "subslide"
    }
   },
   "source": [
    "> Prueba con distintos parámetros de inicialización de la clase de regresión logística. Tienes [aquí](https://scikit-learn.org/stable/modules/generated/sklearn.linear_model.LogisticRegression.html#sklearn.linear_model.LogisticRegression) la documentacion"
   ]
  },
  {
   "cell_type": "markdown",
   "metadata": {
    "slideshow": {
     "slide_type": "subslide"
    }
   },
   "source": [
    "## Naive Bayes\n",
    "\n",
    "En términos simples, un clasificador de Naive Bayes asume que la presencia o ausencia de una característica particular no está relacionada con la presencia o ausencia de cualquier otra característica, dada la clase variable. \n",
    "\n",
    "Por ejemplo, una fruta puede ser considerada como una manzana si es roja, redonda y de alrededor de 7 cm de diámetro. Un clasificador de Naive Bayes considera que cada una de estas características contribuye de manera independiente a la probabilidad de que esta fruta sea una manzana, independientemente de la presencia o ausencia de las otras características. \n",
    "\n",
    "Naïve Bayes es uno de los clasificadores más utilizados por su simplicidad y rapidez."
   ]
  },
  {
   "cell_type": "code",
   "execution_count": 29,
   "metadata": {
    "slideshow": {
     "slide_type": "-"
    }
   },
   "outputs": [
    {
     "name": "stdout",
     "output_type": "stream",
     "text": [
      "En el test ha fallado 0 de 45\n"
     ]
    }
   ],
   "source": [
    "from sklearn.datasets import load_iris\n",
    "from sklearn.model_selection import train_test_split\n",
    "from sklearn.naive_bayes import GaussianNB\n",
    "\n",
    "X, y = load_iris(return_X_y=True)\n",
    "\n",
    "X_train, X_test, y_train, y_test = train_test_split(X, y, test_size=0.3, random_state=0)\n",
    "\n",
    "clf = GaussianNB()\n",
    "clf.fit(X, y)\n",
    "\n",
    "y_pred = clf.predict(X_test)\n",
    "print(f'En el test ha fallado {(y_test != y_pred).sum()} de {X_test.shape[0]}')"
   ]
  },
  {
   "cell_type": "markdown",
   "metadata": {
    "slideshow": {
     "slide_type": "subslide"
    }
   },
   "source": [
    "> Existen más implementaciones de Naive Bayes en el paquete de `sklearn`:\n",
    "> - [MultinomialNB](https://scikit-learn.org/stable/modules/generated/sklearn.naive_bayes.MultinomialNB.html#sklearn.naive_bayes.MultinomialNB) - Muy utilizado en clasificación de texto\n",
    "> - [ComplementNB](https://scikit-learn.org/stable/modules/generated/sklearn.naive_bayes.ComplementNB.html#sklearn.naive_bayes.ComplementNB) - Diseñado especialmente para datasets desbalanceados\n",
    "> - [BernoulliNB](https://scikit-learn.org/stable/modules/generated/sklearn.naive_bayes.BernoulliNB.html#sklearn.naive_bayes.BernoulliNB) - Similar al Multinomial, pero diseñado para features booleanas/binarias\n",
    "> - [CategoricalNB](https://scikit-learn.org/stable/modules/generated/sklearn.naive_bayes.CategoricalNB.html#sklearn.naive_bayes.CategoricalNB) - Pensado para cuando las features son de tipo categórico\n"
   ]
  },
  {
   "cell_type": "markdown",
   "metadata": {
    "slideshow": {
     "slide_type": "subslide"
    }
   },
   "source": [
    "## Support vector machines\n",
    "\n",
    "Dado un conjunto de puntos, subconjunto de un conjunto mayor (espacio), en el que cada uno de ellos pertenece a una de dos posibles categorías, un algoritmo basado en SVM construye un modelo capaz de predecir si un punto nuevo (cuya categoría desconocemos) pertenece a una categoría o a la otra. \n",
    "\n",
    "En ese concepto de \"separación óptima\" es donde reside la característica fundamental de las SVM: este tipo de algoritmos buscan el hiperplano que tenga la máxima distancia (margen) con los puntos que estén más cerca de él mismo.\n",
    "\n",
    "Los modelos basados en SVMs están estrechamente relacionados con las redes neuronales. Usando una función kernel, resultan un método de entrenamiento alternativo para clasificadores polinomiales, funciones de base radial y perceptrón multicapa."
   ]
  },
  {
   "cell_type": "code",
   "execution_count": 30,
   "metadata": {
    "slideshow": {
     "slide_type": "-"
    }
   },
   "outputs": [
    {
     "name": "stdout",
     "output_type": "stream",
     "text": [
      "En el test ha fallado 1 de 45\n"
     ]
    }
   ],
   "source": [
    "from sklearn.datasets import load_iris\n",
    "from sklearn.model_selection import train_test_split\n",
    "from sklearn.svm import SVC\n",
    "\n",
    "X, y = load_iris(return_X_y=True)\n",
    "\n",
    "X_train, X_test, y_train, y_test = train_test_split(X, y, test_size=0.3, random_state=0)\n",
    "\n",
    "clf = SVC()\n",
    "clf.fit(X, y)\n",
    "\n",
    "y_pred = clf.predict(X_test)\n",
    "print(f'En el test ha fallado {(y_test != y_pred).sum()} de {X_test.shape[0]}')"
   ]
  },
  {
   "cell_type": "markdown",
   "metadata": {
    "slideshow": {
     "slide_type": "subslide"
    }
   },
   "source": [
    "> Prueba con distintos parámetros de inicialización de la clase de SVC. Tienes [aquí](https://scikit-learn.org/stable/modules/svm.html#svc) la documentacion\n",
    "\n",
    "> Existen más implementaciones de support vector machines para classificación en el paquete de `sklearn`:\n",
    "> - [NuSVC](https://scikit-learn.org/stable/modules/generated/sklearn.svm.NuSVC.html#sklearn.svm.NuSVC) - Similar al SVC pero usa el parámetro `nu` para controlar el número de vectores de soporte\n",
    "> - [LinearSVC](https://scikit-learn.org/stable/modules/generated/sklearn.svm.LinearSVC.html#sklearn.svm.LinearSVC) - Similar a SVC con el parámetro `kernel=linear` pero tiene más flexibilidad de parámetros"
   ]
  },
  {
   "cell_type": "markdown",
   "metadata": {
    "slideshow": {
     "slide_type": "subslide"
    }
   },
   "source": [
    "## Árboles de decisión\n",
    "\n",
    "Un árbol de decisión es un modelo de predicción utilizado en diversos ámbitos que van desde la inteligencia artificial hasta la Economía. \n",
    "\n",
    "Dado un conjunto de datos se fabrican diagramas de construcciones lógicas, muy similares a los sistemas de predicción basados en reglas, que sirven para representar y categorizar una serie de condiciones que ocurren de forma sucesiva, para la resolución de un problema. "
   ]
  },
  {
   "cell_type": "code",
   "execution_count": 31,
   "metadata": {
    "slideshow": {
     "slide_type": "-"
    }
   },
   "outputs": [
    {
     "name": "stdout",
     "output_type": "stream",
     "text": [
      "En el test ha fallado 1 de 45\n"
     ]
    }
   ],
   "source": [
    "from sklearn.datasets import load_iris\n",
    "from sklearn.model_selection import train_test_split\n",
    "from sklearn.tree import DecisionTreeClassifier\n",
    "\n",
    "X, y = load_iris(return_X_y=True)\n",
    "\n",
    "X_train, X_test, y_train, y_test = train_test_split(X, y, test_size=0.3, random_state=0)\n",
    "\n",
    "clf = DecisionTreeClassifier(max_depth=2)\n",
    "clf.fit(X, y)\n",
    "\n",
    "y_pred = clf.predict(X_test)\n",
    "print(f'En el test ha fallado {(y_test != y_pred).sum()} de {X_test.shape[0]}')"
   ]
  },
  {
   "cell_type": "code",
   "execution_count": 32,
   "metadata": {
    "slideshow": {
     "slide_type": "subslide"
    }
   },
   "outputs": [
    {
     "data": {
      "image/png": "[encoded data removed]",
      "text/plain": [
       "<Figure size 640x480 with 1 Axes>"
      ]
     },
     "metadata": {},
     "output_type": "display_data"
    }
   ],
   "source": [
    "# Si el árbol no es muy grande, podemos intentar visualizarlo\n",
    "from sklearn import tree\n",
    "\n",
    "tree.plot_tree(clf)\n",
    "plt.show()"
   ]
  },
  {
   "cell_type": "markdown",
   "metadata": {
    "slideshow": {
     "slide_type": "-"
    }
   },
   "source": [
    "> Prueba con distintos parámetros de inicialización de la clase de DecisionTree. Tienes [aquí](https://scikit-learn.org/stable/modules/generated/sklearn.tree.DecisionTreeClassifier.html#sklearn.tree.DecisionTreeClassifier) la documentacion"
   ]
  },
  {
   "cell_type": "markdown",
   "metadata": {
    "slideshow": {
     "slide_type": "subslide"
    }
   },
   "source": [
    "## Random forests\n",
    "\n",
    "Es un método que combina una cantidad grande de árboles de decisión independientes probados sobre conjuntos de datos aleatorios con igual distribución.\n",
    "\n",
    "La fase de aprendizaje consiste en crear muchos árboles de decisión independientes, construyéndolos a partir de datos de entrada ligeramente distintos. Se altera, por tanto, el conjunto inicial de partida, haciendo lo siguiente:\n",
    "- Se selecciona aleatoriamente con reemplazamiento un porcentaje de datos de la muestra total. Es habitual incluir un segundo nivel aleatoriedad, esta vez afectando los atributos:\n",
    "- En cada nodo, al seleccionar la partición óptima, tenemos en cuenta sólo una porción de los atributos, elegidos al azar en cada ocasión.\n",
    "- Una vez que tenemos muchos árboles, 1000 por ejemplo, en la fase de clasificación cada árbol se evalúa de forma independiente y la predicción del bosque será la media de los 1000 árboles. La proporción de árboles que toman una misma respuesta se interpreta como la probabilidad de la misma."
   ]
  },
  {
   "cell_type": "code",
   "execution_count": 33,
   "metadata": {
    "slideshow": {
     "slide_type": "-"
    }
   },
   "outputs": [
    {
     "name": "stdout",
     "output_type": "stream",
     "text": [
      "En el test ha fallado 0 de 45\n"
     ]
    }
   ],
   "source": [
    "from sklearn.datasets import load_iris\n",
    "from sklearn.model_selection import train_test_split\n",
    "from sklearn.ensemble import RandomForestClassifier\n",
    "\n",
    "X, y = load_iris(return_X_y=True)\n",
    "\n",
    "X_train, X_test, y_train, y_test = train_test_split(X, y, test_size=0.3, random_state=0)\n",
    "\n",
    "clf = RandomForestClassifier(n_estimators=10)\n",
    "clf.fit(X, y)\n",
    "\n",
    "y_pred = clf.predict(X_test)\n",
    "print(f'En el test ha fallado {(y_test != y_pred).sum()} de {X_test.shape[0]}')"
   ]
  },
  {
   "cell_type": "markdown",
   "metadata": {
    "slideshow": {
     "slide_type": "subslide"
    }
   },
   "source": [
    "> Prueba con distintos parámetros de inicialización de la clase de Random Forests. Tienes [aquí](https://scikit-learn.org/stable/modules/generated/sklearn.ensemble.RandomForestClassifier.html#sklearn.ensemble.RandomForestClassifier) la documentacion\n",
    "\n",
    "> En random forest podemos visualizar la importancia que ha tenido cada features en el entrenamiento. Visualiza los resultados en una tabla y en un gráfico de barras"
   ]
  },
  {
   "cell_type": "code",
   "execution_count": 34,
   "metadata": {
    "slideshow": {
     "slide_type": "subslide"
    }
   },
   "outputs": [
    {
     "data": {
      "text/html": [
       "<div>\n",
       "<style scoped>\n",
       "    .dataframe tbody tr th:only-of-type {\n",
       "        vertical-align: middle;\n",
       "    }\n",
       "\n",
       "    .dataframe tbody tr th {\n",
       "        vertical-align: top;\n",
       "    }\n",
       "\n",
       "    .dataframe thead th {\n",
       "        text-align: right;\n",
       "    }\n",
       "</style>\n",
       "<table border=\"1\" class=\"dataframe\">\n",
       "  <thead>\n",
       "    <tr style=\"text-align: right;\">\n",
       "      <th></th>\n",
       "      <th>importance</th>\n",
       "    </tr>\n",
       "    <tr>\n",
       "      <th>feature</th>\n",
       "      <th></th>\n",
       "    </tr>\n",
       "  </thead>\n",
       "  <tbody>\n",
       "    <tr>\n",
       "      <th>petal length (cm)</th>\n",
       "      <td>0.416</td>\n",
       "    </tr>\n",
       "    <tr>\n",
       "      <th>petal width (cm)</th>\n",
       "      <td>0.411</td>\n",
       "    </tr>\n",
       "    <tr>\n",
       "      <th>sepal length (cm)</th>\n",
       "      <td>0.108</td>\n",
       "    </tr>\n",
       "    <tr>\n",
       "      <th>sepal width (cm)</th>\n",
       "      <td>0.065</td>\n",
       "    </tr>\n",
       "  </tbody>\n",
       "</table>\n",
       "</div>"
      ],
      "text/plain": [
       "                   importance\n",
       "feature                      \n",
       "petal length (cm)       0.416\n",
       "petal width (cm)        0.411\n",
       "sepal length (cm)       0.108\n",
       "sepal width (cm)        0.065"
      ]
     },
     "execution_count": 34,
     "metadata": {},
     "output_type": "execute_result"
    }
   ],
   "source": [
    "# Cargo los datos de iris en formato dataframe, para tener el nombre de las columnas\n",
    "iris = load_iris()\n",
    "df = pd.DataFrame(iris.data, columns=iris.feature_names)\n",
    "\n",
    "importances = pd.DataFrame(\n",
    "    {'feature':df.columns,\n",
    "     'importance':np.round(clf.feature_importances_,3)})\n",
    "importances = importances.sort_values('importance',ascending=False).set_index('feature')\n",
    "importances.head(15)"
   ]
  },
  {
   "cell_type": "code",
   "execution_count": 35,
   "metadata": {
    "slideshow": {
     "slide_type": "-"
    }
   },
   "outputs": [
    {
     "data": {
      "text/plain": [
       "<AxesSubplot: xlabel='feature'>"
      ]
     },
     "execution_count": 35,
     "metadata": {},
     "output_type": "execute_result"
    },
    {
     "data": {
      "image/png": "[encoded data removed]",
      "text/plain": [
       "<Figure size 640x480 with 1 Axes>"
      ]
     },
     "metadata": {},
     "output_type": "display_data"
    }
   ],
   "source": [
    "importances.plot.bar()"
   ]
  },
  {
   "cell_type": "markdown",
   "metadata": {
    "slideshow": {
     "slide_type": "subslide"
    }
   },
   "source": [
    "## K nearest neighbors\n",
    "\n",
    "En este método el algoritmo clasifica cada dato nuevo en el grupo que corresponda, según tenga k vecinos más cerca de un grupo o de otro. Calcula la distancia del elemento nuevo a cada uno de los existentes, y ordena dichas distancias de menor a mayor para ir seleccionando el grupo al que pertenecer. Este grupo será, por tanto, el de mayor frecuencia con menores distancias.\n",
    "\n",
    "En contraste con otros algoritmos de aprendizaje supervisado, K-NN no genera un modelo fruto del aprendizaje con datos de entrenamiento, sino que el aprendizaje sucede en el mismo momento en el que se prueban los datos de test. A este tipo de algoritmos se les llama _lazy learning methods_\n",
    "\n",
    "Cabe destacar que K-NN es muy sensible a la variable `k`, de modo que con valores distintos de k podemos obtener resultados también muy distintos."
   ]
  },
  {
   "cell_type": "code",
   "execution_count": 36,
   "metadata": {
    "slideshow": {
     "slide_type": "-"
    }
   },
   "outputs": [
    {
     "name": "stdout",
     "output_type": "stream",
     "text": [
      "En el test ha fallado 1 de 45\n"
     ]
    }
   ],
   "source": [
    "from sklearn.datasets import load_iris\n",
    "from sklearn.model_selection import train_test_split\n",
    "from sklearn.neighbors import KNeighborsClassifier\n",
    "\n",
    "X, y = load_iris(return_X_y=True)\n",
    "\n",
    "X_train, X_test, y_train, y_test = train_test_split(X, y, test_size=0.3, random_state=0)\n",
    "\n",
    "clf = KNeighborsClassifier(n_neighbors = 3) \n",
    "clf.fit(X, y)\n",
    "\n",
    "y_pred = clf.predict(X_test)\n",
    "print(f'En el test ha fallado {(y_test != y_pred).sum()} de {X_test.shape[0]}')"
   ]
  },
  {
   "cell_type": "markdown",
   "metadata": {
    "slideshow": {
     "slide_type": "-"
    }
   },
   "source": [
    "> Prueba con distintos parámetros de inicialización de la clase de KNN. Tienes [aquí](https://scikit-learn.org/stable/modules/generated/sklearn.neighbors.KNeighborsClassifier.html#sklearn.neighbors.KNeighborsClassifier) la documentacion"
   ]
  },
  {
   "cell_type": "markdown",
   "metadata": {
    "slideshow": {
     "slide_type": "subslide"
    }
   },
   "source": [
    "Podríamos automatizar el buscar la mejor `k`, si nuestro dataset no es muy grande, con un código como este:"
   ]
  },
  {
   "cell_type": "code",
   "execution_count": 37,
   "metadata": {
    "slideshow": {
     "slide_type": "-"
    }
   },
   "outputs": [
    {
     "data": {
      "image/png": "[encoded data removed]",
      "text/plain": [
       "<Figure size 640x480 with 1 Axes>"
      ]
     },
     "metadata": {},
     "output_type": "display_data"
    }
   ],
   "source": [
    "from sklearn.metrics import accuracy_score\n",
    "\n",
    "# experimenting with different n values\n",
    "k_range = list(range(1,26))\n",
    "scores = []\n",
    "for k in k_range:\n",
    "    knn = KNeighborsClassifier(n_neighbors=k)\n",
    "    knn.fit(X_train, y_train)\n",
    "    y_pred = knn.predict(X_test)\n",
    "    scores.append(accuracy_score(y_test, y_pred))\n",
    "    \n",
    "plt.plot(k_range, scores)\n",
    "plt.xlabel('Value of k for KNN')\n",
    "plt.ylabel('Accuracy Score')\n",
    "plt.title('Accuracy Scores for Values of k of k-Nearest-Neighbors')\n",
    "plt.show()"
   ]
  },
  {
   "cell_type": "markdown",
   "metadata": {
    "slideshow": {
     "slide_type": "subslide"
    }
   },
   "source": [
    "## Perceptrón multicapa\n",
    "\n",
    "El perceptrón multicapa es una red neuronal artificial (RNA) formada por múltiples capas, de tal manera que tiene capacidad para resolver problemas que no son linealmente separables, lo cual es la principal limitación del perceptrón (también llamado perceptrón simple). \n",
    "\n",
    "Las capas pueden clasificarse en tres tipos:\n",
    "\n",
    "- Capa de entrada: Constituida por aquellas neuronas que introducen los patrones de entrada en la red. En estas neuronas no se produce procesamiento.\n",
    "- Capas ocultas: Formada por aquellas neuronas cuyas entradas provienen de capas anteriores y cuyas salidas pasan a neuronas de capas posteriores.\n",
    "- Capa de salida: Neuronas cuyos valores de salida se corresponden con las salidas de toda la red.\n",
    "\n",
    "La propagación hacia atrás (también conocido como retropropagación del error o regla delta generalizada), es un algoritmo utilizado en el entrenamiento de estas redes, por ello, el perceptrón multicapa también es conocido como red de retropropagación (no confundir con la red de contrapropagación). "
   ]
  },
  {
   "cell_type": "code",
   "execution_count": 38,
   "metadata": {
    "slideshow": {
     "slide_type": "-"
    }
   },
   "outputs": [
    {
     "name": "stdout",
     "output_type": "stream",
     "text": [
      "En el test ha fallado 29 de 45\n"
     ]
    }
   ],
   "source": [
    "from sklearn.datasets import load_iris\n",
    "from sklearn.model_selection import train_test_split\n",
    "from sklearn.neural_network import MLPClassifier\n",
    "\n",
    "X, y = load_iris(return_X_y=True)\n",
    "\n",
    "X_train, X_test, y_train, y_test = train_test_split(X, y, test_size=0.3, random_state=0)\n",
    "\n",
    "clf = MLPClassifier(solver='lbfgs', hidden_layer_sizes=(5, 2))\n",
    "clf.fit(X, y)\n",
    "\n",
    "y_pred = clf.predict(X_test)\n",
    "print(f'En el test ha fallado {(y_test != y_pred).sum()} de {X_test.shape[0]}')"
   ]
  },
  {
   "cell_type": "markdown",
   "metadata": {
    "slideshow": {
     "slide_type": "-"
    }
   },
   "source": [
    "> Prueba con distintos parámetros de inicialización de la clase del perceptrón multicapa. Tienes [aquí](https://scikit-learn.org/stable/modules/generated/sklearn.neural_network.MLPClassifier.html#sklearn.neural_network.MLPClassifier) la documentacion"
   ]
  },
  {
   "cell_type": "markdown",
   "metadata": {
    "slideshow": {
     "slide_type": "subslide"
    }
   },
   "source": [
    "### Encontrar los mejores parámetros\n",
    "\n",
    "Los hiperparámetros son parámetros ajustables que permiten controlar el proceso de entrenamiento de un modelo. Por ejemplo, con redes neuronales, puede decidir el número de capas ocultas y el número de nodos de cada capa. El rendimiento de un modelo depende en gran medida de los hiperparámetros.\n",
    "\n",
    "El ajuste de hiperparámetros, también denominado optimización de hiperparámetros es el proceso de encontrar la configuración de hiperparámetros que produzca el mejor rendimiento. Normalmente, el proceso es manual y costoso desde el punto de vista computacional.\n",
    "\n",
    "[GridSearchCV](https://scikit-learn.org/stable/modules/generated/sklearn.model_selection.GridSearchCV.html#sklearn.model_selection.GridSearchCV) es una técnica de validación cruzada incluida en el paquete de scikit learn. Lo que hace es ejecutarse a través de los diferentes parámetros que se introducen en la cuadrícula de parámetros y extraer los mejores valores y combinaciones de parámetros."
   ]
  },
  {
   "cell_type": "code",
   "execution_count": 53,
   "metadata": {
    "slideshow": {
     "slide_type": "subslide"
    }
   },
   "outputs": [
    {
     "name": "stdout",
     "output_type": "stream",
     "text": [
      "Fitting 3 folds for each of 18 candidates, totalling 54 fits\n",
      "Best params: {'criterion': 'gini', 'max_depth': 50, 'splitter': 'best'}\n",
      "En el mejor test ha fallado 1 de 45\n",
      "[CV] END ......................multi_class=auto, solver=saga; total time=   0.0s\n",
      "[CV] END .................multi_class=auto, solver=newton-cg; total time=   0.0s\n",
      "[CV] END ..........multi_class=multinomial, solver=newton-cg; total time=   0.0s\n",
      "[CV] END ......criterion=gini, max_depth=None, splitter=best; total time=   0.0s\n",
      "[CV] END ...criterion=entropy, max_depth=50, splitter=random; total time=   0.0s\n",
      "[CV] END ..criterion=log_loss, max_depth=10, splitter=random; total time=   0.0s\n",
      "[CV] END .................multi_class=auto, solver=liblinear; total time=   0.0s\n",
      "[CV] END ..................multi_class=ovr, solver=liblinear; total time=   0.0s\n",
      "[CV] END .................multi_class=auto, solver=newton-cg; total time=   0.0s\n",
      "[CV] END ......................multi_class=auto, solver=saga; total time=   0.0s\n",
      "[CV] END ........criterion=gini, max_depth=10, splitter=best; total time=   0.0s\n",
      "[CV] END .....criterion=entropy, max_depth=50, splitter=best; total time=   0.0s\n",
      "[CV] END ..criterion=log_loss, max_depth=10, splitter=random; total time=   0.0s\n",
      "[CV] END .................multi_class=warn, solver=newton-cg; total time=   0.0s\n",
      "[CV] END .......................multi_class=ovr, solver=saga; total time=   0.0s\n",
      "[CV] END .................multi_class=auto, solver=liblinear; total time=   0.0s\n",
      "[CV] END .......................multi_class=auto, solver=sag; total time=   0.0s\n",
      "[CV] END ......................multi_class=auto, solver=saga; total time=   0.0s\n",
      "[CV] END ..........multi_class=multinomial, solver=liblinear; total time=   0.0s\n",
      "[CV] END ...............multi_class=multinomial, solver=saga; total time=   0.0s\n",
      "[CV] END ......criterion=gini, max_depth=50, splitter=random; total time=   0.0s\n",
      "[CV] END .....criterion=entropy, max_depth=50, splitter=best; total time=   0.0s\n",
      "[CV] END ..criterion=log_loss, max_depth=10, splitter=random; total time=   0.0s\n",
      "[CV] END .....................multi_class=auto, solver=lbfgs; total time=   0.0s\n",
      "[CV] END ......................multi_class=ovr, solver=lbfgs; total time=   0.0s\n",
      "[CV] END ..............multi_class=multinomial, solver=lbfgs; total time=   0.0s\n",
      "[CV] END ....criterion=gini, max_depth=None, splitter=random; total time=   0.0s\n",
      "[CV] END ....criterion=log_loss, max_depth=50, splitter=best; total time=   0.0s\n",
      "[CV] END .................multi_class=auto, solver=newton-cg; total time=   0.0s\n",
      "[CV] END .................multi_class=warn, solver=newton-cg; total time=   0.0s\n",
      "[CV] END .....................multi_class=warn, solver=lbfgs; total time=   0.0s\n",
      "[CV] END .................multi_class=warn, solver=liblinear; total time=   0.0s\n",
      "[CV] END .......................multi_class=warn, solver=sag; total time=   0.0s\n",
      "[CV] END ......................multi_class=warn, solver=saga; total time=   0.0s\n",
      "[CV] END ..................multi_class=ovr, solver=newton-cg; total time=   0.0s\n",
      "[CV] END ..........multi_class=multinomial, solver=liblinear; total time=   0.0s\n",
      "[CV] END ...............multi_class=multinomial, solver=saga; total time=   0.0s\n",
      "[CV] END ......criterion=gini, max_depth=50, splitter=random; total time=   0.0s\n",
      "[CV] END .....criterion=entropy, max_depth=50, splitter=best; total time=   0.0s\n",
      "[CV] END ....criterion=log_loss, max_depth=50, splitter=best; total time=   0.0s\n",
      "[CV] END .......................multi_class=auto, solver=sag; total time=   0.0s\n",
      "[CV] END ..................multi_class=ovr, solver=liblinear; total time=   0.0s\n",
      "[CV] END ..........multi_class=multinomial, solver=newton-cg; total time=   0.0s\n",
      "[CV] END ......criterion=gini, max_depth=50, splitter=random; total time=   0.0s\n",
      "[CV] END ...criterion=entropy, max_depth=50, splitter=random; total time=   0.0s\n",
      "[CV] END ....criterion=log_loss, max_depth=50, splitter=best; total time=   0.0s\n",
      "[CV] END .................multi_class=auto, solver=liblinear; total time=   0.0s\n",
      "[CV] END ........................multi_class=ovr, solver=sag; total time=   0.0s\n",
      "[CV] END .....................multi_class=auto, solver=lbfgs; total time=   0.0s\n",
      "[CV] END ........criterion=gini, max_depth=10, splitter=best; total time=   0.0s\n",
      "[CV] END ...criterion=entropy, max_depth=10, splitter=random; total time=   0.0s\n",
      "[CV] END ...criterion=entropy, max_depth=None, splitter=best; total time=   0.0s\n",
      "[CV] END ..criterion=log_loss, max_depth=50, splitter=random; total time=   0.0s\n",
      "[CV] END .......................multi_class=auto, solver=sag; total time=   0.0s\n",
      "[CV] END .......................multi_class=ovr, solver=saga; total time=   0.0s\n",
      "[CV] END .................multi_class=auto, solver=liblinear; total time=   0.0s\n",
      "[CV] END .......................multi_class=auto, solver=sag; total time=   0.0s\n",
      "[CV] END ..............multi_class=multinomial, solver=lbfgs; total time=   0.0s\n",
      "[CV] END ......criterion=gini, max_depth=None, splitter=best; total time=   0.0s\n",
      "[CV] END ...criterion=entropy, max_depth=50, splitter=random; total time=   0.0s\n",
      "[CV] END ..criterion=log_loss, max_depth=50, splitter=random; total time=   0.0s\n",
      "[CV] END .....................multi_class=auto, solver=lbfgs; total time=   0.0s\n",
      "[CV] END ......................multi_class=ovr, solver=lbfgs; total time=   0.0s\n",
      "[CV] END ................multi_class=multinomial, solver=sag; total time=   0.0s\n",
      "[CV] END ........criterion=gini, max_depth=50, splitter=best; total time=   0.0s\n",
      "[CV] END .....criterion=entropy, max_depth=10, splitter=best; total time=   0.0s\n",
      "[CV] END ...criterion=entropy, max_depth=None, splitter=best; total time=   0.0s\n",
      "[CV] END ..criterion=log_loss, max_depth=50, splitter=random; total time=   0.0s\n",
      "[CV] END .................multi_class=auto, solver=newton-cg; total time=   0.0s\n",
      "[CV] END .....................multi_class=warn, solver=lbfgs; total time=   0.0s\n",
      "[CV] END .................multi_class=warn, solver=liblinear; total time=   0.0s\n",
      "[CV] END .......................multi_class=warn, solver=sag; total time=   0.0s\n",
      "[CV] END ......................multi_class=warn, solver=saga; total time=   0.0s\n",
      "[CV] END ..................multi_class=ovr, solver=newton-cg; total time=   0.0s\n",
      "[CV] END ..........multi_class=multinomial, solver=liblinear; total time=   0.0s\n",
      "[CV] END ........criterion=gini, max_depth=10, splitter=best; total time=   0.0s\n",
      "[CV] END ....criterion=gini, max_depth=None, splitter=random; total time=   0.0s\n",
      "[CV] END ...criterion=entropy, max_depth=None, splitter=best; total time=   0.0s\n",
      "[CV] END ..criterion=log_loss, max_depth=None, splitter=best; total time=   0.0s\n",
      "[CV] END .......................multi_class=auto, solver=sag; total time=   0.0s\n",
      "[CV] END ......................multi_class=ovr, solver=lbfgs; total time=   0.0s\n",
      "[CV] END ......................multi_class=auto, solver=saga; total time=   0.0s\n",
      "[CV] END ................multi_class=multinomial, solver=sag; total time=   0.0s\n",
      "[CV] END ......criterion=gini, max_depth=10, splitter=random; total time=   0.0s\n",
      "[CV] END ....criterion=gini, max_depth=None, splitter=random; total time=   0.0s\n",
      "[CV] END .criterion=entropy, max_depth=None, splitter=random; total time=   0.0s\n",
      "[CV] END ..criterion=log_loss, max_depth=None, splitter=best; total time=   0.0s\n",
      "[CV] END ......................multi_class=auto, solver=saga; total time=   0.0s\n",
      "[CV] END ..................multi_class=ovr, solver=liblinear; total time=   0.0s\n",
      "[CV] END .................multi_class=auto, solver=newton-cg; total time=   0.0s\n",
      "[CV] END ..........multi_class=multinomial, solver=newton-cg; total time=   0.0s\n",
      "[CV] END ........criterion=gini, max_depth=50, splitter=best; total time=   0.0s\n",
      "[CV] END .....criterion=entropy, max_depth=10, splitter=best; total time=   0.0s\n",
      "[CV] END .criterion=entropy, max_depth=None, splitter=random; total time=   0.0s\n",
      "[CV] END ..criterion=log_loss, max_depth=None, splitter=best; total time=   0.0s\n",
      "[CV] END .................multi_class=auto, solver=liblinear; total time=   0.0s\n",
      "[CV] END ........................multi_class=ovr, solver=sag; total time=   0.0s\n",
      "[CV] END .....................multi_class=auto, solver=lbfgs; total time=   0.0s\n",
      "[CV] END ..............multi_class=multinomial, solver=lbfgs; total time=   0.0s\n",
      "[CV] END ......criterion=gini, max_depth=None, splitter=best; total time=   0.0s\n",
      "[CV] END ....criterion=log_loss, max_depth=10, splitter=best; total time=   0.0s\n",
      "[CV] END criterion=log_loss, max_depth=None, splitter=random; total time=   0.0s\n",
      "[CV] END .................multi_class=auto, solver=newton-cg; total time=   0.0s\n",
      "[CV] END .................multi_class=warn, solver=newton-cg; total time=   0.0s\n",
      "[CV] END .....................multi_class=warn, solver=lbfgs; total time=   0.0s\n",
      "[CV] END .................multi_class=warn, solver=liblinear; total time=   0.0s\n",
      "[CV] END .......................multi_class=warn, solver=sag; total time=   0.0s\n",
      "[CV] END ......................multi_class=warn, solver=saga; total time=   0.0s\n",
      "[CV] END ..................multi_class=ovr, solver=newton-cg; total time=   0.0s\n",
      "[CV] END ...............multi_class=multinomial, solver=saga; total time=   0.0s\n",
      "[CV] END ........criterion=gini, max_depth=50, splitter=best; total time=   0.0s\n",
      "[CV] END ...criterion=entropy, max_depth=10, splitter=random; total time=   0.0s\n",
      "[CV] END ....criterion=log_loss, max_depth=10, splitter=best; total time=   0.0s\n",
      "[CV] END criterion=log_loss, max_depth=None, splitter=random; total time=   0.0s\n",
      "[CV] END ......................multi_class=auto, solver=saga; total time=   0.0s\n",
      "[CV] END .......................multi_class=ovr, solver=saga; total time=   0.0s\n",
      "[CV] END .................multi_class=auto, solver=liblinear; total time=   0.0s\n",
      "[CV] END .......................multi_class=auto, solver=sag; total time=   0.0s\n",
      "[CV] END ................multi_class=multinomial, solver=sag; total time=   0.0s\n",
      "[CV] END ......criterion=gini, max_depth=10, splitter=random; total time=   0.0s\n",
      "[CV] END .....criterion=entropy, max_depth=10, splitter=best; total time=   0.0s\n",
      "[CV] END .criterion=entropy, max_depth=None, splitter=random; total time=   0.0s\n",
      "[CV] END criterion=log_loss, max_depth=None, splitter=random; total time=   0.0s\n",
      "[CV] END .....................multi_class=auto, solver=lbfgs; total time=   0.0s\n",
      "[CV] END ........................multi_class=ovr, solver=sag; total time=   0.0s\n",
      "[CV] END .....................multi_class=auto, solver=lbfgs; total time=   0.0s\n",
      "[CV] END ......criterion=gini, max_depth=10, splitter=random; total time=   0.0s\n",
      "[CV] END ...criterion=entropy, max_depth=10, splitter=random; total time=   0.0s\n",
      "[CV] END ....criterion=log_loss, max_depth=10, splitter=best; total time=   0.0s\n"
     ]
    }
   ],
   "source": [
    "from sklearn.datasets import load_iris\n",
    "from sklearn.model_selection import train_test_split\n",
    "from sklearn.tree import DecisionTreeClassifier\n",
    "from sklearn.model_selection import GridSearchCV\n",
    "\n",
    "X, y = load_iris(return_X_y=True)\n",
    "\n",
    "X_train, X_test, y_train, y_test = train_test_split(X, y, test_size=0.3, random_state=0)\n",
    "\n",
    "# Create the parameter grid based on the results of random search \n",
    "param_grid = {\n",
    "    'criterion': ['gini', 'entropy', 'log_loss'],\n",
    "    'splitter': ['best', 'random'],\n",
    "    'max_depth': [10, 50, None]\n",
    "}\n",
    "\n",
    "# Create a based model\n",
    "rf = DecisionTreeClassifier()\n",
    "\n",
    "# Instantiate the grid search model\n",
    "grid_search = GridSearchCV(estimator=rf, param_grid=param_grid, cv=3, n_jobs=-1, verbose=2)\n",
    "\n",
    "# Fit the grid search to the data\n",
    "grid_search.fit(X_train, y_train)\n",
    "print(f'Best params: {grid_search.best_params_}')\n",
    "\n",
    "best_grid = grid_search.best_estimator_\n",
    "y_pred = best_grid.predict(X_test)\n",
    "\n",
    "print(f'En el mejor test ha fallado {(y_test != y_pred).sum()} de {X_test.shape[0]}')"
   ]
  },
  {
   "cell_type": "markdown",
   "metadata": {
    "slideshow": {
     "slide_type": "slide"
    }
   },
   "source": [
    "# Evaluación del modelo\n",
    "\n",
    "La evaluación de modelos es un paso muy importante en la metodología de desarrollo de sistemas de aprendizaje automático. Ayuda a medir el rendimiento del modelo, es decir, cuantificar la calidad de las predicciones que ofrece. Para realizar este cometido utilizamos las métricas de evaluación, que dependen de la tarea de aprendizaje que apliquemos.\n",
    "\n",
    "![Flujo de trabajo de ML](img/ML-workflow-2.png)"
   ]
  },
  {
   "cell_type": "markdown",
   "metadata": {
    "slideshow": {
     "slide_type": "subslide"
    }
   },
   "source": [
    "### Matriz de confusión\n",
    "Es una herramienta ampliamente utilizada que permite inspeccionar y evaluar visualmente las predicciones de nuestro modelo. En cada fila se representa el número de predicciones de cada clase y en las columnas las instancias de la clase real\n",
    "\n",
    "![](img/matriz_de_confusion.png)\n",
    "\n",
    "La descripción de cada elemento de la matriz es la siguiente:\n",
    "- Verdadero positivo (VP): número de ejemplos positivos que el modelo predice como positivos. En el ejemplo que presentamos anteriormente, VP es 1 (del ejemplo 6).\n",
    "- Falso positivo (FP): número de ejemplos negativos que el modelo predice como positivos. En nuestro ejemplo, FP es igual a 1 (del ejemplo 4).\n",
    "- Falso negativo (FN): número de ejemplos positivos que el modelo predice como negativos. FN en el ejemplo sería 0.\n",
    "- Verdadero negativo (VN): número de ejemplos negativos que el modelo predice como negativos. En el ejemplo, VN es 8."
   ]
  },
  {
   "cell_type": "code",
   "execution_count": 41,
   "metadata": {
    "slideshow": {
     "slide_type": "subslide"
    }
   },
   "outputs": [
    {
     "data": {
      "image/png": "[encoded data removed]",
      "text/plain": [
       "<Figure size 640x480 with 2 Axes>"
      ]
     },
     "metadata": {},
     "output_type": "display_data"
    }
   ],
   "source": [
    "from sklearn.datasets import load_iris\n",
    "from sklearn.model_selection import train_test_split\n",
    "from sklearn.linear_model import LogisticRegression\n",
    "from sklearn.metrics import confusion_matrix, ConfusionMatrixDisplay\n",
    "\n",
    "X, y = load_iris(return_X_y=True)\n",
    "\n",
    "X_train, X_test, y_train, y_test = train_test_split(X, y, test_size=0.3, random_state=0)\n",
    "\n",
    "clf = LogisticRegression(solver='liblinear', multi_class='auto')\n",
    "clf.fit(X, y)\n",
    "\n",
    "y_pred = clf.predict(X_test)\n",
    "\n",
    "cm = confusion_matrix(y_test, y_pred, labels=clf.classes_)\n",
    "disp = ConfusionMatrixDisplay(confusion_matrix=cm,\n",
    "                              display_labels=clf.classes_)\n",
    "disp.plot()\n",
    "plt.show()"
   ]
  },
  {
   "cell_type": "markdown",
   "metadata": {
    "slideshow": {
     "slide_type": "subslide"
    }
   },
   "source": [
    "### Accuracy o Exactitud\n",
    "\n",
    "La fracción de predicciones que el modelo realizó correctamente. Se representa como un porcentaje o un valor entre 0 y 1. \n",
    "\n",
    "Es una buena métrica cuando tenemos un conjunto de datos balanceado, esto es, cuando el número de etiquetas de cada clase es similar. La exactitud de nuestro modelo de ejemplo es de 0.9, ya que ha acertado 9 predicciones de 10.  Si nuestro modelo hubiese predicho siempre la etiqueta “No”, la exactitud sería de igualmente de 0.9, pero no resuelve nuestro problema de identificar enfermos de COVID."
   ]
  },
  {
   "cell_type": "code",
   "execution_count": 44,
   "metadata": {
    "slideshow": {
     "slide_type": "-"
    }
   },
   "outputs": [
    {
     "name": "stdout",
     "output_type": "stream",
     "text": [
      "Accuracy: 0.9333333333333333\n"
     ]
    }
   ],
   "source": [
    "from sklearn.datasets import load_iris\n",
    "from sklearn.model_selection import train_test_split\n",
    "from sklearn.linear_model import LogisticRegression\n",
    "from sklearn.metrics import accuracy_score\n",
    "\n",
    "X, y = load_iris(return_X_y=True)\n",
    "\n",
    "X_train, X_test, y_train, y_test = train_test_split(X, y, test_size=0.3, random_state=0)\n",
    "\n",
    "clf = LogisticRegression(solver='liblinear', multi_class='auto')\n",
    "clf.fit(X, y)\n",
    "\n",
    "y_pred = clf.predict(X_test)\n",
    "print(f'Accuracy: {accuracy_score(y_test, y_pred)}')"
   ]
  },
  {
   "cell_type": "markdown",
   "metadata": {
    "slideshow": {
     "slide_type": "subslide"
    }
   },
   "source": [
    "### Recall o sensibilidad\n",
    "\n",
    "Indica la proporción de ejemplos positivos que están identificados correctamente por el modelo entre todos los positivos reales. Es decir, VP / (VP + FN). En nuestro ejemplo, el valor de sensibilidad sería 1 / (1 + 0) = 1. Si evaluásemos con esta métrica un modelo que siempre prediga la etiqueta positiva (“Si”) tendría una sensibilidad de 1, pero no sería un modelo demasiado inteligente. Aunque lo ideal para nuestro modelo de detección de COVID es maximizar la sensibilidad, esta métrica por sí sola no nos asegura que tengamos un buen modelo.\n",
    "\n",
    "### Precision\n",
    "Esta métrica está determinada por la fracción de elementos clasificados correctamente como positivo entre todos los que el modelo ha clasificado como positivos. La fórmula es VP / (VP + FP). El modelo de ejemplo tendría una precisión de 1 / (1 + 1) = 0.5. Volvamos ahora al modelo que siempre predice la etiqueta positiva. En ese caso, la precisión del modelo es 1 / (1 + 9) = 0.1. Vemos como este modelo tenía una sensibilidad máxima, pero tiene una precisión muy pobre. En este caso necesitamos de las dos métricas para evaluar la calidad real del modelo.\n",
    "\n",
    "### F1 score\n",
    "Combina las métricas Precision y Recall para dar un único resultado. Esta métrica es la más apropiada cuando tenemos conjuntos de datos no balanceados. Se calcula como la media armónica de Precision y Recal. La fórmula es F1 = (2 * precision * recall) / (precision + recall). Quizá te preguntes por qué la media armónica y no la simple. Esto es porque la media armónica hace que si una de las dos medidas es pequeña (aunque la otra sea máxima), el valor de F1 score va a ser pequeño."
   ]
  },
  {
   "cell_type": "markdown",
   "metadata": {
    "slideshow": {
     "slide_type": "subslide"
    }
   },
   "source": [
    "\n",
    "![](img/Recall-precision.png)"
   ]
  },
  {
   "cell_type": "code",
   "execution_count": 46,
   "metadata": {
    "slideshow": {
     "slide_type": "subslide"
    }
   },
   "outputs": [
    {
     "name": "stdout",
     "output_type": "stream",
     "text": [
      "              precision    recall  f1-score   support\n",
      "\n",
      "           0       1.00      1.00      1.00        16\n",
      "           1       1.00      0.83      0.91        18\n",
      "           2       0.79      1.00      0.88        11\n",
      "\n",
      "    accuracy                           0.93        45\n",
      "   macro avg       0.93      0.94      0.93        45\n",
      "weighted avg       0.95      0.93      0.93        45\n",
      "\n"
     ]
    }
   ],
   "source": [
    "from sklearn.datasets import load_iris\n",
    "from sklearn.model_selection import train_test_split\n",
    "from sklearn.linear_model import LogisticRegression\n",
    "from sklearn.metrics import classification_report\n",
    "\n",
    "X, y = load_iris(return_X_y=True)\n",
    "\n",
    "X_train, X_test, y_train, y_test = train_test_split(X, y, test_size=0.3, random_state=0)\n",
    "\n",
    "clf = LogisticRegression(solver='liblinear', multi_class='auto')\n",
    "clf.fit(X, y)\n",
    "\n",
    "y_pred = clf.predict(X_test)\n",
    "print(classification_report(y_test, y_pred))"
   ]
  },
  {
   "cell_type": "markdown",
   "metadata": {
    "slideshow": {
     "slide_type": "subslide"
    }
   },
   "source": [
    "## Problemas en la evaluación\n",
    "\n",
    "### Underfitting\n",
    "- Se produce cuando un modelo no puede capturar el patrón subyacente de los datos - \"No aprende\"\n",
    "- Suele ocurrir cuando tenemos mucha menos cantidad de datos para construir un modelo preciso o cuando intentamos construir un modelo lineal con datos no lineales. \n",
    "- También suele pasar cuando tenemos modelos que son muy simples para capturar los patrones complejos en datos como la regresión lineal y logística. \n",
    "\n",
    "_Cómo evitarlo_\n",
    "\n",
    "- Probar modelos más complejos\n",
    "- La precisión en los datos de entrenamiento y test podría ser deficiente porque el algoritmo de aprendizaje no tenía datos suficientes de los que aprender:\n",
    "    - Aumentar el número de ejemplos de datos de entrenamiento.\n",
    "    - Aumentar el número de iteraciones (epochs) en los datos de entrenamiento existentes."
   ]
  },
  {
   "cell_type": "markdown",
   "metadata": {
    "slideshow": {
     "slide_type": "subslide"
    }
   },
   "source": [
    "### Overfitting\n",
    "\n",
    "- Ocurre cuando el modelo presenta un buen rendimiento con los datos de entrenamiento pero no con los datos de test.\n",
    "- Esto se debe a que el modelo memoriza los datos que ha visto y no puede generalizar para los ejemplos no vistos.\n",
    "- Se suelen dar en modelos muy complejos, como los árboles de decisión o las redes neuronales.\n",
    "\n",
    "_Cómo evitarlo_\n",
    "- Reducir el número de features, buscar correlaciones entre features\n",
    "- Aplicar técnicas de regularización\n",
    "- Añadir más datos de entrenamiento\n",
    "- Usar validación cruzada"
   ]
  },
  {
   "cell_type": "markdown",
   "metadata": {
    "slideshow": {
     "slide_type": "subslide"
    }
   },
   "source": [
    "### Validación cruzada\n",
    "\n",
    "- La validación cruzada es una técnica para evaluar modelos de ML mediante el entrenamiento de varios modelos de ML en subconjuntos de los datos de entrada disponibles y evaluarlos con el subconjunto complementario de los datos. \n",
    "\n",
    "- El conjunto de prueba debe ser siempre el mismo, pero se creará un conjunto de validación automáticamente con este método.\n",
    "- En el enfoque básico, denominado k-fold CV, el conjunto de entrenamiento se divide en k conjuntos más pequeños y se sigue el siguiente procedimiento para cada uno de los k \"pliegues\":\n",
    "  1. Se entrena un modelo utilizando `K - 1` folds como dato de entrenamiento.\n",
    "  2. El modelo resultante se valida en la parte restante de los datos.\n",
    "  \n",
    "![](img/grid_search_cross_validation.png)"
   ]
  },
  {
   "cell_type": "code",
   "execution_count": 48,
   "metadata": {
    "slideshow": {
     "slide_type": "subslide"
    }
   },
   "outputs": [
    {
     "name": "stdout",
     "output_type": "stream",
     "text": [
      "0.96 accuracy with a standard deviation of 0.04\n"
     ]
    }
   ],
   "source": [
    "from sklearn.datasets import load_iris\n",
    "from sklearn.model_selection import train_test_split\n",
    "from sklearn.linear_model import LogisticRegression\n",
    "from sklearn.model_selection import cross_val_score\n",
    "\n",
    "X, y = load_iris(return_X_y=True)\n",
    "\n",
    "X_train, X_test, y_train, y_test = train_test_split(X, y, test_size=0.3, random_state=0)\n",
    "\n",
    "clf = LogisticRegression(solver='liblinear', multi_class='auto')\n",
    "clf.fit(X, y)\n",
    "\n",
    "y_pred = clf.predict(X_test)\n",
    "\n",
    "scores = cross_val_score(clf, X, y, cv=5, scoring='f1_macro')\n",
    "print(f\"{scores.mean():.2f} accuracy with a standard deviation of {scores.std():.2f}\")"
   ]
  }
 ],
 "metadata": {
  "celltoolbar": "Slideshow",
  "kernelspec": {
   "display_name": "Python 3 (ipykernel)",
   "language": "python",
   "name": "python3"
  },
  "language_info": {
   "codemirror_mode": {
    "name": "ipython",
    "version": 3
   },
   "file_extension": ".py",
   "mimetype": "text/x-python",
   "name": "python",
   "nbconvert_exporter": "python",
   "pygments_lexer": "ipython3",
   "version": "3.10.6"
  }
 },
 "nbformat": 4,
 "nbformat_minor": 2
}
