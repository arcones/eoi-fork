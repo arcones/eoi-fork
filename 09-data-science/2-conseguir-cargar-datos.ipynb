{
 "cells": [
  {
   "cell_type": "markdown",
   "metadata": {
    "slideshow": {
     "slide_type": "slide"
    }
   },
   "source": [
    "## Flujo de trabajo de un proyecto de Machine Learning\n",
    "\n",
    "# 1. Conseguir y cargar datos"
   ]
  },
  {
   "cell_type": "markdown",
   "metadata": {
    "slideshow": {
     "slide_type": "slide"
    }
   },
   "source": [
    "## Conseguir datos:\n",
    "1. Alguien nos entrega los datos (YAY!)\n",
    "2. Datasets públicos: \n",
    "    - [scikit learn](https://scikit-learn.org/stable/datasets.html)\n",
    "    - [tensorflow](https://www.tensorflow.org/datasets?hl=es-419)\n",
    "    - [Kaggle](https://www.kaggle.com/)\n",
    "    - [UCI Machine learning Repository](https://archive.ics.uci.edu/ml/datasets.php)\n",
    "    - [Datos Gobierno de España](https://datos.gob.es/)\n",
    "    - [Datos Madrid](https://datos.madrid.es/portal/site/egob)\n",
    "    - [Datos Castilla la Mancha](https://datosabiertos.castillalamancha.es/)\n",
    "    - [Datos BOE (Civio)](https://datos.civio.es/datasets/) \n",
    "3. Internet of Things\n",
    "4. Web crawling & APIs: [Scrapy](https://scrapy.org/)"
   ]
  },
  {
   "cell_type": "markdown",
   "metadata": {
    "slideshow": {
     "slide_type": "slide"
    }
   },
   "source": [
    "# Cargar datos\n",
    "- Texto\n",
    "    - CSV\n",
    "    - JSON\n",
    "    - XML\n",
    "- Imagen\n",
    "    - Pillow\n",
    "    - OpenCV\n",
    "- Audio\n",
    "    - Wavio\n",
    "    - PyAudio"
   ]
  },
  {
   "cell_type": "markdown",
   "metadata": {
    "slideshow": {
     "slide_type": "slide"
    }
   },
   "source": [
    "## CSV"
   ]
  },
  {
   "cell_type": "code",
   "execution_count": 2,
   "metadata": {
    "slideshow": {
     "slide_type": "subslide"
    }
   },
   "outputs": [
    {
     "name": "stdout",
     "output_type": "stream",
     "text": [
      "['id', 'first_name', 'last_name', 'email', 'gender', 'ip_address']\n",
      "['1', 'Brennan', 'Blesli', 'bblesli0@theatlantic.com', 'Non-binary', '94.202.160.87']\n",
      "['2', 'Abraham', 'Engel', 'aengel1@techcrunch.com', 'Agender', '106.178.90.215']\n",
      "['3', 'Skipp', 'Dawtrey', 'sdawtrey2@scientificamerican.com', 'Female', '96.142.23.72']\n",
      "['4', 'Cynde', 'Vivyan', 'cvivyan3@quantcast.com', 'Agender', '204.13.116.129']\n",
      "['5', 'Johnnie', 'Ragbourne', 'jragbourne4@yale.edu', 'Agender', '143.90.146.248']\n",
      "['6', 'Thorny', 'Conroy', 'tconroy5@examiner.com', 'Male', '86.203.62.141']\n",
      "['7', 'Franni', 'Perroni', 'fperroni6@nhs.uk', 'Genderqueer', '128.243.103.50']\n",
      "['8', 'Layla', 'Menco', 'lmenco7@bbb.org', 'Genderqueer', '66.106.194.116']\n",
      "['9', 'Zachary', 'Sleightholm', 'zsleightholm8@bloglovin.com', 'Male', '207.69.5.19']\n",
      "['10', 'Stephanie', 'Yankov', 'syankov9@theguardian.com', 'Non-binary', '169.163.50.147']\n"
     ]
    }
   ],
   "source": [
    "# Usando una lista de valores\n",
    "import csv\n",
    "\n",
    "with open('datasets/some.csv', 'r') as csv_file:\n",
    "    reader = csv.reader(csv_file)\n",
    "    for row in reader:\n",
    "        print(row)"
   ]
  },
  {
   "cell_type": "code",
   "execution_count": 1,
   "metadata": {
    "slideshow": {
     "slide_type": "subslide"
    }
   },
   "outputs": [
    {
     "ename": "FileNotFoundError",
     "evalue": "[Errno 2] No such file or directory: 'datasets/some.csv'",
     "output_type": "error",
     "traceback": [
      "\u001b[0;31m---------------------------------------------------------------------------\u001b[0m",
      "\u001b[0;31mFileNotFoundError\u001b[0m                         Traceback (most recent call last)",
      "Cell \u001b[0;32mIn[1], line 4\u001b[0m\n\u001b[1;32m      1\u001b[0m \u001b[38;5;66;03m# Obteniendo un diccionario {nombre_campo: valor_campo}\u001b[39;00m\n\u001b[1;32m      2\u001b[0m \u001b[38;5;28;01mimport\u001b[39;00m \u001b[38;5;21;01mcsv\u001b[39;00m\n\u001b[0;32m----> 4\u001b[0m \u001b[38;5;28;01mwith\u001b[39;00m \u001b[38;5;28;43mopen\u001b[39;49m\u001b[43m(\u001b[49m\u001b[38;5;124;43m'\u001b[39;49m\u001b[38;5;124;43mdatasets/some.csv\u001b[39;49m\u001b[38;5;124;43m'\u001b[39;49m\u001b[43m,\u001b[49m\u001b[43m \u001b[49m\u001b[43mmode\u001b[49m\u001b[38;5;241;43m=\u001b[39;49m\u001b[38;5;124;43m'\u001b[39;49m\u001b[38;5;124;43mr\u001b[39;49m\u001b[38;5;124;43m'\u001b[39;49m\u001b[43m)\u001b[49m \u001b[38;5;28;01mas\u001b[39;00m csv_file: \n\u001b[1;32m      5\u001b[0m     csv_reader \u001b[38;5;241m=\u001b[39m csv\u001b[38;5;241m.\u001b[39mDictReader(csv_file)\n\u001b[1;32m      7\u001b[0m     \u001b[38;5;28;01mfor\u001b[39;00m row \u001b[38;5;129;01min\u001b[39;00m csv_reader:\n",
      "File \u001b[0;32m~/workspace/eoi/09-data-science/.venv/lib/python3.8/site-packages/IPython/core/interactiveshell.py:282\u001b[0m, in \u001b[0;36m_modified_open\u001b[0;34m(file, *args, **kwargs)\u001b[0m\n\u001b[1;32m    275\u001b[0m \u001b[38;5;28;01mif\u001b[39;00m file \u001b[38;5;129;01min\u001b[39;00m {\u001b[38;5;241m0\u001b[39m, \u001b[38;5;241m1\u001b[39m, \u001b[38;5;241m2\u001b[39m}:\n\u001b[1;32m    276\u001b[0m     \u001b[38;5;28;01mraise\u001b[39;00m \u001b[38;5;167;01mValueError\u001b[39;00m(\n\u001b[1;32m    277\u001b[0m         \u001b[38;5;124mf\u001b[39m\u001b[38;5;124m\"\u001b[39m\u001b[38;5;124mIPython won\u001b[39m\u001b[38;5;124m'\u001b[39m\u001b[38;5;124mt let you open fd=\u001b[39m\u001b[38;5;132;01m{\u001b[39;00mfile\u001b[38;5;132;01m}\u001b[39;00m\u001b[38;5;124m by default \u001b[39m\u001b[38;5;124m\"\u001b[39m\n\u001b[1;32m    278\u001b[0m         \u001b[38;5;124m\"\u001b[39m\u001b[38;5;124mas it is likely to crash IPython. If you know what you are doing, \u001b[39m\u001b[38;5;124m\"\u001b[39m\n\u001b[1;32m    279\u001b[0m         \u001b[38;5;124m\"\u001b[39m\u001b[38;5;124myou can use builtins\u001b[39m\u001b[38;5;124m'\u001b[39m\u001b[38;5;124m open.\u001b[39m\u001b[38;5;124m\"\u001b[39m\n\u001b[1;32m    280\u001b[0m     )\n\u001b[0;32m--> 282\u001b[0m \u001b[38;5;28;01mreturn\u001b[39;00m \u001b[43mio_open\u001b[49m\u001b[43m(\u001b[49m\u001b[43mfile\u001b[49m\u001b[43m,\u001b[49m\u001b[43m \u001b[49m\u001b[38;5;241;43m*\u001b[39;49m\u001b[43margs\u001b[49m\u001b[43m,\u001b[49m\u001b[43m \u001b[49m\u001b[38;5;241;43m*\u001b[39;49m\u001b[38;5;241;43m*\u001b[39;49m\u001b[43mkwargs\u001b[49m\u001b[43m)\u001b[49m\n",
      "\u001b[0;31mFileNotFoundError\u001b[0m: [Errno 2] No such file or directory: 'datasets/some.csv'"
     ]
    }
   ],
   "source": [
    "# Obteniendo un diccionario {nombre_campo: valor_campo}\n",
    "import csv\n",
    "\n",
    "with open('datasets/some.csv', mode='r') as csv_file: \n",
    "    csv_reader = csv.DictReader(csv_file)\n",
    "\n",
    "    for row in csv_reader:\n",
    "        print(row)"
   ]
  },
  {
   "cell_type": "code",
   "execution_count": null,
   "metadata": {
    "slideshow": {
     "slide_type": "subslide"
    }
   },
   "outputs": [],
   "source": [
    "# crea la carpeta .eoi_solutions si no existe para guardar los ficheros generados\n",
    "import os\n",
    "if not os.path.exists('.eoi_solutions'):\n",
    "    os.makedirs('.eoi_solutions')"
   ]
  },
  {
   "cell_type": "code",
   "execution_count": 5,
   "metadata": {
    "slideshow": {
     "slide_type": "subslide"
    }
   },
   "outputs": [],
   "source": [
    "# Escribir a partir de una lista de valores\n",
    "import csv\n",
    "\n",
    "with open('.eoi_solutions/employee.csv', mode='w') as csv_file:\n",
    "    employee_writer = csv.writer(csv_file)\n",
    "\n",
    "    employee_writer.writerow(['John Smith', 'Accounting', 'November'])\n",
    "    employee_writer.writerow(['Erica Meyers', 'IT', 'March'])"
   ]
  },
  {
   "cell_type": "code",
   "execution_count": null,
   "metadata": {
    "slideshow": {
     "slide_type": "subslide"
    }
   },
   "outputs": [],
   "source": [
    "# Escribir a partir de un diccionario {nombre_campo: valor_campo}\n",
    "import csv\n",
    "\n",
    "with open('.eoi_solutions/employee2.csv', mode='w') as csv_file:\n",
    "    fieldnames = ['emp_name', 'dept', 'birth_month']\n",
    "    writer = csv.DictWriter(csv_file, fieldnames=fieldnames)\n",
    "\n",
    "    writer.writeheader()\n",
    "    writer.writerow({'emp_name': 'John Smith', 'dept': 'Accounting', 'birth_month': 'November'})\n",
    "    writer.writerow({'birth_month': 'March', 'dept': 'IT', 'emp_name': 'Erica Meyers'})"
   ]
  },
  {
   "cell_type": "markdown",
   "metadata": {
    "slideshow": {
     "slide_type": "slide"
    }
   },
   "source": [
    "## JSON"
   ]
  },
  {
   "cell_type": "code",
   "execution_count": 6,
   "metadata": {
    "slideshow": {
     "slide_type": "subslide"
    }
   },
   "outputs": [
    {
     "name": "stdout",
     "output_type": "stream",
     "text": [
      "[{'email': 'avignaux0@unc.edu',\n",
      "  'first_name': 'Anne',\n",
      "  'gender': 'Genderqueer',\n",
      "  'id': 1,\n",
      "  'ip_address': '63.46.253.42',\n",
      "  'last_name': 'Vignaux'},\n",
      " {'email': 'byepiskov1@fc2.com',\n",
      "  'first_name': 'Brittani',\n",
      "  'gender': 'Bigender',\n",
      "  'id': 2,\n",
      "  'ip_address': '149.228.251.148',\n",
      "  'last_name': 'Yepiskov'},\n",
      " {'email': 'midenden2@patch.com',\n",
      "  'first_name': 'Mirna',\n",
      "  'gender': 'Male',\n",
      "  'id': 3,\n",
      "  'ip_address': '56.78.154.172',\n",
      "  'last_name': 'Idenden'},\n",
      " {'email': 'ylicquorish3@freewebs.com',\n",
      "  'first_name': 'Yvor',\n",
      "  'gender': 'Female',\n",
      "  'id': 4,\n",
      "  'ip_address': '99.105.249.213',\n",
      "  'last_name': 'Licquorish'},\n",
      " {'email': 'scrannell4@marketwatch.com',\n",
      "  'first_name': 'Sayre',\n",
      "  'gender': 'Genderqueer',\n",
      "  'id': 5,\n",
      "  'ip_address': '115.126.112.163',\n",
      "  'last_name': 'Crannell'},\n",
      " {'email': 'jcollacombe5@springer.com',\n",
      "  'first_name': 'Jacquenetta',\n",
      "  'gender': 'Non-binary',\n",
      "  'id': 6,\n",
      "  'ip_address': '182.166.87.162',\n",
      "  'last_name': 'Collacombe'},\n",
      " {'email': 'mkrahl6@myspace.com',\n",
      "  'first_name': 'Miguel',\n",
      "  'gender': 'Agender',\n",
      "  'id': 7,\n",
      "  'ip_address': '214.33.215.37',\n",
      "  'last_name': 'Krahl'},\n",
      " {'email': 'chattiff7@feedburner.com',\n",
      "  'first_name': 'Clementia',\n",
      "  'gender': 'Genderfluid',\n",
      "  'id': 8,\n",
      "  'ip_address': '185.252.241.17',\n",
      "  'last_name': 'Hattiff'},\n",
      " {'email': 'aitzig8@who.int',\n",
      "  'first_name': 'Andrey',\n",
      "  'gender': 'Genderqueer',\n",
      "  'id': 9,\n",
      "  'ip_address': '163.129.161.151',\n",
      "  'last_name': 'Itzig'},\n",
      " {'email': 'jalexandrescu9@hugedomains.com',\n",
      "  'first_name': 'Junina',\n",
      "  'gender': 'Genderqueer',\n",
      "  'id': 10,\n",
      "  'ip_address': '47.64.172.154',\n",
      "  'last_name': 'Alexandrescu'}]\n"
     ]
    }
   ],
   "source": [
    "import json\n",
    "from pprint import pprint\n",
    "\n",
    "# read file\n",
    "with open('datasets/some.json', 'r') as json_file:\n",
    "    json_content = json.load(json_file)\n",
    "    pprint(json_content)\n"
   ]
  },
  {
   "cell_type": "code",
   "execution_count": 7,
   "metadata": {
    "slideshow": {
     "slide_type": "subslide"
    }
   },
   "outputs": [],
   "source": [
    "import json\n",
    "\n",
    "json_content = [\n",
    "    {'emp_name': 'John Smith', 'dept': 'Accounting', 'birth_month': 'November'},\n",
    "    {'birth_month': 'March', 'dept': 'IT', 'emp_name': 'Erica Meyers'}\n",
    "]\n",
    "\n",
    "with open(\".eoi_solutions/employee.json\", \"w\") as write_file:\n",
    "    json.dump(json_content, write_file)"
   ]
  },
  {
   "cell_type": "code",
   "execution_count": 1,
   "metadata": {
    "slideshow": {
     "slide_type": "-"
    }
   },
   "outputs": [],
   "source": [
    "from pprint import pprint"
   ]
  },
  {
   "cell_type": "code",
   "execution_count": 3,
   "metadata": {
    "slideshow": {
     "slide_type": "subslide"
    }
   },
   "outputs": [
    {
     "name": "stdout",
     "output_type": "stream",
     "text": [
      "[{'email': 'avignaux0@unc.edu', 'first_name': 'Anne', 'gender': 'Genderqueer', 'id': 1, 'ip_address': '63.46.253.42', 'last_name': 'Vignaux'}, {'email': 'byepiskov1@fc2.com', 'first_name': 'Brittani', 'gender': 'Bigender', 'id': 2, 'ip_address': '149.228.251.148', 'last_name': 'Yepiskov'}, {'email': 'midenden2@patch.com', 'first_name': 'Mirna', 'gender': 'Male', 'id': 3, 'ip_address': '56.78.154.172', 'last_name': 'Idenden'}, {'email': 'ylicquorish3@freewebs.com', 'first_name': 'Yvor', 'gender': 'Female', 'id': 4, 'ip_address': '99.105.249.213', 'last_name': 'Licquorish'}, {'email': 'scrannell4@marketwatch.com', 'first_name': 'Sayre', 'gender': 'Genderqueer', 'id': 5, 'ip_address': '115.126.112.163', 'last_name': 'Crannell'}, {'email': 'jcollacombe5@springer.com', 'first_name': 'Jacquenetta', 'gender': 'Non-binary', 'id': 6, 'ip_address': '182.166.87.162', 'last_name': 'Collacombe'}, {'email': 'mkrahl6@myspace.com', 'first_name': 'Miguel', 'gender': 'Agender', 'id': 7, 'ip_address': '214.33.215.37', 'last_name': 'Krahl'}, {'email': 'chattiff7@feedburner.com', 'first_name': 'Clementia', 'gender': 'Genderfluid', 'id': 8, 'ip_address': '185.252.241.17', 'last_name': 'Hattiff'}, {'email': 'aitzig8@who.int', 'first_name': 'Andrey', 'gender': 'Genderqueer', 'id': 9, 'ip_address': '163.129.161.151', 'last_name': 'Itzig'}, {'email': 'jalexandrescu9@hugedomains.com', 'first_name': 'Junina', 'gender': 'Genderqueer', 'id': 10, 'ip_address': '47.64.172.154', 'last_name': 'Alexandrescu'}]\n"
     ]
    }
   ],
   "source": [
    "print([{'email': 'avignaux0@unc.edu',\n",
    "  'first_name': 'Anne',\n",
    "  'gender': 'Genderqueer',\n",
    "  'id': 1,\n",
    "  'ip_address': '63.46.253.42',\n",
    "  'last_name': 'Vignaux'},\n",
    " {'email': 'byepiskov1@fc2.com',\n",
    "  'first_name': 'Brittani',\n",
    "  'gender': 'Bigender',\n",
    "  'id': 2,\n",
    "  'ip_address': '149.228.251.148',\n",
    "  'last_name': 'Yepiskov'},\n",
    " {'email': 'midenden2@patch.com',\n",
    "  'first_name': 'Mirna',\n",
    "  'gender': 'Male',\n",
    "  'id': 3,\n",
    "  'ip_address': '56.78.154.172',\n",
    "  'last_name': 'Idenden'},\n",
    " {'email': 'ylicquorish3@freewebs.com',\n",
    "  'first_name': 'Yvor',\n",
    "  'gender': 'Female',\n",
    "  'id': 4,\n",
    "  'ip_address': '99.105.249.213',\n",
    "  'last_name': 'Licquorish'},\n",
    " {'email': 'scrannell4@marketwatch.com',\n",
    "  'first_name': 'Sayre',\n",
    "  'gender': 'Genderqueer',\n",
    "  'id': 5,\n",
    "  'ip_address': '115.126.112.163',\n",
    "  'last_name': 'Crannell'},\n",
    " {'email': 'jcollacombe5@springer.com',\n",
    "  'first_name': 'Jacquenetta',\n",
    "  'gender': 'Non-binary',\n",
    "  'id': 6,\n",
    "  'ip_address': '182.166.87.162',\n",
    "  'last_name': 'Collacombe'},\n",
    " {'email': 'mkrahl6@myspace.com',\n",
    "  'first_name': 'Miguel',\n",
    "  'gender': 'Agender',\n",
    "  'id': 7,\n",
    "  'ip_address': '214.33.215.37',\n",
    "  'last_name': 'Krahl'},\n",
    " {'email': 'chattiff7@feedburner.com',\n",
    "  'first_name': 'Clementia',\n",
    "  'gender': 'Genderfluid',\n",
    "  'id': 8,\n",
    "  'ip_address': '185.252.241.17',\n",
    "  'last_name': 'Hattiff'},\n",
    " {'email': 'aitzig8@who.int',\n",
    "  'first_name': 'Andrey',\n",
    "  'gender': 'Genderqueer',\n",
    "  'id': 9,\n",
    "  'ip_address': '163.129.161.151',\n",
    "  'last_name': 'Itzig'},\n",
    " {'email': 'jalexandrescu9@hugedomains.com',\n",
    "  'first_name': 'Junina',\n",
    "  'gender': 'Genderqueer',\n",
    "  'id': 10,\n",
    "  'ip_address': '47.64.172.154',\n",
    "  'last_name': 'Alexandrescu'}])"
   ]
  }
 ],
 "metadata": {
  "celltoolbar": "Slideshow",
  "kernelspec": {
   "display_name": "Python 3 (ipykernel)",
   "language": "python",
   "name": "python3"
  },
  "language_info": {
   "codemirror_mode": {
    "name": "ipython",
    "version": 3
   },
   "file_extension": ".py",
   "mimetype": "text/x-python",
   "name": "python",
   "nbconvert_exporter": "python",
   "pygments_lexer": "ipython3",
   "version": "3.8.10"
  }
 },
 "nbformat": 4,
 "nbformat_minor": 2
}
